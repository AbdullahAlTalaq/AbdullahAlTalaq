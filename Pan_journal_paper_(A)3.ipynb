{
  "nbformat": 4,
  "nbformat_minor": 0,
  "metadata": {
    "colab": {
      "provenance": [],
      "authorship_tag": "ABX9TyNWKO25Jclgoz8ynfrPbE0s",
      "include_colab_link": true
    },
    "kernelspec": {
      "name": "python3",
      "display_name": "Python 3"
    },
    "language_info": {
      "name": "python"
    }
  },
  "cells": [
    {
      "cell_type": "markdown",
      "metadata": {
        "id": "view-in-github",
        "colab_type": "text"
      },
      "source": [
        "<a href=\"https://colab.research.google.com/github/AbdullahAlTalaq/AbdullahAlTalaq/blob/main/Pan_journal_paper_(A)3.ipynb\" target=\"_parent\"><img src=\"https://colab.research.google.com/assets/colab-badge.svg\" alt=\"Open In Colab\"/></a>"
      ]
    },
    {
      "cell_type": "code",
      "execution_count": 5,
      "metadata": {
        "id": "cB6zwLEz_JG0"
      },
      "outputs": [],
      "source": [
        "# Importing necessary libraries for machine learning\n",
        "import pandas as pd\n",
        "import numpy as np\n",
        "import matplotlib.pyplot as plt\n",
        "import seaborn as sns\n",
        "from sklearn.preprocessing import StandardScaler, OneHotEncoder, LabelEncoder, MinMaxScaler\n",
        "from sklearn.model_selection import train_test_split\n",
        "from sklearn.metrics import confusion_matrix, classification_report\n",
        "from sklearn.model_selection import train_test_split\n",
        "from sklearn.model_selection import GridSearchCV\n",
        "from sklearn.metrics import f1_score\n",
        "from sklearn.model_selection import StratifiedKFold\n",
        "from sklearn.model_selection import train_test_split\n",
        "from sklearn.model_selection import GridSearchCV\n",
        "from sklearn.metrics import accuracy_score, precision_score, recall_score, f1_score\n",
        "from sklearn.model_selection import StratifiedKFold\n",
        "# classifiers\n",
        "from sklearn.svm import SVC\n",
        "from sklearn.neighbors import KNeighborsClassifier\n",
        "from sklearn.linear_model import LogisticRegression\n",
        "from sklearn.naive_bayes import GaussianNB\n",
        "from sklearn.tree import DecisionTreeClassifier\n",
        "from sklearn.ensemble import RandomForestClassifier\n",
        "from sklearn.model_selection import train_test_split\n",
        "from sklearn.metrics import accuracy_score\n",
        "\n",
        "# Importing imbalanced learning libraries\n",
        "from imblearn.over_sampling import SMOTE, RandomOverSampler, ADASYN, BorderlineSMOTE\n",
        "from imblearn.over_sampling import SVMSMOTE, SMOTEN, SMOTENC, KMeansSMOTE\n",
        "from imblearn.under_sampling import RandomUnderSampler, TomekLinks, OneSidedSelection, NeighbourhoodCleaningRule\n",
        "from imblearn.under_sampling import CondensedNearestNeighbour, ClusterCentroids, NearMiss\n",
        "from imblearn.under_sampling import OneSidedSelection, EditedNearestNeighbours, RepeatedEditedNearestNeighbours\n",
        "import numpy as np\n",
        "import pandas as pd\n",
        "from sklearn.datasets import load_iris\n",
        "from sklearn.tree import DecisionTreeClassifier\n",
        "from sklearn.model_selection import train_test_split\n",
        "from imblearn.over_sampling import SMOTE\n",
        "# Scaling technique\n",
        "scaler = StandardScaler()\n",
        "\n",
        "# Oversampling techniques (8)\n",
        "smote = SMOTE()\n",
        "ros = RandomOverSampler()\n",
        "adasyn = ADASYN()\n",
        "borderlinessmote = BorderlineSMOTE()\n",
        "svmsmote = SVMSMOTE()\n",
        "smoten = SMOTEN()\n",
        "smotenc = SMOTENC(categorical_features=False)\n",
        "kmeanssmote = KMeansSMOTE()\n",
        "\n",
        "# Undersampling techniques (10)\n",
        "randomundersampling = RandomUnderSampler()\n",
        "tomeklinks = TomekLinks()\n",
        "onesidedselection = OneSidedSelection()\n",
        "neighbourhoddcleaningrule = NeighbourhoodCleaningRule()\n",
        "condensednearestneighbour = CondensedNearestNeighbour()\n",
        "clustercentroids = ClusterCentroids()\n",
        "nearmiss = NearMiss()\n",
        "onesidedselection = OneSidedSelection()\n",
        "editednearestneighbours = EditedNearestNeighbours()\n",
        "repeatededitednearestneighbours = RepeatedEditedNearestNeighbours()\n"
      ]
    },
    {
      "cell_type": "code",
      "source": [
        "def stratified_cv(classifier, X_train, y_train):\n",
        "    skf = StratifiedKFold(n_splits=6, shuffle=True, random_state=42)\n",
        "    accuracy_scores = []\n",
        "    precision_scores = []\n",
        "    recall_scores = []\n",
        "    f1_scores = []\n",
        "\n",
        "    for train_index, test_index in skf.split(X_train, y_train):\n",
        "        X_train_fold, X_test_fold = X_train.iloc[train_index], X_train.iloc[test_index]\n",
        "        y_train_fold, y_test_fold = y_train.iloc[train_index], y_train.iloc[test_index]\n",
        "\n",
        "        classifier.fit(X_train_fold, y_train_fold)\n",
        "        y_pred = classifier.predict(X_test_fold)\n",
        "\n",
        "        accuracy_scores.append(accuracy_score(y_test_fold, y_pred))\n",
        "        precision_scores.append(precision_score(y_test_fold, y_pred, average='weighted'))\n",
        "        recall_scores.append(recall_score(y_test_fold, y_pred, average='weighted'))\n",
        "        f1_scores.append(f1_score(y_test_fold, y_pred, average='weighted'))\n",
        "\n",
        "    print(f'Average Accuracy: {sum(accuracy_scores) / 5}')\n",
        "    print(f'Average Precision: {sum(precision_scores) / 5}')\n",
        "    print(f'Average Recall: {sum(recall_scores) / 5}')\n",
        "    print(f'Average F1 Score: {sum(f1_scores) / 5}')\n",
        "\n",
        "def grid_search_and_fit(classifier, param_grid, X, y, verbosity=2):\n",
        "    # Split the data into training and testing sets\n",
        "    X_train, X_test, y_train, y_test = train_test_split(X, y, test_size=0.1, stratify=y, random_state=42)\n",
        "\n",
        "    # Print results before tuning\n",
        "    print(\"Model results with default hyperparameters\")\n",
        "    stratified_cv(classifier, X_train, y_train)\n",
        "\n",
        "    # Perform grid search\n",
        "    grid_search = GridSearchCV(classifier, param_grid, cv=3, verbose=verbosity, scoring=\"f1_weighted\")\n",
        "    grid_search.fit(X_train, y_train)\n",
        "\n",
        "    # Get the best parameters\n",
        "    best_params = grid_search.best_params_\n",
        "\n",
        "    # Fit the classifier with the best parameters\n",
        "    classifier.set_params(**best_params)\n",
        "    classifier.fit(X_train, y_train)\n",
        "\n",
        "    # Print results after hyperparameter tuning\n",
        "    print(\"\\n\\nModel results after hyperparameter tuning\")\n",
        "    stratified_cv(classifier, X_train, y_train)"
      ],
      "metadata": {
        "id": "29wmpJF1_NJV"
      },
      "execution_count": 72,
      "outputs": []
    },
    {
      "cell_type": "code",
      "source": [
        "# Define and test grid_search_and_fit function\n",
        "def test_grid_search_and_fit(classifier, param_grid, X, y):\n",
        "    grid_search_and_fit(classifier, param_grid, X, y, verbosity=2)"
      ],
      "metadata": {
        "id": "H299fJwW_QEL"
      },
      "execution_count": 28,
      "outputs": []
    },
    {
      "cell_type": "code",
      "source": [
        "df =pd.read_csv('/content/Debernardi et al 2020 data.csv')"
      ],
      "metadata": {
        "id": "QuuzWq66_V5N"
      },
      "execution_count": 29,
      "outputs": []
    },
    {
      "cell_type": "code",
      "source": [
        "df = df.drop(['sample_id', 'patient_cohort', 'sample_origin'], axis=1)"
      ],
      "metadata": {
        "id": "rxIvXb_2_ZM8"
      },
      "execution_count": 30,
      "outputs": []
    },
    {
      "cell_type": "code",
      "source": [
        "df['sex'] = df['sex'].map({'M': 1, 'F': 0})"
      ],
      "metadata": {
        "id": "ndkJPQIL_azD"
      },
      "execution_count": 31,
      "outputs": []
    },
    {
      "cell_type": "code",
      "source": [
        "df.loc[df['diagnosis'].isin([3, 2]), 'diagnosis'] = 0"
      ],
      "metadata": {
        "id": "2ftE70-T_c18"
      },
      "execution_count": 32,
      "outputs": []
    },
    {
      "cell_type": "code",
      "source": [
        "stage_mapping = {\n",
        "    'I': 1,\n",
        "    'IA': 2,\n",
        "    'IB': 3,\n",
        "    'II': 4,\n",
        "    'IIA': 5,\n",
        "    'IIB': 6,\n",
        "    'III': 7,\n",
        "    'IV': 8\n",
        "}\n",
        "\n",
        "df['stage'] = df['stage'].map(stage_mapping)"
      ],
      "metadata": {
        "id": "yPfplX8R_qRJ"
      },
      "execution_count": 33,
      "outputs": []
    },
    {
      "cell_type": "code",
      "source": [
        "df_mean = df.fillna(df.mean())"
      ],
      "metadata": {
        "colab": {
          "base_uri": "https://localhost:8080/"
        },
        "id": "fSVHyVYC_sMO",
        "outputId": "84d4a5d3-154b-4ce1-d863-7286430b472b"
      },
      "execution_count": 34,
      "outputs": [
        {
          "output_type": "stream",
          "name": "stderr",
          "text": [
            "<ipython-input-34-19360f3909b6>:1: FutureWarning: The default value of numeric_only in DataFrame.mean is deprecated. In a future version, it will default to False. In addition, specifying 'numeric_only=None' is deprecated. Select only valid columns or specify the value of numeric_only to silence this warning.\n",
            "  df_mean = df.fillna(df.mean())\n"
          ]
        }
      ]
    },
    {
      "cell_type": "code",
      "source": [
        "df_mean = df_mean.drop(['benign_sample_diagnosis'], axis=1)"
      ],
      "metadata": {
        "id": "QNvGYuwt_tmt"
      },
      "execution_count": 35,
      "outputs": []
    },
    {
      "cell_type": "code",
      "source": [
        "from sklearn.impute import KNNImputer\n",
        "from sklearn.impute import SimpleImputer\n",
        "df_knn_imputed=df.copy()\n",
        "imputer = SimpleImputer(strategy='mean')\n",
        "df_knn_imputed[['REG1A', 'plasma_CA19_9']] = imputer.fit_transform(df[['REG1A', 'plasma_CA19_9']])\n",
        "features = ['age', 'sex', 'diagnosis', 'plasma_CA19_9', 'creatinine', 'LYVE1', 'REG1B', 'TFF1', 'REG1A']\n",
        "knn_imputer = KNNImputer(n_neighbors=10)\n",
        "missing_stage_index = df_knn_imputed[df_knn_imputed['stage'].isnull()].index\n",
        "\n",
        "imputed_values = knn_imputer.fit_transform(df[features + ['stage']])\n",
        "df_knn_imputed.loc[missing_stage_index, 'stage'] = imputed_values[missing_stage_index, -1]"
      ],
      "metadata": {
        "id": "ICfarOUq_u7G"
      },
      "execution_count": 36,
      "outputs": []
    },
    {
      "cell_type": "code",
      "source": [
        "df_knn_imputed = df_knn_imputed.drop(['benign_sample_diagnosis'], axis=1)"
      ],
      "metadata": {
        "id": "my1nDexI_wS9"
      },
      "execution_count": 37,
      "outputs": []
    },
    {
      "cell_type": "code",
      "source": [
        "df_mean['stage'] = df_mean['stage'].astype('int64')\n",
        "df_knn_imputed['stage']=df_knn_imputed['stage'].astype('int64')\n"
      ],
      "metadata": {
        "id": "2c3WTz9B_yG-"
      },
      "execution_count": 38,
      "outputs": []
    },
    {
      "cell_type": "code",
      "source": [
        "df_mean['diagnosis'].unique()"
      ],
      "metadata": {
        "colab": {
          "base_uri": "https://localhost:8080/"
        },
        "id": "ue2WvLXl_zJ5",
        "outputId": "17058d09-ef7b-405e-f49c-962e14060efd"
      },
      "execution_count": 39,
      "outputs": [
        {
          "output_type": "execute_result",
          "data": {
            "text/plain": [
              "array([1, 0])"
            ]
          },
          "metadata": {},
          "execution_count": 39
        }
      ]
    },
    {
      "cell_type": "markdown",
      "source": [
        "#df_mean"
      ],
      "metadata": {
        "id": "LvNQ27X_BcKq"
      }
    },
    {
      "cell_type": "code",
      "source": [
        "X = df_mean.drop(columns=['diagnosis', 'stage', 'plasma_CA19_9'])\n",
        "y = df_mean['diagnosis']  # Target variable\n",
        "\n",
        "\n",
        "\n",
        "# Define the parameter grid for DecisionTreeClassifier\n",
        "dt_param_grid = {\n",
        "    'criterion': ['gini', 'entropy'],\n",
        "    'splitter': ['best', 'random'],\n",
        "    'max_depth': [None, 5, 10, 20],\n",
        "    'min_samples_split': [2, 5, 10],\n",
        "    'min_samples_leaf': [1, 2, 3],\n",
        "    'max_features': [None, 'sqrt', 'log2'],\n",
        "    'random_state': [42]\n",
        "}\n",
        "test_grid_search_and_fit(\n",
        "    classifier=DecisionTreeClassifier(),\n",
        "    param_grid=dt_param_grid,\n",
        "    X=X,\n",
        "    y=y\n",
        ")"
      ],
      "metadata": {
        "colab": {
          "base_uri": "https://localhost:8080/"
        },
        "id": "a1CRh-jgAGkR",
        "outputId": "044617c1-d9d8-4ef1-aef3-bdc42e920a67"
      },
      "execution_count": 50,
      "outputs": [
        {
          "output_type": "stream",
          "name": "stdout",
          "text": [
            "Model results with default hyperparameters\n",
            "Average Accuracy: 0.8947650663942799\n",
            "Average Precision: 0.8934590937155826\n",
            "Average Recall: 0.8947650663942799\n",
            "Average F1 Score: 0.8900687313113901\n",
            "Fitting 3 folds for each of 432 candidates, totalling 1296 fits\n",
            "[CV] END criterion=gini, max_depth=None, max_features=None, min_samples_leaf=1, min_samples_split=2, random_state=42, splitter=best; total time=   0.0s\n",
            "[CV] END criterion=gini, max_depth=None, max_features=None, min_samples_leaf=1, min_samples_split=2, random_state=42, splitter=best; total time=   0.0s\n",
            "[CV] END criterion=gini, max_depth=None, max_features=None, min_samples_leaf=1, min_samples_split=2, random_state=42, splitter=best; total time=   0.0s\n",
            "[CV] END criterion=gini, max_depth=None, max_features=None, min_samples_leaf=1, min_samples_split=2, random_state=42, splitter=random; total time=   0.0s\n",
            "[CV] END criterion=gini, max_depth=None, max_features=None, min_samples_leaf=1, min_samples_split=2, random_state=42, splitter=random; total time=   0.0s\n",
            "[CV] END criterion=gini, max_depth=None, max_features=None, min_samples_leaf=1, min_samples_split=2, random_state=42, splitter=random; total time=   0.0s\n",
            "[CV] END criterion=gini, max_depth=None, max_features=None, min_samples_leaf=1, min_samples_split=5, random_state=42, splitter=best; total time=   0.0s\n",
            "[CV] END criterion=gini, max_depth=None, max_features=None, min_samples_leaf=1, min_samples_split=5, random_state=42, splitter=best; total time=   0.0s\n",
            "[CV] END criterion=gini, max_depth=None, max_features=None, min_samples_leaf=1, min_samples_split=5, random_state=42, splitter=best; total time=   0.0s\n",
            "[CV] END criterion=gini, max_depth=None, max_features=None, min_samples_leaf=1, min_samples_split=5, random_state=42, splitter=random; total time=   0.0s\n",
            "[CV] END criterion=gini, max_depth=None, max_features=None, min_samples_leaf=1, min_samples_split=5, random_state=42, splitter=random; total time=   0.0s\n",
            "[CV] END criterion=gini, max_depth=None, max_features=None, min_samples_leaf=1, min_samples_split=5, random_state=42, splitter=random; total time=   0.0s\n",
            "[CV] END criterion=gini, max_depth=None, max_features=None, min_samples_leaf=1, min_samples_split=10, random_state=42, splitter=best; total time=   0.0s\n",
            "[CV] END criterion=gini, max_depth=None, max_features=None, min_samples_leaf=1, min_samples_split=10, random_state=42, splitter=best; total time=   0.0s\n",
            "[CV] END criterion=gini, max_depth=None, max_features=None, min_samples_leaf=1, min_samples_split=10, random_state=42, splitter=best; total time=   0.0s\n",
            "[CV] END criterion=gini, max_depth=None, max_features=None, min_samples_leaf=1, min_samples_split=10, random_state=42, splitter=random; total time=   0.0s\n",
            "[CV] END criterion=gini, max_depth=None, max_features=None, min_samples_leaf=1, min_samples_split=10, random_state=42, splitter=random; total time=   0.0s\n",
            "[CV] END criterion=gini, max_depth=None, max_features=None, min_samples_leaf=1, min_samples_split=10, random_state=42, splitter=random; total time=   0.0s\n",
            "[CV] END criterion=gini, max_depth=None, max_features=None, min_samples_leaf=2, min_samples_split=2, random_state=42, splitter=best; total time=   0.0s\n",
            "[CV] END criterion=gini, max_depth=None, max_features=None, min_samples_leaf=2, min_samples_split=2, random_state=42, splitter=best; total time=   0.0s\n",
            "[CV] END criterion=gini, max_depth=None, max_features=None, min_samples_leaf=2, min_samples_split=2, random_state=42, splitter=best; total time=   0.0s\n",
            "[CV] END criterion=gini, max_depth=None, max_features=None, min_samples_leaf=2, min_samples_split=2, random_state=42, splitter=random; total time=   0.0s\n",
            "[CV] END criterion=gini, max_depth=None, max_features=None, min_samples_leaf=2, min_samples_split=2, random_state=42, splitter=random; total time=   0.0s\n",
            "[CV] END criterion=gini, max_depth=None, max_features=None, min_samples_leaf=2, min_samples_split=2, random_state=42, splitter=random; total time=   0.0s\n",
            "[CV] END criterion=gini, max_depth=None, max_features=None, min_samples_leaf=2, min_samples_split=5, random_state=42, splitter=best; total time=   0.0s\n",
            "[CV] END criterion=gini, max_depth=None, max_features=None, min_samples_leaf=2, min_samples_split=5, random_state=42, splitter=best; total time=   0.0s\n",
            "[CV] END criterion=gini, max_depth=None, max_features=None, min_samples_leaf=2, min_samples_split=5, random_state=42, splitter=best; total time=   0.0s\n",
            "[CV] END criterion=gini, max_depth=None, max_features=None, min_samples_leaf=2, min_samples_split=5, random_state=42, splitter=random; total time=   0.0s\n",
            "[CV] END criterion=gini, max_depth=None, max_features=None, min_samples_leaf=2, min_samples_split=5, random_state=42, splitter=random; total time=   0.0s\n",
            "[CV] END criterion=gini, max_depth=None, max_features=None, min_samples_leaf=2, min_samples_split=5, random_state=42, splitter=random; total time=   0.0s\n",
            "[CV] END criterion=gini, max_depth=None, max_features=None, min_samples_leaf=2, min_samples_split=10, random_state=42, splitter=best; total time=   0.0s\n",
            "[CV] END criterion=gini, max_depth=None, max_features=None, min_samples_leaf=2, min_samples_split=10, random_state=42, splitter=best; total time=   0.0s\n",
            "[CV] END criterion=gini, max_depth=None, max_features=None, min_samples_leaf=2, min_samples_split=10, random_state=42, splitter=best; total time=   0.0s\n",
            "[CV] END criterion=gini, max_depth=None, max_features=None, min_samples_leaf=2, min_samples_split=10, random_state=42, splitter=random; total time=   0.0s\n",
            "[CV] END criterion=gini, max_depth=None, max_features=None, min_samples_leaf=2, min_samples_split=10, random_state=42, splitter=random; total time=   0.0s\n",
            "[CV] END criterion=gini, max_depth=None, max_features=None, min_samples_leaf=2, min_samples_split=10, random_state=42, splitter=random; total time=   0.0s\n",
            "[CV] END criterion=gini, max_depth=None, max_features=None, min_samples_leaf=3, min_samples_split=2, random_state=42, splitter=best; total time=   0.0s\n",
            "[CV] END criterion=gini, max_depth=None, max_features=None, min_samples_leaf=3, min_samples_split=2, random_state=42, splitter=best; total time=   0.0s\n",
            "[CV] END criterion=gini, max_depth=None, max_features=None, min_samples_leaf=3, min_samples_split=2, random_state=42, splitter=best; total time=   0.0s\n",
            "[CV] END criterion=gini, max_depth=None, max_features=None, min_samples_leaf=3, min_samples_split=2, random_state=42, splitter=random; total time=   0.0s\n",
            "[CV] END criterion=gini, max_depth=None, max_features=None, min_samples_leaf=3, min_samples_split=2, random_state=42, splitter=random; total time=   0.0s\n",
            "[CV] END criterion=gini, max_depth=None, max_features=None, min_samples_leaf=3, min_samples_split=2, random_state=42, splitter=random; total time=   0.0s\n",
            "[CV] END criterion=gini, max_depth=None, max_features=None, min_samples_leaf=3, min_samples_split=5, random_state=42, splitter=best; total time=   0.0s\n",
            "[CV] END criterion=gini, max_depth=None, max_features=None, min_samples_leaf=3, min_samples_split=5, random_state=42, splitter=best; total time=   0.0s\n",
            "[CV] END criterion=gini, max_depth=None, max_features=None, min_samples_leaf=3, min_samples_split=5, random_state=42, splitter=best; total time=   0.0s\n",
            "[CV] END criterion=gini, max_depth=None, max_features=None, min_samples_leaf=3, min_samples_split=5, random_state=42, splitter=random; total time=   0.0s\n",
            "[CV] END criterion=gini, max_depth=None, max_features=None, min_samples_leaf=3, min_samples_split=5, random_state=42, splitter=random; total time=   0.0s\n",
            "[CV] END criterion=gini, max_depth=None, max_features=None, min_samples_leaf=3, min_samples_split=5, random_state=42, splitter=random; total time=   0.0s\n",
            "[CV] END criterion=gini, max_depth=None, max_features=None, min_samples_leaf=3, min_samples_split=10, random_state=42, splitter=best; total time=   0.0s\n",
            "[CV] END criterion=gini, max_depth=None, max_features=None, min_samples_leaf=3, min_samples_split=10, random_state=42, splitter=best; total time=   0.0s\n",
            "[CV] END criterion=gini, max_depth=None, max_features=None, min_samples_leaf=3, min_samples_split=10, random_state=42, splitter=best; total time=   0.0s\n",
            "[CV] END criterion=gini, max_depth=None, max_features=None, min_samples_leaf=3, min_samples_split=10, random_state=42, splitter=random; total time=   0.0s\n",
            "[CV] END criterion=gini, max_depth=None, max_features=None, min_samples_leaf=3, min_samples_split=10, random_state=42, splitter=random; total time=   0.0s\n",
            "[CV] END criterion=gini, max_depth=None, max_features=None, min_samples_leaf=3, min_samples_split=10, random_state=42, splitter=random; total time=   0.0s\n",
            "[CV] END criterion=gini, max_depth=None, max_features=sqrt, min_samples_leaf=1, min_samples_split=2, random_state=42, splitter=best; total time=   0.0s\n",
            "[CV] END criterion=gini, max_depth=None, max_features=sqrt, min_samples_leaf=1, min_samples_split=2, random_state=42, splitter=best; total time=   0.0s\n",
            "[CV] END criterion=gini, max_depth=None, max_features=sqrt, min_samples_leaf=1, min_samples_split=2, random_state=42, splitter=best; total time=   0.0s\n",
            "[CV] END criterion=gini, max_depth=None, max_features=sqrt, min_samples_leaf=1, min_samples_split=2, random_state=42, splitter=random; total time=   0.0s\n",
            "[CV] END criterion=gini, max_depth=None, max_features=sqrt, min_samples_leaf=1, min_samples_split=2, random_state=42, splitter=random; total time=   0.0s\n",
            "[CV] END criterion=gini, max_depth=None, max_features=sqrt, min_samples_leaf=1, min_samples_split=2, random_state=42, splitter=random; total time=   0.0s\n",
            "[CV] END criterion=gini, max_depth=None, max_features=sqrt, min_samples_leaf=1, min_samples_split=5, random_state=42, splitter=best; total time=   0.0s\n",
            "[CV] END criterion=gini, max_depth=None, max_features=sqrt, min_samples_leaf=1, min_samples_split=5, random_state=42, splitter=best; total time=   0.0s\n",
            "[CV] END criterion=gini, max_depth=None, max_features=sqrt, min_samples_leaf=1, min_samples_split=5, random_state=42, splitter=best; total time=   0.0s\n",
            "[CV] END criterion=gini, max_depth=None, max_features=sqrt, min_samples_leaf=1, min_samples_split=5, random_state=42, splitter=random; total time=   0.0s\n",
            "[CV] END criterion=gini, max_depth=None, max_features=sqrt, min_samples_leaf=1, min_samples_split=5, random_state=42, splitter=random; total time=   0.0s\n",
            "[CV] END criterion=gini, max_depth=None, max_features=sqrt, min_samples_leaf=1, min_samples_split=5, random_state=42, splitter=random; total time=   0.0s\n",
            "[CV] END criterion=gini, max_depth=None, max_features=sqrt, min_samples_leaf=1, min_samples_split=10, random_state=42, splitter=best; total time=   0.0s\n",
            "[CV] END criterion=gini, max_depth=None, max_features=sqrt, min_samples_leaf=1, min_samples_split=10, random_state=42, splitter=best; total time=   0.0s\n",
            "[CV] END criterion=gini, max_depth=None, max_features=sqrt, min_samples_leaf=1, min_samples_split=10, random_state=42, splitter=best; total time=   0.0s\n",
            "[CV] END criterion=gini, max_depth=None, max_features=sqrt, min_samples_leaf=1, min_samples_split=10, random_state=42, splitter=random; total time=   0.0s\n",
            "[CV] END criterion=gini, max_depth=None, max_features=sqrt, min_samples_leaf=1, min_samples_split=10, random_state=42, splitter=random; total time=   0.0s\n",
            "[CV] END criterion=gini, max_depth=None, max_features=sqrt, min_samples_leaf=1, min_samples_split=10, random_state=42, splitter=random; total time=   0.0s\n",
            "[CV] END criterion=gini, max_depth=None, max_features=sqrt, min_samples_leaf=2, min_samples_split=2, random_state=42, splitter=best; total time=   0.0s\n",
            "[CV] END criterion=gini, max_depth=None, max_features=sqrt, min_samples_leaf=2, min_samples_split=2, random_state=42, splitter=best; total time=   0.0s\n",
            "[CV] END criterion=gini, max_depth=None, max_features=sqrt, min_samples_leaf=2, min_samples_split=2, random_state=42, splitter=best; total time=   0.0s\n",
            "[CV] END criterion=gini, max_depth=None, max_features=sqrt, min_samples_leaf=2, min_samples_split=2, random_state=42, splitter=random; total time=   0.0s\n",
            "[CV] END criterion=gini, max_depth=None, max_features=sqrt, min_samples_leaf=2, min_samples_split=2, random_state=42, splitter=random; total time=   0.0s\n",
            "[CV] END criterion=gini, max_depth=None, max_features=sqrt, min_samples_leaf=2, min_samples_split=2, random_state=42, splitter=random; total time=   0.0s\n",
            "[CV] END criterion=gini, max_depth=None, max_features=sqrt, min_samples_leaf=2, min_samples_split=5, random_state=42, splitter=best; total time=   0.0s\n",
            "[CV] END criterion=gini, max_depth=None, max_features=sqrt, min_samples_leaf=2, min_samples_split=5, random_state=42, splitter=best; total time=   0.0s\n",
            "[CV] END criterion=gini, max_depth=None, max_features=sqrt, min_samples_leaf=2, min_samples_split=5, random_state=42, splitter=best; total time=   0.0s\n",
            "[CV] END criterion=gini, max_depth=None, max_features=sqrt, min_samples_leaf=2, min_samples_split=5, random_state=42, splitter=random; total time=   0.0s\n",
            "[CV] END criterion=gini, max_depth=None, max_features=sqrt, min_samples_leaf=2, min_samples_split=5, random_state=42, splitter=random; total time=   0.0s\n",
            "[CV] END criterion=gini, max_depth=None, max_features=sqrt, min_samples_leaf=2, min_samples_split=5, random_state=42, splitter=random; total time=   0.0s\n",
            "[CV] END criterion=gini, max_depth=None, max_features=sqrt, min_samples_leaf=2, min_samples_split=10, random_state=42, splitter=best; total time=   0.0s\n",
            "[CV] END criterion=gini, max_depth=None, max_features=sqrt, min_samples_leaf=2, min_samples_split=10, random_state=42, splitter=best; total time=   0.0s\n",
            "[CV] END criterion=gini, max_depth=None, max_features=sqrt, min_samples_leaf=2, min_samples_split=10, random_state=42, splitter=best; total time=   0.0s\n",
            "[CV] END criterion=gini, max_depth=None, max_features=sqrt, min_samples_leaf=2, min_samples_split=10, random_state=42, splitter=random; total time=   0.0s\n",
            "[CV] END criterion=gini, max_depth=None, max_features=sqrt, min_samples_leaf=2, min_samples_split=10, random_state=42, splitter=random; total time=   0.0s\n",
            "[CV] END criterion=gini, max_depth=None, max_features=sqrt, min_samples_leaf=2, min_samples_split=10, random_state=42, splitter=random; total time=   0.0s\n",
            "[CV] END criterion=gini, max_depth=None, max_features=sqrt, min_samples_leaf=3, min_samples_split=2, random_state=42, splitter=best; total time=   0.0s\n",
            "[CV] END criterion=gini, max_depth=None, max_features=sqrt, min_samples_leaf=3, min_samples_split=2, random_state=42, splitter=best; total time=   0.0s\n",
            "[CV] END criterion=gini, max_depth=None, max_features=sqrt, min_samples_leaf=3, min_samples_split=2, random_state=42, splitter=best; total time=   0.0s\n",
            "[CV] END criterion=gini, max_depth=None, max_features=sqrt, min_samples_leaf=3, min_samples_split=2, random_state=42, splitter=random; total time=   0.0s\n",
            "[CV] END criterion=gini, max_depth=None, max_features=sqrt, min_samples_leaf=3, min_samples_split=2, random_state=42, splitter=random; total time=   0.0s\n",
            "[CV] END criterion=gini, max_depth=None, max_features=sqrt, min_samples_leaf=3, min_samples_split=2, random_state=42, splitter=random; total time=   0.0s\n",
            "[CV] END criterion=gini, max_depth=None, max_features=sqrt, min_samples_leaf=3, min_samples_split=5, random_state=42, splitter=best; total time=   0.0s\n",
            "[CV] END criterion=gini, max_depth=None, max_features=sqrt, min_samples_leaf=3, min_samples_split=5, random_state=42, splitter=best; total time=   0.0s\n",
            "[CV] END criterion=gini, max_depth=None, max_features=sqrt, min_samples_leaf=3, min_samples_split=5, random_state=42, splitter=best; total time=   0.0s\n",
            "[CV] END criterion=gini, max_depth=None, max_features=sqrt, min_samples_leaf=3, min_samples_split=5, random_state=42, splitter=random; total time=   0.0s\n",
            "[CV] END criterion=gini, max_depth=None, max_features=sqrt, min_samples_leaf=3, min_samples_split=5, random_state=42, splitter=random; total time=   0.0s\n",
            "[CV] END criterion=gini, max_depth=None, max_features=sqrt, min_samples_leaf=3, min_samples_split=5, random_state=42, splitter=random; total time=   0.0s\n",
            "[CV] END criterion=gini, max_depth=None, max_features=sqrt, min_samples_leaf=3, min_samples_split=10, random_state=42, splitter=best; total time=   0.0s\n",
            "[CV] END criterion=gini, max_depth=None, max_features=sqrt, min_samples_leaf=3, min_samples_split=10, random_state=42, splitter=best; total time=   0.0s\n",
            "[CV] END criterion=gini, max_depth=None, max_features=sqrt, min_samples_leaf=3, min_samples_split=10, random_state=42, splitter=best; total time=   0.0s\n",
            "[CV] END criterion=gini, max_depth=None, max_features=sqrt, min_samples_leaf=3, min_samples_split=10, random_state=42, splitter=random; total time=   0.0s\n",
            "[CV] END criterion=gini, max_depth=None, max_features=sqrt, min_samples_leaf=3, min_samples_split=10, random_state=42, splitter=random; total time=   0.0s\n",
            "[CV] END criterion=gini, max_depth=None, max_features=sqrt, min_samples_leaf=3, min_samples_split=10, random_state=42, splitter=random; total time=   0.0s\n",
            "[CV] END criterion=gini, max_depth=None, max_features=log2, min_samples_leaf=1, min_samples_split=2, random_state=42, splitter=best; total time=   0.0s\n",
            "[CV] END criterion=gini, max_depth=None, max_features=log2, min_samples_leaf=1, min_samples_split=2, random_state=42, splitter=best; total time=   0.0s\n",
            "[CV] END criterion=gini, max_depth=None, max_features=log2, min_samples_leaf=1, min_samples_split=2, random_state=42, splitter=best; total time=   0.0s\n",
            "[CV] END criterion=gini, max_depth=None, max_features=log2, min_samples_leaf=1, min_samples_split=2, random_state=42, splitter=random; total time=   0.0s\n",
            "[CV] END criterion=gini, max_depth=None, max_features=log2, min_samples_leaf=1, min_samples_split=2, random_state=42, splitter=random; total time=   0.0s\n",
            "[CV] END criterion=gini, max_depth=None, max_features=log2, min_samples_leaf=1, min_samples_split=2, random_state=42, splitter=random; total time=   0.0s\n",
            "[CV] END criterion=gini, max_depth=None, max_features=log2, min_samples_leaf=1, min_samples_split=5, random_state=42, splitter=best; total time=   0.0s\n",
            "[CV] END criterion=gini, max_depth=None, max_features=log2, min_samples_leaf=1, min_samples_split=5, random_state=42, splitter=best; total time=   0.0s\n",
            "[CV] END criterion=gini, max_depth=None, max_features=log2, min_samples_leaf=1, min_samples_split=5, random_state=42, splitter=best; total time=   0.0s\n",
            "[CV] END criterion=gini, max_depth=None, max_features=log2, min_samples_leaf=1, min_samples_split=5, random_state=42, splitter=random; total time=   0.0s\n",
            "[CV] END criterion=gini, max_depth=None, max_features=log2, min_samples_leaf=1, min_samples_split=5, random_state=42, splitter=random; total time=   0.0s\n",
            "[CV] END criterion=gini, max_depth=None, max_features=log2, min_samples_leaf=1, min_samples_split=5, random_state=42, splitter=random; total time=   0.0s\n",
            "[CV] END criterion=gini, max_depth=None, max_features=log2, min_samples_leaf=1, min_samples_split=10, random_state=42, splitter=best; total time=   0.0s\n",
            "[CV] END criterion=gini, max_depth=None, max_features=log2, min_samples_leaf=1, min_samples_split=10, random_state=42, splitter=best; total time=   0.0s\n",
            "[CV] END criterion=gini, max_depth=None, max_features=log2, min_samples_leaf=1, min_samples_split=10, random_state=42, splitter=best; total time=   0.0s\n",
            "[CV] END criterion=gini, max_depth=None, max_features=log2, min_samples_leaf=1, min_samples_split=10, random_state=42, splitter=random; total time=   0.0s\n",
            "[CV] END criterion=gini, max_depth=None, max_features=log2, min_samples_leaf=1, min_samples_split=10, random_state=42, splitter=random; total time=   0.0s\n",
            "[CV] END criterion=gini, max_depth=None, max_features=log2, min_samples_leaf=1, min_samples_split=10, random_state=42, splitter=random; total time=   0.0s\n",
            "[CV] END criterion=gini, max_depth=None, max_features=log2, min_samples_leaf=2, min_samples_split=2, random_state=42, splitter=best; total time=   0.0s\n",
            "[CV] END criterion=gini, max_depth=None, max_features=log2, min_samples_leaf=2, min_samples_split=2, random_state=42, splitter=best; total time=   0.0s\n",
            "[CV] END criterion=gini, max_depth=None, max_features=log2, min_samples_leaf=2, min_samples_split=2, random_state=42, splitter=best; total time=   0.0s\n",
            "[CV] END criterion=gini, max_depth=None, max_features=log2, min_samples_leaf=2, min_samples_split=2, random_state=42, splitter=random; total time=   0.0s\n",
            "[CV] END criterion=gini, max_depth=None, max_features=log2, min_samples_leaf=2, min_samples_split=2, random_state=42, splitter=random; total time=   0.0s\n",
            "[CV] END criterion=gini, max_depth=None, max_features=log2, min_samples_leaf=2, min_samples_split=2, random_state=42, splitter=random; total time=   0.0s\n",
            "[CV] END criterion=gini, max_depth=None, max_features=log2, min_samples_leaf=2, min_samples_split=5, random_state=42, splitter=best; total time=   0.0s\n",
            "[CV] END criterion=gini, max_depth=None, max_features=log2, min_samples_leaf=2, min_samples_split=5, random_state=42, splitter=best; total time=   0.0s\n",
            "[CV] END criterion=gini, max_depth=None, max_features=log2, min_samples_leaf=2, min_samples_split=5, random_state=42, splitter=best; total time=   0.0s\n",
            "[CV] END criterion=gini, max_depth=None, max_features=log2, min_samples_leaf=2, min_samples_split=5, random_state=42, splitter=random; total time=   0.0s\n",
            "[CV] END criterion=gini, max_depth=None, max_features=log2, min_samples_leaf=2, min_samples_split=5, random_state=42, splitter=random; total time=   0.0s\n",
            "[CV] END criterion=gini, max_depth=None, max_features=log2, min_samples_leaf=2, min_samples_split=5, random_state=42, splitter=random; total time=   0.0s\n",
            "[CV] END criterion=gini, max_depth=None, max_features=log2, min_samples_leaf=2, min_samples_split=10, random_state=42, splitter=best; total time=   0.0s\n",
            "[CV] END criterion=gini, max_depth=None, max_features=log2, min_samples_leaf=2, min_samples_split=10, random_state=42, splitter=best; total time=   0.0s\n",
            "[CV] END criterion=gini, max_depth=None, max_features=log2, min_samples_leaf=2, min_samples_split=10, random_state=42, splitter=best; total time=   0.0s\n",
            "[CV] END criterion=gini, max_depth=None, max_features=log2, min_samples_leaf=2, min_samples_split=10, random_state=42, splitter=random; total time=   0.0s\n",
            "[CV] END criterion=gini, max_depth=None, max_features=log2, min_samples_leaf=2, min_samples_split=10, random_state=42, splitter=random; total time=   0.0s\n",
            "[CV] END criterion=gini, max_depth=None, max_features=log2, min_samples_leaf=2, min_samples_split=10, random_state=42, splitter=random; total time=   0.0s\n",
            "[CV] END criterion=gini, max_depth=None, max_features=log2, min_samples_leaf=3, min_samples_split=2, random_state=42, splitter=best; total time=   0.0s\n",
            "[CV] END criterion=gini, max_depth=None, max_features=log2, min_samples_leaf=3, min_samples_split=2, random_state=42, splitter=best; total time=   0.0s\n",
            "[CV] END criterion=gini, max_depth=None, max_features=log2, min_samples_leaf=3, min_samples_split=2, random_state=42, splitter=best; total time=   0.0s\n",
            "[CV] END criterion=gini, max_depth=None, max_features=log2, min_samples_leaf=3, min_samples_split=2, random_state=42, splitter=random; total time=   0.0s\n",
            "[CV] END criterion=gini, max_depth=None, max_features=log2, min_samples_leaf=3, min_samples_split=2, random_state=42, splitter=random; total time=   0.0s\n",
            "[CV] END criterion=gini, max_depth=None, max_features=log2, min_samples_leaf=3, min_samples_split=2, random_state=42, splitter=random; total time=   0.0s\n",
            "[CV] END criterion=gini, max_depth=None, max_features=log2, min_samples_leaf=3, min_samples_split=5, random_state=42, splitter=best; total time=   0.0s\n",
            "[CV] END criterion=gini, max_depth=None, max_features=log2, min_samples_leaf=3, min_samples_split=5, random_state=42, splitter=best; total time=   0.0s\n",
            "[CV] END criterion=gini, max_depth=None, max_features=log2, min_samples_leaf=3, min_samples_split=5, random_state=42, splitter=best; total time=   0.0s\n",
            "[CV] END criterion=gini, max_depth=None, max_features=log2, min_samples_leaf=3, min_samples_split=5, random_state=42, splitter=random; total time=   0.0s\n",
            "[CV] END criterion=gini, max_depth=None, max_features=log2, min_samples_leaf=3, min_samples_split=5, random_state=42, splitter=random; total time=   0.0s\n",
            "[CV] END criterion=gini, max_depth=None, max_features=log2, min_samples_leaf=3, min_samples_split=5, random_state=42, splitter=random; total time=   0.0s\n",
            "[CV] END criterion=gini, max_depth=None, max_features=log2, min_samples_leaf=3, min_samples_split=10, random_state=42, splitter=best; total time=   0.0s\n",
            "[CV] END criterion=gini, max_depth=None, max_features=log2, min_samples_leaf=3, min_samples_split=10, random_state=42, splitter=best; total time=   0.0s\n",
            "[CV] END criterion=gini, max_depth=None, max_features=log2, min_samples_leaf=3, min_samples_split=10, random_state=42, splitter=best; total time=   0.0s\n",
            "[CV] END criterion=gini, max_depth=None, max_features=log2, min_samples_leaf=3, min_samples_split=10, random_state=42, splitter=random; total time=   0.0s\n",
            "[CV] END criterion=gini, max_depth=None, max_features=log2, min_samples_leaf=3, min_samples_split=10, random_state=42, splitter=random; total time=   0.0s\n",
            "[CV] END criterion=gini, max_depth=None, max_features=log2, min_samples_leaf=3, min_samples_split=10, random_state=42, splitter=random; total time=   0.0s\n",
            "[CV] END criterion=gini, max_depth=5, max_features=None, min_samples_leaf=1, min_samples_split=2, random_state=42, splitter=best; total time=   0.0s\n",
            "[CV] END criterion=gini, max_depth=5, max_features=None, min_samples_leaf=1, min_samples_split=2, random_state=42, splitter=best; total time=   0.0s\n",
            "[CV] END criterion=gini, max_depth=5, max_features=None, min_samples_leaf=1, min_samples_split=2, random_state=42, splitter=best; total time=   0.0s\n",
            "[CV] END criterion=gini, max_depth=5, max_features=None, min_samples_leaf=1, min_samples_split=2, random_state=42, splitter=random; total time=   0.0s\n",
            "[CV] END criterion=gini, max_depth=5, max_features=None, min_samples_leaf=1, min_samples_split=2, random_state=42, splitter=random; total time=   0.0s\n",
            "[CV] END criterion=gini, max_depth=5, max_features=None, min_samples_leaf=1, min_samples_split=2, random_state=42, splitter=random; total time=   0.0s\n",
            "[CV] END criterion=gini, max_depth=5, max_features=None, min_samples_leaf=1, min_samples_split=5, random_state=42, splitter=best; total time=   0.0s\n",
            "[CV] END criterion=gini, max_depth=5, max_features=None, min_samples_leaf=1, min_samples_split=5, random_state=42, splitter=best; total time=   0.0s\n",
            "[CV] END criterion=gini, max_depth=5, max_features=None, min_samples_leaf=1, min_samples_split=5, random_state=42, splitter=best; total time=   0.0s\n",
            "[CV] END criterion=gini, max_depth=5, max_features=None, min_samples_leaf=1, min_samples_split=5, random_state=42, splitter=random; total time=   0.0s\n",
            "[CV] END criterion=gini, max_depth=5, max_features=None, min_samples_leaf=1, min_samples_split=5, random_state=42, splitter=random; total time=   0.0s\n",
            "[CV] END criterion=gini, max_depth=5, max_features=None, min_samples_leaf=1, min_samples_split=5, random_state=42, splitter=random; total time=   0.0s\n",
            "[CV] END criterion=gini, max_depth=5, max_features=None, min_samples_leaf=1, min_samples_split=10, random_state=42, splitter=best; total time=   0.0s\n",
            "[CV] END criterion=gini, max_depth=5, max_features=None, min_samples_leaf=1, min_samples_split=10, random_state=42, splitter=best; total time=   0.0s\n",
            "[CV] END criterion=gini, max_depth=5, max_features=None, min_samples_leaf=1, min_samples_split=10, random_state=42, splitter=best; total time=   0.0s\n",
            "[CV] END criterion=gini, max_depth=5, max_features=None, min_samples_leaf=1, min_samples_split=10, random_state=42, splitter=random; total time=   0.0s\n",
            "[CV] END criterion=gini, max_depth=5, max_features=None, min_samples_leaf=1, min_samples_split=10, random_state=42, splitter=random; total time=   0.0s\n",
            "[CV] END criterion=gini, max_depth=5, max_features=None, min_samples_leaf=1, min_samples_split=10, random_state=42, splitter=random; total time=   0.0s\n",
            "[CV] END criterion=gini, max_depth=5, max_features=None, min_samples_leaf=2, min_samples_split=2, random_state=42, splitter=best; total time=   0.0s\n",
            "[CV] END criterion=gini, max_depth=5, max_features=None, min_samples_leaf=2, min_samples_split=2, random_state=42, splitter=best; total time=   0.0s\n",
            "[CV] END criterion=gini, max_depth=5, max_features=None, min_samples_leaf=2, min_samples_split=2, random_state=42, splitter=best; total time=   0.0s\n",
            "[CV] END criterion=gini, max_depth=5, max_features=None, min_samples_leaf=2, min_samples_split=2, random_state=42, splitter=random; total time=   0.0s\n",
            "[CV] END criterion=gini, max_depth=5, max_features=None, min_samples_leaf=2, min_samples_split=2, random_state=42, splitter=random; total time=   0.0s\n",
            "[CV] END criterion=gini, max_depth=5, max_features=None, min_samples_leaf=2, min_samples_split=2, random_state=42, splitter=random; total time=   0.0s\n",
            "[CV] END criterion=gini, max_depth=5, max_features=None, min_samples_leaf=2, min_samples_split=5, random_state=42, splitter=best; total time=   0.0s\n",
            "[CV] END criterion=gini, max_depth=5, max_features=None, min_samples_leaf=2, min_samples_split=5, random_state=42, splitter=best; total time=   0.0s\n",
            "[CV] END criterion=gini, max_depth=5, max_features=None, min_samples_leaf=2, min_samples_split=5, random_state=42, splitter=best; total time=   0.0s\n",
            "[CV] END criterion=gini, max_depth=5, max_features=None, min_samples_leaf=2, min_samples_split=5, random_state=42, splitter=random; total time=   0.0s\n",
            "[CV] END criterion=gini, max_depth=5, max_features=None, min_samples_leaf=2, min_samples_split=5, random_state=42, splitter=random; total time=   0.0s\n",
            "[CV] END criterion=gini, max_depth=5, max_features=None, min_samples_leaf=2, min_samples_split=5, random_state=42, splitter=random; total time=   0.0s\n",
            "[CV] END criterion=gini, max_depth=5, max_features=None, min_samples_leaf=2, min_samples_split=10, random_state=42, splitter=best; total time=   0.0s\n",
            "[CV] END criterion=gini, max_depth=5, max_features=None, min_samples_leaf=2, min_samples_split=10, random_state=42, splitter=best; total time=   0.0s\n",
            "[CV] END criterion=gini, max_depth=5, max_features=None, min_samples_leaf=2, min_samples_split=10, random_state=42, splitter=best; total time=   0.0s\n",
            "[CV] END criterion=gini, max_depth=5, max_features=None, min_samples_leaf=2, min_samples_split=10, random_state=42, splitter=random; total time=   0.0s\n",
            "[CV] END criterion=gini, max_depth=5, max_features=None, min_samples_leaf=2, min_samples_split=10, random_state=42, splitter=random; total time=   0.0s\n",
            "[CV] END criterion=gini, max_depth=5, max_features=None, min_samples_leaf=2, min_samples_split=10, random_state=42, splitter=random; total time=   0.0s\n",
            "[CV] END criterion=gini, max_depth=5, max_features=None, min_samples_leaf=3, min_samples_split=2, random_state=42, splitter=best; total time=   0.0s\n",
            "[CV] END criterion=gini, max_depth=5, max_features=None, min_samples_leaf=3, min_samples_split=2, random_state=42, splitter=best; total time=   0.0s\n",
            "[CV] END criterion=gini, max_depth=5, max_features=None, min_samples_leaf=3, min_samples_split=2, random_state=42, splitter=best; total time=   0.0s\n",
            "[CV] END criterion=gini, max_depth=5, max_features=None, min_samples_leaf=3, min_samples_split=2, random_state=42, splitter=random; total time=   0.0s\n",
            "[CV] END criterion=gini, max_depth=5, max_features=None, min_samples_leaf=3, min_samples_split=2, random_state=42, splitter=random; total time=   0.0s\n",
            "[CV] END criterion=gini, max_depth=5, max_features=None, min_samples_leaf=3, min_samples_split=2, random_state=42, splitter=random; total time=   0.0s\n",
            "[CV] END criterion=gini, max_depth=5, max_features=None, min_samples_leaf=3, min_samples_split=5, random_state=42, splitter=best; total time=   0.0s\n",
            "[CV] END criterion=gini, max_depth=5, max_features=None, min_samples_leaf=3, min_samples_split=5, random_state=42, splitter=best; total time=   0.0s\n",
            "[CV] END criterion=gini, max_depth=5, max_features=None, min_samples_leaf=3, min_samples_split=5, random_state=42, splitter=best; total time=   0.0s\n",
            "[CV] END criterion=gini, max_depth=5, max_features=None, min_samples_leaf=3, min_samples_split=5, random_state=42, splitter=random; total time=   0.0s\n",
            "[CV] END criterion=gini, max_depth=5, max_features=None, min_samples_leaf=3, min_samples_split=5, random_state=42, splitter=random; total time=   0.0s\n",
            "[CV] END criterion=gini, max_depth=5, max_features=None, min_samples_leaf=3, min_samples_split=5, random_state=42, splitter=random; total time=   0.0s\n",
            "[CV] END criterion=gini, max_depth=5, max_features=None, min_samples_leaf=3, min_samples_split=10, random_state=42, splitter=best; total time=   0.0s\n",
            "[CV] END criterion=gini, max_depth=5, max_features=None, min_samples_leaf=3, min_samples_split=10, random_state=42, splitter=best; total time=   0.0s\n",
            "[CV] END criterion=gini, max_depth=5, max_features=None, min_samples_leaf=3, min_samples_split=10, random_state=42, splitter=best; total time=   0.0s\n",
            "[CV] END criterion=gini, max_depth=5, max_features=None, min_samples_leaf=3, min_samples_split=10, random_state=42, splitter=random; total time=   0.0s\n",
            "[CV] END criterion=gini, max_depth=5, max_features=None, min_samples_leaf=3, min_samples_split=10, random_state=42, splitter=random; total time=   0.0s\n",
            "[CV] END criterion=gini, max_depth=5, max_features=None, min_samples_leaf=3, min_samples_split=10, random_state=42, splitter=random; total time=   0.0s\n",
            "[CV] END criterion=gini, max_depth=5, max_features=sqrt, min_samples_leaf=1, min_samples_split=2, random_state=42, splitter=best; total time=   0.0s\n",
            "[CV] END criterion=gini, max_depth=5, max_features=sqrt, min_samples_leaf=1, min_samples_split=2, random_state=42, splitter=best; total time=   0.0s\n",
            "[CV] END criterion=gini, max_depth=5, max_features=sqrt, min_samples_leaf=1, min_samples_split=2, random_state=42, splitter=best; total time=   0.0s\n",
            "[CV] END criterion=gini, max_depth=5, max_features=sqrt, min_samples_leaf=1, min_samples_split=2, random_state=42, splitter=random; total time=   0.0s\n",
            "[CV] END criterion=gini, max_depth=5, max_features=sqrt, min_samples_leaf=1, min_samples_split=2, random_state=42, splitter=random; total time=   0.0s\n",
            "[CV] END criterion=gini, max_depth=5, max_features=sqrt, min_samples_leaf=1, min_samples_split=2, random_state=42, splitter=random; total time=   0.0s\n",
            "[CV] END criterion=gini, max_depth=5, max_features=sqrt, min_samples_leaf=1, min_samples_split=5, random_state=42, splitter=best; total time=   0.0s\n",
            "[CV] END criterion=gini, max_depth=5, max_features=sqrt, min_samples_leaf=1, min_samples_split=5, random_state=42, splitter=best; total time=   0.0s\n",
            "[CV] END criterion=gini, max_depth=5, max_features=sqrt, min_samples_leaf=1, min_samples_split=5, random_state=42, splitter=best; total time=   0.0s\n",
            "[CV] END criterion=gini, max_depth=5, max_features=sqrt, min_samples_leaf=1, min_samples_split=5, random_state=42, splitter=random; total time=   0.0s\n",
            "[CV] END criterion=gini, max_depth=5, max_features=sqrt, min_samples_leaf=1, min_samples_split=5, random_state=42, splitter=random; total time=   0.0s\n",
            "[CV] END criterion=gini, max_depth=5, max_features=sqrt, min_samples_leaf=1, min_samples_split=5, random_state=42, splitter=random; total time=   0.0s\n",
            "[CV] END criterion=gini, max_depth=5, max_features=sqrt, min_samples_leaf=1, min_samples_split=10, random_state=42, splitter=best; total time=   0.0s\n",
            "[CV] END criterion=gini, max_depth=5, max_features=sqrt, min_samples_leaf=1, min_samples_split=10, random_state=42, splitter=best; total time=   0.0s\n",
            "[CV] END criterion=gini, max_depth=5, max_features=sqrt, min_samples_leaf=1, min_samples_split=10, random_state=42, splitter=best; total time=   0.0s\n",
            "[CV] END criterion=gini, max_depth=5, max_features=sqrt, min_samples_leaf=1, min_samples_split=10, random_state=42, splitter=random; total time=   0.0s\n",
            "[CV] END criterion=gini, max_depth=5, max_features=sqrt, min_samples_leaf=1, min_samples_split=10, random_state=42, splitter=random; total time=   0.0s\n",
            "[CV] END criterion=gini, max_depth=5, max_features=sqrt, min_samples_leaf=1, min_samples_split=10, random_state=42, splitter=random; total time=   0.0s\n",
            "[CV] END criterion=gini, max_depth=5, max_features=sqrt, min_samples_leaf=2, min_samples_split=2, random_state=42, splitter=best; total time=   0.0s\n",
            "[CV] END criterion=gini, max_depth=5, max_features=sqrt, min_samples_leaf=2, min_samples_split=2, random_state=42, splitter=best; total time=   0.0s\n",
            "[CV] END criterion=gini, max_depth=5, max_features=sqrt, min_samples_leaf=2, min_samples_split=2, random_state=42, splitter=best; total time=   0.0s\n",
            "[CV] END criterion=gini, max_depth=5, max_features=sqrt, min_samples_leaf=2, min_samples_split=2, random_state=42, splitter=random; total time=   0.0s\n",
            "[CV] END criterion=gini, max_depth=5, max_features=sqrt, min_samples_leaf=2, min_samples_split=2, random_state=42, splitter=random; total time=   0.0s\n",
            "[CV] END criterion=gini, max_depth=5, max_features=sqrt, min_samples_leaf=2, min_samples_split=2, random_state=42, splitter=random; total time=   0.0s\n",
            "[CV] END criterion=gini, max_depth=5, max_features=sqrt, min_samples_leaf=2, min_samples_split=5, random_state=42, splitter=best; total time=   0.0s\n",
            "[CV] END criterion=gini, max_depth=5, max_features=sqrt, min_samples_leaf=2, min_samples_split=5, random_state=42, splitter=best; total time=   0.0s\n",
            "[CV] END criterion=gini, max_depth=5, max_features=sqrt, min_samples_leaf=2, min_samples_split=5, random_state=42, splitter=best; total time=   0.0s\n",
            "[CV] END criterion=gini, max_depth=5, max_features=sqrt, min_samples_leaf=2, min_samples_split=5, random_state=42, splitter=random; total time=   0.0s\n",
            "[CV] END criterion=gini, max_depth=5, max_features=sqrt, min_samples_leaf=2, min_samples_split=5, random_state=42, splitter=random; total time=   0.0s\n",
            "[CV] END criterion=gini, max_depth=5, max_features=sqrt, min_samples_leaf=2, min_samples_split=5, random_state=42, splitter=random; total time=   0.0s\n",
            "[CV] END criterion=gini, max_depth=5, max_features=sqrt, min_samples_leaf=2, min_samples_split=10, random_state=42, splitter=best; total time=   0.0s\n",
            "[CV] END criterion=gini, max_depth=5, max_features=sqrt, min_samples_leaf=2, min_samples_split=10, random_state=42, splitter=best; total time=   0.0s\n",
            "[CV] END criterion=gini, max_depth=5, max_features=sqrt, min_samples_leaf=2, min_samples_split=10, random_state=42, splitter=best; total time=   0.0s\n",
            "[CV] END criterion=gini, max_depth=5, max_features=sqrt, min_samples_leaf=2, min_samples_split=10, random_state=42, splitter=random; total time=   0.0s\n",
            "[CV] END criterion=gini, max_depth=5, max_features=sqrt, min_samples_leaf=2, min_samples_split=10, random_state=42, splitter=random; total time=   0.0s\n",
            "[CV] END criterion=gini, max_depth=5, max_features=sqrt, min_samples_leaf=2, min_samples_split=10, random_state=42, splitter=random; total time=   0.0s\n",
            "[CV] END criterion=gini, max_depth=5, max_features=sqrt, min_samples_leaf=3, min_samples_split=2, random_state=42, splitter=best; total time=   0.0s\n",
            "[CV] END criterion=gini, max_depth=5, max_features=sqrt, min_samples_leaf=3, min_samples_split=2, random_state=42, splitter=best; total time=   0.0s\n",
            "[CV] END criterion=gini, max_depth=5, max_features=sqrt, min_samples_leaf=3, min_samples_split=2, random_state=42, splitter=best; total time=   0.0s\n",
            "[CV] END criterion=gini, max_depth=5, max_features=sqrt, min_samples_leaf=3, min_samples_split=2, random_state=42, splitter=random; total time=   0.0s\n",
            "[CV] END criterion=gini, max_depth=5, max_features=sqrt, min_samples_leaf=3, min_samples_split=2, random_state=42, splitter=random; total time=   0.0s\n",
            "[CV] END criterion=gini, max_depth=5, max_features=sqrt, min_samples_leaf=3, min_samples_split=2, random_state=42, splitter=random; total time=   0.0s\n",
            "[CV] END criterion=gini, max_depth=5, max_features=sqrt, min_samples_leaf=3, min_samples_split=5, random_state=42, splitter=best; total time=   0.0s\n",
            "[CV] END criterion=gini, max_depth=5, max_features=sqrt, min_samples_leaf=3, min_samples_split=5, random_state=42, splitter=best; total time=   0.0s\n",
            "[CV] END criterion=gini, max_depth=5, max_features=sqrt, min_samples_leaf=3, min_samples_split=5, random_state=42, splitter=best; total time=   0.0s\n",
            "[CV] END criterion=gini, max_depth=5, max_features=sqrt, min_samples_leaf=3, min_samples_split=5, random_state=42, splitter=random; total time=   0.0s\n",
            "[CV] END criterion=gini, max_depth=5, max_features=sqrt, min_samples_leaf=3, min_samples_split=5, random_state=42, splitter=random; total time=   0.0s\n",
            "[CV] END criterion=gini, max_depth=5, max_features=sqrt, min_samples_leaf=3, min_samples_split=5, random_state=42, splitter=random; total time=   0.0s\n",
            "[CV] END criterion=gini, max_depth=5, max_features=sqrt, min_samples_leaf=3, min_samples_split=10, random_state=42, splitter=best; total time=   0.0s\n",
            "[CV] END criterion=gini, max_depth=5, max_features=sqrt, min_samples_leaf=3, min_samples_split=10, random_state=42, splitter=best; total time=   0.0s\n",
            "[CV] END criterion=gini, max_depth=5, max_features=sqrt, min_samples_leaf=3, min_samples_split=10, random_state=42, splitter=best; total time=   0.0s\n",
            "[CV] END criterion=gini, max_depth=5, max_features=sqrt, min_samples_leaf=3, min_samples_split=10, random_state=42, splitter=random; total time=   0.0s\n",
            "[CV] END criterion=gini, max_depth=5, max_features=sqrt, min_samples_leaf=3, min_samples_split=10, random_state=42, splitter=random; total time=   0.0s\n",
            "[CV] END criterion=gini, max_depth=5, max_features=sqrt, min_samples_leaf=3, min_samples_split=10, random_state=42, splitter=random; total time=   0.0s\n",
            "[CV] END criterion=gini, max_depth=5, max_features=log2, min_samples_leaf=1, min_samples_split=2, random_state=42, splitter=best; total time=   0.0s\n",
            "[CV] END criterion=gini, max_depth=5, max_features=log2, min_samples_leaf=1, min_samples_split=2, random_state=42, splitter=best; total time=   0.0s\n",
            "[CV] END criterion=gini, max_depth=5, max_features=log2, min_samples_leaf=1, min_samples_split=2, random_state=42, splitter=best; total time=   0.0s\n",
            "[CV] END criterion=gini, max_depth=5, max_features=log2, min_samples_leaf=1, min_samples_split=2, random_state=42, splitter=random; total time=   0.0s\n",
            "[CV] END criterion=gini, max_depth=5, max_features=log2, min_samples_leaf=1, min_samples_split=2, random_state=42, splitter=random; total time=   0.0s\n",
            "[CV] END criterion=gini, max_depth=5, max_features=log2, min_samples_leaf=1, min_samples_split=2, random_state=42, splitter=random; total time=   0.0s\n",
            "[CV] END criterion=gini, max_depth=5, max_features=log2, min_samples_leaf=1, min_samples_split=5, random_state=42, splitter=best; total time=   0.0s\n",
            "[CV] END criterion=gini, max_depth=5, max_features=log2, min_samples_leaf=1, min_samples_split=5, random_state=42, splitter=best; total time=   0.0s\n",
            "[CV] END criterion=gini, max_depth=5, max_features=log2, min_samples_leaf=1, min_samples_split=5, random_state=42, splitter=best; total time=   0.0s\n",
            "[CV] END criterion=gini, max_depth=5, max_features=log2, min_samples_leaf=1, min_samples_split=5, random_state=42, splitter=random; total time=   0.0s\n",
            "[CV] END criterion=gini, max_depth=5, max_features=log2, min_samples_leaf=1, min_samples_split=5, random_state=42, splitter=random; total time=   0.0s\n",
            "[CV] END criterion=gini, max_depth=5, max_features=log2, min_samples_leaf=1, min_samples_split=5, random_state=42, splitter=random; total time=   0.0s\n",
            "[CV] END criterion=gini, max_depth=5, max_features=log2, min_samples_leaf=1, min_samples_split=10, random_state=42, splitter=best; total time=   0.0s\n",
            "[CV] END criterion=gini, max_depth=5, max_features=log2, min_samples_leaf=1, min_samples_split=10, random_state=42, splitter=best; total time=   0.0s\n",
            "[CV] END criterion=gini, max_depth=5, max_features=log2, min_samples_leaf=1, min_samples_split=10, random_state=42, splitter=best; total time=   0.0s\n",
            "[CV] END criterion=gini, max_depth=5, max_features=log2, min_samples_leaf=1, min_samples_split=10, random_state=42, splitter=random; total time=   0.0s\n",
            "[CV] END criterion=gini, max_depth=5, max_features=log2, min_samples_leaf=1, min_samples_split=10, random_state=42, splitter=random; total time=   0.0s\n",
            "[CV] END criterion=gini, max_depth=5, max_features=log2, min_samples_leaf=1, min_samples_split=10, random_state=42, splitter=random; total time=   0.0s\n",
            "[CV] END criterion=gini, max_depth=5, max_features=log2, min_samples_leaf=2, min_samples_split=2, random_state=42, splitter=best; total time=   0.0s\n",
            "[CV] END criterion=gini, max_depth=5, max_features=log2, min_samples_leaf=2, min_samples_split=2, random_state=42, splitter=best; total time=   0.0s\n",
            "[CV] END criterion=gini, max_depth=5, max_features=log2, min_samples_leaf=2, min_samples_split=2, random_state=42, splitter=best; total time=   0.0s\n",
            "[CV] END criterion=gini, max_depth=5, max_features=log2, min_samples_leaf=2, min_samples_split=2, random_state=42, splitter=random; total time=   0.0s\n",
            "[CV] END criterion=gini, max_depth=5, max_features=log2, min_samples_leaf=2, min_samples_split=2, random_state=42, splitter=random; total time=   0.0s\n",
            "[CV] END criterion=gini, max_depth=5, max_features=log2, min_samples_leaf=2, min_samples_split=2, random_state=42, splitter=random; total time=   0.0s\n",
            "[CV] END criterion=gini, max_depth=5, max_features=log2, min_samples_leaf=2, min_samples_split=5, random_state=42, splitter=best; total time=   0.0s\n",
            "[CV] END criterion=gini, max_depth=5, max_features=log2, min_samples_leaf=2, min_samples_split=5, random_state=42, splitter=best; total time=   0.0s\n",
            "[CV] END criterion=gini, max_depth=5, max_features=log2, min_samples_leaf=2, min_samples_split=5, random_state=42, splitter=best; total time=   0.0s\n",
            "[CV] END criterion=gini, max_depth=5, max_features=log2, min_samples_leaf=2, min_samples_split=5, random_state=42, splitter=random; total time=   0.0s\n",
            "[CV] END criterion=gini, max_depth=5, max_features=log2, min_samples_leaf=2, min_samples_split=5, random_state=42, splitter=random; total time=   0.0s\n",
            "[CV] END criterion=gini, max_depth=5, max_features=log2, min_samples_leaf=2, min_samples_split=5, random_state=42, splitter=random; total time=   0.0s\n",
            "[CV] END criterion=gini, max_depth=5, max_features=log2, min_samples_leaf=2, min_samples_split=10, random_state=42, splitter=best; total time=   0.0s\n",
            "[CV] END criterion=gini, max_depth=5, max_features=log2, min_samples_leaf=2, min_samples_split=10, random_state=42, splitter=best; total time=   0.0s\n",
            "[CV] END criterion=gini, max_depth=5, max_features=log2, min_samples_leaf=2, min_samples_split=10, random_state=42, splitter=best; total time=   0.0s\n",
            "[CV] END criterion=gini, max_depth=5, max_features=log2, min_samples_leaf=2, min_samples_split=10, random_state=42, splitter=random; total time=   0.0s\n",
            "[CV] END criterion=gini, max_depth=5, max_features=log2, min_samples_leaf=2, min_samples_split=10, random_state=42, splitter=random; total time=   0.0s\n",
            "[CV] END criterion=gini, max_depth=5, max_features=log2, min_samples_leaf=2, min_samples_split=10, random_state=42, splitter=random; total time=   0.0s\n",
            "[CV] END criterion=gini, max_depth=5, max_features=log2, min_samples_leaf=3, min_samples_split=2, random_state=42, splitter=best; total time=   0.0s\n",
            "[CV] END criterion=gini, max_depth=5, max_features=log2, min_samples_leaf=3, min_samples_split=2, random_state=42, splitter=best; total time=   0.0s\n",
            "[CV] END criterion=gini, max_depth=5, max_features=log2, min_samples_leaf=3, min_samples_split=2, random_state=42, splitter=best; total time=   0.0s\n",
            "[CV] END criterion=gini, max_depth=5, max_features=log2, min_samples_leaf=3, min_samples_split=2, random_state=42, splitter=random; total time=   0.0s\n",
            "[CV] END criterion=gini, max_depth=5, max_features=log2, min_samples_leaf=3, min_samples_split=2, random_state=42, splitter=random; total time=   0.0s\n",
            "[CV] END criterion=gini, max_depth=5, max_features=log2, min_samples_leaf=3, min_samples_split=2, random_state=42, splitter=random; total time=   0.0s\n",
            "[CV] END criterion=gini, max_depth=5, max_features=log2, min_samples_leaf=3, min_samples_split=5, random_state=42, splitter=best; total time=   0.0s\n",
            "[CV] END criterion=gini, max_depth=5, max_features=log2, min_samples_leaf=3, min_samples_split=5, random_state=42, splitter=best; total time=   0.0s\n",
            "[CV] END criterion=gini, max_depth=5, max_features=log2, min_samples_leaf=3, min_samples_split=5, random_state=42, splitter=best; total time=   0.0s\n",
            "[CV] END criterion=gini, max_depth=5, max_features=log2, min_samples_leaf=3, min_samples_split=5, random_state=42, splitter=random; total time=   0.0s\n",
            "[CV] END criterion=gini, max_depth=5, max_features=log2, min_samples_leaf=3, min_samples_split=5, random_state=42, splitter=random; total time=   0.0s\n",
            "[CV] END criterion=gini, max_depth=5, max_features=log2, min_samples_leaf=3, min_samples_split=5, random_state=42, splitter=random; total time=   0.0s\n",
            "[CV] END criterion=gini, max_depth=5, max_features=log2, min_samples_leaf=3, min_samples_split=10, random_state=42, splitter=best; total time=   0.0s\n",
            "[CV] END criterion=gini, max_depth=5, max_features=log2, min_samples_leaf=3, min_samples_split=10, random_state=42, splitter=best; total time=   0.0s\n",
            "[CV] END criterion=gini, max_depth=5, max_features=log2, min_samples_leaf=3, min_samples_split=10, random_state=42, splitter=best; total time=   0.0s\n",
            "[CV] END criterion=gini, max_depth=5, max_features=log2, min_samples_leaf=3, min_samples_split=10, random_state=42, splitter=random; total time=   0.0s\n",
            "[CV] END criterion=gini, max_depth=5, max_features=log2, min_samples_leaf=3, min_samples_split=10, random_state=42, splitter=random; total time=   0.0s\n",
            "[CV] END criterion=gini, max_depth=5, max_features=log2, min_samples_leaf=3, min_samples_split=10, random_state=42, splitter=random; total time=   0.0s\n",
            "[CV] END criterion=gini, max_depth=10, max_features=None, min_samples_leaf=1, min_samples_split=2, random_state=42, splitter=best; total time=   0.0s\n",
            "[CV] END criterion=gini, max_depth=10, max_features=None, min_samples_leaf=1, min_samples_split=2, random_state=42, splitter=best; total time=   0.0s\n",
            "[CV] END criterion=gini, max_depth=10, max_features=None, min_samples_leaf=1, min_samples_split=2, random_state=42, splitter=best; total time=   0.0s\n",
            "[CV] END criterion=gini, max_depth=10, max_features=None, min_samples_leaf=1, min_samples_split=2, random_state=42, splitter=random; total time=   0.0s\n",
            "[CV] END criterion=gini, max_depth=10, max_features=None, min_samples_leaf=1, min_samples_split=2, random_state=42, splitter=random; total time=   0.0s\n",
            "[CV] END criterion=gini, max_depth=10, max_features=None, min_samples_leaf=1, min_samples_split=2, random_state=42, splitter=random; total time=   0.0s\n",
            "[CV] END criterion=gini, max_depth=10, max_features=None, min_samples_leaf=1, min_samples_split=5, random_state=42, splitter=best; total time=   0.0s\n",
            "[CV] END criterion=gini, max_depth=10, max_features=None, min_samples_leaf=1, min_samples_split=5, random_state=42, splitter=best; total time=   0.0s\n",
            "[CV] END criterion=gini, max_depth=10, max_features=None, min_samples_leaf=1, min_samples_split=5, random_state=42, splitter=best; total time=   0.0s\n",
            "[CV] END criterion=gini, max_depth=10, max_features=None, min_samples_leaf=1, min_samples_split=5, random_state=42, splitter=random; total time=   0.0s\n",
            "[CV] END criterion=gini, max_depth=10, max_features=None, min_samples_leaf=1, min_samples_split=5, random_state=42, splitter=random; total time=   0.0s\n",
            "[CV] END criterion=gini, max_depth=10, max_features=None, min_samples_leaf=1, min_samples_split=5, random_state=42, splitter=random; total time=   0.0s\n",
            "[CV] END criterion=gini, max_depth=10, max_features=None, min_samples_leaf=1, min_samples_split=10, random_state=42, splitter=best; total time=   0.0s\n",
            "[CV] END criterion=gini, max_depth=10, max_features=None, min_samples_leaf=1, min_samples_split=10, random_state=42, splitter=best; total time=   0.0s\n",
            "[CV] END criterion=gini, max_depth=10, max_features=None, min_samples_leaf=1, min_samples_split=10, random_state=42, splitter=best; total time=   0.0s\n",
            "[CV] END criterion=gini, max_depth=10, max_features=None, min_samples_leaf=1, min_samples_split=10, random_state=42, splitter=random; total time=   0.0s\n",
            "[CV] END criterion=gini, max_depth=10, max_features=None, min_samples_leaf=1, min_samples_split=10, random_state=42, splitter=random; total time=   0.0s\n",
            "[CV] END criterion=gini, max_depth=10, max_features=None, min_samples_leaf=1, min_samples_split=10, random_state=42, splitter=random; total time=   0.0s\n",
            "[CV] END criterion=gini, max_depth=10, max_features=None, min_samples_leaf=2, min_samples_split=2, random_state=42, splitter=best; total time=   0.0s\n",
            "[CV] END criterion=gini, max_depth=10, max_features=None, min_samples_leaf=2, min_samples_split=2, random_state=42, splitter=best; total time=   0.0s\n",
            "[CV] END criterion=gini, max_depth=10, max_features=None, min_samples_leaf=2, min_samples_split=2, random_state=42, splitter=best; total time=   0.0s\n",
            "[CV] END criterion=gini, max_depth=10, max_features=None, min_samples_leaf=2, min_samples_split=2, random_state=42, splitter=random; total time=   0.0s\n",
            "[CV] END criterion=gini, max_depth=10, max_features=None, min_samples_leaf=2, min_samples_split=2, random_state=42, splitter=random; total time=   0.0s\n",
            "[CV] END criterion=gini, max_depth=10, max_features=None, min_samples_leaf=2, min_samples_split=2, random_state=42, splitter=random; total time=   0.0s\n",
            "[CV] END criterion=gini, max_depth=10, max_features=None, min_samples_leaf=2, min_samples_split=5, random_state=42, splitter=best; total time=   0.0s\n",
            "[CV] END criterion=gini, max_depth=10, max_features=None, min_samples_leaf=2, min_samples_split=5, random_state=42, splitter=best; total time=   0.0s\n",
            "[CV] END criterion=gini, max_depth=10, max_features=None, min_samples_leaf=2, min_samples_split=5, random_state=42, splitter=best; total time=   0.0s\n",
            "[CV] END criterion=gini, max_depth=10, max_features=None, min_samples_leaf=2, min_samples_split=5, random_state=42, splitter=random; total time=   0.0s\n",
            "[CV] END criterion=gini, max_depth=10, max_features=None, min_samples_leaf=2, min_samples_split=5, random_state=42, splitter=random; total time=   0.0s\n",
            "[CV] END criterion=gini, max_depth=10, max_features=None, min_samples_leaf=2, min_samples_split=5, random_state=42, splitter=random; total time=   0.0s\n",
            "[CV] END criterion=gini, max_depth=10, max_features=None, min_samples_leaf=2, min_samples_split=10, random_state=42, splitter=best; total time=   0.0s\n",
            "[CV] END criterion=gini, max_depth=10, max_features=None, min_samples_leaf=2, min_samples_split=10, random_state=42, splitter=best; total time=   0.0s\n",
            "[CV] END criterion=gini, max_depth=10, max_features=None, min_samples_leaf=2, min_samples_split=10, random_state=42, splitter=best; total time=   0.0s\n",
            "[CV] END criterion=gini, max_depth=10, max_features=None, min_samples_leaf=2, min_samples_split=10, random_state=42, splitter=random; total time=   0.0s\n",
            "[CV] END criterion=gini, max_depth=10, max_features=None, min_samples_leaf=2, min_samples_split=10, random_state=42, splitter=random; total time=   0.0s\n",
            "[CV] END criterion=gini, max_depth=10, max_features=None, min_samples_leaf=2, min_samples_split=10, random_state=42, splitter=random; total time=   0.0s\n",
            "[CV] END criterion=gini, max_depth=10, max_features=None, min_samples_leaf=3, min_samples_split=2, random_state=42, splitter=best; total time=   0.0s\n",
            "[CV] END criterion=gini, max_depth=10, max_features=None, min_samples_leaf=3, min_samples_split=2, random_state=42, splitter=best; total time=   0.0s\n",
            "[CV] END criterion=gini, max_depth=10, max_features=None, min_samples_leaf=3, min_samples_split=2, random_state=42, splitter=best; total time=   0.0s\n",
            "[CV] END criterion=gini, max_depth=10, max_features=None, min_samples_leaf=3, min_samples_split=2, random_state=42, splitter=random; total time=   0.0s\n",
            "[CV] END criterion=gini, max_depth=10, max_features=None, min_samples_leaf=3, min_samples_split=2, random_state=42, splitter=random; total time=   0.0s\n",
            "[CV] END criterion=gini, max_depth=10, max_features=None, min_samples_leaf=3, min_samples_split=2, random_state=42, splitter=random; total time=   0.0s\n",
            "[CV] END criterion=gini, max_depth=10, max_features=None, min_samples_leaf=3, min_samples_split=5, random_state=42, splitter=best; total time=   0.0s\n",
            "[CV] END criterion=gini, max_depth=10, max_features=None, min_samples_leaf=3, min_samples_split=5, random_state=42, splitter=best; total time=   0.0s\n",
            "[CV] END criterion=gini, max_depth=10, max_features=None, min_samples_leaf=3, min_samples_split=5, random_state=42, splitter=best; total time=   0.0s\n",
            "[CV] END criterion=gini, max_depth=10, max_features=None, min_samples_leaf=3, min_samples_split=5, random_state=42, splitter=random; total time=   0.0s\n",
            "[CV] END criterion=gini, max_depth=10, max_features=None, min_samples_leaf=3, min_samples_split=5, random_state=42, splitter=random; total time=   0.0s\n",
            "[CV] END criterion=gini, max_depth=10, max_features=None, min_samples_leaf=3, min_samples_split=5, random_state=42, splitter=random; total time=   0.0s\n",
            "[CV] END criterion=gini, max_depth=10, max_features=None, min_samples_leaf=3, min_samples_split=10, random_state=42, splitter=best; total time=   0.0s\n",
            "[CV] END criterion=gini, max_depth=10, max_features=None, min_samples_leaf=3, min_samples_split=10, random_state=42, splitter=best; total time=   0.0s\n",
            "[CV] END criterion=gini, max_depth=10, max_features=None, min_samples_leaf=3, min_samples_split=10, random_state=42, splitter=best; total time=   0.0s\n",
            "[CV] END criterion=gini, max_depth=10, max_features=None, min_samples_leaf=3, min_samples_split=10, random_state=42, splitter=random; total time=   0.0s\n",
            "[CV] END criterion=gini, max_depth=10, max_features=None, min_samples_leaf=3, min_samples_split=10, random_state=42, splitter=random; total time=   0.0s\n",
            "[CV] END criterion=gini, max_depth=10, max_features=None, min_samples_leaf=3, min_samples_split=10, random_state=42, splitter=random; total time=   0.0s\n",
            "[CV] END criterion=gini, max_depth=10, max_features=sqrt, min_samples_leaf=1, min_samples_split=2, random_state=42, splitter=best; total time=   0.0s\n",
            "[CV] END criterion=gini, max_depth=10, max_features=sqrt, min_samples_leaf=1, min_samples_split=2, random_state=42, splitter=best; total time=   0.0s\n",
            "[CV] END criterion=gini, max_depth=10, max_features=sqrt, min_samples_leaf=1, min_samples_split=2, random_state=42, splitter=best; total time=   0.0s\n",
            "[CV] END criterion=gini, max_depth=10, max_features=sqrt, min_samples_leaf=1, min_samples_split=2, random_state=42, splitter=random; total time=   0.0s\n",
            "[CV] END criterion=gini, max_depth=10, max_features=sqrt, min_samples_leaf=1, min_samples_split=2, random_state=42, splitter=random; total time=   0.0s\n",
            "[CV] END criterion=gini, max_depth=10, max_features=sqrt, min_samples_leaf=1, min_samples_split=2, random_state=42, splitter=random; total time=   0.0s\n",
            "[CV] END criterion=gini, max_depth=10, max_features=sqrt, min_samples_leaf=1, min_samples_split=5, random_state=42, splitter=best; total time=   0.0s\n",
            "[CV] END criterion=gini, max_depth=10, max_features=sqrt, min_samples_leaf=1, min_samples_split=5, random_state=42, splitter=best; total time=   0.0s\n",
            "[CV] END criterion=gini, max_depth=10, max_features=sqrt, min_samples_leaf=1, min_samples_split=5, random_state=42, splitter=best; total time=   0.0s\n",
            "[CV] END criterion=gini, max_depth=10, max_features=sqrt, min_samples_leaf=1, min_samples_split=5, random_state=42, splitter=random; total time=   0.0s\n",
            "[CV] END criterion=gini, max_depth=10, max_features=sqrt, min_samples_leaf=1, min_samples_split=5, random_state=42, splitter=random; total time=   0.0s\n",
            "[CV] END criterion=gini, max_depth=10, max_features=sqrt, min_samples_leaf=1, min_samples_split=5, random_state=42, splitter=random; total time=   0.0s\n",
            "[CV] END criterion=gini, max_depth=10, max_features=sqrt, min_samples_leaf=1, min_samples_split=10, random_state=42, splitter=best; total time=   0.0s\n",
            "[CV] END criterion=gini, max_depth=10, max_features=sqrt, min_samples_leaf=1, min_samples_split=10, random_state=42, splitter=best; total time=   0.0s\n",
            "[CV] END criterion=gini, max_depth=10, max_features=sqrt, min_samples_leaf=1, min_samples_split=10, random_state=42, splitter=best; total time=   0.0s\n",
            "[CV] END criterion=gini, max_depth=10, max_features=sqrt, min_samples_leaf=1, min_samples_split=10, random_state=42, splitter=random; total time=   0.0s\n",
            "[CV] END criterion=gini, max_depth=10, max_features=sqrt, min_samples_leaf=1, min_samples_split=10, random_state=42, splitter=random; total time=   0.0s\n",
            "[CV] END criterion=gini, max_depth=10, max_features=sqrt, min_samples_leaf=1, min_samples_split=10, random_state=42, splitter=random; total time=   0.0s\n",
            "[CV] END criterion=gini, max_depth=10, max_features=sqrt, min_samples_leaf=2, min_samples_split=2, random_state=42, splitter=best; total time=   0.0s\n",
            "[CV] END criterion=gini, max_depth=10, max_features=sqrt, min_samples_leaf=2, min_samples_split=2, random_state=42, splitter=best; total time=   0.0s\n",
            "[CV] END criterion=gini, max_depth=10, max_features=sqrt, min_samples_leaf=2, min_samples_split=2, random_state=42, splitter=best; total time=   0.0s\n",
            "[CV] END criterion=gini, max_depth=10, max_features=sqrt, min_samples_leaf=2, min_samples_split=2, random_state=42, splitter=random; total time=   0.0s\n",
            "[CV] END criterion=gini, max_depth=10, max_features=sqrt, min_samples_leaf=2, min_samples_split=2, random_state=42, splitter=random; total time=   0.0s\n",
            "[CV] END criterion=gini, max_depth=10, max_features=sqrt, min_samples_leaf=2, min_samples_split=2, random_state=42, splitter=random; total time=   0.0s\n",
            "[CV] END criterion=gini, max_depth=10, max_features=sqrt, min_samples_leaf=2, min_samples_split=5, random_state=42, splitter=best; total time=   0.0s\n",
            "[CV] END criterion=gini, max_depth=10, max_features=sqrt, min_samples_leaf=2, min_samples_split=5, random_state=42, splitter=best; total time=   0.0s\n",
            "[CV] END criterion=gini, max_depth=10, max_features=sqrt, min_samples_leaf=2, min_samples_split=5, random_state=42, splitter=best; total time=   0.0s\n",
            "[CV] END criterion=gini, max_depth=10, max_features=sqrt, min_samples_leaf=2, min_samples_split=5, random_state=42, splitter=random; total time=   0.0s\n",
            "[CV] END criterion=gini, max_depth=10, max_features=sqrt, min_samples_leaf=2, min_samples_split=5, random_state=42, splitter=random; total time=   0.0s\n",
            "[CV] END criterion=gini, max_depth=10, max_features=sqrt, min_samples_leaf=2, min_samples_split=5, random_state=42, splitter=random; total time=   0.0s\n",
            "[CV] END criterion=gini, max_depth=10, max_features=sqrt, min_samples_leaf=2, min_samples_split=10, random_state=42, splitter=best; total time=   0.0s\n",
            "[CV] END criterion=gini, max_depth=10, max_features=sqrt, min_samples_leaf=2, min_samples_split=10, random_state=42, splitter=best; total time=   0.0s\n",
            "[CV] END criterion=gini, max_depth=10, max_features=sqrt, min_samples_leaf=2, min_samples_split=10, random_state=42, splitter=best; total time=   0.0s\n",
            "[CV] END criterion=gini, max_depth=10, max_features=sqrt, min_samples_leaf=2, min_samples_split=10, random_state=42, splitter=random; total time=   0.0s\n",
            "[CV] END criterion=gini, max_depth=10, max_features=sqrt, min_samples_leaf=2, min_samples_split=10, random_state=42, splitter=random; total time=   0.0s\n",
            "[CV] END criterion=gini, max_depth=10, max_features=sqrt, min_samples_leaf=2, min_samples_split=10, random_state=42, splitter=random; total time=   0.0s\n",
            "[CV] END criterion=gini, max_depth=10, max_features=sqrt, min_samples_leaf=3, min_samples_split=2, random_state=42, splitter=best; total time=   0.0s\n",
            "[CV] END criterion=gini, max_depth=10, max_features=sqrt, min_samples_leaf=3, min_samples_split=2, random_state=42, splitter=best; total time=   0.0s\n",
            "[CV] END criterion=gini, max_depth=10, max_features=sqrt, min_samples_leaf=3, min_samples_split=2, random_state=42, splitter=best; total time=   0.0s\n",
            "[CV] END criterion=gini, max_depth=10, max_features=sqrt, min_samples_leaf=3, min_samples_split=2, random_state=42, splitter=random; total time=   0.0s\n",
            "[CV] END criterion=gini, max_depth=10, max_features=sqrt, min_samples_leaf=3, min_samples_split=2, random_state=42, splitter=random; total time=   0.0s\n",
            "[CV] END criterion=gini, max_depth=10, max_features=sqrt, min_samples_leaf=3, min_samples_split=2, random_state=42, splitter=random; total time=   0.0s\n",
            "[CV] END criterion=gini, max_depth=10, max_features=sqrt, min_samples_leaf=3, min_samples_split=5, random_state=42, splitter=best; total time=   0.0s\n",
            "[CV] END criterion=gini, max_depth=10, max_features=sqrt, min_samples_leaf=3, min_samples_split=5, random_state=42, splitter=best; total time=   0.0s\n",
            "[CV] END criterion=gini, max_depth=10, max_features=sqrt, min_samples_leaf=3, min_samples_split=5, random_state=42, splitter=best; total time=   0.0s\n",
            "[CV] END criterion=gini, max_depth=10, max_features=sqrt, min_samples_leaf=3, min_samples_split=5, random_state=42, splitter=random; total time=   0.0s\n",
            "[CV] END criterion=gini, max_depth=10, max_features=sqrt, min_samples_leaf=3, min_samples_split=5, random_state=42, splitter=random; total time=   0.0s\n",
            "[CV] END criterion=gini, max_depth=10, max_features=sqrt, min_samples_leaf=3, min_samples_split=5, random_state=42, splitter=random; total time=   0.0s\n",
            "[CV] END criterion=gini, max_depth=10, max_features=sqrt, min_samples_leaf=3, min_samples_split=10, random_state=42, splitter=best; total time=   0.0s\n",
            "[CV] END criterion=gini, max_depth=10, max_features=sqrt, min_samples_leaf=3, min_samples_split=10, random_state=42, splitter=best; total time=   0.0s\n",
            "[CV] END criterion=gini, max_depth=10, max_features=sqrt, min_samples_leaf=3, min_samples_split=10, random_state=42, splitter=best; total time=   0.0s\n",
            "[CV] END criterion=gini, max_depth=10, max_features=sqrt, min_samples_leaf=3, min_samples_split=10, random_state=42, splitter=random; total time=   0.0s\n",
            "[CV] END criterion=gini, max_depth=10, max_features=sqrt, min_samples_leaf=3, min_samples_split=10, random_state=42, splitter=random; total time=   0.0s\n",
            "[CV] END criterion=gini, max_depth=10, max_features=sqrt, min_samples_leaf=3, min_samples_split=10, random_state=42, splitter=random; total time=   0.0s\n",
            "[CV] END criterion=gini, max_depth=10, max_features=log2, min_samples_leaf=1, min_samples_split=2, random_state=42, splitter=best; total time=   0.0s\n",
            "[CV] END criterion=gini, max_depth=10, max_features=log2, min_samples_leaf=1, min_samples_split=2, random_state=42, splitter=best; total time=   0.0s\n",
            "[CV] END criterion=gini, max_depth=10, max_features=log2, min_samples_leaf=1, min_samples_split=2, random_state=42, splitter=best; total time=   0.0s\n",
            "[CV] END criterion=gini, max_depth=10, max_features=log2, min_samples_leaf=1, min_samples_split=2, random_state=42, splitter=random; total time=   0.0s\n",
            "[CV] END criterion=gini, max_depth=10, max_features=log2, min_samples_leaf=1, min_samples_split=2, random_state=42, splitter=random; total time=   0.0s\n",
            "[CV] END criterion=gini, max_depth=10, max_features=log2, min_samples_leaf=1, min_samples_split=2, random_state=42, splitter=random; total time=   0.0s\n",
            "[CV] END criterion=gini, max_depth=10, max_features=log2, min_samples_leaf=1, min_samples_split=5, random_state=42, splitter=best; total time=   0.0s\n",
            "[CV] END criterion=gini, max_depth=10, max_features=log2, min_samples_leaf=1, min_samples_split=5, random_state=42, splitter=best; total time=   0.0s\n",
            "[CV] END criterion=gini, max_depth=10, max_features=log2, min_samples_leaf=1, min_samples_split=5, random_state=42, splitter=best; total time=   0.0s\n",
            "[CV] END criterion=gini, max_depth=10, max_features=log2, min_samples_leaf=1, min_samples_split=5, random_state=42, splitter=random; total time=   0.0s\n",
            "[CV] END criterion=gini, max_depth=10, max_features=log2, min_samples_leaf=1, min_samples_split=5, random_state=42, splitter=random; total time=   0.0s\n",
            "[CV] END criterion=gini, max_depth=10, max_features=log2, min_samples_leaf=1, min_samples_split=5, random_state=42, splitter=random; total time=   0.0s\n",
            "[CV] END criterion=gini, max_depth=10, max_features=log2, min_samples_leaf=1, min_samples_split=10, random_state=42, splitter=best; total time=   0.0s\n",
            "[CV] END criterion=gini, max_depth=10, max_features=log2, min_samples_leaf=1, min_samples_split=10, random_state=42, splitter=best; total time=   0.0s\n",
            "[CV] END criterion=gini, max_depth=10, max_features=log2, min_samples_leaf=1, min_samples_split=10, random_state=42, splitter=best; total time=   0.0s\n",
            "[CV] END criterion=gini, max_depth=10, max_features=log2, min_samples_leaf=1, min_samples_split=10, random_state=42, splitter=random; total time=   0.0s\n",
            "[CV] END criterion=gini, max_depth=10, max_features=log2, min_samples_leaf=1, min_samples_split=10, random_state=42, splitter=random; total time=   0.0s\n",
            "[CV] END criterion=gini, max_depth=10, max_features=log2, min_samples_leaf=1, min_samples_split=10, random_state=42, splitter=random; total time=   0.0s\n",
            "[CV] END criterion=gini, max_depth=10, max_features=log2, min_samples_leaf=2, min_samples_split=2, random_state=42, splitter=best; total time=   0.0s\n",
            "[CV] END criterion=gini, max_depth=10, max_features=log2, min_samples_leaf=2, min_samples_split=2, random_state=42, splitter=best; total time=   0.0s\n",
            "[CV] END criterion=gini, max_depth=10, max_features=log2, min_samples_leaf=2, min_samples_split=2, random_state=42, splitter=best; total time=   0.0s\n",
            "[CV] END criterion=gini, max_depth=10, max_features=log2, min_samples_leaf=2, min_samples_split=2, random_state=42, splitter=random; total time=   0.0s\n",
            "[CV] END criterion=gini, max_depth=10, max_features=log2, min_samples_leaf=2, min_samples_split=2, random_state=42, splitter=random; total time=   0.0s\n",
            "[CV] END criterion=gini, max_depth=10, max_features=log2, min_samples_leaf=2, min_samples_split=2, random_state=42, splitter=random; total time=   0.0s\n",
            "[CV] END criterion=gini, max_depth=10, max_features=log2, min_samples_leaf=2, min_samples_split=5, random_state=42, splitter=best; total time=   0.0s\n",
            "[CV] END criterion=gini, max_depth=10, max_features=log2, min_samples_leaf=2, min_samples_split=5, random_state=42, splitter=best; total time=   0.0s\n",
            "[CV] END criterion=gini, max_depth=10, max_features=log2, min_samples_leaf=2, min_samples_split=5, random_state=42, splitter=best; total time=   0.0s\n",
            "[CV] END criterion=gini, max_depth=10, max_features=log2, min_samples_leaf=2, min_samples_split=5, random_state=42, splitter=random; total time=   0.0s\n",
            "[CV] END criterion=gini, max_depth=10, max_features=log2, min_samples_leaf=2, min_samples_split=5, random_state=42, splitter=random; total time=   0.0s\n",
            "[CV] END criterion=gini, max_depth=10, max_features=log2, min_samples_leaf=2, min_samples_split=5, random_state=42, splitter=random; total time=   0.0s\n",
            "[CV] END criterion=gini, max_depth=10, max_features=log2, min_samples_leaf=2, min_samples_split=10, random_state=42, splitter=best; total time=   0.0s\n",
            "[CV] END criterion=gini, max_depth=10, max_features=log2, min_samples_leaf=2, min_samples_split=10, random_state=42, splitter=best; total time=   0.0s\n",
            "[CV] END criterion=gini, max_depth=10, max_features=log2, min_samples_leaf=2, min_samples_split=10, random_state=42, splitter=best; total time=   0.0s\n",
            "[CV] END criterion=gini, max_depth=10, max_features=log2, min_samples_leaf=2, min_samples_split=10, random_state=42, splitter=random; total time=   0.0s\n",
            "[CV] END criterion=gini, max_depth=10, max_features=log2, min_samples_leaf=2, min_samples_split=10, random_state=42, splitter=random; total time=   0.0s\n",
            "[CV] END criterion=gini, max_depth=10, max_features=log2, min_samples_leaf=2, min_samples_split=10, random_state=42, splitter=random; total time=   0.0s\n",
            "[CV] END criterion=gini, max_depth=10, max_features=log2, min_samples_leaf=3, min_samples_split=2, random_state=42, splitter=best; total time=   0.0s\n",
            "[CV] END criterion=gini, max_depth=10, max_features=log2, min_samples_leaf=3, min_samples_split=2, random_state=42, splitter=best; total time=   0.0s\n",
            "[CV] END criterion=gini, max_depth=10, max_features=log2, min_samples_leaf=3, min_samples_split=2, random_state=42, splitter=best; total time=   0.0s\n",
            "[CV] END criterion=gini, max_depth=10, max_features=log2, min_samples_leaf=3, min_samples_split=2, random_state=42, splitter=random; total time=   0.0s\n",
            "[CV] END criterion=gini, max_depth=10, max_features=log2, min_samples_leaf=3, min_samples_split=2, random_state=42, splitter=random; total time=   0.0s\n",
            "[CV] END criterion=gini, max_depth=10, max_features=log2, min_samples_leaf=3, min_samples_split=2, random_state=42, splitter=random; total time=   0.0s\n",
            "[CV] END criterion=gini, max_depth=10, max_features=log2, min_samples_leaf=3, min_samples_split=5, random_state=42, splitter=best; total time=   0.0s\n",
            "[CV] END criterion=gini, max_depth=10, max_features=log2, min_samples_leaf=3, min_samples_split=5, random_state=42, splitter=best; total time=   0.0s\n",
            "[CV] END criterion=gini, max_depth=10, max_features=log2, min_samples_leaf=3, min_samples_split=5, random_state=42, splitter=best; total time=   0.0s\n",
            "[CV] END criterion=gini, max_depth=10, max_features=log2, min_samples_leaf=3, min_samples_split=5, random_state=42, splitter=random; total time=   0.0s\n",
            "[CV] END criterion=gini, max_depth=10, max_features=log2, min_samples_leaf=3, min_samples_split=5, random_state=42, splitter=random; total time=   0.0s\n",
            "[CV] END criterion=gini, max_depth=10, max_features=log2, min_samples_leaf=3, min_samples_split=5, random_state=42, splitter=random; total time=   0.0s\n",
            "[CV] END criterion=gini, max_depth=10, max_features=log2, min_samples_leaf=3, min_samples_split=10, random_state=42, splitter=best; total time=   0.0s\n",
            "[CV] END criterion=gini, max_depth=10, max_features=log2, min_samples_leaf=3, min_samples_split=10, random_state=42, splitter=best; total time=   0.0s\n",
            "[CV] END criterion=gini, max_depth=10, max_features=log2, min_samples_leaf=3, min_samples_split=10, random_state=42, splitter=best; total time=   0.0s\n",
            "[CV] END criterion=gini, max_depth=10, max_features=log2, min_samples_leaf=3, min_samples_split=10, random_state=42, splitter=random; total time=   0.0s\n",
            "[CV] END criterion=gini, max_depth=10, max_features=log2, min_samples_leaf=3, min_samples_split=10, random_state=42, splitter=random; total time=   0.0s\n",
            "[CV] END criterion=gini, max_depth=10, max_features=log2, min_samples_leaf=3, min_samples_split=10, random_state=42, splitter=random; total time=   0.0s\n",
            "[CV] END criterion=gini, max_depth=20, max_features=None, min_samples_leaf=1, min_samples_split=2, random_state=42, splitter=best; total time=   0.0s\n",
            "[CV] END criterion=gini, max_depth=20, max_features=None, min_samples_leaf=1, min_samples_split=2, random_state=42, splitter=best; total time=   0.0s\n",
            "[CV] END criterion=gini, max_depth=20, max_features=None, min_samples_leaf=1, min_samples_split=2, random_state=42, splitter=best; total time=   0.0s\n",
            "[CV] END criterion=gini, max_depth=20, max_features=None, min_samples_leaf=1, min_samples_split=2, random_state=42, splitter=random; total time=   0.0s\n",
            "[CV] END criterion=gini, max_depth=20, max_features=None, min_samples_leaf=1, min_samples_split=2, random_state=42, splitter=random; total time=   0.0s\n",
            "[CV] END criterion=gini, max_depth=20, max_features=None, min_samples_leaf=1, min_samples_split=2, random_state=42, splitter=random; total time=   0.0s\n",
            "[CV] END criterion=gini, max_depth=20, max_features=None, min_samples_leaf=1, min_samples_split=5, random_state=42, splitter=best; total time=   0.0s\n",
            "[CV] END criterion=gini, max_depth=20, max_features=None, min_samples_leaf=1, min_samples_split=5, random_state=42, splitter=best; total time=   0.0s\n",
            "[CV] END criterion=gini, max_depth=20, max_features=None, min_samples_leaf=1, min_samples_split=5, random_state=42, splitter=best; total time=   0.0s\n",
            "[CV] END criterion=gini, max_depth=20, max_features=None, min_samples_leaf=1, min_samples_split=5, random_state=42, splitter=random; total time=   0.0s\n",
            "[CV] END criterion=gini, max_depth=20, max_features=None, min_samples_leaf=1, min_samples_split=5, random_state=42, splitter=random; total time=   0.0s\n",
            "[CV] END criterion=gini, max_depth=20, max_features=None, min_samples_leaf=1, min_samples_split=5, random_state=42, splitter=random; total time=   0.0s\n",
            "[CV] END criterion=gini, max_depth=20, max_features=None, min_samples_leaf=1, min_samples_split=10, random_state=42, splitter=best; total time=   0.0s\n",
            "[CV] END criterion=gini, max_depth=20, max_features=None, min_samples_leaf=1, min_samples_split=10, random_state=42, splitter=best; total time=   0.0s\n",
            "[CV] END criterion=gini, max_depth=20, max_features=None, min_samples_leaf=1, min_samples_split=10, random_state=42, splitter=best; total time=   0.0s\n",
            "[CV] END criterion=gini, max_depth=20, max_features=None, min_samples_leaf=1, min_samples_split=10, random_state=42, splitter=random; total time=   0.0s\n",
            "[CV] END criterion=gini, max_depth=20, max_features=None, min_samples_leaf=1, min_samples_split=10, random_state=42, splitter=random; total time=   0.0s\n",
            "[CV] END criterion=gini, max_depth=20, max_features=None, min_samples_leaf=1, min_samples_split=10, random_state=42, splitter=random; total time=   0.0s\n",
            "[CV] END criterion=gini, max_depth=20, max_features=None, min_samples_leaf=2, min_samples_split=2, random_state=42, splitter=best; total time=   0.0s\n",
            "[CV] END criterion=gini, max_depth=20, max_features=None, min_samples_leaf=2, min_samples_split=2, random_state=42, splitter=best; total time=   0.0s\n",
            "[CV] END criterion=gini, max_depth=20, max_features=None, min_samples_leaf=2, min_samples_split=2, random_state=42, splitter=best; total time=   0.0s\n",
            "[CV] END criterion=gini, max_depth=20, max_features=None, min_samples_leaf=2, min_samples_split=2, random_state=42, splitter=random; total time=   0.0s\n",
            "[CV] END criterion=gini, max_depth=20, max_features=None, min_samples_leaf=2, min_samples_split=2, random_state=42, splitter=random; total time=   0.0s\n",
            "[CV] END criterion=gini, max_depth=20, max_features=None, min_samples_leaf=2, min_samples_split=2, random_state=42, splitter=random; total time=   0.0s\n",
            "[CV] END criterion=gini, max_depth=20, max_features=None, min_samples_leaf=2, min_samples_split=5, random_state=42, splitter=best; total time=   0.0s\n",
            "[CV] END criterion=gini, max_depth=20, max_features=None, min_samples_leaf=2, min_samples_split=5, random_state=42, splitter=best; total time=   0.0s\n",
            "[CV] END criterion=gini, max_depth=20, max_features=None, min_samples_leaf=2, min_samples_split=5, random_state=42, splitter=best; total time=   0.0s\n",
            "[CV] END criterion=gini, max_depth=20, max_features=None, min_samples_leaf=2, min_samples_split=5, random_state=42, splitter=random; total time=   0.0s\n",
            "[CV] END criterion=gini, max_depth=20, max_features=None, min_samples_leaf=2, min_samples_split=5, random_state=42, splitter=random; total time=   0.0s\n",
            "[CV] END criterion=gini, max_depth=20, max_features=None, min_samples_leaf=2, min_samples_split=5, random_state=42, splitter=random; total time=   0.0s\n",
            "[CV] END criterion=gini, max_depth=20, max_features=None, min_samples_leaf=2, min_samples_split=10, random_state=42, splitter=best; total time=   0.0s\n",
            "[CV] END criterion=gini, max_depth=20, max_features=None, min_samples_leaf=2, min_samples_split=10, random_state=42, splitter=best; total time=   0.0s\n",
            "[CV] END criterion=gini, max_depth=20, max_features=None, min_samples_leaf=2, min_samples_split=10, random_state=42, splitter=best; total time=   0.0s\n",
            "[CV] END criterion=gini, max_depth=20, max_features=None, min_samples_leaf=2, min_samples_split=10, random_state=42, splitter=random; total time=   0.0s\n",
            "[CV] END criterion=gini, max_depth=20, max_features=None, min_samples_leaf=2, min_samples_split=10, random_state=42, splitter=random; total time=   0.0s\n",
            "[CV] END criterion=gini, max_depth=20, max_features=None, min_samples_leaf=2, min_samples_split=10, random_state=42, splitter=random; total time=   0.0s\n",
            "[CV] END criterion=gini, max_depth=20, max_features=None, min_samples_leaf=3, min_samples_split=2, random_state=42, splitter=best; total time=   0.0s\n",
            "[CV] END criterion=gini, max_depth=20, max_features=None, min_samples_leaf=3, min_samples_split=2, random_state=42, splitter=best; total time=   0.0s\n",
            "[CV] END criterion=gini, max_depth=20, max_features=None, min_samples_leaf=3, min_samples_split=2, random_state=42, splitter=best; total time=   0.0s\n",
            "[CV] END criterion=gini, max_depth=20, max_features=None, min_samples_leaf=3, min_samples_split=2, random_state=42, splitter=random; total time=   0.0s\n",
            "[CV] END criterion=gini, max_depth=20, max_features=None, min_samples_leaf=3, min_samples_split=2, random_state=42, splitter=random; total time=   0.0s\n",
            "[CV] END criterion=gini, max_depth=20, max_features=None, min_samples_leaf=3, min_samples_split=2, random_state=42, splitter=random; total time=   0.0s\n",
            "[CV] END criterion=gini, max_depth=20, max_features=None, min_samples_leaf=3, min_samples_split=5, random_state=42, splitter=best; total time=   0.0s\n",
            "[CV] END criterion=gini, max_depth=20, max_features=None, min_samples_leaf=3, min_samples_split=5, random_state=42, splitter=best; total time=   0.0s\n",
            "[CV] END criterion=gini, max_depth=20, max_features=None, min_samples_leaf=3, min_samples_split=5, random_state=42, splitter=best; total time=   0.0s\n",
            "[CV] END criterion=gini, max_depth=20, max_features=None, min_samples_leaf=3, min_samples_split=5, random_state=42, splitter=random; total time=   0.0s\n",
            "[CV] END criterion=gini, max_depth=20, max_features=None, min_samples_leaf=3, min_samples_split=5, random_state=42, splitter=random; total time=   0.0s\n",
            "[CV] END criterion=gini, max_depth=20, max_features=None, min_samples_leaf=3, min_samples_split=5, random_state=42, splitter=random; total time=   0.0s\n",
            "[CV] END criterion=gini, max_depth=20, max_features=None, min_samples_leaf=3, min_samples_split=10, random_state=42, splitter=best; total time=   0.0s\n",
            "[CV] END criterion=gini, max_depth=20, max_features=None, min_samples_leaf=3, min_samples_split=10, random_state=42, splitter=best; total time=   0.0s\n",
            "[CV] END criterion=gini, max_depth=20, max_features=None, min_samples_leaf=3, min_samples_split=10, random_state=42, splitter=best; total time=   0.0s\n",
            "[CV] END criterion=gini, max_depth=20, max_features=None, min_samples_leaf=3, min_samples_split=10, random_state=42, splitter=random; total time=   0.0s\n",
            "[CV] END criterion=gini, max_depth=20, max_features=None, min_samples_leaf=3, min_samples_split=10, random_state=42, splitter=random; total time=   0.0s\n",
            "[CV] END criterion=gini, max_depth=20, max_features=None, min_samples_leaf=3, min_samples_split=10, random_state=42, splitter=random; total time=   0.0s\n",
            "[CV] END criterion=gini, max_depth=20, max_features=sqrt, min_samples_leaf=1, min_samples_split=2, random_state=42, splitter=best; total time=   0.0s\n",
            "[CV] END criterion=gini, max_depth=20, max_features=sqrt, min_samples_leaf=1, min_samples_split=2, random_state=42, splitter=best; total time=   0.0s\n",
            "[CV] END criterion=gini, max_depth=20, max_features=sqrt, min_samples_leaf=1, min_samples_split=2, random_state=42, splitter=best; total time=   0.0s\n",
            "[CV] END criterion=gini, max_depth=20, max_features=sqrt, min_samples_leaf=1, min_samples_split=2, random_state=42, splitter=random; total time=   0.0s\n",
            "[CV] END criterion=gini, max_depth=20, max_features=sqrt, min_samples_leaf=1, min_samples_split=2, random_state=42, splitter=random; total time=   0.0s\n",
            "[CV] END criterion=gini, max_depth=20, max_features=sqrt, min_samples_leaf=1, min_samples_split=2, random_state=42, splitter=random; total time=   0.0s\n",
            "[CV] END criterion=gini, max_depth=20, max_features=sqrt, min_samples_leaf=1, min_samples_split=5, random_state=42, splitter=best; total time=   0.0s\n",
            "[CV] END criterion=gini, max_depth=20, max_features=sqrt, min_samples_leaf=1, min_samples_split=5, random_state=42, splitter=best; total time=   0.0s\n",
            "[CV] END criterion=gini, max_depth=20, max_features=sqrt, min_samples_leaf=1, min_samples_split=5, random_state=42, splitter=best; total time=   0.0s\n",
            "[CV] END criterion=gini, max_depth=20, max_features=sqrt, min_samples_leaf=1, min_samples_split=5, random_state=42, splitter=random; total time=   0.0s\n",
            "[CV] END criterion=gini, max_depth=20, max_features=sqrt, min_samples_leaf=1, min_samples_split=5, random_state=42, splitter=random; total time=   0.0s\n",
            "[CV] END criterion=gini, max_depth=20, max_features=sqrt, min_samples_leaf=1, min_samples_split=5, random_state=42, splitter=random; total time=   0.0s\n",
            "[CV] END criterion=gini, max_depth=20, max_features=sqrt, min_samples_leaf=1, min_samples_split=10, random_state=42, splitter=best; total time=   0.0s\n",
            "[CV] END criterion=gini, max_depth=20, max_features=sqrt, min_samples_leaf=1, min_samples_split=10, random_state=42, splitter=best; total time=   0.0s\n",
            "[CV] END criterion=gini, max_depth=20, max_features=sqrt, min_samples_leaf=1, min_samples_split=10, random_state=42, splitter=best; total time=   0.0s\n",
            "[CV] END criterion=gini, max_depth=20, max_features=sqrt, min_samples_leaf=1, min_samples_split=10, random_state=42, splitter=random; total time=   0.0s\n",
            "[CV] END criterion=gini, max_depth=20, max_features=sqrt, min_samples_leaf=1, min_samples_split=10, random_state=42, splitter=random; total time=   0.0s\n",
            "[CV] END criterion=gini, max_depth=20, max_features=sqrt, min_samples_leaf=1, min_samples_split=10, random_state=42, splitter=random; total time=   0.0s\n",
            "[CV] END criterion=gini, max_depth=20, max_features=sqrt, min_samples_leaf=2, min_samples_split=2, random_state=42, splitter=best; total time=   0.0s\n",
            "[CV] END criterion=gini, max_depth=20, max_features=sqrt, min_samples_leaf=2, min_samples_split=2, random_state=42, splitter=best; total time=   0.0s\n",
            "[CV] END criterion=gini, max_depth=20, max_features=sqrt, min_samples_leaf=2, min_samples_split=2, random_state=42, splitter=best; total time=   0.0s\n",
            "[CV] END criterion=gini, max_depth=20, max_features=sqrt, min_samples_leaf=2, min_samples_split=2, random_state=42, splitter=random; total time=   0.0s\n",
            "[CV] END criterion=gini, max_depth=20, max_features=sqrt, min_samples_leaf=2, min_samples_split=2, random_state=42, splitter=random; total time=   0.0s\n",
            "[CV] END criterion=gini, max_depth=20, max_features=sqrt, min_samples_leaf=2, min_samples_split=2, random_state=42, splitter=random; total time=   0.0s\n",
            "[CV] END criterion=gini, max_depth=20, max_features=sqrt, min_samples_leaf=2, min_samples_split=5, random_state=42, splitter=best; total time=   0.0s\n",
            "[CV] END criterion=gini, max_depth=20, max_features=sqrt, min_samples_leaf=2, min_samples_split=5, random_state=42, splitter=best; total time=   0.0s\n",
            "[CV] END criterion=gini, max_depth=20, max_features=sqrt, min_samples_leaf=2, min_samples_split=5, random_state=42, splitter=best; total time=   0.0s\n",
            "[CV] END criterion=gini, max_depth=20, max_features=sqrt, min_samples_leaf=2, min_samples_split=5, random_state=42, splitter=random; total time=   0.0s\n",
            "[CV] END criterion=gini, max_depth=20, max_features=sqrt, min_samples_leaf=2, min_samples_split=5, random_state=42, splitter=random; total time=   0.0s\n",
            "[CV] END criterion=gini, max_depth=20, max_features=sqrt, min_samples_leaf=2, min_samples_split=5, random_state=42, splitter=random; total time=   0.0s\n",
            "[CV] END criterion=gini, max_depth=20, max_features=sqrt, min_samples_leaf=2, min_samples_split=10, random_state=42, splitter=best; total time=   0.0s\n",
            "[CV] END criterion=gini, max_depth=20, max_features=sqrt, min_samples_leaf=2, min_samples_split=10, random_state=42, splitter=best; total time=   0.0s\n",
            "[CV] END criterion=gini, max_depth=20, max_features=sqrt, min_samples_leaf=2, min_samples_split=10, random_state=42, splitter=best; total time=   0.0s\n",
            "[CV] END criterion=gini, max_depth=20, max_features=sqrt, min_samples_leaf=2, min_samples_split=10, random_state=42, splitter=random; total time=   0.0s\n",
            "[CV] END criterion=gini, max_depth=20, max_features=sqrt, min_samples_leaf=2, min_samples_split=10, random_state=42, splitter=random; total time=   0.0s\n",
            "[CV] END criterion=gini, max_depth=20, max_features=sqrt, min_samples_leaf=2, min_samples_split=10, random_state=42, splitter=random; total time=   0.0s\n",
            "[CV] END criterion=gini, max_depth=20, max_features=sqrt, min_samples_leaf=3, min_samples_split=2, random_state=42, splitter=best; total time=   0.0s\n",
            "[CV] END criterion=gini, max_depth=20, max_features=sqrt, min_samples_leaf=3, min_samples_split=2, random_state=42, splitter=best; total time=   0.0s\n",
            "[CV] END criterion=gini, max_depth=20, max_features=sqrt, min_samples_leaf=3, min_samples_split=2, random_state=42, splitter=best; total time=   0.0s\n",
            "[CV] END criterion=gini, max_depth=20, max_features=sqrt, min_samples_leaf=3, min_samples_split=2, random_state=42, splitter=random; total time=   0.0s\n",
            "[CV] END criterion=gini, max_depth=20, max_features=sqrt, min_samples_leaf=3, min_samples_split=2, random_state=42, splitter=random; total time=   0.0s\n",
            "[CV] END criterion=gini, max_depth=20, max_features=sqrt, min_samples_leaf=3, min_samples_split=2, random_state=42, splitter=random; total time=   0.0s\n",
            "[CV] END criterion=gini, max_depth=20, max_features=sqrt, min_samples_leaf=3, min_samples_split=5, random_state=42, splitter=best; total time=   0.0s\n",
            "[CV] END criterion=gini, max_depth=20, max_features=sqrt, min_samples_leaf=3, min_samples_split=5, random_state=42, splitter=best; total time=   0.0s\n",
            "[CV] END criterion=gini, max_depth=20, max_features=sqrt, min_samples_leaf=3, min_samples_split=5, random_state=42, splitter=best; total time=   0.0s\n",
            "[CV] END criterion=gini, max_depth=20, max_features=sqrt, min_samples_leaf=3, min_samples_split=5, random_state=42, splitter=random; total time=   0.0s\n",
            "[CV] END criterion=gini, max_depth=20, max_features=sqrt, min_samples_leaf=3, min_samples_split=5, random_state=42, splitter=random; total time=   0.0s\n",
            "[CV] END criterion=gini, max_depth=20, max_features=sqrt, min_samples_leaf=3, min_samples_split=5, random_state=42, splitter=random; total time=   0.0s\n",
            "[CV] END criterion=gini, max_depth=20, max_features=sqrt, min_samples_leaf=3, min_samples_split=10, random_state=42, splitter=best; total time=   0.0s\n",
            "[CV] END criterion=gini, max_depth=20, max_features=sqrt, min_samples_leaf=3, min_samples_split=10, random_state=42, splitter=best; total time=   0.0s\n",
            "[CV] END criterion=gini, max_depth=20, max_features=sqrt, min_samples_leaf=3, min_samples_split=10, random_state=42, splitter=best; total time=   0.0s\n",
            "[CV] END criterion=gini, max_depth=20, max_features=sqrt, min_samples_leaf=3, min_samples_split=10, random_state=42, splitter=random; total time=   0.0s\n",
            "[CV] END criterion=gini, max_depth=20, max_features=sqrt, min_samples_leaf=3, min_samples_split=10, random_state=42, splitter=random; total time=   0.0s\n",
            "[CV] END criterion=gini, max_depth=20, max_features=sqrt, min_samples_leaf=3, min_samples_split=10, random_state=42, splitter=random; total time=   0.0s\n",
            "[CV] END criterion=gini, max_depth=20, max_features=log2, min_samples_leaf=1, min_samples_split=2, random_state=42, splitter=best; total time=   0.0s\n",
            "[CV] END criterion=gini, max_depth=20, max_features=log2, min_samples_leaf=1, min_samples_split=2, random_state=42, splitter=best; total time=   0.0s\n",
            "[CV] END criterion=gini, max_depth=20, max_features=log2, min_samples_leaf=1, min_samples_split=2, random_state=42, splitter=best; total time=   0.0s\n",
            "[CV] END criterion=gini, max_depth=20, max_features=log2, min_samples_leaf=1, min_samples_split=2, random_state=42, splitter=random; total time=   0.0s\n",
            "[CV] END criterion=gini, max_depth=20, max_features=log2, min_samples_leaf=1, min_samples_split=2, random_state=42, splitter=random; total time=   0.0s\n",
            "[CV] END criterion=gini, max_depth=20, max_features=log2, min_samples_leaf=1, min_samples_split=2, random_state=42, splitter=random; total time=   0.0s\n",
            "[CV] END criterion=gini, max_depth=20, max_features=log2, min_samples_leaf=1, min_samples_split=5, random_state=42, splitter=best; total time=   0.0s\n",
            "[CV] END criterion=gini, max_depth=20, max_features=log2, min_samples_leaf=1, min_samples_split=5, random_state=42, splitter=best; total time=   0.0s\n",
            "[CV] END criterion=gini, max_depth=20, max_features=log2, min_samples_leaf=1, min_samples_split=5, random_state=42, splitter=best; total time=   0.0s\n",
            "[CV] END criterion=gini, max_depth=20, max_features=log2, min_samples_leaf=1, min_samples_split=5, random_state=42, splitter=random; total time=   0.0s\n",
            "[CV] END criterion=gini, max_depth=20, max_features=log2, min_samples_leaf=1, min_samples_split=5, random_state=42, splitter=random; total time=   0.0s\n",
            "[CV] END criterion=gini, max_depth=20, max_features=log2, min_samples_leaf=1, min_samples_split=5, random_state=42, splitter=random; total time=   0.0s\n",
            "[CV] END criterion=gini, max_depth=20, max_features=log2, min_samples_leaf=1, min_samples_split=10, random_state=42, splitter=best; total time=   0.0s\n",
            "[CV] END criterion=gini, max_depth=20, max_features=log2, min_samples_leaf=1, min_samples_split=10, random_state=42, splitter=best; total time=   0.0s\n",
            "[CV] END criterion=gini, max_depth=20, max_features=log2, min_samples_leaf=1, min_samples_split=10, random_state=42, splitter=best; total time=   0.0s\n",
            "[CV] END criterion=gini, max_depth=20, max_features=log2, min_samples_leaf=1, min_samples_split=10, random_state=42, splitter=random; total time=   0.0s\n",
            "[CV] END criterion=gini, max_depth=20, max_features=log2, min_samples_leaf=1, min_samples_split=10, random_state=42, splitter=random; total time=   0.0s\n",
            "[CV] END criterion=gini, max_depth=20, max_features=log2, min_samples_leaf=1, min_samples_split=10, random_state=42, splitter=random; total time=   0.0s\n",
            "[CV] END criterion=gini, max_depth=20, max_features=log2, min_samples_leaf=2, min_samples_split=2, random_state=42, splitter=best; total time=   0.0s\n",
            "[CV] END criterion=gini, max_depth=20, max_features=log2, min_samples_leaf=2, min_samples_split=2, random_state=42, splitter=best; total time=   0.0s\n",
            "[CV] END criterion=gini, max_depth=20, max_features=log2, min_samples_leaf=2, min_samples_split=2, random_state=42, splitter=best; total time=   0.0s\n",
            "[CV] END criterion=gini, max_depth=20, max_features=log2, min_samples_leaf=2, min_samples_split=2, random_state=42, splitter=random; total time=   0.0s\n",
            "[CV] END criterion=gini, max_depth=20, max_features=log2, min_samples_leaf=2, min_samples_split=2, random_state=42, splitter=random; total time=   0.0s\n",
            "[CV] END criterion=gini, max_depth=20, max_features=log2, min_samples_leaf=2, min_samples_split=2, random_state=42, splitter=random; total time=   0.0s\n",
            "[CV] END criterion=gini, max_depth=20, max_features=log2, min_samples_leaf=2, min_samples_split=5, random_state=42, splitter=best; total time=   0.0s\n",
            "[CV] END criterion=gini, max_depth=20, max_features=log2, min_samples_leaf=2, min_samples_split=5, random_state=42, splitter=best; total time=   0.0s\n",
            "[CV] END criterion=gini, max_depth=20, max_features=log2, min_samples_leaf=2, min_samples_split=5, random_state=42, splitter=best; total time=   0.0s\n",
            "[CV] END criterion=gini, max_depth=20, max_features=log2, min_samples_leaf=2, min_samples_split=5, random_state=42, splitter=random; total time=   0.0s\n",
            "[CV] END criterion=gini, max_depth=20, max_features=log2, min_samples_leaf=2, min_samples_split=5, random_state=42, splitter=random; total time=   0.0s\n",
            "[CV] END criterion=gini, max_depth=20, max_features=log2, min_samples_leaf=2, min_samples_split=5, random_state=42, splitter=random; total time=   0.0s\n",
            "[CV] END criterion=gini, max_depth=20, max_features=log2, min_samples_leaf=2, min_samples_split=10, random_state=42, splitter=best; total time=   0.0s\n",
            "[CV] END criterion=gini, max_depth=20, max_features=log2, min_samples_leaf=2, min_samples_split=10, random_state=42, splitter=best; total time=   0.0s\n",
            "[CV] END criterion=gini, max_depth=20, max_features=log2, min_samples_leaf=2, min_samples_split=10, random_state=42, splitter=best; total time=   0.0s\n",
            "[CV] END criterion=gini, max_depth=20, max_features=log2, min_samples_leaf=2, min_samples_split=10, random_state=42, splitter=random; total time=   0.0s\n",
            "[CV] END criterion=gini, max_depth=20, max_features=log2, min_samples_leaf=2, min_samples_split=10, random_state=42, splitter=random; total time=   0.0s\n",
            "[CV] END criterion=gini, max_depth=20, max_features=log2, min_samples_leaf=2, min_samples_split=10, random_state=42, splitter=random; total time=   0.0s\n",
            "[CV] END criterion=gini, max_depth=20, max_features=log2, min_samples_leaf=3, min_samples_split=2, random_state=42, splitter=best; total time=   0.0s\n",
            "[CV] END criterion=gini, max_depth=20, max_features=log2, min_samples_leaf=3, min_samples_split=2, random_state=42, splitter=best; total time=   0.0s\n",
            "[CV] END criterion=gini, max_depth=20, max_features=log2, min_samples_leaf=3, min_samples_split=2, random_state=42, splitter=best; total time=   0.0s\n",
            "[CV] END criterion=gini, max_depth=20, max_features=log2, min_samples_leaf=3, min_samples_split=2, random_state=42, splitter=random; total time=   0.0s\n",
            "[CV] END criterion=gini, max_depth=20, max_features=log2, min_samples_leaf=3, min_samples_split=2, random_state=42, splitter=random; total time=   0.0s\n",
            "[CV] END criterion=gini, max_depth=20, max_features=log2, min_samples_leaf=3, min_samples_split=2, random_state=42, splitter=random; total time=   0.0s\n",
            "[CV] END criterion=gini, max_depth=20, max_features=log2, min_samples_leaf=3, min_samples_split=5, random_state=42, splitter=best; total time=   0.0s\n",
            "[CV] END criterion=gini, max_depth=20, max_features=log2, min_samples_leaf=3, min_samples_split=5, random_state=42, splitter=best; total time=   0.0s\n",
            "[CV] END criterion=gini, max_depth=20, max_features=log2, min_samples_leaf=3, min_samples_split=5, random_state=42, splitter=best; total time=   0.0s\n",
            "[CV] END criterion=gini, max_depth=20, max_features=log2, min_samples_leaf=3, min_samples_split=5, random_state=42, splitter=random; total time=   0.0s\n",
            "[CV] END criterion=gini, max_depth=20, max_features=log2, min_samples_leaf=3, min_samples_split=5, random_state=42, splitter=random; total time=   0.0s\n",
            "[CV] END criterion=gini, max_depth=20, max_features=log2, min_samples_leaf=3, min_samples_split=5, random_state=42, splitter=random; total time=   0.0s\n",
            "[CV] END criterion=gini, max_depth=20, max_features=log2, min_samples_leaf=3, min_samples_split=10, random_state=42, splitter=best; total time=   0.0s\n",
            "[CV] END criterion=gini, max_depth=20, max_features=log2, min_samples_leaf=3, min_samples_split=10, random_state=42, splitter=best; total time=   0.0s\n",
            "[CV] END criterion=gini, max_depth=20, max_features=log2, min_samples_leaf=3, min_samples_split=10, random_state=42, splitter=best; total time=   0.0s\n",
            "[CV] END criterion=gini, max_depth=20, max_features=log2, min_samples_leaf=3, min_samples_split=10, random_state=42, splitter=random; total time=   0.0s\n",
            "[CV] END criterion=gini, max_depth=20, max_features=log2, min_samples_leaf=3, min_samples_split=10, random_state=42, splitter=random; total time=   0.0s\n",
            "[CV] END criterion=gini, max_depth=20, max_features=log2, min_samples_leaf=3, min_samples_split=10, random_state=42, splitter=random; total time=   0.0s\n",
            "[CV] END criterion=entropy, max_depth=None, max_features=None, min_samples_leaf=1, min_samples_split=2, random_state=42, splitter=best; total time=   0.0s\n",
            "[CV] END criterion=entropy, max_depth=None, max_features=None, min_samples_leaf=1, min_samples_split=2, random_state=42, splitter=best; total time=   0.0s\n",
            "[CV] END criterion=entropy, max_depth=None, max_features=None, min_samples_leaf=1, min_samples_split=2, random_state=42, splitter=best; total time=   0.0s\n",
            "[CV] END criterion=entropy, max_depth=None, max_features=None, min_samples_leaf=1, min_samples_split=2, random_state=42, splitter=random; total time=   0.0s\n",
            "[CV] END criterion=entropy, max_depth=None, max_features=None, min_samples_leaf=1, min_samples_split=2, random_state=42, splitter=random; total time=   0.0s\n",
            "[CV] END criterion=entropy, max_depth=None, max_features=None, min_samples_leaf=1, min_samples_split=2, random_state=42, splitter=random; total time=   0.0s\n",
            "[CV] END criterion=entropy, max_depth=None, max_features=None, min_samples_leaf=1, min_samples_split=5, random_state=42, splitter=best; total time=   0.0s\n",
            "[CV] END criterion=entropy, max_depth=None, max_features=None, min_samples_leaf=1, min_samples_split=5, random_state=42, splitter=best; total time=   0.0s\n",
            "[CV] END criterion=entropy, max_depth=None, max_features=None, min_samples_leaf=1, min_samples_split=5, random_state=42, splitter=best; total time=   0.0s\n",
            "[CV] END criterion=entropy, max_depth=None, max_features=None, min_samples_leaf=1, min_samples_split=5, random_state=42, splitter=random; total time=   0.0s\n",
            "[CV] END criterion=entropy, max_depth=None, max_features=None, min_samples_leaf=1, min_samples_split=5, random_state=42, splitter=random; total time=   0.0s\n",
            "[CV] END criterion=entropy, max_depth=None, max_features=None, min_samples_leaf=1, min_samples_split=5, random_state=42, splitter=random; total time=   0.0s\n",
            "[CV] END criterion=entropy, max_depth=None, max_features=None, min_samples_leaf=1, min_samples_split=10, random_state=42, splitter=best; total time=   0.0s\n",
            "[CV] END criterion=entropy, max_depth=None, max_features=None, min_samples_leaf=1, min_samples_split=10, random_state=42, splitter=best; total time=   0.0s\n",
            "[CV] END criterion=entropy, max_depth=None, max_features=None, min_samples_leaf=1, min_samples_split=10, random_state=42, splitter=best; total time=   0.0s\n",
            "[CV] END criterion=entropy, max_depth=None, max_features=None, min_samples_leaf=1, min_samples_split=10, random_state=42, splitter=random; total time=   0.0s\n",
            "[CV] END criterion=entropy, max_depth=None, max_features=None, min_samples_leaf=1, min_samples_split=10, random_state=42, splitter=random; total time=   0.0s\n",
            "[CV] END criterion=entropy, max_depth=None, max_features=None, min_samples_leaf=1, min_samples_split=10, random_state=42, splitter=random; total time=   0.0s\n",
            "[CV] END criterion=entropy, max_depth=None, max_features=None, min_samples_leaf=2, min_samples_split=2, random_state=42, splitter=best; total time=   0.0s\n",
            "[CV] END criterion=entropy, max_depth=None, max_features=None, min_samples_leaf=2, min_samples_split=2, random_state=42, splitter=best; total time=   0.0s\n",
            "[CV] END criterion=entropy, max_depth=None, max_features=None, min_samples_leaf=2, min_samples_split=2, random_state=42, splitter=best; total time=   0.0s\n",
            "[CV] END criterion=entropy, max_depth=None, max_features=None, min_samples_leaf=2, min_samples_split=2, random_state=42, splitter=random; total time=   0.0s\n",
            "[CV] END criterion=entropy, max_depth=None, max_features=None, min_samples_leaf=2, min_samples_split=2, random_state=42, splitter=random; total time=   0.0s\n",
            "[CV] END criterion=entropy, max_depth=None, max_features=None, min_samples_leaf=2, min_samples_split=2, random_state=42, splitter=random; total time=   0.0s\n",
            "[CV] END criterion=entropy, max_depth=None, max_features=None, min_samples_leaf=2, min_samples_split=5, random_state=42, splitter=best; total time=   0.0s\n",
            "[CV] END criterion=entropy, max_depth=None, max_features=None, min_samples_leaf=2, min_samples_split=5, random_state=42, splitter=best; total time=   0.0s\n",
            "[CV] END criterion=entropy, max_depth=None, max_features=None, min_samples_leaf=2, min_samples_split=5, random_state=42, splitter=best; total time=   0.0s\n",
            "[CV] END criterion=entropy, max_depth=None, max_features=None, min_samples_leaf=2, min_samples_split=5, random_state=42, splitter=random; total time=   0.0s\n",
            "[CV] END criterion=entropy, max_depth=None, max_features=None, min_samples_leaf=2, min_samples_split=5, random_state=42, splitter=random; total time=   0.0s\n",
            "[CV] END criterion=entropy, max_depth=None, max_features=None, min_samples_leaf=2, min_samples_split=5, random_state=42, splitter=random; total time=   0.0s\n",
            "[CV] END criterion=entropy, max_depth=None, max_features=None, min_samples_leaf=2, min_samples_split=10, random_state=42, splitter=best; total time=   0.0s\n",
            "[CV] END criterion=entropy, max_depth=None, max_features=None, min_samples_leaf=2, min_samples_split=10, random_state=42, splitter=best; total time=   0.0s\n",
            "[CV] END criterion=entropy, max_depth=None, max_features=None, min_samples_leaf=2, min_samples_split=10, random_state=42, splitter=best; total time=   0.0s\n",
            "[CV] END criterion=entropy, max_depth=None, max_features=None, min_samples_leaf=2, min_samples_split=10, random_state=42, splitter=random; total time=   0.0s\n",
            "[CV] END criterion=entropy, max_depth=None, max_features=None, min_samples_leaf=2, min_samples_split=10, random_state=42, splitter=random; total time=   0.0s\n",
            "[CV] END criterion=entropy, max_depth=None, max_features=None, min_samples_leaf=2, min_samples_split=10, random_state=42, splitter=random; total time=   0.0s\n",
            "[CV] END criterion=entropy, max_depth=None, max_features=None, min_samples_leaf=3, min_samples_split=2, random_state=42, splitter=best; total time=   0.0s\n",
            "[CV] END criterion=entropy, max_depth=None, max_features=None, min_samples_leaf=3, min_samples_split=2, random_state=42, splitter=best; total time=   0.0s\n",
            "[CV] END criterion=entropy, max_depth=None, max_features=None, min_samples_leaf=3, min_samples_split=2, random_state=42, splitter=best; total time=   0.0s\n",
            "[CV] END criterion=entropy, max_depth=None, max_features=None, min_samples_leaf=3, min_samples_split=2, random_state=42, splitter=random; total time=   0.0s\n",
            "[CV] END criterion=entropy, max_depth=None, max_features=None, min_samples_leaf=3, min_samples_split=2, random_state=42, splitter=random; total time=   0.0s\n",
            "[CV] END criterion=entropy, max_depth=None, max_features=None, min_samples_leaf=3, min_samples_split=2, random_state=42, splitter=random; total time=   0.0s\n",
            "[CV] END criterion=entropy, max_depth=None, max_features=None, min_samples_leaf=3, min_samples_split=5, random_state=42, splitter=best; total time=   0.0s\n",
            "[CV] END criterion=entropy, max_depth=None, max_features=None, min_samples_leaf=3, min_samples_split=5, random_state=42, splitter=best; total time=   0.0s\n",
            "[CV] END criterion=entropy, max_depth=None, max_features=None, min_samples_leaf=3, min_samples_split=5, random_state=42, splitter=best; total time=   0.0s\n",
            "[CV] END criterion=entropy, max_depth=None, max_features=None, min_samples_leaf=3, min_samples_split=5, random_state=42, splitter=random; total time=   0.0s\n",
            "[CV] END criterion=entropy, max_depth=None, max_features=None, min_samples_leaf=3, min_samples_split=5, random_state=42, splitter=random; total time=   0.0s\n",
            "[CV] END criterion=entropy, max_depth=None, max_features=None, min_samples_leaf=3, min_samples_split=5, random_state=42, splitter=random; total time=   0.0s\n",
            "[CV] END criterion=entropy, max_depth=None, max_features=None, min_samples_leaf=3, min_samples_split=10, random_state=42, splitter=best; total time=   0.0s\n",
            "[CV] END criterion=entropy, max_depth=None, max_features=None, min_samples_leaf=3, min_samples_split=10, random_state=42, splitter=best; total time=   0.0s\n",
            "[CV] END criterion=entropy, max_depth=None, max_features=None, min_samples_leaf=3, min_samples_split=10, random_state=42, splitter=best; total time=   0.0s\n",
            "[CV] END criterion=entropy, max_depth=None, max_features=None, min_samples_leaf=3, min_samples_split=10, random_state=42, splitter=random; total time=   0.0s\n",
            "[CV] END criterion=entropy, max_depth=None, max_features=None, min_samples_leaf=3, min_samples_split=10, random_state=42, splitter=random; total time=   0.0s\n",
            "[CV] END criterion=entropy, max_depth=None, max_features=None, min_samples_leaf=3, min_samples_split=10, random_state=42, splitter=random; total time=   0.0s\n",
            "[CV] END criterion=entropy, max_depth=None, max_features=sqrt, min_samples_leaf=1, min_samples_split=2, random_state=42, splitter=best; total time=   0.0s\n",
            "[CV] END criterion=entropy, max_depth=None, max_features=sqrt, min_samples_leaf=1, min_samples_split=2, random_state=42, splitter=best; total time=   0.0s\n",
            "[CV] END criterion=entropy, max_depth=None, max_features=sqrt, min_samples_leaf=1, min_samples_split=2, random_state=42, splitter=best; total time=   0.0s\n",
            "[CV] END criterion=entropy, max_depth=None, max_features=sqrt, min_samples_leaf=1, min_samples_split=2, random_state=42, splitter=random; total time=   0.0s\n",
            "[CV] END criterion=entropy, max_depth=None, max_features=sqrt, min_samples_leaf=1, min_samples_split=2, random_state=42, splitter=random; total time=   0.0s\n",
            "[CV] END criterion=entropy, max_depth=None, max_features=sqrt, min_samples_leaf=1, min_samples_split=2, random_state=42, splitter=random; total time=   0.0s\n",
            "[CV] END criterion=entropy, max_depth=None, max_features=sqrt, min_samples_leaf=1, min_samples_split=5, random_state=42, splitter=best; total time=   0.0s\n",
            "[CV] END criterion=entropy, max_depth=None, max_features=sqrt, min_samples_leaf=1, min_samples_split=5, random_state=42, splitter=best; total time=   0.0s\n",
            "[CV] END criterion=entropy, max_depth=None, max_features=sqrt, min_samples_leaf=1, min_samples_split=5, random_state=42, splitter=best; total time=   0.0s\n",
            "[CV] END criterion=entropy, max_depth=None, max_features=sqrt, min_samples_leaf=1, min_samples_split=5, random_state=42, splitter=random; total time=   0.0s\n",
            "[CV] END criterion=entropy, max_depth=None, max_features=sqrt, min_samples_leaf=1, min_samples_split=5, random_state=42, splitter=random; total time=   0.0s\n",
            "[CV] END criterion=entropy, max_depth=None, max_features=sqrt, min_samples_leaf=1, min_samples_split=5, random_state=42, splitter=random; total time=   0.0s\n",
            "[CV] END criterion=entropy, max_depth=None, max_features=sqrt, min_samples_leaf=1, min_samples_split=10, random_state=42, splitter=best; total time=   0.0s\n",
            "[CV] END criterion=entropy, max_depth=None, max_features=sqrt, min_samples_leaf=1, min_samples_split=10, random_state=42, splitter=best; total time=   0.0s\n",
            "[CV] END criterion=entropy, max_depth=None, max_features=sqrt, min_samples_leaf=1, min_samples_split=10, random_state=42, splitter=best; total time=   0.0s\n",
            "[CV] END criterion=entropy, max_depth=None, max_features=sqrt, min_samples_leaf=1, min_samples_split=10, random_state=42, splitter=random; total time=   0.0s\n",
            "[CV] END criterion=entropy, max_depth=None, max_features=sqrt, min_samples_leaf=1, min_samples_split=10, random_state=42, splitter=random; total time=   0.0s\n",
            "[CV] END criterion=entropy, max_depth=None, max_features=sqrt, min_samples_leaf=1, min_samples_split=10, random_state=42, splitter=random; total time=   0.0s\n",
            "[CV] END criterion=entropy, max_depth=None, max_features=sqrt, min_samples_leaf=2, min_samples_split=2, random_state=42, splitter=best; total time=   0.0s\n",
            "[CV] END criterion=entropy, max_depth=None, max_features=sqrt, min_samples_leaf=2, min_samples_split=2, random_state=42, splitter=best; total time=   0.0s\n",
            "[CV] END criterion=entropy, max_depth=None, max_features=sqrt, min_samples_leaf=2, min_samples_split=2, random_state=42, splitter=best; total time=   0.0s\n",
            "[CV] END criterion=entropy, max_depth=None, max_features=sqrt, min_samples_leaf=2, min_samples_split=2, random_state=42, splitter=random; total time=   0.0s\n",
            "[CV] END criterion=entropy, max_depth=None, max_features=sqrt, min_samples_leaf=2, min_samples_split=2, random_state=42, splitter=random; total time=   0.0s\n",
            "[CV] END criterion=entropy, max_depth=None, max_features=sqrt, min_samples_leaf=2, min_samples_split=2, random_state=42, splitter=random; total time=   0.0s\n",
            "[CV] END criterion=entropy, max_depth=None, max_features=sqrt, min_samples_leaf=2, min_samples_split=5, random_state=42, splitter=best; total time=   0.0s\n",
            "[CV] END criterion=entropy, max_depth=None, max_features=sqrt, min_samples_leaf=2, min_samples_split=5, random_state=42, splitter=best; total time=   0.0s\n",
            "[CV] END criterion=entropy, max_depth=None, max_features=sqrt, min_samples_leaf=2, min_samples_split=5, random_state=42, splitter=best; total time=   0.0s\n",
            "[CV] END criterion=entropy, max_depth=None, max_features=sqrt, min_samples_leaf=2, min_samples_split=5, random_state=42, splitter=random; total time=   0.0s\n",
            "[CV] END criterion=entropy, max_depth=None, max_features=sqrt, min_samples_leaf=2, min_samples_split=5, random_state=42, splitter=random; total time=   0.0s\n",
            "[CV] END criterion=entropy, max_depth=None, max_features=sqrt, min_samples_leaf=2, min_samples_split=5, random_state=42, splitter=random; total time=   0.0s\n",
            "[CV] END criterion=entropy, max_depth=None, max_features=sqrt, min_samples_leaf=2, min_samples_split=10, random_state=42, splitter=best; total time=   0.0s\n",
            "[CV] END criterion=entropy, max_depth=None, max_features=sqrt, min_samples_leaf=2, min_samples_split=10, random_state=42, splitter=best; total time=   0.0s\n",
            "[CV] END criterion=entropy, max_depth=None, max_features=sqrt, min_samples_leaf=2, min_samples_split=10, random_state=42, splitter=best; total time=   0.0s\n",
            "[CV] END criterion=entropy, max_depth=None, max_features=sqrt, min_samples_leaf=2, min_samples_split=10, random_state=42, splitter=random; total time=   0.0s\n",
            "[CV] END criterion=entropy, max_depth=None, max_features=sqrt, min_samples_leaf=2, min_samples_split=10, random_state=42, splitter=random; total time=   0.0s\n",
            "[CV] END criterion=entropy, max_depth=None, max_features=sqrt, min_samples_leaf=2, min_samples_split=10, random_state=42, splitter=random; total time=   0.0s\n",
            "[CV] END criterion=entropy, max_depth=None, max_features=sqrt, min_samples_leaf=3, min_samples_split=2, random_state=42, splitter=best; total time=   0.0s\n",
            "[CV] END criterion=entropy, max_depth=None, max_features=sqrt, min_samples_leaf=3, min_samples_split=2, random_state=42, splitter=best; total time=   0.0s\n",
            "[CV] END criterion=entropy, max_depth=None, max_features=sqrt, min_samples_leaf=3, min_samples_split=2, random_state=42, splitter=best; total time=   0.0s\n",
            "[CV] END criterion=entropy, max_depth=None, max_features=sqrt, min_samples_leaf=3, min_samples_split=2, random_state=42, splitter=random; total time=   0.0s\n",
            "[CV] END criterion=entropy, max_depth=None, max_features=sqrt, min_samples_leaf=3, min_samples_split=2, random_state=42, splitter=random; total time=   0.0s\n",
            "[CV] END criterion=entropy, max_depth=None, max_features=sqrt, min_samples_leaf=3, min_samples_split=2, random_state=42, splitter=random; total time=   0.0s\n",
            "[CV] END criterion=entropy, max_depth=None, max_features=sqrt, min_samples_leaf=3, min_samples_split=5, random_state=42, splitter=best; total time=   0.0s\n",
            "[CV] END criterion=entropy, max_depth=None, max_features=sqrt, min_samples_leaf=3, min_samples_split=5, random_state=42, splitter=best; total time=   0.0s\n",
            "[CV] END criterion=entropy, max_depth=None, max_features=sqrt, min_samples_leaf=3, min_samples_split=5, random_state=42, splitter=best; total time=   0.0s\n",
            "[CV] END criterion=entropy, max_depth=None, max_features=sqrt, min_samples_leaf=3, min_samples_split=5, random_state=42, splitter=random; total time=   0.0s\n",
            "[CV] END criterion=entropy, max_depth=None, max_features=sqrt, min_samples_leaf=3, min_samples_split=5, random_state=42, splitter=random; total time=   0.0s\n",
            "[CV] END criterion=entropy, max_depth=None, max_features=sqrt, min_samples_leaf=3, min_samples_split=5, random_state=42, splitter=random; total time=   0.0s\n",
            "[CV] END criterion=entropy, max_depth=None, max_features=sqrt, min_samples_leaf=3, min_samples_split=10, random_state=42, splitter=best; total time=   0.0s\n",
            "[CV] END criterion=entropy, max_depth=None, max_features=sqrt, min_samples_leaf=3, min_samples_split=10, random_state=42, splitter=best; total time=   0.0s\n",
            "[CV] END criterion=entropy, max_depth=None, max_features=sqrt, min_samples_leaf=3, min_samples_split=10, random_state=42, splitter=best; total time=   0.0s\n",
            "[CV] END criterion=entropy, max_depth=None, max_features=sqrt, min_samples_leaf=3, min_samples_split=10, random_state=42, splitter=random; total time=   0.0s\n",
            "[CV] END criterion=entropy, max_depth=None, max_features=sqrt, min_samples_leaf=3, min_samples_split=10, random_state=42, splitter=random; total time=   0.0s\n",
            "[CV] END criterion=entropy, max_depth=None, max_features=sqrt, min_samples_leaf=3, min_samples_split=10, random_state=42, splitter=random; total time=   0.0s\n",
            "[CV] END criterion=entropy, max_depth=None, max_features=log2, min_samples_leaf=1, min_samples_split=2, random_state=42, splitter=best; total time=   0.0s\n",
            "[CV] END criterion=entropy, max_depth=None, max_features=log2, min_samples_leaf=1, min_samples_split=2, random_state=42, splitter=best; total time=   0.0s\n",
            "[CV] END criterion=entropy, max_depth=None, max_features=log2, min_samples_leaf=1, min_samples_split=2, random_state=42, splitter=best; total time=   0.0s\n",
            "[CV] END criterion=entropy, max_depth=None, max_features=log2, min_samples_leaf=1, min_samples_split=2, random_state=42, splitter=random; total time=   0.0s\n",
            "[CV] END criterion=entropy, max_depth=None, max_features=log2, min_samples_leaf=1, min_samples_split=2, random_state=42, splitter=random; total time=   0.0s\n",
            "[CV] END criterion=entropy, max_depth=None, max_features=log2, min_samples_leaf=1, min_samples_split=2, random_state=42, splitter=random; total time=   0.0s\n",
            "[CV] END criterion=entropy, max_depth=None, max_features=log2, min_samples_leaf=1, min_samples_split=5, random_state=42, splitter=best; total time=   0.0s\n",
            "[CV] END criterion=entropy, max_depth=None, max_features=log2, min_samples_leaf=1, min_samples_split=5, random_state=42, splitter=best; total time=   0.0s\n",
            "[CV] END criterion=entropy, max_depth=None, max_features=log2, min_samples_leaf=1, min_samples_split=5, random_state=42, splitter=best; total time=   0.0s\n",
            "[CV] END criterion=entropy, max_depth=None, max_features=log2, min_samples_leaf=1, min_samples_split=5, random_state=42, splitter=random; total time=   0.0s\n",
            "[CV] END criterion=entropy, max_depth=None, max_features=log2, min_samples_leaf=1, min_samples_split=5, random_state=42, splitter=random; total time=   0.0s\n",
            "[CV] END criterion=entropy, max_depth=None, max_features=log2, min_samples_leaf=1, min_samples_split=5, random_state=42, splitter=random; total time=   0.0s\n",
            "[CV] END criterion=entropy, max_depth=None, max_features=log2, min_samples_leaf=1, min_samples_split=10, random_state=42, splitter=best; total time=   0.0s\n",
            "[CV] END criterion=entropy, max_depth=None, max_features=log2, min_samples_leaf=1, min_samples_split=10, random_state=42, splitter=best; total time=   0.0s\n",
            "[CV] END criterion=entropy, max_depth=None, max_features=log2, min_samples_leaf=1, min_samples_split=10, random_state=42, splitter=best; total time=   0.0s\n",
            "[CV] END criterion=entropy, max_depth=None, max_features=log2, min_samples_leaf=1, min_samples_split=10, random_state=42, splitter=random; total time=   0.0s\n",
            "[CV] END criterion=entropy, max_depth=None, max_features=log2, min_samples_leaf=1, min_samples_split=10, random_state=42, splitter=random; total time=   0.0s\n",
            "[CV] END criterion=entropy, max_depth=None, max_features=log2, min_samples_leaf=1, min_samples_split=10, random_state=42, splitter=random; total time=   0.0s\n",
            "[CV] END criterion=entropy, max_depth=None, max_features=log2, min_samples_leaf=2, min_samples_split=2, random_state=42, splitter=best; total time=   0.0s\n",
            "[CV] END criterion=entropy, max_depth=None, max_features=log2, min_samples_leaf=2, min_samples_split=2, random_state=42, splitter=best; total time=   0.0s\n",
            "[CV] END criterion=entropy, max_depth=None, max_features=log2, min_samples_leaf=2, min_samples_split=2, random_state=42, splitter=best; total time=   0.0s\n",
            "[CV] END criterion=entropy, max_depth=None, max_features=log2, min_samples_leaf=2, min_samples_split=2, random_state=42, splitter=random; total time=   0.0s\n",
            "[CV] END criterion=entropy, max_depth=None, max_features=log2, min_samples_leaf=2, min_samples_split=2, random_state=42, splitter=random; total time=   0.0s\n",
            "[CV] END criterion=entropy, max_depth=None, max_features=log2, min_samples_leaf=2, min_samples_split=2, random_state=42, splitter=random; total time=   0.0s\n",
            "[CV] END criterion=entropy, max_depth=None, max_features=log2, min_samples_leaf=2, min_samples_split=5, random_state=42, splitter=best; total time=   0.0s\n",
            "[CV] END criterion=entropy, max_depth=None, max_features=log2, min_samples_leaf=2, min_samples_split=5, random_state=42, splitter=best; total time=   0.0s\n",
            "[CV] END criterion=entropy, max_depth=None, max_features=log2, min_samples_leaf=2, min_samples_split=5, random_state=42, splitter=best; total time=   0.0s\n",
            "[CV] END criterion=entropy, max_depth=None, max_features=log2, min_samples_leaf=2, min_samples_split=5, random_state=42, splitter=random; total time=   0.0s\n",
            "[CV] END criterion=entropy, max_depth=None, max_features=log2, min_samples_leaf=2, min_samples_split=5, random_state=42, splitter=random; total time=   0.0s\n",
            "[CV] END criterion=entropy, max_depth=None, max_features=log2, min_samples_leaf=2, min_samples_split=5, random_state=42, splitter=random; total time=   0.0s\n",
            "[CV] END criterion=entropy, max_depth=None, max_features=log2, min_samples_leaf=2, min_samples_split=10, random_state=42, splitter=best; total time=   0.0s\n",
            "[CV] END criterion=entropy, max_depth=None, max_features=log2, min_samples_leaf=2, min_samples_split=10, random_state=42, splitter=best; total time=   0.0s\n",
            "[CV] END criterion=entropy, max_depth=None, max_features=log2, min_samples_leaf=2, min_samples_split=10, random_state=42, splitter=best; total time=   0.0s\n",
            "[CV] END criterion=entropy, max_depth=None, max_features=log2, min_samples_leaf=2, min_samples_split=10, random_state=42, splitter=random; total time=   0.0s\n",
            "[CV] END criterion=entropy, max_depth=None, max_features=log2, min_samples_leaf=2, min_samples_split=10, random_state=42, splitter=random; total time=   0.0s\n",
            "[CV] END criterion=entropy, max_depth=None, max_features=log2, min_samples_leaf=2, min_samples_split=10, random_state=42, splitter=random; total time=   0.0s\n",
            "[CV] END criterion=entropy, max_depth=None, max_features=log2, min_samples_leaf=3, min_samples_split=2, random_state=42, splitter=best; total time=   0.0s\n",
            "[CV] END criterion=entropy, max_depth=None, max_features=log2, min_samples_leaf=3, min_samples_split=2, random_state=42, splitter=best; total time=   0.0s\n",
            "[CV] END criterion=entropy, max_depth=None, max_features=log2, min_samples_leaf=3, min_samples_split=2, random_state=42, splitter=best; total time=   0.0s\n",
            "[CV] END criterion=entropy, max_depth=None, max_features=log2, min_samples_leaf=3, min_samples_split=2, random_state=42, splitter=random; total time=   0.0s\n",
            "[CV] END criterion=entropy, max_depth=None, max_features=log2, min_samples_leaf=3, min_samples_split=2, random_state=42, splitter=random; total time=   0.0s\n",
            "[CV] END criterion=entropy, max_depth=None, max_features=log2, min_samples_leaf=3, min_samples_split=2, random_state=42, splitter=random; total time=   0.0s\n",
            "[CV] END criterion=entropy, max_depth=None, max_features=log2, min_samples_leaf=3, min_samples_split=5, random_state=42, splitter=best; total time=   0.0s\n",
            "[CV] END criterion=entropy, max_depth=None, max_features=log2, min_samples_leaf=3, min_samples_split=5, random_state=42, splitter=best; total time=   0.0s\n",
            "[CV] END criterion=entropy, max_depth=None, max_features=log2, min_samples_leaf=3, min_samples_split=5, random_state=42, splitter=best; total time=   0.0s\n",
            "[CV] END criterion=entropy, max_depth=None, max_features=log2, min_samples_leaf=3, min_samples_split=5, random_state=42, splitter=random; total time=   0.0s\n",
            "[CV] END criterion=entropy, max_depth=None, max_features=log2, min_samples_leaf=3, min_samples_split=5, random_state=42, splitter=random; total time=   0.0s\n",
            "[CV] END criterion=entropy, max_depth=None, max_features=log2, min_samples_leaf=3, min_samples_split=5, random_state=42, splitter=random; total time=   0.0s\n",
            "[CV] END criterion=entropy, max_depth=None, max_features=log2, min_samples_leaf=3, min_samples_split=10, random_state=42, splitter=best; total time=   0.0s\n",
            "[CV] END criterion=entropy, max_depth=None, max_features=log2, min_samples_leaf=3, min_samples_split=10, random_state=42, splitter=best; total time=   0.0s\n",
            "[CV] END criterion=entropy, max_depth=None, max_features=log2, min_samples_leaf=3, min_samples_split=10, random_state=42, splitter=best; total time=   0.0s\n",
            "[CV] END criterion=entropy, max_depth=None, max_features=log2, min_samples_leaf=3, min_samples_split=10, random_state=42, splitter=random; total time=   0.0s\n",
            "[CV] END criterion=entropy, max_depth=None, max_features=log2, min_samples_leaf=3, min_samples_split=10, random_state=42, splitter=random; total time=   0.0s\n",
            "[CV] END criterion=entropy, max_depth=None, max_features=log2, min_samples_leaf=3, min_samples_split=10, random_state=42, splitter=random; total time=   0.0s\n",
            "[CV] END criterion=entropy, max_depth=5, max_features=None, min_samples_leaf=1, min_samples_split=2, random_state=42, splitter=best; total time=   0.0s\n",
            "[CV] END criterion=entropy, max_depth=5, max_features=None, min_samples_leaf=1, min_samples_split=2, random_state=42, splitter=best; total time=   0.0s\n",
            "[CV] END criterion=entropy, max_depth=5, max_features=None, min_samples_leaf=1, min_samples_split=2, random_state=42, splitter=best; total time=   0.0s\n",
            "[CV] END criterion=entropy, max_depth=5, max_features=None, min_samples_leaf=1, min_samples_split=2, random_state=42, splitter=random; total time=   0.0s\n",
            "[CV] END criterion=entropy, max_depth=5, max_features=None, min_samples_leaf=1, min_samples_split=2, random_state=42, splitter=random; total time=   0.0s\n",
            "[CV] END criterion=entropy, max_depth=5, max_features=None, min_samples_leaf=1, min_samples_split=2, random_state=42, splitter=random; total time=   0.0s\n",
            "[CV] END criterion=entropy, max_depth=5, max_features=None, min_samples_leaf=1, min_samples_split=5, random_state=42, splitter=best; total time=   0.0s\n",
            "[CV] END criterion=entropy, max_depth=5, max_features=None, min_samples_leaf=1, min_samples_split=5, random_state=42, splitter=best; total time=   0.0s\n",
            "[CV] END criterion=entropy, max_depth=5, max_features=None, min_samples_leaf=1, min_samples_split=5, random_state=42, splitter=best; total time=   0.0s\n",
            "[CV] END criterion=entropy, max_depth=5, max_features=None, min_samples_leaf=1, min_samples_split=5, random_state=42, splitter=random; total time=   0.0s\n",
            "[CV] END criterion=entropy, max_depth=5, max_features=None, min_samples_leaf=1, min_samples_split=5, random_state=42, splitter=random; total time=   0.0s\n",
            "[CV] END criterion=entropy, max_depth=5, max_features=None, min_samples_leaf=1, min_samples_split=5, random_state=42, splitter=random; total time=   0.0s\n",
            "[CV] END criterion=entropy, max_depth=5, max_features=None, min_samples_leaf=1, min_samples_split=10, random_state=42, splitter=best; total time=   0.0s\n",
            "[CV] END criterion=entropy, max_depth=5, max_features=None, min_samples_leaf=1, min_samples_split=10, random_state=42, splitter=best; total time=   0.0s\n",
            "[CV] END criterion=entropy, max_depth=5, max_features=None, min_samples_leaf=1, min_samples_split=10, random_state=42, splitter=best; total time=   0.0s\n",
            "[CV] END criterion=entropy, max_depth=5, max_features=None, min_samples_leaf=1, min_samples_split=10, random_state=42, splitter=random; total time=   0.0s\n",
            "[CV] END criterion=entropy, max_depth=5, max_features=None, min_samples_leaf=1, min_samples_split=10, random_state=42, splitter=random; total time=   0.0s\n",
            "[CV] END criterion=entropy, max_depth=5, max_features=None, min_samples_leaf=1, min_samples_split=10, random_state=42, splitter=random; total time=   0.0s\n",
            "[CV] END criterion=entropy, max_depth=5, max_features=None, min_samples_leaf=2, min_samples_split=2, random_state=42, splitter=best; total time=   0.0s\n",
            "[CV] END criterion=entropy, max_depth=5, max_features=None, min_samples_leaf=2, min_samples_split=2, random_state=42, splitter=best; total time=   0.0s\n",
            "[CV] END criterion=entropy, max_depth=5, max_features=None, min_samples_leaf=2, min_samples_split=2, random_state=42, splitter=best; total time=   0.0s\n",
            "[CV] END criterion=entropy, max_depth=5, max_features=None, min_samples_leaf=2, min_samples_split=2, random_state=42, splitter=random; total time=   0.0s\n",
            "[CV] END criterion=entropy, max_depth=5, max_features=None, min_samples_leaf=2, min_samples_split=2, random_state=42, splitter=random; total time=   0.0s\n",
            "[CV] END criterion=entropy, max_depth=5, max_features=None, min_samples_leaf=2, min_samples_split=2, random_state=42, splitter=random; total time=   0.0s\n",
            "[CV] END criterion=entropy, max_depth=5, max_features=None, min_samples_leaf=2, min_samples_split=5, random_state=42, splitter=best; total time=   0.0s\n",
            "[CV] END criterion=entropy, max_depth=5, max_features=None, min_samples_leaf=2, min_samples_split=5, random_state=42, splitter=best; total time=   0.0s\n",
            "[CV] END criterion=entropy, max_depth=5, max_features=None, min_samples_leaf=2, min_samples_split=5, random_state=42, splitter=best; total time=   0.0s\n",
            "[CV] END criterion=entropy, max_depth=5, max_features=None, min_samples_leaf=2, min_samples_split=5, random_state=42, splitter=random; total time=   0.0s\n",
            "[CV] END criterion=entropy, max_depth=5, max_features=None, min_samples_leaf=2, min_samples_split=5, random_state=42, splitter=random; total time=   0.0s\n",
            "[CV] END criterion=entropy, max_depth=5, max_features=None, min_samples_leaf=2, min_samples_split=5, random_state=42, splitter=random; total time=   0.0s\n",
            "[CV] END criterion=entropy, max_depth=5, max_features=None, min_samples_leaf=2, min_samples_split=10, random_state=42, splitter=best; total time=   0.0s\n",
            "[CV] END criterion=entropy, max_depth=5, max_features=None, min_samples_leaf=2, min_samples_split=10, random_state=42, splitter=best; total time=   0.0s\n",
            "[CV] END criterion=entropy, max_depth=5, max_features=None, min_samples_leaf=2, min_samples_split=10, random_state=42, splitter=best; total time=   0.0s\n",
            "[CV] END criterion=entropy, max_depth=5, max_features=None, min_samples_leaf=2, min_samples_split=10, random_state=42, splitter=random; total time=   0.0s\n",
            "[CV] END criterion=entropy, max_depth=5, max_features=None, min_samples_leaf=2, min_samples_split=10, random_state=42, splitter=random; total time=   0.0s\n",
            "[CV] END criterion=entropy, max_depth=5, max_features=None, min_samples_leaf=2, min_samples_split=10, random_state=42, splitter=random; total time=   0.0s\n",
            "[CV] END criterion=entropy, max_depth=5, max_features=None, min_samples_leaf=3, min_samples_split=2, random_state=42, splitter=best; total time=   0.0s\n",
            "[CV] END criterion=entropy, max_depth=5, max_features=None, min_samples_leaf=3, min_samples_split=2, random_state=42, splitter=best; total time=   0.0s\n",
            "[CV] END criterion=entropy, max_depth=5, max_features=None, min_samples_leaf=3, min_samples_split=2, random_state=42, splitter=best; total time=   0.0s\n",
            "[CV] END criterion=entropy, max_depth=5, max_features=None, min_samples_leaf=3, min_samples_split=2, random_state=42, splitter=random; total time=   0.0s\n",
            "[CV] END criterion=entropy, max_depth=5, max_features=None, min_samples_leaf=3, min_samples_split=2, random_state=42, splitter=random; total time=   0.0s\n",
            "[CV] END criterion=entropy, max_depth=5, max_features=None, min_samples_leaf=3, min_samples_split=2, random_state=42, splitter=random; total time=   0.0s\n",
            "[CV] END criterion=entropy, max_depth=5, max_features=None, min_samples_leaf=3, min_samples_split=5, random_state=42, splitter=best; total time=   0.0s\n",
            "[CV] END criterion=entropy, max_depth=5, max_features=None, min_samples_leaf=3, min_samples_split=5, random_state=42, splitter=best; total time=   0.0s\n",
            "[CV] END criterion=entropy, max_depth=5, max_features=None, min_samples_leaf=3, min_samples_split=5, random_state=42, splitter=best; total time=   0.0s\n",
            "[CV] END criterion=entropy, max_depth=5, max_features=None, min_samples_leaf=3, min_samples_split=5, random_state=42, splitter=random; total time=   0.0s\n",
            "[CV] END criterion=entropy, max_depth=5, max_features=None, min_samples_leaf=3, min_samples_split=5, random_state=42, splitter=random; total time=   0.0s\n",
            "[CV] END criterion=entropy, max_depth=5, max_features=None, min_samples_leaf=3, min_samples_split=5, random_state=42, splitter=random; total time=   0.0s\n",
            "[CV] END criterion=entropy, max_depth=5, max_features=None, min_samples_leaf=3, min_samples_split=10, random_state=42, splitter=best; total time=   0.0s\n",
            "[CV] END criterion=entropy, max_depth=5, max_features=None, min_samples_leaf=3, min_samples_split=10, random_state=42, splitter=best; total time=   0.0s\n",
            "[CV] END criterion=entropy, max_depth=5, max_features=None, min_samples_leaf=3, min_samples_split=10, random_state=42, splitter=best; total time=   0.0s\n",
            "[CV] END criterion=entropy, max_depth=5, max_features=None, min_samples_leaf=3, min_samples_split=10, random_state=42, splitter=random; total time=   0.0s\n",
            "[CV] END criterion=entropy, max_depth=5, max_features=None, min_samples_leaf=3, min_samples_split=10, random_state=42, splitter=random; total time=   0.0s\n",
            "[CV] END criterion=entropy, max_depth=5, max_features=None, min_samples_leaf=3, min_samples_split=10, random_state=42, splitter=random; total time=   0.0s\n",
            "[CV] END criterion=entropy, max_depth=5, max_features=sqrt, min_samples_leaf=1, min_samples_split=2, random_state=42, splitter=best; total time=   0.0s\n",
            "[CV] END criterion=entropy, max_depth=5, max_features=sqrt, min_samples_leaf=1, min_samples_split=2, random_state=42, splitter=best; total time=   0.0s\n",
            "[CV] END criterion=entropy, max_depth=5, max_features=sqrt, min_samples_leaf=1, min_samples_split=2, random_state=42, splitter=best; total time=   0.0s\n",
            "[CV] END criterion=entropy, max_depth=5, max_features=sqrt, min_samples_leaf=1, min_samples_split=2, random_state=42, splitter=random; total time=   0.0s\n",
            "[CV] END criterion=entropy, max_depth=5, max_features=sqrt, min_samples_leaf=1, min_samples_split=2, random_state=42, splitter=random; total time=   0.0s\n",
            "[CV] END criterion=entropy, max_depth=5, max_features=sqrt, min_samples_leaf=1, min_samples_split=2, random_state=42, splitter=random; total time=   0.0s\n",
            "[CV] END criterion=entropy, max_depth=5, max_features=sqrt, min_samples_leaf=1, min_samples_split=5, random_state=42, splitter=best; total time=   0.0s\n",
            "[CV] END criterion=entropy, max_depth=5, max_features=sqrt, min_samples_leaf=1, min_samples_split=5, random_state=42, splitter=best; total time=   0.0s\n",
            "[CV] END criterion=entropy, max_depth=5, max_features=sqrt, min_samples_leaf=1, min_samples_split=5, random_state=42, splitter=best; total time=   0.0s\n",
            "[CV] END criterion=entropy, max_depth=5, max_features=sqrt, min_samples_leaf=1, min_samples_split=5, random_state=42, splitter=random; total time=   0.0s\n",
            "[CV] END criterion=entropy, max_depth=5, max_features=sqrt, min_samples_leaf=1, min_samples_split=5, random_state=42, splitter=random; total time=   0.0s\n",
            "[CV] END criterion=entropy, max_depth=5, max_features=sqrt, min_samples_leaf=1, min_samples_split=5, random_state=42, splitter=random; total time=   0.0s\n",
            "[CV] END criterion=entropy, max_depth=5, max_features=sqrt, min_samples_leaf=1, min_samples_split=10, random_state=42, splitter=best; total time=   0.0s\n",
            "[CV] END criterion=entropy, max_depth=5, max_features=sqrt, min_samples_leaf=1, min_samples_split=10, random_state=42, splitter=best; total time=   0.0s\n",
            "[CV] END criterion=entropy, max_depth=5, max_features=sqrt, min_samples_leaf=1, min_samples_split=10, random_state=42, splitter=best; total time=   0.0s\n",
            "[CV] END criterion=entropy, max_depth=5, max_features=sqrt, min_samples_leaf=1, min_samples_split=10, random_state=42, splitter=random; total time=   0.0s\n",
            "[CV] END criterion=entropy, max_depth=5, max_features=sqrt, min_samples_leaf=1, min_samples_split=10, random_state=42, splitter=random; total time=   0.0s\n",
            "[CV] END criterion=entropy, max_depth=5, max_features=sqrt, min_samples_leaf=1, min_samples_split=10, random_state=42, splitter=random; total time=   0.0s\n",
            "[CV] END criterion=entropy, max_depth=5, max_features=sqrt, min_samples_leaf=2, min_samples_split=2, random_state=42, splitter=best; total time=   0.0s\n",
            "[CV] END criterion=entropy, max_depth=5, max_features=sqrt, min_samples_leaf=2, min_samples_split=2, random_state=42, splitter=best; total time=   0.0s\n",
            "[CV] END criterion=entropy, max_depth=5, max_features=sqrt, min_samples_leaf=2, min_samples_split=2, random_state=42, splitter=best; total time=   0.0s\n",
            "[CV] END criterion=entropy, max_depth=5, max_features=sqrt, min_samples_leaf=2, min_samples_split=2, random_state=42, splitter=random; total time=   0.0s\n",
            "[CV] END criterion=entropy, max_depth=5, max_features=sqrt, min_samples_leaf=2, min_samples_split=2, random_state=42, splitter=random; total time=   0.0s\n",
            "[CV] END criterion=entropy, max_depth=5, max_features=sqrt, min_samples_leaf=2, min_samples_split=2, random_state=42, splitter=random; total time=   0.0s\n",
            "[CV] END criterion=entropy, max_depth=5, max_features=sqrt, min_samples_leaf=2, min_samples_split=5, random_state=42, splitter=best; total time=   0.0s\n",
            "[CV] END criterion=entropy, max_depth=5, max_features=sqrt, min_samples_leaf=2, min_samples_split=5, random_state=42, splitter=best; total time=   0.0s\n",
            "[CV] END criterion=entropy, max_depth=5, max_features=sqrt, min_samples_leaf=2, min_samples_split=5, random_state=42, splitter=best; total time=   0.0s\n",
            "[CV] END criterion=entropy, max_depth=5, max_features=sqrt, min_samples_leaf=2, min_samples_split=5, random_state=42, splitter=random; total time=   0.0s\n",
            "[CV] END criterion=entropy, max_depth=5, max_features=sqrt, min_samples_leaf=2, min_samples_split=5, random_state=42, splitter=random; total time=   0.0s\n",
            "[CV] END criterion=entropy, max_depth=5, max_features=sqrt, min_samples_leaf=2, min_samples_split=5, random_state=42, splitter=random; total time=   0.0s\n",
            "[CV] END criterion=entropy, max_depth=5, max_features=sqrt, min_samples_leaf=2, min_samples_split=10, random_state=42, splitter=best; total time=   0.0s\n",
            "[CV] END criterion=entropy, max_depth=5, max_features=sqrt, min_samples_leaf=2, min_samples_split=10, random_state=42, splitter=best; total time=   0.0s\n",
            "[CV] END criterion=entropy, max_depth=5, max_features=sqrt, min_samples_leaf=2, min_samples_split=10, random_state=42, splitter=best; total time=   0.0s\n",
            "[CV] END criterion=entropy, max_depth=5, max_features=sqrt, min_samples_leaf=2, min_samples_split=10, random_state=42, splitter=random; total time=   0.0s\n",
            "[CV] END criterion=entropy, max_depth=5, max_features=sqrt, min_samples_leaf=2, min_samples_split=10, random_state=42, splitter=random; total time=   0.0s\n",
            "[CV] END criterion=entropy, max_depth=5, max_features=sqrt, min_samples_leaf=2, min_samples_split=10, random_state=42, splitter=random; total time=   0.0s\n",
            "[CV] END criterion=entropy, max_depth=5, max_features=sqrt, min_samples_leaf=3, min_samples_split=2, random_state=42, splitter=best; total time=   0.0s\n",
            "[CV] END criterion=entropy, max_depth=5, max_features=sqrt, min_samples_leaf=3, min_samples_split=2, random_state=42, splitter=best; total time=   0.0s\n",
            "[CV] END criterion=entropy, max_depth=5, max_features=sqrt, min_samples_leaf=3, min_samples_split=2, random_state=42, splitter=best; total time=   0.0s\n",
            "[CV] END criterion=entropy, max_depth=5, max_features=sqrt, min_samples_leaf=3, min_samples_split=2, random_state=42, splitter=random; total time=   0.0s\n",
            "[CV] END criterion=entropy, max_depth=5, max_features=sqrt, min_samples_leaf=3, min_samples_split=2, random_state=42, splitter=random; total time=   0.0s\n",
            "[CV] END criterion=entropy, max_depth=5, max_features=sqrt, min_samples_leaf=3, min_samples_split=2, random_state=42, splitter=random; total time=   0.0s\n",
            "[CV] END criterion=entropy, max_depth=5, max_features=sqrt, min_samples_leaf=3, min_samples_split=5, random_state=42, splitter=best; total time=   0.0s\n",
            "[CV] END criterion=entropy, max_depth=5, max_features=sqrt, min_samples_leaf=3, min_samples_split=5, random_state=42, splitter=best; total time=   0.0s\n",
            "[CV] END criterion=entropy, max_depth=5, max_features=sqrt, min_samples_leaf=3, min_samples_split=5, random_state=42, splitter=best; total time=   0.0s\n",
            "[CV] END criterion=entropy, max_depth=5, max_features=sqrt, min_samples_leaf=3, min_samples_split=5, random_state=42, splitter=random; total time=   0.0s\n",
            "[CV] END criterion=entropy, max_depth=5, max_features=sqrt, min_samples_leaf=3, min_samples_split=5, random_state=42, splitter=random; total time=   0.0s\n",
            "[CV] END criterion=entropy, max_depth=5, max_features=sqrt, min_samples_leaf=3, min_samples_split=5, random_state=42, splitter=random; total time=   0.0s\n",
            "[CV] END criterion=entropy, max_depth=5, max_features=sqrt, min_samples_leaf=3, min_samples_split=10, random_state=42, splitter=best; total time=   0.0s\n",
            "[CV] END criterion=entropy, max_depth=5, max_features=sqrt, min_samples_leaf=3, min_samples_split=10, random_state=42, splitter=best; total time=   0.0s\n",
            "[CV] END criterion=entropy, max_depth=5, max_features=sqrt, min_samples_leaf=3, min_samples_split=10, random_state=42, splitter=best; total time=   0.0s\n",
            "[CV] END criterion=entropy, max_depth=5, max_features=sqrt, min_samples_leaf=3, min_samples_split=10, random_state=42, splitter=random; total time=   0.0s\n",
            "[CV] END criterion=entropy, max_depth=5, max_features=sqrt, min_samples_leaf=3, min_samples_split=10, random_state=42, splitter=random; total time=   0.0s\n",
            "[CV] END criterion=entropy, max_depth=5, max_features=sqrt, min_samples_leaf=3, min_samples_split=10, random_state=42, splitter=random; total time=   0.0s\n",
            "[CV] END criterion=entropy, max_depth=5, max_features=log2, min_samples_leaf=1, min_samples_split=2, random_state=42, splitter=best; total time=   0.0s\n",
            "[CV] END criterion=entropy, max_depth=5, max_features=log2, min_samples_leaf=1, min_samples_split=2, random_state=42, splitter=best; total time=   0.0s\n",
            "[CV] END criterion=entropy, max_depth=5, max_features=log2, min_samples_leaf=1, min_samples_split=2, random_state=42, splitter=best; total time=   0.0s\n",
            "[CV] END criterion=entropy, max_depth=5, max_features=log2, min_samples_leaf=1, min_samples_split=2, random_state=42, splitter=random; total time=   0.0s\n",
            "[CV] END criterion=entropy, max_depth=5, max_features=log2, min_samples_leaf=1, min_samples_split=2, random_state=42, splitter=random; total time=   0.0s\n",
            "[CV] END criterion=entropy, max_depth=5, max_features=log2, min_samples_leaf=1, min_samples_split=2, random_state=42, splitter=random; total time=   0.0s\n",
            "[CV] END criterion=entropy, max_depth=5, max_features=log2, min_samples_leaf=1, min_samples_split=5, random_state=42, splitter=best; total time=   0.0s\n",
            "[CV] END criterion=entropy, max_depth=5, max_features=log2, min_samples_leaf=1, min_samples_split=5, random_state=42, splitter=best; total time=   0.0s\n",
            "[CV] END criterion=entropy, max_depth=5, max_features=log2, min_samples_leaf=1, min_samples_split=5, random_state=42, splitter=best; total time=   0.0s\n",
            "[CV] END criterion=entropy, max_depth=5, max_features=log2, min_samples_leaf=1, min_samples_split=5, random_state=42, splitter=random; total time=   0.0s\n",
            "[CV] END criterion=entropy, max_depth=5, max_features=log2, min_samples_leaf=1, min_samples_split=5, random_state=42, splitter=random; total time=   0.0s\n",
            "[CV] END criterion=entropy, max_depth=5, max_features=log2, min_samples_leaf=1, min_samples_split=5, random_state=42, splitter=random; total time=   0.0s\n",
            "[CV] END criterion=entropy, max_depth=5, max_features=log2, min_samples_leaf=1, min_samples_split=10, random_state=42, splitter=best; total time=   0.0s\n",
            "[CV] END criterion=entropy, max_depth=5, max_features=log2, min_samples_leaf=1, min_samples_split=10, random_state=42, splitter=best; total time=   0.0s\n",
            "[CV] END criterion=entropy, max_depth=5, max_features=log2, min_samples_leaf=1, min_samples_split=10, random_state=42, splitter=best; total time=   0.0s\n",
            "[CV] END criterion=entropy, max_depth=5, max_features=log2, min_samples_leaf=1, min_samples_split=10, random_state=42, splitter=random; total time=   0.0s\n",
            "[CV] END criterion=entropy, max_depth=5, max_features=log2, min_samples_leaf=1, min_samples_split=10, random_state=42, splitter=random; total time=   0.0s\n",
            "[CV] END criterion=entropy, max_depth=5, max_features=log2, min_samples_leaf=1, min_samples_split=10, random_state=42, splitter=random; total time=   0.0s\n",
            "[CV] END criterion=entropy, max_depth=5, max_features=log2, min_samples_leaf=2, min_samples_split=2, random_state=42, splitter=best; total time=   0.0s\n",
            "[CV] END criterion=entropy, max_depth=5, max_features=log2, min_samples_leaf=2, min_samples_split=2, random_state=42, splitter=best; total time=   0.0s\n",
            "[CV] END criterion=entropy, max_depth=5, max_features=log2, min_samples_leaf=2, min_samples_split=2, random_state=42, splitter=best; total time=   0.0s\n",
            "[CV] END criterion=entropy, max_depth=5, max_features=log2, min_samples_leaf=2, min_samples_split=2, random_state=42, splitter=random; total time=   0.0s\n",
            "[CV] END criterion=entropy, max_depth=5, max_features=log2, min_samples_leaf=2, min_samples_split=2, random_state=42, splitter=random; total time=   0.0s\n",
            "[CV] END criterion=entropy, max_depth=5, max_features=log2, min_samples_leaf=2, min_samples_split=2, random_state=42, splitter=random; total time=   0.0s\n",
            "[CV] END criterion=entropy, max_depth=5, max_features=log2, min_samples_leaf=2, min_samples_split=5, random_state=42, splitter=best; total time=   0.0s\n",
            "[CV] END criterion=entropy, max_depth=5, max_features=log2, min_samples_leaf=2, min_samples_split=5, random_state=42, splitter=best; total time=   0.0s\n",
            "[CV] END criterion=entropy, max_depth=5, max_features=log2, min_samples_leaf=2, min_samples_split=5, random_state=42, splitter=best; total time=   0.0s\n",
            "[CV] END criterion=entropy, max_depth=5, max_features=log2, min_samples_leaf=2, min_samples_split=5, random_state=42, splitter=random; total time=   0.0s\n",
            "[CV] END criterion=entropy, max_depth=5, max_features=log2, min_samples_leaf=2, min_samples_split=5, random_state=42, splitter=random; total time=   0.0s\n",
            "[CV] END criterion=entropy, max_depth=5, max_features=log2, min_samples_leaf=2, min_samples_split=5, random_state=42, splitter=random; total time=   0.0s\n",
            "[CV] END criterion=entropy, max_depth=5, max_features=log2, min_samples_leaf=2, min_samples_split=10, random_state=42, splitter=best; total time=   0.0s\n",
            "[CV] END criterion=entropy, max_depth=5, max_features=log2, min_samples_leaf=2, min_samples_split=10, random_state=42, splitter=best; total time=   0.0s\n",
            "[CV] END criterion=entropy, max_depth=5, max_features=log2, min_samples_leaf=2, min_samples_split=10, random_state=42, splitter=best; total time=   0.0s\n",
            "[CV] END criterion=entropy, max_depth=5, max_features=log2, min_samples_leaf=2, min_samples_split=10, random_state=42, splitter=random; total time=   0.0s\n",
            "[CV] END criterion=entropy, max_depth=5, max_features=log2, min_samples_leaf=2, min_samples_split=10, random_state=42, splitter=random; total time=   0.0s\n",
            "[CV] END criterion=entropy, max_depth=5, max_features=log2, min_samples_leaf=2, min_samples_split=10, random_state=42, splitter=random; total time=   0.0s\n",
            "[CV] END criterion=entropy, max_depth=5, max_features=log2, min_samples_leaf=3, min_samples_split=2, random_state=42, splitter=best; total time=   0.0s\n",
            "[CV] END criterion=entropy, max_depth=5, max_features=log2, min_samples_leaf=3, min_samples_split=2, random_state=42, splitter=best; total time=   0.0s\n",
            "[CV] END criterion=entropy, max_depth=5, max_features=log2, min_samples_leaf=3, min_samples_split=2, random_state=42, splitter=best; total time=   0.0s\n",
            "[CV] END criterion=entropy, max_depth=5, max_features=log2, min_samples_leaf=3, min_samples_split=2, random_state=42, splitter=random; total time=   0.0s\n",
            "[CV] END criterion=entropy, max_depth=5, max_features=log2, min_samples_leaf=3, min_samples_split=2, random_state=42, splitter=random; total time=   0.0s\n",
            "[CV] END criterion=entropy, max_depth=5, max_features=log2, min_samples_leaf=3, min_samples_split=2, random_state=42, splitter=random; total time=   0.0s\n",
            "[CV] END criterion=entropy, max_depth=5, max_features=log2, min_samples_leaf=3, min_samples_split=5, random_state=42, splitter=best; total time=   0.0s\n",
            "[CV] END criterion=entropy, max_depth=5, max_features=log2, min_samples_leaf=3, min_samples_split=5, random_state=42, splitter=best; total time=   0.0s\n",
            "[CV] END criterion=entropy, max_depth=5, max_features=log2, min_samples_leaf=3, min_samples_split=5, random_state=42, splitter=best; total time=   0.0s\n",
            "[CV] END criterion=entropy, max_depth=5, max_features=log2, min_samples_leaf=3, min_samples_split=5, random_state=42, splitter=random; total time=   0.0s\n",
            "[CV] END criterion=entropy, max_depth=5, max_features=log2, min_samples_leaf=3, min_samples_split=5, random_state=42, splitter=random; total time=   0.0s\n",
            "[CV] END criterion=entropy, max_depth=5, max_features=log2, min_samples_leaf=3, min_samples_split=5, random_state=42, splitter=random; total time=   0.0s\n",
            "[CV] END criterion=entropy, max_depth=5, max_features=log2, min_samples_leaf=3, min_samples_split=10, random_state=42, splitter=best; total time=   0.0s\n",
            "[CV] END criterion=entropy, max_depth=5, max_features=log2, min_samples_leaf=3, min_samples_split=10, random_state=42, splitter=best; total time=   0.0s\n",
            "[CV] END criterion=entropy, max_depth=5, max_features=log2, min_samples_leaf=3, min_samples_split=10, random_state=42, splitter=best; total time=   0.0s\n",
            "[CV] END criterion=entropy, max_depth=5, max_features=log2, min_samples_leaf=3, min_samples_split=10, random_state=42, splitter=random; total time=   0.0s\n",
            "[CV] END criterion=entropy, max_depth=5, max_features=log2, min_samples_leaf=3, min_samples_split=10, random_state=42, splitter=random; total time=   0.0s\n",
            "[CV] END criterion=entropy, max_depth=5, max_features=log2, min_samples_leaf=3, min_samples_split=10, random_state=42, splitter=random; total time=   0.0s\n",
            "[CV] END criterion=entropy, max_depth=10, max_features=None, min_samples_leaf=1, min_samples_split=2, random_state=42, splitter=best; total time=   0.0s\n",
            "[CV] END criterion=entropy, max_depth=10, max_features=None, min_samples_leaf=1, min_samples_split=2, random_state=42, splitter=best; total time=   0.0s\n",
            "[CV] END criterion=entropy, max_depth=10, max_features=None, min_samples_leaf=1, min_samples_split=2, random_state=42, splitter=best; total time=   0.0s\n",
            "[CV] END criterion=entropy, max_depth=10, max_features=None, min_samples_leaf=1, min_samples_split=2, random_state=42, splitter=random; total time=   0.0s\n",
            "[CV] END criterion=entropy, max_depth=10, max_features=None, min_samples_leaf=1, min_samples_split=2, random_state=42, splitter=random; total time=   0.0s\n",
            "[CV] END criterion=entropy, max_depth=10, max_features=None, min_samples_leaf=1, min_samples_split=2, random_state=42, splitter=random; total time=   0.0s\n",
            "[CV] END criterion=entropy, max_depth=10, max_features=None, min_samples_leaf=1, min_samples_split=5, random_state=42, splitter=best; total time=   0.0s\n",
            "[CV] END criterion=entropy, max_depth=10, max_features=None, min_samples_leaf=1, min_samples_split=5, random_state=42, splitter=best; total time=   0.0s\n",
            "[CV] END criterion=entropy, max_depth=10, max_features=None, min_samples_leaf=1, min_samples_split=5, random_state=42, splitter=best; total time=   0.0s\n",
            "[CV] END criterion=entropy, max_depth=10, max_features=None, min_samples_leaf=1, min_samples_split=5, random_state=42, splitter=random; total time=   0.0s\n",
            "[CV] END criterion=entropy, max_depth=10, max_features=None, min_samples_leaf=1, min_samples_split=5, random_state=42, splitter=random; total time=   0.0s\n",
            "[CV] END criterion=entropy, max_depth=10, max_features=None, min_samples_leaf=1, min_samples_split=5, random_state=42, splitter=random; total time=   0.0s\n",
            "[CV] END criterion=entropy, max_depth=10, max_features=None, min_samples_leaf=1, min_samples_split=10, random_state=42, splitter=best; total time=   0.0s\n",
            "[CV] END criterion=entropy, max_depth=10, max_features=None, min_samples_leaf=1, min_samples_split=10, random_state=42, splitter=best; total time=   0.0s\n",
            "[CV] END criterion=entropy, max_depth=10, max_features=None, min_samples_leaf=1, min_samples_split=10, random_state=42, splitter=best; total time=   0.0s\n",
            "[CV] END criterion=entropy, max_depth=10, max_features=None, min_samples_leaf=1, min_samples_split=10, random_state=42, splitter=random; total time=   0.0s\n",
            "[CV] END criterion=entropy, max_depth=10, max_features=None, min_samples_leaf=1, min_samples_split=10, random_state=42, splitter=random; total time=   0.0s\n",
            "[CV] END criterion=entropy, max_depth=10, max_features=None, min_samples_leaf=1, min_samples_split=10, random_state=42, splitter=random; total time=   0.0s\n",
            "[CV] END criterion=entropy, max_depth=10, max_features=None, min_samples_leaf=2, min_samples_split=2, random_state=42, splitter=best; total time=   0.0s\n",
            "[CV] END criterion=entropy, max_depth=10, max_features=None, min_samples_leaf=2, min_samples_split=2, random_state=42, splitter=best; total time=   0.0s\n",
            "[CV] END criterion=entropy, max_depth=10, max_features=None, min_samples_leaf=2, min_samples_split=2, random_state=42, splitter=best; total time=   0.0s\n",
            "[CV] END criterion=entropy, max_depth=10, max_features=None, min_samples_leaf=2, min_samples_split=2, random_state=42, splitter=random; total time=   0.0s\n",
            "[CV] END criterion=entropy, max_depth=10, max_features=None, min_samples_leaf=2, min_samples_split=2, random_state=42, splitter=random; total time=   0.0s\n",
            "[CV] END criterion=entropy, max_depth=10, max_features=None, min_samples_leaf=2, min_samples_split=2, random_state=42, splitter=random; total time=   0.0s\n",
            "[CV] END criterion=entropy, max_depth=10, max_features=None, min_samples_leaf=2, min_samples_split=5, random_state=42, splitter=best; total time=   0.0s\n",
            "[CV] END criterion=entropy, max_depth=10, max_features=None, min_samples_leaf=2, min_samples_split=5, random_state=42, splitter=best; total time=   0.0s\n",
            "[CV] END criterion=entropy, max_depth=10, max_features=None, min_samples_leaf=2, min_samples_split=5, random_state=42, splitter=best; total time=   0.0s\n",
            "[CV] END criterion=entropy, max_depth=10, max_features=None, min_samples_leaf=2, min_samples_split=5, random_state=42, splitter=random; total time=   0.0s\n",
            "[CV] END criterion=entropy, max_depth=10, max_features=None, min_samples_leaf=2, min_samples_split=5, random_state=42, splitter=random; total time=   0.0s\n",
            "[CV] END criterion=entropy, max_depth=10, max_features=None, min_samples_leaf=2, min_samples_split=5, random_state=42, splitter=random; total time=   0.0s\n",
            "[CV] END criterion=entropy, max_depth=10, max_features=None, min_samples_leaf=2, min_samples_split=10, random_state=42, splitter=best; total time=   0.0s\n",
            "[CV] END criterion=entropy, max_depth=10, max_features=None, min_samples_leaf=2, min_samples_split=10, random_state=42, splitter=best; total time=   0.0s\n",
            "[CV] END criterion=entropy, max_depth=10, max_features=None, min_samples_leaf=2, min_samples_split=10, random_state=42, splitter=best; total time=   0.0s\n",
            "[CV] END criterion=entropy, max_depth=10, max_features=None, min_samples_leaf=2, min_samples_split=10, random_state=42, splitter=random; total time=   0.0s\n",
            "[CV] END criterion=entropy, max_depth=10, max_features=None, min_samples_leaf=2, min_samples_split=10, random_state=42, splitter=random; total time=   0.0s\n",
            "[CV] END criterion=entropy, max_depth=10, max_features=None, min_samples_leaf=2, min_samples_split=10, random_state=42, splitter=random; total time=   0.0s\n",
            "[CV] END criterion=entropy, max_depth=10, max_features=None, min_samples_leaf=3, min_samples_split=2, random_state=42, splitter=best; total time=   0.0s\n",
            "[CV] END criterion=entropy, max_depth=10, max_features=None, min_samples_leaf=3, min_samples_split=2, random_state=42, splitter=best; total time=   0.0s\n",
            "[CV] END criterion=entropy, max_depth=10, max_features=None, min_samples_leaf=3, min_samples_split=2, random_state=42, splitter=best; total time=   0.0s\n",
            "[CV] END criterion=entropy, max_depth=10, max_features=None, min_samples_leaf=3, min_samples_split=2, random_state=42, splitter=random; total time=   0.0s\n",
            "[CV] END criterion=entropy, max_depth=10, max_features=None, min_samples_leaf=3, min_samples_split=2, random_state=42, splitter=random; total time=   0.0s\n",
            "[CV] END criterion=entropy, max_depth=10, max_features=None, min_samples_leaf=3, min_samples_split=2, random_state=42, splitter=random; total time=   0.0s\n",
            "[CV] END criterion=entropy, max_depth=10, max_features=None, min_samples_leaf=3, min_samples_split=5, random_state=42, splitter=best; total time=   0.0s\n",
            "[CV] END criterion=entropy, max_depth=10, max_features=None, min_samples_leaf=3, min_samples_split=5, random_state=42, splitter=best; total time=   0.0s\n",
            "[CV] END criterion=entropy, max_depth=10, max_features=None, min_samples_leaf=3, min_samples_split=5, random_state=42, splitter=best; total time=   0.0s\n",
            "[CV] END criterion=entropy, max_depth=10, max_features=None, min_samples_leaf=3, min_samples_split=5, random_state=42, splitter=random; total time=   0.0s\n",
            "[CV] END criterion=entropy, max_depth=10, max_features=None, min_samples_leaf=3, min_samples_split=5, random_state=42, splitter=random; total time=   0.0s\n",
            "[CV] END criterion=entropy, max_depth=10, max_features=None, min_samples_leaf=3, min_samples_split=5, random_state=42, splitter=random; total time=   0.0s\n",
            "[CV] END criterion=entropy, max_depth=10, max_features=None, min_samples_leaf=3, min_samples_split=10, random_state=42, splitter=best; total time=   0.0s\n",
            "[CV] END criterion=entropy, max_depth=10, max_features=None, min_samples_leaf=3, min_samples_split=10, random_state=42, splitter=best; total time=   0.0s\n",
            "[CV] END criterion=entropy, max_depth=10, max_features=None, min_samples_leaf=3, min_samples_split=10, random_state=42, splitter=best; total time=   0.0s\n",
            "[CV] END criterion=entropy, max_depth=10, max_features=None, min_samples_leaf=3, min_samples_split=10, random_state=42, splitter=random; total time=   0.0s\n",
            "[CV] END criterion=entropy, max_depth=10, max_features=None, min_samples_leaf=3, min_samples_split=10, random_state=42, splitter=random; total time=   0.0s\n",
            "[CV] END criterion=entropy, max_depth=10, max_features=None, min_samples_leaf=3, min_samples_split=10, random_state=42, splitter=random; total time=   0.0s\n",
            "[CV] END criterion=entropy, max_depth=10, max_features=sqrt, min_samples_leaf=1, min_samples_split=2, random_state=42, splitter=best; total time=   0.0s\n",
            "[CV] END criterion=entropy, max_depth=10, max_features=sqrt, min_samples_leaf=1, min_samples_split=2, random_state=42, splitter=best; total time=   0.0s\n",
            "[CV] END criterion=entropy, max_depth=10, max_features=sqrt, min_samples_leaf=1, min_samples_split=2, random_state=42, splitter=best; total time=   0.0s\n",
            "[CV] END criterion=entropy, max_depth=10, max_features=sqrt, min_samples_leaf=1, min_samples_split=2, random_state=42, splitter=random; total time=   0.0s\n",
            "[CV] END criterion=entropy, max_depth=10, max_features=sqrt, min_samples_leaf=1, min_samples_split=2, random_state=42, splitter=random; total time=   0.0s\n",
            "[CV] END criterion=entropy, max_depth=10, max_features=sqrt, min_samples_leaf=1, min_samples_split=2, random_state=42, splitter=random; total time=   0.0s\n",
            "[CV] END criterion=entropy, max_depth=10, max_features=sqrt, min_samples_leaf=1, min_samples_split=5, random_state=42, splitter=best; total time=   0.0s\n",
            "[CV] END criterion=entropy, max_depth=10, max_features=sqrt, min_samples_leaf=1, min_samples_split=5, random_state=42, splitter=best; total time=   0.0s\n",
            "[CV] END criterion=entropy, max_depth=10, max_features=sqrt, min_samples_leaf=1, min_samples_split=5, random_state=42, splitter=best; total time=   0.0s\n",
            "[CV] END criterion=entropy, max_depth=10, max_features=sqrt, min_samples_leaf=1, min_samples_split=5, random_state=42, splitter=random; total time=   0.0s\n",
            "[CV] END criterion=entropy, max_depth=10, max_features=sqrt, min_samples_leaf=1, min_samples_split=5, random_state=42, splitter=random; total time=   0.0s\n",
            "[CV] END criterion=entropy, max_depth=10, max_features=sqrt, min_samples_leaf=1, min_samples_split=5, random_state=42, splitter=random; total time=   0.0s\n",
            "[CV] END criterion=entropy, max_depth=10, max_features=sqrt, min_samples_leaf=1, min_samples_split=10, random_state=42, splitter=best; total time=   0.0s\n",
            "[CV] END criterion=entropy, max_depth=10, max_features=sqrt, min_samples_leaf=1, min_samples_split=10, random_state=42, splitter=best; total time=   0.0s\n",
            "[CV] END criterion=entropy, max_depth=10, max_features=sqrt, min_samples_leaf=1, min_samples_split=10, random_state=42, splitter=best; total time=   0.0s\n",
            "[CV] END criterion=entropy, max_depth=10, max_features=sqrt, min_samples_leaf=1, min_samples_split=10, random_state=42, splitter=random; total time=   0.0s\n",
            "[CV] END criterion=entropy, max_depth=10, max_features=sqrt, min_samples_leaf=1, min_samples_split=10, random_state=42, splitter=random; total time=   0.0s\n",
            "[CV] END criterion=entropy, max_depth=10, max_features=sqrt, min_samples_leaf=1, min_samples_split=10, random_state=42, splitter=random; total time=   0.0s\n",
            "[CV] END criterion=entropy, max_depth=10, max_features=sqrt, min_samples_leaf=2, min_samples_split=2, random_state=42, splitter=best; total time=   0.0s\n",
            "[CV] END criterion=entropy, max_depth=10, max_features=sqrt, min_samples_leaf=2, min_samples_split=2, random_state=42, splitter=best; total time=   0.0s\n",
            "[CV] END criterion=entropy, max_depth=10, max_features=sqrt, min_samples_leaf=2, min_samples_split=2, random_state=42, splitter=best; total time=   0.0s\n",
            "[CV] END criterion=entropy, max_depth=10, max_features=sqrt, min_samples_leaf=2, min_samples_split=2, random_state=42, splitter=random; total time=   0.0s\n",
            "[CV] END criterion=entropy, max_depth=10, max_features=sqrt, min_samples_leaf=2, min_samples_split=2, random_state=42, splitter=random; total time=   0.0s\n",
            "[CV] END criterion=entropy, max_depth=10, max_features=sqrt, min_samples_leaf=2, min_samples_split=2, random_state=42, splitter=random; total time=   0.0s\n",
            "[CV] END criterion=entropy, max_depth=10, max_features=sqrt, min_samples_leaf=2, min_samples_split=5, random_state=42, splitter=best; total time=   0.0s\n",
            "[CV] END criterion=entropy, max_depth=10, max_features=sqrt, min_samples_leaf=2, min_samples_split=5, random_state=42, splitter=best; total time=   0.0s\n",
            "[CV] END criterion=entropy, max_depth=10, max_features=sqrt, min_samples_leaf=2, min_samples_split=5, random_state=42, splitter=best; total time=   0.0s\n",
            "[CV] END criterion=entropy, max_depth=10, max_features=sqrt, min_samples_leaf=2, min_samples_split=5, random_state=42, splitter=random; total time=   0.0s\n",
            "[CV] END criterion=entropy, max_depth=10, max_features=sqrt, min_samples_leaf=2, min_samples_split=5, random_state=42, splitter=random; total time=   0.0s\n",
            "[CV] END criterion=entropy, max_depth=10, max_features=sqrt, min_samples_leaf=2, min_samples_split=5, random_state=42, splitter=random; total time=   0.0s\n",
            "[CV] END criterion=entropy, max_depth=10, max_features=sqrt, min_samples_leaf=2, min_samples_split=10, random_state=42, splitter=best; total time=   0.0s\n",
            "[CV] END criterion=entropy, max_depth=10, max_features=sqrt, min_samples_leaf=2, min_samples_split=10, random_state=42, splitter=best; total time=   0.0s\n",
            "[CV] END criterion=entropy, max_depth=10, max_features=sqrt, min_samples_leaf=2, min_samples_split=10, random_state=42, splitter=best; total time=   0.0s\n",
            "[CV] END criterion=entropy, max_depth=10, max_features=sqrt, min_samples_leaf=2, min_samples_split=10, random_state=42, splitter=random; total time=   0.0s\n",
            "[CV] END criterion=entropy, max_depth=10, max_features=sqrt, min_samples_leaf=2, min_samples_split=10, random_state=42, splitter=random; total time=   0.0s\n",
            "[CV] END criterion=entropy, max_depth=10, max_features=sqrt, min_samples_leaf=2, min_samples_split=10, random_state=42, splitter=random; total time=   0.0s\n",
            "[CV] END criterion=entropy, max_depth=10, max_features=sqrt, min_samples_leaf=3, min_samples_split=2, random_state=42, splitter=best; total time=   0.0s\n",
            "[CV] END criterion=entropy, max_depth=10, max_features=sqrt, min_samples_leaf=3, min_samples_split=2, random_state=42, splitter=best; total time=   0.0s\n",
            "[CV] END criterion=entropy, max_depth=10, max_features=sqrt, min_samples_leaf=3, min_samples_split=2, random_state=42, splitter=best; total time=   0.0s\n",
            "[CV] END criterion=entropy, max_depth=10, max_features=sqrt, min_samples_leaf=3, min_samples_split=2, random_state=42, splitter=random; total time=   0.0s\n",
            "[CV] END criterion=entropy, max_depth=10, max_features=sqrt, min_samples_leaf=3, min_samples_split=2, random_state=42, splitter=random; total time=   0.0s\n",
            "[CV] END criterion=entropy, max_depth=10, max_features=sqrt, min_samples_leaf=3, min_samples_split=2, random_state=42, splitter=random; total time=   0.0s\n",
            "[CV] END criterion=entropy, max_depth=10, max_features=sqrt, min_samples_leaf=3, min_samples_split=5, random_state=42, splitter=best; total time=   0.0s\n",
            "[CV] END criterion=entropy, max_depth=10, max_features=sqrt, min_samples_leaf=3, min_samples_split=5, random_state=42, splitter=best; total time=   0.0s\n",
            "[CV] END criterion=entropy, max_depth=10, max_features=sqrt, min_samples_leaf=3, min_samples_split=5, random_state=42, splitter=best; total time=   0.0s\n",
            "[CV] END criterion=entropy, max_depth=10, max_features=sqrt, min_samples_leaf=3, min_samples_split=5, random_state=42, splitter=random; total time=   0.0s\n",
            "[CV] END criterion=entropy, max_depth=10, max_features=sqrt, min_samples_leaf=3, min_samples_split=5, random_state=42, splitter=random; total time=   0.0s\n",
            "[CV] END criterion=entropy, max_depth=10, max_features=sqrt, min_samples_leaf=3, min_samples_split=5, random_state=42, splitter=random; total time=   0.0s\n",
            "[CV] END criterion=entropy, max_depth=10, max_features=sqrt, min_samples_leaf=3, min_samples_split=10, random_state=42, splitter=best; total time=   0.0s\n",
            "[CV] END criterion=entropy, max_depth=10, max_features=sqrt, min_samples_leaf=3, min_samples_split=10, random_state=42, splitter=best; total time=   0.0s\n",
            "[CV] END criterion=entropy, max_depth=10, max_features=sqrt, min_samples_leaf=3, min_samples_split=10, random_state=42, splitter=best; total time=   0.0s\n",
            "[CV] END criterion=entropy, max_depth=10, max_features=sqrt, min_samples_leaf=3, min_samples_split=10, random_state=42, splitter=random; total time=   0.0s\n",
            "[CV] END criterion=entropy, max_depth=10, max_features=sqrt, min_samples_leaf=3, min_samples_split=10, random_state=42, splitter=random; total time=   0.0s\n",
            "[CV] END criterion=entropy, max_depth=10, max_features=sqrt, min_samples_leaf=3, min_samples_split=10, random_state=42, splitter=random; total time=   0.0s\n",
            "[CV] END criterion=entropy, max_depth=10, max_features=log2, min_samples_leaf=1, min_samples_split=2, random_state=42, splitter=best; total time=   0.0s\n",
            "[CV] END criterion=entropy, max_depth=10, max_features=log2, min_samples_leaf=1, min_samples_split=2, random_state=42, splitter=best; total time=   0.0s\n",
            "[CV] END criterion=entropy, max_depth=10, max_features=log2, min_samples_leaf=1, min_samples_split=2, random_state=42, splitter=best; total time=   0.0s\n",
            "[CV] END criterion=entropy, max_depth=10, max_features=log2, min_samples_leaf=1, min_samples_split=2, random_state=42, splitter=random; total time=   0.0s\n",
            "[CV] END criterion=entropy, max_depth=10, max_features=log2, min_samples_leaf=1, min_samples_split=2, random_state=42, splitter=random; total time=   0.0s\n",
            "[CV] END criterion=entropy, max_depth=10, max_features=log2, min_samples_leaf=1, min_samples_split=2, random_state=42, splitter=random; total time=   0.0s\n",
            "[CV] END criterion=entropy, max_depth=10, max_features=log2, min_samples_leaf=1, min_samples_split=5, random_state=42, splitter=best; total time=   0.0s\n",
            "[CV] END criterion=entropy, max_depth=10, max_features=log2, min_samples_leaf=1, min_samples_split=5, random_state=42, splitter=best; total time=   0.0s\n",
            "[CV] END criterion=entropy, max_depth=10, max_features=log2, min_samples_leaf=1, min_samples_split=5, random_state=42, splitter=best; total time=   0.0s\n",
            "[CV] END criterion=entropy, max_depth=10, max_features=log2, min_samples_leaf=1, min_samples_split=5, random_state=42, splitter=random; total time=   0.0s\n",
            "[CV] END criterion=entropy, max_depth=10, max_features=log2, min_samples_leaf=1, min_samples_split=5, random_state=42, splitter=random; total time=   0.0s\n",
            "[CV] END criterion=entropy, max_depth=10, max_features=log2, min_samples_leaf=1, min_samples_split=5, random_state=42, splitter=random; total time=   0.0s\n",
            "[CV] END criterion=entropy, max_depth=10, max_features=log2, min_samples_leaf=1, min_samples_split=10, random_state=42, splitter=best; total time=   0.0s\n",
            "[CV] END criterion=entropy, max_depth=10, max_features=log2, min_samples_leaf=1, min_samples_split=10, random_state=42, splitter=best; total time=   0.0s\n",
            "[CV] END criterion=entropy, max_depth=10, max_features=log2, min_samples_leaf=1, min_samples_split=10, random_state=42, splitter=best; total time=   0.0s\n",
            "[CV] END criterion=entropy, max_depth=10, max_features=log2, min_samples_leaf=1, min_samples_split=10, random_state=42, splitter=random; total time=   0.0s\n",
            "[CV] END criterion=entropy, max_depth=10, max_features=log2, min_samples_leaf=1, min_samples_split=10, random_state=42, splitter=random; total time=   0.0s\n",
            "[CV] END criterion=entropy, max_depth=10, max_features=log2, min_samples_leaf=1, min_samples_split=10, random_state=42, splitter=random; total time=   0.0s\n",
            "[CV] END criterion=entropy, max_depth=10, max_features=log2, min_samples_leaf=2, min_samples_split=2, random_state=42, splitter=best; total time=   0.0s\n",
            "[CV] END criterion=entropy, max_depth=10, max_features=log2, min_samples_leaf=2, min_samples_split=2, random_state=42, splitter=best; total time=   0.0s\n",
            "[CV] END criterion=entropy, max_depth=10, max_features=log2, min_samples_leaf=2, min_samples_split=2, random_state=42, splitter=best; total time=   0.0s\n",
            "[CV] END criterion=entropy, max_depth=10, max_features=log2, min_samples_leaf=2, min_samples_split=2, random_state=42, splitter=random; total time=   0.0s\n",
            "[CV] END criterion=entropy, max_depth=10, max_features=log2, min_samples_leaf=2, min_samples_split=2, random_state=42, splitter=random; total time=   0.0s\n",
            "[CV] END criterion=entropy, max_depth=10, max_features=log2, min_samples_leaf=2, min_samples_split=2, random_state=42, splitter=random; total time=   0.0s\n",
            "[CV] END criterion=entropy, max_depth=10, max_features=log2, min_samples_leaf=2, min_samples_split=5, random_state=42, splitter=best; total time=   0.0s\n",
            "[CV] END criterion=entropy, max_depth=10, max_features=log2, min_samples_leaf=2, min_samples_split=5, random_state=42, splitter=best; total time=   0.0s\n",
            "[CV] END criterion=entropy, max_depth=10, max_features=log2, min_samples_leaf=2, min_samples_split=5, random_state=42, splitter=best; total time=   0.0s\n",
            "[CV] END criterion=entropy, max_depth=10, max_features=log2, min_samples_leaf=2, min_samples_split=5, random_state=42, splitter=random; total time=   0.0s\n",
            "[CV] END criterion=entropy, max_depth=10, max_features=log2, min_samples_leaf=2, min_samples_split=5, random_state=42, splitter=random; total time=   0.0s\n",
            "[CV] END criterion=entropy, max_depth=10, max_features=log2, min_samples_leaf=2, min_samples_split=5, random_state=42, splitter=random; total time=   0.0s\n",
            "[CV] END criterion=entropy, max_depth=10, max_features=log2, min_samples_leaf=2, min_samples_split=10, random_state=42, splitter=best; total time=   0.0s\n",
            "[CV] END criterion=entropy, max_depth=10, max_features=log2, min_samples_leaf=2, min_samples_split=10, random_state=42, splitter=best; total time=   0.0s\n",
            "[CV] END criterion=entropy, max_depth=10, max_features=log2, min_samples_leaf=2, min_samples_split=10, random_state=42, splitter=best; total time=   0.0s\n",
            "[CV] END criterion=entropy, max_depth=10, max_features=log2, min_samples_leaf=2, min_samples_split=10, random_state=42, splitter=random; total time=   0.0s\n",
            "[CV] END criterion=entropy, max_depth=10, max_features=log2, min_samples_leaf=2, min_samples_split=10, random_state=42, splitter=random; total time=   0.0s\n",
            "[CV] END criterion=entropy, max_depth=10, max_features=log2, min_samples_leaf=2, min_samples_split=10, random_state=42, splitter=random; total time=   0.0s\n",
            "[CV] END criterion=entropy, max_depth=10, max_features=log2, min_samples_leaf=3, min_samples_split=2, random_state=42, splitter=best; total time=   0.0s\n",
            "[CV] END criterion=entropy, max_depth=10, max_features=log2, min_samples_leaf=3, min_samples_split=2, random_state=42, splitter=best; total time=   0.0s\n",
            "[CV] END criterion=entropy, max_depth=10, max_features=log2, min_samples_leaf=3, min_samples_split=2, random_state=42, splitter=best; total time=   0.0s\n",
            "[CV] END criterion=entropy, max_depth=10, max_features=log2, min_samples_leaf=3, min_samples_split=2, random_state=42, splitter=random; total time=   0.0s\n",
            "[CV] END criterion=entropy, max_depth=10, max_features=log2, min_samples_leaf=3, min_samples_split=2, random_state=42, splitter=random; total time=   0.0s\n",
            "[CV] END criterion=entropy, max_depth=10, max_features=log2, min_samples_leaf=3, min_samples_split=2, random_state=42, splitter=random; total time=   0.0s\n",
            "[CV] END criterion=entropy, max_depth=10, max_features=log2, min_samples_leaf=3, min_samples_split=5, random_state=42, splitter=best; total time=   0.0s\n",
            "[CV] END criterion=entropy, max_depth=10, max_features=log2, min_samples_leaf=3, min_samples_split=5, random_state=42, splitter=best; total time=   0.0s\n",
            "[CV] END criterion=entropy, max_depth=10, max_features=log2, min_samples_leaf=3, min_samples_split=5, random_state=42, splitter=best; total time=   0.0s\n",
            "[CV] END criterion=entropy, max_depth=10, max_features=log2, min_samples_leaf=3, min_samples_split=5, random_state=42, splitter=random; total time=   0.0s\n",
            "[CV] END criterion=entropy, max_depth=10, max_features=log2, min_samples_leaf=3, min_samples_split=5, random_state=42, splitter=random; total time=   0.0s\n",
            "[CV] END criterion=entropy, max_depth=10, max_features=log2, min_samples_leaf=3, min_samples_split=5, random_state=42, splitter=random; total time=   0.0s\n",
            "[CV] END criterion=entropy, max_depth=10, max_features=log2, min_samples_leaf=3, min_samples_split=10, random_state=42, splitter=best; total time=   0.0s\n",
            "[CV] END criterion=entropy, max_depth=10, max_features=log2, min_samples_leaf=3, min_samples_split=10, random_state=42, splitter=best; total time=   0.0s\n",
            "[CV] END criterion=entropy, max_depth=10, max_features=log2, min_samples_leaf=3, min_samples_split=10, random_state=42, splitter=best; total time=   0.0s\n",
            "[CV] END criterion=entropy, max_depth=10, max_features=log2, min_samples_leaf=3, min_samples_split=10, random_state=42, splitter=random; total time=   0.0s\n",
            "[CV] END criterion=entropy, max_depth=10, max_features=log2, min_samples_leaf=3, min_samples_split=10, random_state=42, splitter=random; total time=   0.0s\n",
            "[CV] END criterion=entropy, max_depth=10, max_features=log2, min_samples_leaf=3, min_samples_split=10, random_state=42, splitter=random; total time=   0.0s\n",
            "[CV] END criterion=entropy, max_depth=20, max_features=None, min_samples_leaf=1, min_samples_split=2, random_state=42, splitter=best; total time=   0.0s\n",
            "[CV] END criterion=entropy, max_depth=20, max_features=None, min_samples_leaf=1, min_samples_split=2, random_state=42, splitter=best; total time=   0.0s\n",
            "[CV] END criterion=entropy, max_depth=20, max_features=None, min_samples_leaf=1, min_samples_split=2, random_state=42, splitter=best; total time=   0.0s\n",
            "[CV] END criterion=entropy, max_depth=20, max_features=None, min_samples_leaf=1, min_samples_split=2, random_state=42, splitter=random; total time=   0.0s\n",
            "[CV] END criterion=entropy, max_depth=20, max_features=None, min_samples_leaf=1, min_samples_split=2, random_state=42, splitter=random; total time=   0.0s\n",
            "[CV] END criterion=entropy, max_depth=20, max_features=None, min_samples_leaf=1, min_samples_split=2, random_state=42, splitter=random; total time=   0.0s\n",
            "[CV] END criterion=entropy, max_depth=20, max_features=None, min_samples_leaf=1, min_samples_split=5, random_state=42, splitter=best; total time=   0.0s\n",
            "[CV] END criterion=entropy, max_depth=20, max_features=None, min_samples_leaf=1, min_samples_split=5, random_state=42, splitter=best; total time=   0.0s\n",
            "[CV] END criterion=entropy, max_depth=20, max_features=None, min_samples_leaf=1, min_samples_split=5, random_state=42, splitter=best; total time=   0.0s\n",
            "[CV] END criterion=entropy, max_depth=20, max_features=None, min_samples_leaf=1, min_samples_split=5, random_state=42, splitter=random; total time=   0.0s\n",
            "[CV] END criterion=entropy, max_depth=20, max_features=None, min_samples_leaf=1, min_samples_split=5, random_state=42, splitter=random; total time=   0.0s\n",
            "[CV] END criterion=entropy, max_depth=20, max_features=None, min_samples_leaf=1, min_samples_split=5, random_state=42, splitter=random; total time=   0.0s\n",
            "[CV] END criterion=entropy, max_depth=20, max_features=None, min_samples_leaf=1, min_samples_split=10, random_state=42, splitter=best; total time=   0.0s\n",
            "[CV] END criterion=entropy, max_depth=20, max_features=None, min_samples_leaf=1, min_samples_split=10, random_state=42, splitter=best; total time=   0.0s\n",
            "[CV] END criterion=entropy, max_depth=20, max_features=None, min_samples_leaf=1, min_samples_split=10, random_state=42, splitter=best; total time=   0.0s\n",
            "[CV] END criterion=entropy, max_depth=20, max_features=None, min_samples_leaf=1, min_samples_split=10, random_state=42, splitter=random; total time=   0.0s\n",
            "[CV] END criterion=entropy, max_depth=20, max_features=None, min_samples_leaf=1, min_samples_split=10, random_state=42, splitter=random; total time=   0.0s\n",
            "[CV] END criterion=entropy, max_depth=20, max_features=None, min_samples_leaf=1, min_samples_split=10, random_state=42, splitter=random; total time=   0.0s\n",
            "[CV] END criterion=entropy, max_depth=20, max_features=None, min_samples_leaf=2, min_samples_split=2, random_state=42, splitter=best; total time=   0.0s\n",
            "[CV] END criterion=entropy, max_depth=20, max_features=None, min_samples_leaf=2, min_samples_split=2, random_state=42, splitter=best; total time=   0.0s\n",
            "[CV] END criterion=entropy, max_depth=20, max_features=None, min_samples_leaf=2, min_samples_split=2, random_state=42, splitter=best; total time=   0.0s\n",
            "[CV] END criterion=entropy, max_depth=20, max_features=None, min_samples_leaf=2, min_samples_split=2, random_state=42, splitter=random; total time=   0.0s\n",
            "[CV] END criterion=entropy, max_depth=20, max_features=None, min_samples_leaf=2, min_samples_split=2, random_state=42, splitter=random; total time=   0.0s\n",
            "[CV] END criterion=entropy, max_depth=20, max_features=None, min_samples_leaf=2, min_samples_split=2, random_state=42, splitter=random; total time=   0.0s\n",
            "[CV] END criterion=entropy, max_depth=20, max_features=None, min_samples_leaf=2, min_samples_split=5, random_state=42, splitter=best; total time=   0.0s\n",
            "[CV] END criterion=entropy, max_depth=20, max_features=None, min_samples_leaf=2, min_samples_split=5, random_state=42, splitter=best; total time=   0.0s\n",
            "[CV] END criterion=entropy, max_depth=20, max_features=None, min_samples_leaf=2, min_samples_split=5, random_state=42, splitter=best; total time=   0.0s\n",
            "[CV] END criterion=entropy, max_depth=20, max_features=None, min_samples_leaf=2, min_samples_split=5, random_state=42, splitter=random; total time=   0.0s\n",
            "[CV] END criterion=entropy, max_depth=20, max_features=None, min_samples_leaf=2, min_samples_split=5, random_state=42, splitter=random; total time=   0.0s\n",
            "[CV] END criterion=entropy, max_depth=20, max_features=None, min_samples_leaf=2, min_samples_split=5, random_state=42, splitter=random; total time=   0.0s\n",
            "[CV] END criterion=entropy, max_depth=20, max_features=None, min_samples_leaf=2, min_samples_split=10, random_state=42, splitter=best; total time=   0.0s\n",
            "[CV] END criterion=entropy, max_depth=20, max_features=None, min_samples_leaf=2, min_samples_split=10, random_state=42, splitter=best; total time=   0.0s\n",
            "[CV] END criterion=entropy, max_depth=20, max_features=None, min_samples_leaf=2, min_samples_split=10, random_state=42, splitter=best; total time=   0.0s\n",
            "[CV] END criterion=entropy, max_depth=20, max_features=None, min_samples_leaf=2, min_samples_split=10, random_state=42, splitter=random; total time=   0.0s\n",
            "[CV] END criterion=entropy, max_depth=20, max_features=None, min_samples_leaf=2, min_samples_split=10, random_state=42, splitter=random; total time=   0.0s\n",
            "[CV] END criterion=entropy, max_depth=20, max_features=None, min_samples_leaf=2, min_samples_split=10, random_state=42, splitter=random; total time=   0.0s\n",
            "[CV] END criterion=entropy, max_depth=20, max_features=None, min_samples_leaf=3, min_samples_split=2, random_state=42, splitter=best; total time=   0.0s\n",
            "[CV] END criterion=entropy, max_depth=20, max_features=None, min_samples_leaf=3, min_samples_split=2, random_state=42, splitter=best; total time=   0.0s\n",
            "[CV] END criterion=entropy, max_depth=20, max_features=None, min_samples_leaf=3, min_samples_split=2, random_state=42, splitter=best; total time=   0.0s\n",
            "[CV] END criterion=entropy, max_depth=20, max_features=None, min_samples_leaf=3, min_samples_split=2, random_state=42, splitter=random; total time=   0.0s\n",
            "[CV] END criterion=entropy, max_depth=20, max_features=None, min_samples_leaf=3, min_samples_split=2, random_state=42, splitter=random; total time=   0.0s\n",
            "[CV] END criterion=entropy, max_depth=20, max_features=None, min_samples_leaf=3, min_samples_split=2, random_state=42, splitter=random; total time=   0.0s\n",
            "[CV] END criterion=entropy, max_depth=20, max_features=None, min_samples_leaf=3, min_samples_split=5, random_state=42, splitter=best; total time=   0.0s\n",
            "[CV] END criterion=entropy, max_depth=20, max_features=None, min_samples_leaf=3, min_samples_split=5, random_state=42, splitter=best; total time=   0.0s\n",
            "[CV] END criterion=entropy, max_depth=20, max_features=None, min_samples_leaf=3, min_samples_split=5, random_state=42, splitter=best; total time=   0.0s\n",
            "[CV] END criterion=entropy, max_depth=20, max_features=None, min_samples_leaf=3, min_samples_split=5, random_state=42, splitter=random; total time=   0.0s\n",
            "[CV] END criterion=entropy, max_depth=20, max_features=None, min_samples_leaf=3, min_samples_split=5, random_state=42, splitter=random; total time=   0.0s\n",
            "[CV] END criterion=entropy, max_depth=20, max_features=None, min_samples_leaf=3, min_samples_split=5, random_state=42, splitter=random; total time=   0.0s\n",
            "[CV] END criterion=entropy, max_depth=20, max_features=None, min_samples_leaf=3, min_samples_split=10, random_state=42, splitter=best; total time=   0.0s\n",
            "[CV] END criterion=entropy, max_depth=20, max_features=None, min_samples_leaf=3, min_samples_split=10, random_state=42, splitter=best; total time=   0.0s\n",
            "[CV] END criterion=entropy, max_depth=20, max_features=None, min_samples_leaf=3, min_samples_split=10, random_state=42, splitter=best; total time=   0.0s\n",
            "[CV] END criterion=entropy, max_depth=20, max_features=None, min_samples_leaf=3, min_samples_split=10, random_state=42, splitter=random; total time=   0.0s\n",
            "[CV] END criterion=entropy, max_depth=20, max_features=None, min_samples_leaf=3, min_samples_split=10, random_state=42, splitter=random; total time=   0.0s\n",
            "[CV] END criterion=entropy, max_depth=20, max_features=None, min_samples_leaf=3, min_samples_split=10, random_state=42, splitter=random; total time=   0.0s\n",
            "[CV] END criterion=entropy, max_depth=20, max_features=sqrt, min_samples_leaf=1, min_samples_split=2, random_state=42, splitter=best; total time=   0.0s\n",
            "[CV] END criterion=entropy, max_depth=20, max_features=sqrt, min_samples_leaf=1, min_samples_split=2, random_state=42, splitter=best; total time=   0.0s\n",
            "[CV] END criterion=entropy, max_depth=20, max_features=sqrt, min_samples_leaf=1, min_samples_split=2, random_state=42, splitter=best; total time=   0.0s\n",
            "[CV] END criterion=entropy, max_depth=20, max_features=sqrt, min_samples_leaf=1, min_samples_split=2, random_state=42, splitter=random; total time=   0.0s\n",
            "[CV] END criterion=entropy, max_depth=20, max_features=sqrt, min_samples_leaf=1, min_samples_split=2, random_state=42, splitter=random; total time=   0.0s\n",
            "[CV] END criterion=entropy, max_depth=20, max_features=sqrt, min_samples_leaf=1, min_samples_split=2, random_state=42, splitter=random; total time=   0.0s\n",
            "[CV] END criterion=entropy, max_depth=20, max_features=sqrt, min_samples_leaf=1, min_samples_split=5, random_state=42, splitter=best; total time=   0.0s\n",
            "[CV] END criterion=entropy, max_depth=20, max_features=sqrt, min_samples_leaf=1, min_samples_split=5, random_state=42, splitter=best; total time=   0.0s\n",
            "[CV] END criterion=entropy, max_depth=20, max_features=sqrt, min_samples_leaf=1, min_samples_split=5, random_state=42, splitter=best; total time=   0.0s\n",
            "[CV] END criterion=entropy, max_depth=20, max_features=sqrt, min_samples_leaf=1, min_samples_split=5, random_state=42, splitter=random; total time=   0.0s\n",
            "[CV] END criterion=entropy, max_depth=20, max_features=sqrt, min_samples_leaf=1, min_samples_split=5, random_state=42, splitter=random; total time=   0.0s\n",
            "[CV] END criterion=entropy, max_depth=20, max_features=sqrt, min_samples_leaf=1, min_samples_split=5, random_state=42, splitter=random; total time=   0.0s\n",
            "[CV] END criterion=entropy, max_depth=20, max_features=sqrt, min_samples_leaf=1, min_samples_split=10, random_state=42, splitter=best; total time=   0.0s\n",
            "[CV] END criterion=entropy, max_depth=20, max_features=sqrt, min_samples_leaf=1, min_samples_split=10, random_state=42, splitter=best; total time=   0.0s\n",
            "[CV] END criterion=entropy, max_depth=20, max_features=sqrt, min_samples_leaf=1, min_samples_split=10, random_state=42, splitter=best; total time=   0.0s\n",
            "[CV] END criterion=entropy, max_depth=20, max_features=sqrt, min_samples_leaf=1, min_samples_split=10, random_state=42, splitter=random; total time=   0.0s\n",
            "[CV] END criterion=entropy, max_depth=20, max_features=sqrt, min_samples_leaf=1, min_samples_split=10, random_state=42, splitter=random; total time=   0.0s\n",
            "[CV] END criterion=entropy, max_depth=20, max_features=sqrt, min_samples_leaf=1, min_samples_split=10, random_state=42, splitter=random; total time=   0.0s\n",
            "[CV] END criterion=entropy, max_depth=20, max_features=sqrt, min_samples_leaf=2, min_samples_split=2, random_state=42, splitter=best; total time=   0.0s\n",
            "[CV] END criterion=entropy, max_depth=20, max_features=sqrt, min_samples_leaf=2, min_samples_split=2, random_state=42, splitter=best; total time=   0.0s\n",
            "[CV] END criterion=entropy, max_depth=20, max_features=sqrt, min_samples_leaf=2, min_samples_split=2, random_state=42, splitter=best; total time=   0.0s\n",
            "[CV] END criterion=entropy, max_depth=20, max_features=sqrt, min_samples_leaf=2, min_samples_split=2, random_state=42, splitter=random; total time=   0.0s\n",
            "[CV] END criterion=entropy, max_depth=20, max_features=sqrt, min_samples_leaf=2, min_samples_split=2, random_state=42, splitter=random; total time=   0.0s\n",
            "[CV] END criterion=entropy, max_depth=20, max_features=sqrt, min_samples_leaf=2, min_samples_split=2, random_state=42, splitter=random; total time=   0.0s\n",
            "[CV] END criterion=entropy, max_depth=20, max_features=sqrt, min_samples_leaf=2, min_samples_split=5, random_state=42, splitter=best; total time=   0.0s\n",
            "[CV] END criterion=entropy, max_depth=20, max_features=sqrt, min_samples_leaf=2, min_samples_split=5, random_state=42, splitter=best; total time=   0.0s\n",
            "[CV] END criterion=entropy, max_depth=20, max_features=sqrt, min_samples_leaf=2, min_samples_split=5, random_state=42, splitter=best; total time=   0.0s\n",
            "[CV] END criterion=entropy, max_depth=20, max_features=sqrt, min_samples_leaf=2, min_samples_split=5, random_state=42, splitter=random; total time=   0.0s\n",
            "[CV] END criterion=entropy, max_depth=20, max_features=sqrt, min_samples_leaf=2, min_samples_split=5, random_state=42, splitter=random; total time=   0.0s\n",
            "[CV] END criterion=entropy, max_depth=20, max_features=sqrt, min_samples_leaf=2, min_samples_split=5, random_state=42, splitter=random; total time=   0.0s\n",
            "[CV] END criterion=entropy, max_depth=20, max_features=sqrt, min_samples_leaf=2, min_samples_split=10, random_state=42, splitter=best; total time=   0.0s\n",
            "[CV] END criterion=entropy, max_depth=20, max_features=sqrt, min_samples_leaf=2, min_samples_split=10, random_state=42, splitter=best; total time=   0.0s\n",
            "[CV] END criterion=entropy, max_depth=20, max_features=sqrt, min_samples_leaf=2, min_samples_split=10, random_state=42, splitter=best; total time=   0.0s\n",
            "[CV] END criterion=entropy, max_depth=20, max_features=sqrt, min_samples_leaf=2, min_samples_split=10, random_state=42, splitter=random; total time=   0.0s\n",
            "[CV] END criterion=entropy, max_depth=20, max_features=sqrt, min_samples_leaf=2, min_samples_split=10, random_state=42, splitter=random; total time=   0.0s\n",
            "[CV] END criterion=entropy, max_depth=20, max_features=sqrt, min_samples_leaf=2, min_samples_split=10, random_state=42, splitter=random; total time=   0.0s\n",
            "[CV] END criterion=entropy, max_depth=20, max_features=sqrt, min_samples_leaf=3, min_samples_split=2, random_state=42, splitter=best; total time=   0.0s\n",
            "[CV] END criterion=entropy, max_depth=20, max_features=sqrt, min_samples_leaf=3, min_samples_split=2, random_state=42, splitter=best; total time=   0.0s\n",
            "[CV] END criterion=entropy, max_depth=20, max_features=sqrt, min_samples_leaf=3, min_samples_split=2, random_state=42, splitter=best; total time=   0.0s\n",
            "[CV] END criterion=entropy, max_depth=20, max_features=sqrt, min_samples_leaf=3, min_samples_split=2, random_state=42, splitter=random; total time=   0.0s\n",
            "[CV] END criterion=entropy, max_depth=20, max_features=sqrt, min_samples_leaf=3, min_samples_split=2, random_state=42, splitter=random; total time=   0.0s\n",
            "[CV] END criterion=entropy, max_depth=20, max_features=sqrt, min_samples_leaf=3, min_samples_split=2, random_state=42, splitter=random; total time=   0.0s\n",
            "[CV] END criterion=entropy, max_depth=20, max_features=sqrt, min_samples_leaf=3, min_samples_split=5, random_state=42, splitter=best; total time=   0.0s\n",
            "[CV] END criterion=entropy, max_depth=20, max_features=sqrt, min_samples_leaf=3, min_samples_split=5, random_state=42, splitter=best; total time=   0.0s\n",
            "[CV] END criterion=entropy, max_depth=20, max_features=sqrt, min_samples_leaf=3, min_samples_split=5, random_state=42, splitter=best; total time=   0.0s\n",
            "[CV] END criterion=entropy, max_depth=20, max_features=sqrt, min_samples_leaf=3, min_samples_split=5, random_state=42, splitter=random; total time=   0.0s\n",
            "[CV] END criterion=entropy, max_depth=20, max_features=sqrt, min_samples_leaf=3, min_samples_split=5, random_state=42, splitter=random; total time=   0.0s\n",
            "[CV] END criterion=entropy, max_depth=20, max_features=sqrt, min_samples_leaf=3, min_samples_split=5, random_state=42, splitter=random; total time=   0.0s\n",
            "[CV] END criterion=entropy, max_depth=20, max_features=sqrt, min_samples_leaf=3, min_samples_split=10, random_state=42, splitter=best; total time=   0.0s\n",
            "[CV] END criterion=entropy, max_depth=20, max_features=sqrt, min_samples_leaf=3, min_samples_split=10, random_state=42, splitter=best; total time=   0.0s\n",
            "[CV] END criterion=entropy, max_depth=20, max_features=sqrt, min_samples_leaf=3, min_samples_split=10, random_state=42, splitter=best; total time=   0.0s\n",
            "[CV] END criterion=entropy, max_depth=20, max_features=sqrt, min_samples_leaf=3, min_samples_split=10, random_state=42, splitter=random; total time=   0.0s\n",
            "[CV] END criterion=entropy, max_depth=20, max_features=sqrt, min_samples_leaf=3, min_samples_split=10, random_state=42, splitter=random; total time=   0.0s\n",
            "[CV] END criterion=entropy, max_depth=20, max_features=sqrt, min_samples_leaf=3, min_samples_split=10, random_state=42, splitter=random; total time=   0.0s\n",
            "[CV] END criterion=entropy, max_depth=20, max_features=log2, min_samples_leaf=1, min_samples_split=2, random_state=42, splitter=best; total time=   0.0s\n",
            "[CV] END criterion=entropy, max_depth=20, max_features=log2, min_samples_leaf=1, min_samples_split=2, random_state=42, splitter=best; total time=   0.0s\n",
            "[CV] END criterion=entropy, max_depth=20, max_features=log2, min_samples_leaf=1, min_samples_split=2, random_state=42, splitter=best; total time=   0.0s\n",
            "[CV] END criterion=entropy, max_depth=20, max_features=log2, min_samples_leaf=1, min_samples_split=2, random_state=42, splitter=random; total time=   0.0s\n",
            "[CV] END criterion=entropy, max_depth=20, max_features=log2, min_samples_leaf=1, min_samples_split=2, random_state=42, splitter=random; total time=   0.0s\n",
            "[CV] END criterion=entropy, max_depth=20, max_features=log2, min_samples_leaf=1, min_samples_split=2, random_state=42, splitter=random; total time=   0.0s\n",
            "[CV] END criterion=entropy, max_depth=20, max_features=log2, min_samples_leaf=1, min_samples_split=5, random_state=42, splitter=best; total time=   0.0s\n",
            "[CV] END criterion=entropy, max_depth=20, max_features=log2, min_samples_leaf=1, min_samples_split=5, random_state=42, splitter=best; total time=   0.0s\n",
            "[CV] END criterion=entropy, max_depth=20, max_features=log2, min_samples_leaf=1, min_samples_split=5, random_state=42, splitter=best; total time=   0.0s\n",
            "[CV] END criterion=entropy, max_depth=20, max_features=log2, min_samples_leaf=1, min_samples_split=5, random_state=42, splitter=random; total time=   0.0s\n",
            "[CV] END criterion=entropy, max_depth=20, max_features=log2, min_samples_leaf=1, min_samples_split=5, random_state=42, splitter=random; total time=   0.0s\n",
            "[CV] END criterion=entropy, max_depth=20, max_features=log2, min_samples_leaf=1, min_samples_split=5, random_state=42, splitter=random; total time=   0.0s\n",
            "[CV] END criterion=entropy, max_depth=20, max_features=log2, min_samples_leaf=1, min_samples_split=10, random_state=42, splitter=best; total time=   0.0s\n",
            "[CV] END criterion=entropy, max_depth=20, max_features=log2, min_samples_leaf=1, min_samples_split=10, random_state=42, splitter=best; total time=   0.0s\n",
            "[CV] END criterion=entropy, max_depth=20, max_features=log2, min_samples_leaf=1, min_samples_split=10, random_state=42, splitter=best; total time=   0.0s\n",
            "[CV] END criterion=entropy, max_depth=20, max_features=log2, min_samples_leaf=1, min_samples_split=10, random_state=42, splitter=random; total time=   0.0s\n",
            "[CV] END criterion=entropy, max_depth=20, max_features=log2, min_samples_leaf=1, min_samples_split=10, random_state=42, splitter=random; total time=   0.0s\n",
            "[CV] END criterion=entropy, max_depth=20, max_features=log2, min_samples_leaf=1, min_samples_split=10, random_state=42, splitter=random; total time=   0.0s\n",
            "[CV] END criterion=entropy, max_depth=20, max_features=log2, min_samples_leaf=2, min_samples_split=2, random_state=42, splitter=best; total time=   0.0s\n",
            "[CV] END criterion=entropy, max_depth=20, max_features=log2, min_samples_leaf=2, min_samples_split=2, random_state=42, splitter=best; total time=   0.0s\n",
            "[CV] END criterion=entropy, max_depth=20, max_features=log2, min_samples_leaf=2, min_samples_split=2, random_state=42, splitter=best; total time=   0.0s\n",
            "[CV] END criterion=entropy, max_depth=20, max_features=log2, min_samples_leaf=2, min_samples_split=2, random_state=42, splitter=random; total time=   0.0s\n",
            "[CV] END criterion=entropy, max_depth=20, max_features=log2, min_samples_leaf=2, min_samples_split=2, random_state=42, splitter=random; total time=   0.0s\n",
            "[CV] END criterion=entropy, max_depth=20, max_features=log2, min_samples_leaf=2, min_samples_split=2, random_state=42, splitter=random; total time=   0.0s\n",
            "[CV] END criterion=entropy, max_depth=20, max_features=log2, min_samples_leaf=2, min_samples_split=5, random_state=42, splitter=best; total time=   0.0s\n",
            "[CV] END criterion=entropy, max_depth=20, max_features=log2, min_samples_leaf=2, min_samples_split=5, random_state=42, splitter=best; total time=   0.0s\n",
            "[CV] END criterion=entropy, max_depth=20, max_features=log2, min_samples_leaf=2, min_samples_split=5, random_state=42, splitter=best; total time=   0.0s\n",
            "[CV] END criterion=entropy, max_depth=20, max_features=log2, min_samples_leaf=2, min_samples_split=5, random_state=42, splitter=random; total time=   0.0s\n",
            "[CV] END criterion=entropy, max_depth=20, max_features=log2, min_samples_leaf=2, min_samples_split=5, random_state=42, splitter=random; total time=   0.0s\n",
            "[CV] END criterion=entropy, max_depth=20, max_features=log2, min_samples_leaf=2, min_samples_split=5, random_state=42, splitter=random; total time=   0.0s\n",
            "[CV] END criterion=entropy, max_depth=20, max_features=log2, min_samples_leaf=2, min_samples_split=10, random_state=42, splitter=best; total time=   0.0s\n",
            "[CV] END criterion=entropy, max_depth=20, max_features=log2, min_samples_leaf=2, min_samples_split=10, random_state=42, splitter=best; total time=   0.0s\n",
            "[CV] END criterion=entropy, max_depth=20, max_features=log2, min_samples_leaf=2, min_samples_split=10, random_state=42, splitter=best; total time=   0.0s\n",
            "[CV] END criterion=entropy, max_depth=20, max_features=log2, min_samples_leaf=2, min_samples_split=10, random_state=42, splitter=random; total time=   0.0s\n",
            "[CV] END criterion=entropy, max_depth=20, max_features=log2, min_samples_leaf=2, min_samples_split=10, random_state=42, splitter=random; total time=   0.0s\n",
            "[CV] END criterion=entropy, max_depth=20, max_features=log2, min_samples_leaf=2, min_samples_split=10, random_state=42, splitter=random; total time=   0.0s\n",
            "[CV] END criterion=entropy, max_depth=20, max_features=log2, min_samples_leaf=3, min_samples_split=2, random_state=42, splitter=best; total time=   0.0s\n",
            "[CV] END criterion=entropy, max_depth=20, max_features=log2, min_samples_leaf=3, min_samples_split=2, random_state=42, splitter=best; total time=   0.0s\n",
            "[CV] END criterion=entropy, max_depth=20, max_features=log2, min_samples_leaf=3, min_samples_split=2, random_state=42, splitter=best; total time=   0.0s\n",
            "[CV] END criterion=entropy, max_depth=20, max_features=log2, min_samples_leaf=3, min_samples_split=2, random_state=42, splitter=random; total time=   0.0s\n",
            "[CV] END criterion=entropy, max_depth=20, max_features=log2, min_samples_leaf=3, min_samples_split=2, random_state=42, splitter=random; total time=   0.0s\n",
            "[CV] END criterion=entropy, max_depth=20, max_features=log2, min_samples_leaf=3, min_samples_split=2, random_state=42, splitter=random; total time=   0.0s\n",
            "[CV] END criterion=entropy, max_depth=20, max_features=log2, min_samples_leaf=3, min_samples_split=5, random_state=42, splitter=best; total time=   0.0s\n",
            "[CV] END criterion=entropy, max_depth=20, max_features=log2, min_samples_leaf=3, min_samples_split=5, random_state=42, splitter=best; total time=   0.0s\n",
            "[CV] END criterion=entropy, max_depth=20, max_features=log2, min_samples_leaf=3, min_samples_split=5, random_state=42, splitter=best; total time=   0.0s\n",
            "[CV] END criterion=entropy, max_depth=20, max_features=log2, min_samples_leaf=3, min_samples_split=5, random_state=42, splitter=random; total time=   0.0s\n",
            "[CV] END criterion=entropy, max_depth=20, max_features=log2, min_samples_leaf=3, min_samples_split=5, random_state=42, splitter=random; total time=   0.0s\n",
            "[CV] END criterion=entropy, max_depth=20, max_features=log2, min_samples_leaf=3, min_samples_split=5, random_state=42, splitter=random; total time=   0.0s\n",
            "[CV] END criterion=entropy, max_depth=20, max_features=log2, min_samples_leaf=3, min_samples_split=10, random_state=42, splitter=best; total time=   0.0s\n",
            "[CV] END criterion=entropy, max_depth=20, max_features=log2, min_samples_leaf=3, min_samples_split=10, random_state=42, splitter=best; total time=   0.0s\n",
            "[CV] END criterion=entropy, max_depth=20, max_features=log2, min_samples_leaf=3, min_samples_split=10, random_state=42, splitter=best; total time=   0.0s\n",
            "[CV] END criterion=entropy, max_depth=20, max_features=log2, min_samples_leaf=3, min_samples_split=10, random_state=42, splitter=random; total time=   0.0s\n",
            "[CV] END criterion=entropy, max_depth=20, max_features=log2, min_samples_leaf=3, min_samples_split=10, random_state=42, splitter=random; total time=   0.0s\n",
            "[CV] END criterion=entropy, max_depth=20, max_features=log2, min_samples_leaf=3, min_samples_split=10, random_state=42, splitter=random; total time=   0.0s\n",
            "\n",
            "\n",
            "Model results after hyperparameter tuning\n",
            "Average Accuracy: 0.9151685393258427\n",
            "Average Precision: 0.9204527261826962\n",
            "Average Recall: 0.9151685393258427\n",
            "Average F1 Score: 0.9037150473486639\n"
          ]
        }
      ]
    },
    {
      "cell_type": "code",
      "source": [
        "X = df_mean.drop(columns=['diagnosis', 'stage', 'plasma_CA19_9'])\n",
        "y = df_mean['diagnosis']  # Target variable\n",
        "\n",
        "\n",
        "\n",
        "# Define the parameter grid for RF\n",
        "nb_param_grid = {\n",
        "    'priors': [None, [0.3, 0.7], [0.4, 0.6]]  # Prior probabilities of the classes\n",
        "}\n",
        "\n",
        "test_grid_search_and_fit(\n",
        "    classifier=GaussianNB(),#KNN\n",
        "    param_grid=nb_param_grid,\n",
        "    X=X,\n",
        "    y=y\n",
        ")"
      ],
      "metadata": {
        "colab": {
          "base_uri": "https://localhost:8080/"
        },
        "id": "YKbZm2h0AVmV",
        "outputId": "f270178a-fc06-4f93-b756-801c93de945a"
      },
      "execution_count": 80,
      "outputs": [
        {
          "output_type": "stream",
          "name": "stdout",
          "text": [
            "Model results with default hyperparameters\n",
            "Average Accuracy: 0.7525280898876404\n",
            "Average Precision: 0.9267782986542553\n",
            "Average Recall: 0.7525280898876404\n",
            "Average F1 Score: 0.7615133362696211\n",
            "Fitting 3 folds for each of 3 candidates, totalling 9 fits\n",
            "[CV] END ........................................priors=None; total time=   0.0s\n",
            "[CV] END ........................................priors=None; total time=   0.0s\n",
            "[CV] END ........................................priors=None; total time=   0.0s\n",
            "[CV] END ..................................priors=[0.3, 0.7]; total time=   0.0s\n",
            "[CV] END ..................................priors=[0.3, 0.7]; total time=   0.0s\n",
            "[CV] END ..................................priors=[0.3, 0.7]; total time=   0.0s\n",
            "[CV] END ..................................priors=[0.4, 0.6]; total time=   0.0s\n",
            "[CV] END ..................................priors=[0.4, 0.6]; total time=   0.0s\n",
            "[CV] END ..................................priors=[0.4, 0.6]; total time=   0.0s\n",
            "\n",
            "\n",
            "Model results after hyperparameter tuning\n",
            "Average Accuracy: 0.7525280898876404\n",
            "Average Precision: 0.9267782986542553\n",
            "Average Recall: 0.7525280898876404\n",
            "Average F1 Score: 0.7615133362696211\n"
          ]
        }
      ]
    },
    {
      "cell_type": "code",
      "source": [
        "X = df_mean.drop(columns=['diagnosis', 'stage', 'plasma_CA19_9'])\n",
        "y = df_mean['diagnosis']  # Target variable\n",
        "\n",
        "\n",
        "\n",
        "# Define the parameter grid for KNN\n",
        "knn_param_grid = {\n",
        "    'n_neighbors': [3, 5, 7, 9],          # Number of neighbors to consider\n",
        "    'weights': ['uniform', 'distance'],   # Weight function used in predictions\n",
        "    'algorithm': ['auto', 'ball_tree', 'kd_tree', 'brute'],  # Algorithm used to compute neighbors\n",
        "    'leaf_size': [10, 20, 30],            # Leaf size for tree-based algorithms\n",
        "    'p': [1, 2]                           # Power parameter for the Minkowski metric (1 for Manhattan, 2 for Euclidean)\n",
        "}\n",
        "test_grid_search_and_fit(\n",
        "    classifier=KNeighborsClassifier(),#KNN\n",
        "    param_grid=knn_param_grid,\n",
        "    X=X,\n",
        "    y=y\n",
        ")"
      ],
      "metadata": {
        "colab": {
          "base_uri": "https://localhost:8080/",
          "height": 1000
        },
        "id": "LnwsbZH8BXi6",
        "outputId": "9f4a2351-7ca6-4be7-ef9a-4f20063fbfcf"
      },
      "execution_count": 79,
      "outputs": [
        {
          "output_type": "stream",
          "name": "stdout",
          "text": [
            "Model results with default hyperparameters\n",
            "Average Accuracy: 0.8792134831460675\n",
            "Average Precision: 0.876658631167588\n",
            "Average Recall: 0.8792134831460675\n",
            "Average F1 Score: 0.8763994586599463\n",
            "Fitting 3 folds for each of 192 candidates, totalling 576 fits\n",
            "[CV] END algorithm=auto, leaf_size=10, n_neighbors=3, p=1, weights=uniform; total time=   0.1s\n",
            "[CV] END algorithm=auto, leaf_size=10, n_neighbors=3, p=1, weights=uniform; total time=   0.1s\n",
            "[CV] END algorithm=auto, leaf_size=10, n_neighbors=3, p=1, weights=uniform; total time=   0.1s\n",
            "[CV] END algorithm=auto, leaf_size=10, n_neighbors=3, p=1, weights=distance; total time=   0.0s\n",
            "[CV] END algorithm=auto, leaf_size=10, n_neighbors=3, p=1, weights=distance; total time=   0.0s\n",
            "[CV] END algorithm=auto, leaf_size=10, n_neighbors=3, p=1, weights=distance; total time=   0.0s\n",
            "[CV] END algorithm=auto, leaf_size=10, n_neighbors=3, p=2, weights=uniform; total time=   0.0s\n",
            "[CV] END algorithm=auto, leaf_size=10, n_neighbors=3, p=2, weights=uniform; total time=   0.0s\n",
            "[CV] END algorithm=auto, leaf_size=10, n_neighbors=3, p=2, weights=uniform; total time=   0.0s\n",
            "[CV] END algorithm=auto, leaf_size=10, n_neighbors=3, p=2, weights=distance; total time=   0.0s\n",
            "[CV] END algorithm=auto, leaf_size=10, n_neighbors=3, p=2, weights=distance; total time=   0.0s\n",
            "[CV] END algorithm=auto, leaf_size=10, n_neighbors=3, p=2, weights=distance; total time=   0.0s\n",
            "[CV] END algorithm=auto, leaf_size=10, n_neighbors=5, p=1, weights=uniform; total time=   0.0s\n",
            "[CV] END algorithm=auto, leaf_size=10, n_neighbors=5, p=1, weights=uniform; total time=   0.0s\n",
            "[CV] END algorithm=auto, leaf_size=10, n_neighbors=5, p=1, weights=uniform; total time=   0.0s\n",
            "[CV] END algorithm=auto, leaf_size=10, n_neighbors=5, p=1, weights=distance; total time=   0.0s\n",
            "[CV] END algorithm=auto, leaf_size=10, n_neighbors=5, p=1, weights=distance; total time=   0.0s\n",
            "[CV] END algorithm=auto, leaf_size=10, n_neighbors=5, p=1, weights=distance; total time=   0.0s\n",
            "[CV] END algorithm=auto, leaf_size=10, n_neighbors=5, p=2, weights=uniform; total time=   0.0s\n",
            "[CV] END algorithm=auto, leaf_size=10, n_neighbors=5, p=2, weights=uniform; total time=   0.0s\n",
            "[CV] END algorithm=auto, leaf_size=10, n_neighbors=5, p=2, weights=uniform; total time=   0.0s\n",
            "[CV] END algorithm=auto, leaf_size=10, n_neighbors=5, p=2, weights=distance; total time=   0.0s\n",
            "[CV] END algorithm=auto, leaf_size=10, n_neighbors=5, p=2, weights=distance; total time=   0.0s\n",
            "[CV] END algorithm=auto, leaf_size=10, n_neighbors=5, p=2, weights=distance; total time=   0.0s\n",
            "[CV] END algorithm=auto, leaf_size=10, n_neighbors=7, p=1, weights=uniform; total time=   0.0s\n",
            "[CV] END algorithm=auto, leaf_size=10, n_neighbors=7, p=1, weights=uniform; total time=   0.0s\n",
            "[CV] END algorithm=auto, leaf_size=10, n_neighbors=7, p=1, weights=uniform; total time=   0.0s\n",
            "[CV] END algorithm=auto, leaf_size=10, n_neighbors=7, p=1, weights=distance; total time=   0.0s\n",
            "[CV] END algorithm=auto, leaf_size=10, n_neighbors=7, p=1, weights=distance; total time=   0.0s\n",
            "[CV] END algorithm=auto, leaf_size=10, n_neighbors=7, p=1, weights=distance; total time=   0.0s\n",
            "[CV] END algorithm=auto, leaf_size=10, n_neighbors=7, p=2, weights=uniform; total time=   0.0s\n",
            "[CV] END algorithm=auto, leaf_size=10, n_neighbors=7, p=2, weights=uniform; total time=   0.0s\n",
            "[CV] END algorithm=auto, leaf_size=10, n_neighbors=7, p=2, weights=uniform; total time=   0.0s\n",
            "[CV] END algorithm=auto, leaf_size=10, n_neighbors=7, p=2, weights=distance; total time=   0.0s\n",
            "[CV] END algorithm=auto, leaf_size=10, n_neighbors=7, p=2, weights=distance; total time=   0.0s\n",
            "[CV] END algorithm=auto, leaf_size=10, n_neighbors=7, p=2, weights=distance; total time=   0.0s\n",
            "[CV] END algorithm=auto, leaf_size=10, n_neighbors=9, p=1, weights=uniform; total time=   0.0s\n",
            "[CV] END algorithm=auto, leaf_size=10, n_neighbors=9, p=1, weights=uniform; total time=   0.0s\n",
            "[CV] END algorithm=auto, leaf_size=10, n_neighbors=9, p=1, weights=uniform; total time=   0.0s\n",
            "[CV] END algorithm=auto, leaf_size=10, n_neighbors=9, p=1, weights=distance; total time=   0.0s\n",
            "[CV] END algorithm=auto, leaf_size=10, n_neighbors=9, p=1, weights=distance; total time=   0.0s\n",
            "[CV] END algorithm=auto, leaf_size=10, n_neighbors=9, p=1, weights=distance; total time=   0.0s\n",
            "[CV] END algorithm=auto, leaf_size=10, n_neighbors=9, p=2, weights=uniform; total time=   0.0s\n",
            "[CV] END algorithm=auto, leaf_size=10, n_neighbors=9, p=2, weights=uniform; total time=   0.0s\n",
            "[CV] END algorithm=auto, leaf_size=10, n_neighbors=9, p=2, weights=uniform; total time=   0.0s\n",
            "[CV] END algorithm=auto, leaf_size=10, n_neighbors=9, p=2, weights=distance; total time=   0.0s\n",
            "[CV] END algorithm=auto, leaf_size=10, n_neighbors=9, p=2, weights=distance; total time=   0.0s\n",
            "[CV] END algorithm=auto, leaf_size=10, n_neighbors=9, p=2, weights=distance; total time=   0.0s\n",
            "[CV] END algorithm=auto, leaf_size=20, n_neighbors=3, p=1, weights=uniform; total time=   0.0s\n",
            "[CV] END algorithm=auto, leaf_size=20, n_neighbors=3, p=1, weights=uniform; total time=   0.0s\n",
            "[CV] END algorithm=auto, leaf_size=20, n_neighbors=3, p=1, weights=uniform; total time=   0.0s\n",
            "[CV] END algorithm=auto, leaf_size=20, n_neighbors=3, p=1, weights=distance; total time=   0.0s\n",
            "[CV] END algorithm=auto, leaf_size=20, n_neighbors=3, p=1, weights=distance; total time=   0.0s\n",
            "[CV] END algorithm=auto, leaf_size=20, n_neighbors=3, p=1, weights=distance; total time=   0.0s\n",
            "[CV] END algorithm=auto, leaf_size=20, n_neighbors=3, p=2, weights=uniform; total time=   0.0s\n",
            "[CV] END algorithm=auto, leaf_size=20, n_neighbors=3, p=2, weights=uniform; total time=   0.0s\n",
            "[CV] END algorithm=auto, leaf_size=20, n_neighbors=3, p=2, weights=uniform; total time=   0.0s\n",
            "[CV] END algorithm=auto, leaf_size=20, n_neighbors=3, p=2, weights=distance; total time=   0.0s\n",
            "[CV] END algorithm=auto, leaf_size=20, n_neighbors=3, p=2, weights=distance; total time=   0.0s\n",
            "[CV] END algorithm=auto, leaf_size=20, n_neighbors=3, p=2, weights=distance; total time=   0.0s\n",
            "[CV] END algorithm=auto, leaf_size=20, n_neighbors=5, p=1, weights=uniform; total time=   0.0s\n",
            "[CV] END algorithm=auto, leaf_size=20, n_neighbors=5, p=1, weights=uniform; total time=   0.0s\n",
            "[CV] END algorithm=auto, leaf_size=20, n_neighbors=5, p=1, weights=uniform; total time=   0.0s\n",
            "[CV] END algorithm=auto, leaf_size=20, n_neighbors=5, p=1, weights=distance; total time=   0.0s\n",
            "[CV] END algorithm=auto, leaf_size=20, n_neighbors=5, p=1, weights=distance; total time=   0.0s\n",
            "[CV] END algorithm=auto, leaf_size=20, n_neighbors=5, p=1, weights=distance; total time=   0.0s\n",
            "[CV] END algorithm=auto, leaf_size=20, n_neighbors=5, p=2, weights=uniform; total time=   0.0s\n",
            "[CV] END algorithm=auto, leaf_size=20, n_neighbors=5, p=2, weights=uniform; total time=   0.0s\n",
            "[CV] END algorithm=auto, leaf_size=20, n_neighbors=5, p=2, weights=uniform; total time=   0.0s\n",
            "[CV] END algorithm=auto, leaf_size=20, n_neighbors=5, p=2, weights=distance; total time=   0.0s\n",
            "[CV] END algorithm=auto, leaf_size=20, n_neighbors=5, p=2, weights=distance; total time=   0.0s\n",
            "[CV] END algorithm=auto, leaf_size=20, n_neighbors=5, p=2, weights=distance; total time=   0.0s\n",
            "[CV] END algorithm=auto, leaf_size=20, n_neighbors=7, p=1, weights=uniform; total time=   0.0s\n",
            "[CV] END algorithm=auto, leaf_size=20, n_neighbors=7, p=1, weights=uniform; total time=   0.0s\n",
            "[CV] END algorithm=auto, leaf_size=20, n_neighbors=7, p=1, weights=uniform; total time=   0.0s\n",
            "[CV] END algorithm=auto, leaf_size=20, n_neighbors=7, p=1, weights=distance; total time=   0.0s\n",
            "[CV] END algorithm=auto, leaf_size=20, n_neighbors=7, p=1, weights=distance; total time=   0.0s\n",
            "[CV] END algorithm=auto, leaf_size=20, n_neighbors=7, p=1, weights=distance; total time=   0.0s\n",
            "[CV] END algorithm=auto, leaf_size=20, n_neighbors=7, p=2, weights=uniform; total time=   0.0s\n",
            "[CV] END algorithm=auto, leaf_size=20, n_neighbors=7, p=2, weights=uniform; total time=   0.0s\n",
            "[CV] END algorithm=auto, leaf_size=20, n_neighbors=7, p=2, weights=uniform; total time=   0.0s\n",
            "[CV] END algorithm=auto, leaf_size=20, n_neighbors=7, p=2, weights=distance; total time=   0.0s\n",
            "[CV] END algorithm=auto, leaf_size=20, n_neighbors=7, p=2, weights=distance; total time=   0.0s\n",
            "[CV] END algorithm=auto, leaf_size=20, n_neighbors=7, p=2, weights=distance; total time=   0.0s\n",
            "[CV] END algorithm=auto, leaf_size=20, n_neighbors=9, p=1, weights=uniform; total time=   0.0s\n",
            "[CV] END algorithm=auto, leaf_size=20, n_neighbors=9, p=1, weights=uniform; total time=   0.0s\n",
            "[CV] END algorithm=auto, leaf_size=20, n_neighbors=9, p=1, weights=uniform; total time=   0.0s\n",
            "[CV] END algorithm=auto, leaf_size=20, n_neighbors=9, p=1, weights=distance; total time=   0.0s\n",
            "[CV] END algorithm=auto, leaf_size=20, n_neighbors=9, p=1, weights=distance; total time=   0.0s\n",
            "[CV] END algorithm=auto, leaf_size=20, n_neighbors=9, p=1, weights=distance; total time=   0.0s\n",
            "[CV] END algorithm=auto, leaf_size=20, n_neighbors=9, p=2, weights=uniform; total time=   0.0s\n",
            "[CV] END algorithm=auto, leaf_size=20, n_neighbors=9, p=2, weights=uniform; total time=   0.0s\n",
            "[CV] END algorithm=auto, leaf_size=20, n_neighbors=9, p=2, weights=uniform; total time=   0.0s\n",
            "[CV] END algorithm=auto, leaf_size=20, n_neighbors=9, p=2, weights=distance; total time=   0.0s\n",
            "[CV] END algorithm=auto, leaf_size=20, n_neighbors=9, p=2, weights=distance; total time=   0.0s\n",
            "[CV] END algorithm=auto, leaf_size=20, n_neighbors=9, p=2, weights=distance; total time=   0.0s\n",
            "[CV] END algorithm=auto, leaf_size=30, n_neighbors=3, p=1, weights=uniform; total time=   0.0s\n",
            "[CV] END algorithm=auto, leaf_size=30, n_neighbors=3, p=1, weights=uniform; total time=   0.0s\n",
            "[CV] END algorithm=auto, leaf_size=30, n_neighbors=3, p=1, weights=uniform; total time=   0.0s\n",
            "[CV] END algorithm=auto, leaf_size=30, n_neighbors=3, p=1, weights=distance; total time=   0.0s\n",
            "[CV] END algorithm=auto, leaf_size=30, n_neighbors=3, p=1, weights=distance; total time=   0.0s\n",
            "[CV] END algorithm=auto, leaf_size=30, n_neighbors=3, p=1, weights=distance; total time=   0.0s\n",
            "[CV] END algorithm=auto, leaf_size=30, n_neighbors=3, p=2, weights=uniform; total time=   0.0s\n",
            "[CV] END algorithm=auto, leaf_size=30, n_neighbors=3, p=2, weights=uniform; total time=   0.0s\n",
            "[CV] END algorithm=auto, leaf_size=30, n_neighbors=3, p=2, weights=uniform; total time=   0.0s\n",
            "[CV] END algorithm=auto, leaf_size=30, n_neighbors=3, p=2, weights=distance; total time=   0.0s\n",
            "[CV] END algorithm=auto, leaf_size=30, n_neighbors=3, p=2, weights=distance; total time=   0.0s\n",
            "[CV] END algorithm=auto, leaf_size=30, n_neighbors=3, p=2, weights=distance; total time=   0.0s\n",
            "[CV] END algorithm=auto, leaf_size=30, n_neighbors=5, p=1, weights=uniform; total time=   0.0s\n",
            "[CV] END algorithm=auto, leaf_size=30, n_neighbors=5, p=1, weights=uniform; total time=   0.0s\n",
            "[CV] END algorithm=auto, leaf_size=30, n_neighbors=5, p=1, weights=uniform; total time=   0.0s\n",
            "[CV] END algorithm=auto, leaf_size=30, n_neighbors=5, p=1, weights=distance; total time=   0.0s\n",
            "[CV] END algorithm=auto, leaf_size=30, n_neighbors=5, p=1, weights=distance; total time=   0.0s\n",
            "[CV] END algorithm=auto, leaf_size=30, n_neighbors=5, p=1, weights=distance; total time=   0.0s\n",
            "[CV] END algorithm=auto, leaf_size=30, n_neighbors=5, p=2, weights=uniform; total time=   0.0s\n",
            "[CV] END algorithm=auto, leaf_size=30, n_neighbors=5, p=2, weights=uniform; total time=   0.0s\n",
            "[CV] END algorithm=auto, leaf_size=30, n_neighbors=5, p=2, weights=uniform; total time=   0.0s\n",
            "[CV] END algorithm=auto, leaf_size=30, n_neighbors=5, p=2, weights=distance; total time=   0.0s\n",
            "[CV] END algorithm=auto, leaf_size=30, n_neighbors=5, p=2, weights=distance; total time=   0.0s\n",
            "[CV] END algorithm=auto, leaf_size=30, n_neighbors=5, p=2, weights=distance; total time=   0.0s\n",
            "[CV] END algorithm=auto, leaf_size=30, n_neighbors=7, p=1, weights=uniform; total time=   0.0s\n",
            "[CV] END algorithm=auto, leaf_size=30, n_neighbors=7, p=1, weights=uniform; total time=   0.0s\n",
            "[CV] END algorithm=auto, leaf_size=30, n_neighbors=7, p=1, weights=uniform; total time=   0.0s\n",
            "[CV] END algorithm=auto, leaf_size=30, n_neighbors=7, p=1, weights=distance; total time=   0.0s\n",
            "[CV] END algorithm=auto, leaf_size=30, n_neighbors=7, p=1, weights=distance; total time=   0.0s\n",
            "[CV] END algorithm=auto, leaf_size=30, n_neighbors=7, p=1, weights=distance; total time=   0.0s\n",
            "[CV] END algorithm=auto, leaf_size=30, n_neighbors=7, p=2, weights=uniform; total time=   0.0s\n",
            "[CV] END algorithm=auto, leaf_size=30, n_neighbors=7, p=2, weights=uniform; total time=   0.0s\n",
            "[CV] END algorithm=auto, leaf_size=30, n_neighbors=7, p=2, weights=uniform; total time=   0.0s\n",
            "[CV] END algorithm=auto, leaf_size=30, n_neighbors=7, p=2, weights=distance; total time=   0.0s\n",
            "[CV] END algorithm=auto, leaf_size=30, n_neighbors=7, p=2, weights=distance; total time=   0.0s\n",
            "[CV] END algorithm=auto, leaf_size=30, n_neighbors=7, p=2, weights=distance; total time=   0.0s\n",
            "[CV] END algorithm=auto, leaf_size=30, n_neighbors=9, p=1, weights=uniform; total time=   0.0s\n",
            "[CV] END algorithm=auto, leaf_size=30, n_neighbors=9, p=1, weights=uniform; total time=   0.0s\n",
            "[CV] END algorithm=auto, leaf_size=30, n_neighbors=9, p=1, weights=uniform; total time=   0.0s\n",
            "[CV] END algorithm=auto, leaf_size=30, n_neighbors=9, p=1, weights=distance; total time=   0.0s\n",
            "[CV] END algorithm=auto, leaf_size=30, n_neighbors=9, p=1, weights=distance; total time=   0.0s\n",
            "[CV] END algorithm=auto, leaf_size=30, n_neighbors=9, p=1, weights=distance; total time=   0.0s\n",
            "[CV] END algorithm=auto, leaf_size=30, n_neighbors=9, p=2, weights=uniform; total time=   0.0s\n",
            "[CV] END algorithm=auto, leaf_size=30, n_neighbors=9, p=2, weights=uniform; total time=   0.0s\n",
            "[CV] END algorithm=auto, leaf_size=30, n_neighbors=9, p=2, weights=uniform; total time=   0.0s\n",
            "[CV] END algorithm=auto, leaf_size=30, n_neighbors=9, p=2, weights=distance; total time=   0.0s\n",
            "[CV] END algorithm=auto, leaf_size=30, n_neighbors=9, p=2, weights=distance; total time=   0.0s\n",
            "[CV] END algorithm=auto, leaf_size=30, n_neighbors=9, p=2, weights=distance; total time=   0.0s\n",
            "[CV] END algorithm=ball_tree, leaf_size=10, n_neighbors=3, p=1, weights=uniform; total time=   0.0s\n",
            "[CV] END algorithm=ball_tree, leaf_size=10, n_neighbors=3, p=1, weights=uniform; total time=   0.0s\n",
            "[CV] END algorithm=ball_tree, leaf_size=10, n_neighbors=3, p=1, weights=uniform; total time=   0.0s\n",
            "[CV] END algorithm=ball_tree, leaf_size=10, n_neighbors=3, p=1, weights=distance; total time=   0.0s\n",
            "[CV] END algorithm=ball_tree, leaf_size=10, n_neighbors=3, p=1, weights=distance; total time=   0.0s\n",
            "[CV] END algorithm=ball_tree, leaf_size=10, n_neighbors=3, p=1, weights=distance; total time=   0.0s\n",
            "[CV] END algorithm=ball_tree, leaf_size=10, n_neighbors=3, p=2, weights=uniform; total time=   0.0s\n",
            "[CV] END algorithm=ball_tree, leaf_size=10, n_neighbors=3, p=2, weights=uniform; total time=   0.0s\n",
            "[CV] END algorithm=ball_tree, leaf_size=10, n_neighbors=3, p=2, weights=uniform; total time=   0.0s\n",
            "[CV] END algorithm=ball_tree, leaf_size=10, n_neighbors=3, p=2, weights=distance; total time=   0.0s\n",
            "[CV] END algorithm=ball_tree, leaf_size=10, n_neighbors=3, p=2, weights=distance; total time=   0.0s\n",
            "[CV] END algorithm=ball_tree, leaf_size=10, n_neighbors=3, p=2, weights=distance; total time=   0.0s\n",
            "[CV] END algorithm=ball_tree, leaf_size=10, n_neighbors=5, p=1, weights=uniform; total time=   0.0s\n",
            "[CV] END algorithm=ball_tree, leaf_size=10, n_neighbors=5, p=1, weights=uniform; total time=   0.0s\n",
            "[CV] END algorithm=ball_tree, leaf_size=10, n_neighbors=5, p=1, weights=uniform; total time=   0.0s\n",
            "[CV] END algorithm=ball_tree, leaf_size=10, n_neighbors=5, p=1, weights=distance; total time=   0.0s\n",
            "[CV] END algorithm=ball_tree, leaf_size=10, n_neighbors=5, p=1, weights=distance; total time=   0.0s\n",
            "[CV] END algorithm=ball_tree, leaf_size=10, n_neighbors=5, p=1, weights=distance; total time=   0.0s\n",
            "[CV] END algorithm=ball_tree, leaf_size=10, n_neighbors=5, p=2, weights=uniform; total time=   0.0s\n",
            "[CV] END algorithm=ball_tree, leaf_size=10, n_neighbors=5, p=2, weights=uniform; total time=   0.0s\n",
            "[CV] END algorithm=ball_tree, leaf_size=10, n_neighbors=5, p=2, weights=uniform; total time=   0.0s\n",
            "[CV] END algorithm=ball_tree, leaf_size=10, n_neighbors=5, p=2, weights=distance; total time=   0.0s\n",
            "[CV] END algorithm=ball_tree, leaf_size=10, n_neighbors=5, p=2, weights=distance; total time=   0.0s\n",
            "[CV] END algorithm=ball_tree, leaf_size=10, n_neighbors=5, p=2, weights=distance; total time=   0.0s\n",
            "[CV] END algorithm=ball_tree, leaf_size=10, n_neighbors=7, p=1, weights=uniform; total time=   0.0s\n",
            "[CV] END algorithm=ball_tree, leaf_size=10, n_neighbors=7, p=1, weights=uniform; total time=   0.0s\n",
            "[CV] END algorithm=ball_tree, leaf_size=10, n_neighbors=7, p=1, weights=uniform; total time=   0.0s\n",
            "[CV] END algorithm=ball_tree, leaf_size=10, n_neighbors=7, p=1, weights=distance; total time=   0.0s\n",
            "[CV] END algorithm=ball_tree, leaf_size=10, n_neighbors=7, p=1, weights=distance; total time=   0.0s\n",
            "[CV] END algorithm=ball_tree, leaf_size=10, n_neighbors=7, p=1, weights=distance; total time=   0.0s\n",
            "[CV] END algorithm=ball_tree, leaf_size=10, n_neighbors=7, p=2, weights=uniform; total time=   0.0s\n",
            "[CV] END algorithm=ball_tree, leaf_size=10, n_neighbors=7, p=2, weights=uniform; total time=   0.0s\n",
            "[CV] END algorithm=ball_tree, leaf_size=10, n_neighbors=7, p=2, weights=uniform; total time=   0.0s\n",
            "[CV] END algorithm=ball_tree, leaf_size=10, n_neighbors=7, p=2, weights=distance; total time=   0.0s\n",
            "[CV] END algorithm=ball_tree, leaf_size=10, n_neighbors=7, p=2, weights=distance; total time=   0.0s\n",
            "[CV] END algorithm=ball_tree, leaf_size=10, n_neighbors=7, p=2, weights=distance; total time=   0.0s\n",
            "[CV] END algorithm=ball_tree, leaf_size=10, n_neighbors=9, p=1, weights=uniform; total time=   0.0s\n",
            "[CV] END algorithm=ball_tree, leaf_size=10, n_neighbors=9, p=1, weights=uniform; total time=   0.0s\n",
            "[CV] END algorithm=ball_tree, leaf_size=10, n_neighbors=9, p=1, weights=uniform; total time=   0.0s\n",
            "[CV] END algorithm=ball_tree, leaf_size=10, n_neighbors=9, p=1, weights=distance; total time=   0.0s\n",
            "[CV] END algorithm=ball_tree, leaf_size=10, n_neighbors=9, p=1, weights=distance; total time=   0.0s\n",
            "[CV] END algorithm=ball_tree, leaf_size=10, n_neighbors=9, p=1, weights=distance; total time=   0.0s\n",
            "[CV] END algorithm=ball_tree, leaf_size=10, n_neighbors=9, p=2, weights=uniform; total time=   0.0s\n",
            "[CV] END algorithm=ball_tree, leaf_size=10, n_neighbors=9, p=2, weights=uniform; total time=   0.0s\n",
            "[CV] END algorithm=ball_tree, leaf_size=10, n_neighbors=9, p=2, weights=uniform; total time=   0.0s\n",
            "[CV] END algorithm=ball_tree, leaf_size=10, n_neighbors=9, p=2, weights=distance; total time=   0.0s\n",
            "[CV] END algorithm=ball_tree, leaf_size=10, n_neighbors=9, p=2, weights=distance; total time=   0.0s\n",
            "[CV] END algorithm=ball_tree, leaf_size=10, n_neighbors=9, p=2, weights=distance; total time=   0.0s\n",
            "[CV] END algorithm=ball_tree, leaf_size=20, n_neighbors=3, p=1, weights=uniform; total time=   0.0s\n",
            "[CV] END algorithm=ball_tree, leaf_size=20, n_neighbors=3, p=1, weights=uniform; total time=   0.0s\n",
            "[CV] END algorithm=ball_tree, leaf_size=20, n_neighbors=3, p=1, weights=uniform; total time=   0.0s\n",
            "[CV] END algorithm=ball_tree, leaf_size=20, n_neighbors=3, p=1, weights=distance; total time=   0.0s\n",
            "[CV] END algorithm=ball_tree, leaf_size=20, n_neighbors=3, p=1, weights=distance; total time=   0.0s\n",
            "[CV] END algorithm=ball_tree, leaf_size=20, n_neighbors=3, p=1, weights=distance; total time=   0.0s\n",
            "[CV] END algorithm=ball_tree, leaf_size=20, n_neighbors=3, p=2, weights=uniform; total time=   0.0s\n",
            "[CV] END algorithm=ball_tree, leaf_size=20, n_neighbors=3, p=2, weights=uniform; total time=   0.0s\n",
            "[CV] END algorithm=ball_tree, leaf_size=20, n_neighbors=3, p=2, weights=uniform; total time=   0.0s\n",
            "[CV] END algorithm=ball_tree, leaf_size=20, n_neighbors=3, p=2, weights=distance; total time=   0.0s\n",
            "[CV] END algorithm=ball_tree, leaf_size=20, n_neighbors=3, p=2, weights=distance; total time=   0.0s\n",
            "[CV] END algorithm=ball_tree, leaf_size=20, n_neighbors=3, p=2, weights=distance; total time=   0.0s\n",
            "[CV] END algorithm=ball_tree, leaf_size=20, n_neighbors=5, p=1, weights=uniform; total time=   0.0s\n",
            "[CV] END algorithm=ball_tree, leaf_size=20, n_neighbors=5, p=1, weights=uniform; total time=   0.0s\n",
            "[CV] END algorithm=ball_tree, leaf_size=20, n_neighbors=5, p=1, weights=uniform; total time=   0.0s\n",
            "[CV] END algorithm=ball_tree, leaf_size=20, n_neighbors=5, p=1, weights=distance; total time=   0.0s\n",
            "[CV] END algorithm=ball_tree, leaf_size=20, n_neighbors=5, p=1, weights=distance; total time=   0.0s\n",
            "[CV] END algorithm=ball_tree, leaf_size=20, n_neighbors=5, p=1, weights=distance; total time=   0.0s\n",
            "[CV] END algorithm=ball_tree, leaf_size=20, n_neighbors=5, p=2, weights=uniform; total time=   0.0s\n",
            "[CV] END algorithm=ball_tree, leaf_size=20, n_neighbors=5, p=2, weights=uniform; total time=   0.0s\n",
            "[CV] END algorithm=ball_tree, leaf_size=20, n_neighbors=5, p=2, weights=uniform; total time=   0.0s\n",
            "[CV] END algorithm=ball_tree, leaf_size=20, n_neighbors=5, p=2, weights=distance; total time=   0.0s\n",
            "[CV] END algorithm=ball_tree, leaf_size=20, n_neighbors=5, p=2, weights=distance; total time=   0.0s\n",
            "[CV] END algorithm=ball_tree, leaf_size=20, n_neighbors=5, p=2, weights=distance; total time=   0.0s\n",
            "[CV] END algorithm=ball_tree, leaf_size=20, n_neighbors=7, p=1, weights=uniform; total time=   0.0s\n",
            "[CV] END algorithm=ball_tree, leaf_size=20, n_neighbors=7, p=1, weights=uniform; total time=   0.0s\n",
            "[CV] END algorithm=ball_tree, leaf_size=20, n_neighbors=7, p=1, weights=uniform; total time=   0.0s\n",
            "[CV] END algorithm=ball_tree, leaf_size=20, n_neighbors=7, p=1, weights=distance; total time=   0.0s\n",
            "[CV] END algorithm=ball_tree, leaf_size=20, n_neighbors=7, p=1, weights=distance; total time=   0.0s\n",
            "[CV] END algorithm=ball_tree, leaf_size=20, n_neighbors=7, p=1, weights=distance; total time=   0.0s\n",
            "[CV] END algorithm=ball_tree, leaf_size=20, n_neighbors=7, p=2, weights=uniform; total time=   0.0s\n",
            "[CV] END algorithm=ball_tree, leaf_size=20, n_neighbors=7, p=2, weights=uniform; total time=   0.0s\n",
            "[CV] END algorithm=ball_tree, leaf_size=20, n_neighbors=7, p=2, weights=uniform; total time=   0.0s\n",
            "[CV] END algorithm=ball_tree, leaf_size=20, n_neighbors=7, p=2, weights=distance; total time=   0.0s\n",
            "[CV] END algorithm=ball_tree, leaf_size=20, n_neighbors=7, p=2, weights=distance; total time=   0.0s\n",
            "[CV] END algorithm=ball_tree, leaf_size=20, n_neighbors=7, p=2, weights=distance; total time=   0.0s\n",
            "[CV] END algorithm=ball_tree, leaf_size=20, n_neighbors=9, p=1, weights=uniform; total time=   0.0s\n",
            "[CV] END algorithm=ball_tree, leaf_size=20, n_neighbors=9, p=1, weights=uniform; total time=   0.0s\n",
            "[CV] END algorithm=ball_tree, leaf_size=20, n_neighbors=9, p=1, weights=uniform; total time=   0.0s\n",
            "[CV] END algorithm=ball_tree, leaf_size=20, n_neighbors=9, p=1, weights=distance; total time=   0.0s\n",
            "[CV] END algorithm=ball_tree, leaf_size=20, n_neighbors=9, p=1, weights=distance; total time=   0.0s\n",
            "[CV] END algorithm=ball_tree, leaf_size=20, n_neighbors=9, p=1, weights=distance; total time=   0.0s\n",
            "[CV] END algorithm=ball_tree, leaf_size=20, n_neighbors=9, p=2, weights=uniform; total time=   0.0s\n",
            "[CV] END algorithm=ball_tree, leaf_size=20, n_neighbors=9, p=2, weights=uniform; total time=   0.0s\n",
            "[CV] END algorithm=ball_tree, leaf_size=20, n_neighbors=9, p=2, weights=uniform; total time=   0.0s\n",
            "[CV] END algorithm=ball_tree, leaf_size=20, n_neighbors=9, p=2, weights=distance; total time=   0.0s\n",
            "[CV] END algorithm=ball_tree, leaf_size=20, n_neighbors=9, p=2, weights=distance; total time=   0.0s\n",
            "[CV] END algorithm=ball_tree, leaf_size=20, n_neighbors=9, p=2, weights=distance; total time=   0.0s\n",
            "[CV] END algorithm=ball_tree, leaf_size=30, n_neighbors=3, p=1, weights=uniform; total time=   0.0s\n",
            "[CV] END algorithm=ball_tree, leaf_size=30, n_neighbors=3, p=1, weights=uniform; total time=   0.0s\n",
            "[CV] END algorithm=ball_tree, leaf_size=30, n_neighbors=3, p=1, weights=uniform; total time=   0.0s\n",
            "[CV] END algorithm=ball_tree, leaf_size=30, n_neighbors=3, p=1, weights=distance; total time=   0.0s\n",
            "[CV] END algorithm=ball_tree, leaf_size=30, n_neighbors=3, p=1, weights=distance; total time=   0.0s\n",
            "[CV] END algorithm=ball_tree, leaf_size=30, n_neighbors=3, p=1, weights=distance; total time=   0.0s\n",
            "[CV] END algorithm=ball_tree, leaf_size=30, n_neighbors=3, p=2, weights=uniform; total time=   0.0s\n",
            "[CV] END algorithm=ball_tree, leaf_size=30, n_neighbors=3, p=2, weights=uniform; total time=   0.0s\n",
            "[CV] END algorithm=ball_tree, leaf_size=30, n_neighbors=3, p=2, weights=uniform; total time=   0.0s\n",
            "[CV] END algorithm=ball_tree, leaf_size=30, n_neighbors=3, p=2, weights=distance; total time=   0.0s\n",
            "[CV] END algorithm=ball_tree, leaf_size=30, n_neighbors=3, p=2, weights=distance; total time=   0.0s\n",
            "[CV] END algorithm=ball_tree, leaf_size=30, n_neighbors=3, p=2, weights=distance; total time=   0.0s\n",
            "[CV] END algorithm=ball_tree, leaf_size=30, n_neighbors=5, p=1, weights=uniform; total time=   0.0s\n",
            "[CV] END algorithm=ball_tree, leaf_size=30, n_neighbors=5, p=1, weights=uniform; total time=   0.0s\n",
            "[CV] END algorithm=ball_tree, leaf_size=30, n_neighbors=5, p=1, weights=uniform; total time=   0.0s\n",
            "[CV] END algorithm=ball_tree, leaf_size=30, n_neighbors=5, p=1, weights=distance; total time=   0.0s\n",
            "[CV] END algorithm=ball_tree, leaf_size=30, n_neighbors=5, p=1, weights=distance; total time=   0.0s\n",
            "[CV] END algorithm=ball_tree, leaf_size=30, n_neighbors=5, p=1, weights=distance; total time=   0.0s\n",
            "[CV] END algorithm=ball_tree, leaf_size=30, n_neighbors=5, p=2, weights=uniform; total time=   0.0s\n",
            "[CV] END algorithm=ball_tree, leaf_size=30, n_neighbors=5, p=2, weights=uniform; total time=   0.0s\n",
            "[CV] END algorithm=ball_tree, leaf_size=30, n_neighbors=5, p=2, weights=uniform; total time=   0.0s\n",
            "[CV] END algorithm=ball_tree, leaf_size=30, n_neighbors=5, p=2, weights=distance; total time=   0.0s\n",
            "[CV] END algorithm=ball_tree, leaf_size=30, n_neighbors=5, p=2, weights=distance; total time=   0.0s\n",
            "[CV] END algorithm=ball_tree, leaf_size=30, n_neighbors=5, p=2, weights=distance; total time=   0.0s\n",
            "[CV] END algorithm=ball_tree, leaf_size=30, n_neighbors=7, p=1, weights=uniform; total time=   0.0s\n",
            "[CV] END algorithm=ball_tree, leaf_size=30, n_neighbors=7, p=1, weights=uniform; total time=   0.0s\n",
            "[CV] END algorithm=ball_tree, leaf_size=30, n_neighbors=7, p=1, weights=uniform; total time=   0.0s\n",
            "[CV] END algorithm=ball_tree, leaf_size=30, n_neighbors=7, p=1, weights=distance; total time=   0.0s\n",
            "[CV] END algorithm=ball_tree, leaf_size=30, n_neighbors=7, p=1, weights=distance; total time=   0.0s\n",
            "[CV] END algorithm=ball_tree, leaf_size=30, n_neighbors=7, p=1, weights=distance; total time=   0.0s\n",
            "[CV] END algorithm=ball_tree, leaf_size=30, n_neighbors=7, p=2, weights=uniform; total time=   0.0s\n",
            "[CV] END algorithm=ball_tree, leaf_size=30, n_neighbors=7, p=2, weights=uniform; total time=   0.0s\n",
            "[CV] END algorithm=ball_tree, leaf_size=30, n_neighbors=7, p=2, weights=uniform; total time=   0.0s\n",
            "[CV] END algorithm=ball_tree, leaf_size=30, n_neighbors=7, p=2, weights=distance; total time=   0.0s\n",
            "[CV] END algorithm=ball_tree, leaf_size=30, n_neighbors=7, p=2, weights=distance; total time=   0.0s\n",
            "[CV] END algorithm=ball_tree, leaf_size=30, n_neighbors=7, p=2, weights=distance; total time=   0.0s\n",
            "[CV] END algorithm=ball_tree, leaf_size=30, n_neighbors=9, p=1, weights=uniform; total time=   0.0s\n",
            "[CV] END algorithm=ball_tree, leaf_size=30, n_neighbors=9, p=1, weights=uniform; total time=   0.0s\n",
            "[CV] END algorithm=ball_tree, leaf_size=30, n_neighbors=9, p=1, weights=uniform; total time=   0.0s\n",
            "[CV] END algorithm=ball_tree, leaf_size=30, n_neighbors=9, p=1, weights=distance; total time=   0.0s\n",
            "[CV] END algorithm=ball_tree, leaf_size=30, n_neighbors=9, p=1, weights=distance; total time=   0.0s\n",
            "[CV] END algorithm=ball_tree, leaf_size=30, n_neighbors=9, p=1, weights=distance; total time=   0.0s\n",
            "[CV] END algorithm=ball_tree, leaf_size=30, n_neighbors=9, p=2, weights=uniform; total time=   0.0s\n",
            "[CV] END algorithm=ball_tree, leaf_size=30, n_neighbors=9, p=2, weights=uniform; total time=   0.0s\n",
            "[CV] END algorithm=ball_tree, leaf_size=30, n_neighbors=9, p=2, weights=uniform; total time=   0.0s\n",
            "[CV] END algorithm=ball_tree, leaf_size=30, n_neighbors=9, p=2, weights=distance; total time=   0.0s\n",
            "[CV] END algorithm=ball_tree, leaf_size=30, n_neighbors=9, p=2, weights=distance; total time=   0.0s\n",
            "[CV] END algorithm=ball_tree, leaf_size=30, n_neighbors=9, p=2, weights=distance; total time=   0.0s\n",
            "[CV] END algorithm=kd_tree, leaf_size=10, n_neighbors=3, p=1, weights=uniform; total time=   0.0s\n",
            "[CV] END algorithm=kd_tree, leaf_size=10, n_neighbors=3, p=1, weights=uniform; total time=   0.0s\n",
            "[CV] END algorithm=kd_tree, leaf_size=10, n_neighbors=3, p=1, weights=uniform; total time=   0.0s\n",
            "[CV] END algorithm=kd_tree, leaf_size=10, n_neighbors=3, p=1, weights=distance; total time=   0.0s\n",
            "[CV] END algorithm=kd_tree, leaf_size=10, n_neighbors=3, p=1, weights=distance; total time=   0.0s\n",
            "[CV] END algorithm=kd_tree, leaf_size=10, n_neighbors=3, p=1, weights=distance; total time=   0.0s\n",
            "[CV] END algorithm=kd_tree, leaf_size=10, n_neighbors=3, p=2, weights=uniform; total time=   0.0s\n",
            "[CV] END algorithm=kd_tree, leaf_size=10, n_neighbors=3, p=2, weights=uniform; total time=   0.0s\n",
            "[CV] END algorithm=kd_tree, leaf_size=10, n_neighbors=3, p=2, weights=uniform; total time=   0.0s\n",
            "[CV] END algorithm=kd_tree, leaf_size=10, n_neighbors=3, p=2, weights=distance; total time=   0.0s\n",
            "[CV] END algorithm=kd_tree, leaf_size=10, n_neighbors=3, p=2, weights=distance; total time=   0.0s\n",
            "[CV] END algorithm=kd_tree, leaf_size=10, n_neighbors=3, p=2, weights=distance; total time=   0.0s\n",
            "[CV] END algorithm=kd_tree, leaf_size=10, n_neighbors=5, p=1, weights=uniform; total time=   0.0s\n",
            "[CV] END algorithm=kd_tree, leaf_size=10, n_neighbors=5, p=1, weights=uniform; total time=   0.0s\n",
            "[CV] END algorithm=kd_tree, leaf_size=10, n_neighbors=5, p=1, weights=uniform; total time=   0.0s\n",
            "[CV] END algorithm=kd_tree, leaf_size=10, n_neighbors=5, p=1, weights=distance; total time=   0.0s\n",
            "[CV] END algorithm=kd_tree, leaf_size=10, n_neighbors=5, p=1, weights=distance; total time=   0.0s\n",
            "[CV] END algorithm=kd_tree, leaf_size=10, n_neighbors=5, p=1, weights=distance; total time=   0.0s\n",
            "[CV] END algorithm=kd_tree, leaf_size=10, n_neighbors=5, p=2, weights=uniform; total time=   0.0s\n",
            "[CV] END algorithm=kd_tree, leaf_size=10, n_neighbors=5, p=2, weights=uniform; total time=   0.0s\n",
            "[CV] END algorithm=kd_tree, leaf_size=10, n_neighbors=5, p=2, weights=uniform; total time=   0.0s\n",
            "[CV] END algorithm=kd_tree, leaf_size=10, n_neighbors=5, p=2, weights=distance; total time=   0.0s\n",
            "[CV] END algorithm=kd_tree, leaf_size=10, n_neighbors=5, p=2, weights=distance; total time=   0.0s\n",
            "[CV] END algorithm=kd_tree, leaf_size=10, n_neighbors=5, p=2, weights=distance; total time=   0.0s\n",
            "[CV] END algorithm=kd_tree, leaf_size=10, n_neighbors=7, p=1, weights=uniform; total time=   0.0s\n",
            "[CV] END algorithm=kd_tree, leaf_size=10, n_neighbors=7, p=1, weights=uniform; total time=   0.0s\n",
            "[CV] END algorithm=kd_tree, leaf_size=10, n_neighbors=7, p=1, weights=uniform; total time=   0.0s\n",
            "[CV] END algorithm=kd_tree, leaf_size=10, n_neighbors=7, p=1, weights=distance; total time=   0.0s\n",
            "[CV] END algorithm=kd_tree, leaf_size=10, n_neighbors=7, p=1, weights=distance; total time=   0.0s\n",
            "[CV] END algorithm=kd_tree, leaf_size=10, n_neighbors=7, p=1, weights=distance; total time=   0.0s\n",
            "[CV] END algorithm=kd_tree, leaf_size=10, n_neighbors=7, p=2, weights=uniform; total time=   0.0s\n",
            "[CV] END algorithm=kd_tree, leaf_size=10, n_neighbors=7, p=2, weights=uniform; total time=   0.0s\n",
            "[CV] END algorithm=kd_tree, leaf_size=10, n_neighbors=7, p=2, weights=uniform; total time=   0.0s\n",
            "[CV] END algorithm=kd_tree, leaf_size=10, n_neighbors=7, p=2, weights=distance; total time=   0.0s\n",
            "[CV] END algorithm=kd_tree, leaf_size=10, n_neighbors=7, p=2, weights=distance; total time=   0.0s\n",
            "[CV] END algorithm=kd_tree, leaf_size=10, n_neighbors=7, p=2, weights=distance; total time=   0.0s\n",
            "[CV] END algorithm=kd_tree, leaf_size=10, n_neighbors=9, p=1, weights=uniform; total time=   0.0s\n",
            "[CV] END algorithm=kd_tree, leaf_size=10, n_neighbors=9, p=1, weights=uniform; total time=   0.0s\n",
            "[CV] END algorithm=kd_tree, leaf_size=10, n_neighbors=9, p=1, weights=uniform; total time=   0.0s\n",
            "[CV] END algorithm=kd_tree, leaf_size=10, n_neighbors=9, p=1, weights=distance; total time=   0.0s\n",
            "[CV] END algorithm=kd_tree, leaf_size=10, n_neighbors=9, p=1, weights=distance; total time=   0.0s\n",
            "[CV] END algorithm=kd_tree, leaf_size=10, n_neighbors=9, p=1, weights=distance; total time=   0.0s\n",
            "[CV] END algorithm=kd_tree, leaf_size=10, n_neighbors=9, p=2, weights=uniform; total time=   0.0s\n",
            "[CV] END algorithm=kd_tree, leaf_size=10, n_neighbors=9, p=2, weights=uniform; total time=   0.0s\n",
            "[CV] END algorithm=kd_tree, leaf_size=10, n_neighbors=9, p=2, weights=uniform; total time=   0.0s\n",
            "[CV] END algorithm=kd_tree, leaf_size=10, n_neighbors=9, p=2, weights=distance; total time=   0.0s\n",
            "[CV] END algorithm=kd_tree, leaf_size=10, n_neighbors=9, p=2, weights=distance; total time=   0.0s\n",
            "[CV] END algorithm=kd_tree, leaf_size=10, n_neighbors=9, p=2, weights=distance; total time=   0.0s\n",
            "[CV] END algorithm=kd_tree, leaf_size=20, n_neighbors=3, p=1, weights=uniform; total time=   0.0s\n",
            "[CV] END algorithm=kd_tree, leaf_size=20, n_neighbors=3, p=1, weights=uniform; total time=   0.0s\n",
            "[CV] END algorithm=kd_tree, leaf_size=20, n_neighbors=3, p=1, weights=uniform; total time=   0.0s\n",
            "[CV] END algorithm=kd_tree, leaf_size=20, n_neighbors=3, p=1, weights=distance; total time=   0.0s\n",
            "[CV] END algorithm=kd_tree, leaf_size=20, n_neighbors=3, p=1, weights=distance; total time=   0.0s\n",
            "[CV] END algorithm=kd_tree, leaf_size=20, n_neighbors=3, p=1, weights=distance; total time=   0.0s\n",
            "[CV] END algorithm=kd_tree, leaf_size=20, n_neighbors=3, p=2, weights=uniform; total time=   0.0s\n",
            "[CV] END algorithm=kd_tree, leaf_size=20, n_neighbors=3, p=2, weights=uniform; total time=   0.0s\n",
            "[CV] END algorithm=kd_tree, leaf_size=20, n_neighbors=3, p=2, weights=uniform; total time=   0.0s\n",
            "[CV] END algorithm=kd_tree, leaf_size=20, n_neighbors=3, p=2, weights=distance; total time=   0.0s\n",
            "[CV] END algorithm=kd_tree, leaf_size=20, n_neighbors=3, p=2, weights=distance; total time=   0.0s\n",
            "[CV] END algorithm=kd_tree, leaf_size=20, n_neighbors=3, p=2, weights=distance; total time=   0.0s\n",
            "[CV] END algorithm=kd_tree, leaf_size=20, n_neighbors=5, p=1, weights=uniform; total time=   0.0s\n",
            "[CV] END algorithm=kd_tree, leaf_size=20, n_neighbors=5, p=1, weights=uniform; total time=   0.0s\n",
            "[CV] END algorithm=kd_tree, leaf_size=20, n_neighbors=5, p=1, weights=uniform; total time=   0.0s\n",
            "[CV] END algorithm=kd_tree, leaf_size=20, n_neighbors=5, p=1, weights=distance; total time=   0.0s\n",
            "[CV] END algorithm=kd_tree, leaf_size=20, n_neighbors=5, p=1, weights=distance; total time=   0.0s\n",
            "[CV] END algorithm=kd_tree, leaf_size=20, n_neighbors=5, p=1, weights=distance; total time=   0.0s\n",
            "[CV] END algorithm=kd_tree, leaf_size=20, n_neighbors=5, p=2, weights=uniform; total time=   0.0s\n",
            "[CV] END algorithm=kd_tree, leaf_size=20, n_neighbors=5, p=2, weights=uniform; total time=   0.0s\n",
            "[CV] END algorithm=kd_tree, leaf_size=20, n_neighbors=5, p=2, weights=uniform; total time=   0.0s\n",
            "[CV] END algorithm=kd_tree, leaf_size=20, n_neighbors=5, p=2, weights=distance; total time=   0.0s\n",
            "[CV] END algorithm=kd_tree, leaf_size=20, n_neighbors=5, p=2, weights=distance; total time=   0.0s\n",
            "[CV] END algorithm=kd_tree, leaf_size=20, n_neighbors=5, p=2, weights=distance; total time=   0.0s\n",
            "[CV] END algorithm=kd_tree, leaf_size=20, n_neighbors=7, p=1, weights=uniform; total time=   0.0s\n",
            "[CV] END algorithm=kd_tree, leaf_size=20, n_neighbors=7, p=1, weights=uniform; total time=   0.0s\n",
            "[CV] END algorithm=kd_tree, leaf_size=20, n_neighbors=7, p=1, weights=uniform; total time=   0.0s\n",
            "[CV] END algorithm=kd_tree, leaf_size=20, n_neighbors=7, p=1, weights=distance; total time=   0.0s\n",
            "[CV] END algorithm=kd_tree, leaf_size=20, n_neighbors=7, p=1, weights=distance; total time=   0.0s\n",
            "[CV] END algorithm=kd_tree, leaf_size=20, n_neighbors=7, p=1, weights=distance; total time=   0.0s\n",
            "[CV] END algorithm=kd_tree, leaf_size=20, n_neighbors=7, p=2, weights=uniform; total time=   0.0s\n",
            "[CV] END algorithm=kd_tree, leaf_size=20, n_neighbors=7, p=2, weights=uniform; total time=   0.0s\n",
            "[CV] END algorithm=kd_tree, leaf_size=20, n_neighbors=7, p=2, weights=uniform; total time=   0.0s\n",
            "[CV] END algorithm=kd_tree, leaf_size=20, n_neighbors=7, p=2, weights=distance; total time=   0.0s\n",
            "[CV] END algorithm=kd_tree, leaf_size=20, n_neighbors=7, p=2, weights=distance; total time=   0.0s\n",
            "[CV] END algorithm=kd_tree, leaf_size=20, n_neighbors=7, p=2, weights=distance; total time=   0.0s\n",
            "[CV] END algorithm=kd_tree, leaf_size=20, n_neighbors=9, p=1, weights=uniform; total time=   0.0s\n",
            "[CV] END algorithm=kd_tree, leaf_size=20, n_neighbors=9, p=1, weights=uniform; total time=   0.0s\n",
            "[CV] END algorithm=kd_tree, leaf_size=20, n_neighbors=9, p=1, weights=uniform; total time=   0.0s\n",
            "[CV] END algorithm=kd_tree, leaf_size=20, n_neighbors=9, p=1, weights=distance; total time=   0.0s\n",
            "[CV] END algorithm=kd_tree, leaf_size=20, n_neighbors=9, p=1, weights=distance; total time=   0.0s\n",
            "[CV] END algorithm=kd_tree, leaf_size=20, n_neighbors=9, p=1, weights=distance; total time=   0.0s\n",
            "[CV] END algorithm=kd_tree, leaf_size=20, n_neighbors=9, p=2, weights=uniform; total time=   0.0s\n",
            "[CV] END algorithm=kd_tree, leaf_size=20, n_neighbors=9, p=2, weights=uniform; total time=   0.0s\n",
            "[CV] END algorithm=kd_tree, leaf_size=20, n_neighbors=9, p=2, weights=uniform; total time=   0.0s\n",
            "[CV] END algorithm=kd_tree, leaf_size=20, n_neighbors=9, p=2, weights=distance; total time=   0.0s\n",
            "[CV] END algorithm=kd_tree, leaf_size=20, n_neighbors=9, p=2, weights=distance; total time=   0.0s\n",
            "[CV] END algorithm=kd_tree, leaf_size=20, n_neighbors=9, p=2, weights=distance; total time=   0.0s\n",
            "[CV] END algorithm=kd_tree, leaf_size=30, n_neighbors=3, p=1, weights=uniform; total time=   0.0s\n",
            "[CV] END algorithm=kd_tree, leaf_size=30, n_neighbors=3, p=1, weights=uniform; total time=   0.0s\n",
            "[CV] END algorithm=kd_tree, leaf_size=30, n_neighbors=3, p=1, weights=uniform; total time=   0.0s\n",
            "[CV] END algorithm=kd_tree, leaf_size=30, n_neighbors=3, p=1, weights=distance; total time=   0.0s\n",
            "[CV] END algorithm=kd_tree, leaf_size=30, n_neighbors=3, p=1, weights=distance; total time=   0.0s\n",
            "[CV] END algorithm=kd_tree, leaf_size=30, n_neighbors=3, p=1, weights=distance; total time=   0.0s\n",
            "[CV] END algorithm=kd_tree, leaf_size=30, n_neighbors=3, p=2, weights=uniform; total time=   0.0s\n",
            "[CV] END algorithm=kd_tree, leaf_size=30, n_neighbors=3, p=2, weights=uniform; total time=   0.0s\n",
            "[CV] END algorithm=kd_tree, leaf_size=30, n_neighbors=3, p=2, weights=uniform; total time=   0.0s\n",
            "[CV] END algorithm=kd_tree, leaf_size=30, n_neighbors=3, p=2, weights=distance; total time=   0.0s\n",
            "[CV] END algorithm=kd_tree, leaf_size=30, n_neighbors=3, p=2, weights=distance; total time=   0.0s\n",
            "[CV] END algorithm=kd_tree, leaf_size=30, n_neighbors=3, p=2, weights=distance; total time=   0.0s\n",
            "[CV] END algorithm=kd_tree, leaf_size=30, n_neighbors=5, p=1, weights=uniform; total time=   0.0s\n",
            "[CV] END algorithm=kd_tree, leaf_size=30, n_neighbors=5, p=1, weights=uniform; total time=   0.0s\n",
            "[CV] END algorithm=kd_tree, leaf_size=30, n_neighbors=5, p=1, weights=uniform; total time=   0.0s\n",
            "[CV] END algorithm=kd_tree, leaf_size=30, n_neighbors=5, p=1, weights=distance; total time=   0.0s\n",
            "[CV] END algorithm=kd_tree, leaf_size=30, n_neighbors=5, p=1, weights=distance; total time=   0.0s\n",
            "[CV] END algorithm=kd_tree, leaf_size=30, n_neighbors=5, p=1, weights=distance; total time=   0.0s\n",
            "[CV] END algorithm=kd_tree, leaf_size=30, n_neighbors=5, p=2, weights=uniform; total time=   0.0s\n",
            "[CV] END algorithm=kd_tree, leaf_size=30, n_neighbors=5, p=2, weights=uniform; total time=   0.0s\n",
            "[CV] END algorithm=kd_tree, leaf_size=30, n_neighbors=5, p=2, weights=uniform; total time=   0.0s\n",
            "[CV] END algorithm=kd_tree, leaf_size=30, n_neighbors=5, p=2, weights=distance; total time=   0.0s\n",
            "[CV] END algorithm=kd_tree, leaf_size=30, n_neighbors=5, p=2, weights=distance; total time=   0.0s\n",
            "[CV] END algorithm=kd_tree, leaf_size=30, n_neighbors=5, p=2, weights=distance; total time=   0.0s\n",
            "[CV] END algorithm=kd_tree, leaf_size=30, n_neighbors=7, p=1, weights=uniform; total time=   0.0s\n",
            "[CV] END algorithm=kd_tree, leaf_size=30, n_neighbors=7, p=1, weights=uniform; total time=   0.0s\n",
            "[CV] END algorithm=kd_tree, leaf_size=30, n_neighbors=7, p=1, weights=uniform; total time=   0.0s\n",
            "[CV] END algorithm=kd_tree, leaf_size=30, n_neighbors=7, p=1, weights=distance; total time=   0.0s\n",
            "[CV] END algorithm=kd_tree, leaf_size=30, n_neighbors=7, p=1, weights=distance; total time=   0.0s\n",
            "[CV] END algorithm=kd_tree, leaf_size=30, n_neighbors=7, p=1, weights=distance; total time=   0.0s\n",
            "[CV] END algorithm=kd_tree, leaf_size=30, n_neighbors=7, p=2, weights=uniform; total time=   0.0s\n",
            "[CV] END algorithm=kd_tree, leaf_size=30, n_neighbors=7, p=2, weights=uniform; total time=   0.0s\n",
            "[CV] END algorithm=kd_tree, leaf_size=30, n_neighbors=7, p=2, weights=uniform; total time=   0.0s\n",
            "[CV] END algorithm=kd_tree, leaf_size=30, n_neighbors=7, p=2, weights=distance; total time=   0.0s\n",
            "[CV] END algorithm=kd_tree, leaf_size=30, n_neighbors=7, p=2, weights=distance; total time=   0.0s\n",
            "[CV] END algorithm=kd_tree, leaf_size=30, n_neighbors=7, p=2, weights=distance; total time=   0.0s\n",
            "[CV] END algorithm=kd_tree, leaf_size=30, n_neighbors=9, p=1, weights=uniform; total time=   0.0s\n",
            "[CV] END algorithm=kd_tree, leaf_size=30, n_neighbors=9, p=1, weights=uniform; total time=   0.0s\n",
            "[CV] END algorithm=kd_tree, leaf_size=30, n_neighbors=9, p=1, weights=uniform; total time=   0.0s\n",
            "[CV] END algorithm=kd_tree, leaf_size=30, n_neighbors=9, p=1, weights=distance; total time=   0.0s\n",
            "[CV] END algorithm=kd_tree, leaf_size=30, n_neighbors=9, p=1, weights=distance; total time=   0.0s\n",
            "[CV] END algorithm=kd_tree, leaf_size=30, n_neighbors=9, p=1, weights=distance; total time=   0.0s\n",
            "[CV] END algorithm=kd_tree, leaf_size=30, n_neighbors=9, p=2, weights=uniform; total time=   0.0s\n",
            "[CV] END algorithm=kd_tree, leaf_size=30, n_neighbors=9, p=2, weights=uniform; total time=   0.0s\n",
            "[CV] END algorithm=kd_tree, leaf_size=30, n_neighbors=9, p=2, weights=uniform; total time=   0.0s\n",
            "[CV] END algorithm=kd_tree, leaf_size=30, n_neighbors=9, p=2, weights=distance; total time=   0.0s\n",
            "[CV] END algorithm=kd_tree, leaf_size=30, n_neighbors=9, p=2, weights=distance; total time=   0.0s\n",
            "[CV] END algorithm=kd_tree, leaf_size=30, n_neighbors=9, p=2, weights=distance; total time=   0.0s\n",
            "[CV] END algorithm=brute, leaf_size=10, n_neighbors=3, p=1, weights=uniform; total time=   0.0s\n",
            "[CV] END algorithm=brute, leaf_size=10, n_neighbors=3, p=1, weights=uniform; total time=   0.0s\n",
            "[CV] END algorithm=brute, leaf_size=10, n_neighbors=3, p=1, weights=uniform; total time=   0.0s\n",
            "[CV] END algorithm=brute, leaf_size=10, n_neighbors=3, p=1, weights=distance; total time=   0.0s\n",
            "[CV] END algorithm=brute, leaf_size=10, n_neighbors=3, p=1, weights=distance; total time=   0.0s\n",
            "[CV] END algorithm=brute, leaf_size=10, n_neighbors=3, p=1, weights=distance; total time=   0.0s\n",
            "[CV] END algorithm=brute, leaf_size=10, n_neighbors=3, p=2, weights=uniform; total time=   0.0s\n"
          ]
        },
        {
          "output_type": "error",
          "ename": "KeyboardInterrupt",
          "evalue": "",
          "traceback": [
            "\u001b[0;31m---------------------------------------------------------------------------\u001b[0m",
            "\u001b[0;31mKeyboardInterrupt\u001b[0m                         Traceback (most recent call last)",
            "\u001b[0;32m<ipython-input-79-8c8edc55ea8e>\u001b[0m in \u001b[0;36m<cell line: 14>\u001b[0;34m()\u001b[0m\n\u001b[1;32m     12\u001b[0m     \u001b[0;34m'p'\u001b[0m\u001b[0;34m:\u001b[0m \u001b[0;34m[\u001b[0m\u001b[0;36m1\u001b[0m\u001b[0;34m,\u001b[0m \u001b[0;36m2\u001b[0m\u001b[0;34m]\u001b[0m                           \u001b[0;31m# Power parameter for the Minkowski metric (1 for Manhattan, 2 for Euclidean)\u001b[0m\u001b[0;34m\u001b[0m\u001b[0;34m\u001b[0m\u001b[0m\n\u001b[1;32m     13\u001b[0m }\n\u001b[0;32m---> 14\u001b[0;31m test_grid_search_and_fit(\n\u001b[0m\u001b[1;32m     15\u001b[0m     \u001b[0mclassifier\u001b[0m\u001b[0;34m=\u001b[0m\u001b[0mKNeighborsClassifier\u001b[0m\u001b[0;34m(\u001b[0m\u001b[0;34m)\u001b[0m\u001b[0;34m,\u001b[0m\u001b[0;31m#KNN\u001b[0m\u001b[0;34m\u001b[0m\u001b[0;34m\u001b[0m\u001b[0m\n\u001b[1;32m     16\u001b[0m     \u001b[0mparam_grid\u001b[0m\u001b[0;34m=\u001b[0m\u001b[0mknn_param_grid\u001b[0m\u001b[0;34m,\u001b[0m\u001b[0;34m\u001b[0m\u001b[0;34m\u001b[0m\u001b[0m\n",
            "\u001b[0;32m<ipython-input-28-b98bcbc840d1>\u001b[0m in \u001b[0;36mtest_grid_search_and_fit\u001b[0;34m(classifier, param_grid, X, y)\u001b[0m\n\u001b[1;32m      1\u001b[0m \u001b[0;31m# Define and test grid_search_and_fit function\u001b[0m\u001b[0;34m\u001b[0m\u001b[0;34m\u001b[0m\u001b[0m\n\u001b[1;32m      2\u001b[0m \u001b[0;32mdef\u001b[0m \u001b[0mtest_grid_search_and_fit\u001b[0m\u001b[0;34m(\u001b[0m\u001b[0mclassifier\u001b[0m\u001b[0;34m,\u001b[0m \u001b[0mparam_grid\u001b[0m\u001b[0;34m,\u001b[0m \u001b[0mX\u001b[0m\u001b[0;34m,\u001b[0m \u001b[0my\u001b[0m\u001b[0;34m)\u001b[0m\u001b[0;34m:\u001b[0m\u001b[0;34m\u001b[0m\u001b[0;34m\u001b[0m\u001b[0m\n\u001b[0;32m----> 3\u001b[0;31m     \u001b[0mgrid_search_and_fit\u001b[0m\u001b[0;34m(\u001b[0m\u001b[0mclassifier\u001b[0m\u001b[0;34m,\u001b[0m \u001b[0mparam_grid\u001b[0m\u001b[0;34m,\u001b[0m \u001b[0mX\u001b[0m\u001b[0;34m,\u001b[0m \u001b[0my\u001b[0m\u001b[0;34m,\u001b[0m \u001b[0mverbosity\u001b[0m\u001b[0;34m=\u001b[0m\u001b[0;36m2\u001b[0m\u001b[0;34m)\u001b[0m\u001b[0;34m\u001b[0m\u001b[0;34m\u001b[0m\u001b[0m\n\u001b[0m",
            "\u001b[0;32m<ipython-input-72-256d2969602d>\u001b[0m in \u001b[0;36mgrid_search_and_fit\u001b[0;34m(classifier, param_grid, X, y, verbosity)\u001b[0m\n\u001b[1;32m     33\u001b[0m     \u001b[0;31m# Perform grid search\u001b[0m\u001b[0;34m\u001b[0m\u001b[0;34m\u001b[0m\u001b[0m\n\u001b[1;32m     34\u001b[0m     \u001b[0mgrid_search\u001b[0m \u001b[0;34m=\u001b[0m \u001b[0mGridSearchCV\u001b[0m\u001b[0;34m(\u001b[0m\u001b[0mclassifier\u001b[0m\u001b[0;34m,\u001b[0m \u001b[0mparam_grid\u001b[0m\u001b[0;34m,\u001b[0m \u001b[0mcv\u001b[0m\u001b[0;34m=\u001b[0m\u001b[0;36m3\u001b[0m\u001b[0;34m,\u001b[0m \u001b[0mverbose\u001b[0m\u001b[0;34m=\u001b[0m\u001b[0mverbosity\u001b[0m\u001b[0;34m,\u001b[0m \u001b[0mscoring\u001b[0m\u001b[0;34m=\u001b[0m\u001b[0;34m\"f1_weighted\"\u001b[0m\u001b[0;34m)\u001b[0m\u001b[0;34m\u001b[0m\u001b[0;34m\u001b[0m\u001b[0m\n\u001b[0;32m---> 35\u001b[0;31m     \u001b[0mgrid_search\u001b[0m\u001b[0;34m.\u001b[0m\u001b[0mfit\u001b[0m\u001b[0;34m(\u001b[0m\u001b[0mX_train\u001b[0m\u001b[0;34m,\u001b[0m \u001b[0my_train\u001b[0m\u001b[0;34m)\u001b[0m\u001b[0;34m\u001b[0m\u001b[0;34m\u001b[0m\u001b[0m\n\u001b[0m\u001b[1;32m     36\u001b[0m \u001b[0;34m\u001b[0m\u001b[0m\n\u001b[1;32m     37\u001b[0m     \u001b[0;31m# Get the best parameters\u001b[0m\u001b[0;34m\u001b[0m\u001b[0;34m\u001b[0m\u001b[0m\n",
            "\u001b[0;32m/usr/local/lib/python3.10/dist-packages/sklearn/model_selection/_search.py\u001b[0m in \u001b[0;36mfit\u001b[0;34m(self, X, y, groups, **fit_params)\u001b[0m\n\u001b[1;32m    872\u001b[0m                 \u001b[0;32mreturn\u001b[0m \u001b[0mresults\u001b[0m\u001b[0;34m\u001b[0m\u001b[0;34m\u001b[0m\u001b[0m\n\u001b[1;32m    873\u001b[0m \u001b[0;34m\u001b[0m\u001b[0m\n\u001b[0;32m--> 874\u001b[0;31m             \u001b[0mself\u001b[0m\u001b[0;34m.\u001b[0m\u001b[0m_run_search\u001b[0m\u001b[0;34m(\u001b[0m\u001b[0mevaluate_candidates\u001b[0m\u001b[0;34m)\u001b[0m\u001b[0;34m\u001b[0m\u001b[0;34m\u001b[0m\u001b[0m\n\u001b[0m\u001b[1;32m    875\u001b[0m \u001b[0;34m\u001b[0m\u001b[0m\n\u001b[1;32m    876\u001b[0m             \u001b[0;31m# multimetric is determined here because in the case of a callable\u001b[0m\u001b[0;34m\u001b[0m\u001b[0;34m\u001b[0m\u001b[0m\n",
            "\u001b[0;32m/usr/local/lib/python3.10/dist-packages/sklearn/model_selection/_search.py\u001b[0m in \u001b[0;36m_run_search\u001b[0;34m(self, evaluate_candidates)\u001b[0m\n\u001b[1;32m   1386\u001b[0m     \u001b[0;32mdef\u001b[0m \u001b[0m_run_search\u001b[0m\u001b[0;34m(\u001b[0m\u001b[0mself\u001b[0m\u001b[0;34m,\u001b[0m \u001b[0mevaluate_candidates\u001b[0m\u001b[0;34m)\u001b[0m\u001b[0;34m:\u001b[0m\u001b[0;34m\u001b[0m\u001b[0;34m\u001b[0m\u001b[0m\n\u001b[1;32m   1387\u001b[0m         \u001b[0;34m\"\"\"Search all candidates in param_grid\"\"\"\u001b[0m\u001b[0;34m\u001b[0m\u001b[0;34m\u001b[0m\u001b[0m\n\u001b[0;32m-> 1388\u001b[0;31m         \u001b[0mevaluate_candidates\u001b[0m\u001b[0;34m(\u001b[0m\u001b[0mParameterGrid\u001b[0m\u001b[0;34m(\u001b[0m\u001b[0mself\u001b[0m\u001b[0;34m.\u001b[0m\u001b[0mparam_grid\u001b[0m\u001b[0;34m)\u001b[0m\u001b[0;34m)\u001b[0m\u001b[0;34m\u001b[0m\u001b[0;34m\u001b[0m\u001b[0m\n\u001b[0m\u001b[1;32m   1389\u001b[0m \u001b[0;34m\u001b[0m\u001b[0m\n\u001b[1;32m   1390\u001b[0m \u001b[0;34m\u001b[0m\u001b[0m\n",
            "\u001b[0;32m/usr/local/lib/python3.10/dist-packages/sklearn/model_selection/_search.py\u001b[0m in \u001b[0;36mevaluate_candidates\u001b[0;34m(candidate_params, cv, more_results)\u001b[0m\n\u001b[1;32m    819\u001b[0m                     )\n\u001b[1;32m    820\u001b[0m \u001b[0;34m\u001b[0m\u001b[0m\n\u001b[0;32m--> 821\u001b[0;31m                 out = parallel(\n\u001b[0m\u001b[1;32m    822\u001b[0m                     delayed(_fit_and_score)(\n\u001b[1;32m    823\u001b[0m                         \u001b[0mclone\u001b[0m\u001b[0;34m(\u001b[0m\u001b[0mbase_estimator\u001b[0m\u001b[0;34m)\u001b[0m\u001b[0;34m,\u001b[0m\u001b[0;34m\u001b[0m\u001b[0;34m\u001b[0m\u001b[0m\n",
            "\u001b[0;32m/usr/local/lib/python3.10/dist-packages/sklearn/utils/parallel.py\u001b[0m in \u001b[0;36m__call__\u001b[0;34m(self, iterable)\u001b[0m\n\u001b[1;32m     61\u001b[0m             \u001b[0;32mfor\u001b[0m \u001b[0mdelayed_func\u001b[0m\u001b[0;34m,\u001b[0m \u001b[0margs\u001b[0m\u001b[0;34m,\u001b[0m \u001b[0mkwargs\u001b[0m \u001b[0;32min\u001b[0m \u001b[0miterable\u001b[0m\u001b[0;34m\u001b[0m\u001b[0;34m\u001b[0m\u001b[0m\n\u001b[1;32m     62\u001b[0m         )\n\u001b[0;32m---> 63\u001b[0;31m         \u001b[0;32mreturn\u001b[0m \u001b[0msuper\u001b[0m\u001b[0;34m(\u001b[0m\u001b[0;34m)\u001b[0m\u001b[0;34m.\u001b[0m\u001b[0m__call__\u001b[0m\u001b[0;34m(\u001b[0m\u001b[0miterable_with_config\u001b[0m\u001b[0;34m)\u001b[0m\u001b[0;34m\u001b[0m\u001b[0;34m\u001b[0m\u001b[0m\n\u001b[0m\u001b[1;32m     64\u001b[0m \u001b[0;34m\u001b[0m\u001b[0m\n\u001b[1;32m     65\u001b[0m \u001b[0;34m\u001b[0m\u001b[0m\n",
            "\u001b[0;32m/usr/local/lib/python3.10/dist-packages/joblib/parallel.py\u001b[0m in \u001b[0;36m__call__\u001b[0;34m(self, iterable)\u001b[0m\n\u001b[1;32m   1861\u001b[0m             \u001b[0moutput\u001b[0m \u001b[0;34m=\u001b[0m \u001b[0mself\u001b[0m\u001b[0;34m.\u001b[0m\u001b[0m_get_sequential_output\u001b[0m\u001b[0;34m(\u001b[0m\u001b[0miterable\u001b[0m\u001b[0;34m)\u001b[0m\u001b[0;34m\u001b[0m\u001b[0;34m\u001b[0m\u001b[0m\n\u001b[1;32m   1862\u001b[0m             \u001b[0mnext\u001b[0m\u001b[0;34m(\u001b[0m\u001b[0moutput\u001b[0m\u001b[0;34m)\u001b[0m\u001b[0;34m\u001b[0m\u001b[0;34m\u001b[0m\u001b[0m\n\u001b[0;32m-> 1863\u001b[0;31m             \u001b[0;32mreturn\u001b[0m \u001b[0moutput\u001b[0m \u001b[0;32mif\u001b[0m \u001b[0mself\u001b[0m\u001b[0;34m.\u001b[0m\u001b[0mreturn_generator\u001b[0m \u001b[0;32melse\u001b[0m \u001b[0mlist\u001b[0m\u001b[0;34m(\u001b[0m\u001b[0moutput\u001b[0m\u001b[0;34m)\u001b[0m\u001b[0;34m\u001b[0m\u001b[0;34m\u001b[0m\u001b[0m\n\u001b[0m\u001b[1;32m   1864\u001b[0m \u001b[0;34m\u001b[0m\u001b[0m\n\u001b[1;32m   1865\u001b[0m         \u001b[0;31m# Let's create an ID that uniquely identifies the current call. If the\u001b[0m\u001b[0;34m\u001b[0m\u001b[0;34m\u001b[0m\u001b[0m\n",
            "\u001b[0;32m/usr/local/lib/python3.10/dist-packages/joblib/parallel.py\u001b[0m in \u001b[0;36m_get_sequential_output\u001b[0;34m(self, iterable)\u001b[0m\n\u001b[1;32m   1790\u001b[0m                 \u001b[0mself\u001b[0m\u001b[0;34m.\u001b[0m\u001b[0mn_dispatched_batches\u001b[0m \u001b[0;34m+=\u001b[0m \u001b[0;36m1\u001b[0m\u001b[0;34m\u001b[0m\u001b[0;34m\u001b[0m\u001b[0m\n\u001b[1;32m   1791\u001b[0m                 \u001b[0mself\u001b[0m\u001b[0;34m.\u001b[0m\u001b[0mn_dispatched_tasks\u001b[0m \u001b[0;34m+=\u001b[0m \u001b[0;36m1\u001b[0m\u001b[0;34m\u001b[0m\u001b[0;34m\u001b[0m\u001b[0m\n\u001b[0;32m-> 1792\u001b[0;31m                 \u001b[0mres\u001b[0m \u001b[0;34m=\u001b[0m \u001b[0mfunc\u001b[0m\u001b[0;34m(\u001b[0m\u001b[0;34m*\u001b[0m\u001b[0margs\u001b[0m\u001b[0;34m,\u001b[0m \u001b[0;34m**\u001b[0m\u001b[0mkwargs\u001b[0m\u001b[0;34m)\u001b[0m\u001b[0;34m\u001b[0m\u001b[0;34m\u001b[0m\u001b[0m\n\u001b[0m\u001b[1;32m   1793\u001b[0m                 \u001b[0mself\u001b[0m\u001b[0;34m.\u001b[0m\u001b[0mn_completed_tasks\u001b[0m \u001b[0;34m+=\u001b[0m \u001b[0;36m1\u001b[0m\u001b[0;34m\u001b[0m\u001b[0;34m\u001b[0m\u001b[0m\n\u001b[1;32m   1794\u001b[0m                 \u001b[0mself\u001b[0m\u001b[0;34m.\u001b[0m\u001b[0mprint_progress\u001b[0m\u001b[0;34m(\u001b[0m\u001b[0;34m)\u001b[0m\u001b[0;34m\u001b[0m\u001b[0;34m\u001b[0m\u001b[0m\n",
            "\u001b[0;32m/usr/local/lib/python3.10/dist-packages/sklearn/utils/parallel.py\u001b[0m in \u001b[0;36m__call__\u001b[0;34m(self, *args, **kwargs)\u001b[0m\n\u001b[1;32m    121\u001b[0m             \u001b[0mconfig\u001b[0m \u001b[0;34m=\u001b[0m \u001b[0;34m{\u001b[0m\u001b[0;34m}\u001b[0m\u001b[0;34m\u001b[0m\u001b[0;34m\u001b[0m\u001b[0m\n\u001b[1;32m    122\u001b[0m         \u001b[0;32mwith\u001b[0m \u001b[0mconfig_context\u001b[0m\u001b[0;34m(\u001b[0m\u001b[0;34m**\u001b[0m\u001b[0mconfig\u001b[0m\u001b[0;34m)\u001b[0m\u001b[0;34m:\u001b[0m\u001b[0;34m\u001b[0m\u001b[0;34m\u001b[0m\u001b[0m\n\u001b[0;32m--> 123\u001b[0;31m             \u001b[0;32mreturn\u001b[0m \u001b[0mself\u001b[0m\u001b[0;34m.\u001b[0m\u001b[0mfunction\u001b[0m\u001b[0;34m(\u001b[0m\u001b[0;34m*\u001b[0m\u001b[0margs\u001b[0m\u001b[0;34m,\u001b[0m \u001b[0;34m**\u001b[0m\u001b[0mkwargs\u001b[0m\u001b[0;34m)\u001b[0m\u001b[0;34m\u001b[0m\u001b[0;34m\u001b[0m\u001b[0m\n\u001b[0m",
            "\u001b[0;32m/usr/local/lib/python3.10/dist-packages/sklearn/model_selection/_validation.py\u001b[0m in \u001b[0;36m_fit_and_score\u001b[0;34m(estimator, X, y, scorer, train, test, verbose, parameters, fit_params, return_train_score, return_parameters, return_n_test_samples, return_times, return_estimator, split_progress, candidate_progress, error_score)\u001b[0m\n\u001b[1;32m    706\u001b[0m \u001b[0;34m\u001b[0m\u001b[0m\n\u001b[1;32m    707\u001b[0m         \u001b[0mfit_time\u001b[0m \u001b[0;34m=\u001b[0m \u001b[0mtime\u001b[0m\u001b[0;34m.\u001b[0m\u001b[0mtime\u001b[0m\u001b[0;34m(\u001b[0m\u001b[0;34m)\u001b[0m \u001b[0;34m-\u001b[0m \u001b[0mstart_time\u001b[0m\u001b[0;34m\u001b[0m\u001b[0;34m\u001b[0m\u001b[0m\n\u001b[0;32m--> 708\u001b[0;31m         \u001b[0mtest_scores\u001b[0m \u001b[0;34m=\u001b[0m \u001b[0m_score\u001b[0m\u001b[0;34m(\u001b[0m\u001b[0mestimator\u001b[0m\u001b[0;34m,\u001b[0m \u001b[0mX_test\u001b[0m\u001b[0;34m,\u001b[0m \u001b[0my_test\u001b[0m\u001b[0;34m,\u001b[0m \u001b[0mscorer\u001b[0m\u001b[0;34m,\u001b[0m \u001b[0merror_score\u001b[0m\u001b[0;34m)\u001b[0m\u001b[0;34m\u001b[0m\u001b[0;34m\u001b[0m\u001b[0m\n\u001b[0m\u001b[1;32m    709\u001b[0m         \u001b[0mscore_time\u001b[0m \u001b[0;34m=\u001b[0m \u001b[0mtime\u001b[0m\u001b[0;34m.\u001b[0m\u001b[0mtime\u001b[0m\u001b[0;34m(\u001b[0m\u001b[0;34m)\u001b[0m \u001b[0;34m-\u001b[0m \u001b[0mstart_time\u001b[0m \u001b[0;34m-\u001b[0m \u001b[0mfit_time\u001b[0m\u001b[0;34m\u001b[0m\u001b[0;34m\u001b[0m\u001b[0m\n\u001b[1;32m    710\u001b[0m         \u001b[0;32mif\u001b[0m \u001b[0mreturn_train_score\u001b[0m\u001b[0;34m:\u001b[0m\u001b[0;34m\u001b[0m\u001b[0;34m\u001b[0m\u001b[0m\n",
            "\u001b[0;32m/usr/local/lib/python3.10/dist-packages/sklearn/model_selection/_validation.py\u001b[0m in \u001b[0;36m_score\u001b[0;34m(estimator, X_test, y_test, scorer, error_score)\u001b[0m\n\u001b[1;32m    765\u001b[0m             \u001b[0mscores\u001b[0m \u001b[0;34m=\u001b[0m \u001b[0mscorer\u001b[0m\u001b[0;34m(\u001b[0m\u001b[0mestimator\u001b[0m\u001b[0;34m,\u001b[0m \u001b[0mX_test\u001b[0m\u001b[0;34m)\u001b[0m\u001b[0;34m\u001b[0m\u001b[0;34m\u001b[0m\u001b[0m\n\u001b[1;32m    766\u001b[0m         \u001b[0;32melse\u001b[0m\u001b[0;34m:\u001b[0m\u001b[0;34m\u001b[0m\u001b[0;34m\u001b[0m\u001b[0m\n\u001b[0;32m--> 767\u001b[0;31m             \u001b[0mscores\u001b[0m \u001b[0;34m=\u001b[0m \u001b[0mscorer\u001b[0m\u001b[0;34m(\u001b[0m\u001b[0mestimator\u001b[0m\u001b[0;34m,\u001b[0m \u001b[0mX_test\u001b[0m\u001b[0;34m,\u001b[0m \u001b[0my_test\u001b[0m\u001b[0;34m)\u001b[0m\u001b[0;34m\u001b[0m\u001b[0;34m\u001b[0m\u001b[0m\n\u001b[0m\u001b[1;32m    768\u001b[0m     \u001b[0;32mexcept\u001b[0m \u001b[0mException\u001b[0m\u001b[0;34m:\u001b[0m\u001b[0;34m\u001b[0m\u001b[0;34m\u001b[0m\u001b[0m\n\u001b[1;32m    769\u001b[0m         \u001b[0;32mif\u001b[0m \u001b[0misinstance\u001b[0m\u001b[0;34m(\u001b[0m\u001b[0mscorer\u001b[0m\u001b[0;34m,\u001b[0m \u001b[0m_MultimetricScorer\u001b[0m\u001b[0;34m)\u001b[0m\u001b[0;34m:\u001b[0m\u001b[0;34m\u001b[0m\u001b[0;34m\u001b[0m\u001b[0m\n",
            "\u001b[0;32m/usr/local/lib/python3.10/dist-packages/sklearn/metrics/_scorer.py\u001b[0m in \u001b[0;36m__call__\u001b[0;34m(self, estimator, X, y_true, sample_weight)\u001b[0m\n\u001b[1;32m    232\u001b[0m             \u001b[0mScore\u001b[0m \u001b[0mfunction\u001b[0m \u001b[0mapplied\u001b[0m \u001b[0mto\u001b[0m \u001b[0mprediction\u001b[0m \u001b[0mof\u001b[0m \u001b[0mestimator\u001b[0m \u001b[0mon\u001b[0m \u001b[0mX\u001b[0m\u001b[0;34m.\u001b[0m\u001b[0;34m\u001b[0m\u001b[0;34m\u001b[0m\u001b[0m\n\u001b[1;32m    233\u001b[0m         \"\"\"\n\u001b[0;32m--> 234\u001b[0;31m         return self._score(\n\u001b[0m\u001b[1;32m    235\u001b[0m             \u001b[0mpartial\u001b[0m\u001b[0;34m(\u001b[0m\u001b[0m_cached_call\u001b[0m\u001b[0;34m,\u001b[0m \u001b[0;32mNone\u001b[0m\u001b[0;34m)\u001b[0m\u001b[0;34m,\u001b[0m\u001b[0;34m\u001b[0m\u001b[0;34m\u001b[0m\u001b[0m\n\u001b[1;32m    236\u001b[0m             \u001b[0mestimator\u001b[0m\u001b[0;34m,\u001b[0m\u001b[0;34m\u001b[0m\u001b[0;34m\u001b[0m\u001b[0m\n",
            "\u001b[0;32m/usr/local/lib/python3.10/dist-packages/sklearn/metrics/_scorer.py\u001b[0m in \u001b[0;36m_score\u001b[0;34m(self, method_caller, estimator, X, y_true, sample_weight)\u001b[0m\n\u001b[1;32m    274\u001b[0m         \"\"\"\n\u001b[1;32m    275\u001b[0m \u001b[0;34m\u001b[0m\u001b[0m\n\u001b[0;32m--> 276\u001b[0;31m         \u001b[0my_pred\u001b[0m \u001b[0;34m=\u001b[0m \u001b[0mmethod_caller\u001b[0m\u001b[0;34m(\u001b[0m\u001b[0mestimator\u001b[0m\u001b[0;34m,\u001b[0m \u001b[0;34m\"predict\"\u001b[0m\u001b[0;34m,\u001b[0m \u001b[0mX\u001b[0m\u001b[0;34m)\u001b[0m\u001b[0;34m\u001b[0m\u001b[0;34m\u001b[0m\u001b[0m\n\u001b[0m\u001b[1;32m    277\u001b[0m         \u001b[0;32mif\u001b[0m \u001b[0msample_weight\u001b[0m \u001b[0;32mis\u001b[0m \u001b[0;32mnot\u001b[0m \u001b[0;32mNone\u001b[0m\u001b[0;34m:\u001b[0m\u001b[0;34m\u001b[0m\u001b[0;34m\u001b[0m\u001b[0m\n\u001b[1;32m    278\u001b[0m             return self._sign * self._score_func(\n",
            "\u001b[0;32m/usr/local/lib/python3.10/dist-packages/sklearn/metrics/_scorer.py\u001b[0m in \u001b[0;36m_cached_call\u001b[0;34m(cache, estimator, method, *args, **kwargs)\u001b[0m\n\u001b[1;32m     71\u001b[0m     \u001b[0;34m\"\"\"Call estimator with method and args and kwargs.\"\"\"\u001b[0m\u001b[0;34m\u001b[0m\u001b[0;34m\u001b[0m\u001b[0m\n\u001b[1;32m     72\u001b[0m     \u001b[0;32mif\u001b[0m \u001b[0mcache\u001b[0m \u001b[0;32mis\u001b[0m \u001b[0;32mNone\u001b[0m\u001b[0;34m:\u001b[0m\u001b[0;34m\u001b[0m\u001b[0;34m\u001b[0m\u001b[0m\n\u001b[0;32m---> 73\u001b[0;31m         \u001b[0;32mreturn\u001b[0m \u001b[0mgetattr\u001b[0m\u001b[0;34m(\u001b[0m\u001b[0mestimator\u001b[0m\u001b[0;34m,\u001b[0m \u001b[0mmethod\u001b[0m\u001b[0;34m)\u001b[0m\u001b[0;34m(\u001b[0m\u001b[0;34m*\u001b[0m\u001b[0margs\u001b[0m\u001b[0;34m,\u001b[0m \u001b[0;34m**\u001b[0m\u001b[0mkwargs\u001b[0m\u001b[0;34m)\u001b[0m\u001b[0;34m\u001b[0m\u001b[0;34m\u001b[0m\u001b[0m\n\u001b[0m\u001b[1;32m     74\u001b[0m \u001b[0;34m\u001b[0m\u001b[0m\n\u001b[1;32m     75\u001b[0m     \u001b[0;32mtry\u001b[0m\u001b[0;34m:\u001b[0m\u001b[0;34m\u001b[0m\u001b[0;34m\u001b[0m\u001b[0m\n",
            "\u001b[0;32m/usr/local/lib/python3.10/dist-packages/sklearn/neighbors/_classification.py\u001b[0m in \u001b[0;36mpredict\u001b[0;34m(self, X)\u001b[0m\n\u001b[1;32m    232\u001b[0m             \u001b[0;31m# In that case, we do not need the distances to perform\u001b[0m\u001b[0;34m\u001b[0m\u001b[0;34m\u001b[0m\u001b[0m\n\u001b[1;32m    233\u001b[0m             \u001b[0;31m# the weighting so we do not compute them.\u001b[0m\u001b[0;34m\u001b[0m\u001b[0;34m\u001b[0m\u001b[0m\n\u001b[0;32m--> 234\u001b[0;31m             \u001b[0mneigh_ind\u001b[0m \u001b[0;34m=\u001b[0m \u001b[0mself\u001b[0m\u001b[0;34m.\u001b[0m\u001b[0mkneighbors\u001b[0m\u001b[0;34m(\u001b[0m\u001b[0mX\u001b[0m\u001b[0;34m,\u001b[0m \u001b[0mreturn_distance\u001b[0m\u001b[0;34m=\u001b[0m\u001b[0;32mFalse\u001b[0m\u001b[0;34m)\u001b[0m\u001b[0;34m\u001b[0m\u001b[0;34m\u001b[0m\u001b[0m\n\u001b[0m\u001b[1;32m    235\u001b[0m             \u001b[0mneigh_dist\u001b[0m \u001b[0;34m=\u001b[0m \u001b[0;32mNone\u001b[0m\u001b[0;34m\u001b[0m\u001b[0;34m\u001b[0m\u001b[0m\n\u001b[1;32m    236\u001b[0m         \u001b[0;32melse\u001b[0m\u001b[0;34m:\u001b[0m\u001b[0;34m\u001b[0m\u001b[0;34m\u001b[0m\u001b[0m\n",
            "\u001b[0;32m/usr/local/lib/python3.10/dist-packages/sklearn/neighbors/_base.py\u001b[0m in \u001b[0;36mkneighbors\u001b[0;34m(self, X, n_neighbors, return_distance)\u001b[0m\n\u001b[1;32m    822\u001b[0m         )\n\u001b[1;32m    823\u001b[0m         \u001b[0;32mif\u001b[0m \u001b[0muse_pairwise_distances_reductions\u001b[0m\u001b[0;34m:\u001b[0m\u001b[0;34m\u001b[0m\u001b[0;34m\u001b[0m\u001b[0m\n\u001b[0;32m--> 824\u001b[0;31m             results = ArgKmin.compute(\n\u001b[0m\u001b[1;32m    825\u001b[0m                 \u001b[0mX\u001b[0m\u001b[0;34m=\u001b[0m\u001b[0mX\u001b[0m\u001b[0;34m,\u001b[0m\u001b[0;34m\u001b[0m\u001b[0;34m\u001b[0m\u001b[0m\n\u001b[1;32m    826\u001b[0m                 \u001b[0mY\u001b[0m\u001b[0;34m=\u001b[0m\u001b[0mself\u001b[0m\u001b[0;34m.\u001b[0m\u001b[0m_fit_X\u001b[0m\u001b[0;34m,\u001b[0m\u001b[0;34m\u001b[0m\u001b[0;34m\u001b[0m\u001b[0m\n",
            "\u001b[0;32m/usr/local/lib/python3.10/dist-packages/sklearn/metrics/_pairwise_distances_reduction/_dispatcher.py\u001b[0m in \u001b[0;36mcompute\u001b[0;34m(cls, X, Y, k, metric, chunk_size, metric_kwargs, strategy, return_distance)\u001b[0m\n\u001b[1;32m    275\u001b[0m         \"\"\"\n\u001b[1;32m    276\u001b[0m         \u001b[0;32mif\u001b[0m \u001b[0mX\u001b[0m\u001b[0;34m.\u001b[0m\u001b[0mdtype\u001b[0m \u001b[0;34m==\u001b[0m \u001b[0mY\u001b[0m\u001b[0;34m.\u001b[0m\u001b[0mdtype\u001b[0m \u001b[0;34m==\u001b[0m \u001b[0mnp\u001b[0m\u001b[0;34m.\u001b[0m\u001b[0mfloat64\u001b[0m\u001b[0;34m:\u001b[0m\u001b[0;34m\u001b[0m\u001b[0;34m\u001b[0m\u001b[0m\n\u001b[0;32m--> 277\u001b[0;31m             return ArgKmin64.compute(\n\u001b[0m\u001b[1;32m    278\u001b[0m                 \u001b[0mX\u001b[0m\u001b[0;34m=\u001b[0m\u001b[0mX\u001b[0m\u001b[0;34m,\u001b[0m\u001b[0;34m\u001b[0m\u001b[0;34m\u001b[0m\u001b[0m\n\u001b[1;32m    279\u001b[0m                 \u001b[0mY\u001b[0m\u001b[0;34m=\u001b[0m\u001b[0mY\u001b[0m\u001b[0;34m,\u001b[0m\u001b[0;34m\u001b[0m\u001b[0;34m\u001b[0m\u001b[0m\n",
            "\u001b[0;32msklearn/metrics/_pairwise_distances_reduction/_argkmin.pyx\u001b[0m in \u001b[0;36msklearn.metrics._pairwise_distances_reduction._argkmin.ArgKmin64.compute\u001b[0;34m()\u001b[0m\n",
            "\u001b[0;32msklearn/metrics/_pairwise_distances_reduction/_argkmin.pyx\u001b[0m in \u001b[0;36msklearn.metrics._pairwise_distances_reduction._argkmin.EuclideanArgKmin64.__init__\u001b[0;34m()\u001b[0m\n",
            "\u001b[0;32msklearn/metrics/_pairwise_distances_reduction/_base.pyx\u001b[0m in \u001b[0;36msklearn.metrics._pairwise_distances_reduction._base._sqeuclidean_row_norms64\u001b[0;34m()\u001b[0m\n",
            "\u001b[0;32m/usr/local/lib/python3.10/dist-packages/scipy/sparse/_base.py\u001b[0m in \u001b[0;36missparse\u001b[0;34m(x)\u001b[0m\n\u001b[1;32m   1459\u001b[0m \u001b[0;34m\u001b[0m\u001b[0m\n\u001b[1;32m   1460\u001b[0m \u001b[0;34m\u001b[0m\u001b[0m\n\u001b[0;32m-> 1461\u001b[0;31m \u001b[0;32mdef\u001b[0m \u001b[0missparse\u001b[0m\u001b[0;34m(\u001b[0m\u001b[0mx\u001b[0m\u001b[0;34m)\u001b[0m\u001b[0;34m:\u001b[0m\u001b[0;34m\u001b[0m\u001b[0;34m\u001b[0m\u001b[0m\n\u001b[0m\u001b[1;32m   1462\u001b[0m     \"\"\"Is `x` of a sparse array type?\n\u001b[1;32m   1463\u001b[0m \u001b[0;34m\u001b[0m\u001b[0m\n",
            "\u001b[0;31mKeyboardInterrupt\u001b[0m: "
          ]
        }
      ]
    },
    {
      "cell_type": "code",
      "source": [
        "X = df_mean.drop(columns=['diagnosis', 'stage', 'plasma_CA19_9'])\n",
        "y = df_mean['diagnosis']  # Target variable\n",
        "\n",
        "\n",
        "\n",
        "# Define the parameter grid for RF\n",
        "rf_param_grid = {\n",
        "    'n_estimators': [50, 100],           # Number of trees in the forest\n",
        "    'criterion': ['gini', 'entropy'],             # Splitting criterion\n",
        "    'max_depth': [None, 5, 10, 15],                # Maximum depth of the trees\n",
        "    'min_samples_split': [2, 5, 10, 20],           # Minimum number of samples required to split an internal node\n",
        "    'min_samples_leaf': [1, 2, 3, 5],              # Minimum number of samples required to be at a leaf node\n",
        "    'max_features': ['auto', 'sqrt', 'log2'],      # Number of features to consider when looking for the best split\n",
        "    'bootstrap': [True, False],                    # Whether to use bootstrapping\n",
        "    'random_state': [42]                           # Random seed for reproducibility\n",
        "}\n",
        "test_grid_search_and_fit(\n",
        "    classifier=RandomForestClassifier(),#RF\n",
        "    param_grid=rf_param_grid,\n",
        "    X=X,\n",
        "    y=y\n",
        ")"
      ],
      "metadata": {
        "colab": {
          "base_uri": "https://localhost:8080/",
          "height": 1000
        },
        "id": "k6-zTk8eAYoP",
        "outputId": "e5f76021-4a73-4a59-ffaf-09e1889e7ca1"
      },
      "execution_count": 78,
      "outputs": [
        {
          "output_type": "stream",
          "name": "stdout",
          "text": [
            "Model results with default hyperparameters\n",
            "Average Accuracy: 0.9717313585291114\n",
            "Average Precision: 0.9680470319887668\n",
            "Average Recall: 0.9717313585291114\n",
            "Average F1 Score: 0.9604462746379344\n",
            "Fitting 3 folds for each of 1536 candidates, totalling 4608 fits\n",
            "[CV] END bootstrap=True, criterion=gini, max_depth=None, max_features=auto, min_samples_leaf=1, min_samples_split=2, n_estimators=50, random_state=42; total time=   0.1s\n"
          ]
        },
        {
          "output_type": "stream",
          "name": "stderr",
          "text": [
            "/usr/local/lib/python3.10/dist-packages/sklearn/ensemble/_forest.py:424: FutureWarning: `max_features='auto'` has been deprecated in 1.1 and will be removed in 1.3. To keep the past behaviour, explicitly set `max_features='sqrt'` or remove this parameter as it is also the default value for RandomForestClassifiers and ExtraTreesClassifiers.\n",
            "  warn(\n",
            "/usr/local/lib/python3.10/dist-packages/sklearn/ensemble/_forest.py:424: FutureWarning: `max_features='auto'` has been deprecated in 1.1 and will be removed in 1.3. To keep the past behaviour, explicitly set `max_features='sqrt'` or remove this parameter as it is also the default value for RandomForestClassifiers and ExtraTreesClassifiers.\n",
            "  warn(\n"
          ]
        },
        {
          "output_type": "stream",
          "name": "stdout",
          "text": [
            "[CV] END bootstrap=True, criterion=gini, max_depth=None, max_features=auto, min_samples_leaf=1, min_samples_split=2, n_estimators=50, random_state=42; total time=   0.1s\n",
            "[CV] END bootstrap=True, criterion=gini, max_depth=None, max_features=auto, min_samples_leaf=1, min_samples_split=2, n_estimators=50, random_state=42; total time=   0.1s\n"
          ]
        },
        {
          "output_type": "stream",
          "name": "stderr",
          "text": [
            "/usr/local/lib/python3.10/dist-packages/sklearn/ensemble/_forest.py:424: FutureWarning: `max_features='auto'` has been deprecated in 1.1 and will be removed in 1.3. To keep the past behaviour, explicitly set `max_features='sqrt'` or remove this parameter as it is also the default value for RandomForestClassifiers and ExtraTreesClassifiers.\n",
            "  warn(\n",
            "/usr/local/lib/python3.10/dist-packages/sklearn/ensemble/_forest.py:424: FutureWarning: `max_features='auto'` has been deprecated in 1.1 and will be removed in 1.3. To keep the past behaviour, explicitly set `max_features='sqrt'` or remove this parameter as it is also the default value for RandomForestClassifiers and ExtraTreesClassifiers.\n",
            "  warn(\n"
          ]
        },
        {
          "output_type": "stream",
          "name": "stdout",
          "text": [
            "[CV] END bootstrap=True, criterion=gini, max_depth=None, max_features=auto, min_samples_leaf=1, min_samples_split=2, n_estimators=100, random_state=42; total time=   0.2s\n",
            "[CV] END bootstrap=True, criterion=gini, max_depth=None, max_features=auto, min_samples_leaf=1, min_samples_split=2, n_estimators=100, random_state=42; total time=   0.2s\n"
          ]
        },
        {
          "output_type": "stream",
          "name": "stderr",
          "text": [
            "/usr/local/lib/python3.10/dist-packages/sklearn/ensemble/_forest.py:424: FutureWarning: `max_features='auto'` has been deprecated in 1.1 and will be removed in 1.3. To keep the past behaviour, explicitly set `max_features='sqrt'` or remove this parameter as it is also the default value for RandomForestClassifiers and ExtraTreesClassifiers.\n",
            "  warn(\n",
            "/usr/local/lib/python3.10/dist-packages/sklearn/ensemble/_forest.py:424: FutureWarning: `max_features='auto'` has been deprecated in 1.1 and will be removed in 1.3. To keep the past behaviour, explicitly set `max_features='sqrt'` or remove this parameter as it is also the default value for RandomForestClassifiers and ExtraTreesClassifiers.\n",
            "  warn(\n"
          ]
        },
        {
          "output_type": "stream",
          "name": "stdout",
          "text": [
            "[CV] END bootstrap=True, criterion=gini, max_depth=None, max_features=auto, min_samples_leaf=1, min_samples_split=2, n_estimators=100, random_state=42; total time=   0.2s\n",
            "[CV] END bootstrap=True, criterion=gini, max_depth=None, max_features=auto, min_samples_leaf=1, min_samples_split=5, n_estimators=50, random_state=42; total time=   0.1s\n"
          ]
        },
        {
          "output_type": "stream",
          "name": "stderr",
          "text": [
            "/usr/local/lib/python3.10/dist-packages/sklearn/ensemble/_forest.py:424: FutureWarning: `max_features='auto'` has been deprecated in 1.1 and will be removed in 1.3. To keep the past behaviour, explicitly set `max_features='sqrt'` or remove this parameter as it is also the default value for RandomForestClassifiers and ExtraTreesClassifiers.\n",
            "  warn(\n",
            "/usr/local/lib/python3.10/dist-packages/sklearn/ensemble/_forest.py:424: FutureWarning: `max_features='auto'` has been deprecated in 1.1 and will be removed in 1.3. To keep the past behaviour, explicitly set `max_features='sqrt'` or remove this parameter as it is also the default value for RandomForestClassifiers and ExtraTreesClassifiers.\n",
            "  warn(\n"
          ]
        },
        {
          "output_type": "stream",
          "name": "stdout",
          "text": [
            "[CV] END bootstrap=True, criterion=gini, max_depth=None, max_features=auto, min_samples_leaf=1, min_samples_split=5, n_estimators=50, random_state=42; total time=   0.1s\n",
            "[CV] END bootstrap=True, criterion=gini, max_depth=None, max_features=auto, min_samples_leaf=1, min_samples_split=5, n_estimators=50, random_state=42; total time=   0.1s\n"
          ]
        },
        {
          "output_type": "stream",
          "name": "stderr",
          "text": [
            "/usr/local/lib/python3.10/dist-packages/sklearn/ensemble/_forest.py:424: FutureWarning: `max_features='auto'` has been deprecated in 1.1 and will be removed in 1.3. To keep the past behaviour, explicitly set `max_features='sqrt'` or remove this parameter as it is also the default value for RandomForestClassifiers and ExtraTreesClassifiers.\n",
            "  warn(\n",
            "/usr/local/lib/python3.10/dist-packages/sklearn/ensemble/_forest.py:424: FutureWarning: `max_features='auto'` has been deprecated in 1.1 and will be removed in 1.3. To keep the past behaviour, explicitly set `max_features='sqrt'` or remove this parameter as it is also the default value for RandomForestClassifiers and ExtraTreesClassifiers.\n",
            "  warn(\n"
          ]
        },
        {
          "output_type": "stream",
          "name": "stdout",
          "text": [
            "[CV] END bootstrap=True, criterion=gini, max_depth=None, max_features=auto, min_samples_leaf=1, min_samples_split=5, n_estimators=100, random_state=42; total time=   0.2s\n",
            "[CV] END bootstrap=True, criterion=gini, max_depth=None, max_features=auto, min_samples_leaf=1, min_samples_split=5, n_estimators=100, random_state=42; total time=   0.2s\n"
          ]
        },
        {
          "output_type": "stream",
          "name": "stderr",
          "text": [
            "/usr/local/lib/python3.10/dist-packages/sklearn/ensemble/_forest.py:424: FutureWarning: `max_features='auto'` has been deprecated in 1.1 and will be removed in 1.3. To keep the past behaviour, explicitly set `max_features='sqrt'` or remove this parameter as it is also the default value for RandomForestClassifiers and ExtraTreesClassifiers.\n",
            "  warn(\n",
            "/usr/local/lib/python3.10/dist-packages/sklearn/ensemble/_forest.py:424: FutureWarning: `max_features='auto'` has been deprecated in 1.1 and will be removed in 1.3. To keep the past behaviour, explicitly set `max_features='sqrt'` or remove this parameter as it is also the default value for RandomForestClassifiers and ExtraTreesClassifiers.\n",
            "  warn(\n"
          ]
        },
        {
          "output_type": "stream",
          "name": "stdout",
          "text": [
            "[CV] END bootstrap=True, criterion=gini, max_depth=None, max_features=auto, min_samples_leaf=1, min_samples_split=5, n_estimators=100, random_state=42; total time=   0.2s\n",
            "[CV] END bootstrap=True, criterion=gini, max_depth=None, max_features=auto, min_samples_leaf=1, min_samples_split=10, n_estimators=50, random_state=42; total time=   0.1s\n"
          ]
        },
        {
          "output_type": "stream",
          "name": "stderr",
          "text": [
            "/usr/local/lib/python3.10/dist-packages/sklearn/ensemble/_forest.py:424: FutureWarning: `max_features='auto'` has been deprecated in 1.1 and will be removed in 1.3. To keep the past behaviour, explicitly set `max_features='sqrt'` or remove this parameter as it is also the default value for RandomForestClassifiers and ExtraTreesClassifiers.\n",
            "  warn(\n",
            "/usr/local/lib/python3.10/dist-packages/sklearn/ensemble/_forest.py:424: FutureWarning: `max_features='auto'` has been deprecated in 1.1 and will be removed in 1.3. To keep the past behaviour, explicitly set `max_features='sqrt'` or remove this parameter as it is also the default value for RandomForestClassifiers and ExtraTreesClassifiers.\n",
            "  warn(\n"
          ]
        },
        {
          "output_type": "stream",
          "name": "stdout",
          "text": [
            "[CV] END bootstrap=True, criterion=gini, max_depth=None, max_features=auto, min_samples_leaf=1, min_samples_split=10, n_estimators=50, random_state=42; total time=   0.1s\n",
            "[CV] END bootstrap=True, criterion=gini, max_depth=None, max_features=auto, min_samples_leaf=1, min_samples_split=10, n_estimators=50, random_state=42; total time=   0.1s\n"
          ]
        },
        {
          "output_type": "stream",
          "name": "stderr",
          "text": [
            "/usr/local/lib/python3.10/dist-packages/sklearn/ensemble/_forest.py:424: FutureWarning: `max_features='auto'` has been deprecated in 1.1 and will be removed in 1.3. To keep the past behaviour, explicitly set `max_features='sqrt'` or remove this parameter as it is also the default value for RandomForestClassifiers and ExtraTreesClassifiers.\n",
            "  warn(\n",
            "/usr/local/lib/python3.10/dist-packages/sklearn/ensemble/_forest.py:424: FutureWarning: `max_features='auto'` has been deprecated in 1.1 and will be removed in 1.3. To keep the past behaviour, explicitly set `max_features='sqrt'` or remove this parameter as it is also the default value for RandomForestClassifiers and ExtraTreesClassifiers.\n",
            "  warn(\n"
          ]
        },
        {
          "output_type": "stream",
          "name": "stdout",
          "text": [
            "[CV] END bootstrap=True, criterion=gini, max_depth=None, max_features=auto, min_samples_leaf=1, min_samples_split=10, n_estimators=100, random_state=42; total time=   0.2s\n"
          ]
        },
        {
          "output_type": "stream",
          "name": "stderr",
          "text": [
            "/usr/local/lib/python3.10/dist-packages/sklearn/ensemble/_forest.py:424: FutureWarning: `max_features='auto'` has been deprecated in 1.1 and will be removed in 1.3. To keep the past behaviour, explicitly set `max_features='sqrt'` or remove this parameter as it is also the default value for RandomForestClassifiers and ExtraTreesClassifiers.\n",
            "  warn(\n"
          ]
        },
        {
          "output_type": "stream",
          "name": "stdout",
          "text": [
            "[CV] END bootstrap=True, criterion=gini, max_depth=None, max_features=auto, min_samples_leaf=1, min_samples_split=10, n_estimators=100, random_state=42; total time=   0.2s\n",
            "[CV] END bootstrap=True, criterion=gini, max_depth=None, max_features=auto, min_samples_leaf=1, min_samples_split=10, n_estimators=100, random_state=42; total time=   0.2s\n"
          ]
        },
        {
          "output_type": "stream",
          "name": "stderr",
          "text": [
            "/usr/local/lib/python3.10/dist-packages/sklearn/ensemble/_forest.py:424: FutureWarning: `max_features='auto'` has been deprecated in 1.1 and will be removed in 1.3. To keep the past behaviour, explicitly set `max_features='sqrt'` or remove this parameter as it is also the default value for RandomForestClassifiers and ExtraTreesClassifiers.\n",
            "  warn(\n",
            "/usr/local/lib/python3.10/dist-packages/sklearn/ensemble/_forest.py:424: FutureWarning: `max_features='auto'` has been deprecated in 1.1 and will be removed in 1.3. To keep the past behaviour, explicitly set `max_features='sqrt'` or remove this parameter as it is also the default value for RandomForestClassifiers and ExtraTreesClassifiers.\n",
            "  warn(\n"
          ]
        },
        {
          "output_type": "stream",
          "name": "stdout",
          "text": [
            "[CV] END bootstrap=True, criterion=gini, max_depth=None, max_features=auto, min_samples_leaf=1, min_samples_split=20, n_estimators=50, random_state=42; total time=   0.1s\n",
            "[CV] END bootstrap=True, criterion=gini, max_depth=None, max_features=auto, min_samples_leaf=1, min_samples_split=20, n_estimators=50, random_state=42; total time=   0.1s\n"
          ]
        },
        {
          "output_type": "stream",
          "name": "stderr",
          "text": [
            "/usr/local/lib/python3.10/dist-packages/sklearn/ensemble/_forest.py:424: FutureWarning: `max_features='auto'` has been deprecated in 1.1 and will be removed in 1.3. To keep the past behaviour, explicitly set `max_features='sqrt'` or remove this parameter as it is also the default value for RandomForestClassifiers and ExtraTreesClassifiers.\n",
            "  warn(\n",
            "/usr/local/lib/python3.10/dist-packages/sklearn/ensemble/_forest.py:424: FutureWarning: `max_features='auto'` has been deprecated in 1.1 and will be removed in 1.3. To keep the past behaviour, explicitly set `max_features='sqrt'` or remove this parameter as it is also the default value for RandomForestClassifiers and ExtraTreesClassifiers.\n",
            "  warn(\n"
          ]
        },
        {
          "output_type": "stream",
          "name": "stdout",
          "text": [
            "[CV] END bootstrap=True, criterion=gini, max_depth=None, max_features=auto, min_samples_leaf=1, min_samples_split=20, n_estimators=50, random_state=42; total time=   0.1s\n",
            "[CV] END bootstrap=True, criterion=gini, max_depth=None, max_features=auto, min_samples_leaf=1, min_samples_split=20, n_estimators=100, random_state=42; total time=   0.2s\n"
          ]
        },
        {
          "output_type": "stream",
          "name": "stderr",
          "text": [
            "/usr/local/lib/python3.10/dist-packages/sklearn/ensemble/_forest.py:424: FutureWarning: `max_features='auto'` has been deprecated in 1.1 and will be removed in 1.3. To keep the past behaviour, explicitly set `max_features='sqrt'` or remove this parameter as it is also the default value for RandomForestClassifiers and ExtraTreesClassifiers.\n",
            "  warn(\n",
            "/usr/local/lib/python3.10/dist-packages/sklearn/ensemble/_forest.py:424: FutureWarning: `max_features='auto'` has been deprecated in 1.1 and will be removed in 1.3. To keep the past behaviour, explicitly set `max_features='sqrt'` or remove this parameter as it is also the default value for RandomForestClassifiers and ExtraTreesClassifiers.\n",
            "  warn(\n"
          ]
        },
        {
          "output_type": "stream",
          "name": "stdout",
          "text": [
            "[CV] END bootstrap=True, criterion=gini, max_depth=None, max_features=auto, min_samples_leaf=1, min_samples_split=20, n_estimators=100, random_state=42; total time=   0.2s\n",
            "[CV] END bootstrap=True, criterion=gini, max_depth=None, max_features=auto, min_samples_leaf=1, min_samples_split=20, n_estimators=100, random_state=42; total time=   0.2s\n"
          ]
        },
        {
          "output_type": "stream",
          "name": "stderr",
          "text": [
            "/usr/local/lib/python3.10/dist-packages/sklearn/ensemble/_forest.py:424: FutureWarning: `max_features='auto'` has been deprecated in 1.1 and will be removed in 1.3. To keep the past behaviour, explicitly set `max_features='sqrt'` or remove this parameter as it is also the default value for RandomForestClassifiers and ExtraTreesClassifiers.\n",
            "  warn(\n",
            "/usr/local/lib/python3.10/dist-packages/sklearn/ensemble/_forest.py:424: FutureWarning: `max_features='auto'` has been deprecated in 1.1 and will be removed in 1.3. To keep the past behaviour, explicitly set `max_features='sqrt'` or remove this parameter as it is also the default value for RandomForestClassifiers and ExtraTreesClassifiers.\n",
            "  warn(\n"
          ]
        },
        {
          "output_type": "stream",
          "name": "stdout",
          "text": [
            "[CV] END bootstrap=True, criterion=gini, max_depth=None, max_features=auto, min_samples_leaf=2, min_samples_split=2, n_estimators=50, random_state=42; total time=   0.1s\n",
            "[CV] END bootstrap=True, criterion=gini, max_depth=None, max_features=auto, min_samples_leaf=2, min_samples_split=2, n_estimators=50, random_state=42; total time=   0.1s\n"
          ]
        },
        {
          "output_type": "stream",
          "name": "stderr",
          "text": [
            "/usr/local/lib/python3.10/dist-packages/sklearn/ensemble/_forest.py:424: FutureWarning: `max_features='auto'` has been deprecated in 1.1 and will be removed in 1.3. To keep the past behaviour, explicitly set `max_features='sqrt'` or remove this parameter as it is also the default value for RandomForestClassifiers and ExtraTreesClassifiers.\n",
            "  warn(\n",
            "/usr/local/lib/python3.10/dist-packages/sklearn/ensemble/_forest.py:424: FutureWarning: `max_features='auto'` has been deprecated in 1.1 and will be removed in 1.3. To keep the past behaviour, explicitly set `max_features='sqrt'` or remove this parameter as it is also the default value for RandomForestClassifiers and ExtraTreesClassifiers.\n",
            "  warn(\n"
          ]
        },
        {
          "output_type": "stream",
          "name": "stdout",
          "text": [
            "[CV] END bootstrap=True, criterion=gini, max_depth=None, max_features=auto, min_samples_leaf=2, min_samples_split=2, n_estimators=50, random_state=42; total time=   0.1s\n"
          ]
        },
        {
          "output_type": "error",
          "ename": "KeyboardInterrupt",
          "evalue": "",
          "traceback": [
            "\u001b[0;31m---------------------------------------------------------------------------\u001b[0m",
            "\u001b[0;31mKeyboardInterrupt\u001b[0m                         Traceback (most recent call last)",
            "\u001b[0;32m<ipython-input-78-9a4563d54a45>\u001b[0m in \u001b[0;36m<cell line: 17>\u001b[0;34m()\u001b[0m\n\u001b[1;32m     15\u001b[0m     \u001b[0;34m'random_state'\u001b[0m\u001b[0;34m:\u001b[0m \u001b[0;34m[\u001b[0m\u001b[0;36m42\u001b[0m\u001b[0;34m]\u001b[0m                           \u001b[0;31m# Random seed for reproducibility\u001b[0m\u001b[0;34m\u001b[0m\u001b[0;34m\u001b[0m\u001b[0m\n\u001b[1;32m     16\u001b[0m }\n\u001b[0;32m---> 17\u001b[0;31m test_grid_search_and_fit(\n\u001b[0m\u001b[1;32m     18\u001b[0m     \u001b[0mclassifier\u001b[0m\u001b[0;34m=\u001b[0m\u001b[0mRandomForestClassifier\u001b[0m\u001b[0;34m(\u001b[0m\u001b[0;34m)\u001b[0m\u001b[0;34m,\u001b[0m\u001b[0;31m#RF\u001b[0m\u001b[0;34m\u001b[0m\u001b[0;34m\u001b[0m\u001b[0m\n\u001b[1;32m     19\u001b[0m     \u001b[0mparam_grid\u001b[0m\u001b[0;34m=\u001b[0m\u001b[0mrf_param_grid\u001b[0m\u001b[0;34m,\u001b[0m\u001b[0;34m\u001b[0m\u001b[0;34m\u001b[0m\u001b[0m\n",
            "\u001b[0;32m<ipython-input-28-b98bcbc840d1>\u001b[0m in \u001b[0;36mtest_grid_search_and_fit\u001b[0;34m(classifier, param_grid, X, y)\u001b[0m\n\u001b[1;32m      1\u001b[0m \u001b[0;31m# Define and test grid_search_and_fit function\u001b[0m\u001b[0;34m\u001b[0m\u001b[0;34m\u001b[0m\u001b[0m\n\u001b[1;32m      2\u001b[0m \u001b[0;32mdef\u001b[0m \u001b[0mtest_grid_search_and_fit\u001b[0m\u001b[0;34m(\u001b[0m\u001b[0mclassifier\u001b[0m\u001b[0;34m,\u001b[0m \u001b[0mparam_grid\u001b[0m\u001b[0;34m,\u001b[0m \u001b[0mX\u001b[0m\u001b[0;34m,\u001b[0m \u001b[0my\u001b[0m\u001b[0;34m)\u001b[0m\u001b[0;34m:\u001b[0m\u001b[0;34m\u001b[0m\u001b[0;34m\u001b[0m\u001b[0m\n\u001b[0;32m----> 3\u001b[0;31m     \u001b[0mgrid_search_and_fit\u001b[0m\u001b[0;34m(\u001b[0m\u001b[0mclassifier\u001b[0m\u001b[0;34m,\u001b[0m \u001b[0mparam_grid\u001b[0m\u001b[0;34m,\u001b[0m \u001b[0mX\u001b[0m\u001b[0;34m,\u001b[0m \u001b[0my\u001b[0m\u001b[0;34m,\u001b[0m \u001b[0mverbosity\u001b[0m\u001b[0;34m=\u001b[0m\u001b[0;36m2\u001b[0m\u001b[0;34m)\u001b[0m\u001b[0;34m\u001b[0m\u001b[0;34m\u001b[0m\u001b[0m\n\u001b[0m",
            "\u001b[0;32m<ipython-input-72-256d2969602d>\u001b[0m in \u001b[0;36mgrid_search_and_fit\u001b[0;34m(classifier, param_grid, X, y, verbosity)\u001b[0m\n\u001b[1;32m     33\u001b[0m     \u001b[0;31m# Perform grid search\u001b[0m\u001b[0;34m\u001b[0m\u001b[0;34m\u001b[0m\u001b[0m\n\u001b[1;32m     34\u001b[0m     \u001b[0mgrid_search\u001b[0m \u001b[0;34m=\u001b[0m \u001b[0mGridSearchCV\u001b[0m\u001b[0;34m(\u001b[0m\u001b[0mclassifier\u001b[0m\u001b[0;34m,\u001b[0m \u001b[0mparam_grid\u001b[0m\u001b[0;34m,\u001b[0m \u001b[0mcv\u001b[0m\u001b[0;34m=\u001b[0m\u001b[0;36m3\u001b[0m\u001b[0;34m,\u001b[0m \u001b[0mverbose\u001b[0m\u001b[0;34m=\u001b[0m\u001b[0mverbosity\u001b[0m\u001b[0;34m,\u001b[0m \u001b[0mscoring\u001b[0m\u001b[0;34m=\u001b[0m\u001b[0;34m\"f1_weighted\"\u001b[0m\u001b[0;34m)\u001b[0m\u001b[0;34m\u001b[0m\u001b[0;34m\u001b[0m\u001b[0m\n\u001b[0;32m---> 35\u001b[0;31m     \u001b[0mgrid_search\u001b[0m\u001b[0;34m.\u001b[0m\u001b[0mfit\u001b[0m\u001b[0;34m(\u001b[0m\u001b[0mX_train\u001b[0m\u001b[0;34m,\u001b[0m \u001b[0my_train\u001b[0m\u001b[0;34m)\u001b[0m\u001b[0;34m\u001b[0m\u001b[0;34m\u001b[0m\u001b[0m\n\u001b[0m\u001b[1;32m     36\u001b[0m \u001b[0;34m\u001b[0m\u001b[0m\n\u001b[1;32m     37\u001b[0m     \u001b[0;31m# Get the best parameters\u001b[0m\u001b[0;34m\u001b[0m\u001b[0;34m\u001b[0m\u001b[0m\n",
            "\u001b[0;32m/usr/local/lib/python3.10/dist-packages/sklearn/model_selection/_search.py\u001b[0m in \u001b[0;36mfit\u001b[0;34m(self, X, y, groups, **fit_params)\u001b[0m\n\u001b[1;32m    872\u001b[0m                 \u001b[0;32mreturn\u001b[0m \u001b[0mresults\u001b[0m\u001b[0;34m\u001b[0m\u001b[0;34m\u001b[0m\u001b[0m\n\u001b[1;32m    873\u001b[0m \u001b[0;34m\u001b[0m\u001b[0m\n\u001b[0;32m--> 874\u001b[0;31m             \u001b[0mself\u001b[0m\u001b[0;34m.\u001b[0m\u001b[0m_run_search\u001b[0m\u001b[0;34m(\u001b[0m\u001b[0mevaluate_candidates\u001b[0m\u001b[0;34m)\u001b[0m\u001b[0;34m\u001b[0m\u001b[0;34m\u001b[0m\u001b[0m\n\u001b[0m\u001b[1;32m    875\u001b[0m \u001b[0;34m\u001b[0m\u001b[0m\n\u001b[1;32m    876\u001b[0m             \u001b[0;31m# multimetric is determined here because in the case of a callable\u001b[0m\u001b[0;34m\u001b[0m\u001b[0;34m\u001b[0m\u001b[0m\n",
            "\u001b[0;32m/usr/local/lib/python3.10/dist-packages/sklearn/model_selection/_search.py\u001b[0m in \u001b[0;36m_run_search\u001b[0;34m(self, evaluate_candidates)\u001b[0m\n\u001b[1;32m   1386\u001b[0m     \u001b[0;32mdef\u001b[0m \u001b[0m_run_search\u001b[0m\u001b[0;34m(\u001b[0m\u001b[0mself\u001b[0m\u001b[0;34m,\u001b[0m \u001b[0mevaluate_candidates\u001b[0m\u001b[0;34m)\u001b[0m\u001b[0;34m:\u001b[0m\u001b[0;34m\u001b[0m\u001b[0;34m\u001b[0m\u001b[0m\n\u001b[1;32m   1387\u001b[0m         \u001b[0;34m\"\"\"Search all candidates in param_grid\"\"\"\u001b[0m\u001b[0;34m\u001b[0m\u001b[0;34m\u001b[0m\u001b[0m\n\u001b[0;32m-> 1388\u001b[0;31m         \u001b[0mevaluate_candidates\u001b[0m\u001b[0;34m(\u001b[0m\u001b[0mParameterGrid\u001b[0m\u001b[0;34m(\u001b[0m\u001b[0mself\u001b[0m\u001b[0;34m.\u001b[0m\u001b[0mparam_grid\u001b[0m\u001b[0;34m)\u001b[0m\u001b[0;34m)\u001b[0m\u001b[0;34m\u001b[0m\u001b[0;34m\u001b[0m\u001b[0m\n\u001b[0m\u001b[1;32m   1389\u001b[0m \u001b[0;34m\u001b[0m\u001b[0m\n\u001b[1;32m   1390\u001b[0m \u001b[0;34m\u001b[0m\u001b[0m\n",
            "\u001b[0;32m/usr/local/lib/python3.10/dist-packages/sklearn/model_selection/_search.py\u001b[0m in \u001b[0;36mevaluate_candidates\u001b[0;34m(candidate_params, cv, more_results)\u001b[0m\n\u001b[1;32m    819\u001b[0m                     )\n\u001b[1;32m    820\u001b[0m \u001b[0;34m\u001b[0m\u001b[0m\n\u001b[0;32m--> 821\u001b[0;31m                 out = parallel(\n\u001b[0m\u001b[1;32m    822\u001b[0m                     delayed(_fit_and_score)(\n\u001b[1;32m    823\u001b[0m                         \u001b[0mclone\u001b[0m\u001b[0;34m(\u001b[0m\u001b[0mbase_estimator\u001b[0m\u001b[0;34m)\u001b[0m\u001b[0;34m,\u001b[0m\u001b[0;34m\u001b[0m\u001b[0;34m\u001b[0m\u001b[0m\n",
            "\u001b[0;32m/usr/local/lib/python3.10/dist-packages/sklearn/utils/parallel.py\u001b[0m in \u001b[0;36m__call__\u001b[0;34m(self, iterable)\u001b[0m\n\u001b[1;32m     61\u001b[0m             \u001b[0;32mfor\u001b[0m \u001b[0mdelayed_func\u001b[0m\u001b[0;34m,\u001b[0m \u001b[0margs\u001b[0m\u001b[0;34m,\u001b[0m \u001b[0mkwargs\u001b[0m \u001b[0;32min\u001b[0m \u001b[0miterable\u001b[0m\u001b[0;34m\u001b[0m\u001b[0;34m\u001b[0m\u001b[0m\n\u001b[1;32m     62\u001b[0m         )\n\u001b[0;32m---> 63\u001b[0;31m         \u001b[0;32mreturn\u001b[0m \u001b[0msuper\u001b[0m\u001b[0;34m(\u001b[0m\u001b[0;34m)\u001b[0m\u001b[0;34m.\u001b[0m\u001b[0m__call__\u001b[0m\u001b[0;34m(\u001b[0m\u001b[0miterable_with_config\u001b[0m\u001b[0;34m)\u001b[0m\u001b[0;34m\u001b[0m\u001b[0;34m\u001b[0m\u001b[0m\n\u001b[0m\u001b[1;32m     64\u001b[0m \u001b[0;34m\u001b[0m\u001b[0m\n\u001b[1;32m     65\u001b[0m \u001b[0;34m\u001b[0m\u001b[0m\n",
            "\u001b[0;32m/usr/local/lib/python3.10/dist-packages/joblib/parallel.py\u001b[0m in \u001b[0;36m__call__\u001b[0;34m(self, iterable)\u001b[0m\n\u001b[1;32m   1861\u001b[0m             \u001b[0moutput\u001b[0m \u001b[0;34m=\u001b[0m \u001b[0mself\u001b[0m\u001b[0;34m.\u001b[0m\u001b[0m_get_sequential_output\u001b[0m\u001b[0;34m(\u001b[0m\u001b[0miterable\u001b[0m\u001b[0;34m)\u001b[0m\u001b[0;34m\u001b[0m\u001b[0;34m\u001b[0m\u001b[0m\n\u001b[1;32m   1862\u001b[0m             \u001b[0mnext\u001b[0m\u001b[0;34m(\u001b[0m\u001b[0moutput\u001b[0m\u001b[0;34m)\u001b[0m\u001b[0;34m\u001b[0m\u001b[0;34m\u001b[0m\u001b[0m\n\u001b[0;32m-> 1863\u001b[0;31m             \u001b[0;32mreturn\u001b[0m \u001b[0moutput\u001b[0m \u001b[0;32mif\u001b[0m \u001b[0mself\u001b[0m\u001b[0;34m.\u001b[0m\u001b[0mreturn_generator\u001b[0m \u001b[0;32melse\u001b[0m \u001b[0mlist\u001b[0m\u001b[0;34m(\u001b[0m\u001b[0moutput\u001b[0m\u001b[0;34m)\u001b[0m\u001b[0;34m\u001b[0m\u001b[0;34m\u001b[0m\u001b[0m\n\u001b[0m\u001b[1;32m   1864\u001b[0m \u001b[0;34m\u001b[0m\u001b[0m\n\u001b[1;32m   1865\u001b[0m         \u001b[0;31m# Let's create an ID that uniquely identifies the current call. If the\u001b[0m\u001b[0;34m\u001b[0m\u001b[0;34m\u001b[0m\u001b[0m\n",
            "\u001b[0;32m/usr/local/lib/python3.10/dist-packages/joblib/parallel.py\u001b[0m in \u001b[0;36m_get_sequential_output\u001b[0;34m(self, iterable)\u001b[0m\n\u001b[1;32m   1790\u001b[0m                 \u001b[0mself\u001b[0m\u001b[0;34m.\u001b[0m\u001b[0mn_dispatched_batches\u001b[0m \u001b[0;34m+=\u001b[0m \u001b[0;36m1\u001b[0m\u001b[0;34m\u001b[0m\u001b[0;34m\u001b[0m\u001b[0m\n\u001b[1;32m   1791\u001b[0m                 \u001b[0mself\u001b[0m\u001b[0;34m.\u001b[0m\u001b[0mn_dispatched_tasks\u001b[0m \u001b[0;34m+=\u001b[0m \u001b[0;36m1\u001b[0m\u001b[0;34m\u001b[0m\u001b[0;34m\u001b[0m\u001b[0m\n\u001b[0;32m-> 1792\u001b[0;31m                 \u001b[0mres\u001b[0m \u001b[0;34m=\u001b[0m \u001b[0mfunc\u001b[0m\u001b[0;34m(\u001b[0m\u001b[0;34m*\u001b[0m\u001b[0margs\u001b[0m\u001b[0;34m,\u001b[0m \u001b[0;34m**\u001b[0m\u001b[0mkwargs\u001b[0m\u001b[0;34m)\u001b[0m\u001b[0;34m\u001b[0m\u001b[0;34m\u001b[0m\u001b[0m\n\u001b[0m\u001b[1;32m   1793\u001b[0m                 \u001b[0mself\u001b[0m\u001b[0;34m.\u001b[0m\u001b[0mn_completed_tasks\u001b[0m \u001b[0;34m+=\u001b[0m \u001b[0;36m1\u001b[0m\u001b[0;34m\u001b[0m\u001b[0;34m\u001b[0m\u001b[0m\n\u001b[1;32m   1794\u001b[0m                 \u001b[0mself\u001b[0m\u001b[0;34m.\u001b[0m\u001b[0mprint_progress\u001b[0m\u001b[0;34m(\u001b[0m\u001b[0;34m)\u001b[0m\u001b[0;34m\u001b[0m\u001b[0;34m\u001b[0m\u001b[0m\n",
            "\u001b[0;32m/usr/local/lib/python3.10/dist-packages/sklearn/utils/parallel.py\u001b[0m in \u001b[0;36m__call__\u001b[0;34m(self, *args, **kwargs)\u001b[0m\n\u001b[1;32m    121\u001b[0m             \u001b[0mconfig\u001b[0m \u001b[0;34m=\u001b[0m \u001b[0;34m{\u001b[0m\u001b[0;34m}\u001b[0m\u001b[0;34m\u001b[0m\u001b[0;34m\u001b[0m\u001b[0m\n\u001b[1;32m    122\u001b[0m         \u001b[0;32mwith\u001b[0m \u001b[0mconfig_context\u001b[0m\u001b[0;34m(\u001b[0m\u001b[0;34m**\u001b[0m\u001b[0mconfig\u001b[0m\u001b[0;34m)\u001b[0m\u001b[0;34m:\u001b[0m\u001b[0;34m\u001b[0m\u001b[0;34m\u001b[0m\u001b[0m\n\u001b[0;32m--> 123\u001b[0;31m             \u001b[0;32mreturn\u001b[0m \u001b[0mself\u001b[0m\u001b[0;34m.\u001b[0m\u001b[0mfunction\u001b[0m\u001b[0;34m(\u001b[0m\u001b[0;34m*\u001b[0m\u001b[0margs\u001b[0m\u001b[0;34m,\u001b[0m \u001b[0;34m**\u001b[0m\u001b[0mkwargs\u001b[0m\u001b[0;34m)\u001b[0m\u001b[0;34m\u001b[0m\u001b[0;34m\u001b[0m\u001b[0m\n\u001b[0m",
            "\u001b[0;32m/usr/local/lib/python3.10/dist-packages/sklearn/model_selection/_validation.py\u001b[0m in \u001b[0;36m_fit_and_score\u001b[0;34m(estimator, X, y, scorer, train, test, verbose, parameters, fit_params, return_train_score, return_parameters, return_n_test_samples, return_times, return_estimator, split_progress, candidate_progress, error_score)\u001b[0m\n\u001b[1;32m    684\u001b[0m             \u001b[0mestimator\u001b[0m\u001b[0;34m.\u001b[0m\u001b[0mfit\u001b[0m\u001b[0;34m(\u001b[0m\u001b[0mX_train\u001b[0m\u001b[0;34m,\u001b[0m \u001b[0;34m**\u001b[0m\u001b[0mfit_params\u001b[0m\u001b[0;34m)\u001b[0m\u001b[0;34m\u001b[0m\u001b[0;34m\u001b[0m\u001b[0m\n\u001b[1;32m    685\u001b[0m         \u001b[0;32melse\u001b[0m\u001b[0;34m:\u001b[0m\u001b[0;34m\u001b[0m\u001b[0;34m\u001b[0m\u001b[0m\n\u001b[0;32m--> 686\u001b[0;31m             \u001b[0mestimator\u001b[0m\u001b[0;34m.\u001b[0m\u001b[0mfit\u001b[0m\u001b[0;34m(\u001b[0m\u001b[0mX_train\u001b[0m\u001b[0;34m,\u001b[0m \u001b[0my_train\u001b[0m\u001b[0;34m,\u001b[0m \u001b[0;34m**\u001b[0m\u001b[0mfit_params\u001b[0m\u001b[0;34m)\u001b[0m\u001b[0;34m\u001b[0m\u001b[0;34m\u001b[0m\u001b[0m\n\u001b[0m\u001b[1;32m    687\u001b[0m \u001b[0;34m\u001b[0m\u001b[0m\n\u001b[1;32m    688\u001b[0m     \u001b[0;32mexcept\u001b[0m \u001b[0mException\u001b[0m\u001b[0;34m:\u001b[0m\u001b[0;34m\u001b[0m\u001b[0;34m\u001b[0m\u001b[0m\n",
            "\u001b[0;32m/usr/local/lib/python3.10/dist-packages/sklearn/ensemble/_forest.py\u001b[0m in \u001b[0;36mfit\u001b[0;34m(self, X, y, sample_weight)\u001b[0m\n\u001b[1;32m    343\u001b[0m         \u001b[0;32mif\u001b[0m \u001b[0missparse\u001b[0m\u001b[0;34m(\u001b[0m\u001b[0my\u001b[0m\u001b[0;34m)\u001b[0m\u001b[0;34m:\u001b[0m\u001b[0;34m\u001b[0m\u001b[0;34m\u001b[0m\u001b[0m\n\u001b[1;32m    344\u001b[0m             \u001b[0;32mraise\u001b[0m \u001b[0mValueError\u001b[0m\u001b[0;34m(\u001b[0m\u001b[0;34m\"sparse multilabel-indicator for y is not supported.\"\u001b[0m\u001b[0;34m)\u001b[0m\u001b[0;34m\u001b[0m\u001b[0;34m\u001b[0m\u001b[0m\n\u001b[0;32m--> 345\u001b[0;31m         X, y = self._validate_data(\n\u001b[0m\u001b[1;32m    346\u001b[0m             \u001b[0mX\u001b[0m\u001b[0;34m,\u001b[0m \u001b[0my\u001b[0m\u001b[0;34m,\u001b[0m \u001b[0mmulti_output\u001b[0m\u001b[0;34m=\u001b[0m\u001b[0;32mTrue\u001b[0m\u001b[0;34m,\u001b[0m \u001b[0maccept_sparse\u001b[0m\u001b[0;34m=\u001b[0m\u001b[0;34m\"csc\"\u001b[0m\u001b[0;34m,\u001b[0m \u001b[0mdtype\u001b[0m\u001b[0;34m=\u001b[0m\u001b[0mDTYPE\u001b[0m\u001b[0;34m\u001b[0m\u001b[0;34m\u001b[0m\u001b[0m\n\u001b[1;32m    347\u001b[0m         )\n",
            "\u001b[0;32m/usr/local/lib/python3.10/dist-packages/sklearn/base.py\u001b[0m in \u001b[0;36m_validate_data\u001b[0;34m(self, X, y, reset, validate_separately, **check_params)\u001b[0m\n\u001b[1;32m    582\u001b[0m                 \u001b[0my\u001b[0m \u001b[0;34m=\u001b[0m \u001b[0mcheck_array\u001b[0m\u001b[0;34m(\u001b[0m\u001b[0my\u001b[0m\u001b[0;34m,\u001b[0m \u001b[0minput_name\u001b[0m\u001b[0;34m=\u001b[0m\u001b[0;34m\"y\"\u001b[0m\u001b[0;34m,\u001b[0m \u001b[0;34m**\u001b[0m\u001b[0mcheck_y_params\u001b[0m\u001b[0;34m)\u001b[0m\u001b[0;34m\u001b[0m\u001b[0;34m\u001b[0m\u001b[0m\n\u001b[1;32m    583\u001b[0m             \u001b[0;32melse\u001b[0m\u001b[0;34m:\u001b[0m\u001b[0;34m\u001b[0m\u001b[0;34m\u001b[0m\u001b[0m\n\u001b[0;32m--> 584\u001b[0;31m                 \u001b[0mX\u001b[0m\u001b[0;34m,\u001b[0m \u001b[0my\u001b[0m \u001b[0;34m=\u001b[0m \u001b[0mcheck_X_y\u001b[0m\u001b[0;34m(\u001b[0m\u001b[0mX\u001b[0m\u001b[0;34m,\u001b[0m \u001b[0my\u001b[0m\u001b[0;34m,\u001b[0m \u001b[0;34m**\u001b[0m\u001b[0mcheck_params\u001b[0m\u001b[0;34m)\u001b[0m\u001b[0;34m\u001b[0m\u001b[0;34m\u001b[0m\u001b[0m\n\u001b[0m\u001b[1;32m    585\u001b[0m             \u001b[0mout\u001b[0m \u001b[0;34m=\u001b[0m \u001b[0mX\u001b[0m\u001b[0;34m,\u001b[0m \u001b[0my\u001b[0m\u001b[0;34m\u001b[0m\u001b[0;34m\u001b[0m\u001b[0m\n\u001b[1;32m    586\u001b[0m \u001b[0;34m\u001b[0m\u001b[0m\n",
            "\u001b[0;32m/usr/local/lib/python3.10/dist-packages/sklearn/utils/validation.py\u001b[0m in \u001b[0;36mcheck_X_y\u001b[0;34m(X, y, accept_sparse, accept_large_sparse, dtype, order, copy, force_all_finite, ensure_2d, allow_nd, multi_output, ensure_min_samples, ensure_min_features, y_numeric, estimator)\u001b[0m\n\u001b[1;32m   1104\u001b[0m         )\n\u001b[1;32m   1105\u001b[0m \u001b[0;34m\u001b[0m\u001b[0m\n\u001b[0;32m-> 1106\u001b[0;31m     X = check_array(\n\u001b[0m\u001b[1;32m   1107\u001b[0m         \u001b[0mX\u001b[0m\u001b[0;34m,\u001b[0m\u001b[0;34m\u001b[0m\u001b[0;34m\u001b[0m\u001b[0m\n\u001b[1;32m   1108\u001b[0m         \u001b[0maccept_sparse\u001b[0m\u001b[0;34m=\u001b[0m\u001b[0maccept_sparse\u001b[0m\u001b[0;34m,\u001b[0m\u001b[0;34m\u001b[0m\u001b[0;34m\u001b[0m\u001b[0m\n",
            "\u001b[0;32m/usr/local/lib/python3.10/dist-packages/sklearn/utils/validation.py\u001b[0m in \u001b[0;36mcheck_array\u001b[0;34m(array, accept_sparse, accept_large_sparse, dtype, order, copy, force_all_finite, ensure_2d, allow_nd, ensure_min_samples, ensure_min_features, estimator, input_name)\u001b[0m\n\u001b[1;32m    919\u001b[0m \u001b[0;34m\u001b[0m\u001b[0m\n\u001b[1;32m    920\u001b[0m         \u001b[0;32mif\u001b[0m \u001b[0mforce_all_finite\u001b[0m\u001b[0;34m:\u001b[0m\u001b[0;34m\u001b[0m\u001b[0;34m\u001b[0m\u001b[0m\n\u001b[0;32m--> 921\u001b[0;31m             _assert_all_finite(\n\u001b[0m\u001b[1;32m    922\u001b[0m                 \u001b[0marray\u001b[0m\u001b[0;34m,\u001b[0m\u001b[0;34m\u001b[0m\u001b[0;34m\u001b[0m\u001b[0m\n\u001b[1;32m    923\u001b[0m                 \u001b[0minput_name\u001b[0m\u001b[0;34m=\u001b[0m\u001b[0minput_name\u001b[0m\u001b[0;34m,\u001b[0m\u001b[0;34m\u001b[0m\u001b[0;34m\u001b[0m\u001b[0m\n",
            "\u001b[0;32m/usr/local/lib/python3.10/dist-packages/sklearn/utils/validation.py\u001b[0m in \u001b[0;36m_assert_all_finite\u001b[0;34m(X, allow_nan, msg_dtype, estimator_name, input_name)\u001b[0m\n\u001b[1;32m     94\u001b[0m \u001b[0;34m\u001b[0m\u001b[0m\n\u001b[1;32m     95\u001b[0m \u001b[0;34m\u001b[0m\u001b[0m\n\u001b[0;32m---> 96\u001b[0;31m def _assert_all_finite(\n\u001b[0m\u001b[1;32m     97\u001b[0m     \u001b[0mX\u001b[0m\u001b[0;34m,\u001b[0m \u001b[0mallow_nan\u001b[0m\u001b[0;34m=\u001b[0m\u001b[0;32mFalse\u001b[0m\u001b[0;34m,\u001b[0m \u001b[0mmsg_dtype\u001b[0m\u001b[0;34m=\u001b[0m\u001b[0;32mNone\u001b[0m\u001b[0;34m,\u001b[0m \u001b[0mestimator_name\u001b[0m\u001b[0;34m=\u001b[0m\u001b[0;32mNone\u001b[0m\u001b[0;34m,\u001b[0m \u001b[0minput_name\u001b[0m\u001b[0;34m=\u001b[0m\u001b[0;34m\"\"\u001b[0m\u001b[0;34m\u001b[0m\u001b[0;34m\u001b[0m\u001b[0m\n\u001b[1;32m     98\u001b[0m ):\n",
            "\u001b[0;31mKeyboardInterrupt\u001b[0m: "
          ]
        }
      ]
    },
    {
      "cell_type": "code",
      "source": [
        "from sklearn.ensemble import BaggingClassifier\n",
        "from sklearn.tree import DecisionTreeClassifier\n",
        "\n",
        "# Base classifier\n",
        "base_classifier = DecisionTreeClassifier(random_state=42)\n",
        "\n",
        "X = df_mean.drop(columns=['diagnosis', 'stage', 'plasma_CA19_9'])\n",
        "y = df_mean['diagnosis']  # Target variable\n",
        "\n",
        "\n",
        "\n",
        "# Bagging Classifier Parameter Grid\n",
        "bagging_param_grid = {\n",
        "    'base_estimator': [base_classifier],\n",
        "    'n_estimators': [50, 100, 150],         # Number of base classifiers in the ensemble\n",
        "    'max_samples': [0.5, 0.7, 0.9],        # Fraction of samples used for training each base classifier\n",
        "    'max_features': [0.5, 0.7, 0.9],       # Fraction of features used for training each base classifier\n",
        "    'random_state': [42]\n",
        "}\n",
        "\n",
        "test_grid_search_and_fit(\n",
        "    classifier=BaggingClassifier(),#KNN\n",
        "    param_grid=bagging_param_grid,\n",
        "    X=X,\n",
        "    y=y\n",
        ")"
      ],
      "metadata": {
        "colab": {
          "base_uri": "https://localhost:8080/"
        },
        "id": "9OEKqMhxBFDQ",
        "outputId": "388ab575-dafd-4e34-8739-58e3d9366c27"
      },
      "execution_count": 53,
      "outputs": [
        {
          "output_type": "stream",
          "name": "stdout",
          "text": [
            "Model results with default hyperparameters\n",
            "Average Accuracy: 0.9400153217568947\n",
            "Average Precision: 0.9336714470131537\n",
            "Average Recall: 0.9400153217568947\n",
            "Average F1 Score: 0.9248163833875159\n",
            "Fitting 3 folds for each of 27 candidates, totalling 81 fits\n",
            "[CV] END base_estimator=DecisionTreeClassifier(random_state=42), max_features=0.5, max_samples=0.5, n_estimators=50, random_state=42; total time=   0.2s\n"
          ]
        },
        {
          "output_type": "stream",
          "name": "stderr",
          "text": [
            "/usr/local/lib/python3.10/dist-packages/sklearn/ensemble/_base.py:166: FutureWarning: `base_estimator` was renamed to `estimator` in version 1.2 and will be removed in 1.4.\n",
            "  warnings.warn(\n",
            "/usr/local/lib/python3.10/dist-packages/sklearn/ensemble/_base.py:166: FutureWarning: `base_estimator` was renamed to `estimator` in version 1.2 and will be removed in 1.4.\n",
            "  warnings.warn(\n"
          ]
        },
        {
          "output_type": "stream",
          "name": "stdout",
          "text": [
            "[CV] END base_estimator=DecisionTreeClassifier(random_state=42), max_features=0.5, max_samples=0.5, n_estimators=50, random_state=42; total time=   0.2s\n",
            "[CV] END base_estimator=DecisionTreeClassifier(random_state=42), max_features=0.5, max_samples=0.5, n_estimators=50, random_state=42; total time=   0.2s\n"
          ]
        },
        {
          "output_type": "stream",
          "name": "stderr",
          "text": [
            "/usr/local/lib/python3.10/dist-packages/sklearn/ensemble/_base.py:166: FutureWarning: `base_estimator` was renamed to `estimator` in version 1.2 and will be removed in 1.4.\n",
            "  warnings.warn(\n",
            "/usr/local/lib/python3.10/dist-packages/sklearn/ensemble/_base.py:166: FutureWarning: `base_estimator` was renamed to `estimator` in version 1.2 and will be removed in 1.4.\n",
            "  warnings.warn(\n"
          ]
        },
        {
          "output_type": "stream",
          "name": "stdout",
          "text": [
            "[CV] END base_estimator=DecisionTreeClassifier(random_state=42), max_features=0.5, max_samples=0.5, n_estimators=100, random_state=42; total time=   0.3s\n"
          ]
        },
        {
          "output_type": "stream",
          "name": "stderr",
          "text": [
            "/usr/local/lib/python3.10/dist-packages/sklearn/ensemble/_base.py:166: FutureWarning: `base_estimator` was renamed to `estimator` in version 1.2 and will be removed in 1.4.\n",
            "  warnings.warn(\n"
          ]
        },
        {
          "output_type": "stream",
          "name": "stdout",
          "text": [
            "[CV] END base_estimator=DecisionTreeClassifier(random_state=42), max_features=0.5, max_samples=0.5, n_estimators=100, random_state=42; total time=   0.3s\n"
          ]
        },
        {
          "output_type": "stream",
          "name": "stderr",
          "text": [
            "/usr/local/lib/python3.10/dist-packages/sklearn/ensemble/_base.py:166: FutureWarning: `base_estimator` was renamed to `estimator` in version 1.2 and will be removed in 1.4.\n",
            "  warnings.warn(\n"
          ]
        },
        {
          "output_type": "stream",
          "name": "stdout",
          "text": [
            "[CV] END base_estimator=DecisionTreeClassifier(random_state=42), max_features=0.5, max_samples=0.5, n_estimators=100, random_state=42; total time=   0.4s\n"
          ]
        },
        {
          "output_type": "stream",
          "name": "stderr",
          "text": [
            "/usr/local/lib/python3.10/dist-packages/sklearn/ensemble/_base.py:166: FutureWarning: `base_estimator` was renamed to `estimator` in version 1.2 and will be removed in 1.4.\n",
            "  warnings.warn(\n"
          ]
        },
        {
          "output_type": "stream",
          "name": "stdout",
          "text": [
            "[CV] END base_estimator=DecisionTreeClassifier(random_state=42), max_features=0.5, max_samples=0.5, n_estimators=150, random_state=42; total time=   0.5s\n"
          ]
        },
        {
          "output_type": "stream",
          "name": "stderr",
          "text": [
            "/usr/local/lib/python3.10/dist-packages/sklearn/ensemble/_base.py:166: FutureWarning: `base_estimator` was renamed to `estimator` in version 1.2 and will be removed in 1.4.\n",
            "  warnings.warn(\n"
          ]
        },
        {
          "output_type": "stream",
          "name": "stdout",
          "text": [
            "[CV] END base_estimator=DecisionTreeClassifier(random_state=42), max_features=0.5, max_samples=0.5, n_estimators=150, random_state=42; total time=   0.5s\n"
          ]
        },
        {
          "output_type": "stream",
          "name": "stderr",
          "text": [
            "/usr/local/lib/python3.10/dist-packages/sklearn/ensemble/_base.py:166: FutureWarning: `base_estimator` was renamed to `estimator` in version 1.2 and will be removed in 1.4.\n",
            "  warnings.warn(\n"
          ]
        },
        {
          "output_type": "stream",
          "name": "stdout",
          "text": [
            "[CV] END base_estimator=DecisionTreeClassifier(random_state=42), max_features=0.5, max_samples=0.5, n_estimators=150, random_state=42; total time=   0.5s\n",
            "[CV] END base_estimator=DecisionTreeClassifier(random_state=42), max_features=0.5, max_samples=0.7, n_estimators=50, random_state=42; total time=   0.2s\n"
          ]
        },
        {
          "output_type": "stream",
          "name": "stderr",
          "text": [
            "/usr/local/lib/python3.10/dist-packages/sklearn/ensemble/_base.py:166: FutureWarning: `base_estimator` was renamed to `estimator` in version 1.2 and will be removed in 1.4.\n",
            "  warnings.warn(\n",
            "/usr/local/lib/python3.10/dist-packages/sklearn/ensemble/_base.py:166: FutureWarning: `base_estimator` was renamed to `estimator` in version 1.2 and will be removed in 1.4.\n",
            "  warnings.warn(\n"
          ]
        },
        {
          "output_type": "stream",
          "name": "stdout",
          "text": [
            "[CV] END base_estimator=DecisionTreeClassifier(random_state=42), max_features=0.5, max_samples=0.7, n_estimators=50, random_state=42; total time=   0.2s\n",
            "[CV] END base_estimator=DecisionTreeClassifier(random_state=42), max_features=0.5, max_samples=0.7, n_estimators=50, random_state=42; total time=   0.1s\n"
          ]
        },
        {
          "output_type": "stream",
          "name": "stderr",
          "text": [
            "/usr/local/lib/python3.10/dist-packages/sklearn/ensemble/_base.py:166: FutureWarning: `base_estimator` was renamed to `estimator` in version 1.2 and will be removed in 1.4.\n",
            "  warnings.warn(\n",
            "/usr/local/lib/python3.10/dist-packages/sklearn/ensemble/_base.py:166: FutureWarning: `base_estimator` was renamed to `estimator` in version 1.2 and will be removed in 1.4.\n",
            "  warnings.warn(\n"
          ]
        },
        {
          "output_type": "stream",
          "name": "stdout",
          "text": [
            "[CV] END base_estimator=DecisionTreeClassifier(random_state=42), max_features=0.5, max_samples=0.7, n_estimators=100, random_state=42; total time=   0.2s\n"
          ]
        },
        {
          "output_type": "stream",
          "name": "stderr",
          "text": [
            "/usr/local/lib/python3.10/dist-packages/sklearn/ensemble/_base.py:166: FutureWarning: `base_estimator` was renamed to `estimator` in version 1.2 and will be removed in 1.4.\n",
            "  warnings.warn(\n"
          ]
        },
        {
          "output_type": "stream",
          "name": "stdout",
          "text": [
            "[CV] END base_estimator=DecisionTreeClassifier(random_state=42), max_features=0.5, max_samples=0.7, n_estimators=100, random_state=42; total time=   0.2s\n"
          ]
        },
        {
          "output_type": "stream",
          "name": "stderr",
          "text": [
            "/usr/local/lib/python3.10/dist-packages/sklearn/ensemble/_base.py:166: FutureWarning: `base_estimator` was renamed to `estimator` in version 1.2 and will be removed in 1.4.\n",
            "  warnings.warn(\n"
          ]
        },
        {
          "output_type": "stream",
          "name": "stdout",
          "text": [
            "[CV] END base_estimator=DecisionTreeClassifier(random_state=42), max_features=0.5, max_samples=0.7, n_estimators=100, random_state=42; total time=   0.2s\n"
          ]
        },
        {
          "output_type": "stream",
          "name": "stderr",
          "text": [
            "/usr/local/lib/python3.10/dist-packages/sklearn/ensemble/_base.py:166: FutureWarning: `base_estimator` was renamed to `estimator` in version 1.2 and will be removed in 1.4.\n",
            "  warnings.warn(\n"
          ]
        },
        {
          "output_type": "stream",
          "name": "stdout",
          "text": [
            "[CV] END base_estimator=DecisionTreeClassifier(random_state=42), max_features=0.5, max_samples=0.7, n_estimators=150, random_state=42; total time=   0.4s\n"
          ]
        },
        {
          "output_type": "stream",
          "name": "stderr",
          "text": [
            "/usr/local/lib/python3.10/dist-packages/sklearn/ensemble/_base.py:166: FutureWarning: `base_estimator` was renamed to `estimator` in version 1.2 and will be removed in 1.4.\n",
            "  warnings.warn(\n"
          ]
        },
        {
          "output_type": "stream",
          "name": "stdout",
          "text": [
            "[CV] END base_estimator=DecisionTreeClassifier(random_state=42), max_features=0.5, max_samples=0.7, n_estimators=150, random_state=42; total time=   0.3s\n"
          ]
        },
        {
          "output_type": "stream",
          "name": "stderr",
          "text": [
            "/usr/local/lib/python3.10/dist-packages/sklearn/ensemble/_base.py:166: FutureWarning: `base_estimator` was renamed to `estimator` in version 1.2 and will be removed in 1.4.\n",
            "  warnings.warn(\n"
          ]
        },
        {
          "output_type": "stream",
          "name": "stdout",
          "text": [
            "[CV] END base_estimator=DecisionTreeClassifier(random_state=42), max_features=0.5, max_samples=0.7, n_estimators=150, random_state=42; total time=   0.3s\n",
            "[CV] END base_estimator=DecisionTreeClassifier(random_state=42), max_features=0.5, max_samples=0.9, n_estimators=50, random_state=42; total time=   0.1s\n"
          ]
        },
        {
          "output_type": "stream",
          "name": "stderr",
          "text": [
            "/usr/local/lib/python3.10/dist-packages/sklearn/ensemble/_base.py:166: FutureWarning: `base_estimator` was renamed to `estimator` in version 1.2 and will be removed in 1.4.\n",
            "  warnings.warn(\n",
            "/usr/local/lib/python3.10/dist-packages/sklearn/ensemble/_base.py:166: FutureWarning: `base_estimator` was renamed to `estimator` in version 1.2 and will be removed in 1.4.\n",
            "  warnings.warn(\n"
          ]
        },
        {
          "output_type": "stream",
          "name": "stdout",
          "text": [
            "[CV] END base_estimator=DecisionTreeClassifier(random_state=42), max_features=0.5, max_samples=0.9, n_estimators=50, random_state=42; total time=   0.1s\n",
            "[CV] END base_estimator=DecisionTreeClassifier(random_state=42), max_features=0.5, max_samples=0.9, n_estimators=50, random_state=42; total time=   0.1s\n"
          ]
        },
        {
          "output_type": "stream",
          "name": "stderr",
          "text": [
            "/usr/local/lib/python3.10/dist-packages/sklearn/ensemble/_base.py:166: FutureWarning: `base_estimator` was renamed to `estimator` in version 1.2 and will be removed in 1.4.\n",
            "  warnings.warn(\n",
            "/usr/local/lib/python3.10/dist-packages/sklearn/ensemble/_base.py:166: FutureWarning: `base_estimator` was renamed to `estimator` in version 1.2 and will be removed in 1.4.\n",
            "  warnings.warn(\n"
          ]
        },
        {
          "output_type": "stream",
          "name": "stdout",
          "text": [
            "[CV] END base_estimator=DecisionTreeClassifier(random_state=42), max_features=0.5, max_samples=0.9, n_estimators=100, random_state=42; total time=   0.2s\n"
          ]
        },
        {
          "output_type": "stream",
          "name": "stderr",
          "text": [
            "/usr/local/lib/python3.10/dist-packages/sklearn/ensemble/_base.py:166: FutureWarning: `base_estimator` was renamed to `estimator` in version 1.2 and will be removed in 1.4.\n",
            "  warnings.warn(\n"
          ]
        },
        {
          "output_type": "stream",
          "name": "stdout",
          "text": [
            "[CV] END base_estimator=DecisionTreeClassifier(random_state=42), max_features=0.5, max_samples=0.9, n_estimators=100, random_state=42; total time=   0.2s\n"
          ]
        },
        {
          "output_type": "stream",
          "name": "stderr",
          "text": [
            "/usr/local/lib/python3.10/dist-packages/sklearn/ensemble/_base.py:166: FutureWarning: `base_estimator` was renamed to `estimator` in version 1.2 and will be removed in 1.4.\n",
            "  warnings.warn(\n"
          ]
        },
        {
          "output_type": "stream",
          "name": "stdout",
          "text": [
            "[CV] END base_estimator=DecisionTreeClassifier(random_state=42), max_features=0.5, max_samples=0.9, n_estimators=100, random_state=42; total time=   0.2s\n"
          ]
        },
        {
          "output_type": "stream",
          "name": "stderr",
          "text": [
            "/usr/local/lib/python3.10/dist-packages/sklearn/ensemble/_base.py:166: FutureWarning: `base_estimator` was renamed to `estimator` in version 1.2 and will be removed in 1.4.\n",
            "  warnings.warn(\n"
          ]
        },
        {
          "output_type": "stream",
          "name": "stdout",
          "text": [
            "[CV] END base_estimator=DecisionTreeClassifier(random_state=42), max_features=0.5, max_samples=0.9, n_estimators=150, random_state=42; total time=   0.4s\n"
          ]
        },
        {
          "output_type": "stream",
          "name": "stderr",
          "text": [
            "/usr/local/lib/python3.10/dist-packages/sklearn/ensemble/_base.py:166: FutureWarning: `base_estimator` was renamed to `estimator` in version 1.2 and will be removed in 1.4.\n",
            "  warnings.warn(\n"
          ]
        },
        {
          "output_type": "stream",
          "name": "stdout",
          "text": [
            "[CV] END base_estimator=DecisionTreeClassifier(random_state=42), max_features=0.5, max_samples=0.9, n_estimators=150, random_state=42; total time=   0.3s\n"
          ]
        },
        {
          "output_type": "stream",
          "name": "stderr",
          "text": [
            "/usr/local/lib/python3.10/dist-packages/sklearn/ensemble/_base.py:166: FutureWarning: `base_estimator` was renamed to `estimator` in version 1.2 and will be removed in 1.4.\n",
            "  warnings.warn(\n"
          ]
        },
        {
          "output_type": "stream",
          "name": "stdout",
          "text": [
            "[CV] END base_estimator=DecisionTreeClassifier(random_state=42), max_features=0.5, max_samples=0.9, n_estimators=150, random_state=42; total time=   0.3s\n",
            "[CV] END base_estimator=DecisionTreeClassifier(random_state=42), max_features=0.7, max_samples=0.5, n_estimators=50, random_state=42; total time=   0.1s\n"
          ]
        },
        {
          "output_type": "stream",
          "name": "stderr",
          "text": [
            "/usr/local/lib/python3.10/dist-packages/sklearn/ensemble/_base.py:166: FutureWarning: `base_estimator` was renamed to `estimator` in version 1.2 and will be removed in 1.4.\n",
            "  warnings.warn(\n",
            "/usr/local/lib/python3.10/dist-packages/sklearn/ensemble/_base.py:166: FutureWarning: `base_estimator` was renamed to `estimator` in version 1.2 and will be removed in 1.4.\n",
            "  warnings.warn(\n"
          ]
        },
        {
          "output_type": "stream",
          "name": "stdout",
          "text": [
            "[CV] END base_estimator=DecisionTreeClassifier(random_state=42), max_features=0.7, max_samples=0.5, n_estimators=50, random_state=42; total time=   0.1s\n",
            "[CV] END base_estimator=DecisionTreeClassifier(random_state=42), max_features=0.7, max_samples=0.5, n_estimators=50, random_state=42; total time=   0.1s\n"
          ]
        },
        {
          "output_type": "stream",
          "name": "stderr",
          "text": [
            "/usr/local/lib/python3.10/dist-packages/sklearn/ensemble/_base.py:166: FutureWarning: `base_estimator` was renamed to `estimator` in version 1.2 and will be removed in 1.4.\n",
            "  warnings.warn(\n",
            "/usr/local/lib/python3.10/dist-packages/sklearn/ensemble/_base.py:166: FutureWarning: `base_estimator` was renamed to `estimator` in version 1.2 and will be removed in 1.4.\n",
            "  warnings.warn(\n"
          ]
        },
        {
          "output_type": "stream",
          "name": "stdout",
          "text": [
            "[CV] END base_estimator=DecisionTreeClassifier(random_state=42), max_features=0.7, max_samples=0.5, n_estimators=100, random_state=42; total time=   0.2s\n"
          ]
        },
        {
          "output_type": "stream",
          "name": "stderr",
          "text": [
            "/usr/local/lib/python3.10/dist-packages/sklearn/ensemble/_base.py:166: FutureWarning: `base_estimator` was renamed to `estimator` in version 1.2 and will be removed in 1.4.\n",
            "  warnings.warn(\n"
          ]
        },
        {
          "output_type": "stream",
          "name": "stdout",
          "text": [
            "[CV] END base_estimator=DecisionTreeClassifier(random_state=42), max_features=0.7, max_samples=0.5, n_estimators=100, random_state=42; total time=   0.2s\n"
          ]
        },
        {
          "output_type": "stream",
          "name": "stderr",
          "text": [
            "/usr/local/lib/python3.10/dist-packages/sklearn/ensemble/_base.py:166: FutureWarning: `base_estimator` was renamed to `estimator` in version 1.2 and will be removed in 1.4.\n",
            "  warnings.warn(\n"
          ]
        },
        {
          "output_type": "stream",
          "name": "stdout",
          "text": [
            "[CV] END base_estimator=DecisionTreeClassifier(random_state=42), max_features=0.7, max_samples=0.5, n_estimators=100, random_state=42; total time=   0.2s\n"
          ]
        },
        {
          "output_type": "stream",
          "name": "stderr",
          "text": [
            "/usr/local/lib/python3.10/dist-packages/sklearn/ensemble/_base.py:166: FutureWarning: `base_estimator` was renamed to `estimator` in version 1.2 and will be removed in 1.4.\n",
            "  warnings.warn(\n"
          ]
        },
        {
          "output_type": "stream",
          "name": "stdout",
          "text": [
            "[CV] END base_estimator=DecisionTreeClassifier(random_state=42), max_features=0.7, max_samples=0.5, n_estimators=150, random_state=42; total time=   0.3s\n"
          ]
        },
        {
          "output_type": "stream",
          "name": "stderr",
          "text": [
            "/usr/local/lib/python3.10/dist-packages/sklearn/ensemble/_base.py:166: FutureWarning: `base_estimator` was renamed to `estimator` in version 1.2 and will be removed in 1.4.\n",
            "  warnings.warn(\n"
          ]
        },
        {
          "output_type": "stream",
          "name": "stdout",
          "text": [
            "[CV] END base_estimator=DecisionTreeClassifier(random_state=42), max_features=0.7, max_samples=0.5, n_estimators=150, random_state=42; total time=   0.3s\n"
          ]
        },
        {
          "output_type": "stream",
          "name": "stderr",
          "text": [
            "/usr/local/lib/python3.10/dist-packages/sklearn/ensemble/_base.py:166: FutureWarning: `base_estimator` was renamed to `estimator` in version 1.2 and will be removed in 1.4.\n",
            "  warnings.warn(\n"
          ]
        },
        {
          "output_type": "stream",
          "name": "stdout",
          "text": [
            "[CV] END base_estimator=DecisionTreeClassifier(random_state=42), max_features=0.7, max_samples=0.5, n_estimators=150, random_state=42; total time=   0.3s\n",
            "[CV] END base_estimator=DecisionTreeClassifier(random_state=42), max_features=0.7, max_samples=0.7, n_estimators=50, random_state=42; total time=   0.1s\n"
          ]
        },
        {
          "output_type": "stream",
          "name": "stderr",
          "text": [
            "/usr/local/lib/python3.10/dist-packages/sklearn/ensemble/_base.py:166: FutureWarning: `base_estimator` was renamed to `estimator` in version 1.2 and will be removed in 1.4.\n",
            "  warnings.warn(\n",
            "/usr/local/lib/python3.10/dist-packages/sklearn/ensemble/_base.py:166: FutureWarning: `base_estimator` was renamed to `estimator` in version 1.2 and will be removed in 1.4.\n",
            "  warnings.warn(\n"
          ]
        },
        {
          "output_type": "stream",
          "name": "stdout",
          "text": [
            "[CV] END base_estimator=DecisionTreeClassifier(random_state=42), max_features=0.7, max_samples=0.7, n_estimators=50, random_state=42; total time=   0.1s\n",
            "[CV] END base_estimator=DecisionTreeClassifier(random_state=42), max_features=0.7, max_samples=0.7, n_estimators=50, random_state=42; total time=   0.1s\n"
          ]
        },
        {
          "output_type": "stream",
          "name": "stderr",
          "text": [
            "/usr/local/lib/python3.10/dist-packages/sklearn/ensemble/_base.py:166: FutureWarning: `base_estimator` was renamed to `estimator` in version 1.2 and will be removed in 1.4.\n",
            "  warnings.warn(\n",
            "/usr/local/lib/python3.10/dist-packages/sklearn/ensemble/_base.py:166: FutureWarning: `base_estimator` was renamed to `estimator` in version 1.2 and will be removed in 1.4.\n",
            "  warnings.warn(\n"
          ]
        },
        {
          "output_type": "stream",
          "name": "stdout",
          "text": [
            "[CV] END base_estimator=DecisionTreeClassifier(random_state=42), max_features=0.7, max_samples=0.7, n_estimators=100, random_state=42; total time=   0.2s\n"
          ]
        },
        {
          "output_type": "stream",
          "name": "stderr",
          "text": [
            "/usr/local/lib/python3.10/dist-packages/sklearn/ensemble/_base.py:166: FutureWarning: `base_estimator` was renamed to `estimator` in version 1.2 and will be removed in 1.4.\n",
            "  warnings.warn(\n"
          ]
        },
        {
          "output_type": "stream",
          "name": "stdout",
          "text": [
            "[CV] END base_estimator=DecisionTreeClassifier(random_state=42), max_features=0.7, max_samples=0.7, n_estimators=100, random_state=42; total time=   0.2s\n"
          ]
        },
        {
          "output_type": "stream",
          "name": "stderr",
          "text": [
            "/usr/local/lib/python3.10/dist-packages/sklearn/ensemble/_base.py:166: FutureWarning: `base_estimator` was renamed to `estimator` in version 1.2 and will be removed in 1.4.\n",
            "  warnings.warn(\n"
          ]
        },
        {
          "output_type": "stream",
          "name": "stdout",
          "text": [
            "[CV] END base_estimator=DecisionTreeClassifier(random_state=42), max_features=0.7, max_samples=0.7, n_estimators=100, random_state=42; total time=   0.2s\n"
          ]
        },
        {
          "output_type": "stream",
          "name": "stderr",
          "text": [
            "/usr/local/lib/python3.10/dist-packages/sklearn/ensemble/_base.py:166: FutureWarning: `base_estimator` was renamed to `estimator` in version 1.2 and will be removed in 1.4.\n",
            "  warnings.warn(\n"
          ]
        },
        {
          "output_type": "stream",
          "name": "stdout",
          "text": [
            "[CV] END base_estimator=DecisionTreeClassifier(random_state=42), max_features=0.7, max_samples=0.7, n_estimators=150, random_state=42; total time=   0.3s\n"
          ]
        },
        {
          "output_type": "stream",
          "name": "stderr",
          "text": [
            "/usr/local/lib/python3.10/dist-packages/sklearn/ensemble/_base.py:166: FutureWarning: `base_estimator` was renamed to `estimator` in version 1.2 and will be removed in 1.4.\n",
            "  warnings.warn(\n"
          ]
        },
        {
          "output_type": "stream",
          "name": "stdout",
          "text": [
            "[CV] END base_estimator=DecisionTreeClassifier(random_state=42), max_features=0.7, max_samples=0.7, n_estimators=150, random_state=42; total time=   0.3s\n"
          ]
        },
        {
          "output_type": "stream",
          "name": "stderr",
          "text": [
            "/usr/local/lib/python3.10/dist-packages/sklearn/ensemble/_base.py:166: FutureWarning: `base_estimator` was renamed to `estimator` in version 1.2 and will be removed in 1.4.\n",
            "  warnings.warn(\n"
          ]
        },
        {
          "output_type": "stream",
          "name": "stdout",
          "text": [
            "[CV] END base_estimator=DecisionTreeClassifier(random_state=42), max_features=0.7, max_samples=0.7, n_estimators=150, random_state=42; total time=   0.3s\n",
            "[CV] END base_estimator=DecisionTreeClassifier(random_state=42), max_features=0.7, max_samples=0.9, n_estimators=50, random_state=42; total time=   0.1s\n"
          ]
        },
        {
          "output_type": "stream",
          "name": "stderr",
          "text": [
            "/usr/local/lib/python3.10/dist-packages/sklearn/ensemble/_base.py:166: FutureWarning: `base_estimator` was renamed to `estimator` in version 1.2 and will be removed in 1.4.\n",
            "  warnings.warn(\n",
            "/usr/local/lib/python3.10/dist-packages/sklearn/ensemble/_base.py:166: FutureWarning: `base_estimator` was renamed to `estimator` in version 1.2 and will be removed in 1.4.\n",
            "  warnings.warn(\n"
          ]
        },
        {
          "output_type": "stream",
          "name": "stdout",
          "text": [
            "[CV] END base_estimator=DecisionTreeClassifier(random_state=42), max_features=0.7, max_samples=0.9, n_estimators=50, random_state=42; total time=   0.1s\n",
            "[CV] END base_estimator=DecisionTreeClassifier(random_state=42), max_features=0.7, max_samples=0.9, n_estimators=50, random_state=42; total time=   0.1s\n"
          ]
        },
        {
          "output_type": "stream",
          "name": "stderr",
          "text": [
            "/usr/local/lib/python3.10/dist-packages/sklearn/ensemble/_base.py:166: FutureWarning: `base_estimator` was renamed to `estimator` in version 1.2 and will be removed in 1.4.\n",
            "  warnings.warn(\n",
            "/usr/local/lib/python3.10/dist-packages/sklearn/ensemble/_base.py:166: FutureWarning: `base_estimator` was renamed to `estimator` in version 1.2 and will be removed in 1.4.\n",
            "  warnings.warn(\n"
          ]
        },
        {
          "output_type": "stream",
          "name": "stdout",
          "text": [
            "[CV] END base_estimator=DecisionTreeClassifier(random_state=42), max_features=0.7, max_samples=0.9, n_estimators=100, random_state=42; total time=   0.2s\n"
          ]
        },
        {
          "output_type": "stream",
          "name": "stderr",
          "text": [
            "/usr/local/lib/python3.10/dist-packages/sklearn/ensemble/_base.py:166: FutureWarning: `base_estimator` was renamed to `estimator` in version 1.2 and will be removed in 1.4.\n",
            "  warnings.warn(\n"
          ]
        },
        {
          "output_type": "stream",
          "name": "stdout",
          "text": [
            "[CV] END base_estimator=DecisionTreeClassifier(random_state=42), max_features=0.7, max_samples=0.9, n_estimators=100, random_state=42; total time=   0.3s\n"
          ]
        },
        {
          "output_type": "stream",
          "name": "stderr",
          "text": [
            "/usr/local/lib/python3.10/dist-packages/sklearn/ensemble/_base.py:166: FutureWarning: `base_estimator` was renamed to `estimator` in version 1.2 and will be removed in 1.4.\n",
            "  warnings.warn(\n"
          ]
        },
        {
          "output_type": "stream",
          "name": "stdout",
          "text": [
            "[CV] END base_estimator=DecisionTreeClassifier(random_state=42), max_features=0.7, max_samples=0.9, n_estimators=100, random_state=42; total time=   0.2s\n"
          ]
        },
        {
          "output_type": "stream",
          "name": "stderr",
          "text": [
            "/usr/local/lib/python3.10/dist-packages/sklearn/ensemble/_base.py:166: FutureWarning: `base_estimator` was renamed to `estimator` in version 1.2 and will be removed in 1.4.\n",
            "  warnings.warn(\n"
          ]
        },
        {
          "output_type": "stream",
          "name": "stdout",
          "text": [
            "[CV] END base_estimator=DecisionTreeClassifier(random_state=42), max_features=0.7, max_samples=0.9, n_estimators=150, random_state=42; total time=   0.4s\n"
          ]
        },
        {
          "output_type": "stream",
          "name": "stderr",
          "text": [
            "/usr/local/lib/python3.10/dist-packages/sklearn/ensemble/_base.py:166: FutureWarning: `base_estimator` was renamed to `estimator` in version 1.2 and will be removed in 1.4.\n",
            "  warnings.warn(\n"
          ]
        },
        {
          "output_type": "stream",
          "name": "stdout",
          "text": [
            "[CV] END base_estimator=DecisionTreeClassifier(random_state=42), max_features=0.7, max_samples=0.9, n_estimators=150, random_state=42; total time=   0.4s\n"
          ]
        },
        {
          "output_type": "stream",
          "name": "stderr",
          "text": [
            "/usr/local/lib/python3.10/dist-packages/sklearn/ensemble/_base.py:166: FutureWarning: `base_estimator` was renamed to `estimator` in version 1.2 and will be removed in 1.4.\n",
            "  warnings.warn(\n"
          ]
        },
        {
          "output_type": "stream",
          "name": "stdout",
          "text": [
            "[CV] END base_estimator=DecisionTreeClassifier(random_state=42), max_features=0.7, max_samples=0.9, n_estimators=150, random_state=42; total time=   0.5s\n",
            "[CV] END base_estimator=DecisionTreeClassifier(random_state=42), max_features=0.9, max_samples=0.5, n_estimators=50, random_state=42; total time=   0.2s\n"
          ]
        },
        {
          "output_type": "stream",
          "name": "stderr",
          "text": [
            "/usr/local/lib/python3.10/dist-packages/sklearn/ensemble/_base.py:166: FutureWarning: `base_estimator` was renamed to `estimator` in version 1.2 and will be removed in 1.4.\n",
            "  warnings.warn(\n",
            "/usr/local/lib/python3.10/dist-packages/sklearn/ensemble/_base.py:166: FutureWarning: `base_estimator` was renamed to `estimator` in version 1.2 and will be removed in 1.4.\n",
            "  warnings.warn(\n"
          ]
        },
        {
          "output_type": "stream",
          "name": "stdout",
          "text": [
            "[CV] END base_estimator=DecisionTreeClassifier(random_state=42), max_features=0.9, max_samples=0.5, n_estimators=50, random_state=42; total time=   0.2s\n",
            "[CV] END base_estimator=DecisionTreeClassifier(random_state=42), max_features=0.9, max_samples=0.5, n_estimators=50, random_state=42; total time=   0.2s\n"
          ]
        },
        {
          "output_type": "stream",
          "name": "stderr",
          "text": [
            "/usr/local/lib/python3.10/dist-packages/sklearn/ensemble/_base.py:166: FutureWarning: `base_estimator` was renamed to `estimator` in version 1.2 and will be removed in 1.4.\n",
            "  warnings.warn(\n",
            "/usr/local/lib/python3.10/dist-packages/sklearn/ensemble/_base.py:166: FutureWarning: `base_estimator` was renamed to `estimator` in version 1.2 and will be removed in 1.4.\n",
            "  warnings.warn(\n"
          ]
        },
        {
          "output_type": "stream",
          "name": "stdout",
          "text": [
            "[CV] END base_estimator=DecisionTreeClassifier(random_state=42), max_features=0.9, max_samples=0.5, n_estimators=100, random_state=42; total time=   0.4s\n"
          ]
        },
        {
          "output_type": "stream",
          "name": "stderr",
          "text": [
            "/usr/local/lib/python3.10/dist-packages/sklearn/ensemble/_base.py:166: FutureWarning: `base_estimator` was renamed to `estimator` in version 1.2 and will be removed in 1.4.\n",
            "  warnings.warn(\n"
          ]
        },
        {
          "output_type": "stream",
          "name": "stdout",
          "text": [
            "[CV] END base_estimator=DecisionTreeClassifier(random_state=42), max_features=0.9, max_samples=0.5, n_estimators=100, random_state=42; total time=   0.4s\n"
          ]
        },
        {
          "output_type": "stream",
          "name": "stderr",
          "text": [
            "/usr/local/lib/python3.10/dist-packages/sklearn/ensemble/_base.py:166: FutureWarning: `base_estimator` was renamed to `estimator` in version 1.2 and will be removed in 1.4.\n",
            "  warnings.warn(\n"
          ]
        },
        {
          "output_type": "stream",
          "name": "stdout",
          "text": [
            "[CV] END base_estimator=DecisionTreeClassifier(random_state=42), max_features=0.9, max_samples=0.5, n_estimators=100, random_state=42; total time=   0.3s\n"
          ]
        },
        {
          "output_type": "stream",
          "name": "stderr",
          "text": [
            "/usr/local/lib/python3.10/dist-packages/sklearn/ensemble/_base.py:166: FutureWarning: `base_estimator` was renamed to `estimator` in version 1.2 and will be removed in 1.4.\n",
            "  warnings.warn(\n"
          ]
        },
        {
          "output_type": "stream",
          "name": "stdout",
          "text": [
            "[CV] END base_estimator=DecisionTreeClassifier(random_state=42), max_features=0.9, max_samples=0.5, n_estimators=150, random_state=42; total time=   0.5s\n"
          ]
        },
        {
          "output_type": "stream",
          "name": "stderr",
          "text": [
            "/usr/local/lib/python3.10/dist-packages/sklearn/ensemble/_base.py:166: FutureWarning: `base_estimator` was renamed to `estimator` in version 1.2 and will be removed in 1.4.\n",
            "  warnings.warn(\n"
          ]
        },
        {
          "output_type": "stream",
          "name": "stdout",
          "text": [
            "[CV] END base_estimator=DecisionTreeClassifier(random_state=42), max_features=0.9, max_samples=0.5, n_estimators=150, random_state=42; total time=   0.5s\n"
          ]
        },
        {
          "output_type": "stream",
          "name": "stderr",
          "text": [
            "/usr/local/lib/python3.10/dist-packages/sklearn/ensemble/_base.py:166: FutureWarning: `base_estimator` was renamed to `estimator` in version 1.2 and will be removed in 1.4.\n",
            "  warnings.warn(\n"
          ]
        },
        {
          "output_type": "stream",
          "name": "stdout",
          "text": [
            "[CV] END base_estimator=DecisionTreeClassifier(random_state=42), max_features=0.9, max_samples=0.5, n_estimators=150, random_state=42; total time=   0.5s\n",
            "[CV] END base_estimator=DecisionTreeClassifier(random_state=42), max_features=0.9, max_samples=0.7, n_estimators=50, random_state=42; total time=   0.1s\n"
          ]
        },
        {
          "output_type": "stream",
          "name": "stderr",
          "text": [
            "/usr/local/lib/python3.10/dist-packages/sklearn/ensemble/_base.py:166: FutureWarning: `base_estimator` was renamed to `estimator` in version 1.2 and will be removed in 1.4.\n",
            "  warnings.warn(\n",
            "/usr/local/lib/python3.10/dist-packages/sklearn/ensemble/_base.py:166: FutureWarning: `base_estimator` was renamed to `estimator` in version 1.2 and will be removed in 1.4.\n",
            "  warnings.warn(\n"
          ]
        },
        {
          "output_type": "stream",
          "name": "stdout",
          "text": [
            "[CV] END base_estimator=DecisionTreeClassifier(random_state=42), max_features=0.9, max_samples=0.7, n_estimators=50, random_state=42; total time=   0.1s\n",
            "[CV] END base_estimator=DecisionTreeClassifier(random_state=42), max_features=0.9, max_samples=0.7, n_estimators=50, random_state=42; total time=   0.1s\n"
          ]
        },
        {
          "output_type": "stream",
          "name": "stderr",
          "text": [
            "/usr/local/lib/python3.10/dist-packages/sklearn/ensemble/_base.py:166: FutureWarning: `base_estimator` was renamed to `estimator` in version 1.2 and will be removed in 1.4.\n",
            "  warnings.warn(\n",
            "/usr/local/lib/python3.10/dist-packages/sklearn/ensemble/_base.py:166: FutureWarning: `base_estimator` was renamed to `estimator` in version 1.2 and will be removed in 1.4.\n",
            "  warnings.warn(\n"
          ]
        },
        {
          "output_type": "stream",
          "name": "stdout",
          "text": [
            "[CV] END base_estimator=DecisionTreeClassifier(random_state=42), max_features=0.9, max_samples=0.7, n_estimators=100, random_state=42; total time=   0.3s\n"
          ]
        },
        {
          "output_type": "stream",
          "name": "stderr",
          "text": [
            "/usr/local/lib/python3.10/dist-packages/sklearn/ensemble/_base.py:166: FutureWarning: `base_estimator` was renamed to `estimator` in version 1.2 and will be removed in 1.4.\n",
            "  warnings.warn(\n"
          ]
        },
        {
          "output_type": "stream",
          "name": "stdout",
          "text": [
            "[CV] END base_estimator=DecisionTreeClassifier(random_state=42), max_features=0.9, max_samples=0.7, n_estimators=100, random_state=42; total time=   0.3s\n"
          ]
        },
        {
          "output_type": "stream",
          "name": "stderr",
          "text": [
            "/usr/local/lib/python3.10/dist-packages/sklearn/ensemble/_base.py:166: FutureWarning: `base_estimator` was renamed to `estimator` in version 1.2 and will be removed in 1.4.\n",
            "  warnings.warn(\n"
          ]
        },
        {
          "output_type": "stream",
          "name": "stdout",
          "text": [
            "[CV] END base_estimator=DecisionTreeClassifier(random_state=42), max_features=0.9, max_samples=0.7, n_estimators=100, random_state=42; total time=   0.3s\n"
          ]
        },
        {
          "output_type": "stream",
          "name": "stderr",
          "text": [
            "/usr/local/lib/python3.10/dist-packages/sklearn/ensemble/_base.py:166: FutureWarning: `base_estimator` was renamed to `estimator` in version 1.2 and will be removed in 1.4.\n",
            "  warnings.warn(\n"
          ]
        },
        {
          "output_type": "stream",
          "name": "stdout",
          "text": [
            "[CV] END base_estimator=DecisionTreeClassifier(random_state=42), max_features=0.9, max_samples=0.7, n_estimators=150, random_state=42; total time=   0.4s\n"
          ]
        },
        {
          "output_type": "stream",
          "name": "stderr",
          "text": [
            "/usr/local/lib/python3.10/dist-packages/sklearn/ensemble/_base.py:166: FutureWarning: `base_estimator` was renamed to `estimator` in version 1.2 and will be removed in 1.4.\n",
            "  warnings.warn(\n"
          ]
        },
        {
          "output_type": "stream",
          "name": "stdout",
          "text": [
            "[CV] END base_estimator=DecisionTreeClassifier(random_state=42), max_features=0.9, max_samples=0.7, n_estimators=150, random_state=42; total time=   0.4s\n"
          ]
        },
        {
          "output_type": "stream",
          "name": "stderr",
          "text": [
            "/usr/local/lib/python3.10/dist-packages/sklearn/ensemble/_base.py:166: FutureWarning: `base_estimator` was renamed to `estimator` in version 1.2 and will be removed in 1.4.\n",
            "  warnings.warn(\n"
          ]
        },
        {
          "output_type": "stream",
          "name": "stdout",
          "text": [
            "[CV] END base_estimator=DecisionTreeClassifier(random_state=42), max_features=0.9, max_samples=0.7, n_estimators=150, random_state=42; total time=   0.4s\n",
            "[CV] END base_estimator=DecisionTreeClassifier(random_state=42), max_features=0.9, max_samples=0.9, n_estimators=50, random_state=42; total time=   0.1s\n"
          ]
        },
        {
          "output_type": "stream",
          "name": "stderr",
          "text": [
            "/usr/local/lib/python3.10/dist-packages/sklearn/ensemble/_base.py:166: FutureWarning: `base_estimator` was renamed to `estimator` in version 1.2 and will be removed in 1.4.\n",
            "  warnings.warn(\n",
            "/usr/local/lib/python3.10/dist-packages/sklearn/ensemble/_base.py:166: FutureWarning: `base_estimator` was renamed to `estimator` in version 1.2 and will be removed in 1.4.\n",
            "  warnings.warn(\n"
          ]
        },
        {
          "output_type": "stream",
          "name": "stdout",
          "text": [
            "[CV] END base_estimator=DecisionTreeClassifier(random_state=42), max_features=0.9, max_samples=0.9, n_estimators=50, random_state=42; total time=   0.1s\n",
            "[CV] END base_estimator=DecisionTreeClassifier(random_state=42), max_features=0.9, max_samples=0.9, n_estimators=50, random_state=42; total time=   0.1s\n"
          ]
        },
        {
          "output_type": "stream",
          "name": "stderr",
          "text": [
            "/usr/local/lib/python3.10/dist-packages/sklearn/ensemble/_base.py:166: FutureWarning: `base_estimator` was renamed to `estimator` in version 1.2 and will be removed in 1.4.\n",
            "  warnings.warn(\n",
            "/usr/local/lib/python3.10/dist-packages/sklearn/ensemble/_base.py:166: FutureWarning: `base_estimator` was renamed to `estimator` in version 1.2 and will be removed in 1.4.\n",
            "  warnings.warn(\n"
          ]
        },
        {
          "output_type": "stream",
          "name": "stdout",
          "text": [
            "[CV] END base_estimator=DecisionTreeClassifier(random_state=42), max_features=0.9, max_samples=0.9, n_estimators=100, random_state=42; total time=   0.3s\n"
          ]
        },
        {
          "output_type": "stream",
          "name": "stderr",
          "text": [
            "/usr/local/lib/python3.10/dist-packages/sklearn/ensemble/_base.py:166: FutureWarning: `base_estimator` was renamed to `estimator` in version 1.2 and will be removed in 1.4.\n",
            "  warnings.warn(\n"
          ]
        },
        {
          "output_type": "stream",
          "name": "stdout",
          "text": [
            "[CV] END base_estimator=DecisionTreeClassifier(random_state=42), max_features=0.9, max_samples=0.9, n_estimators=100, random_state=42; total time=   0.3s\n"
          ]
        },
        {
          "output_type": "stream",
          "name": "stderr",
          "text": [
            "/usr/local/lib/python3.10/dist-packages/sklearn/ensemble/_base.py:166: FutureWarning: `base_estimator` was renamed to `estimator` in version 1.2 and will be removed in 1.4.\n",
            "  warnings.warn(\n"
          ]
        },
        {
          "output_type": "stream",
          "name": "stdout",
          "text": [
            "[CV] END base_estimator=DecisionTreeClassifier(random_state=42), max_features=0.9, max_samples=0.9, n_estimators=100, random_state=42; total time=   0.3s\n"
          ]
        },
        {
          "output_type": "stream",
          "name": "stderr",
          "text": [
            "/usr/local/lib/python3.10/dist-packages/sklearn/ensemble/_base.py:166: FutureWarning: `base_estimator` was renamed to `estimator` in version 1.2 and will be removed in 1.4.\n",
            "  warnings.warn(\n"
          ]
        },
        {
          "output_type": "stream",
          "name": "stdout",
          "text": [
            "[CV] END base_estimator=DecisionTreeClassifier(random_state=42), max_features=0.9, max_samples=0.9, n_estimators=150, random_state=42; total time=   0.4s\n"
          ]
        },
        {
          "output_type": "stream",
          "name": "stderr",
          "text": [
            "/usr/local/lib/python3.10/dist-packages/sklearn/ensemble/_base.py:166: FutureWarning: `base_estimator` was renamed to `estimator` in version 1.2 and will be removed in 1.4.\n",
            "  warnings.warn(\n"
          ]
        },
        {
          "output_type": "stream",
          "name": "stdout",
          "text": [
            "[CV] END base_estimator=DecisionTreeClassifier(random_state=42), max_features=0.9, max_samples=0.9, n_estimators=150, random_state=42; total time=   0.4s\n"
          ]
        },
        {
          "output_type": "stream",
          "name": "stderr",
          "text": [
            "/usr/local/lib/python3.10/dist-packages/sklearn/ensemble/_base.py:166: FutureWarning: `base_estimator` was renamed to `estimator` in version 1.2 and will be removed in 1.4.\n",
            "  warnings.warn(\n"
          ]
        },
        {
          "output_type": "stream",
          "name": "stdout",
          "text": [
            "[CV] END base_estimator=DecisionTreeClassifier(random_state=42), max_features=0.9, max_samples=0.9, n_estimators=150, random_state=42; total time=   0.4s\n"
          ]
        },
        {
          "output_type": "stream",
          "name": "stderr",
          "text": [
            "/usr/local/lib/python3.10/dist-packages/sklearn/ensemble/_base.py:166: FutureWarning: `base_estimator` was renamed to `estimator` in version 1.2 and will be removed in 1.4.\n",
            "  warnings.warn(\n",
            "/usr/local/lib/python3.10/dist-packages/sklearn/ensemble/_base.py:166: FutureWarning: `base_estimator` was renamed to `estimator` in version 1.2 and will be removed in 1.4.\n",
            "  warnings.warn(\n"
          ]
        },
        {
          "output_type": "stream",
          "name": "stdout",
          "text": [
            "\n",
            "\n",
            "Model results after hyperparameter tuning\n"
          ]
        },
        {
          "output_type": "stream",
          "name": "stderr",
          "text": [
            "/usr/local/lib/python3.10/dist-packages/sklearn/ensemble/_base.py:166: FutureWarning: `base_estimator` was renamed to `estimator` in version 1.2 and will be removed in 1.4.\n",
            "  warnings.warn(\n",
            "/usr/local/lib/python3.10/dist-packages/sklearn/ensemble/_base.py:166: FutureWarning: `base_estimator` was renamed to `estimator` in version 1.2 and will be removed in 1.4.\n",
            "  warnings.warn(\n",
            "/usr/local/lib/python3.10/dist-packages/sklearn/ensemble/_base.py:166: FutureWarning: `base_estimator` was renamed to `estimator` in version 1.2 and will be removed in 1.4.\n",
            "  warnings.warn(\n",
            "/usr/local/lib/python3.10/dist-packages/sklearn/ensemble/_base.py:166: FutureWarning: `base_estimator` was renamed to `estimator` in version 1.2 and will be removed in 1.4.\n",
            "  warnings.warn(\n",
            "/usr/local/lib/python3.10/dist-packages/sklearn/ensemble/_base.py:166: FutureWarning: `base_estimator` was renamed to `estimator` in version 1.2 and will be removed in 1.4.\n",
            "  warnings.warn(\n",
            "/usr/local/lib/python3.10/dist-packages/sklearn/ensemble/_base.py:166: FutureWarning: `base_estimator` was renamed to `estimator` in version 1.2 and will be removed in 1.4.\n",
            "  warnings.warn(\n"
          ]
        },
        {
          "output_type": "stream",
          "name": "stdout",
          "text": [
            "Average Accuracy: 0.9513023493360571\n",
            "Average Precision: 0.9484698235572754\n",
            "Average Recall: 0.9513023493360571\n",
            "Average F1 Score: 0.9426036049245216\n"
          ]
        }
      ]
    },
    {
      "cell_type": "markdown",
      "source": [
        "#df_knn_imputed"
      ],
      "metadata": {
        "id": "io0VtvO5BK3p"
      }
    },
    {
      "cell_type": "code",
      "source": [
        "X = df_knn_imputed.drop(columns=['diagnosis', 'stage', 'plasma_CA19_9'])\n",
        "y = df_knn_imputed['diagnosis']  # Target variable\n",
        "\n",
        "\n",
        "\n",
        "# Define the parameter grid for KNN\n",
        "knn_param_grid = {\n",
        "    'n_neighbors': [3, 5, 7, 9],          # Number of neighbors to consider\n",
        "    'weights': ['uniform', 'distance'],   # Weight function used in predictions\n",
        "    'algorithm': ['auto', 'ball_tree', 'kd_tree', 'brute'],  # Algorithm used to compute neighbors\n",
        "    'leaf_size': [10, 20, 30],            # Leaf size for tree-based algorithms\n",
        "    'p': [1, 2]                           # Power parameter for the Minkowski metric (1 for Manhattan, 2 for Euclidean)\n",
        "}\n",
        "test_grid_search_and_fit(\n",
        "    classifier=KNeighborsClassifier(),#KNN\n",
        "    param_grid=knn_param_grid,\n",
        "    X=X,\n",
        "    y=y\n",
        ")"
      ],
      "metadata": {
        "colab": {
          "base_uri": "https://localhost:8080/"
        },
        "id": "XsCPHwEvBIkW",
        "outputId": "5d65c347-938f-4a3d-d57f-c386156b4cc5"
      },
      "execution_count": 77,
      "outputs": [
        {
          "output_type": "stream",
          "name": "stdout",
          "text": [
            "Model results with default hyperparameters\n",
            "Average Accuracy: 0.8792134831460675\n",
            "Average Precision: 0.876658631167588\n",
            "Average Recall: 0.8792134831460675\n",
            "Average F1 Score: 0.8763994586599463\n",
            "Fitting 3 folds for each of 192 candidates, totalling 576 fits\n",
            "[CV] END algorithm=auto, leaf_size=10, n_neighbors=3, p=1, weights=uniform; total time=   0.0s\n",
            "[CV] END algorithm=auto, leaf_size=10, n_neighbors=3, p=1, weights=uniform; total time=   0.0s\n",
            "[CV] END algorithm=auto, leaf_size=10, n_neighbors=3, p=1, weights=uniform; total time=   0.0s\n",
            "[CV] END algorithm=auto, leaf_size=10, n_neighbors=3, p=1, weights=distance; total time=   0.0s\n",
            "[CV] END algorithm=auto, leaf_size=10, n_neighbors=3, p=1, weights=distance; total time=   0.0s\n",
            "[CV] END algorithm=auto, leaf_size=10, n_neighbors=3, p=1, weights=distance; total time=   0.0s\n",
            "[CV] END algorithm=auto, leaf_size=10, n_neighbors=3, p=2, weights=uniform; total time=   0.0s\n",
            "[CV] END algorithm=auto, leaf_size=10, n_neighbors=3, p=2, weights=uniform; total time=   0.0s\n",
            "[CV] END algorithm=auto, leaf_size=10, n_neighbors=3, p=2, weights=uniform; total time=   0.0s\n",
            "[CV] END algorithm=auto, leaf_size=10, n_neighbors=3, p=2, weights=distance; total time=   0.0s\n",
            "[CV] END algorithm=auto, leaf_size=10, n_neighbors=3, p=2, weights=distance; total time=   0.0s\n",
            "[CV] END algorithm=auto, leaf_size=10, n_neighbors=3, p=2, weights=distance; total time=   0.0s\n",
            "[CV] END algorithm=auto, leaf_size=10, n_neighbors=5, p=1, weights=uniform; total time=   0.0s\n",
            "[CV] END algorithm=auto, leaf_size=10, n_neighbors=5, p=1, weights=uniform; total time=   0.0s\n",
            "[CV] END algorithm=auto, leaf_size=10, n_neighbors=5, p=1, weights=uniform; total time=   0.0s\n",
            "[CV] END algorithm=auto, leaf_size=10, n_neighbors=5, p=1, weights=distance; total time=   0.0s\n",
            "[CV] END algorithm=auto, leaf_size=10, n_neighbors=5, p=1, weights=distance; total time=   0.0s\n",
            "[CV] END algorithm=auto, leaf_size=10, n_neighbors=5, p=1, weights=distance; total time=   0.0s\n",
            "[CV] END algorithm=auto, leaf_size=10, n_neighbors=5, p=2, weights=uniform; total time=   0.0s\n",
            "[CV] END algorithm=auto, leaf_size=10, n_neighbors=5, p=2, weights=uniform; total time=   0.0s\n",
            "[CV] END algorithm=auto, leaf_size=10, n_neighbors=5, p=2, weights=uniform; total time=   0.0s\n",
            "[CV] END algorithm=auto, leaf_size=10, n_neighbors=5, p=2, weights=distance; total time=   0.0s\n",
            "[CV] END algorithm=auto, leaf_size=10, n_neighbors=5, p=2, weights=distance; total time=   0.0s\n",
            "[CV] END algorithm=auto, leaf_size=10, n_neighbors=5, p=2, weights=distance; total time=   0.0s\n",
            "[CV] END algorithm=auto, leaf_size=10, n_neighbors=7, p=1, weights=uniform; total time=   0.0s\n",
            "[CV] END algorithm=auto, leaf_size=10, n_neighbors=7, p=1, weights=uniform; total time=   0.0s\n",
            "[CV] END algorithm=auto, leaf_size=10, n_neighbors=7, p=1, weights=uniform; total time=   0.0s\n",
            "[CV] END algorithm=auto, leaf_size=10, n_neighbors=7, p=1, weights=distance; total time=   0.0s\n",
            "[CV] END algorithm=auto, leaf_size=10, n_neighbors=7, p=1, weights=distance; total time=   0.0s\n",
            "[CV] END algorithm=auto, leaf_size=10, n_neighbors=7, p=1, weights=distance; total time=   0.0s\n",
            "[CV] END algorithm=auto, leaf_size=10, n_neighbors=7, p=2, weights=uniform; total time=   0.0s\n",
            "[CV] END algorithm=auto, leaf_size=10, n_neighbors=7, p=2, weights=uniform; total time=   0.0s\n",
            "[CV] END algorithm=auto, leaf_size=10, n_neighbors=7, p=2, weights=uniform; total time=   0.0s\n",
            "[CV] END algorithm=auto, leaf_size=10, n_neighbors=7, p=2, weights=distance; total time=   0.0s\n",
            "[CV] END algorithm=auto, leaf_size=10, n_neighbors=7, p=2, weights=distance; total time=   0.0s\n",
            "[CV] END algorithm=auto, leaf_size=10, n_neighbors=7, p=2, weights=distance; total time=   0.0s\n",
            "[CV] END algorithm=auto, leaf_size=10, n_neighbors=9, p=1, weights=uniform; total time=   0.0s\n",
            "[CV] END algorithm=auto, leaf_size=10, n_neighbors=9, p=1, weights=uniform; total time=   0.0s\n",
            "[CV] END algorithm=auto, leaf_size=10, n_neighbors=9, p=1, weights=uniform; total time=   0.0s\n",
            "[CV] END algorithm=auto, leaf_size=10, n_neighbors=9, p=1, weights=distance; total time=   0.0s\n",
            "[CV] END algorithm=auto, leaf_size=10, n_neighbors=9, p=1, weights=distance; total time=   0.0s\n",
            "[CV] END algorithm=auto, leaf_size=10, n_neighbors=9, p=1, weights=distance; total time=   0.0s\n",
            "[CV] END algorithm=auto, leaf_size=10, n_neighbors=9, p=2, weights=uniform; total time=   0.0s\n",
            "[CV] END algorithm=auto, leaf_size=10, n_neighbors=9, p=2, weights=uniform; total time=   0.0s\n",
            "[CV] END algorithm=auto, leaf_size=10, n_neighbors=9, p=2, weights=uniform; total time=   0.0s\n",
            "[CV] END algorithm=auto, leaf_size=10, n_neighbors=9, p=2, weights=distance; total time=   0.0s\n",
            "[CV] END algorithm=auto, leaf_size=10, n_neighbors=9, p=2, weights=distance; total time=   0.0s\n",
            "[CV] END algorithm=auto, leaf_size=10, n_neighbors=9, p=2, weights=distance; total time=   0.0s\n",
            "[CV] END algorithm=auto, leaf_size=20, n_neighbors=3, p=1, weights=uniform; total time=   0.0s\n",
            "[CV] END algorithm=auto, leaf_size=20, n_neighbors=3, p=1, weights=uniform; total time=   0.0s\n",
            "[CV] END algorithm=auto, leaf_size=20, n_neighbors=3, p=1, weights=uniform; total time=   0.0s\n",
            "[CV] END algorithm=auto, leaf_size=20, n_neighbors=3, p=1, weights=distance; total time=   0.0s\n",
            "[CV] END algorithm=auto, leaf_size=20, n_neighbors=3, p=1, weights=distance; total time=   0.0s\n",
            "[CV] END algorithm=auto, leaf_size=20, n_neighbors=3, p=1, weights=distance; total time=   0.0s\n",
            "[CV] END algorithm=auto, leaf_size=20, n_neighbors=3, p=2, weights=uniform; total time=   0.0s\n",
            "[CV] END algorithm=auto, leaf_size=20, n_neighbors=3, p=2, weights=uniform; total time=   0.0s\n",
            "[CV] END algorithm=auto, leaf_size=20, n_neighbors=3, p=2, weights=uniform; total time=   0.0s\n",
            "[CV] END algorithm=auto, leaf_size=20, n_neighbors=3, p=2, weights=distance; total time=   0.0s\n",
            "[CV] END algorithm=auto, leaf_size=20, n_neighbors=3, p=2, weights=distance; total time=   0.0s\n",
            "[CV] END algorithm=auto, leaf_size=20, n_neighbors=3, p=2, weights=distance; total time=   0.0s\n",
            "[CV] END algorithm=auto, leaf_size=20, n_neighbors=5, p=1, weights=uniform; total time=   0.0s\n",
            "[CV] END algorithm=auto, leaf_size=20, n_neighbors=5, p=1, weights=uniform; total time=   0.0s\n",
            "[CV] END algorithm=auto, leaf_size=20, n_neighbors=5, p=1, weights=uniform; total time=   0.0s\n",
            "[CV] END algorithm=auto, leaf_size=20, n_neighbors=5, p=1, weights=distance; total time=   0.0s\n",
            "[CV] END algorithm=auto, leaf_size=20, n_neighbors=5, p=1, weights=distance; total time=   0.0s\n",
            "[CV] END algorithm=auto, leaf_size=20, n_neighbors=5, p=1, weights=distance; total time=   0.0s\n",
            "[CV] END algorithm=auto, leaf_size=20, n_neighbors=5, p=2, weights=uniform; total time=   0.0s\n",
            "[CV] END algorithm=auto, leaf_size=20, n_neighbors=5, p=2, weights=uniform; total time=   0.0s\n",
            "[CV] END algorithm=auto, leaf_size=20, n_neighbors=5, p=2, weights=uniform; total time=   0.0s\n",
            "[CV] END algorithm=auto, leaf_size=20, n_neighbors=5, p=2, weights=distance; total time=   0.0s\n",
            "[CV] END algorithm=auto, leaf_size=20, n_neighbors=5, p=2, weights=distance; total time=   0.0s\n",
            "[CV] END algorithm=auto, leaf_size=20, n_neighbors=5, p=2, weights=distance; total time=   0.0s\n",
            "[CV] END algorithm=auto, leaf_size=20, n_neighbors=7, p=1, weights=uniform; total time=   0.0s\n",
            "[CV] END algorithm=auto, leaf_size=20, n_neighbors=7, p=1, weights=uniform; total time=   0.0s\n",
            "[CV] END algorithm=auto, leaf_size=20, n_neighbors=7, p=1, weights=uniform; total time=   0.0s\n",
            "[CV] END algorithm=auto, leaf_size=20, n_neighbors=7, p=1, weights=distance; total time=   0.0s\n",
            "[CV] END algorithm=auto, leaf_size=20, n_neighbors=7, p=1, weights=distance; total time=   0.0s\n",
            "[CV] END algorithm=auto, leaf_size=20, n_neighbors=7, p=1, weights=distance; total time=   0.0s\n",
            "[CV] END algorithm=auto, leaf_size=20, n_neighbors=7, p=2, weights=uniform; total time=   0.0s\n",
            "[CV] END algorithm=auto, leaf_size=20, n_neighbors=7, p=2, weights=uniform; total time=   0.0s\n",
            "[CV] END algorithm=auto, leaf_size=20, n_neighbors=7, p=2, weights=uniform; total time=   0.0s\n",
            "[CV] END algorithm=auto, leaf_size=20, n_neighbors=7, p=2, weights=distance; total time=   0.0s\n",
            "[CV] END algorithm=auto, leaf_size=20, n_neighbors=7, p=2, weights=distance; total time=   0.0s\n",
            "[CV] END algorithm=auto, leaf_size=20, n_neighbors=7, p=2, weights=distance; total time=   0.0s\n",
            "[CV] END algorithm=auto, leaf_size=20, n_neighbors=9, p=1, weights=uniform; total time=   0.0s\n",
            "[CV] END algorithm=auto, leaf_size=20, n_neighbors=9, p=1, weights=uniform; total time=   0.0s\n",
            "[CV] END algorithm=auto, leaf_size=20, n_neighbors=9, p=1, weights=uniform; total time=   0.0s\n",
            "[CV] END algorithm=auto, leaf_size=20, n_neighbors=9, p=1, weights=distance; total time=   0.0s\n",
            "[CV] END algorithm=auto, leaf_size=20, n_neighbors=9, p=1, weights=distance; total time=   0.0s\n",
            "[CV] END algorithm=auto, leaf_size=20, n_neighbors=9, p=1, weights=distance; total time=   0.0s\n",
            "[CV] END algorithm=auto, leaf_size=20, n_neighbors=9, p=2, weights=uniform; total time=   0.0s\n",
            "[CV] END algorithm=auto, leaf_size=20, n_neighbors=9, p=2, weights=uniform; total time=   0.0s\n",
            "[CV] END algorithm=auto, leaf_size=20, n_neighbors=9, p=2, weights=uniform; total time=   0.0s\n",
            "[CV] END algorithm=auto, leaf_size=20, n_neighbors=9, p=2, weights=distance; total time=   0.0s\n",
            "[CV] END algorithm=auto, leaf_size=20, n_neighbors=9, p=2, weights=distance; total time=   0.0s\n",
            "[CV] END algorithm=auto, leaf_size=20, n_neighbors=9, p=2, weights=distance; total time=   0.0s\n",
            "[CV] END algorithm=auto, leaf_size=30, n_neighbors=3, p=1, weights=uniform; total time=   0.0s\n",
            "[CV] END algorithm=auto, leaf_size=30, n_neighbors=3, p=1, weights=uniform; total time=   0.0s\n",
            "[CV] END algorithm=auto, leaf_size=30, n_neighbors=3, p=1, weights=uniform; total time=   0.0s\n",
            "[CV] END algorithm=auto, leaf_size=30, n_neighbors=3, p=1, weights=distance; total time=   0.0s\n",
            "[CV] END algorithm=auto, leaf_size=30, n_neighbors=3, p=1, weights=distance; total time=   0.0s\n",
            "[CV] END algorithm=auto, leaf_size=30, n_neighbors=3, p=1, weights=distance; total time=   0.0s\n",
            "[CV] END algorithm=auto, leaf_size=30, n_neighbors=3, p=2, weights=uniform; total time=   0.0s\n",
            "[CV] END algorithm=auto, leaf_size=30, n_neighbors=3, p=2, weights=uniform; total time=   0.0s\n",
            "[CV] END algorithm=auto, leaf_size=30, n_neighbors=3, p=2, weights=uniform; total time=   0.0s\n",
            "[CV] END algorithm=auto, leaf_size=30, n_neighbors=3, p=2, weights=distance; total time=   0.0s\n",
            "[CV] END algorithm=auto, leaf_size=30, n_neighbors=3, p=2, weights=distance; total time=   0.0s\n",
            "[CV] END algorithm=auto, leaf_size=30, n_neighbors=3, p=2, weights=distance; total time=   0.0s\n",
            "[CV] END algorithm=auto, leaf_size=30, n_neighbors=5, p=1, weights=uniform; total time=   0.0s\n",
            "[CV] END algorithm=auto, leaf_size=30, n_neighbors=5, p=1, weights=uniform; total time=   0.0s\n",
            "[CV] END algorithm=auto, leaf_size=30, n_neighbors=5, p=1, weights=uniform; total time=   0.0s\n",
            "[CV] END algorithm=auto, leaf_size=30, n_neighbors=5, p=1, weights=distance; total time=   0.0s\n",
            "[CV] END algorithm=auto, leaf_size=30, n_neighbors=5, p=1, weights=distance; total time=   0.0s\n",
            "[CV] END algorithm=auto, leaf_size=30, n_neighbors=5, p=1, weights=distance; total time=   0.0s\n",
            "[CV] END algorithm=auto, leaf_size=30, n_neighbors=5, p=2, weights=uniform; total time=   0.0s\n",
            "[CV] END algorithm=auto, leaf_size=30, n_neighbors=5, p=2, weights=uniform; total time=   0.0s\n",
            "[CV] END algorithm=auto, leaf_size=30, n_neighbors=5, p=2, weights=uniform; total time=   0.0s\n",
            "[CV] END algorithm=auto, leaf_size=30, n_neighbors=5, p=2, weights=distance; total time=   0.0s\n",
            "[CV] END algorithm=auto, leaf_size=30, n_neighbors=5, p=2, weights=distance; total time=   0.0s\n",
            "[CV] END algorithm=auto, leaf_size=30, n_neighbors=5, p=2, weights=distance; total time=   0.0s\n",
            "[CV] END algorithm=auto, leaf_size=30, n_neighbors=7, p=1, weights=uniform; total time=   0.0s\n",
            "[CV] END algorithm=auto, leaf_size=30, n_neighbors=7, p=1, weights=uniform; total time=   0.0s\n",
            "[CV] END algorithm=auto, leaf_size=30, n_neighbors=7, p=1, weights=uniform; total time=   0.0s\n",
            "[CV] END algorithm=auto, leaf_size=30, n_neighbors=7, p=1, weights=distance; total time=   0.0s\n",
            "[CV] END algorithm=auto, leaf_size=30, n_neighbors=7, p=1, weights=distance; total time=   0.0s\n",
            "[CV] END algorithm=auto, leaf_size=30, n_neighbors=7, p=1, weights=distance; total time=   0.0s\n",
            "[CV] END algorithm=auto, leaf_size=30, n_neighbors=7, p=2, weights=uniform; total time=   0.0s\n",
            "[CV] END algorithm=auto, leaf_size=30, n_neighbors=7, p=2, weights=uniform; total time=   0.0s\n",
            "[CV] END algorithm=auto, leaf_size=30, n_neighbors=7, p=2, weights=uniform; total time=   0.0s\n",
            "[CV] END algorithm=auto, leaf_size=30, n_neighbors=7, p=2, weights=distance; total time=   0.0s\n",
            "[CV] END algorithm=auto, leaf_size=30, n_neighbors=7, p=2, weights=distance; total time=   0.0s\n",
            "[CV] END algorithm=auto, leaf_size=30, n_neighbors=7, p=2, weights=distance; total time=   0.0s\n",
            "[CV] END algorithm=auto, leaf_size=30, n_neighbors=9, p=1, weights=uniform; total time=   0.0s\n",
            "[CV] END algorithm=auto, leaf_size=30, n_neighbors=9, p=1, weights=uniform; total time=   0.0s\n",
            "[CV] END algorithm=auto, leaf_size=30, n_neighbors=9, p=1, weights=uniform; total time=   0.0s\n",
            "[CV] END algorithm=auto, leaf_size=30, n_neighbors=9, p=1, weights=distance; total time=   0.0s\n",
            "[CV] END algorithm=auto, leaf_size=30, n_neighbors=9, p=1, weights=distance; total time=   0.0s\n",
            "[CV] END algorithm=auto, leaf_size=30, n_neighbors=9, p=1, weights=distance; total time=   0.0s\n",
            "[CV] END algorithm=auto, leaf_size=30, n_neighbors=9, p=2, weights=uniform; total time=   0.0s\n",
            "[CV] END algorithm=auto, leaf_size=30, n_neighbors=9, p=2, weights=uniform; total time=   0.0s\n",
            "[CV] END algorithm=auto, leaf_size=30, n_neighbors=9, p=2, weights=uniform; total time=   0.0s\n",
            "[CV] END algorithm=auto, leaf_size=30, n_neighbors=9, p=2, weights=distance; total time=   0.0s\n",
            "[CV] END algorithm=auto, leaf_size=30, n_neighbors=9, p=2, weights=distance; total time=   0.0s\n",
            "[CV] END algorithm=auto, leaf_size=30, n_neighbors=9, p=2, weights=distance; total time=   0.0s\n",
            "[CV] END algorithm=ball_tree, leaf_size=10, n_neighbors=3, p=1, weights=uniform; total time=   0.0s\n",
            "[CV] END algorithm=ball_tree, leaf_size=10, n_neighbors=3, p=1, weights=uniform; total time=   0.0s\n",
            "[CV] END algorithm=ball_tree, leaf_size=10, n_neighbors=3, p=1, weights=uniform; total time=   0.0s\n",
            "[CV] END algorithm=ball_tree, leaf_size=10, n_neighbors=3, p=1, weights=distance; total time=   0.0s\n",
            "[CV] END algorithm=ball_tree, leaf_size=10, n_neighbors=3, p=1, weights=distance; total time=   0.0s\n",
            "[CV] END algorithm=ball_tree, leaf_size=10, n_neighbors=3, p=1, weights=distance; total time=   0.0s\n",
            "[CV] END algorithm=ball_tree, leaf_size=10, n_neighbors=3, p=2, weights=uniform; total time=   0.0s\n",
            "[CV] END algorithm=ball_tree, leaf_size=10, n_neighbors=3, p=2, weights=uniform; total time=   0.0s\n",
            "[CV] END algorithm=ball_tree, leaf_size=10, n_neighbors=3, p=2, weights=uniform; total time=   0.0s\n",
            "[CV] END algorithm=ball_tree, leaf_size=10, n_neighbors=3, p=2, weights=distance; total time=   0.0s\n",
            "[CV] END algorithm=ball_tree, leaf_size=10, n_neighbors=3, p=2, weights=distance; total time=   0.0s\n",
            "[CV] END algorithm=ball_tree, leaf_size=10, n_neighbors=3, p=2, weights=distance; total time=   0.0s\n",
            "[CV] END algorithm=ball_tree, leaf_size=10, n_neighbors=5, p=1, weights=uniform; total time=   0.0s\n",
            "[CV] END algorithm=ball_tree, leaf_size=10, n_neighbors=5, p=1, weights=uniform; total time=   0.0s\n",
            "[CV] END algorithm=ball_tree, leaf_size=10, n_neighbors=5, p=1, weights=uniform; total time=   0.0s\n",
            "[CV] END algorithm=ball_tree, leaf_size=10, n_neighbors=5, p=1, weights=distance; total time=   0.0s\n",
            "[CV] END algorithm=ball_tree, leaf_size=10, n_neighbors=5, p=1, weights=distance; total time=   0.0s\n",
            "[CV] END algorithm=ball_tree, leaf_size=10, n_neighbors=5, p=1, weights=distance; total time=   0.0s\n",
            "[CV] END algorithm=ball_tree, leaf_size=10, n_neighbors=5, p=2, weights=uniform; total time=   0.0s\n",
            "[CV] END algorithm=ball_tree, leaf_size=10, n_neighbors=5, p=2, weights=uniform; total time=   0.0s\n",
            "[CV] END algorithm=ball_tree, leaf_size=10, n_neighbors=5, p=2, weights=uniform; total time=   0.0s\n",
            "[CV] END algorithm=ball_tree, leaf_size=10, n_neighbors=5, p=2, weights=distance; total time=   0.0s\n",
            "[CV] END algorithm=ball_tree, leaf_size=10, n_neighbors=5, p=2, weights=distance; total time=   0.0s\n",
            "[CV] END algorithm=ball_tree, leaf_size=10, n_neighbors=5, p=2, weights=distance; total time=   0.0s\n",
            "[CV] END algorithm=ball_tree, leaf_size=10, n_neighbors=7, p=1, weights=uniform; total time=   0.0s\n",
            "[CV] END algorithm=ball_tree, leaf_size=10, n_neighbors=7, p=1, weights=uniform; total time=   0.0s\n",
            "[CV] END algorithm=ball_tree, leaf_size=10, n_neighbors=7, p=1, weights=uniform; total time=   0.0s\n",
            "[CV] END algorithm=ball_tree, leaf_size=10, n_neighbors=7, p=1, weights=distance; total time=   0.0s\n",
            "[CV] END algorithm=ball_tree, leaf_size=10, n_neighbors=7, p=1, weights=distance; total time=   0.0s\n",
            "[CV] END algorithm=ball_tree, leaf_size=10, n_neighbors=7, p=1, weights=distance; total time=   0.0s\n",
            "[CV] END algorithm=ball_tree, leaf_size=10, n_neighbors=7, p=2, weights=uniform; total time=   0.0s\n",
            "[CV] END algorithm=ball_tree, leaf_size=10, n_neighbors=7, p=2, weights=uniform; total time=   0.0s\n",
            "[CV] END algorithm=ball_tree, leaf_size=10, n_neighbors=7, p=2, weights=uniform; total time=   0.0s\n",
            "[CV] END algorithm=ball_tree, leaf_size=10, n_neighbors=7, p=2, weights=distance; total time=   0.0s\n",
            "[CV] END algorithm=ball_tree, leaf_size=10, n_neighbors=7, p=2, weights=distance; total time=   0.0s\n",
            "[CV] END algorithm=ball_tree, leaf_size=10, n_neighbors=7, p=2, weights=distance; total time=   0.0s\n",
            "[CV] END algorithm=ball_tree, leaf_size=10, n_neighbors=9, p=1, weights=uniform; total time=   0.0s\n",
            "[CV] END algorithm=ball_tree, leaf_size=10, n_neighbors=9, p=1, weights=uniform; total time=   0.0s\n",
            "[CV] END algorithm=ball_tree, leaf_size=10, n_neighbors=9, p=1, weights=uniform; total time=   0.0s\n",
            "[CV] END algorithm=ball_tree, leaf_size=10, n_neighbors=9, p=1, weights=distance; total time=   0.0s\n",
            "[CV] END algorithm=ball_tree, leaf_size=10, n_neighbors=9, p=1, weights=distance; total time=   0.0s\n",
            "[CV] END algorithm=ball_tree, leaf_size=10, n_neighbors=9, p=1, weights=distance; total time=   0.0s\n",
            "[CV] END algorithm=ball_tree, leaf_size=10, n_neighbors=9, p=2, weights=uniform; total time=   0.0s\n",
            "[CV] END algorithm=ball_tree, leaf_size=10, n_neighbors=9, p=2, weights=uniform; total time=   0.0s\n",
            "[CV] END algorithm=ball_tree, leaf_size=10, n_neighbors=9, p=2, weights=uniform; total time=   0.0s\n",
            "[CV] END algorithm=ball_tree, leaf_size=10, n_neighbors=9, p=2, weights=distance; total time=   0.0s\n",
            "[CV] END algorithm=ball_tree, leaf_size=10, n_neighbors=9, p=2, weights=distance; total time=   0.0s\n",
            "[CV] END algorithm=ball_tree, leaf_size=10, n_neighbors=9, p=2, weights=distance; total time=   0.0s\n",
            "[CV] END algorithm=ball_tree, leaf_size=20, n_neighbors=3, p=1, weights=uniform; total time=   0.0s\n",
            "[CV] END algorithm=ball_tree, leaf_size=20, n_neighbors=3, p=1, weights=uniform; total time=   0.0s\n",
            "[CV] END algorithm=ball_tree, leaf_size=20, n_neighbors=3, p=1, weights=uniform; total time=   0.0s\n",
            "[CV] END algorithm=ball_tree, leaf_size=20, n_neighbors=3, p=1, weights=distance; total time=   0.0s\n",
            "[CV] END algorithm=ball_tree, leaf_size=20, n_neighbors=3, p=1, weights=distance; total time=   0.0s\n",
            "[CV] END algorithm=ball_tree, leaf_size=20, n_neighbors=3, p=1, weights=distance; total time=   0.0s\n",
            "[CV] END algorithm=ball_tree, leaf_size=20, n_neighbors=3, p=2, weights=uniform; total time=   0.0s\n",
            "[CV] END algorithm=ball_tree, leaf_size=20, n_neighbors=3, p=2, weights=uniform; total time=   0.0s\n",
            "[CV] END algorithm=ball_tree, leaf_size=20, n_neighbors=3, p=2, weights=uniform; total time=   0.0s\n",
            "[CV] END algorithm=ball_tree, leaf_size=20, n_neighbors=3, p=2, weights=distance; total time=   0.0s\n",
            "[CV] END algorithm=ball_tree, leaf_size=20, n_neighbors=3, p=2, weights=distance; total time=   0.0s\n",
            "[CV] END algorithm=ball_tree, leaf_size=20, n_neighbors=3, p=2, weights=distance; total time=   0.0s\n",
            "[CV] END algorithm=ball_tree, leaf_size=20, n_neighbors=5, p=1, weights=uniform; total time=   0.0s\n",
            "[CV] END algorithm=ball_tree, leaf_size=20, n_neighbors=5, p=1, weights=uniform; total time=   0.0s\n",
            "[CV] END algorithm=ball_tree, leaf_size=20, n_neighbors=5, p=1, weights=uniform; total time=   0.0s\n",
            "[CV] END algorithm=ball_tree, leaf_size=20, n_neighbors=5, p=1, weights=distance; total time=   0.0s\n",
            "[CV] END algorithm=ball_tree, leaf_size=20, n_neighbors=5, p=1, weights=distance; total time=   0.0s\n",
            "[CV] END algorithm=ball_tree, leaf_size=20, n_neighbors=5, p=1, weights=distance; total time=   0.0s\n",
            "[CV] END algorithm=ball_tree, leaf_size=20, n_neighbors=5, p=2, weights=uniform; total time=   0.0s\n",
            "[CV] END algorithm=ball_tree, leaf_size=20, n_neighbors=5, p=2, weights=uniform; total time=   0.0s\n",
            "[CV] END algorithm=ball_tree, leaf_size=20, n_neighbors=5, p=2, weights=uniform; total time=   0.0s\n",
            "[CV] END algorithm=ball_tree, leaf_size=20, n_neighbors=5, p=2, weights=distance; total time=   0.0s\n",
            "[CV] END algorithm=ball_tree, leaf_size=20, n_neighbors=5, p=2, weights=distance; total time=   0.0s\n",
            "[CV] END algorithm=ball_tree, leaf_size=20, n_neighbors=5, p=2, weights=distance; total time=   0.0s\n",
            "[CV] END algorithm=ball_tree, leaf_size=20, n_neighbors=7, p=1, weights=uniform; total time=   0.0s\n",
            "[CV] END algorithm=ball_tree, leaf_size=20, n_neighbors=7, p=1, weights=uniform; total time=   0.0s\n",
            "[CV] END algorithm=ball_tree, leaf_size=20, n_neighbors=7, p=1, weights=uniform; total time=   0.0s\n",
            "[CV] END algorithm=ball_tree, leaf_size=20, n_neighbors=7, p=1, weights=distance; total time=   0.0s\n",
            "[CV] END algorithm=ball_tree, leaf_size=20, n_neighbors=7, p=1, weights=distance; total time=   0.0s\n",
            "[CV] END algorithm=ball_tree, leaf_size=20, n_neighbors=7, p=1, weights=distance; total time=   0.0s\n",
            "[CV] END algorithm=ball_tree, leaf_size=20, n_neighbors=7, p=2, weights=uniform; total time=   0.0s\n",
            "[CV] END algorithm=ball_tree, leaf_size=20, n_neighbors=7, p=2, weights=uniform; total time=   0.0s\n",
            "[CV] END algorithm=ball_tree, leaf_size=20, n_neighbors=7, p=2, weights=uniform; total time=   0.0s\n",
            "[CV] END algorithm=ball_tree, leaf_size=20, n_neighbors=7, p=2, weights=distance; total time=   0.0s\n",
            "[CV] END algorithm=ball_tree, leaf_size=20, n_neighbors=7, p=2, weights=distance; total time=   0.0s\n",
            "[CV] END algorithm=ball_tree, leaf_size=20, n_neighbors=7, p=2, weights=distance; total time=   0.0s\n",
            "[CV] END algorithm=ball_tree, leaf_size=20, n_neighbors=9, p=1, weights=uniform; total time=   0.0s\n",
            "[CV] END algorithm=ball_tree, leaf_size=20, n_neighbors=9, p=1, weights=uniform; total time=   0.0s\n",
            "[CV] END algorithm=ball_tree, leaf_size=20, n_neighbors=9, p=1, weights=uniform; total time=   0.0s\n",
            "[CV] END algorithm=ball_tree, leaf_size=20, n_neighbors=9, p=1, weights=distance; total time=   0.0s\n",
            "[CV] END algorithm=ball_tree, leaf_size=20, n_neighbors=9, p=1, weights=distance; total time=   0.0s\n",
            "[CV] END algorithm=ball_tree, leaf_size=20, n_neighbors=9, p=1, weights=distance; total time=   0.0s\n",
            "[CV] END algorithm=ball_tree, leaf_size=20, n_neighbors=9, p=2, weights=uniform; total time=   0.0s\n",
            "[CV] END algorithm=ball_tree, leaf_size=20, n_neighbors=9, p=2, weights=uniform; total time=   0.0s\n",
            "[CV] END algorithm=ball_tree, leaf_size=20, n_neighbors=9, p=2, weights=uniform; total time=   0.0s\n",
            "[CV] END algorithm=ball_tree, leaf_size=20, n_neighbors=9, p=2, weights=distance; total time=   0.0s\n",
            "[CV] END algorithm=ball_tree, leaf_size=20, n_neighbors=9, p=2, weights=distance; total time=   0.0s\n",
            "[CV] END algorithm=ball_tree, leaf_size=20, n_neighbors=9, p=2, weights=distance; total time=   0.0s\n",
            "[CV] END algorithm=ball_tree, leaf_size=30, n_neighbors=3, p=1, weights=uniform; total time=   0.0s\n",
            "[CV] END algorithm=ball_tree, leaf_size=30, n_neighbors=3, p=1, weights=uniform; total time=   0.0s\n",
            "[CV] END algorithm=ball_tree, leaf_size=30, n_neighbors=3, p=1, weights=uniform; total time=   0.0s\n",
            "[CV] END algorithm=ball_tree, leaf_size=30, n_neighbors=3, p=1, weights=distance; total time=   0.0s\n",
            "[CV] END algorithm=ball_tree, leaf_size=30, n_neighbors=3, p=1, weights=distance; total time=   0.0s\n",
            "[CV] END algorithm=ball_tree, leaf_size=30, n_neighbors=3, p=1, weights=distance; total time=   0.0s\n",
            "[CV] END algorithm=ball_tree, leaf_size=30, n_neighbors=3, p=2, weights=uniform; total time=   0.0s\n",
            "[CV] END algorithm=ball_tree, leaf_size=30, n_neighbors=3, p=2, weights=uniform; total time=   0.0s\n",
            "[CV] END algorithm=ball_tree, leaf_size=30, n_neighbors=3, p=2, weights=uniform; total time=   0.0s\n",
            "[CV] END algorithm=ball_tree, leaf_size=30, n_neighbors=3, p=2, weights=distance; total time=   0.0s\n",
            "[CV] END algorithm=ball_tree, leaf_size=30, n_neighbors=3, p=2, weights=distance; total time=   0.0s\n",
            "[CV] END algorithm=ball_tree, leaf_size=30, n_neighbors=3, p=2, weights=distance; total time=   0.0s\n",
            "[CV] END algorithm=ball_tree, leaf_size=30, n_neighbors=5, p=1, weights=uniform; total time=   0.0s\n",
            "[CV] END algorithm=ball_tree, leaf_size=30, n_neighbors=5, p=1, weights=uniform; total time=   0.0s\n",
            "[CV] END algorithm=ball_tree, leaf_size=30, n_neighbors=5, p=1, weights=uniform; total time=   0.0s\n",
            "[CV] END algorithm=ball_tree, leaf_size=30, n_neighbors=5, p=1, weights=distance; total time=   0.0s\n",
            "[CV] END algorithm=ball_tree, leaf_size=30, n_neighbors=5, p=1, weights=distance; total time=   0.0s\n",
            "[CV] END algorithm=ball_tree, leaf_size=30, n_neighbors=5, p=1, weights=distance; total time=   0.0s\n",
            "[CV] END algorithm=ball_tree, leaf_size=30, n_neighbors=5, p=2, weights=uniform; total time=   0.0s\n",
            "[CV] END algorithm=ball_tree, leaf_size=30, n_neighbors=5, p=2, weights=uniform; total time=   0.0s\n",
            "[CV] END algorithm=ball_tree, leaf_size=30, n_neighbors=5, p=2, weights=uniform; total time=   0.0s\n",
            "[CV] END algorithm=ball_tree, leaf_size=30, n_neighbors=5, p=2, weights=distance; total time=   0.0s\n",
            "[CV] END algorithm=ball_tree, leaf_size=30, n_neighbors=5, p=2, weights=distance; total time=   0.0s\n",
            "[CV] END algorithm=ball_tree, leaf_size=30, n_neighbors=5, p=2, weights=distance; total time=   0.0s\n",
            "[CV] END algorithm=ball_tree, leaf_size=30, n_neighbors=7, p=1, weights=uniform; total time=   0.0s\n",
            "[CV] END algorithm=ball_tree, leaf_size=30, n_neighbors=7, p=1, weights=uniform; total time=   0.0s\n",
            "[CV] END algorithm=ball_tree, leaf_size=30, n_neighbors=7, p=1, weights=uniform; total time=   0.0s\n",
            "[CV] END algorithm=ball_tree, leaf_size=30, n_neighbors=7, p=1, weights=distance; total time=   0.0s\n",
            "[CV] END algorithm=ball_tree, leaf_size=30, n_neighbors=7, p=1, weights=distance; total time=   0.0s\n",
            "[CV] END algorithm=ball_tree, leaf_size=30, n_neighbors=7, p=1, weights=distance; total time=   0.0s\n",
            "[CV] END algorithm=ball_tree, leaf_size=30, n_neighbors=7, p=2, weights=uniform; total time=   0.0s\n",
            "[CV] END algorithm=ball_tree, leaf_size=30, n_neighbors=7, p=2, weights=uniform; total time=   0.0s\n",
            "[CV] END algorithm=ball_tree, leaf_size=30, n_neighbors=7, p=2, weights=uniform; total time=   0.0s\n",
            "[CV] END algorithm=ball_tree, leaf_size=30, n_neighbors=7, p=2, weights=distance; total time=   0.0s\n",
            "[CV] END algorithm=ball_tree, leaf_size=30, n_neighbors=7, p=2, weights=distance; total time=   0.0s\n",
            "[CV] END algorithm=ball_tree, leaf_size=30, n_neighbors=7, p=2, weights=distance; total time=   0.0s\n",
            "[CV] END algorithm=ball_tree, leaf_size=30, n_neighbors=9, p=1, weights=uniform; total time=   0.0s\n",
            "[CV] END algorithm=ball_tree, leaf_size=30, n_neighbors=9, p=1, weights=uniform; total time=   0.0s\n",
            "[CV] END algorithm=ball_tree, leaf_size=30, n_neighbors=9, p=1, weights=uniform; total time=   0.0s\n",
            "[CV] END algorithm=ball_tree, leaf_size=30, n_neighbors=9, p=1, weights=distance; total time=   0.0s\n",
            "[CV] END algorithm=ball_tree, leaf_size=30, n_neighbors=9, p=1, weights=distance; total time=   0.0s\n",
            "[CV] END algorithm=ball_tree, leaf_size=30, n_neighbors=9, p=1, weights=distance; total time=   0.0s\n",
            "[CV] END algorithm=ball_tree, leaf_size=30, n_neighbors=9, p=2, weights=uniform; total time=   0.0s\n",
            "[CV] END algorithm=ball_tree, leaf_size=30, n_neighbors=9, p=2, weights=uniform; total time=   0.0s\n",
            "[CV] END algorithm=ball_tree, leaf_size=30, n_neighbors=9, p=2, weights=uniform; total time=   0.0s\n",
            "[CV] END algorithm=ball_tree, leaf_size=30, n_neighbors=9, p=2, weights=distance; total time=   0.0s\n",
            "[CV] END algorithm=ball_tree, leaf_size=30, n_neighbors=9, p=2, weights=distance; total time=   0.0s\n",
            "[CV] END algorithm=ball_tree, leaf_size=30, n_neighbors=9, p=2, weights=distance; total time=   0.0s\n",
            "[CV] END algorithm=kd_tree, leaf_size=10, n_neighbors=3, p=1, weights=uniform; total time=   0.0s\n",
            "[CV] END algorithm=kd_tree, leaf_size=10, n_neighbors=3, p=1, weights=uniform; total time=   0.0s\n",
            "[CV] END algorithm=kd_tree, leaf_size=10, n_neighbors=3, p=1, weights=uniform; total time=   0.0s\n",
            "[CV] END algorithm=kd_tree, leaf_size=10, n_neighbors=3, p=1, weights=distance; total time=   0.0s\n",
            "[CV] END algorithm=kd_tree, leaf_size=10, n_neighbors=3, p=1, weights=distance; total time=   0.0s\n",
            "[CV] END algorithm=kd_tree, leaf_size=10, n_neighbors=3, p=1, weights=distance; total time=   0.0s\n",
            "[CV] END algorithm=kd_tree, leaf_size=10, n_neighbors=3, p=2, weights=uniform; total time=   0.0s\n",
            "[CV] END algorithm=kd_tree, leaf_size=10, n_neighbors=3, p=2, weights=uniform; total time=   0.0s\n",
            "[CV] END algorithm=kd_tree, leaf_size=10, n_neighbors=3, p=2, weights=uniform; total time=   0.0s\n",
            "[CV] END algorithm=kd_tree, leaf_size=10, n_neighbors=3, p=2, weights=distance; total time=   0.0s\n",
            "[CV] END algorithm=kd_tree, leaf_size=10, n_neighbors=3, p=2, weights=distance; total time=   0.0s\n",
            "[CV] END algorithm=kd_tree, leaf_size=10, n_neighbors=3, p=2, weights=distance; total time=   0.0s\n",
            "[CV] END algorithm=kd_tree, leaf_size=10, n_neighbors=5, p=1, weights=uniform; total time=   0.0s\n",
            "[CV] END algorithm=kd_tree, leaf_size=10, n_neighbors=5, p=1, weights=uniform; total time=   0.0s\n",
            "[CV] END algorithm=kd_tree, leaf_size=10, n_neighbors=5, p=1, weights=uniform; total time=   0.0s\n",
            "[CV] END algorithm=kd_tree, leaf_size=10, n_neighbors=5, p=1, weights=distance; total time=   0.0s\n",
            "[CV] END algorithm=kd_tree, leaf_size=10, n_neighbors=5, p=1, weights=distance; total time=   0.0s\n",
            "[CV] END algorithm=kd_tree, leaf_size=10, n_neighbors=5, p=1, weights=distance; total time=   0.0s\n",
            "[CV] END algorithm=kd_tree, leaf_size=10, n_neighbors=5, p=2, weights=uniform; total time=   0.0s\n",
            "[CV] END algorithm=kd_tree, leaf_size=10, n_neighbors=5, p=2, weights=uniform; total time=   0.0s\n",
            "[CV] END algorithm=kd_tree, leaf_size=10, n_neighbors=5, p=2, weights=uniform; total time=   0.0s\n",
            "[CV] END algorithm=kd_tree, leaf_size=10, n_neighbors=5, p=2, weights=distance; total time=   0.0s\n",
            "[CV] END algorithm=kd_tree, leaf_size=10, n_neighbors=5, p=2, weights=distance; total time=   0.0s\n",
            "[CV] END algorithm=kd_tree, leaf_size=10, n_neighbors=5, p=2, weights=distance; total time=   0.0s\n",
            "[CV] END algorithm=kd_tree, leaf_size=10, n_neighbors=7, p=1, weights=uniform; total time=   0.0s\n",
            "[CV] END algorithm=kd_tree, leaf_size=10, n_neighbors=7, p=1, weights=uniform; total time=   0.0s\n",
            "[CV] END algorithm=kd_tree, leaf_size=10, n_neighbors=7, p=1, weights=uniform; total time=   0.0s\n",
            "[CV] END algorithm=kd_tree, leaf_size=10, n_neighbors=7, p=1, weights=distance; total time=   0.0s\n",
            "[CV] END algorithm=kd_tree, leaf_size=10, n_neighbors=7, p=1, weights=distance; total time=   0.0s\n",
            "[CV] END algorithm=kd_tree, leaf_size=10, n_neighbors=7, p=1, weights=distance; total time=   0.0s\n",
            "[CV] END algorithm=kd_tree, leaf_size=10, n_neighbors=7, p=2, weights=uniform; total time=   0.0s\n",
            "[CV] END algorithm=kd_tree, leaf_size=10, n_neighbors=7, p=2, weights=uniform; total time=   0.0s\n",
            "[CV] END algorithm=kd_tree, leaf_size=10, n_neighbors=7, p=2, weights=uniform; total time=   0.0s\n",
            "[CV] END algorithm=kd_tree, leaf_size=10, n_neighbors=7, p=2, weights=distance; total time=   0.0s\n",
            "[CV] END algorithm=kd_tree, leaf_size=10, n_neighbors=7, p=2, weights=distance; total time=   0.0s\n",
            "[CV] END algorithm=kd_tree, leaf_size=10, n_neighbors=7, p=2, weights=distance; total time=   0.0s\n",
            "[CV] END algorithm=kd_tree, leaf_size=10, n_neighbors=9, p=1, weights=uniform; total time=   0.0s\n",
            "[CV] END algorithm=kd_tree, leaf_size=10, n_neighbors=9, p=1, weights=uniform; total time=   0.0s\n",
            "[CV] END algorithm=kd_tree, leaf_size=10, n_neighbors=9, p=1, weights=uniform; total time=   0.0s\n",
            "[CV] END algorithm=kd_tree, leaf_size=10, n_neighbors=9, p=1, weights=distance; total time=   0.0s\n",
            "[CV] END algorithm=kd_tree, leaf_size=10, n_neighbors=9, p=1, weights=distance; total time=   0.0s\n",
            "[CV] END algorithm=kd_tree, leaf_size=10, n_neighbors=9, p=1, weights=distance; total time=   0.0s\n",
            "[CV] END algorithm=kd_tree, leaf_size=10, n_neighbors=9, p=2, weights=uniform; total time=   0.0s\n",
            "[CV] END algorithm=kd_tree, leaf_size=10, n_neighbors=9, p=2, weights=uniform; total time=   0.0s\n",
            "[CV] END algorithm=kd_tree, leaf_size=10, n_neighbors=9, p=2, weights=uniform; total time=   0.0s\n",
            "[CV] END algorithm=kd_tree, leaf_size=10, n_neighbors=9, p=2, weights=distance; total time=   0.0s\n",
            "[CV] END algorithm=kd_tree, leaf_size=10, n_neighbors=9, p=2, weights=distance; total time=   0.0s\n",
            "[CV] END algorithm=kd_tree, leaf_size=10, n_neighbors=9, p=2, weights=distance; total time=   0.0s\n",
            "[CV] END algorithm=kd_tree, leaf_size=20, n_neighbors=3, p=1, weights=uniform; total time=   0.0s\n",
            "[CV] END algorithm=kd_tree, leaf_size=20, n_neighbors=3, p=1, weights=uniform; total time=   0.0s\n",
            "[CV] END algorithm=kd_tree, leaf_size=20, n_neighbors=3, p=1, weights=uniform; total time=   0.0s\n",
            "[CV] END algorithm=kd_tree, leaf_size=20, n_neighbors=3, p=1, weights=distance; total time=   0.0s\n",
            "[CV] END algorithm=kd_tree, leaf_size=20, n_neighbors=3, p=1, weights=distance; total time=   0.0s\n",
            "[CV] END algorithm=kd_tree, leaf_size=20, n_neighbors=3, p=1, weights=distance; total time=   0.0s\n",
            "[CV] END algorithm=kd_tree, leaf_size=20, n_neighbors=3, p=2, weights=uniform; total time=   0.0s\n",
            "[CV] END algorithm=kd_tree, leaf_size=20, n_neighbors=3, p=2, weights=uniform; total time=   0.0s\n",
            "[CV] END algorithm=kd_tree, leaf_size=20, n_neighbors=3, p=2, weights=uniform; total time=   0.0s\n",
            "[CV] END algorithm=kd_tree, leaf_size=20, n_neighbors=3, p=2, weights=distance; total time=   0.0s\n",
            "[CV] END algorithm=kd_tree, leaf_size=20, n_neighbors=3, p=2, weights=distance; total time=   0.0s\n",
            "[CV] END algorithm=kd_tree, leaf_size=20, n_neighbors=3, p=2, weights=distance; total time=   0.0s\n",
            "[CV] END algorithm=kd_tree, leaf_size=20, n_neighbors=5, p=1, weights=uniform; total time=   0.0s\n",
            "[CV] END algorithm=kd_tree, leaf_size=20, n_neighbors=5, p=1, weights=uniform; total time=   0.0s\n",
            "[CV] END algorithm=kd_tree, leaf_size=20, n_neighbors=5, p=1, weights=uniform; total time=   0.0s\n",
            "[CV] END algorithm=kd_tree, leaf_size=20, n_neighbors=5, p=1, weights=distance; total time=   0.0s\n",
            "[CV] END algorithm=kd_tree, leaf_size=20, n_neighbors=5, p=1, weights=distance; total time=   0.0s\n",
            "[CV] END algorithm=kd_tree, leaf_size=20, n_neighbors=5, p=1, weights=distance; total time=   0.0s\n",
            "[CV] END algorithm=kd_tree, leaf_size=20, n_neighbors=5, p=2, weights=uniform; total time=   0.0s\n",
            "[CV] END algorithm=kd_tree, leaf_size=20, n_neighbors=5, p=2, weights=uniform; total time=   0.0s\n",
            "[CV] END algorithm=kd_tree, leaf_size=20, n_neighbors=5, p=2, weights=uniform; total time=   0.0s\n",
            "[CV] END algorithm=kd_tree, leaf_size=20, n_neighbors=5, p=2, weights=distance; total time=   0.0s\n",
            "[CV] END algorithm=kd_tree, leaf_size=20, n_neighbors=5, p=2, weights=distance; total time=   0.0s\n",
            "[CV] END algorithm=kd_tree, leaf_size=20, n_neighbors=5, p=2, weights=distance; total time=   0.0s\n",
            "[CV] END algorithm=kd_tree, leaf_size=20, n_neighbors=7, p=1, weights=uniform; total time=   0.0s\n",
            "[CV] END algorithm=kd_tree, leaf_size=20, n_neighbors=7, p=1, weights=uniform; total time=   0.0s\n",
            "[CV] END algorithm=kd_tree, leaf_size=20, n_neighbors=7, p=1, weights=uniform; total time=   0.0s\n",
            "[CV] END algorithm=kd_tree, leaf_size=20, n_neighbors=7, p=1, weights=distance; total time=   0.0s\n",
            "[CV] END algorithm=kd_tree, leaf_size=20, n_neighbors=7, p=1, weights=distance; total time=   0.0s\n",
            "[CV] END algorithm=kd_tree, leaf_size=20, n_neighbors=7, p=1, weights=distance; total time=   0.0s\n",
            "[CV] END algorithm=kd_tree, leaf_size=20, n_neighbors=7, p=2, weights=uniform; total time=   0.0s\n",
            "[CV] END algorithm=kd_tree, leaf_size=20, n_neighbors=7, p=2, weights=uniform; total time=   0.0s\n",
            "[CV] END algorithm=kd_tree, leaf_size=20, n_neighbors=7, p=2, weights=uniform; total time=   0.0s\n",
            "[CV] END algorithm=kd_tree, leaf_size=20, n_neighbors=7, p=2, weights=distance; total time=   0.0s\n",
            "[CV] END algorithm=kd_tree, leaf_size=20, n_neighbors=7, p=2, weights=distance; total time=   0.0s\n",
            "[CV] END algorithm=kd_tree, leaf_size=20, n_neighbors=7, p=2, weights=distance; total time=   0.0s\n",
            "[CV] END algorithm=kd_tree, leaf_size=20, n_neighbors=9, p=1, weights=uniform; total time=   0.0s\n",
            "[CV] END algorithm=kd_tree, leaf_size=20, n_neighbors=9, p=1, weights=uniform; total time=   0.0s\n",
            "[CV] END algorithm=kd_tree, leaf_size=20, n_neighbors=9, p=1, weights=uniform; total time=   0.0s\n",
            "[CV] END algorithm=kd_tree, leaf_size=20, n_neighbors=9, p=1, weights=distance; total time=   0.0s\n",
            "[CV] END algorithm=kd_tree, leaf_size=20, n_neighbors=9, p=1, weights=distance; total time=   0.0s\n",
            "[CV] END algorithm=kd_tree, leaf_size=20, n_neighbors=9, p=1, weights=distance; total time=   0.0s\n",
            "[CV] END algorithm=kd_tree, leaf_size=20, n_neighbors=9, p=2, weights=uniform; total time=   0.0s\n",
            "[CV] END algorithm=kd_tree, leaf_size=20, n_neighbors=9, p=2, weights=uniform; total time=   0.0s\n",
            "[CV] END algorithm=kd_tree, leaf_size=20, n_neighbors=9, p=2, weights=uniform; total time=   0.0s\n",
            "[CV] END algorithm=kd_tree, leaf_size=20, n_neighbors=9, p=2, weights=distance; total time=   0.0s\n",
            "[CV] END algorithm=kd_tree, leaf_size=20, n_neighbors=9, p=2, weights=distance; total time=   0.0s\n",
            "[CV] END algorithm=kd_tree, leaf_size=20, n_neighbors=9, p=2, weights=distance; total time=   0.0s\n",
            "[CV] END algorithm=kd_tree, leaf_size=30, n_neighbors=3, p=1, weights=uniform; total time=   0.0s\n",
            "[CV] END algorithm=kd_tree, leaf_size=30, n_neighbors=3, p=1, weights=uniform; total time=   0.0s\n",
            "[CV] END algorithm=kd_tree, leaf_size=30, n_neighbors=3, p=1, weights=uniform; total time=   0.0s\n",
            "[CV] END algorithm=kd_tree, leaf_size=30, n_neighbors=3, p=1, weights=distance; total time=   0.0s\n",
            "[CV] END algorithm=kd_tree, leaf_size=30, n_neighbors=3, p=1, weights=distance; total time=   0.0s\n",
            "[CV] END algorithm=kd_tree, leaf_size=30, n_neighbors=3, p=1, weights=distance; total time=   0.0s\n",
            "[CV] END algorithm=kd_tree, leaf_size=30, n_neighbors=3, p=2, weights=uniform; total time=   0.0s\n",
            "[CV] END algorithm=kd_tree, leaf_size=30, n_neighbors=3, p=2, weights=uniform; total time=   0.0s\n",
            "[CV] END algorithm=kd_tree, leaf_size=30, n_neighbors=3, p=2, weights=uniform; total time=   0.0s\n",
            "[CV] END algorithm=kd_tree, leaf_size=30, n_neighbors=3, p=2, weights=distance; total time=   0.0s\n",
            "[CV] END algorithm=kd_tree, leaf_size=30, n_neighbors=3, p=2, weights=distance; total time=   0.0s\n",
            "[CV] END algorithm=kd_tree, leaf_size=30, n_neighbors=3, p=2, weights=distance; total time=   0.0s\n",
            "[CV] END algorithm=kd_tree, leaf_size=30, n_neighbors=5, p=1, weights=uniform; total time=   0.0s\n",
            "[CV] END algorithm=kd_tree, leaf_size=30, n_neighbors=5, p=1, weights=uniform; total time=   0.0s\n",
            "[CV] END algorithm=kd_tree, leaf_size=30, n_neighbors=5, p=1, weights=uniform; total time=   0.0s\n",
            "[CV] END algorithm=kd_tree, leaf_size=30, n_neighbors=5, p=1, weights=distance; total time=   0.0s\n",
            "[CV] END algorithm=kd_tree, leaf_size=30, n_neighbors=5, p=1, weights=distance; total time=   0.0s\n",
            "[CV] END algorithm=kd_tree, leaf_size=30, n_neighbors=5, p=1, weights=distance; total time=   0.0s\n",
            "[CV] END algorithm=kd_tree, leaf_size=30, n_neighbors=5, p=2, weights=uniform; total time=   0.0s\n",
            "[CV] END algorithm=kd_tree, leaf_size=30, n_neighbors=5, p=2, weights=uniform; total time=   0.0s\n",
            "[CV] END algorithm=kd_tree, leaf_size=30, n_neighbors=5, p=2, weights=uniform; total time=   0.0s\n",
            "[CV] END algorithm=kd_tree, leaf_size=30, n_neighbors=5, p=2, weights=distance; total time=   0.0s\n",
            "[CV] END algorithm=kd_tree, leaf_size=30, n_neighbors=5, p=2, weights=distance; total time=   0.0s\n",
            "[CV] END algorithm=kd_tree, leaf_size=30, n_neighbors=5, p=2, weights=distance; total time=   0.0s\n",
            "[CV] END algorithm=kd_tree, leaf_size=30, n_neighbors=7, p=1, weights=uniform; total time=   0.0s\n",
            "[CV] END algorithm=kd_tree, leaf_size=30, n_neighbors=7, p=1, weights=uniform; total time=   0.0s\n",
            "[CV] END algorithm=kd_tree, leaf_size=30, n_neighbors=7, p=1, weights=uniform; total time=   0.0s\n",
            "[CV] END algorithm=kd_tree, leaf_size=30, n_neighbors=7, p=1, weights=distance; total time=   0.0s\n",
            "[CV] END algorithm=kd_tree, leaf_size=30, n_neighbors=7, p=1, weights=distance; total time=   0.0s\n",
            "[CV] END algorithm=kd_tree, leaf_size=30, n_neighbors=7, p=1, weights=distance; total time=   0.0s\n",
            "[CV] END algorithm=kd_tree, leaf_size=30, n_neighbors=7, p=2, weights=uniform; total time=   0.0s\n",
            "[CV] END algorithm=kd_tree, leaf_size=30, n_neighbors=7, p=2, weights=uniform; total time=   0.0s\n",
            "[CV] END algorithm=kd_tree, leaf_size=30, n_neighbors=7, p=2, weights=uniform; total time=   0.0s\n",
            "[CV] END algorithm=kd_tree, leaf_size=30, n_neighbors=7, p=2, weights=distance; total time=   0.0s\n",
            "[CV] END algorithm=kd_tree, leaf_size=30, n_neighbors=7, p=2, weights=distance; total time=   0.0s\n",
            "[CV] END algorithm=kd_tree, leaf_size=30, n_neighbors=7, p=2, weights=distance; total time=   0.0s\n",
            "[CV] END algorithm=kd_tree, leaf_size=30, n_neighbors=9, p=1, weights=uniform; total time=   0.0s\n",
            "[CV] END algorithm=kd_tree, leaf_size=30, n_neighbors=9, p=1, weights=uniform; total time=   0.0s\n",
            "[CV] END algorithm=kd_tree, leaf_size=30, n_neighbors=9, p=1, weights=uniform; total time=   0.0s\n",
            "[CV] END algorithm=kd_tree, leaf_size=30, n_neighbors=9, p=1, weights=distance; total time=   0.0s\n",
            "[CV] END algorithm=kd_tree, leaf_size=30, n_neighbors=9, p=1, weights=distance; total time=   0.0s\n",
            "[CV] END algorithm=kd_tree, leaf_size=30, n_neighbors=9, p=1, weights=distance; total time=   0.0s\n",
            "[CV] END algorithm=kd_tree, leaf_size=30, n_neighbors=9, p=2, weights=uniform; total time=   0.0s\n",
            "[CV] END algorithm=kd_tree, leaf_size=30, n_neighbors=9, p=2, weights=uniform; total time=   0.0s\n",
            "[CV] END algorithm=kd_tree, leaf_size=30, n_neighbors=9, p=2, weights=uniform; total time=   0.0s\n",
            "[CV] END algorithm=kd_tree, leaf_size=30, n_neighbors=9, p=2, weights=distance; total time=   0.0s\n",
            "[CV] END algorithm=kd_tree, leaf_size=30, n_neighbors=9, p=2, weights=distance; total time=   0.0s\n",
            "[CV] END algorithm=kd_tree, leaf_size=30, n_neighbors=9, p=2, weights=distance; total time=   0.0s\n",
            "[CV] END algorithm=brute, leaf_size=10, n_neighbors=3, p=1, weights=uniform; total time=   0.0s\n",
            "[CV] END algorithm=brute, leaf_size=10, n_neighbors=3, p=1, weights=uniform; total time=   0.0s\n",
            "[CV] END algorithm=brute, leaf_size=10, n_neighbors=3, p=1, weights=uniform; total time=   0.0s\n",
            "[CV] END algorithm=brute, leaf_size=10, n_neighbors=3, p=1, weights=distance; total time=   0.0s\n",
            "[CV] END algorithm=brute, leaf_size=10, n_neighbors=3, p=1, weights=distance; total time=   0.0s\n",
            "[CV] END algorithm=brute, leaf_size=10, n_neighbors=3, p=1, weights=distance; total time=   0.0s\n",
            "[CV] END algorithm=brute, leaf_size=10, n_neighbors=3, p=2, weights=uniform; total time=   0.0s\n",
            "[CV] END algorithm=brute, leaf_size=10, n_neighbors=3, p=2, weights=uniform; total time=   0.0s\n",
            "[CV] END algorithm=brute, leaf_size=10, n_neighbors=3, p=2, weights=uniform; total time=   0.0s\n",
            "[CV] END algorithm=brute, leaf_size=10, n_neighbors=3, p=2, weights=distance; total time=   0.0s\n",
            "[CV] END algorithm=brute, leaf_size=10, n_neighbors=3, p=2, weights=distance; total time=   0.0s\n",
            "[CV] END algorithm=brute, leaf_size=10, n_neighbors=3, p=2, weights=distance; total time=   0.0s\n",
            "[CV] END algorithm=brute, leaf_size=10, n_neighbors=5, p=1, weights=uniform; total time=   0.0s\n",
            "[CV] END algorithm=brute, leaf_size=10, n_neighbors=5, p=1, weights=uniform; total time=   0.0s\n",
            "[CV] END algorithm=brute, leaf_size=10, n_neighbors=5, p=1, weights=uniform; total time=   0.0s\n",
            "[CV] END algorithm=brute, leaf_size=10, n_neighbors=5, p=1, weights=distance; total time=   0.0s\n",
            "[CV] END algorithm=brute, leaf_size=10, n_neighbors=5, p=1, weights=distance; total time=   0.0s\n",
            "[CV] END algorithm=brute, leaf_size=10, n_neighbors=5, p=1, weights=distance; total time=   0.0s\n",
            "[CV] END algorithm=brute, leaf_size=10, n_neighbors=5, p=2, weights=uniform; total time=   0.0s\n",
            "[CV] END algorithm=brute, leaf_size=10, n_neighbors=5, p=2, weights=uniform; total time=   0.0s\n",
            "[CV] END algorithm=brute, leaf_size=10, n_neighbors=5, p=2, weights=uniform; total time=   0.0s\n",
            "[CV] END algorithm=brute, leaf_size=10, n_neighbors=5, p=2, weights=distance; total time=   0.0s\n",
            "[CV] END algorithm=brute, leaf_size=10, n_neighbors=5, p=2, weights=distance; total time=   0.0s\n",
            "[CV] END algorithm=brute, leaf_size=10, n_neighbors=5, p=2, weights=distance; total time=   0.0s\n",
            "[CV] END algorithm=brute, leaf_size=10, n_neighbors=7, p=1, weights=uniform; total time=   0.0s\n",
            "[CV] END algorithm=brute, leaf_size=10, n_neighbors=7, p=1, weights=uniform; total time=   0.0s\n",
            "[CV] END algorithm=brute, leaf_size=10, n_neighbors=7, p=1, weights=uniform; total time=   0.0s\n",
            "[CV] END algorithm=brute, leaf_size=10, n_neighbors=7, p=1, weights=distance; total time=   0.0s\n",
            "[CV] END algorithm=brute, leaf_size=10, n_neighbors=7, p=1, weights=distance; total time=   0.0s\n",
            "[CV] END algorithm=brute, leaf_size=10, n_neighbors=7, p=1, weights=distance; total time=   0.0s\n",
            "[CV] END algorithm=brute, leaf_size=10, n_neighbors=7, p=2, weights=uniform; total time=   0.0s\n",
            "[CV] END algorithm=brute, leaf_size=10, n_neighbors=7, p=2, weights=uniform; total time=   0.0s\n",
            "[CV] END algorithm=brute, leaf_size=10, n_neighbors=7, p=2, weights=uniform; total time=   0.0s\n",
            "[CV] END algorithm=brute, leaf_size=10, n_neighbors=7, p=2, weights=distance; total time=   0.0s\n",
            "[CV] END algorithm=brute, leaf_size=10, n_neighbors=7, p=2, weights=distance; total time=   0.0s\n",
            "[CV] END algorithm=brute, leaf_size=10, n_neighbors=7, p=2, weights=distance; total time=   0.0s\n",
            "[CV] END algorithm=brute, leaf_size=10, n_neighbors=9, p=1, weights=uniform; total time=   0.0s\n",
            "[CV] END algorithm=brute, leaf_size=10, n_neighbors=9, p=1, weights=uniform; total time=   0.0s\n",
            "[CV] END algorithm=brute, leaf_size=10, n_neighbors=9, p=1, weights=uniform; total time=   0.0s\n",
            "[CV] END algorithm=brute, leaf_size=10, n_neighbors=9, p=1, weights=distance; total time=   0.0s\n",
            "[CV] END algorithm=brute, leaf_size=10, n_neighbors=9, p=1, weights=distance; total time=   0.0s\n",
            "[CV] END algorithm=brute, leaf_size=10, n_neighbors=9, p=1, weights=distance; total time=   0.0s\n",
            "[CV] END algorithm=brute, leaf_size=10, n_neighbors=9, p=2, weights=uniform; total time=   0.0s\n",
            "[CV] END algorithm=brute, leaf_size=10, n_neighbors=9, p=2, weights=uniform; total time=   0.0s\n",
            "[CV] END algorithm=brute, leaf_size=10, n_neighbors=9, p=2, weights=uniform; total time=   0.0s\n",
            "[CV] END algorithm=brute, leaf_size=10, n_neighbors=9, p=2, weights=distance; total time=   0.0s\n",
            "[CV] END algorithm=brute, leaf_size=10, n_neighbors=9, p=2, weights=distance; total time=   0.0s\n",
            "[CV] END algorithm=brute, leaf_size=10, n_neighbors=9, p=2, weights=distance; total time=   0.0s\n",
            "[CV] END algorithm=brute, leaf_size=20, n_neighbors=3, p=1, weights=uniform; total time=   0.0s\n",
            "[CV] END algorithm=brute, leaf_size=20, n_neighbors=3, p=1, weights=uniform; total time=   0.0s\n",
            "[CV] END algorithm=brute, leaf_size=20, n_neighbors=3, p=1, weights=uniform; total time=   0.0s\n",
            "[CV] END algorithm=brute, leaf_size=20, n_neighbors=3, p=1, weights=distance; total time=   0.0s\n",
            "[CV] END algorithm=brute, leaf_size=20, n_neighbors=3, p=1, weights=distance; total time=   0.0s\n",
            "[CV] END algorithm=brute, leaf_size=20, n_neighbors=3, p=1, weights=distance; total time=   0.0s\n",
            "[CV] END algorithm=brute, leaf_size=20, n_neighbors=3, p=2, weights=uniform; total time=   0.0s\n",
            "[CV] END algorithm=brute, leaf_size=20, n_neighbors=3, p=2, weights=uniform; total time=   0.0s\n",
            "[CV] END algorithm=brute, leaf_size=20, n_neighbors=3, p=2, weights=uniform; total time=   0.0s\n",
            "[CV] END algorithm=brute, leaf_size=20, n_neighbors=3, p=2, weights=distance; total time=   0.0s\n",
            "[CV] END algorithm=brute, leaf_size=20, n_neighbors=3, p=2, weights=distance; total time=   0.0s\n",
            "[CV] END algorithm=brute, leaf_size=20, n_neighbors=3, p=2, weights=distance; total time=   0.0s\n",
            "[CV] END algorithm=brute, leaf_size=20, n_neighbors=5, p=1, weights=uniform; total time=   0.0s\n",
            "[CV] END algorithm=brute, leaf_size=20, n_neighbors=5, p=1, weights=uniform; total time=   0.0s\n",
            "[CV] END algorithm=brute, leaf_size=20, n_neighbors=5, p=1, weights=uniform; total time=   0.0s\n",
            "[CV] END algorithm=brute, leaf_size=20, n_neighbors=5, p=1, weights=distance; total time=   0.0s\n",
            "[CV] END algorithm=brute, leaf_size=20, n_neighbors=5, p=1, weights=distance; total time=   0.0s\n",
            "[CV] END algorithm=brute, leaf_size=20, n_neighbors=5, p=1, weights=distance; total time=   0.0s\n",
            "[CV] END algorithm=brute, leaf_size=20, n_neighbors=5, p=2, weights=uniform; total time=   0.0s\n",
            "[CV] END algorithm=brute, leaf_size=20, n_neighbors=5, p=2, weights=uniform; total time=   0.0s\n",
            "[CV] END algorithm=brute, leaf_size=20, n_neighbors=5, p=2, weights=uniform; total time=   0.0s\n",
            "[CV] END algorithm=brute, leaf_size=20, n_neighbors=5, p=2, weights=distance; total time=   0.0s\n",
            "[CV] END algorithm=brute, leaf_size=20, n_neighbors=5, p=2, weights=distance; total time=   0.0s\n",
            "[CV] END algorithm=brute, leaf_size=20, n_neighbors=5, p=2, weights=distance; total time=   0.0s\n",
            "[CV] END algorithm=brute, leaf_size=20, n_neighbors=7, p=1, weights=uniform; total time=   0.0s\n",
            "[CV] END algorithm=brute, leaf_size=20, n_neighbors=7, p=1, weights=uniform; total time=   0.0s\n",
            "[CV] END algorithm=brute, leaf_size=20, n_neighbors=7, p=1, weights=uniform; total time=   0.0s\n",
            "[CV] END algorithm=brute, leaf_size=20, n_neighbors=7, p=1, weights=distance; total time=   0.0s\n",
            "[CV] END algorithm=brute, leaf_size=20, n_neighbors=7, p=1, weights=distance; total time=   0.0s\n",
            "[CV] END algorithm=brute, leaf_size=20, n_neighbors=7, p=1, weights=distance; total time=   0.0s\n",
            "[CV] END algorithm=brute, leaf_size=20, n_neighbors=7, p=2, weights=uniform; total time=   0.0s\n",
            "[CV] END algorithm=brute, leaf_size=20, n_neighbors=7, p=2, weights=uniform; total time=   0.0s\n",
            "[CV] END algorithm=brute, leaf_size=20, n_neighbors=7, p=2, weights=uniform; total time=   0.0s\n",
            "[CV] END algorithm=brute, leaf_size=20, n_neighbors=7, p=2, weights=distance; total time=   0.0s\n",
            "[CV] END algorithm=brute, leaf_size=20, n_neighbors=7, p=2, weights=distance; total time=   0.0s\n",
            "[CV] END algorithm=brute, leaf_size=20, n_neighbors=7, p=2, weights=distance; total time=   0.0s\n",
            "[CV] END algorithm=brute, leaf_size=20, n_neighbors=9, p=1, weights=uniform; total time=   0.0s\n",
            "[CV] END algorithm=brute, leaf_size=20, n_neighbors=9, p=1, weights=uniform; total time=   0.0s\n",
            "[CV] END algorithm=brute, leaf_size=20, n_neighbors=9, p=1, weights=uniform; total time=   0.0s\n",
            "[CV] END algorithm=brute, leaf_size=20, n_neighbors=9, p=1, weights=distance; total time=   0.0s\n",
            "[CV] END algorithm=brute, leaf_size=20, n_neighbors=9, p=1, weights=distance; total time=   0.0s\n",
            "[CV] END algorithm=brute, leaf_size=20, n_neighbors=9, p=1, weights=distance; total time=   0.0s\n",
            "[CV] END algorithm=brute, leaf_size=20, n_neighbors=9, p=2, weights=uniform; total time=   0.0s\n",
            "[CV] END algorithm=brute, leaf_size=20, n_neighbors=9, p=2, weights=uniform; total time=   0.0s\n",
            "[CV] END algorithm=brute, leaf_size=20, n_neighbors=9, p=2, weights=uniform; total time=   0.0s\n",
            "[CV] END algorithm=brute, leaf_size=20, n_neighbors=9, p=2, weights=distance; total time=   0.0s\n",
            "[CV] END algorithm=brute, leaf_size=20, n_neighbors=9, p=2, weights=distance; total time=   0.0s\n",
            "[CV] END algorithm=brute, leaf_size=20, n_neighbors=9, p=2, weights=distance; total time=   0.0s\n",
            "[CV] END algorithm=brute, leaf_size=30, n_neighbors=3, p=1, weights=uniform; total time=   0.0s\n",
            "[CV] END algorithm=brute, leaf_size=30, n_neighbors=3, p=1, weights=uniform; total time=   0.0s\n",
            "[CV] END algorithm=brute, leaf_size=30, n_neighbors=3, p=1, weights=uniform; total time=   0.0s\n",
            "[CV] END algorithm=brute, leaf_size=30, n_neighbors=3, p=1, weights=distance; total time=   0.0s\n",
            "[CV] END algorithm=brute, leaf_size=30, n_neighbors=3, p=1, weights=distance; total time=   0.0s\n",
            "[CV] END algorithm=brute, leaf_size=30, n_neighbors=3, p=1, weights=distance; total time=   0.0s\n",
            "[CV] END algorithm=brute, leaf_size=30, n_neighbors=3, p=2, weights=uniform; total time=   0.0s\n",
            "[CV] END algorithm=brute, leaf_size=30, n_neighbors=3, p=2, weights=uniform; total time=   0.0s\n",
            "[CV] END algorithm=brute, leaf_size=30, n_neighbors=3, p=2, weights=uniform; total time=   0.0s\n",
            "[CV] END algorithm=brute, leaf_size=30, n_neighbors=3, p=2, weights=distance; total time=   0.0s\n",
            "[CV] END algorithm=brute, leaf_size=30, n_neighbors=3, p=2, weights=distance; total time=   0.0s\n",
            "[CV] END algorithm=brute, leaf_size=30, n_neighbors=3, p=2, weights=distance; total time=   0.0s\n",
            "[CV] END algorithm=brute, leaf_size=30, n_neighbors=5, p=1, weights=uniform; total time=   0.0s\n",
            "[CV] END algorithm=brute, leaf_size=30, n_neighbors=5, p=1, weights=uniform; total time=   0.0s\n",
            "[CV] END algorithm=brute, leaf_size=30, n_neighbors=5, p=1, weights=uniform; total time=   0.0s\n",
            "[CV] END algorithm=brute, leaf_size=30, n_neighbors=5, p=1, weights=distance; total time=   0.0s\n",
            "[CV] END algorithm=brute, leaf_size=30, n_neighbors=5, p=1, weights=distance; total time=   0.0s\n",
            "[CV] END algorithm=brute, leaf_size=30, n_neighbors=5, p=1, weights=distance; total time=   0.0s\n",
            "[CV] END algorithm=brute, leaf_size=30, n_neighbors=5, p=2, weights=uniform; total time=   0.0s\n",
            "[CV] END algorithm=brute, leaf_size=30, n_neighbors=5, p=2, weights=uniform; total time=   0.0s\n",
            "[CV] END algorithm=brute, leaf_size=30, n_neighbors=5, p=2, weights=uniform; total time=   0.0s\n",
            "[CV] END algorithm=brute, leaf_size=30, n_neighbors=5, p=2, weights=distance; total time=   0.0s\n",
            "[CV] END algorithm=brute, leaf_size=30, n_neighbors=5, p=2, weights=distance; total time=   0.0s\n",
            "[CV] END algorithm=brute, leaf_size=30, n_neighbors=5, p=2, weights=distance; total time=   0.0s\n",
            "[CV] END algorithm=brute, leaf_size=30, n_neighbors=7, p=1, weights=uniform; total time=   0.0s\n",
            "[CV] END algorithm=brute, leaf_size=30, n_neighbors=7, p=1, weights=uniform; total time=   0.0s\n",
            "[CV] END algorithm=brute, leaf_size=30, n_neighbors=7, p=1, weights=uniform; total time=   0.0s\n",
            "[CV] END algorithm=brute, leaf_size=30, n_neighbors=7, p=1, weights=distance; total time=   0.0s\n",
            "[CV] END algorithm=brute, leaf_size=30, n_neighbors=7, p=1, weights=distance; total time=   0.0s\n",
            "[CV] END algorithm=brute, leaf_size=30, n_neighbors=7, p=1, weights=distance; total time=   0.0s\n",
            "[CV] END algorithm=brute, leaf_size=30, n_neighbors=7, p=2, weights=uniform; total time=   0.0s\n",
            "[CV] END algorithm=brute, leaf_size=30, n_neighbors=7, p=2, weights=uniform; total time=   0.0s\n",
            "[CV] END algorithm=brute, leaf_size=30, n_neighbors=7, p=2, weights=uniform; total time=   0.0s\n",
            "[CV] END algorithm=brute, leaf_size=30, n_neighbors=7, p=2, weights=distance; total time=   0.0s\n",
            "[CV] END algorithm=brute, leaf_size=30, n_neighbors=7, p=2, weights=distance; total time=   0.0s\n",
            "[CV] END algorithm=brute, leaf_size=30, n_neighbors=7, p=2, weights=distance; total time=   0.0s\n",
            "[CV] END algorithm=brute, leaf_size=30, n_neighbors=9, p=1, weights=uniform; total time=   0.0s\n",
            "[CV] END algorithm=brute, leaf_size=30, n_neighbors=9, p=1, weights=uniform; total time=   0.0s\n",
            "[CV] END algorithm=brute, leaf_size=30, n_neighbors=9, p=1, weights=uniform; total time=   0.0s\n",
            "[CV] END algorithm=brute, leaf_size=30, n_neighbors=9, p=1, weights=distance; total time=   0.0s\n",
            "[CV] END algorithm=brute, leaf_size=30, n_neighbors=9, p=1, weights=distance; total time=   0.0s\n",
            "[CV] END algorithm=brute, leaf_size=30, n_neighbors=9, p=1, weights=distance; total time=   0.0s\n",
            "[CV] END algorithm=brute, leaf_size=30, n_neighbors=9, p=2, weights=uniform; total time=   0.0s\n",
            "[CV] END algorithm=brute, leaf_size=30, n_neighbors=9, p=2, weights=uniform; total time=   0.0s\n",
            "[CV] END algorithm=brute, leaf_size=30, n_neighbors=9, p=2, weights=uniform; total time=   0.0s\n",
            "[CV] END algorithm=brute, leaf_size=30, n_neighbors=9, p=2, weights=distance; total time=   0.0s\n",
            "[CV] END algorithm=brute, leaf_size=30, n_neighbors=9, p=2, weights=distance; total time=   0.0s\n",
            "[CV] END algorithm=brute, leaf_size=30, n_neighbors=9, p=2, weights=distance; total time=   0.0s\n",
            "\n",
            "\n",
            "Model results after hyperparameter tuning\n",
            "Average Accuracy: 0.8951481103166496\n",
            "Average Precision: 0.8964315134923391\n",
            "Average Recall: 0.8951481103166496\n",
            "Average F1 Score: 0.8948280906014133\n"
          ]
        }
      ]
    },
    {
      "cell_type": "code",
      "source": [
        "X = df_knn_imputed.drop(columns=['diagnosis', 'stage', 'plasma_CA19_9'])\n",
        "y = df_knn_imputed['diagnosis']  # Target variable\n",
        "\n",
        "\n",
        "\n",
        "# Define the parameter grid for RF\n",
        "svm_param_grid = {\n",
        "    'C': [1.0],                # Choose a single value or a smaller set\n",
        "    'kernel': ['linear', 'rbf'],  # Select fewer kernels\n",
        "    'gamma': ['scale'],           # Choose a single gamma value\n",
        "    'random_state': [42]\n",
        "}\n",
        "\n",
        "test_grid_search_and_fit(\n",
        "    classifier=SVC(),#KNN\n",
        "    param_grid=svm_param_grid,\n",
        "    X=X,\n",
        "    y=y\n",
        ")"
      ],
      "metadata": {
        "colab": {
          "base_uri": "https://localhost:8080/",
          "height": 723
        },
        "id": "1Y-A0UK-CY8t",
        "outputId": "50c58390-75ce-4ca3-9bd1-16edec348b8f"
      },
      "execution_count": 62,
      "outputs": [
        {
          "output_type": "stream",
          "name": "stdout",
          "text": [
            "Model results with default hyperparameters\n",
            "Average Accuracy: 0.8271450459652707\n",
            "Average Precision: 0.5701589710529913\n",
            "Average Recall: 0.8271450459652707\n",
            "Average F1 Score: 0.6750149241453064\n",
            "Fitting 3 folds for each of 2 candidates, totalling 6 fits\n"
          ]
        },
        {
          "output_type": "stream",
          "name": "stderr",
          "text": [
            "/usr/local/lib/python3.10/dist-packages/sklearn/metrics/_classification.py:1344: UndefinedMetricWarning: Precision is ill-defined and being set to 0.0 in labels with no predicted samples. Use `zero_division` parameter to control this behavior.\n",
            "  _warn_prf(average, modifier, msg_start, len(result))\n",
            "/usr/local/lib/python3.10/dist-packages/sklearn/metrics/_classification.py:1344: UndefinedMetricWarning: Precision is ill-defined and being set to 0.0 in labels with no predicted samples. Use `zero_division` parameter to control this behavior.\n",
            "  _warn_prf(average, modifier, msg_start, len(result))\n",
            "/usr/local/lib/python3.10/dist-packages/sklearn/metrics/_classification.py:1344: UndefinedMetricWarning: Precision is ill-defined and being set to 0.0 in labels with no predicted samples. Use `zero_division` parameter to control this behavior.\n",
            "  _warn_prf(average, modifier, msg_start, len(result))\n",
            "/usr/local/lib/python3.10/dist-packages/sklearn/metrics/_classification.py:1344: UndefinedMetricWarning: Precision is ill-defined and being set to 0.0 in labels with no predicted samples. Use `zero_division` parameter to control this behavior.\n",
            "  _warn_prf(average, modifier, msg_start, len(result))\n",
            "/usr/local/lib/python3.10/dist-packages/sklearn/metrics/_classification.py:1344: UndefinedMetricWarning: Precision is ill-defined and being set to 0.0 in labels with no predicted samples. Use `zero_division` parameter to control this behavior.\n",
            "  _warn_prf(average, modifier, msg_start, len(result))\n",
            "/usr/local/lib/python3.10/dist-packages/sklearn/metrics/_classification.py:1344: UndefinedMetricWarning: Precision is ill-defined and being set to 0.0 in labels with no predicted samples. Use `zero_division` parameter to control this behavior.\n",
            "  _warn_prf(average, modifier, msg_start, len(result))\n"
          ]
        },
        {
          "output_type": "error",
          "ename": "KeyboardInterrupt",
          "evalue": "",
          "traceback": [
            "\u001b[0;31m---------------------------------------------------------------------------\u001b[0m",
            "\u001b[0;31mKeyboardInterrupt\u001b[0m                         Traceback (most recent call last)",
            "\u001b[0;32m<ipython-input-62-e4ec58807cbd>\u001b[0m in \u001b[0;36m<cell line: 14>\u001b[0;34m()\u001b[0m\n\u001b[1;32m     12\u001b[0m }\n\u001b[1;32m     13\u001b[0m \u001b[0;34m\u001b[0m\u001b[0m\n\u001b[0;32m---> 14\u001b[0;31m test_grid_search_and_fit(\n\u001b[0m\u001b[1;32m     15\u001b[0m     \u001b[0mclassifier\u001b[0m\u001b[0;34m=\u001b[0m\u001b[0mSVC\u001b[0m\u001b[0;34m(\u001b[0m\u001b[0;34m)\u001b[0m\u001b[0;34m,\u001b[0m\u001b[0;31m#KNN\u001b[0m\u001b[0;34m\u001b[0m\u001b[0;34m\u001b[0m\u001b[0m\n\u001b[1;32m     16\u001b[0m     \u001b[0mparam_grid\u001b[0m\u001b[0;34m=\u001b[0m\u001b[0msvm_param_grid\u001b[0m\u001b[0;34m,\u001b[0m\u001b[0;34m\u001b[0m\u001b[0;34m\u001b[0m\u001b[0m\n",
            "\u001b[0;32m<ipython-input-28-b98bcbc840d1>\u001b[0m in \u001b[0;36mtest_grid_search_and_fit\u001b[0;34m(classifier, param_grid, X, y)\u001b[0m\n\u001b[1;32m      1\u001b[0m \u001b[0;31m# Define and test grid_search_and_fit function\u001b[0m\u001b[0;34m\u001b[0m\u001b[0;34m\u001b[0m\u001b[0m\n\u001b[1;32m      2\u001b[0m \u001b[0;32mdef\u001b[0m \u001b[0mtest_grid_search_and_fit\u001b[0m\u001b[0;34m(\u001b[0m\u001b[0mclassifier\u001b[0m\u001b[0;34m,\u001b[0m \u001b[0mparam_grid\u001b[0m\u001b[0;34m,\u001b[0m \u001b[0mX\u001b[0m\u001b[0;34m,\u001b[0m \u001b[0my\u001b[0m\u001b[0;34m)\u001b[0m\u001b[0;34m:\u001b[0m\u001b[0;34m\u001b[0m\u001b[0;34m\u001b[0m\u001b[0m\n\u001b[0;32m----> 3\u001b[0;31m     \u001b[0mgrid_search_and_fit\u001b[0m\u001b[0;34m(\u001b[0m\u001b[0mclassifier\u001b[0m\u001b[0;34m,\u001b[0m \u001b[0mparam_grid\u001b[0m\u001b[0;34m,\u001b[0m \u001b[0mX\u001b[0m\u001b[0;34m,\u001b[0m \u001b[0my\u001b[0m\u001b[0;34m,\u001b[0m \u001b[0mverbosity\u001b[0m\u001b[0;34m=\u001b[0m\u001b[0;36m2\u001b[0m\u001b[0;34m)\u001b[0m\u001b[0;34m\u001b[0m\u001b[0;34m\u001b[0m\u001b[0m\n\u001b[0m",
            "\u001b[0;32m<ipython-input-44-256d2969602d>\u001b[0m in \u001b[0;36mgrid_search_and_fit\u001b[0;34m(classifier, param_grid, X, y, verbosity)\u001b[0m\n\u001b[1;32m     33\u001b[0m     \u001b[0;31m# Perform grid search\u001b[0m\u001b[0;34m\u001b[0m\u001b[0;34m\u001b[0m\u001b[0m\n\u001b[1;32m     34\u001b[0m     \u001b[0mgrid_search\u001b[0m \u001b[0;34m=\u001b[0m \u001b[0mGridSearchCV\u001b[0m\u001b[0;34m(\u001b[0m\u001b[0mclassifier\u001b[0m\u001b[0;34m,\u001b[0m \u001b[0mparam_grid\u001b[0m\u001b[0;34m,\u001b[0m \u001b[0mcv\u001b[0m\u001b[0;34m=\u001b[0m\u001b[0;36m3\u001b[0m\u001b[0;34m,\u001b[0m \u001b[0mverbose\u001b[0m\u001b[0;34m=\u001b[0m\u001b[0mverbosity\u001b[0m\u001b[0;34m,\u001b[0m \u001b[0mscoring\u001b[0m\u001b[0;34m=\u001b[0m\u001b[0;34m\"f1_weighted\"\u001b[0m\u001b[0;34m)\u001b[0m\u001b[0;34m\u001b[0m\u001b[0;34m\u001b[0m\u001b[0m\n\u001b[0;32m---> 35\u001b[0;31m     \u001b[0mgrid_search\u001b[0m\u001b[0;34m.\u001b[0m\u001b[0mfit\u001b[0m\u001b[0;34m(\u001b[0m\u001b[0mX_train\u001b[0m\u001b[0;34m,\u001b[0m \u001b[0my_train\u001b[0m\u001b[0;34m)\u001b[0m\u001b[0;34m\u001b[0m\u001b[0;34m\u001b[0m\u001b[0m\n\u001b[0m\u001b[1;32m     36\u001b[0m \u001b[0;34m\u001b[0m\u001b[0m\n\u001b[1;32m     37\u001b[0m     \u001b[0;31m# Get the best parameters\u001b[0m\u001b[0;34m\u001b[0m\u001b[0;34m\u001b[0m\u001b[0m\n",
            "\u001b[0;32m/usr/local/lib/python3.10/dist-packages/sklearn/model_selection/_search.py\u001b[0m in \u001b[0;36mfit\u001b[0;34m(self, X, y, groups, **fit_params)\u001b[0m\n\u001b[1;32m    872\u001b[0m                 \u001b[0;32mreturn\u001b[0m \u001b[0mresults\u001b[0m\u001b[0;34m\u001b[0m\u001b[0;34m\u001b[0m\u001b[0m\n\u001b[1;32m    873\u001b[0m \u001b[0;34m\u001b[0m\u001b[0m\n\u001b[0;32m--> 874\u001b[0;31m             \u001b[0mself\u001b[0m\u001b[0;34m.\u001b[0m\u001b[0m_run_search\u001b[0m\u001b[0;34m(\u001b[0m\u001b[0mevaluate_candidates\u001b[0m\u001b[0;34m)\u001b[0m\u001b[0;34m\u001b[0m\u001b[0;34m\u001b[0m\u001b[0m\n\u001b[0m\u001b[1;32m    875\u001b[0m \u001b[0;34m\u001b[0m\u001b[0m\n\u001b[1;32m    876\u001b[0m             \u001b[0;31m# multimetric is determined here because in the case of a callable\u001b[0m\u001b[0;34m\u001b[0m\u001b[0;34m\u001b[0m\u001b[0m\n",
            "\u001b[0;32m/usr/local/lib/python3.10/dist-packages/sklearn/model_selection/_search.py\u001b[0m in \u001b[0;36m_run_search\u001b[0;34m(self, evaluate_candidates)\u001b[0m\n\u001b[1;32m   1386\u001b[0m     \u001b[0;32mdef\u001b[0m \u001b[0m_run_search\u001b[0m\u001b[0;34m(\u001b[0m\u001b[0mself\u001b[0m\u001b[0;34m,\u001b[0m \u001b[0mevaluate_candidates\u001b[0m\u001b[0;34m)\u001b[0m\u001b[0;34m:\u001b[0m\u001b[0;34m\u001b[0m\u001b[0;34m\u001b[0m\u001b[0m\n\u001b[1;32m   1387\u001b[0m         \u001b[0;34m\"\"\"Search all candidates in param_grid\"\"\"\u001b[0m\u001b[0;34m\u001b[0m\u001b[0;34m\u001b[0m\u001b[0m\n\u001b[0;32m-> 1388\u001b[0;31m         \u001b[0mevaluate_candidates\u001b[0m\u001b[0;34m(\u001b[0m\u001b[0mParameterGrid\u001b[0m\u001b[0;34m(\u001b[0m\u001b[0mself\u001b[0m\u001b[0;34m.\u001b[0m\u001b[0mparam_grid\u001b[0m\u001b[0;34m)\u001b[0m\u001b[0;34m)\u001b[0m\u001b[0;34m\u001b[0m\u001b[0;34m\u001b[0m\u001b[0m\n\u001b[0m\u001b[1;32m   1389\u001b[0m \u001b[0;34m\u001b[0m\u001b[0m\n\u001b[1;32m   1390\u001b[0m \u001b[0;34m\u001b[0m\u001b[0m\n",
            "\u001b[0;32m/usr/local/lib/python3.10/dist-packages/sklearn/model_selection/_search.py\u001b[0m in \u001b[0;36mevaluate_candidates\u001b[0;34m(candidate_params, cv, more_results)\u001b[0m\n\u001b[1;32m    819\u001b[0m                     )\n\u001b[1;32m    820\u001b[0m \u001b[0;34m\u001b[0m\u001b[0m\n\u001b[0;32m--> 821\u001b[0;31m                 out = parallel(\n\u001b[0m\u001b[1;32m    822\u001b[0m                     delayed(_fit_and_score)(\n\u001b[1;32m    823\u001b[0m                         \u001b[0mclone\u001b[0m\u001b[0;34m(\u001b[0m\u001b[0mbase_estimator\u001b[0m\u001b[0;34m)\u001b[0m\u001b[0;34m,\u001b[0m\u001b[0;34m\u001b[0m\u001b[0;34m\u001b[0m\u001b[0m\n",
            "\u001b[0;32m/usr/local/lib/python3.10/dist-packages/sklearn/utils/parallel.py\u001b[0m in \u001b[0;36m__call__\u001b[0;34m(self, iterable)\u001b[0m\n\u001b[1;32m     61\u001b[0m             \u001b[0;32mfor\u001b[0m \u001b[0mdelayed_func\u001b[0m\u001b[0;34m,\u001b[0m \u001b[0margs\u001b[0m\u001b[0;34m,\u001b[0m \u001b[0mkwargs\u001b[0m \u001b[0;32min\u001b[0m \u001b[0miterable\u001b[0m\u001b[0;34m\u001b[0m\u001b[0;34m\u001b[0m\u001b[0m\n\u001b[1;32m     62\u001b[0m         )\n\u001b[0;32m---> 63\u001b[0;31m         \u001b[0;32mreturn\u001b[0m \u001b[0msuper\u001b[0m\u001b[0;34m(\u001b[0m\u001b[0;34m)\u001b[0m\u001b[0;34m.\u001b[0m\u001b[0m__call__\u001b[0m\u001b[0;34m(\u001b[0m\u001b[0miterable_with_config\u001b[0m\u001b[0;34m)\u001b[0m\u001b[0;34m\u001b[0m\u001b[0;34m\u001b[0m\u001b[0m\n\u001b[0m\u001b[1;32m     64\u001b[0m \u001b[0;34m\u001b[0m\u001b[0m\n\u001b[1;32m     65\u001b[0m \u001b[0;34m\u001b[0m\u001b[0m\n",
            "\u001b[0;32m/usr/local/lib/python3.10/dist-packages/joblib/parallel.py\u001b[0m in \u001b[0;36m__call__\u001b[0;34m(self, iterable)\u001b[0m\n\u001b[1;32m   1861\u001b[0m             \u001b[0moutput\u001b[0m \u001b[0;34m=\u001b[0m \u001b[0mself\u001b[0m\u001b[0;34m.\u001b[0m\u001b[0m_get_sequential_output\u001b[0m\u001b[0;34m(\u001b[0m\u001b[0miterable\u001b[0m\u001b[0;34m)\u001b[0m\u001b[0;34m\u001b[0m\u001b[0;34m\u001b[0m\u001b[0m\n\u001b[1;32m   1862\u001b[0m             \u001b[0mnext\u001b[0m\u001b[0;34m(\u001b[0m\u001b[0moutput\u001b[0m\u001b[0;34m)\u001b[0m\u001b[0;34m\u001b[0m\u001b[0;34m\u001b[0m\u001b[0m\n\u001b[0;32m-> 1863\u001b[0;31m             \u001b[0;32mreturn\u001b[0m \u001b[0moutput\u001b[0m \u001b[0;32mif\u001b[0m \u001b[0mself\u001b[0m\u001b[0;34m.\u001b[0m\u001b[0mreturn_generator\u001b[0m \u001b[0;32melse\u001b[0m \u001b[0mlist\u001b[0m\u001b[0;34m(\u001b[0m\u001b[0moutput\u001b[0m\u001b[0;34m)\u001b[0m\u001b[0;34m\u001b[0m\u001b[0;34m\u001b[0m\u001b[0m\n\u001b[0m\u001b[1;32m   1864\u001b[0m \u001b[0;34m\u001b[0m\u001b[0m\n\u001b[1;32m   1865\u001b[0m         \u001b[0;31m# Let's create an ID that uniquely identifies the current call. If the\u001b[0m\u001b[0;34m\u001b[0m\u001b[0;34m\u001b[0m\u001b[0m\n",
            "\u001b[0;32m/usr/local/lib/python3.10/dist-packages/joblib/parallel.py\u001b[0m in \u001b[0;36m_get_sequential_output\u001b[0;34m(self, iterable)\u001b[0m\n\u001b[1;32m   1790\u001b[0m                 \u001b[0mself\u001b[0m\u001b[0;34m.\u001b[0m\u001b[0mn_dispatched_batches\u001b[0m \u001b[0;34m+=\u001b[0m \u001b[0;36m1\u001b[0m\u001b[0;34m\u001b[0m\u001b[0;34m\u001b[0m\u001b[0m\n\u001b[1;32m   1791\u001b[0m                 \u001b[0mself\u001b[0m\u001b[0;34m.\u001b[0m\u001b[0mn_dispatched_tasks\u001b[0m \u001b[0;34m+=\u001b[0m \u001b[0;36m1\u001b[0m\u001b[0;34m\u001b[0m\u001b[0;34m\u001b[0m\u001b[0m\n\u001b[0;32m-> 1792\u001b[0;31m                 \u001b[0mres\u001b[0m \u001b[0;34m=\u001b[0m \u001b[0mfunc\u001b[0m\u001b[0;34m(\u001b[0m\u001b[0;34m*\u001b[0m\u001b[0margs\u001b[0m\u001b[0;34m,\u001b[0m \u001b[0;34m**\u001b[0m\u001b[0mkwargs\u001b[0m\u001b[0;34m)\u001b[0m\u001b[0;34m\u001b[0m\u001b[0;34m\u001b[0m\u001b[0m\n\u001b[0m\u001b[1;32m   1793\u001b[0m                 \u001b[0mself\u001b[0m\u001b[0;34m.\u001b[0m\u001b[0mn_completed_tasks\u001b[0m \u001b[0;34m+=\u001b[0m \u001b[0;36m1\u001b[0m\u001b[0;34m\u001b[0m\u001b[0;34m\u001b[0m\u001b[0m\n\u001b[1;32m   1794\u001b[0m                 \u001b[0mself\u001b[0m\u001b[0;34m.\u001b[0m\u001b[0mprint_progress\u001b[0m\u001b[0;34m(\u001b[0m\u001b[0;34m)\u001b[0m\u001b[0;34m\u001b[0m\u001b[0;34m\u001b[0m\u001b[0m\n",
            "\u001b[0;32m/usr/local/lib/python3.10/dist-packages/sklearn/utils/parallel.py\u001b[0m in \u001b[0;36m__call__\u001b[0;34m(self, *args, **kwargs)\u001b[0m\n\u001b[1;32m    121\u001b[0m             \u001b[0mconfig\u001b[0m \u001b[0;34m=\u001b[0m \u001b[0;34m{\u001b[0m\u001b[0;34m}\u001b[0m\u001b[0;34m\u001b[0m\u001b[0;34m\u001b[0m\u001b[0m\n\u001b[1;32m    122\u001b[0m         \u001b[0;32mwith\u001b[0m \u001b[0mconfig_context\u001b[0m\u001b[0;34m(\u001b[0m\u001b[0;34m**\u001b[0m\u001b[0mconfig\u001b[0m\u001b[0;34m)\u001b[0m\u001b[0;34m:\u001b[0m\u001b[0;34m\u001b[0m\u001b[0;34m\u001b[0m\u001b[0m\n\u001b[0;32m--> 123\u001b[0;31m             \u001b[0;32mreturn\u001b[0m \u001b[0mself\u001b[0m\u001b[0;34m.\u001b[0m\u001b[0mfunction\u001b[0m\u001b[0;34m(\u001b[0m\u001b[0;34m*\u001b[0m\u001b[0margs\u001b[0m\u001b[0;34m,\u001b[0m \u001b[0;34m**\u001b[0m\u001b[0mkwargs\u001b[0m\u001b[0;34m)\u001b[0m\u001b[0;34m\u001b[0m\u001b[0;34m\u001b[0m\u001b[0m\n\u001b[0m",
            "\u001b[0;32m/usr/local/lib/python3.10/dist-packages/sklearn/model_selection/_validation.py\u001b[0m in \u001b[0;36m_fit_and_score\u001b[0;34m(estimator, X, y, scorer, train, test, verbose, parameters, fit_params, return_train_score, return_parameters, return_n_test_samples, return_times, return_estimator, split_progress, candidate_progress, error_score)\u001b[0m\n\u001b[1;32m    684\u001b[0m             \u001b[0mestimator\u001b[0m\u001b[0;34m.\u001b[0m\u001b[0mfit\u001b[0m\u001b[0;34m(\u001b[0m\u001b[0mX_train\u001b[0m\u001b[0;34m,\u001b[0m \u001b[0;34m**\u001b[0m\u001b[0mfit_params\u001b[0m\u001b[0;34m)\u001b[0m\u001b[0;34m\u001b[0m\u001b[0;34m\u001b[0m\u001b[0m\n\u001b[1;32m    685\u001b[0m         \u001b[0;32melse\u001b[0m\u001b[0;34m:\u001b[0m\u001b[0;34m\u001b[0m\u001b[0;34m\u001b[0m\u001b[0m\n\u001b[0;32m--> 686\u001b[0;31m             \u001b[0mestimator\u001b[0m\u001b[0;34m.\u001b[0m\u001b[0mfit\u001b[0m\u001b[0;34m(\u001b[0m\u001b[0mX_train\u001b[0m\u001b[0;34m,\u001b[0m \u001b[0my_train\u001b[0m\u001b[0;34m,\u001b[0m \u001b[0;34m**\u001b[0m\u001b[0mfit_params\u001b[0m\u001b[0;34m)\u001b[0m\u001b[0;34m\u001b[0m\u001b[0;34m\u001b[0m\u001b[0m\n\u001b[0m\u001b[1;32m    687\u001b[0m \u001b[0;34m\u001b[0m\u001b[0m\n\u001b[1;32m    688\u001b[0m     \u001b[0;32mexcept\u001b[0m \u001b[0mException\u001b[0m\u001b[0;34m:\u001b[0m\u001b[0;34m\u001b[0m\u001b[0;34m\u001b[0m\u001b[0m\n",
            "\u001b[0;32m/usr/local/lib/python3.10/dist-packages/sklearn/svm/_base.py\u001b[0m in \u001b[0;36mfit\u001b[0;34m(self, X, y, sample_weight)\u001b[0m\n\u001b[1;32m    250\u001b[0m \u001b[0;34m\u001b[0m\u001b[0m\n\u001b[1;32m    251\u001b[0m         \u001b[0mseed\u001b[0m \u001b[0;34m=\u001b[0m \u001b[0mrnd\u001b[0m\u001b[0;34m.\u001b[0m\u001b[0mrandint\u001b[0m\u001b[0;34m(\u001b[0m\u001b[0mnp\u001b[0m\u001b[0;34m.\u001b[0m\u001b[0miinfo\u001b[0m\u001b[0;34m(\u001b[0m\u001b[0;34m\"i\"\u001b[0m\u001b[0;34m)\u001b[0m\u001b[0;34m.\u001b[0m\u001b[0mmax\u001b[0m\u001b[0;34m)\u001b[0m\u001b[0;34m\u001b[0m\u001b[0;34m\u001b[0m\u001b[0m\n\u001b[0;32m--> 252\u001b[0;31m         \u001b[0mfit\u001b[0m\u001b[0;34m(\u001b[0m\u001b[0mX\u001b[0m\u001b[0;34m,\u001b[0m \u001b[0my\u001b[0m\u001b[0;34m,\u001b[0m \u001b[0msample_weight\u001b[0m\u001b[0;34m,\u001b[0m \u001b[0msolver_type\u001b[0m\u001b[0;34m,\u001b[0m \u001b[0mkernel\u001b[0m\u001b[0;34m,\u001b[0m \u001b[0mrandom_seed\u001b[0m\u001b[0;34m=\u001b[0m\u001b[0mseed\u001b[0m\u001b[0;34m)\u001b[0m\u001b[0;34m\u001b[0m\u001b[0;34m\u001b[0m\u001b[0m\n\u001b[0m\u001b[1;32m    253\u001b[0m         \u001b[0;31m# see comment on the other call to np.iinfo in this file\u001b[0m\u001b[0;34m\u001b[0m\u001b[0;34m\u001b[0m\u001b[0m\n\u001b[1;32m    254\u001b[0m \u001b[0;34m\u001b[0m\u001b[0m\n",
            "\u001b[0;32m/usr/local/lib/python3.10/dist-packages/sklearn/svm/_base.py\u001b[0m in \u001b[0;36m_dense_fit\u001b[0;34m(self, X, y, sample_weight, solver_type, kernel, random_seed)\u001b[0m\n\u001b[1;32m    329\u001b[0m             \u001b[0mself\u001b[0m\u001b[0;34m.\u001b[0m\u001b[0mfit_status_\u001b[0m\u001b[0;34m,\u001b[0m\u001b[0;34m\u001b[0m\u001b[0;34m\u001b[0m\u001b[0m\n\u001b[1;32m    330\u001b[0m             \u001b[0mself\u001b[0m\u001b[0;34m.\u001b[0m\u001b[0m_num_iter\u001b[0m\u001b[0;34m,\u001b[0m\u001b[0;34m\u001b[0m\u001b[0;34m\u001b[0m\u001b[0m\n\u001b[0;32m--> 331\u001b[0;31m         \u001b[0;34m)\u001b[0m \u001b[0;34m=\u001b[0m \u001b[0mlibsvm\u001b[0m\u001b[0;34m.\u001b[0m\u001b[0mfit\u001b[0m\u001b[0;34m(\u001b[0m\u001b[0;34m\u001b[0m\u001b[0;34m\u001b[0m\u001b[0m\n\u001b[0m\u001b[1;32m    332\u001b[0m             \u001b[0mX\u001b[0m\u001b[0;34m,\u001b[0m\u001b[0;34m\u001b[0m\u001b[0;34m\u001b[0m\u001b[0m\n\u001b[1;32m    333\u001b[0m             \u001b[0my\u001b[0m\u001b[0;34m,\u001b[0m\u001b[0;34m\u001b[0m\u001b[0;34m\u001b[0m\u001b[0m\n",
            "\u001b[0;31mKeyboardInterrupt\u001b[0m: "
          ]
        }
      ]
    },
    {
      "cell_type": "code",
      "source": [
        "X = df_knn_imputed.drop(columns=['diagnosis', 'stage', 'plasma_CA19_9'])\n",
        "y = df_knn_imputed['diagnosis']  # Target variable\n",
        "\n",
        "\n",
        "\n",
        "# Define the parameter grid for RF\n",
        "nb_param_grid = {\n",
        "    'priors': [None, [0.3, 0.7], [0.4, 0.6]]  # Prior probabilities of the classes\n",
        "}\n",
        "\n",
        "test_grid_search_and_fit(\n",
        "    classifier=GaussianNB(),#KNN\n",
        "    param_grid=nb_param_grid,\n",
        "    X=X,\n",
        "    y=y\n",
        ")"
      ],
      "metadata": {
        "colab": {
          "base_uri": "https://localhost:8080/"
        },
        "id": "VutXl8GSCdbT",
        "outputId": "ebd2a66a-fff9-48fd-bbf8-6b4bdc517bbd"
      },
      "execution_count": 76,
      "outputs": [
        {
          "output_type": "stream",
          "name": "stdout",
          "text": [
            "Model results with default hyperparameters\n",
            "Average Accuracy: 0.7525280898876404\n",
            "Average Precision: 0.9267782986542553\n",
            "Average Recall: 0.7525280898876404\n",
            "Average F1 Score: 0.7615133362696211\n",
            "Fitting 3 folds for each of 3 candidates, totalling 9 fits\n",
            "[CV] END ........................................priors=None; total time=   0.0s\n",
            "[CV] END ........................................priors=None; total time=   0.0s\n",
            "[CV] END ........................................priors=None; total time=   0.0s\n",
            "[CV] END ..................................priors=[0.3, 0.7]; total time=   0.0s\n",
            "[CV] END ..................................priors=[0.3, 0.7]; total time=   0.0s\n",
            "[CV] END ..................................priors=[0.3, 0.7]; total time=   0.0s\n",
            "[CV] END ..................................priors=[0.4, 0.6]; total time=   0.0s\n",
            "[CV] END ..................................priors=[0.4, 0.6]; total time=   0.0s\n",
            "[CV] END ..................................priors=[0.4, 0.6]; total time=   0.0s\n",
            "\n",
            "\n",
            "Model results after hyperparameter tuning\n",
            "Average Accuracy: 0.7525280898876404\n",
            "Average Precision: 0.9267782986542553\n",
            "Average Recall: 0.7525280898876404\n",
            "Average F1 Score: 0.7615133362696211\n"
          ]
        }
      ]
    },
    {
      "cell_type": "code",
      "source": [
        "from sklearn.ensemble import BaggingClassifier\n",
        "from sklearn.tree import DecisionTreeClassifier\n",
        "\n",
        "# Base classifier\n",
        "base_classifier = DecisionTreeClassifier(random_state=42)\n",
        "\n",
        "X = df_knn_imputed.drop(columns=['diagnosis', 'stage', 'plasma_CA19_9'])\n",
        "y = df_knn_imputed['diagnosis']  # Target variable\n",
        "\n",
        "\n",
        "\n",
        "# Bagging Classifier Parameter Grid\n",
        "bagging_param_grid = {\n",
        "    'base_estimator': [base_classifier],\n",
        "    'n_estimators': [50, 100, 150],         # Number of base classifiers in the ensemble\n",
        "    'max_samples': [0.5, 0.7, 0.9],        # Fraction of samples used for training each base classifier\n",
        "    'max_features': [0.5, 0.7, 0.9],       # Fraction of features used for training each base classifier\n",
        "    'random_state': [42]\n",
        "}\n",
        "\n",
        "test_grid_search_and_fit(\n",
        "    classifier=BaggingClassifier(),#KNN\n",
        "    param_grid=bagging_param_grid,\n",
        "    X=X,\n",
        "    y=y\n",
        ")"
      ],
      "metadata": {
        "colab": {
          "base_uri": "https://localhost:8080/",
          "height": 1000
        },
        "id": "NnbbkGVcCyJF",
        "outputId": "f6699493-f0e9-451e-eafa-588ec2efc971"
      },
      "execution_count": 75,
      "outputs": [
        {
          "output_type": "stream",
          "name": "stdout",
          "text": [
            "Model results with default hyperparameters\n",
            "Average Accuracy: 0.9355209397344229\n",
            "Average Precision: 0.9283536106238757\n",
            "Average Recall: 0.9355209397344229\n",
            "Average F1 Score: 0.921273752525796\n",
            "Fitting 3 folds for each of 27 candidates, totalling 81 fits\n",
            "[CV] END base_estimator=DecisionTreeClassifier(random_state=42), max_features=0.5, max_samples=0.5, n_estimators=50, random_state=42; total time=   0.1s\n"
          ]
        },
        {
          "output_type": "stream",
          "name": "stderr",
          "text": [
            "/usr/local/lib/python3.10/dist-packages/sklearn/ensemble/_base.py:166: FutureWarning: `base_estimator` was renamed to `estimator` in version 1.2 and will be removed in 1.4.\n",
            "  warnings.warn(\n",
            "/usr/local/lib/python3.10/dist-packages/sklearn/ensemble/_base.py:166: FutureWarning: `base_estimator` was renamed to `estimator` in version 1.2 and will be removed in 1.4.\n",
            "  warnings.warn(\n"
          ]
        },
        {
          "output_type": "stream",
          "name": "stdout",
          "text": [
            "[CV] END base_estimator=DecisionTreeClassifier(random_state=42), max_features=0.5, max_samples=0.5, n_estimators=50, random_state=42; total time=   0.1s\n",
            "[CV] END base_estimator=DecisionTreeClassifier(random_state=42), max_features=0.5, max_samples=0.5, n_estimators=50, random_state=42; total time=   0.1s\n"
          ]
        },
        {
          "output_type": "stream",
          "name": "stderr",
          "text": [
            "/usr/local/lib/python3.10/dist-packages/sklearn/ensemble/_base.py:166: FutureWarning: `base_estimator` was renamed to `estimator` in version 1.2 and will be removed in 1.4.\n",
            "  warnings.warn(\n",
            "/usr/local/lib/python3.10/dist-packages/sklearn/ensemble/_base.py:166: FutureWarning: `base_estimator` was renamed to `estimator` in version 1.2 and will be removed in 1.4.\n",
            "  warnings.warn(\n"
          ]
        },
        {
          "output_type": "stream",
          "name": "stdout",
          "text": [
            "[CV] END base_estimator=DecisionTreeClassifier(random_state=42), max_features=0.5, max_samples=0.5, n_estimators=100, random_state=42; total time=   0.2s\n"
          ]
        },
        {
          "output_type": "stream",
          "name": "stderr",
          "text": [
            "/usr/local/lib/python3.10/dist-packages/sklearn/ensemble/_base.py:166: FutureWarning: `base_estimator` was renamed to `estimator` in version 1.2 and will be removed in 1.4.\n",
            "  warnings.warn(\n"
          ]
        },
        {
          "output_type": "stream",
          "name": "stdout",
          "text": [
            "[CV] END base_estimator=DecisionTreeClassifier(random_state=42), max_features=0.5, max_samples=0.5, n_estimators=100, random_state=42; total time=   0.2s\n"
          ]
        },
        {
          "output_type": "stream",
          "name": "stderr",
          "text": [
            "/usr/local/lib/python3.10/dist-packages/sklearn/ensemble/_base.py:166: FutureWarning: `base_estimator` was renamed to `estimator` in version 1.2 and will be removed in 1.4.\n",
            "  warnings.warn(\n"
          ]
        },
        {
          "output_type": "stream",
          "name": "stdout",
          "text": [
            "[CV] END base_estimator=DecisionTreeClassifier(random_state=42), max_features=0.5, max_samples=0.5, n_estimators=100, random_state=42; total time=   0.2s\n"
          ]
        },
        {
          "output_type": "stream",
          "name": "stderr",
          "text": [
            "/usr/local/lib/python3.10/dist-packages/sklearn/ensemble/_base.py:166: FutureWarning: `base_estimator` was renamed to `estimator` in version 1.2 and will be removed in 1.4.\n",
            "  warnings.warn(\n"
          ]
        },
        {
          "output_type": "stream",
          "name": "stdout",
          "text": [
            "[CV] END base_estimator=DecisionTreeClassifier(random_state=42), max_features=0.5, max_samples=0.5, n_estimators=150, random_state=42; total time=   0.3s\n"
          ]
        },
        {
          "output_type": "stream",
          "name": "stderr",
          "text": [
            "/usr/local/lib/python3.10/dist-packages/sklearn/ensemble/_base.py:166: FutureWarning: `base_estimator` was renamed to `estimator` in version 1.2 and will be removed in 1.4.\n",
            "  warnings.warn(\n"
          ]
        },
        {
          "output_type": "stream",
          "name": "stdout",
          "text": [
            "[CV] END base_estimator=DecisionTreeClassifier(random_state=42), max_features=0.5, max_samples=0.5, n_estimators=150, random_state=42; total time=   0.3s\n"
          ]
        },
        {
          "output_type": "stream",
          "name": "stderr",
          "text": [
            "/usr/local/lib/python3.10/dist-packages/sklearn/ensemble/_base.py:166: FutureWarning: `base_estimator` was renamed to `estimator` in version 1.2 and will be removed in 1.4.\n",
            "  warnings.warn(\n"
          ]
        },
        {
          "output_type": "stream",
          "name": "stdout",
          "text": [
            "[CV] END base_estimator=DecisionTreeClassifier(random_state=42), max_features=0.5, max_samples=0.5, n_estimators=150, random_state=42; total time=   0.3s\n",
            "[CV] END base_estimator=DecisionTreeClassifier(random_state=42), max_features=0.5, max_samples=0.7, n_estimators=50, random_state=42; total time=   0.1s\n"
          ]
        },
        {
          "output_type": "stream",
          "name": "stderr",
          "text": [
            "/usr/local/lib/python3.10/dist-packages/sklearn/ensemble/_base.py:166: FutureWarning: `base_estimator` was renamed to `estimator` in version 1.2 and will be removed in 1.4.\n",
            "  warnings.warn(\n",
            "/usr/local/lib/python3.10/dist-packages/sklearn/ensemble/_base.py:166: FutureWarning: `base_estimator` was renamed to `estimator` in version 1.2 and will be removed in 1.4.\n",
            "  warnings.warn(\n"
          ]
        },
        {
          "output_type": "stream",
          "name": "stdout",
          "text": [
            "[CV] END base_estimator=DecisionTreeClassifier(random_state=42), max_features=0.5, max_samples=0.7, n_estimators=50, random_state=42; total time=   0.1s\n",
            "[CV] END base_estimator=DecisionTreeClassifier(random_state=42), max_features=0.5, max_samples=0.7, n_estimators=50, random_state=42; total time=   0.1s\n"
          ]
        },
        {
          "output_type": "stream",
          "name": "stderr",
          "text": [
            "/usr/local/lib/python3.10/dist-packages/sklearn/ensemble/_base.py:166: FutureWarning: `base_estimator` was renamed to `estimator` in version 1.2 and will be removed in 1.4.\n",
            "  warnings.warn(\n",
            "/usr/local/lib/python3.10/dist-packages/sklearn/ensemble/_base.py:166: FutureWarning: `base_estimator` was renamed to `estimator` in version 1.2 and will be removed in 1.4.\n",
            "  warnings.warn(\n"
          ]
        },
        {
          "output_type": "stream",
          "name": "stdout",
          "text": [
            "[CV] END base_estimator=DecisionTreeClassifier(random_state=42), max_features=0.5, max_samples=0.7, n_estimators=100, random_state=42; total time=   0.2s\n"
          ]
        },
        {
          "output_type": "stream",
          "name": "stderr",
          "text": [
            "/usr/local/lib/python3.10/dist-packages/sklearn/ensemble/_base.py:166: FutureWarning: `base_estimator` was renamed to `estimator` in version 1.2 and will be removed in 1.4.\n",
            "  warnings.warn(\n"
          ]
        },
        {
          "output_type": "stream",
          "name": "stdout",
          "text": [
            "[CV] END base_estimator=DecisionTreeClassifier(random_state=42), max_features=0.5, max_samples=0.7, n_estimators=100, random_state=42; total time=   0.2s\n"
          ]
        },
        {
          "output_type": "stream",
          "name": "stderr",
          "text": [
            "/usr/local/lib/python3.10/dist-packages/sklearn/ensemble/_base.py:166: FutureWarning: `base_estimator` was renamed to `estimator` in version 1.2 and will be removed in 1.4.\n",
            "  warnings.warn(\n"
          ]
        },
        {
          "output_type": "stream",
          "name": "stdout",
          "text": [
            "[CV] END base_estimator=DecisionTreeClassifier(random_state=42), max_features=0.5, max_samples=0.7, n_estimators=100, random_state=42; total time=   0.2s\n"
          ]
        },
        {
          "output_type": "stream",
          "name": "stderr",
          "text": [
            "/usr/local/lib/python3.10/dist-packages/sklearn/ensemble/_base.py:166: FutureWarning: `base_estimator` was renamed to `estimator` in version 1.2 and will be removed in 1.4.\n",
            "  warnings.warn(\n"
          ]
        },
        {
          "output_type": "stream",
          "name": "stdout",
          "text": [
            "[CV] END base_estimator=DecisionTreeClassifier(random_state=42), max_features=0.5, max_samples=0.7, n_estimators=150, random_state=42; total time=   0.5s\n"
          ]
        },
        {
          "output_type": "stream",
          "name": "stderr",
          "text": [
            "/usr/local/lib/python3.10/dist-packages/sklearn/ensemble/_base.py:166: FutureWarning: `base_estimator` was renamed to `estimator` in version 1.2 and will be removed in 1.4.\n",
            "  warnings.warn(\n"
          ]
        },
        {
          "output_type": "stream",
          "name": "stdout",
          "text": [
            "[CV] END base_estimator=DecisionTreeClassifier(random_state=42), max_features=0.5, max_samples=0.7, n_estimators=150, random_state=42; total time=   0.5s\n"
          ]
        },
        {
          "output_type": "stream",
          "name": "stderr",
          "text": [
            "/usr/local/lib/python3.10/dist-packages/sklearn/ensemble/_base.py:166: FutureWarning: `base_estimator` was renamed to `estimator` in version 1.2 and will be removed in 1.4.\n",
            "  warnings.warn(\n"
          ]
        },
        {
          "output_type": "stream",
          "name": "stdout",
          "text": [
            "[CV] END base_estimator=DecisionTreeClassifier(random_state=42), max_features=0.5, max_samples=0.7, n_estimators=150, random_state=42; total time=   0.5s\n"
          ]
        },
        {
          "output_type": "stream",
          "name": "stderr",
          "text": [
            "/usr/local/lib/python3.10/dist-packages/sklearn/ensemble/_base.py:166: FutureWarning: `base_estimator` was renamed to `estimator` in version 1.2 and will be removed in 1.4.\n",
            "  warnings.warn(\n"
          ]
        },
        {
          "output_type": "stream",
          "name": "stdout",
          "text": [
            "[CV] END base_estimator=DecisionTreeClassifier(random_state=42), max_features=0.5, max_samples=0.9, n_estimators=50, random_state=42; total time=   0.2s\n",
            "[CV] END base_estimator=DecisionTreeClassifier(random_state=42), max_features=0.5, max_samples=0.9, n_estimators=50, random_state=42; total time=   0.2s\n"
          ]
        },
        {
          "output_type": "stream",
          "name": "stderr",
          "text": [
            "/usr/local/lib/python3.10/dist-packages/sklearn/ensemble/_base.py:166: FutureWarning: `base_estimator` was renamed to `estimator` in version 1.2 and will be removed in 1.4.\n",
            "  warnings.warn(\n",
            "/usr/local/lib/python3.10/dist-packages/sklearn/ensemble/_base.py:166: FutureWarning: `base_estimator` was renamed to `estimator` in version 1.2 and will be removed in 1.4.\n",
            "  warnings.warn(\n"
          ]
        },
        {
          "output_type": "stream",
          "name": "stdout",
          "text": [
            "[CV] END base_estimator=DecisionTreeClassifier(random_state=42), max_features=0.5, max_samples=0.9, n_estimators=50, random_state=42; total time=   0.2s\n"
          ]
        },
        {
          "output_type": "stream",
          "name": "stderr",
          "text": [
            "/usr/local/lib/python3.10/dist-packages/sklearn/ensemble/_base.py:166: FutureWarning: `base_estimator` was renamed to `estimator` in version 1.2 and will be removed in 1.4.\n",
            "  warnings.warn(\n"
          ]
        },
        {
          "output_type": "stream",
          "name": "stdout",
          "text": [
            "[CV] END base_estimator=DecisionTreeClassifier(random_state=42), max_features=0.5, max_samples=0.9, n_estimators=100, random_state=42; total time=   0.4s\n"
          ]
        },
        {
          "output_type": "stream",
          "name": "stderr",
          "text": [
            "/usr/local/lib/python3.10/dist-packages/sklearn/ensemble/_base.py:166: FutureWarning: `base_estimator` was renamed to `estimator` in version 1.2 and will be removed in 1.4.\n",
            "  warnings.warn(\n"
          ]
        },
        {
          "output_type": "stream",
          "name": "stdout",
          "text": [
            "[CV] END base_estimator=DecisionTreeClassifier(random_state=42), max_features=0.5, max_samples=0.9, n_estimators=100, random_state=42; total time=   0.4s\n"
          ]
        },
        {
          "output_type": "stream",
          "name": "stderr",
          "text": [
            "/usr/local/lib/python3.10/dist-packages/sklearn/ensemble/_base.py:166: FutureWarning: `base_estimator` was renamed to `estimator` in version 1.2 and will be removed in 1.4.\n",
            "  warnings.warn(\n"
          ]
        },
        {
          "output_type": "stream",
          "name": "stdout",
          "text": [
            "[CV] END base_estimator=DecisionTreeClassifier(random_state=42), max_features=0.5, max_samples=0.9, n_estimators=100, random_state=42; total time=   0.4s\n"
          ]
        },
        {
          "output_type": "stream",
          "name": "stderr",
          "text": [
            "/usr/local/lib/python3.10/dist-packages/sklearn/ensemble/_base.py:166: FutureWarning: `base_estimator` was renamed to `estimator` in version 1.2 and will be removed in 1.4.\n",
            "  warnings.warn(\n"
          ]
        },
        {
          "output_type": "stream",
          "name": "stdout",
          "text": [
            "[CV] END base_estimator=DecisionTreeClassifier(random_state=42), max_features=0.5, max_samples=0.9, n_estimators=150, random_state=42; total time=   0.5s\n"
          ]
        },
        {
          "output_type": "stream",
          "name": "stderr",
          "text": [
            "/usr/local/lib/python3.10/dist-packages/sklearn/ensemble/_base.py:166: FutureWarning: `base_estimator` was renamed to `estimator` in version 1.2 and will be removed in 1.4.\n",
            "  warnings.warn(\n"
          ]
        },
        {
          "output_type": "stream",
          "name": "stdout",
          "text": [
            "[CV] END base_estimator=DecisionTreeClassifier(random_state=42), max_features=0.5, max_samples=0.9, n_estimators=150, random_state=42; total time=   0.3s\n"
          ]
        },
        {
          "output_type": "stream",
          "name": "stderr",
          "text": [
            "/usr/local/lib/python3.10/dist-packages/sklearn/ensemble/_base.py:166: FutureWarning: `base_estimator` was renamed to `estimator` in version 1.2 and will be removed in 1.4.\n",
            "  warnings.warn(\n"
          ]
        },
        {
          "output_type": "stream",
          "name": "stdout",
          "text": [
            "[CV] END base_estimator=DecisionTreeClassifier(random_state=42), max_features=0.5, max_samples=0.9, n_estimators=150, random_state=42; total time=   0.3s\n",
            "[CV] END base_estimator=DecisionTreeClassifier(random_state=42), max_features=0.7, max_samples=0.5, n_estimators=50, random_state=42; total time=   0.1s\n"
          ]
        },
        {
          "output_type": "stream",
          "name": "stderr",
          "text": [
            "/usr/local/lib/python3.10/dist-packages/sklearn/ensemble/_base.py:166: FutureWarning: `base_estimator` was renamed to `estimator` in version 1.2 and will be removed in 1.4.\n",
            "  warnings.warn(\n",
            "/usr/local/lib/python3.10/dist-packages/sklearn/ensemble/_base.py:166: FutureWarning: `base_estimator` was renamed to `estimator` in version 1.2 and will be removed in 1.4.\n",
            "  warnings.warn(\n"
          ]
        },
        {
          "output_type": "stream",
          "name": "stdout",
          "text": [
            "[CV] END base_estimator=DecisionTreeClassifier(random_state=42), max_features=0.7, max_samples=0.5, n_estimators=50, random_state=42; total time=   0.1s\n",
            "[CV] END base_estimator=DecisionTreeClassifier(random_state=42), max_features=0.7, max_samples=0.5, n_estimators=50, random_state=42; total time=   0.1s\n"
          ]
        },
        {
          "output_type": "stream",
          "name": "stderr",
          "text": [
            "/usr/local/lib/python3.10/dist-packages/sklearn/ensemble/_base.py:166: FutureWarning: `base_estimator` was renamed to `estimator` in version 1.2 and will be removed in 1.4.\n",
            "  warnings.warn(\n",
            "/usr/local/lib/python3.10/dist-packages/sklearn/ensemble/_base.py:166: FutureWarning: `base_estimator` was renamed to `estimator` in version 1.2 and will be removed in 1.4.\n",
            "  warnings.warn(\n"
          ]
        },
        {
          "output_type": "stream",
          "name": "stdout",
          "text": [
            "[CV] END base_estimator=DecisionTreeClassifier(random_state=42), max_features=0.7, max_samples=0.5, n_estimators=100, random_state=42; total time=   0.2s\n"
          ]
        },
        {
          "output_type": "stream",
          "name": "stderr",
          "text": [
            "/usr/local/lib/python3.10/dist-packages/sklearn/ensemble/_base.py:166: FutureWarning: `base_estimator` was renamed to `estimator` in version 1.2 and will be removed in 1.4.\n",
            "  warnings.warn(\n"
          ]
        },
        {
          "output_type": "stream",
          "name": "stdout",
          "text": [
            "[CV] END base_estimator=DecisionTreeClassifier(random_state=42), max_features=0.7, max_samples=0.5, n_estimators=100, random_state=42; total time=   0.2s\n"
          ]
        },
        {
          "output_type": "stream",
          "name": "stderr",
          "text": [
            "/usr/local/lib/python3.10/dist-packages/sklearn/ensemble/_base.py:166: FutureWarning: `base_estimator` was renamed to `estimator` in version 1.2 and will be removed in 1.4.\n",
            "  warnings.warn(\n"
          ]
        },
        {
          "output_type": "stream",
          "name": "stdout",
          "text": [
            "[CV] END base_estimator=DecisionTreeClassifier(random_state=42), max_features=0.7, max_samples=0.5, n_estimators=100, random_state=42; total time=   0.2s\n"
          ]
        },
        {
          "output_type": "stream",
          "name": "stderr",
          "text": [
            "/usr/local/lib/python3.10/dist-packages/sklearn/ensemble/_base.py:166: FutureWarning: `base_estimator` was renamed to `estimator` in version 1.2 and will be removed in 1.4.\n",
            "  warnings.warn(\n"
          ]
        },
        {
          "output_type": "stream",
          "name": "stdout",
          "text": [
            "[CV] END base_estimator=DecisionTreeClassifier(random_state=42), max_features=0.7, max_samples=0.5, n_estimators=150, random_state=42; total time=   0.3s\n"
          ]
        },
        {
          "output_type": "stream",
          "name": "stderr",
          "text": [
            "/usr/local/lib/python3.10/dist-packages/sklearn/ensemble/_base.py:166: FutureWarning: `base_estimator` was renamed to `estimator` in version 1.2 and will be removed in 1.4.\n",
            "  warnings.warn(\n"
          ]
        },
        {
          "output_type": "stream",
          "name": "stdout",
          "text": [
            "[CV] END base_estimator=DecisionTreeClassifier(random_state=42), max_features=0.7, max_samples=0.5, n_estimators=150, random_state=42; total time=   0.3s\n"
          ]
        },
        {
          "output_type": "stream",
          "name": "stderr",
          "text": [
            "/usr/local/lib/python3.10/dist-packages/sklearn/ensemble/_base.py:166: FutureWarning: `base_estimator` was renamed to `estimator` in version 1.2 and will be removed in 1.4.\n",
            "  warnings.warn(\n"
          ]
        },
        {
          "output_type": "stream",
          "name": "stdout",
          "text": [
            "[CV] END base_estimator=DecisionTreeClassifier(random_state=42), max_features=0.7, max_samples=0.5, n_estimators=150, random_state=42; total time=   0.3s\n",
            "[CV] END base_estimator=DecisionTreeClassifier(random_state=42), max_features=0.7, max_samples=0.7, n_estimators=50, random_state=42; total time=   0.1s\n"
          ]
        },
        {
          "output_type": "stream",
          "name": "stderr",
          "text": [
            "/usr/local/lib/python3.10/dist-packages/sklearn/ensemble/_base.py:166: FutureWarning: `base_estimator` was renamed to `estimator` in version 1.2 and will be removed in 1.4.\n",
            "  warnings.warn(\n",
            "/usr/local/lib/python3.10/dist-packages/sklearn/ensemble/_base.py:166: FutureWarning: `base_estimator` was renamed to `estimator` in version 1.2 and will be removed in 1.4.\n",
            "  warnings.warn(\n"
          ]
        },
        {
          "output_type": "stream",
          "name": "stdout",
          "text": [
            "[CV] END base_estimator=DecisionTreeClassifier(random_state=42), max_features=0.7, max_samples=0.7, n_estimators=50, random_state=42; total time=   0.1s\n",
            "[CV] END base_estimator=DecisionTreeClassifier(random_state=42), max_features=0.7, max_samples=0.7, n_estimators=50, random_state=42; total time=   0.1s\n"
          ]
        },
        {
          "output_type": "stream",
          "name": "stderr",
          "text": [
            "/usr/local/lib/python3.10/dist-packages/sklearn/ensemble/_base.py:166: FutureWarning: `base_estimator` was renamed to `estimator` in version 1.2 and will be removed in 1.4.\n",
            "  warnings.warn(\n",
            "/usr/local/lib/python3.10/dist-packages/sklearn/ensemble/_base.py:166: FutureWarning: `base_estimator` was renamed to `estimator` in version 1.2 and will be removed in 1.4.\n",
            "  warnings.warn(\n"
          ]
        },
        {
          "output_type": "stream",
          "name": "stdout",
          "text": [
            "[CV] END base_estimator=DecisionTreeClassifier(random_state=42), max_features=0.7, max_samples=0.7, n_estimators=100, random_state=42; total time=   0.2s\n"
          ]
        },
        {
          "output_type": "stream",
          "name": "stderr",
          "text": [
            "/usr/local/lib/python3.10/dist-packages/sklearn/ensemble/_base.py:166: FutureWarning: `base_estimator` was renamed to `estimator` in version 1.2 and will be removed in 1.4.\n",
            "  warnings.warn(\n"
          ]
        },
        {
          "output_type": "stream",
          "name": "stdout",
          "text": [
            "[CV] END base_estimator=DecisionTreeClassifier(random_state=42), max_features=0.7, max_samples=0.7, n_estimators=100, random_state=42; total time=   0.2s\n"
          ]
        },
        {
          "output_type": "stream",
          "name": "stderr",
          "text": [
            "/usr/local/lib/python3.10/dist-packages/sklearn/ensemble/_base.py:166: FutureWarning: `base_estimator` was renamed to `estimator` in version 1.2 and will be removed in 1.4.\n",
            "  warnings.warn(\n"
          ]
        },
        {
          "output_type": "stream",
          "name": "stdout",
          "text": [
            "[CV] END base_estimator=DecisionTreeClassifier(random_state=42), max_features=0.7, max_samples=0.7, n_estimators=100, random_state=42; total time=   0.2s\n"
          ]
        },
        {
          "output_type": "stream",
          "name": "stderr",
          "text": [
            "/usr/local/lib/python3.10/dist-packages/sklearn/ensemble/_base.py:166: FutureWarning: `base_estimator` was renamed to `estimator` in version 1.2 and will be removed in 1.4.\n",
            "  warnings.warn(\n"
          ]
        },
        {
          "output_type": "stream",
          "name": "stdout",
          "text": [
            "[CV] END base_estimator=DecisionTreeClassifier(random_state=42), max_features=0.7, max_samples=0.7, n_estimators=150, random_state=42; total time=   0.4s\n"
          ]
        },
        {
          "output_type": "stream",
          "name": "stderr",
          "text": [
            "/usr/local/lib/python3.10/dist-packages/sklearn/ensemble/_base.py:166: FutureWarning: `base_estimator` was renamed to `estimator` in version 1.2 and will be removed in 1.4.\n",
            "  warnings.warn(\n"
          ]
        },
        {
          "output_type": "stream",
          "name": "stdout",
          "text": [
            "[CV] END base_estimator=DecisionTreeClassifier(random_state=42), max_features=0.7, max_samples=0.7, n_estimators=150, random_state=42; total time=   0.4s\n"
          ]
        },
        {
          "output_type": "stream",
          "name": "stderr",
          "text": [
            "/usr/local/lib/python3.10/dist-packages/sklearn/ensemble/_base.py:166: FutureWarning: `base_estimator` was renamed to `estimator` in version 1.2 and will be removed in 1.4.\n",
            "  warnings.warn(\n"
          ]
        },
        {
          "output_type": "stream",
          "name": "stdout",
          "text": [
            "[CV] END base_estimator=DecisionTreeClassifier(random_state=42), max_features=0.7, max_samples=0.7, n_estimators=150, random_state=42; total time=   0.4s\n",
            "[CV] END base_estimator=DecisionTreeClassifier(random_state=42), max_features=0.7, max_samples=0.9, n_estimators=50, random_state=42; total time=   0.1s\n"
          ]
        },
        {
          "output_type": "stream",
          "name": "stderr",
          "text": [
            "/usr/local/lib/python3.10/dist-packages/sklearn/ensemble/_base.py:166: FutureWarning: `base_estimator` was renamed to `estimator` in version 1.2 and will be removed in 1.4.\n",
            "  warnings.warn(\n",
            "/usr/local/lib/python3.10/dist-packages/sklearn/ensemble/_base.py:166: FutureWarning: `base_estimator` was renamed to `estimator` in version 1.2 and will be removed in 1.4.\n",
            "  warnings.warn(\n"
          ]
        },
        {
          "output_type": "stream",
          "name": "stdout",
          "text": [
            "[CV] END base_estimator=DecisionTreeClassifier(random_state=42), max_features=0.7, max_samples=0.9, n_estimators=50, random_state=42; total time=   0.1s\n",
            "[CV] END base_estimator=DecisionTreeClassifier(random_state=42), max_features=0.7, max_samples=0.9, n_estimators=50, random_state=42; total time=   0.1s\n"
          ]
        },
        {
          "output_type": "stream",
          "name": "stderr",
          "text": [
            "/usr/local/lib/python3.10/dist-packages/sklearn/ensemble/_base.py:166: FutureWarning: `base_estimator` was renamed to `estimator` in version 1.2 and will be removed in 1.4.\n",
            "  warnings.warn(\n",
            "/usr/local/lib/python3.10/dist-packages/sklearn/ensemble/_base.py:166: FutureWarning: `base_estimator` was renamed to `estimator` in version 1.2 and will be removed in 1.4.\n",
            "  warnings.warn(\n"
          ]
        },
        {
          "output_type": "stream",
          "name": "stdout",
          "text": [
            "[CV] END base_estimator=DecisionTreeClassifier(random_state=42), max_features=0.7, max_samples=0.9, n_estimators=100, random_state=42; total time=   0.3s\n"
          ]
        },
        {
          "output_type": "stream",
          "name": "stderr",
          "text": [
            "/usr/local/lib/python3.10/dist-packages/sklearn/ensemble/_base.py:166: FutureWarning: `base_estimator` was renamed to `estimator` in version 1.2 and will be removed in 1.4.\n",
            "  warnings.warn(\n"
          ]
        },
        {
          "output_type": "stream",
          "name": "stdout",
          "text": [
            "[CV] END base_estimator=DecisionTreeClassifier(random_state=42), max_features=0.7, max_samples=0.9, n_estimators=100, random_state=42; total time=   0.3s\n"
          ]
        },
        {
          "output_type": "stream",
          "name": "stderr",
          "text": [
            "/usr/local/lib/python3.10/dist-packages/sklearn/ensemble/_base.py:166: FutureWarning: `base_estimator` was renamed to `estimator` in version 1.2 and will be removed in 1.4.\n",
            "  warnings.warn(\n"
          ]
        },
        {
          "output_type": "stream",
          "name": "stdout",
          "text": [
            "[CV] END base_estimator=DecisionTreeClassifier(random_state=42), max_features=0.7, max_samples=0.9, n_estimators=100, random_state=42; total time=   0.3s\n"
          ]
        },
        {
          "output_type": "stream",
          "name": "stderr",
          "text": [
            "/usr/local/lib/python3.10/dist-packages/sklearn/ensemble/_base.py:166: FutureWarning: `base_estimator` was renamed to `estimator` in version 1.2 and will be removed in 1.4.\n",
            "  warnings.warn(\n"
          ]
        },
        {
          "output_type": "stream",
          "name": "stdout",
          "text": [
            "[CV] END base_estimator=DecisionTreeClassifier(random_state=42), max_features=0.7, max_samples=0.9, n_estimators=150, random_state=42; total time=   0.4s\n"
          ]
        },
        {
          "output_type": "stream",
          "name": "stderr",
          "text": [
            "/usr/local/lib/python3.10/dist-packages/sklearn/ensemble/_base.py:166: FutureWarning: `base_estimator` was renamed to `estimator` in version 1.2 and will be removed in 1.4.\n",
            "  warnings.warn(\n"
          ]
        },
        {
          "output_type": "stream",
          "name": "stdout",
          "text": [
            "[CV] END base_estimator=DecisionTreeClassifier(random_state=42), max_features=0.7, max_samples=0.9, n_estimators=150, random_state=42; total time=   0.4s\n"
          ]
        },
        {
          "output_type": "stream",
          "name": "stderr",
          "text": [
            "/usr/local/lib/python3.10/dist-packages/sklearn/ensemble/_base.py:166: FutureWarning: `base_estimator` was renamed to `estimator` in version 1.2 and will be removed in 1.4.\n",
            "  warnings.warn(\n"
          ]
        },
        {
          "output_type": "stream",
          "name": "stdout",
          "text": [
            "[CV] END base_estimator=DecisionTreeClassifier(random_state=42), max_features=0.7, max_samples=0.9, n_estimators=150, random_state=42; total time=   0.4s\n",
            "[CV] END base_estimator=DecisionTreeClassifier(random_state=42), max_features=0.9, max_samples=0.5, n_estimators=50, random_state=42; total time=   0.1s\n"
          ]
        },
        {
          "output_type": "stream",
          "name": "stderr",
          "text": [
            "/usr/local/lib/python3.10/dist-packages/sklearn/ensemble/_base.py:166: FutureWarning: `base_estimator` was renamed to `estimator` in version 1.2 and will be removed in 1.4.\n",
            "  warnings.warn(\n",
            "/usr/local/lib/python3.10/dist-packages/sklearn/ensemble/_base.py:166: FutureWarning: `base_estimator` was renamed to `estimator` in version 1.2 and will be removed in 1.4.\n",
            "  warnings.warn(\n"
          ]
        },
        {
          "output_type": "stream",
          "name": "stdout",
          "text": [
            "[CV] END base_estimator=DecisionTreeClassifier(random_state=42), max_features=0.9, max_samples=0.5, n_estimators=50, random_state=42; total time=   0.1s\n",
            "[CV] END base_estimator=DecisionTreeClassifier(random_state=42), max_features=0.9, max_samples=0.5, n_estimators=50, random_state=42; total time=   0.1s\n"
          ]
        },
        {
          "output_type": "stream",
          "name": "stderr",
          "text": [
            "/usr/local/lib/python3.10/dist-packages/sklearn/ensemble/_base.py:166: FutureWarning: `base_estimator` was renamed to `estimator` in version 1.2 and will be removed in 1.4.\n",
            "  warnings.warn(\n",
            "/usr/local/lib/python3.10/dist-packages/sklearn/ensemble/_base.py:166: FutureWarning: `base_estimator` was renamed to `estimator` in version 1.2 and will be removed in 1.4.\n",
            "  warnings.warn(\n"
          ]
        },
        {
          "output_type": "stream",
          "name": "stdout",
          "text": [
            "[CV] END base_estimator=DecisionTreeClassifier(random_state=42), max_features=0.9, max_samples=0.5, n_estimators=100, random_state=42; total time=   0.2s\n"
          ]
        },
        {
          "output_type": "stream",
          "name": "stderr",
          "text": [
            "/usr/local/lib/python3.10/dist-packages/sklearn/ensemble/_base.py:166: FutureWarning: `base_estimator` was renamed to `estimator` in version 1.2 and will be removed in 1.4.\n",
            "  warnings.warn(\n"
          ]
        },
        {
          "output_type": "stream",
          "name": "stdout",
          "text": [
            "[CV] END base_estimator=DecisionTreeClassifier(random_state=42), max_features=0.9, max_samples=0.5, n_estimators=100, random_state=42; total time=   0.2s\n"
          ]
        },
        {
          "output_type": "stream",
          "name": "stderr",
          "text": [
            "/usr/local/lib/python3.10/dist-packages/sklearn/ensemble/_base.py:166: FutureWarning: `base_estimator` was renamed to `estimator` in version 1.2 and will be removed in 1.4.\n",
            "  warnings.warn(\n"
          ]
        },
        {
          "output_type": "stream",
          "name": "stdout",
          "text": [
            "[CV] END base_estimator=DecisionTreeClassifier(random_state=42), max_features=0.9, max_samples=0.5, n_estimators=100, random_state=42; total time=   0.2s\n"
          ]
        },
        {
          "output_type": "stream",
          "name": "stderr",
          "text": [
            "/usr/local/lib/python3.10/dist-packages/sklearn/ensemble/_base.py:166: FutureWarning: `base_estimator` was renamed to `estimator` in version 1.2 and will be removed in 1.4.\n",
            "  warnings.warn(\n"
          ]
        },
        {
          "output_type": "stream",
          "name": "stdout",
          "text": [
            "[CV] END base_estimator=DecisionTreeClassifier(random_state=42), max_features=0.9, max_samples=0.5, n_estimators=150, random_state=42; total time=   0.3s\n"
          ]
        },
        {
          "output_type": "stream",
          "name": "stderr",
          "text": [
            "/usr/local/lib/python3.10/dist-packages/sklearn/ensemble/_base.py:166: FutureWarning: `base_estimator` was renamed to `estimator` in version 1.2 and will be removed in 1.4.\n",
            "  warnings.warn(\n"
          ]
        },
        {
          "output_type": "stream",
          "name": "stdout",
          "text": [
            "[CV] END base_estimator=DecisionTreeClassifier(random_state=42), max_features=0.9, max_samples=0.5, n_estimators=150, random_state=42; total time=   0.4s\n"
          ]
        },
        {
          "output_type": "stream",
          "name": "stderr",
          "text": [
            "/usr/local/lib/python3.10/dist-packages/sklearn/ensemble/_base.py:166: FutureWarning: `base_estimator` was renamed to `estimator` in version 1.2 and will be removed in 1.4.\n",
            "  warnings.warn(\n"
          ]
        },
        {
          "output_type": "stream",
          "name": "stdout",
          "text": [
            "[CV] END base_estimator=DecisionTreeClassifier(random_state=42), max_features=0.9, max_samples=0.5, n_estimators=150, random_state=42; total time=   0.3s\n",
            "[CV] END base_estimator=DecisionTreeClassifier(random_state=42), max_features=0.9, max_samples=0.7, n_estimators=50, random_state=42; total time=   0.1s\n"
          ]
        },
        {
          "output_type": "stream",
          "name": "stderr",
          "text": [
            "/usr/local/lib/python3.10/dist-packages/sklearn/ensemble/_base.py:166: FutureWarning: `base_estimator` was renamed to `estimator` in version 1.2 and will be removed in 1.4.\n",
            "  warnings.warn(\n",
            "/usr/local/lib/python3.10/dist-packages/sklearn/ensemble/_base.py:166: FutureWarning: `base_estimator` was renamed to `estimator` in version 1.2 and will be removed in 1.4.\n",
            "  warnings.warn(\n"
          ]
        },
        {
          "output_type": "stream",
          "name": "stdout",
          "text": [
            "[CV] END base_estimator=DecisionTreeClassifier(random_state=42), max_features=0.9, max_samples=0.7, n_estimators=50, random_state=42; total time=   0.1s\n",
            "[CV] END base_estimator=DecisionTreeClassifier(random_state=42), max_features=0.9, max_samples=0.7, n_estimators=50, random_state=42; total time=   0.1s\n"
          ]
        },
        {
          "output_type": "stream",
          "name": "stderr",
          "text": [
            "/usr/local/lib/python3.10/dist-packages/sklearn/ensemble/_base.py:166: FutureWarning: `base_estimator` was renamed to `estimator` in version 1.2 and will be removed in 1.4.\n",
            "  warnings.warn(\n",
            "/usr/local/lib/python3.10/dist-packages/sklearn/ensemble/_base.py:166: FutureWarning: `base_estimator` was renamed to `estimator` in version 1.2 and will be removed in 1.4.\n",
            "  warnings.warn(\n"
          ]
        },
        {
          "output_type": "stream",
          "name": "stdout",
          "text": [
            "[CV] END base_estimator=DecisionTreeClassifier(random_state=42), max_features=0.9, max_samples=0.7, n_estimators=100, random_state=42; total time=   0.2s\n"
          ]
        },
        {
          "output_type": "stream",
          "name": "stderr",
          "text": [
            "/usr/local/lib/python3.10/dist-packages/sklearn/ensemble/_base.py:166: FutureWarning: `base_estimator` was renamed to `estimator` in version 1.2 and will be removed in 1.4.\n",
            "  warnings.warn(\n"
          ]
        },
        {
          "output_type": "stream",
          "name": "stdout",
          "text": [
            "[CV] END base_estimator=DecisionTreeClassifier(random_state=42), max_features=0.9, max_samples=0.7, n_estimators=100, random_state=42; total time=   0.4s\n"
          ]
        },
        {
          "output_type": "stream",
          "name": "stderr",
          "text": [
            "/usr/local/lib/python3.10/dist-packages/sklearn/ensemble/_base.py:166: FutureWarning: `base_estimator` was renamed to `estimator` in version 1.2 and will be removed in 1.4.\n",
            "  warnings.warn(\n"
          ]
        },
        {
          "output_type": "stream",
          "name": "stdout",
          "text": [
            "[CV] END base_estimator=DecisionTreeClassifier(random_state=42), max_features=0.9, max_samples=0.7, n_estimators=100, random_state=42; total time=   0.4s\n"
          ]
        },
        {
          "output_type": "stream",
          "name": "stderr",
          "text": [
            "/usr/local/lib/python3.10/dist-packages/sklearn/ensemble/_base.py:166: FutureWarning: `base_estimator` was renamed to `estimator` in version 1.2 and will be removed in 1.4.\n",
            "  warnings.warn(\n"
          ]
        },
        {
          "output_type": "stream",
          "name": "stdout",
          "text": [
            "[CV] END base_estimator=DecisionTreeClassifier(random_state=42), max_features=0.9, max_samples=0.7, n_estimators=150, random_state=42; total time=   0.6s\n"
          ]
        },
        {
          "output_type": "stream",
          "name": "stderr",
          "text": [
            "/usr/local/lib/python3.10/dist-packages/sklearn/ensemble/_base.py:166: FutureWarning: `base_estimator` was renamed to `estimator` in version 1.2 and will be removed in 1.4.\n",
            "  warnings.warn(\n"
          ]
        },
        {
          "output_type": "stream",
          "name": "stdout",
          "text": [
            "[CV] END base_estimator=DecisionTreeClassifier(random_state=42), max_features=0.9, max_samples=0.7, n_estimators=150, random_state=42; total time=   0.6s\n"
          ]
        },
        {
          "output_type": "stream",
          "name": "stderr",
          "text": [
            "/usr/local/lib/python3.10/dist-packages/sklearn/ensemble/_base.py:166: FutureWarning: `base_estimator` was renamed to `estimator` in version 1.2 and will be removed in 1.4.\n",
            "  warnings.warn(\n"
          ]
        },
        {
          "output_type": "stream",
          "name": "stdout",
          "text": [
            "[CV] END base_estimator=DecisionTreeClassifier(random_state=42), max_features=0.9, max_samples=0.7, n_estimators=150, random_state=42; total time=   0.6s\n"
          ]
        },
        {
          "output_type": "stream",
          "name": "stderr",
          "text": [
            "/usr/local/lib/python3.10/dist-packages/sklearn/ensemble/_base.py:166: FutureWarning: `base_estimator` was renamed to `estimator` in version 1.2 and will be removed in 1.4.\n",
            "  warnings.warn(\n"
          ]
        },
        {
          "output_type": "error",
          "ename": "KeyboardInterrupt",
          "evalue": "",
          "traceback": [
            "\u001b[0;31m---------------------------------------------------------------------------\u001b[0m",
            "\u001b[0;31mKeyboardInterrupt\u001b[0m                         Traceback (most recent call last)",
            "\u001b[0;32m<ipython-input-75-487e6c628d57>\u001b[0m in \u001b[0;36m<cell line: 21>\u001b[0;34m()\u001b[0m\n\u001b[1;32m     19\u001b[0m }\n\u001b[1;32m     20\u001b[0m \u001b[0;34m\u001b[0m\u001b[0m\n\u001b[0;32m---> 21\u001b[0;31m test_grid_search_and_fit(\n\u001b[0m\u001b[1;32m     22\u001b[0m     \u001b[0mclassifier\u001b[0m\u001b[0;34m=\u001b[0m\u001b[0mBaggingClassifier\u001b[0m\u001b[0;34m(\u001b[0m\u001b[0;34m)\u001b[0m\u001b[0;34m,\u001b[0m\u001b[0;31m#KNN\u001b[0m\u001b[0;34m\u001b[0m\u001b[0;34m\u001b[0m\u001b[0m\n\u001b[1;32m     23\u001b[0m     \u001b[0mparam_grid\u001b[0m\u001b[0;34m=\u001b[0m\u001b[0mbagging_param_grid\u001b[0m\u001b[0;34m,\u001b[0m\u001b[0;34m\u001b[0m\u001b[0;34m\u001b[0m\u001b[0m\n",
            "\u001b[0;32m<ipython-input-28-b98bcbc840d1>\u001b[0m in \u001b[0;36mtest_grid_search_and_fit\u001b[0;34m(classifier, param_grid, X, y)\u001b[0m\n\u001b[1;32m      1\u001b[0m \u001b[0;31m# Define and test grid_search_and_fit function\u001b[0m\u001b[0;34m\u001b[0m\u001b[0;34m\u001b[0m\u001b[0m\n\u001b[1;32m      2\u001b[0m \u001b[0;32mdef\u001b[0m \u001b[0mtest_grid_search_and_fit\u001b[0m\u001b[0;34m(\u001b[0m\u001b[0mclassifier\u001b[0m\u001b[0;34m,\u001b[0m \u001b[0mparam_grid\u001b[0m\u001b[0;34m,\u001b[0m \u001b[0mX\u001b[0m\u001b[0;34m,\u001b[0m \u001b[0my\u001b[0m\u001b[0;34m)\u001b[0m\u001b[0;34m:\u001b[0m\u001b[0;34m\u001b[0m\u001b[0;34m\u001b[0m\u001b[0m\n\u001b[0;32m----> 3\u001b[0;31m     \u001b[0mgrid_search_and_fit\u001b[0m\u001b[0;34m(\u001b[0m\u001b[0mclassifier\u001b[0m\u001b[0;34m,\u001b[0m \u001b[0mparam_grid\u001b[0m\u001b[0;34m,\u001b[0m \u001b[0mX\u001b[0m\u001b[0;34m,\u001b[0m \u001b[0my\u001b[0m\u001b[0;34m,\u001b[0m \u001b[0mverbosity\u001b[0m\u001b[0;34m=\u001b[0m\u001b[0;36m2\u001b[0m\u001b[0;34m)\u001b[0m\u001b[0;34m\u001b[0m\u001b[0;34m\u001b[0m\u001b[0m\n\u001b[0m",
            "\u001b[0;32m<ipython-input-72-256d2969602d>\u001b[0m in \u001b[0;36mgrid_search_and_fit\u001b[0;34m(classifier, param_grid, X, y, verbosity)\u001b[0m\n\u001b[1;32m     33\u001b[0m     \u001b[0;31m# Perform grid search\u001b[0m\u001b[0;34m\u001b[0m\u001b[0;34m\u001b[0m\u001b[0m\n\u001b[1;32m     34\u001b[0m     \u001b[0mgrid_search\u001b[0m \u001b[0;34m=\u001b[0m \u001b[0mGridSearchCV\u001b[0m\u001b[0;34m(\u001b[0m\u001b[0mclassifier\u001b[0m\u001b[0;34m,\u001b[0m \u001b[0mparam_grid\u001b[0m\u001b[0;34m,\u001b[0m \u001b[0mcv\u001b[0m\u001b[0;34m=\u001b[0m\u001b[0;36m3\u001b[0m\u001b[0;34m,\u001b[0m \u001b[0mverbose\u001b[0m\u001b[0;34m=\u001b[0m\u001b[0mverbosity\u001b[0m\u001b[0;34m,\u001b[0m \u001b[0mscoring\u001b[0m\u001b[0;34m=\u001b[0m\u001b[0;34m\"f1_weighted\"\u001b[0m\u001b[0;34m)\u001b[0m\u001b[0;34m\u001b[0m\u001b[0;34m\u001b[0m\u001b[0m\n\u001b[0;32m---> 35\u001b[0;31m     \u001b[0mgrid_search\u001b[0m\u001b[0;34m.\u001b[0m\u001b[0mfit\u001b[0m\u001b[0;34m(\u001b[0m\u001b[0mX_train\u001b[0m\u001b[0;34m,\u001b[0m \u001b[0my_train\u001b[0m\u001b[0;34m)\u001b[0m\u001b[0;34m\u001b[0m\u001b[0;34m\u001b[0m\u001b[0m\n\u001b[0m\u001b[1;32m     36\u001b[0m \u001b[0;34m\u001b[0m\u001b[0m\n\u001b[1;32m     37\u001b[0m     \u001b[0;31m# Get the best parameters\u001b[0m\u001b[0;34m\u001b[0m\u001b[0;34m\u001b[0m\u001b[0m\n",
            "\u001b[0;32m/usr/local/lib/python3.10/dist-packages/sklearn/model_selection/_search.py\u001b[0m in \u001b[0;36mfit\u001b[0;34m(self, X, y, groups, **fit_params)\u001b[0m\n\u001b[1;32m    872\u001b[0m                 \u001b[0;32mreturn\u001b[0m \u001b[0mresults\u001b[0m\u001b[0;34m\u001b[0m\u001b[0;34m\u001b[0m\u001b[0m\n\u001b[1;32m    873\u001b[0m \u001b[0;34m\u001b[0m\u001b[0m\n\u001b[0;32m--> 874\u001b[0;31m             \u001b[0mself\u001b[0m\u001b[0;34m.\u001b[0m\u001b[0m_run_search\u001b[0m\u001b[0;34m(\u001b[0m\u001b[0mevaluate_candidates\u001b[0m\u001b[0;34m)\u001b[0m\u001b[0;34m\u001b[0m\u001b[0;34m\u001b[0m\u001b[0m\n\u001b[0m\u001b[1;32m    875\u001b[0m \u001b[0;34m\u001b[0m\u001b[0m\n\u001b[1;32m    876\u001b[0m             \u001b[0;31m# multimetric is determined here because in the case of a callable\u001b[0m\u001b[0;34m\u001b[0m\u001b[0;34m\u001b[0m\u001b[0m\n",
            "\u001b[0;32m/usr/local/lib/python3.10/dist-packages/sklearn/model_selection/_search.py\u001b[0m in \u001b[0;36m_run_search\u001b[0;34m(self, evaluate_candidates)\u001b[0m\n\u001b[1;32m   1386\u001b[0m     \u001b[0;32mdef\u001b[0m \u001b[0m_run_search\u001b[0m\u001b[0;34m(\u001b[0m\u001b[0mself\u001b[0m\u001b[0;34m,\u001b[0m \u001b[0mevaluate_candidates\u001b[0m\u001b[0;34m)\u001b[0m\u001b[0;34m:\u001b[0m\u001b[0;34m\u001b[0m\u001b[0;34m\u001b[0m\u001b[0m\n\u001b[1;32m   1387\u001b[0m         \u001b[0;34m\"\"\"Search all candidates in param_grid\"\"\"\u001b[0m\u001b[0;34m\u001b[0m\u001b[0;34m\u001b[0m\u001b[0m\n\u001b[0;32m-> 1388\u001b[0;31m         \u001b[0mevaluate_candidates\u001b[0m\u001b[0;34m(\u001b[0m\u001b[0mParameterGrid\u001b[0m\u001b[0;34m(\u001b[0m\u001b[0mself\u001b[0m\u001b[0;34m.\u001b[0m\u001b[0mparam_grid\u001b[0m\u001b[0;34m)\u001b[0m\u001b[0;34m)\u001b[0m\u001b[0;34m\u001b[0m\u001b[0;34m\u001b[0m\u001b[0m\n\u001b[0m\u001b[1;32m   1389\u001b[0m \u001b[0;34m\u001b[0m\u001b[0m\n\u001b[1;32m   1390\u001b[0m \u001b[0;34m\u001b[0m\u001b[0m\n",
            "\u001b[0;32m/usr/local/lib/python3.10/dist-packages/sklearn/model_selection/_search.py\u001b[0m in \u001b[0;36mevaluate_candidates\u001b[0;34m(candidate_params, cv, more_results)\u001b[0m\n\u001b[1;32m    819\u001b[0m                     )\n\u001b[1;32m    820\u001b[0m \u001b[0;34m\u001b[0m\u001b[0m\n\u001b[0;32m--> 821\u001b[0;31m                 out = parallel(\n\u001b[0m\u001b[1;32m    822\u001b[0m                     delayed(_fit_and_score)(\n\u001b[1;32m    823\u001b[0m                         \u001b[0mclone\u001b[0m\u001b[0;34m(\u001b[0m\u001b[0mbase_estimator\u001b[0m\u001b[0;34m)\u001b[0m\u001b[0;34m,\u001b[0m\u001b[0;34m\u001b[0m\u001b[0;34m\u001b[0m\u001b[0m\n",
            "\u001b[0;32m/usr/local/lib/python3.10/dist-packages/sklearn/utils/parallel.py\u001b[0m in \u001b[0;36m__call__\u001b[0;34m(self, iterable)\u001b[0m\n\u001b[1;32m     61\u001b[0m             \u001b[0;32mfor\u001b[0m \u001b[0mdelayed_func\u001b[0m\u001b[0;34m,\u001b[0m \u001b[0margs\u001b[0m\u001b[0;34m,\u001b[0m \u001b[0mkwargs\u001b[0m \u001b[0;32min\u001b[0m \u001b[0miterable\u001b[0m\u001b[0;34m\u001b[0m\u001b[0;34m\u001b[0m\u001b[0m\n\u001b[1;32m     62\u001b[0m         )\n\u001b[0;32m---> 63\u001b[0;31m         \u001b[0;32mreturn\u001b[0m \u001b[0msuper\u001b[0m\u001b[0;34m(\u001b[0m\u001b[0;34m)\u001b[0m\u001b[0;34m.\u001b[0m\u001b[0m__call__\u001b[0m\u001b[0;34m(\u001b[0m\u001b[0miterable_with_config\u001b[0m\u001b[0;34m)\u001b[0m\u001b[0;34m\u001b[0m\u001b[0;34m\u001b[0m\u001b[0m\n\u001b[0m\u001b[1;32m     64\u001b[0m \u001b[0;34m\u001b[0m\u001b[0m\n\u001b[1;32m     65\u001b[0m \u001b[0;34m\u001b[0m\u001b[0m\n",
            "\u001b[0;32m/usr/local/lib/python3.10/dist-packages/joblib/parallel.py\u001b[0m in \u001b[0;36m__call__\u001b[0;34m(self, iterable)\u001b[0m\n\u001b[1;32m   1861\u001b[0m             \u001b[0moutput\u001b[0m \u001b[0;34m=\u001b[0m \u001b[0mself\u001b[0m\u001b[0;34m.\u001b[0m\u001b[0m_get_sequential_output\u001b[0m\u001b[0;34m(\u001b[0m\u001b[0miterable\u001b[0m\u001b[0;34m)\u001b[0m\u001b[0;34m\u001b[0m\u001b[0;34m\u001b[0m\u001b[0m\n\u001b[1;32m   1862\u001b[0m             \u001b[0mnext\u001b[0m\u001b[0;34m(\u001b[0m\u001b[0moutput\u001b[0m\u001b[0;34m)\u001b[0m\u001b[0;34m\u001b[0m\u001b[0;34m\u001b[0m\u001b[0m\n\u001b[0;32m-> 1863\u001b[0;31m             \u001b[0;32mreturn\u001b[0m \u001b[0moutput\u001b[0m \u001b[0;32mif\u001b[0m \u001b[0mself\u001b[0m\u001b[0;34m.\u001b[0m\u001b[0mreturn_generator\u001b[0m \u001b[0;32melse\u001b[0m \u001b[0mlist\u001b[0m\u001b[0;34m(\u001b[0m\u001b[0moutput\u001b[0m\u001b[0;34m)\u001b[0m\u001b[0;34m\u001b[0m\u001b[0;34m\u001b[0m\u001b[0m\n\u001b[0m\u001b[1;32m   1864\u001b[0m \u001b[0;34m\u001b[0m\u001b[0m\n\u001b[1;32m   1865\u001b[0m         \u001b[0;31m# Let's create an ID that uniquely identifies the current call. If the\u001b[0m\u001b[0;34m\u001b[0m\u001b[0;34m\u001b[0m\u001b[0m\n",
            "\u001b[0;32m/usr/local/lib/python3.10/dist-packages/joblib/parallel.py\u001b[0m in \u001b[0;36m_get_sequential_output\u001b[0;34m(self, iterable)\u001b[0m\n\u001b[1;32m   1790\u001b[0m                 \u001b[0mself\u001b[0m\u001b[0;34m.\u001b[0m\u001b[0mn_dispatched_batches\u001b[0m \u001b[0;34m+=\u001b[0m \u001b[0;36m1\u001b[0m\u001b[0;34m\u001b[0m\u001b[0;34m\u001b[0m\u001b[0m\n\u001b[1;32m   1791\u001b[0m                 \u001b[0mself\u001b[0m\u001b[0;34m.\u001b[0m\u001b[0mn_dispatched_tasks\u001b[0m \u001b[0;34m+=\u001b[0m \u001b[0;36m1\u001b[0m\u001b[0;34m\u001b[0m\u001b[0;34m\u001b[0m\u001b[0m\n\u001b[0;32m-> 1792\u001b[0;31m                 \u001b[0mres\u001b[0m \u001b[0;34m=\u001b[0m \u001b[0mfunc\u001b[0m\u001b[0;34m(\u001b[0m\u001b[0;34m*\u001b[0m\u001b[0margs\u001b[0m\u001b[0;34m,\u001b[0m \u001b[0;34m**\u001b[0m\u001b[0mkwargs\u001b[0m\u001b[0;34m)\u001b[0m\u001b[0;34m\u001b[0m\u001b[0;34m\u001b[0m\u001b[0m\n\u001b[0m\u001b[1;32m   1793\u001b[0m                 \u001b[0mself\u001b[0m\u001b[0;34m.\u001b[0m\u001b[0mn_completed_tasks\u001b[0m \u001b[0;34m+=\u001b[0m \u001b[0;36m1\u001b[0m\u001b[0;34m\u001b[0m\u001b[0;34m\u001b[0m\u001b[0m\n\u001b[1;32m   1794\u001b[0m                 \u001b[0mself\u001b[0m\u001b[0;34m.\u001b[0m\u001b[0mprint_progress\u001b[0m\u001b[0;34m(\u001b[0m\u001b[0;34m)\u001b[0m\u001b[0;34m\u001b[0m\u001b[0;34m\u001b[0m\u001b[0m\n",
            "\u001b[0;32m/usr/local/lib/python3.10/dist-packages/sklearn/utils/parallel.py\u001b[0m in \u001b[0;36m__call__\u001b[0;34m(self, *args, **kwargs)\u001b[0m\n\u001b[1;32m    121\u001b[0m             \u001b[0mconfig\u001b[0m \u001b[0;34m=\u001b[0m \u001b[0;34m{\u001b[0m\u001b[0;34m}\u001b[0m\u001b[0;34m\u001b[0m\u001b[0;34m\u001b[0m\u001b[0m\n\u001b[1;32m    122\u001b[0m         \u001b[0;32mwith\u001b[0m \u001b[0mconfig_context\u001b[0m\u001b[0;34m(\u001b[0m\u001b[0;34m**\u001b[0m\u001b[0mconfig\u001b[0m\u001b[0;34m)\u001b[0m\u001b[0;34m:\u001b[0m\u001b[0;34m\u001b[0m\u001b[0;34m\u001b[0m\u001b[0m\n\u001b[0;32m--> 123\u001b[0;31m             \u001b[0;32mreturn\u001b[0m \u001b[0mself\u001b[0m\u001b[0;34m.\u001b[0m\u001b[0mfunction\u001b[0m\u001b[0;34m(\u001b[0m\u001b[0;34m*\u001b[0m\u001b[0margs\u001b[0m\u001b[0;34m,\u001b[0m \u001b[0;34m**\u001b[0m\u001b[0mkwargs\u001b[0m\u001b[0;34m)\u001b[0m\u001b[0;34m\u001b[0m\u001b[0;34m\u001b[0m\u001b[0m\n\u001b[0m",
            "\u001b[0;32m/usr/local/lib/python3.10/dist-packages/sklearn/model_selection/_validation.py\u001b[0m in \u001b[0;36m_fit_and_score\u001b[0;34m(estimator, X, y, scorer, train, test, verbose, parameters, fit_params, return_train_score, return_parameters, return_n_test_samples, return_times, return_estimator, split_progress, candidate_progress, error_score)\u001b[0m\n\u001b[1;32m    684\u001b[0m             \u001b[0mestimator\u001b[0m\u001b[0;34m.\u001b[0m\u001b[0mfit\u001b[0m\u001b[0;34m(\u001b[0m\u001b[0mX_train\u001b[0m\u001b[0;34m,\u001b[0m \u001b[0;34m**\u001b[0m\u001b[0mfit_params\u001b[0m\u001b[0;34m)\u001b[0m\u001b[0;34m\u001b[0m\u001b[0;34m\u001b[0m\u001b[0m\n\u001b[1;32m    685\u001b[0m         \u001b[0;32melse\u001b[0m\u001b[0;34m:\u001b[0m\u001b[0;34m\u001b[0m\u001b[0;34m\u001b[0m\u001b[0m\n\u001b[0;32m--> 686\u001b[0;31m             \u001b[0mestimator\u001b[0m\u001b[0;34m.\u001b[0m\u001b[0mfit\u001b[0m\u001b[0;34m(\u001b[0m\u001b[0mX_train\u001b[0m\u001b[0;34m,\u001b[0m \u001b[0my_train\u001b[0m\u001b[0;34m,\u001b[0m \u001b[0;34m**\u001b[0m\u001b[0mfit_params\u001b[0m\u001b[0;34m)\u001b[0m\u001b[0;34m\u001b[0m\u001b[0;34m\u001b[0m\u001b[0m\n\u001b[0m\u001b[1;32m    687\u001b[0m \u001b[0;34m\u001b[0m\u001b[0m\n\u001b[1;32m    688\u001b[0m     \u001b[0;32mexcept\u001b[0m \u001b[0mException\u001b[0m\u001b[0;34m:\u001b[0m\u001b[0;34m\u001b[0m\u001b[0;34m\u001b[0m\u001b[0m\n",
            "\u001b[0;32m/usr/local/lib/python3.10/dist-packages/sklearn/ensemble/_bagging.py\u001b[0m in \u001b[0;36mfit\u001b[0;34m(self, X, y, sample_weight)\u001b[0m\n\u001b[1;32m    335\u001b[0m             \u001b[0mmulti_output\u001b[0m\u001b[0;34m=\u001b[0m\u001b[0;32mTrue\u001b[0m\u001b[0;34m,\u001b[0m\u001b[0;34m\u001b[0m\u001b[0;34m\u001b[0m\u001b[0m\n\u001b[1;32m    336\u001b[0m         )\n\u001b[0;32m--> 337\u001b[0;31m         \u001b[0;32mreturn\u001b[0m \u001b[0mself\u001b[0m\u001b[0;34m.\u001b[0m\u001b[0m_fit\u001b[0m\u001b[0;34m(\u001b[0m\u001b[0mX\u001b[0m\u001b[0;34m,\u001b[0m \u001b[0my\u001b[0m\u001b[0;34m,\u001b[0m \u001b[0mself\u001b[0m\u001b[0;34m.\u001b[0m\u001b[0mmax_samples\u001b[0m\u001b[0;34m,\u001b[0m \u001b[0msample_weight\u001b[0m\u001b[0;34m=\u001b[0m\u001b[0msample_weight\u001b[0m\u001b[0;34m)\u001b[0m\u001b[0;34m\u001b[0m\u001b[0;34m\u001b[0m\u001b[0m\n\u001b[0m\u001b[1;32m    338\u001b[0m \u001b[0;34m\u001b[0m\u001b[0m\n\u001b[1;32m    339\u001b[0m     \u001b[0;32mdef\u001b[0m \u001b[0m_parallel_args\u001b[0m\u001b[0;34m(\u001b[0m\u001b[0mself\u001b[0m\u001b[0;34m)\u001b[0m\u001b[0;34m:\u001b[0m\u001b[0;34m\u001b[0m\u001b[0;34m\u001b[0m\u001b[0m\n",
            "\u001b[0;32m/usr/local/lib/python3.10/dist-packages/sklearn/ensemble/_bagging.py\u001b[0m in \u001b[0;36m_fit\u001b[0;34m(self, X, y, max_samples, max_depth, sample_weight, check_input)\u001b[0m\n\u001b[1;32m    470\u001b[0m         \u001b[0mself\u001b[0m\u001b[0;34m.\u001b[0m\u001b[0m_seeds\u001b[0m \u001b[0;34m=\u001b[0m \u001b[0mseeds\u001b[0m\u001b[0;34m\u001b[0m\u001b[0;34m\u001b[0m\u001b[0m\n\u001b[1;32m    471\u001b[0m \u001b[0;34m\u001b[0m\u001b[0m\n\u001b[0;32m--> 472\u001b[0;31m         all_results = Parallel(\n\u001b[0m\u001b[1;32m    473\u001b[0m             \u001b[0mn_jobs\u001b[0m\u001b[0;34m=\u001b[0m\u001b[0mn_jobs\u001b[0m\u001b[0;34m,\u001b[0m \u001b[0mverbose\u001b[0m\u001b[0;34m=\u001b[0m\u001b[0mself\u001b[0m\u001b[0;34m.\u001b[0m\u001b[0mverbose\u001b[0m\u001b[0;34m,\u001b[0m \u001b[0;34m**\u001b[0m\u001b[0mself\u001b[0m\u001b[0;34m.\u001b[0m\u001b[0m_parallel_args\u001b[0m\u001b[0;34m(\u001b[0m\u001b[0;34m)\u001b[0m\u001b[0;34m\u001b[0m\u001b[0;34m\u001b[0m\u001b[0m\n\u001b[1;32m    474\u001b[0m         \u001b[0;34m)\u001b[0m\u001b[0;34m(\u001b[0m\u001b[0;34m\u001b[0m\u001b[0;34m\u001b[0m\u001b[0m\n",
            "\u001b[0;32m/usr/local/lib/python3.10/dist-packages/sklearn/utils/parallel.py\u001b[0m in \u001b[0;36m__call__\u001b[0;34m(self, iterable)\u001b[0m\n\u001b[1;32m     61\u001b[0m             \u001b[0;32mfor\u001b[0m \u001b[0mdelayed_func\u001b[0m\u001b[0;34m,\u001b[0m \u001b[0margs\u001b[0m\u001b[0;34m,\u001b[0m \u001b[0mkwargs\u001b[0m \u001b[0;32min\u001b[0m \u001b[0miterable\u001b[0m\u001b[0;34m\u001b[0m\u001b[0;34m\u001b[0m\u001b[0m\n\u001b[1;32m     62\u001b[0m         )\n\u001b[0;32m---> 63\u001b[0;31m         \u001b[0;32mreturn\u001b[0m \u001b[0msuper\u001b[0m\u001b[0;34m(\u001b[0m\u001b[0;34m)\u001b[0m\u001b[0;34m.\u001b[0m\u001b[0m__call__\u001b[0m\u001b[0;34m(\u001b[0m\u001b[0miterable_with_config\u001b[0m\u001b[0;34m)\u001b[0m\u001b[0;34m\u001b[0m\u001b[0;34m\u001b[0m\u001b[0m\n\u001b[0m\u001b[1;32m     64\u001b[0m \u001b[0;34m\u001b[0m\u001b[0m\n\u001b[1;32m     65\u001b[0m \u001b[0;34m\u001b[0m\u001b[0m\n",
            "\u001b[0;32m/usr/local/lib/python3.10/dist-packages/joblib/parallel.py\u001b[0m in \u001b[0;36m__call__\u001b[0;34m(self, iterable)\u001b[0m\n\u001b[1;32m   1861\u001b[0m             \u001b[0moutput\u001b[0m \u001b[0;34m=\u001b[0m \u001b[0mself\u001b[0m\u001b[0;34m.\u001b[0m\u001b[0m_get_sequential_output\u001b[0m\u001b[0;34m(\u001b[0m\u001b[0miterable\u001b[0m\u001b[0;34m)\u001b[0m\u001b[0;34m\u001b[0m\u001b[0;34m\u001b[0m\u001b[0m\n\u001b[1;32m   1862\u001b[0m             \u001b[0mnext\u001b[0m\u001b[0;34m(\u001b[0m\u001b[0moutput\u001b[0m\u001b[0;34m)\u001b[0m\u001b[0;34m\u001b[0m\u001b[0;34m\u001b[0m\u001b[0m\n\u001b[0;32m-> 1863\u001b[0;31m             \u001b[0;32mreturn\u001b[0m \u001b[0moutput\u001b[0m \u001b[0;32mif\u001b[0m \u001b[0mself\u001b[0m\u001b[0;34m.\u001b[0m\u001b[0mreturn_generator\u001b[0m \u001b[0;32melse\u001b[0m \u001b[0mlist\u001b[0m\u001b[0;34m(\u001b[0m\u001b[0moutput\u001b[0m\u001b[0;34m)\u001b[0m\u001b[0;34m\u001b[0m\u001b[0;34m\u001b[0m\u001b[0m\n\u001b[0m\u001b[1;32m   1864\u001b[0m \u001b[0;34m\u001b[0m\u001b[0m\n\u001b[1;32m   1865\u001b[0m         \u001b[0;31m# Let's create an ID that uniquely identifies the current call. If the\u001b[0m\u001b[0;34m\u001b[0m\u001b[0;34m\u001b[0m\u001b[0m\n",
            "\u001b[0;32m/usr/local/lib/python3.10/dist-packages/joblib/parallel.py\u001b[0m in \u001b[0;36m_get_sequential_output\u001b[0;34m(self, iterable)\u001b[0m\n\u001b[1;32m   1790\u001b[0m                 \u001b[0mself\u001b[0m\u001b[0;34m.\u001b[0m\u001b[0mn_dispatched_batches\u001b[0m \u001b[0;34m+=\u001b[0m \u001b[0;36m1\u001b[0m\u001b[0;34m\u001b[0m\u001b[0;34m\u001b[0m\u001b[0m\n\u001b[1;32m   1791\u001b[0m                 \u001b[0mself\u001b[0m\u001b[0;34m.\u001b[0m\u001b[0mn_dispatched_tasks\u001b[0m \u001b[0;34m+=\u001b[0m \u001b[0;36m1\u001b[0m\u001b[0;34m\u001b[0m\u001b[0;34m\u001b[0m\u001b[0m\n\u001b[0;32m-> 1792\u001b[0;31m                 \u001b[0mres\u001b[0m \u001b[0;34m=\u001b[0m \u001b[0mfunc\u001b[0m\u001b[0;34m(\u001b[0m\u001b[0;34m*\u001b[0m\u001b[0margs\u001b[0m\u001b[0;34m,\u001b[0m \u001b[0;34m**\u001b[0m\u001b[0mkwargs\u001b[0m\u001b[0;34m)\u001b[0m\u001b[0;34m\u001b[0m\u001b[0;34m\u001b[0m\u001b[0m\n\u001b[0m\u001b[1;32m   1793\u001b[0m                 \u001b[0mself\u001b[0m\u001b[0;34m.\u001b[0m\u001b[0mn_completed_tasks\u001b[0m \u001b[0;34m+=\u001b[0m \u001b[0;36m1\u001b[0m\u001b[0;34m\u001b[0m\u001b[0;34m\u001b[0m\u001b[0m\n\u001b[1;32m   1794\u001b[0m                 \u001b[0mself\u001b[0m\u001b[0;34m.\u001b[0m\u001b[0mprint_progress\u001b[0m\u001b[0;34m(\u001b[0m\u001b[0;34m)\u001b[0m\u001b[0;34m\u001b[0m\u001b[0;34m\u001b[0m\u001b[0m\n",
            "\u001b[0;32m/usr/local/lib/python3.10/dist-packages/sklearn/utils/parallel.py\u001b[0m in \u001b[0;36m__call__\u001b[0;34m(self, *args, **kwargs)\u001b[0m\n\u001b[1;32m    121\u001b[0m             \u001b[0mconfig\u001b[0m \u001b[0;34m=\u001b[0m \u001b[0;34m{\u001b[0m\u001b[0;34m}\u001b[0m\u001b[0;34m\u001b[0m\u001b[0;34m\u001b[0m\u001b[0m\n\u001b[1;32m    122\u001b[0m         \u001b[0;32mwith\u001b[0m \u001b[0mconfig_context\u001b[0m\u001b[0;34m(\u001b[0m\u001b[0;34m**\u001b[0m\u001b[0mconfig\u001b[0m\u001b[0;34m)\u001b[0m\u001b[0;34m:\u001b[0m\u001b[0;34m\u001b[0m\u001b[0;34m\u001b[0m\u001b[0m\n\u001b[0;32m--> 123\u001b[0;31m             \u001b[0;32mreturn\u001b[0m \u001b[0mself\u001b[0m\u001b[0;34m.\u001b[0m\u001b[0mfunction\u001b[0m\u001b[0;34m(\u001b[0m\u001b[0;34m*\u001b[0m\u001b[0margs\u001b[0m\u001b[0;34m,\u001b[0m \u001b[0;34m**\u001b[0m\u001b[0mkwargs\u001b[0m\u001b[0;34m)\u001b[0m\u001b[0;34m\u001b[0m\u001b[0;34m\u001b[0m\u001b[0m\n\u001b[0m",
            "\u001b[0;32m/usr/local/lib/python3.10/dist-packages/sklearn/ensemble/_bagging.py\u001b[0m in \u001b[0;36m_parallel_build_estimators\u001b[0;34m(n_estimators, ensemble, X, y, sample_weight, seeds, total_n_estimators, verbose, check_input)\u001b[0m\n\u001b[1;32m    106\u001b[0m \u001b[0;34m\u001b[0m\u001b[0m\n\u001b[1;32m    107\u001b[0m         \u001b[0mrandom_state\u001b[0m \u001b[0;34m=\u001b[0m \u001b[0mseeds\u001b[0m\u001b[0;34m[\u001b[0m\u001b[0mi\u001b[0m\u001b[0;34m]\u001b[0m\u001b[0;34m\u001b[0m\u001b[0;34m\u001b[0m\u001b[0m\n\u001b[0;32m--> 108\u001b[0;31m         \u001b[0mestimator\u001b[0m \u001b[0;34m=\u001b[0m \u001b[0mensemble\u001b[0m\u001b[0;34m.\u001b[0m\u001b[0m_make_estimator\u001b[0m\u001b[0;34m(\u001b[0m\u001b[0mappend\u001b[0m\u001b[0;34m=\u001b[0m\u001b[0;32mFalse\u001b[0m\u001b[0;34m,\u001b[0m \u001b[0mrandom_state\u001b[0m\u001b[0;34m=\u001b[0m\u001b[0mrandom_state\u001b[0m\u001b[0;34m)\u001b[0m\u001b[0;34m\u001b[0m\u001b[0;34m\u001b[0m\u001b[0m\n\u001b[0m\u001b[1;32m    109\u001b[0m \u001b[0;34m\u001b[0m\u001b[0m\n\u001b[1;32m    110\u001b[0m         \u001b[0;32mif\u001b[0m \u001b[0mhas_check_input\u001b[0m\u001b[0;34m:\u001b[0m\u001b[0;34m\u001b[0m\u001b[0;34m\u001b[0m\u001b[0m\n",
            "\u001b[0;32m/usr/local/lib/python3.10/dist-packages/sklearn/ensemble/_base.py\u001b[0m in \u001b[0;36m_make_estimator\u001b[0;34m(self, append, random_state)\u001b[0m\n\u001b[1;32m    190\u001b[0m         \u001b[0msub\u001b[0m\u001b[0;34m-\u001b[0m\u001b[0mestimators\u001b[0m\u001b[0;34m.\u001b[0m\u001b[0;34m\u001b[0m\u001b[0;34m\u001b[0m\u001b[0m\n\u001b[1;32m    191\u001b[0m         \"\"\"\n\u001b[0;32m--> 192\u001b[0;31m         \u001b[0mestimator\u001b[0m \u001b[0;34m=\u001b[0m \u001b[0mclone\u001b[0m\u001b[0;34m(\u001b[0m\u001b[0mself\u001b[0m\u001b[0;34m.\u001b[0m\u001b[0mestimator_\u001b[0m\u001b[0;34m)\u001b[0m\u001b[0;34m\u001b[0m\u001b[0;34m\u001b[0m\u001b[0m\n\u001b[0m\u001b[1;32m    193\u001b[0m         \u001b[0mestimator\u001b[0m\u001b[0;34m.\u001b[0m\u001b[0mset_params\u001b[0m\u001b[0;34m(\u001b[0m\u001b[0;34m**\u001b[0m\u001b[0;34m{\u001b[0m\u001b[0mp\u001b[0m\u001b[0;34m:\u001b[0m \u001b[0mgetattr\u001b[0m\u001b[0;34m(\u001b[0m\u001b[0mself\u001b[0m\u001b[0;34m,\u001b[0m \u001b[0mp\u001b[0m\u001b[0;34m)\u001b[0m \u001b[0;32mfor\u001b[0m \u001b[0mp\u001b[0m \u001b[0;32min\u001b[0m \u001b[0mself\u001b[0m\u001b[0;34m.\u001b[0m\u001b[0mestimator_params\u001b[0m\u001b[0;34m}\u001b[0m\u001b[0;34m)\u001b[0m\u001b[0;34m\u001b[0m\u001b[0;34m\u001b[0m\u001b[0m\n\u001b[1;32m    194\u001b[0m \u001b[0;34m\u001b[0m\u001b[0m\n",
            "\u001b[0;32m/usr/local/lib/python3.10/dist-packages/sklearn/base.py\u001b[0m in \u001b[0;36mclone\u001b[0;34m(estimator, safe)\u001b[0m\n\u001b[1;32m     85\u001b[0m \u001b[0;34m\u001b[0m\u001b[0m\n\u001b[1;32m     86\u001b[0m     \u001b[0mklass\u001b[0m \u001b[0;34m=\u001b[0m \u001b[0mestimator\u001b[0m\u001b[0;34m.\u001b[0m\u001b[0m__class__\u001b[0m\u001b[0;34m\u001b[0m\u001b[0;34m\u001b[0m\u001b[0m\n\u001b[0;32m---> 87\u001b[0;31m     \u001b[0mnew_object_params\u001b[0m \u001b[0;34m=\u001b[0m \u001b[0mestimator\u001b[0m\u001b[0;34m.\u001b[0m\u001b[0mget_params\u001b[0m\u001b[0;34m(\u001b[0m\u001b[0mdeep\u001b[0m\u001b[0;34m=\u001b[0m\u001b[0;32mFalse\u001b[0m\u001b[0;34m)\u001b[0m\u001b[0;34m\u001b[0m\u001b[0;34m\u001b[0m\u001b[0m\n\u001b[0m\u001b[1;32m     88\u001b[0m     \u001b[0;32mfor\u001b[0m \u001b[0mname\u001b[0m\u001b[0;34m,\u001b[0m \u001b[0mparam\u001b[0m \u001b[0;32min\u001b[0m \u001b[0mnew_object_params\u001b[0m\u001b[0;34m.\u001b[0m\u001b[0mitems\u001b[0m\u001b[0;34m(\u001b[0m\u001b[0;34m)\u001b[0m\u001b[0;34m:\u001b[0m\u001b[0;34m\u001b[0m\u001b[0;34m\u001b[0m\u001b[0m\n\u001b[1;32m     89\u001b[0m         \u001b[0mnew_object_params\u001b[0m\u001b[0;34m[\u001b[0m\u001b[0mname\u001b[0m\u001b[0;34m]\u001b[0m \u001b[0;34m=\u001b[0m \u001b[0mclone\u001b[0m\u001b[0;34m(\u001b[0m\u001b[0mparam\u001b[0m\u001b[0;34m,\u001b[0m \u001b[0msafe\u001b[0m\u001b[0;34m=\u001b[0m\u001b[0;32mFalse\u001b[0m\u001b[0;34m)\u001b[0m\u001b[0;34m\u001b[0m\u001b[0;34m\u001b[0m\u001b[0m\n",
            "\u001b[0;32m/usr/local/lib/python3.10/dist-packages/sklearn/base.py\u001b[0m in \u001b[0;36mget_params\u001b[0;34m(self, deep)\u001b[0m\n\u001b[1;32m    167\u001b[0m         \"\"\"\n\u001b[1;32m    168\u001b[0m         \u001b[0mout\u001b[0m \u001b[0;34m=\u001b[0m \u001b[0mdict\u001b[0m\u001b[0;34m(\u001b[0m\u001b[0;34m)\u001b[0m\u001b[0;34m\u001b[0m\u001b[0;34m\u001b[0m\u001b[0m\n\u001b[0;32m--> 169\u001b[0;31m         \u001b[0;32mfor\u001b[0m \u001b[0mkey\u001b[0m \u001b[0;32min\u001b[0m \u001b[0mself\u001b[0m\u001b[0;34m.\u001b[0m\u001b[0m_get_param_names\u001b[0m\u001b[0;34m(\u001b[0m\u001b[0;34m)\u001b[0m\u001b[0;34m:\u001b[0m\u001b[0;34m\u001b[0m\u001b[0;34m\u001b[0m\u001b[0m\n\u001b[0m\u001b[1;32m    170\u001b[0m             \u001b[0mvalue\u001b[0m \u001b[0;34m=\u001b[0m \u001b[0mgetattr\u001b[0m\u001b[0;34m(\u001b[0m\u001b[0mself\u001b[0m\u001b[0;34m,\u001b[0m \u001b[0mkey\u001b[0m\u001b[0;34m)\u001b[0m\u001b[0;34m\u001b[0m\u001b[0;34m\u001b[0m\u001b[0m\n\u001b[1;32m    171\u001b[0m             \u001b[0;32mif\u001b[0m \u001b[0mdeep\u001b[0m \u001b[0;32mand\u001b[0m \u001b[0mhasattr\u001b[0m\u001b[0;34m(\u001b[0m\u001b[0mvalue\u001b[0m\u001b[0;34m,\u001b[0m \u001b[0;34m\"get_params\"\u001b[0m\u001b[0;34m)\u001b[0m \u001b[0;32mand\u001b[0m \u001b[0;32mnot\u001b[0m \u001b[0misinstance\u001b[0m\u001b[0;34m(\u001b[0m\u001b[0mvalue\u001b[0m\u001b[0;34m,\u001b[0m \u001b[0mtype\u001b[0m\u001b[0;34m)\u001b[0m\u001b[0;34m:\u001b[0m\u001b[0;34m\u001b[0m\u001b[0;34m\u001b[0m\u001b[0m\n",
            "\u001b[0;32m/usr/local/lib/python3.10/dist-packages/sklearn/base.py\u001b[0m in \u001b[0;36m_get_param_names\u001b[0;34m(cls)\u001b[0m\n\u001b[1;32m    132\u001b[0m         \u001b[0;31m# introspect the constructor arguments to find the model parameters\u001b[0m\u001b[0;34m\u001b[0m\u001b[0;34m\u001b[0m\u001b[0m\n\u001b[1;32m    133\u001b[0m         \u001b[0;31m# to represent\u001b[0m\u001b[0;34m\u001b[0m\u001b[0;34m\u001b[0m\u001b[0m\n\u001b[0;32m--> 134\u001b[0;31m         \u001b[0minit_signature\u001b[0m \u001b[0;34m=\u001b[0m \u001b[0minspect\u001b[0m\u001b[0;34m.\u001b[0m\u001b[0msignature\u001b[0m\u001b[0;34m(\u001b[0m\u001b[0minit\u001b[0m\u001b[0;34m)\u001b[0m\u001b[0;34m\u001b[0m\u001b[0;34m\u001b[0m\u001b[0m\n\u001b[0m\u001b[1;32m    135\u001b[0m         \u001b[0;31m# Consider the constructor parameters excluding 'self'\u001b[0m\u001b[0;34m\u001b[0m\u001b[0;34m\u001b[0m\u001b[0m\n\u001b[1;32m    136\u001b[0m         parameters = [\n",
            "\u001b[0;32m/usr/lib/python3.10/inspect.py\u001b[0m in \u001b[0;36msignature\u001b[0;34m(obj, follow_wrapped, globals, locals, eval_str)\u001b[0m\n\u001b[1;32m   3252\u001b[0m \u001b[0;32mdef\u001b[0m \u001b[0msignature\u001b[0m\u001b[0;34m(\u001b[0m\u001b[0mobj\u001b[0m\u001b[0;34m,\u001b[0m \u001b[0;34m*\u001b[0m\u001b[0;34m,\u001b[0m \u001b[0mfollow_wrapped\u001b[0m\u001b[0;34m=\u001b[0m\u001b[0;32mTrue\u001b[0m\u001b[0;34m,\u001b[0m \u001b[0mglobals\u001b[0m\u001b[0;34m=\u001b[0m\u001b[0;32mNone\u001b[0m\u001b[0;34m,\u001b[0m \u001b[0mlocals\u001b[0m\u001b[0;34m=\u001b[0m\u001b[0;32mNone\u001b[0m\u001b[0;34m,\u001b[0m \u001b[0meval_str\u001b[0m\u001b[0;34m=\u001b[0m\u001b[0;32mFalse\u001b[0m\u001b[0;34m)\u001b[0m\u001b[0;34m:\u001b[0m\u001b[0;34m\u001b[0m\u001b[0;34m\u001b[0m\u001b[0m\n\u001b[1;32m   3253\u001b[0m     \u001b[0;34m\"\"\"Get a signature object for the passed callable.\"\"\"\u001b[0m\u001b[0;34m\u001b[0m\u001b[0;34m\u001b[0m\u001b[0m\n\u001b[0;32m-> 3254\u001b[0;31m     return Signature.from_callable(obj, follow_wrapped=follow_wrapped,\n\u001b[0m\u001b[1;32m   3255\u001b[0m                                    globals=globals, locals=locals, eval_str=eval_str)\n\u001b[1;32m   3256\u001b[0m \u001b[0;34m\u001b[0m\u001b[0m\n",
            "\u001b[0;32m/usr/lib/python3.10/inspect.py\u001b[0m in \u001b[0;36mfrom_callable\u001b[0;34m(cls, obj, follow_wrapped, globals, locals, eval_str)\u001b[0m\n\u001b[1;32m   3000\u001b[0m                       follow_wrapped=True, globals=None, locals=None, eval_str=False):\n\u001b[1;32m   3001\u001b[0m         \u001b[0;34m\"\"\"Constructs Signature for the given callable object.\"\"\"\u001b[0m\u001b[0;34m\u001b[0m\u001b[0;34m\u001b[0m\u001b[0m\n\u001b[0;32m-> 3002\u001b[0;31m         return _signature_from_callable(obj, sigcls=cls,\n\u001b[0m\u001b[1;32m   3003\u001b[0m                                         \u001b[0mfollow_wrapper_chains\u001b[0m\u001b[0;34m=\u001b[0m\u001b[0mfollow_wrapped\u001b[0m\u001b[0;34m,\u001b[0m\u001b[0;34m\u001b[0m\u001b[0;34m\u001b[0m\u001b[0m\n\u001b[1;32m   3004\u001b[0m                                         globals=globals, locals=locals, eval_str=eval_str)\n",
            "\u001b[0;32m/usr/lib/python3.10/inspect.py\u001b[0m in \u001b[0;36m_signature_from_callable\u001b[0;34m(obj, follow_wrapper_chains, skip_bound_arg, globals, locals, eval_str, sigcls)\u001b[0m\n\u001b[1;32m   2461\u001b[0m         \u001b[0;31m# If it's a pure Python function, or an object that is duck type\u001b[0m\u001b[0;34m\u001b[0m\u001b[0;34m\u001b[0m\u001b[0m\n\u001b[1;32m   2462\u001b[0m         \u001b[0;31m# of a Python function (Cython functions, for instance), then:\u001b[0m\u001b[0;34m\u001b[0m\u001b[0;34m\u001b[0m\u001b[0m\n\u001b[0;32m-> 2463\u001b[0;31m         return _signature_from_function(sigcls, obj,\n\u001b[0m\u001b[1;32m   2464\u001b[0m                                         \u001b[0mskip_bound_arg\u001b[0m\u001b[0;34m=\u001b[0m\u001b[0mskip_bound_arg\u001b[0m\u001b[0;34m,\u001b[0m\u001b[0;34m\u001b[0m\u001b[0;34m\u001b[0m\u001b[0m\n\u001b[1;32m   2465\u001b[0m                                         globals=globals, locals=locals, eval_str=eval_str)\n",
            "\u001b[0;32m/usr/lib/python3.10/inspect.py\u001b[0m in \u001b[0;36m_signature_from_function\u001b[0;34m(cls, func, skip_bound_arg, globals, locals, eval_str)\u001b[0m\n\u001b[1;32m   2305\u001b[0m     \u001b[0mkeyword_only_count\u001b[0m \u001b[0;34m=\u001b[0m \u001b[0mfunc_code\u001b[0m\u001b[0;34m.\u001b[0m\u001b[0mco_kwonlyargcount\u001b[0m\u001b[0;34m\u001b[0m\u001b[0;34m\u001b[0m\u001b[0m\n\u001b[1;32m   2306\u001b[0m     \u001b[0mkeyword_only\u001b[0m \u001b[0;34m=\u001b[0m \u001b[0marg_names\u001b[0m\u001b[0;34m[\u001b[0m\u001b[0mpos_count\u001b[0m\u001b[0;34m:\u001b[0m\u001b[0mpos_count\u001b[0m \u001b[0;34m+\u001b[0m \u001b[0mkeyword_only_count\u001b[0m\u001b[0;34m]\u001b[0m\u001b[0;34m\u001b[0m\u001b[0;34m\u001b[0m\u001b[0m\n\u001b[0;32m-> 2307\u001b[0;31m     \u001b[0mannotations\u001b[0m \u001b[0;34m=\u001b[0m \u001b[0mget_annotations\u001b[0m\u001b[0;34m(\u001b[0m\u001b[0mfunc\u001b[0m\u001b[0;34m,\u001b[0m \u001b[0mglobals\u001b[0m\u001b[0;34m=\u001b[0m\u001b[0mglobals\u001b[0m\u001b[0;34m,\u001b[0m \u001b[0mlocals\u001b[0m\u001b[0;34m=\u001b[0m\u001b[0mlocals\u001b[0m\u001b[0;34m,\u001b[0m \u001b[0meval_str\u001b[0m\u001b[0;34m=\u001b[0m\u001b[0meval_str\u001b[0m\u001b[0;34m)\u001b[0m\u001b[0;34m\u001b[0m\u001b[0;34m\u001b[0m\u001b[0m\n\u001b[0m\u001b[1;32m   2308\u001b[0m     \u001b[0mdefaults\u001b[0m \u001b[0;34m=\u001b[0m \u001b[0mfunc\u001b[0m\u001b[0;34m.\u001b[0m\u001b[0m__defaults__\u001b[0m\u001b[0;34m\u001b[0m\u001b[0;34m\u001b[0m\u001b[0m\n\u001b[1;32m   2309\u001b[0m     \u001b[0mkwdefaults\u001b[0m \u001b[0;34m=\u001b[0m \u001b[0mfunc\u001b[0m\u001b[0;34m.\u001b[0m\u001b[0m__kwdefaults__\u001b[0m\u001b[0;34m\u001b[0m\u001b[0;34m\u001b[0m\u001b[0m\n",
            "\u001b[0;32m/usr/lib/python3.10/inspect.py\u001b[0m in \u001b[0;36mget_annotations\u001b[0;34m(obj, globals, locals, eval_str)\u001b[0m\n\u001b[1;32m     64\u001b[0m \u001b[0;34m\u001b[0m\u001b[0m\n\u001b[1;32m     65\u001b[0m \u001b[0;34m\u001b[0m\u001b[0m\n\u001b[0;32m---> 66\u001b[0;31m \u001b[0;32mdef\u001b[0m \u001b[0mget_annotations\u001b[0m\u001b[0;34m(\u001b[0m\u001b[0mobj\u001b[0m\u001b[0;34m,\u001b[0m \u001b[0;34m*\u001b[0m\u001b[0;34m,\u001b[0m \u001b[0mglobals\u001b[0m\u001b[0;34m=\u001b[0m\u001b[0;32mNone\u001b[0m\u001b[0;34m,\u001b[0m \u001b[0mlocals\u001b[0m\u001b[0;34m=\u001b[0m\u001b[0;32mNone\u001b[0m\u001b[0;34m,\u001b[0m \u001b[0meval_str\u001b[0m\u001b[0;34m=\u001b[0m\u001b[0;32mFalse\u001b[0m\u001b[0;34m)\u001b[0m\u001b[0;34m:\u001b[0m\u001b[0;34m\u001b[0m\u001b[0;34m\u001b[0m\u001b[0m\n\u001b[0m\u001b[1;32m     67\u001b[0m     \"\"\"Compute the annotations dict for an object.\n\u001b[1;32m     68\u001b[0m \u001b[0;34m\u001b[0m\u001b[0m\n",
            "\u001b[0;31mKeyboardInterrupt\u001b[0m: "
          ]
        }
      ]
    },
    {
      "cell_type": "code",
      "source": [
        "X = df_knn_imputed.drop(columns=['diagnosis', 'stage', 'plasma_CA19_9'])\n",
        "  # Features\n",
        "y = df_knn_imputed['diagnosis']  # Target variable\n",
        "\n",
        "\n",
        "\n",
        "# Define the parameter grid for KNN\n",
        "dt_param_grid = {\n",
        "    'criterion': ['gini', 'entropy'],\n",
        "    'splitter': ['best', 'random'],\n",
        "    'max_depth': [None, 5, 10, 20],\n",
        "    'min_samples_split': [2, 5, 10],\n",
        "    'min_samples_leaf': [1, 2, 3],\n",
        "    'max_features': [None, 'sqrt', 'log2'],\n",
        "    'random_state': [42]\n",
        "}\n",
        "test_grid_search_and_fit(\n",
        "    classifier=DecisionTreeClassifier(),#KNN\n",
        "    param_grid=dt_param_grid,\n",
        "    X=X,\n",
        "    y=y\n",
        ")"
      ],
      "metadata": {
        "colab": {
          "base_uri": "https://localhost:8080/"
        },
        "id": "W3w9294rDGVU",
        "outputId": "22f75f9f-1d3d-4deb-c102-1bcfb62d913b"
      },
      "execution_count": 74,
      "outputs": [
        {
          "output_type": "stream",
          "name": "stdout",
          "text": [
            "Model results with default hyperparameters\n",
            "Average Accuracy: 0.8924923391215526\n",
            "Average Precision: 0.8910908928165874\n",
            "Average Recall: 0.8924923391215526\n",
            "Average F1 Score: 0.8878699834471362\n",
            "Fitting 3 folds for each of 432 candidates, totalling 1296 fits\n",
            "[CV] END criterion=gini, max_depth=None, max_features=None, min_samples_leaf=1, min_samples_split=2, random_state=42, splitter=best; total time=   0.0s\n",
            "[CV] END criterion=gini, max_depth=None, max_features=None, min_samples_leaf=1, min_samples_split=2, random_state=42, splitter=best; total time=   0.0s\n",
            "[CV] END criterion=gini, max_depth=None, max_features=None, min_samples_leaf=1, min_samples_split=2, random_state=42, splitter=best; total time=   0.0s\n",
            "[CV] END criterion=gini, max_depth=None, max_features=None, min_samples_leaf=1, min_samples_split=2, random_state=42, splitter=random; total time=   0.0s\n",
            "[CV] END criterion=gini, max_depth=None, max_features=None, min_samples_leaf=1, min_samples_split=2, random_state=42, splitter=random; total time=   0.0s\n",
            "[CV] END criterion=gini, max_depth=None, max_features=None, min_samples_leaf=1, min_samples_split=2, random_state=42, splitter=random; total time=   0.0s\n",
            "[CV] END criterion=gini, max_depth=None, max_features=None, min_samples_leaf=1, min_samples_split=5, random_state=42, splitter=best; total time=   0.0s\n",
            "[CV] END criterion=gini, max_depth=None, max_features=None, min_samples_leaf=1, min_samples_split=5, random_state=42, splitter=best; total time=   0.0s\n",
            "[CV] END criterion=gini, max_depth=None, max_features=None, min_samples_leaf=1, min_samples_split=5, random_state=42, splitter=best; total time=   0.0s\n",
            "[CV] END criterion=gini, max_depth=None, max_features=None, min_samples_leaf=1, min_samples_split=5, random_state=42, splitter=random; total time=   0.0s\n",
            "[CV] END criterion=gini, max_depth=None, max_features=None, min_samples_leaf=1, min_samples_split=5, random_state=42, splitter=random; total time=   0.0s\n",
            "[CV] END criterion=gini, max_depth=None, max_features=None, min_samples_leaf=1, min_samples_split=5, random_state=42, splitter=random; total time=   0.0s\n",
            "[CV] END criterion=gini, max_depth=None, max_features=None, min_samples_leaf=1, min_samples_split=10, random_state=42, splitter=best; total time=   0.0s\n",
            "[CV] END criterion=gini, max_depth=None, max_features=None, min_samples_leaf=1, min_samples_split=10, random_state=42, splitter=best; total time=   0.0s\n",
            "[CV] END criterion=gini, max_depth=None, max_features=None, min_samples_leaf=1, min_samples_split=10, random_state=42, splitter=best; total time=   0.0s\n",
            "[CV] END criterion=gini, max_depth=None, max_features=None, min_samples_leaf=1, min_samples_split=10, random_state=42, splitter=random; total time=   0.0s\n",
            "[CV] END criterion=gini, max_depth=None, max_features=None, min_samples_leaf=1, min_samples_split=10, random_state=42, splitter=random; total time=   0.0s\n",
            "[CV] END criterion=gini, max_depth=None, max_features=None, min_samples_leaf=1, min_samples_split=10, random_state=42, splitter=random; total time=   0.0s\n",
            "[CV] END criterion=gini, max_depth=None, max_features=None, min_samples_leaf=2, min_samples_split=2, random_state=42, splitter=best; total time=   0.0s\n",
            "[CV] END criterion=gini, max_depth=None, max_features=None, min_samples_leaf=2, min_samples_split=2, random_state=42, splitter=best; total time=   0.0s\n",
            "[CV] END criterion=gini, max_depth=None, max_features=None, min_samples_leaf=2, min_samples_split=2, random_state=42, splitter=best; total time=   0.0s\n",
            "[CV] END criterion=gini, max_depth=None, max_features=None, min_samples_leaf=2, min_samples_split=2, random_state=42, splitter=random; total time=   0.0s\n",
            "[CV] END criterion=gini, max_depth=None, max_features=None, min_samples_leaf=2, min_samples_split=2, random_state=42, splitter=random; total time=   0.0s\n",
            "[CV] END criterion=gini, max_depth=None, max_features=None, min_samples_leaf=2, min_samples_split=2, random_state=42, splitter=random; total time=   0.0s\n",
            "[CV] END criterion=gini, max_depth=None, max_features=None, min_samples_leaf=2, min_samples_split=5, random_state=42, splitter=best; total time=   0.0s\n",
            "[CV] END criterion=gini, max_depth=None, max_features=None, min_samples_leaf=2, min_samples_split=5, random_state=42, splitter=best; total time=   0.0s\n",
            "[CV] END criterion=gini, max_depth=None, max_features=None, min_samples_leaf=2, min_samples_split=5, random_state=42, splitter=best; total time=   0.0s\n",
            "[CV] END criterion=gini, max_depth=None, max_features=None, min_samples_leaf=2, min_samples_split=5, random_state=42, splitter=random; total time=   0.0s\n",
            "[CV] END criterion=gini, max_depth=None, max_features=None, min_samples_leaf=2, min_samples_split=5, random_state=42, splitter=random; total time=   0.0s\n",
            "[CV] END criterion=gini, max_depth=None, max_features=None, min_samples_leaf=2, min_samples_split=5, random_state=42, splitter=random; total time=   0.0s\n",
            "[CV] END criterion=gini, max_depth=None, max_features=None, min_samples_leaf=2, min_samples_split=10, random_state=42, splitter=best; total time=   0.0s\n",
            "[CV] END criterion=gini, max_depth=None, max_features=None, min_samples_leaf=2, min_samples_split=10, random_state=42, splitter=best; total time=   0.0s\n",
            "[CV] END criterion=gini, max_depth=None, max_features=None, min_samples_leaf=2, min_samples_split=10, random_state=42, splitter=best; total time=   0.0s\n",
            "[CV] END criterion=gini, max_depth=None, max_features=None, min_samples_leaf=2, min_samples_split=10, random_state=42, splitter=random; total time=   0.0s\n",
            "[CV] END criterion=gini, max_depth=None, max_features=None, min_samples_leaf=2, min_samples_split=10, random_state=42, splitter=random; total time=   0.0s\n",
            "[CV] END criterion=gini, max_depth=None, max_features=None, min_samples_leaf=2, min_samples_split=10, random_state=42, splitter=random; total time=   0.0s\n",
            "[CV] END criterion=gini, max_depth=None, max_features=None, min_samples_leaf=3, min_samples_split=2, random_state=42, splitter=best; total time=   0.0s\n",
            "[CV] END criterion=gini, max_depth=None, max_features=None, min_samples_leaf=3, min_samples_split=2, random_state=42, splitter=best; total time=   0.0s\n",
            "[CV] END criterion=gini, max_depth=None, max_features=None, min_samples_leaf=3, min_samples_split=2, random_state=42, splitter=best; total time=   0.0s\n",
            "[CV] END criterion=gini, max_depth=None, max_features=None, min_samples_leaf=3, min_samples_split=2, random_state=42, splitter=random; total time=   0.0s\n",
            "[CV] END criterion=gini, max_depth=None, max_features=None, min_samples_leaf=3, min_samples_split=2, random_state=42, splitter=random; total time=   0.0s\n",
            "[CV] END criterion=gini, max_depth=None, max_features=None, min_samples_leaf=3, min_samples_split=2, random_state=42, splitter=random; total time=   0.0s\n",
            "[CV] END criterion=gini, max_depth=None, max_features=None, min_samples_leaf=3, min_samples_split=5, random_state=42, splitter=best; total time=   0.0s\n",
            "[CV] END criterion=gini, max_depth=None, max_features=None, min_samples_leaf=3, min_samples_split=5, random_state=42, splitter=best; total time=   0.0s\n",
            "[CV] END criterion=gini, max_depth=None, max_features=None, min_samples_leaf=3, min_samples_split=5, random_state=42, splitter=best; total time=   0.0s\n",
            "[CV] END criterion=gini, max_depth=None, max_features=None, min_samples_leaf=3, min_samples_split=5, random_state=42, splitter=random; total time=   0.0s\n",
            "[CV] END criterion=gini, max_depth=None, max_features=None, min_samples_leaf=3, min_samples_split=5, random_state=42, splitter=random; total time=   0.0s\n",
            "[CV] END criterion=gini, max_depth=None, max_features=None, min_samples_leaf=3, min_samples_split=5, random_state=42, splitter=random; total time=   0.0s\n",
            "[CV] END criterion=gini, max_depth=None, max_features=None, min_samples_leaf=3, min_samples_split=10, random_state=42, splitter=best; total time=   0.0s\n",
            "[CV] END criterion=gini, max_depth=None, max_features=None, min_samples_leaf=3, min_samples_split=10, random_state=42, splitter=best; total time=   0.0s\n",
            "[CV] END criterion=gini, max_depth=None, max_features=None, min_samples_leaf=3, min_samples_split=10, random_state=42, splitter=best; total time=   0.0s\n",
            "[CV] END criterion=gini, max_depth=None, max_features=None, min_samples_leaf=3, min_samples_split=10, random_state=42, splitter=random; total time=   0.0s\n",
            "[CV] END criterion=gini, max_depth=None, max_features=None, min_samples_leaf=3, min_samples_split=10, random_state=42, splitter=random; total time=   0.0s\n",
            "[CV] END criterion=gini, max_depth=None, max_features=None, min_samples_leaf=3, min_samples_split=10, random_state=42, splitter=random; total time=   0.0s\n",
            "[CV] END criterion=gini, max_depth=None, max_features=sqrt, min_samples_leaf=1, min_samples_split=2, random_state=42, splitter=best; total time=   0.0s\n",
            "[CV] END criterion=gini, max_depth=None, max_features=sqrt, min_samples_leaf=1, min_samples_split=2, random_state=42, splitter=best; total time=   0.0s\n",
            "[CV] END criterion=gini, max_depth=None, max_features=sqrt, min_samples_leaf=1, min_samples_split=2, random_state=42, splitter=best; total time=   0.0s\n",
            "[CV] END criterion=gini, max_depth=None, max_features=sqrt, min_samples_leaf=1, min_samples_split=2, random_state=42, splitter=random; total time=   0.0s\n",
            "[CV] END criterion=gini, max_depth=None, max_features=sqrt, min_samples_leaf=1, min_samples_split=2, random_state=42, splitter=random; total time=   0.0s\n",
            "[CV] END criterion=gini, max_depth=None, max_features=sqrt, min_samples_leaf=1, min_samples_split=2, random_state=42, splitter=random; total time=   0.0s\n",
            "[CV] END criterion=gini, max_depth=None, max_features=sqrt, min_samples_leaf=1, min_samples_split=5, random_state=42, splitter=best; total time=   0.0s\n",
            "[CV] END criterion=gini, max_depth=None, max_features=sqrt, min_samples_leaf=1, min_samples_split=5, random_state=42, splitter=best; total time=   0.0s\n",
            "[CV] END criterion=gini, max_depth=None, max_features=sqrt, min_samples_leaf=1, min_samples_split=5, random_state=42, splitter=best; total time=   0.0s\n",
            "[CV] END criterion=gini, max_depth=None, max_features=sqrt, min_samples_leaf=1, min_samples_split=5, random_state=42, splitter=random; total time=   0.0s\n",
            "[CV] END criterion=gini, max_depth=None, max_features=sqrt, min_samples_leaf=1, min_samples_split=5, random_state=42, splitter=random; total time=   0.0s\n",
            "[CV] END criterion=gini, max_depth=None, max_features=sqrt, min_samples_leaf=1, min_samples_split=5, random_state=42, splitter=random; total time=   0.0s\n",
            "[CV] END criterion=gini, max_depth=None, max_features=sqrt, min_samples_leaf=1, min_samples_split=10, random_state=42, splitter=best; total time=   0.0s\n",
            "[CV] END criterion=gini, max_depth=None, max_features=sqrt, min_samples_leaf=1, min_samples_split=10, random_state=42, splitter=best; total time=   0.0s\n",
            "[CV] END criterion=gini, max_depth=None, max_features=sqrt, min_samples_leaf=1, min_samples_split=10, random_state=42, splitter=best; total time=   0.0s\n",
            "[CV] END criterion=gini, max_depth=None, max_features=sqrt, min_samples_leaf=1, min_samples_split=10, random_state=42, splitter=random; total time=   0.0s\n",
            "[CV] END criterion=gini, max_depth=None, max_features=sqrt, min_samples_leaf=1, min_samples_split=10, random_state=42, splitter=random; total time=   0.0s\n",
            "[CV] END criterion=gini, max_depth=None, max_features=sqrt, min_samples_leaf=1, min_samples_split=10, random_state=42, splitter=random; total time=   0.0s\n",
            "[CV] END criterion=gini, max_depth=None, max_features=sqrt, min_samples_leaf=2, min_samples_split=2, random_state=42, splitter=best; total time=   0.0s\n",
            "[CV] END criterion=gini, max_depth=None, max_features=sqrt, min_samples_leaf=2, min_samples_split=2, random_state=42, splitter=best; total time=   0.0s\n",
            "[CV] END criterion=gini, max_depth=None, max_features=sqrt, min_samples_leaf=2, min_samples_split=2, random_state=42, splitter=best; total time=   0.0s\n",
            "[CV] END criterion=gini, max_depth=None, max_features=sqrt, min_samples_leaf=2, min_samples_split=2, random_state=42, splitter=random; total time=   0.0s\n",
            "[CV] END criterion=gini, max_depth=None, max_features=sqrt, min_samples_leaf=2, min_samples_split=2, random_state=42, splitter=random; total time=   0.0s\n",
            "[CV] END criterion=gini, max_depth=None, max_features=sqrt, min_samples_leaf=2, min_samples_split=2, random_state=42, splitter=random; total time=   0.0s\n",
            "[CV] END criterion=gini, max_depth=None, max_features=sqrt, min_samples_leaf=2, min_samples_split=5, random_state=42, splitter=best; total time=   0.0s\n",
            "[CV] END criterion=gini, max_depth=None, max_features=sqrt, min_samples_leaf=2, min_samples_split=5, random_state=42, splitter=best; total time=   0.0s\n",
            "[CV] END criterion=gini, max_depth=None, max_features=sqrt, min_samples_leaf=2, min_samples_split=5, random_state=42, splitter=best; total time=   0.0s\n",
            "[CV] END criterion=gini, max_depth=None, max_features=sqrt, min_samples_leaf=2, min_samples_split=5, random_state=42, splitter=random; total time=   0.0s\n",
            "[CV] END criterion=gini, max_depth=None, max_features=sqrt, min_samples_leaf=2, min_samples_split=5, random_state=42, splitter=random; total time=   0.0s\n",
            "[CV] END criterion=gini, max_depth=None, max_features=sqrt, min_samples_leaf=2, min_samples_split=5, random_state=42, splitter=random; total time=   0.0s\n",
            "[CV] END criterion=gini, max_depth=None, max_features=sqrt, min_samples_leaf=2, min_samples_split=10, random_state=42, splitter=best; total time=   0.0s\n",
            "[CV] END criterion=gini, max_depth=None, max_features=sqrt, min_samples_leaf=2, min_samples_split=10, random_state=42, splitter=best; total time=   0.0s\n",
            "[CV] END criterion=gini, max_depth=None, max_features=sqrt, min_samples_leaf=2, min_samples_split=10, random_state=42, splitter=best; total time=   0.0s\n",
            "[CV] END criterion=gini, max_depth=None, max_features=sqrt, min_samples_leaf=2, min_samples_split=10, random_state=42, splitter=random; total time=   0.0s\n",
            "[CV] END criterion=gini, max_depth=None, max_features=sqrt, min_samples_leaf=2, min_samples_split=10, random_state=42, splitter=random; total time=   0.0s\n",
            "[CV] END criterion=gini, max_depth=None, max_features=sqrt, min_samples_leaf=2, min_samples_split=10, random_state=42, splitter=random; total time=   0.0s\n",
            "[CV] END criterion=gini, max_depth=None, max_features=sqrt, min_samples_leaf=3, min_samples_split=2, random_state=42, splitter=best; total time=   0.0s\n",
            "[CV] END criterion=gini, max_depth=None, max_features=sqrt, min_samples_leaf=3, min_samples_split=2, random_state=42, splitter=best; total time=   0.0s\n",
            "[CV] END criterion=gini, max_depth=None, max_features=sqrt, min_samples_leaf=3, min_samples_split=2, random_state=42, splitter=best; total time=   0.0s\n",
            "[CV] END criterion=gini, max_depth=None, max_features=sqrt, min_samples_leaf=3, min_samples_split=2, random_state=42, splitter=random; total time=   0.0s\n",
            "[CV] END criterion=gini, max_depth=None, max_features=sqrt, min_samples_leaf=3, min_samples_split=2, random_state=42, splitter=random; total time=   0.0s\n",
            "[CV] END criterion=gini, max_depth=None, max_features=sqrt, min_samples_leaf=3, min_samples_split=2, random_state=42, splitter=random; total time=   0.0s\n",
            "[CV] END criterion=gini, max_depth=None, max_features=sqrt, min_samples_leaf=3, min_samples_split=5, random_state=42, splitter=best; total time=   0.0s\n",
            "[CV] END criterion=gini, max_depth=None, max_features=sqrt, min_samples_leaf=3, min_samples_split=5, random_state=42, splitter=best; total time=   0.0s\n",
            "[CV] END criterion=gini, max_depth=None, max_features=sqrt, min_samples_leaf=3, min_samples_split=5, random_state=42, splitter=best; total time=   0.0s\n",
            "[CV] END criterion=gini, max_depth=None, max_features=sqrt, min_samples_leaf=3, min_samples_split=5, random_state=42, splitter=random; total time=   0.0s\n",
            "[CV] END criterion=gini, max_depth=None, max_features=sqrt, min_samples_leaf=3, min_samples_split=5, random_state=42, splitter=random; total time=   0.0s\n",
            "[CV] END criterion=gini, max_depth=None, max_features=sqrt, min_samples_leaf=3, min_samples_split=5, random_state=42, splitter=random; total time=   0.0s\n",
            "[CV] END criterion=gini, max_depth=None, max_features=sqrt, min_samples_leaf=3, min_samples_split=10, random_state=42, splitter=best; total time=   0.0s\n",
            "[CV] END criterion=gini, max_depth=None, max_features=sqrt, min_samples_leaf=3, min_samples_split=10, random_state=42, splitter=best; total time=   0.0s\n",
            "[CV] END criterion=gini, max_depth=None, max_features=sqrt, min_samples_leaf=3, min_samples_split=10, random_state=42, splitter=best; total time=   0.0s\n",
            "[CV] END criterion=gini, max_depth=None, max_features=sqrt, min_samples_leaf=3, min_samples_split=10, random_state=42, splitter=random; total time=   0.0s\n",
            "[CV] END criterion=gini, max_depth=None, max_features=sqrt, min_samples_leaf=3, min_samples_split=10, random_state=42, splitter=random; total time=   0.0s\n",
            "[CV] END criterion=gini, max_depth=None, max_features=sqrt, min_samples_leaf=3, min_samples_split=10, random_state=42, splitter=random; total time=   0.0s\n",
            "[CV] END criterion=gini, max_depth=None, max_features=log2, min_samples_leaf=1, min_samples_split=2, random_state=42, splitter=best; total time=   0.0s\n",
            "[CV] END criterion=gini, max_depth=None, max_features=log2, min_samples_leaf=1, min_samples_split=2, random_state=42, splitter=best; total time=   0.0s\n",
            "[CV] END criterion=gini, max_depth=None, max_features=log2, min_samples_leaf=1, min_samples_split=2, random_state=42, splitter=best; total time=   0.0s\n",
            "[CV] END criterion=gini, max_depth=None, max_features=log2, min_samples_leaf=1, min_samples_split=2, random_state=42, splitter=random; total time=   0.0s\n",
            "[CV] END criterion=gini, max_depth=None, max_features=log2, min_samples_leaf=1, min_samples_split=2, random_state=42, splitter=random; total time=   0.0s\n",
            "[CV] END criterion=gini, max_depth=None, max_features=log2, min_samples_leaf=1, min_samples_split=2, random_state=42, splitter=random; total time=   0.0s\n",
            "[CV] END criterion=gini, max_depth=None, max_features=log2, min_samples_leaf=1, min_samples_split=5, random_state=42, splitter=best; total time=   0.0s\n",
            "[CV] END criterion=gini, max_depth=None, max_features=log2, min_samples_leaf=1, min_samples_split=5, random_state=42, splitter=best; total time=   0.0s\n",
            "[CV] END criterion=gini, max_depth=None, max_features=log2, min_samples_leaf=1, min_samples_split=5, random_state=42, splitter=best; total time=   0.0s\n",
            "[CV] END criterion=gini, max_depth=None, max_features=log2, min_samples_leaf=1, min_samples_split=5, random_state=42, splitter=random; total time=   0.0s\n",
            "[CV] END criterion=gini, max_depth=None, max_features=log2, min_samples_leaf=1, min_samples_split=5, random_state=42, splitter=random; total time=   0.0s\n",
            "[CV] END criterion=gini, max_depth=None, max_features=log2, min_samples_leaf=1, min_samples_split=5, random_state=42, splitter=random; total time=   0.0s\n",
            "[CV] END criterion=gini, max_depth=None, max_features=log2, min_samples_leaf=1, min_samples_split=10, random_state=42, splitter=best; total time=   0.0s\n",
            "[CV] END criterion=gini, max_depth=None, max_features=log2, min_samples_leaf=1, min_samples_split=10, random_state=42, splitter=best; total time=   0.0s\n",
            "[CV] END criterion=gini, max_depth=None, max_features=log2, min_samples_leaf=1, min_samples_split=10, random_state=42, splitter=best; total time=   0.0s\n",
            "[CV] END criterion=gini, max_depth=None, max_features=log2, min_samples_leaf=1, min_samples_split=10, random_state=42, splitter=random; total time=   0.0s\n",
            "[CV] END criterion=gini, max_depth=None, max_features=log2, min_samples_leaf=1, min_samples_split=10, random_state=42, splitter=random; total time=   0.0s\n",
            "[CV] END criterion=gini, max_depth=None, max_features=log2, min_samples_leaf=1, min_samples_split=10, random_state=42, splitter=random; total time=   0.0s\n",
            "[CV] END criterion=gini, max_depth=None, max_features=log2, min_samples_leaf=2, min_samples_split=2, random_state=42, splitter=best; total time=   0.0s\n",
            "[CV] END criterion=gini, max_depth=None, max_features=log2, min_samples_leaf=2, min_samples_split=2, random_state=42, splitter=best; total time=   0.0s\n",
            "[CV] END criterion=gini, max_depth=None, max_features=log2, min_samples_leaf=2, min_samples_split=2, random_state=42, splitter=best; total time=   0.0s\n",
            "[CV] END criterion=gini, max_depth=None, max_features=log2, min_samples_leaf=2, min_samples_split=2, random_state=42, splitter=random; total time=   0.0s\n",
            "[CV] END criterion=gini, max_depth=None, max_features=log2, min_samples_leaf=2, min_samples_split=2, random_state=42, splitter=random; total time=   0.0s\n",
            "[CV] END criterion=gini, max_depth=None, max_features=log2, min_samples_leaf=2, min_samples_split=2, random_state=42, splitter=random; total time=   0.0s\n",
            "[CV] END criterion=gini, max_depth=None, max_features=log2, min_samples_leaf=2, min_samples_split=5, random_state=42, splitter=best; total time=   0.0s\n",
            "[CV] END criterion=gini, max_depth=None, max_features=log2, min_samples_leaf=2, min_samples_split=5, random_state=42, splitter=best; total time=   0.0s\n",
            "[CV] END criterion=gini, max_depth=None, max_features=log2, min_samples_leaf=2, min_samples_split=5, random_state=42, splitter=best; total time=   0.0s\n",
            "[CV] END criterion=gini, max_depth=None, max_features=log2, min_samples_leaf=2, min_samples_split=5, random_state=42, splitter=random; total time=   0.0s\n",
            "[CV] END criterion=gini, max_depth=None, max_features=log2, min_samples_leaf=2, min_samples_split=5, random_state=42, splitter=random; total time=   0.0s\n",
            "[CV] END criterion=gini, max_depth=None, max_features=log2, min_samples_leaf=2, min_samples_split=5, random_state=42, splitter=random; total time=   0.0s\n",
            "[CV] END criterion=gini, max_depth=None, max_features=log2, min_samples_leaf=2, min_samples_split=10, random_state=42, splitter=best; total time=   0.0s\n",
            "[CV] END criterion=gini, max_depth=None, max_features=log2, min_samples_leaf=2, min_samples_split=10, random_state=42, splitter=best; total time=   0.0s\n",
            "[CV] END criterion=gini, max_depth=None, max_features=log2, min_samples_leaf=2, min_samples_split=10, random_state=42, splitter=best; total time=   0.0s\n",
            "[CV] END criterion=gini, max_depth=None, max_features=log2, min_samples_leaf=2, min_samples_split=10, random_state=42, splitter=random; total time=   0.0s\n",
            "[CV] END criterion=gini, max_depth=None, max_features=log2, min_samples_leaf=2, min_samples_split=10, random_state=42, splitter=random; total time=   0.0s\n",
            "[CV] END criterion=gini, max_depth=None, max_features=log2, min_samples_leaf=2, min_samples_split=10, random_state=42, splitter=random; total time=   0.0s\n",
            "[CV] END criterion=gini, max_depth=None, max_features=log2, min_samples_leaf=3, min_samples_split=2, random_state=42, splitter=best; total time=   0.0s\n",
            "[CV] END criterion=gini, max_depth=None, max_features=log2, min_samples_leaf=3, min_samples_split=2, random_state=42, splitter=best; total time=   0.0s\n",
            "[CV] END criterion=gini, max_depth=None, max_features=log2, min_samples_leaf=3, min_samples_split=2, random_state=42, splitter=best; total time=   0.0s\n",
            "[CV] END criterion=gini, max_depth=None, max_features=log2, min_samples_leaf=3, min_samples_split=2, random_state=42, splitter=random; total time=   0.0s\n",
            "[CV] END criterion=gini, max_depth=None, max_features=log2, min_samples_leaf=3, min_samples_split=2, random_state=42, splitter=random; total time=   0.0s\n",
            "[CV] END criterion=gini, max_depth=None, max_features=log2, min_samples_leaf=3, min_samples_split=2, random_state=42, splitter=random; total time=   0.0s\n",
            "[CV] END criterion=gini, max_depth=None, max_features=log2, min_samples_leaf=3, min_samples_split=5, random_state=42, splitter=best; total time=   0.0s\n",
            "[CV] END criterion=gini, max_depth=None, max_features=log2, min_samples_leaf=3, min_samples_split=5, random_state=42, splitter=best; total time=   0.0s\n",
            "[CV] END criterion=gini, max_depth=None, max_features=log2, min_samples_leaf=3, min_samples_split=5, random_state=42, splitter=best; total time=   0.0s\n",
            "[CV] END criterion=gini, max_depth=None, max_features=log2, min_samples_leaf=3, min_samples_split=5, random_state=42, splitter=random; total time=   0.0s\n",
            "[CV] END criterion=gini, max_depth=None, max_features=log2, min_samples_leaf=3, min_samples_split=5, random_state=42, splitter=random; total time=   0.0s\n",
            "[CV] END criterion=gini, max_depth=None, max_features=log2, min_samples_leaf=3, min_samples_split=5, random_state=42, splitter=random; total time=   0.0s\n",
            "[CV] END criterion=gini, max_depth=None, max_features=log2, min_samples_leaf=3, min_samples_split=10, random_state=42, splitter=best; total time=   0.0s\n",
            "[CV] END criterion=gini, max_depth=None, max_features=log2, min_samples_leaf=3, min_samples_split=10, random_state=42, splitter=best; total time=   0.0s\n",
            "[CV] END criterion=gini, max_depth=None, max_features=log2, min_samples_leaf=3, min_samples_split=10, random_state=42, splitter=best; total time=   0.0s\n",
            "[CV] END criterion=gini, max_depth=None, max_features=log2, min_samples_leaf=3, min_samples_split=10, random_state=42, splitter=random; total time=   0.0s\n",
            "[CV] END criterion=gini, max_depth=None, max_features=log2, min_samples_leaf=3, min_samples_split=10, random_state=42, splitter=random; total time=   0.0s\n",
            "[CV] END criterion=gini, max_depth=None, max_features=log2, min_samples_leaf=3, min_samples_split=10, random_state=42, splitter=random; total time=   0.0s\n",
            "[CV] END criterion=gini, max_depth=5, max_features=None, min_samples_leaf=1, min_samples_split=2, random_state=42, splitter=best; total time=   0.0s\n",
            "[CV] END criterion=gini, max_depth=5, max_features=None, min_samples_leaf=1, min_samples_split=2, random_state=42, splitter=best; total time=   0.0s\n",
            "[CV] END criterion=gini, max_depth=5, max_features=None, min_samples_leaf=1, min_samples_split=2, random_state=42, splitter=best; total time=   0.0s\n",
            "[CV] END criterion=gini, max_depth=5, max_features=None, min_samples_leaf=1, min_samples_split=2, random_state=42, splitter=random; total time=   0.0s\n",
            "[CV] END criterion=gini, max_depth=5, max_features=None, min_samples_leaf=1, min_samples_split=2, random_state=42, splitter=random; total time=   0.0s\n",
            "[CV] END criterion=gini, max_depth=5, max_features=None, min_samples_leaf=1, min_samples_split=2, random_state=42, splitter=random; total time=   0.0s\n",
            "[CV] END criterion=gini, max_depth=5, max_features=None, min_samples_leaf=1, min_samples_split=5, random_state=42, splitter=best; total time=   0.0s\n",
            "[CV] END criterion=gini, max_depth=5, max_features=None, min_samples_leaf=1, min_samples_split=5, random_state=42, splitter=best; total time=   0.0s\n",
            "[CV] END criterion=gini, max_depth=5, max_features=None, min_samples_leaf=1, min_samples_split=5, random_state=42, splitter=best; total time=   0.0s\n",
            "[CV] END criterion=gini, max_depth=5, max_features=None, min_samples_leaf=1, min_samples_split=5, random_state=42, splitter=random; total time=   0.0s\n",
            "[CV] END criterion=gini, max_depth=5, max_features=None, min_samples_leaf=1, min_samples_split=5, random_state=42, splitter=random; total time=   0.0s\n",
            "[CV] END criterion=gini, max_depth=5, max_features=None, min_samples_leaf=1, min_samples_split=5, random_state=42, splitter=random; total time=   0.0s\n",
            "[CV] END criterion=gini, max_depth=5, max_features=None, min_samples_leaf=1, min_samples_split=10, random_state=42, splitter=best; total time=   0.0s\n",
            "[CV] END criterion=gini, max_depth=5, max_features=None, min_samples_leaf=1, min_samples_split=10, random_state=42, splitter=best; total time=   0.0s\n",
            "[CV] END criterion=gini, max_depth=5, max_features=None, min_samples_leaf=1, min_samples_split=10, random_state=42, splitter=best; total time=   0.0s\n",
            "[CV] END criterion=gini, max_depth=5, max_features=None, min_samples_leaf=1, min_samples_split=10, random_state=42, splitter=random; total time=   0.0s\n",
            "[CV] END criterion=gini, max_depth=5, max_features=None, min_samples_leaf=1, min_samples_split=10, random_state=42, splitter=random; total time=   0.0s\n",
            "[CV] END criterion=gini, max_depth=5, max_features=None, min_samples_leaf=1, min_samples_split=10, random_state=42, splitter=random; total time=   0.0s\n",
            "[CV] END criterion=gini, max_depth=5, max_features=None, min_samples_leaf=2, min_samples_split=2, random_state=42, splitter=best; total time=   0.0s\n",
            "[CV] END criterion=gini, max_depth=5, max_features=None, min_samples_leaf=2, min_samples_split=2, random_state=42, splitter=best; total time=   0.0s\n",
            "[CV] END criterion=gini, max_depth=5, max_features=None, min_samples_leaf=2, min_samples_split=2, random_state=42, splitter=best; total time=   0.0s\n",
            "[CV] END criterion=gini, max_depth=5, max_features=None, min_samples_leaf=2, min_samples_split=2, random_state=42, splitter=random; total time=   0.0s\n",
            "[CV] END criterion=gini, max_depth=5, max_features=None, min_samples_leaf=2, min_samples_split=2, random_state=42, splitter=random; total time=   0.0s\n",
            "[CV] END criterion=gini, max_depth=5, max_features=None, min_samples_leaf=2, min_samples_split=2, random_state=42, splitter=random; total time=   0.0s\n",
            "[CV] END criterion=gini, max_depth=5, max_features=None, min_samples_leaf=2, min_samples_split=5, random_state=42, splitter=best; total time=   0.0s\n",
            "[CV] END criterion=gini, max_depth=5, max_features=None, min_samples_leaf=2, min_samples_split=5, random_state=42, splitter=best; total time=   0.0s\n",
            "[CV] END criterion=gini, max_depth=5, max_features=None, min_samples_leaf=2, min_samples_split=5, random_state=42, splitter=best; total time=   0.0s\n",
            "[CV] END criterion=gini, max_depth=5, max_features=None, min_samples_leaf=2, min_samples_split=5, random_state=42, splitter=random; total time=   0.0s\n",
            "[CV] END criterion=gini, max_depth=5, max_features=None, min_samples_leaf=2, min_samples_split=5, random_state=42, splitter=random; total time=   0.0s\n",
            "[CV] END criterion=gini, max_depth=5, max_features=None, min_samples_leaf=2, min_samples_split=5, random_state=42, splitter=random; total time=   0.0s\n",
            "[CV] END criterion=gini, max_depth=5, max_features=None, min_samples_leaf=2, min_samples_split=10, random_state=42, splitter=best; total time=   0.0s\n",
            "[CV] END criterion=gini, max_depth=5, max_features=None, min_samples_leaf=2, min_samples_split=10, random_state=42, splitter=best; total time=   0.0s\n",
            "[CV] END criterion=gini, max_depth=5, max_features=None, min_samples_leaf=2, min_samples_split=10, random_state=42, splitter=best; total time=   0.0s\n",
            "[CV] END criterion=gini, max_depth=5, max_features=None, min_samples_leaf=2, min_samples_split=10, random_state=42, splitter=random; total time=   0.0s\n",
            "[CV] END criterion=gini, max_depth=5, max_features=None, min_samples_leaf=2, min_samples_split=10, random_state=42, splitter=random; total time=   0.0s\n",
            "[CV] END criterion=gini, max_depth=5, max_features=None, min_samples_leaf=2, min_samples_split=10, random_state=42, splitter=random; total time=   0.0s\n",
            "[CV] END criterion=gini, max_depth=5, max_features=None, min_samples_leaf=3, min_samples_split=2, random_state=42, splitter=best; total time=   0.0s\n",
            "[CV] END criterion=gini, max_depth=5, max_features=None, min_samples_leaf=3, min_samples_split=2, random_state=42, splitter=best; total time=   0.0s\n",
            "[CV] END criterion=gini, max_depth=5, max_features=None, min_samples_leaf=3, min_samples_split=2, random_state=42, splitter=best; total time=   0.0s\n",
            "[CV] END criterion=gini, max_depth=5, max_features=None, min_samples_leaf=3, min_samples_split=2, random_state=42, splitter=random; total time=   0.0s\n",
            "[CV] END criterion=gini, max_depth=5, max_features=None, min_samples_leaf=3, min_samples_split=2, random_state=42, splitter=random; total time=   0.0s\n",
            "[CV] END criterion=gini, max_depth=5, max_features=None, min_samples_leaf=3, min_samples_split=2, random_state=42, splitter=random; total time=   0.0s\n",
            "[CV] END criterion=gini, max_depth=5, max_features=None, min_samples_leaf=3, min_samples_split=5, random_state=42, splitter=best; total time=   0.0s\n",
            "[CV] END criterion=gini, max_depth=5, max_features=None, min_samples_leaf=3, min_samples_split=5, random_state=42, splitter=best; total time=   0.0s\n",
            "[CV] END criterion=gini, max_depth=5, max_features=None, min_samples_leaf=3, min_samples_split=5, random_state=42, splitter=best; total time=   0.0s\n",
            "[CV] END criterion=gini, max_depth=5, max_features=None, min_samples_leaf=3, min_samples_split=5, random_state=42, splitter=random; total time=   0.0s\n",
            "[CV] END criterion=gini, max_depth=5, max_features=None, min_samples_leaf=3, min_samples_split=5, random_state=42, splitter=random; total time=   0.0s\n",
            "[CV] END criterion=gini, max_depth=5, max_features=None, min_samples_leaf=3, min_samples_split=5, random_state=42, splitter=random; total time=   0.0s\n",
            "[CV] END criterion=gini, max_depth=5, max_features=None, min_samples_leaf=3, min_samples_split=10, random_state=42, splitter=best; total time=   0.0s\n",
            "[CV] END criterion=gini, max_depth=5, max_features=None, min_samples_leaf=3, min_samples_split=10, random_state=42, splitter=best; total time=   0.0s\n",
            "[CV] END criterion=gini, max_depth=5, max_features=None, min_samples_leaf=3, min_samples_split=10, random_state=42, splitter=best; total time=   0.0s\n",
            "[CV] END criterion=gini, max_depth=5, max_features=None, min_samples_leaf=3, min_samples_split=10, random_state=42, splitter=random; total time=   0.0s\n",
            "[CV] END criterion=gini, max_depth=5, max_features=None, min_samples_leaf=3, min_samples_split=10, random_state=42, splitter=random; total time=   0.0s\n",
            "[CV] END criterion=gini, max_depth=5, max_features=None, min_samples_leaf=3, min_samples_split=10, random_state=42, splitter=random; total time=   0.0s\n",
            "[CV] END criterion=gini, max_depth=5, max_features=sqrt, min_samples_leaf=1, min_samples_split=2, random_state=42, splitter=best; total time=   0.0s\n",
            "[CV] END criterion=gini, max_depth=5, max_features=sqrt, min_samples_leaf=1, min_samples_split=2, random_state=42, splitter=best; total time=   0.0s\n",
            "[CV] END criterion=gini, max_depth=5, max_features=sqrt, min_samples_leaf=1, min_samples_split=2, random_state=42, splitter=best; total time=   0.0s\n",
            "[CV] END criterion=gini, max_depth=5, max_features=sqrt, min_samples_leaf=1, min_samples_split=2, random_state=42, splitter=random; total time=   0.0s\n",
            "[CV] END criterion=gini, max_depth=5, max_features=sqrt, min_samples_leaf=1, min_samples_split=2, random_state=42, splitter=random; total time=   0.0s\n",
            "[CV] END criterion=gini, max_depth=5, max_features=sqrt, min_samples_leaf=1, min_samples_split=2, random_state=42, splitter=random; total time=   0.0s\n",
            "[CV] END criterion=gini, max_depth=5, max_features=sqrt, min_samples_leaf=1, min_samples_split=5, random_state=42, splitter=best; total time=   0.0s\n",
            "[CV] END criterion=gini, max_depth=5, max_features=sqrt, min_samples_leaf=1, min_samples_split=5, random_state=42, splitter=best; total time=   0.0s\n",
            "[CV] END criterion=gini, max_depth=5, max_features=sqrt, min_samples_leaf=1, min_samples_split=5, random_state=42, splitter=best; total time=   0.0s\n",
            "[CV] END criterion=gini, max_depth=5, max_features=sqrt, min_samples_leaf=1, min_samples_split=5, random_state=42, splitter=random; total time=   0.0s\n",
            "[CV] END criterion=gini, max_depth=5, max_features=sqrt, min_samples_leaf=1, min_samples_split=5, random_state=42, splitter=random; total time=   0.0s\n",
            "[CV] END criterion=gini, max_depth=5, max_features=sqrt, min_samples_leaf=1, min_samples_split=5, random_state=42, splitter=random; total time=   0.0s\n",
            "[CV] END criterion=gini, max_depth=5, max_features=sqrt, min_samples_leaf=1, min_samples_split=10, random_state=42, splitter=best; total time=   0.0s\n",
            "[CV] END criterion=gini, max_depth=5, max_features=sqrt, min_samples_leaf=1, min_samples_split=10, random_state=42, splitter=best; total time=   0.0s\n",
            "[CV] END criterion=gini, max_depth=5, max_features=sqrt, min_samples_leaf=1, min_samples_split=10, random_state=42, splitter=best; total time=   0.0s\n",
            "[CV] END criterion=gini, max_depth=5, max_features=sqrt, min_samples_leaf=1, min_samples_split=10, random_state=42, splitter=random; total time=   0.0s\n",
            "[CV] END criterion=gini, max_depth=5, max_features=sqrt, min_samples_leaf=1, min_samples_split=10, random_state=42, splitter=random; total time=   0.0s\n",
            "[CV] END criterion=gini, max_depth=5, max_features=sqrt, min_samples_leaf=1, min_samples_split=10, random_state=42, splitter=random; total time=   0.0s\n",
            "[CV] END criterion=gini, max_depth=5, max_features=sqrt, min_samples_leaf=2, min_samples_split=2, random_state=42, splitter=best; total time=   0.0s\n",
            "[CV] END criterion=gini, max_depth=5, max_features=sqrt, min_samples_leaf=2, min_samples_split=2, random_state=42, splitter=best; total time=   0.0s\n",
            "[CV] END criterion=gini, max_depth=5, max_features=sqrt, min_samples_leaf=2, min_samples_split=2, random_state=42, splitter=best; total time=   0.0s\n",
            "[CV] END criterion=gini, max_depth=5, max_features=sqrt, min_samples_leaf=2, min_samples_split=2, random_state=42, splitter=random; total time=   0.0s\n",
            "[CV] END criterion=gini, max_depth=5, max_features=sqrt, min_samples_leaf=2, min_samples_split=2, random_state=42, splitter=random; total time=   0.0s\n",
            "[CV] END criterion=gini, max_depth=5, max_features=sqrt, min_samples_leaf=2, min_samples_split=2, random_state=42, splitter=random; total time=   0.0s\n",
            "[CV] END criterion=gini, max_depth=5, max_features=sqrt, min_samples_leaf=2, min_samples_split=5, random_state=42, splitter=best; total time=   0.0s\n",
            "[CV] END criterion=gini, max_depth=5, max_features=sqrt, min_samples_leaf=2, min_samples_split=5, random_state=42, splitter=best; total time=   0.0s\n",
            "[CV] END criterion=gini, max_depth=5, max_features=sqrt, min_samples_leaf=2, min_samples_split=5, random_state=42, splitter=best; total time=   0.0s\n",
            "[CV] END criterion=gini, max_depth=5, max_features=sqrt, min_samples_leaf=2, min_samples_split=5, random_state=42, splitter=random; total time=   0.0s\n",
            "[CV] END criterion=gini, max_depth=5, max_features=sqrt, min_samples_leaf=2, min_samples_split=5, random_state=42, splitter=random; total time=   0.0s\n",
            "[CV] END criterion=gini, max_depth=5, max_features=sqrt, min_samples_leaf=2, min_samples_split=5, random_state=42, splitter=random; total time=   0.0s\n",
            "[CV] END criterion=gini, max_depth=5, max_features=sqrt, min_samples_leaf=2, min_samples_split=10, random_state=42, splitter=best; total time=   0.0s\n",
            "[CV] END criterion=gini, max_depth=5, max_features=sqrt, min_samples_leaf=2, min_samples_split=10, random_state=42, splitter=best; total time=   0.0s\n",
            "[CV] END criterion=gini, max_depth=5, max_features=sqrt, min_samples_leaf=2, min_samples_split=10, random_state=42, splitter=best; total time=   0.0s\n",
            "[CV] END criterion=gini, max_depth=5, max_features=sqrt, min_samples_leaf=2, min_samples_split=10, random_state=42, splitter=random; total time=   0.0s\n",
            "[CV] END criterion=gini, max_depth=5, max_features=sqrt, min_samples_leaf=2, min_samples_split=10, random_state=42, splitter=random; total time=   0.0s\n",
            "[CV] END criterion=gini, max_depth=5, max_features=sqrt, min_samples_leaf=2, min_samples_split=10, random_state=42, splitter=random; total time=   0.0s\n",
            "[CV] END criterion=gini, max_depth=5, max_features=sqrt, min_samples_leaf=3, min_samples_split=2, random_state=42, splitter=best; total time=   0.0s\n",
            "[CV] END criterion=gini, max_depth=5, max_features=sqrt, min_samples_leaf=3, min_samples_split=2, random_state=42, splitter=best; total time=   0.0s\n",
            "[CV] END criterion=gini, max_depth=5, max_features=sqrt, min_samples_leaf=3, min_samples_split=2, random_state=42, splitter=best; total time=   0.0s\n",
            "[CV] END criterion=gini, max_depth=5, max_features=sqrt, min_samples_leaf=3, min_samples_split=2, random_state=42, splitter=random; total time=   0.0s\n",
            "[CV] END criterion=gini, max_depth=5, max_features=sqrt, min_samples_leaf=3, min_samples_split=2, random_state=42, splitter=random; total time=   0.0s\n",
            "[CV] END criterion=gini, max_depth=5, max_features=sqrt, min_samples_leaf=3, min_samples_split=2, random_state=42, splitter=random; total time=   0.0s\n",
            "[CV] END criterion=gini, max_depth=5, max_features=sqrt, min_samples_leaf=3, min_samples_split=5, random_state=42, splitter=best; total time=   0.0s\n",
            "[CV] END criterion=gini, max_depth=5, max_features=sqrt, min_samples_leaf=3, min_samples_split=5, random_state=42, splitter=best; total time=   0.0s\n",
            "[CV] END criterion=gini, max_depth=5, max_features=sqrt, min_samples_leaf=3, min_samples_split=5, random_state=42, splitter=best; total time=   0.0s\n",
            "[CV] END criterion=gini, max_depth=5, max_features=sqrt, min_samples_leaf=3, min_samples_split=5, random_state=42, splitter=random; total time=   0.0s\n",
            "[CV] END criterion=gini, max_depth=5, max_features=sqrt, min_samples_leaf=3, min_samples_split=5, random_state=42, splitter=random; total time=   0.0s\n",
            "[CV] END criterion=gini, max_depth=5, max_features=sqrt, min_samples_leaf=3, min_samples_split=5, random_state=42, splitter=random; total time=   0.0s\n",
            "[CV] END criterion=gini, max_depth=5, max_features=sqrt, min_samples_leaf=3, min_samples_split=10, random_state=42, splitter=best; total time=   0.0s\n",
            "[CV] END criterion=gini, max_depth=5, max_features=sqrt, min_samples_leaf=3, min_samples_split=10, random_state=42, splitter=best; total time=   0.0s\n",
            "[CV] END criterion=gini, max_depth=5, max_features=sqrt, min_samples_leaf=3, min_samples_split=10, random_state=42, splitter=best; total time=   0.0s\n",
            "[CV] END criterion=gini, max_depth=5, max_features=sqrt, min_samples_leaf=3, min_samples_split=10, random_state=42, splitter=random; total time=   0.0s\n",
            "[CV] END criterion=gini, max_depth=5, max_features=sqrt, min_samples_leaf=3, min_samples_split=10, random_state=42, splitter=random; total time=   0.0s\n",
            "[CV] END criterion=gini, max_depth=5, max_features=sqrt, min_samples_leaf=3, min_samples_split=10, random_state=42, splitter=random; total time=   0.0s\n",
            "[CV] END criterion=gini, max_depth=5, max_features=log2, min_samples_leaf=1, min_samples_split=2, random_state=42, splitter=best; total time=   0.0s\n",
            "[CV] END criterion=gini, max_depth=5, max_features=log2, min_samples_leaf=1, min_samples_split=2, random_state=42, splitter=best; total time=   0.0s\n",
            "[CV] END criterion=gini, max_depth=5, max_features=log2, min_samples_leaf=1, min_samples_split=2, random_state=42, splitter=best; total time=   0.0s\n",
            "[CV] END criterion=gini, max_depth=5, max_features=log2, min_samples_leaf=1, min_samples_split=2, random_state=42, splitter=random; total time=   0.0s\n",
            "[CV] END criterion=gini, max_depth=5, max_features=log2, min_samples_leaf=1, min_samples_split=2, random_state=42, splitter=random; total time=   0.0s\n",
            "[CV] END criterion=gini, max_depth=5, max_features=log2, min_samples_leaf=1, min_samples_split=2, random_state=42, splitter=random; total time=   0.0s\n",
            "[CV] END criterion=gini, max_depth=5, max_features=log2, min_samples_leaf=1, min_samples_split=5, random_state=42, splitter=best; total time=   0.0s\n",
            "[CV] END criterion=gini, max_depth=5, max_features=log2, min_samples_leaf=1, min_samples_split=5, random_state=42, splitter=best; total time=   0.0s\n",
            "[CV] END criterion=gini, max_depth=5, max_features=log2, min_samples_leaf=1, min_samples_split=5, random_state=42, splitter=best; total time=   0.0s\n",
            "[CV] END criterion=gini, max_depth=5, max_features=log2, min_samples_leaf=1, min_samples_split=5, random_state=42, splitter=random; total time=   0.0s\n",
            "[CV] END criterion=gini, max_depth=5, max_features=log2, min_samples_leaf=1, min_samples_split=5, random_state=42, splitter=random; total time=   0.0s\n",
            "[CV] END criterion=gini, max_depth=5, max_features=log2, min_samples_leaf=1, min_samples_split=5, random_state=42, splitter=random; total time=   0.0s\n",
            "[CV] END criterion=gini, max_depth=5, max_features=log2, min_samples_leaf=1, min_samples_split=10, random_state=42, splitter=best; total time=   0.0s\n",
            "[CV] END criterion=gini, max_depth=5, max_features=log2, min_samples_leaf=1, min_samples_split=10, random_state=42, splitter=best; total time=   0.0s\n",
            "[CV] END criterion=gini, max_depth=5, max_features=log2, min_samples_leaf=1, min_samples_split=10, random_state=42, splitter=best; total time=   0.0s\n",
            "[CV] END criterion=gini, max_depth=5, max_features=log2, min_samples_leaf=1, min_samples_split=10, random_state=42, splitter=random; total time=   0.0s\n",
            "[CV] END criterion=gini, max_depth=5, max_features=log2, min_samples_leaf=1, min_samples_split=10, random_state=42, splitter=random; total time=   0.0s\n",
            "[CV] END criterion=gini, max_depth=5, max_features=log2, min_samples_leaf=1, min_samples_split=10, random_state=42, splitter=random; total time=   0.0s\n",
            "[CV] END criterion=gini, max_depth=5, max_features=log2, min_samples_leaf=2, min_samples_split=2, random_state=42, splitter=best; total time=   0.0s\n",
            "[CV] END criterion=gini, max_depth=5, max_features=log2, min_samples_leaf=2, min_samples_split=2, random_state=42, splitter=best; total time=   0.0s\n",
            "[CV] END criterion=gini, max_depth=5, max_features=log2, min_samples_leaf=2, min_samples_split=2, random_state=42, splitter=best; total time=   0.0s\n",
            "[CV] END criterion=gini, max_depth=5, max_features=log2, min_samples_leaf=2, min_samples_split=2, random_state=42, splitter=random; total time=   0.0s\n",
            "[CV] END criterion=gini, max_depth=5, max_features=log2, min_samples_leaf=2, min_samples_split=2, random_state=42, splitter=random; total time=   0.0s\n",
            "[CV] END criterion=gini, max_depth=5, max_features=log2, min_samples_leaf=2, min_samples_split=2, random_state=42, splitter=random; total time=   0.0s\n",
            "[CV] END criterion=gini, max_depth=5, max_features=log2, min_samples_leaf=2, min_samples_split=5, random_state=42, splitter=best; total time=   0.0s\n",
            "[CV] END criterion=gini, max_depth=5, max_features=log2, min_samples_leaf=2, min_samples_split=5, random_state=42, splitter=best; total time=   0.0s\n",
            "[CV] END criterion=gini, max_depth=5, max_features=log2, min_samples_leaf=2, min_samples_split=5, random_state=42, splitter=best; total time=   0.0s\n",
            "[CV] END criterion=gini, max_depth=5, max_features=log2, min_samples_leaf=2, min_samples_split=5, random_state=42, splitter=random; total time=   0.0s\n",
            "[CV] END criterion=gini, max_depth=5, max_features=log2, min_samples_leaf=2, min_samples_split=5, random_state=42, splitter=random; total time=   0.0s\n",
            "[CV] END criterion=gini, max_depth=5, max_features=log2, min_samples_leaf=2, min_samples_split=5, random_state=42, splitter=random; total time=   0.0s\n",
            "[CV] END criterion=gini, max_depth=5, max_features=log2, min_samples_leaf=2, min_samples_split=10, random_state=42, splitter=best; total time=   0.0s\n",
            "[CV] END criterion=gini, max_depth=5, max_features=log2, min_samples_leaf=2, min_samples_split=10, random_state=42, splitter=best; total time=   0.0s\n",
            "[CV] END criterion=gini, max_depth=5, max_features=log2, min_samples_leaf=2, min_samples_split=10, random_state=42, splitter=best; total time=   0.0s\n",
            "[CV] END criterion=gini, max_depth=5, max_features=log2, min_samples_leaf=2, min_samples_split=10, random_state=42, splitter=random; total time=   0.0s\n",
            "[CV] END criterion=gini, max_depth=5, max_features=log2, min_samples_leaf=2, min_samples_split=10, random_state=42, splitter=random; total time=   0.0s\n",
            "[CV] END criterion=gini, max_depth=5, max_features=log2, min_samples_leaf=2, min_samples_split=10, random_state=42, splitter=random; total time=   0.0s\n",
            "[CV] END criterion=gini, max_depth=5, max_features=log2, min_samples_leaf=3, min_samples_split=2, random_state=42, splitter=best; total time=   0.0s\n",
            "[CV] END criterion=gini, max_depth=5, max_features=log2, min_samples_leaf=3, min_samples_split=2, random_state=42, splitter=best; total time=   0.0s\n",
            "[CV] END criterion=gini, max_depth=5, max_features=log2, min_samples_leaf=3, min_samples_split=2, random_state=42, splitter=best; total time=   0.0s\n",
            "[CV] END criterion=gini, max_depth=5, max_features=log2, min_samples_leaf=3, min_samples_split=2, random_state=42, splitter=random; total time=   0.0s\n",
            "[CV] END criterion=gini, max_depth=5, max_features=log2, min_samples_leaf=3, min_samples_split=2, random_state=42, splitter=random; total time=   0.0s\n",
            "[CV] END criterion=gini, max_depth=5, max_features=log2, min_samples_leaf=3, min_samples_split=2, random_state=42, splitter=random; total time=   0.0s\n",
            "[CV] END criterion=gini, max_depth=5, max_features=log2, min_samples_leaf=3, min_samples_split=5, random_state=42, splitter=best; total time=   0.0s\n",
            "[CV] END criterion=gini, max_depth=5, max_features=log2, min_samples_leaf=3, min_samples_split=5, random_state=42, splitter=best; total time=   0.0s\n",
            "[CV] END criterion=gini, max_depth=5, max_features=log2, min_samples_leaf=3, min_samples_split=5, random_state=42, splitter=best; total time=   0.0s\n",
            "[CV] END criterion=gini, max_depth=5, max_features=log2, min_samples_leaf=3, min_samples_split=5, random_state=42, splitter=random; total time=   0.0s\n",
            "[CV] END criterion=gini, max_depth=5, max_features=log2, min_samples_leaf=3, min_samples_split=5, random_state=42, splitter=random; total time=   0.0s\n",
            "[CV] END criterion=gini, max_depth=5, max_features=log2, min_samples_leaf=3, min_samples_split=5, random_state=42, splitter=random; total time=   0.0s\n",
            "[CV] END criterion=gini, max_depth=5, max_features=log2, min_samples_leaf=3, min_samples_split=10, random_state=42, splitter=best; total time=   0.0s\n",
            "[CV] END criterion=gini, max_depth=5, max_features=log2, min_samples_leaf=3, min_samples_split=10, random_state=42, splitter=best; total time=   0.0s\n",
            "[CV] END criterion=gini, max_depth=5, max_features=log2, min_samples_leaf=3, min_samples_split=10, random_state=42, splitter=best; total time=   0.0s\n",
            "[CV] END criterion=gini, max_depth=5, max_features=log2, min_samples_leaf=3, min_samples_split=10, random_state=42, splitter=random; total time=   0.0s\n",
            "[CV] END criterion=gini, max_depth=5, max_features=log2, min_samples_leaf=3, min_samples_split=10, random_state=42, splitter=random; total time=   0.0s\n",
            "[CV] END criterion=gini, max_depth=5, max_features=log2, min_samples_leaf=3, min_samples_split=10, random_state=42, splitter=random; total time=   0.0s\n",
            "[CV] END criterion=gini, max_depth=10, max_features=None, min_samples_leaf=1, min_samples_split=2, random_state=42, splitter=best; total time=   0.0s\n",
            "[CV] END criterion=gini, max_depth=10, max_features=None, min_samples_leaf=1, min_samples_split=2, random_state=42, splitter=best; total time=   0.0s\n",
            "[CV] END criterion=gini, max_depth=10, max_features=None, min_samples_leaf=1, min_samples_split=2, random_state=42, splitter=best; total time=   0.0s\n",
            "[CV] END criterion=gini, max_depth=10, max_features=None, min_samples_leaf=1, min_samples_split=2, random_state=42, splitter=random; total time=   0.0s\n",
            "[CV] END criterion=gini, max_depth=10, max_features=None, min_samples_leaf=1, min_samples_split=2, random_state=42, splitter=random; total time=   0.0s\n",
            "[CV] END criterion=gini, max_depth=10, max_features=None, min_samples_leaf=1, min_samples_split=2, random_state=42, splitter=random; total time=   0.0s\n",
            "[CV] END criterion=gini, max_depth=10, max_features=None, min_samples_leaf=1, min_samples_split=5, random_state=42, splitter=best; total time=   0.0s\n",
            "[CV] END criterion=gini, max_depth=10, max_features=None, min_samples_leaf=1, min_samples_split=5, random_state=42, splitter=best; total time=   0.0s\n",
            "[CV] END criterion=gini, max_depth=10, max_features=None, min_samples_leaf=1, min_samples_split=5, random_state=42, splitter=best; total time=   0.0s\n",
            "[CV] END criterion=gini, max_depth=10, max_features=None, min_samples_leaf=1, min_samples_split=5, random_state=42, splitter=random; total time=   0.0s\n",
            "[CV] END criterion=gini, max_depth=10, max_features=None, min_samples_leaf=1, min_samples_split=5, random_state=42, splitter=random; total time=   0.0s\n",
            "[CV] END criterion=gini, max_depth=10, max_features=None, min_samples_leaf=1, min_samples_split=5, random_state=42, splitter=random; total time=   0.0s\n",
            "[CV] END criterion=gini, max_depth=10, max_features=None, min_samples_leaf=1, min_samples_split=10, random_state=42, splitter=best; total time=   0.0s\n",
            "[CV] END criterion=gini, max_depth=10, max_features=None, min_samples_leaf=1, min_samples_split=10, random_state=42, splitter=best; total time=   0.0s\n",
            "[CV] END criterion=gini, max_depth=10, max_features=None, min_samples_leaf=1, min_samples_split=10, random_state=42, splitter=best; total time=   0.0s\n",
            "[CV] END criterion=gini, max_depth=10, max_features=None, min_samples_leaf=1, min_samples_split=10, random_state=42, splitter=random; total time=   0.0s\n",
            "[CV] END criterion=gini, max_depth=10, max_features=None, min_samples_leaf=1, min_samples_split=10, random_state=42, splitter=random; total time=   0.0s\n",
            "[CV] END criterion=gini, max_depth=10, max_features=None, min_samples_leaf=1, min_samples_split=10, random_state=42, splitter=random; total time=   0.0s\n",
            "[CV] END criterion=gini, max_depth=10, max_features=None, min_samples_leaf=2, min_samples_split=2, random_state=42, splitter=best; total time=   0.0s\n",
            "[CV] END criterion=gini, max_depth=10, max_features=None, min_samples_leaf=2, min_samples_split=2, random_state=42, splitter=best; total time=   0.0s\n",
            "[CV] END criterion=gini, max_depth=10, max_features=None, min_samples_leaf=2, min_samples_split=2, random_state=42, splitter=best; total time=   0.0s\n",
            "[CV] END criterion=gini, max_depth=10, max_features=None, min_samples_leaf=2, min_samples_split=2, random_state=42, splitter=random; total time=   0.0s\n",
            "[CV] END criterion=gini, max_depth=10, max_features=None, min_samples_leaf=2, min_samples_split=2, random_state=42, splitter=random; total time=   0.0s\n",
            "[CV] END criterion=gini, max_depth=10, max_features=None, min_samples_leaf=2, min_samples_split=2, random_state=42, splitter=random; total time=   0.0s\n",
            "[CV] END criterion=gini, max_depth=10, max_features=None, min_samples_leaf=2, min_samples_split=5, random_state=42, splitter=best; total time=   0.0s\n",
            "[CV] END criterion=gini, max_depth=10, max_features=None, min_samples_leaf=2, min_samples_split=5, random_state=42, splitter=best; total time=   0.0s\n",
            "[CV] END criterion=gini, max_depth=10, max_features=None, min_samples_leaf=2, min_samples_split=5, random_state=42, splitter=best; total time=   0.0s\n",
            "[CV] END criterion=gini, max_depth=10, max_features=None, min_samples_leaf=2, min_samples_split=5, random_state=42, splitter=random; total time=   0.0s\n",
            "[CV] END criterion=gini, max_depth=10, max_features=None, min_samples_leaf=2, min_samples_split=5, random_state=42, splitter=random; total time=   0.0s\n",
            "[CV] END criterion=gini, max_depth=10, max_features=None, min_samples_leaf=2, min_samples_split=5, random_state=42, splitter=random; total time=   0.0s\n",
            "[CV] END criterion=gini, max_depth=10, max_features=None, min_samples_leaf=2, min_samples_split=10, random_state=42, splitter=best; total time=   0.0s\n",
            "[CV] END criterion=gini, max_depth=10, max_features=None, min_samples_leaf=2, min_samples_split=10, random_state=42, splitter=best; total time=   0.0s\n",
            "[CV] END criterion=gini, max_depth=10, max_features=None, min_samples_leaf=2, min_samples_split=10, random_state=42, splitter=best; total time=   0.0s\n",
            "[CV] END criterion=gini, max_depth=10, max_features=None, min_samples_leaf=2, min_samples_split=10, random_state=42, splitter=random; total time=   0.0s\n",
            "[CV] END criterion=gini, max_depth=10, max_features=None, min_samples_leaf=2, min_samples_split=10, random_state=42, splitter=random; total time=   0.0s\n",
            "[CV] END criterion=gini, max_depth=10, max_features=None, min_samples_leaf=2, min_samples_split=10, random_state=42, splitter=random; total time=   0.0s\n",
            "[CV] END criterion=gini, max_depth=10, max_features=None, min_samples_leaf=3, min_samples_split=2, random_state=42, splitter=best; total time=   0.0s\n",
            "[CV] END criterion=gini, max_depth=10, max_features=None, min_samples_leaf=3, min_samples_split=2, random_state=42, splitter=best; total time=   0.0s\n",
            "[CV] END criterion=gini, max_depth=10, max_features=None, min_samples_leaf=3, min_samples_split=2, random_state=42, splitter=best; total time=   0.0s\n",
            "[CV] END criterion=gini, max_depth=10, max_features=None, min_samples_leaf=3, min_samples_split=2, random_state=42, splitter=random; total time=   0.0s\n",
            "[CV] END criterion=gini, max_depth=10, max_features=None, min_samples_leaf=3, min_samples_split=2, random_state=42, splitter=random; total time=   0.0s\n",
            "[CV] END criterion=gini, max_depth=10, max_features=None, min_samples_leaf=3, min_samples_split=2, random_state=42, splitter=random; total time=   0.0s\n",
            "[CV] END criterion=gini, max_depth=10, max_features=None, min_samples_leaf=3, min_samples_split=5, random_state=42, splitter=best; total time=   0.0s\n",
            "[CV] END criterion=gini, max_depth=10, max_features=None, min_samples_leaf=3, min_samples_split=5, random_state=42, splitter=best; total time=   0.0s\n",
            "[CV] END criterion=gini, max_depth=10, max_features=None, min_samples_leaf=3, min_samples_split=5, random_state=42, splitter=best; total time=   0.0s\n",
            "[CV] END criterion=gini, max_depth=10, max_features=None, min_samples_leaf=3, min_samples_split=5, random_state=42, splitter=random; total time=   0.0s\n",
            "[CV] END criterion=gini, max_depth=10, max_features=None, min_samples_leaf=3, min_samples_split=5, random_state=42, splitter=random; total time=   0.0s\n",
            "[CV] END criterion=gini, max_depth=10, max_features=None, min_samples_leaf=3, min_samples_split=5, random_state=42, splitter=random; total time=   0.0s\n",
            "[CV] END criterion=gini, max_depth=10, max_features=None, min_samples_leaf=3, min_samples_split=10, random_state=42, splitter=best; total time=   0.0s\n",
            "[CV] END criterion=gini, max_depth=10, max_features=None, min_samples_leaf=3, min_samples_split=10, random_state=42, splitter=best; total time=   0.0s\n",
            "[CV] END criterion=gini, max_depth=10, max_features=None, min_samples_leaf=3, min_samples_split=10, random_state=42, splitter=best; total time=   0.0s\n",
            "[CV] END criterion=gini, max_depth=10, max_features=None, min_samples_leaf=3, min_samples_split=10, random_state=42, splitter=random; total time=   0.0s\n",
            "[CV] END criterion=gini, max_depth=10, max_features=None, min_samples_leaf=3, min_samples_split=10, random_state=42, splitter=random; total time=   0.0s\n",
            "[CV] END criterion=gini, max_depth=10, max_features=None, min_samples_leaf=3, min_samples_split=10, random_state=42, splitter=random; total time=   0.0s\n",
            "[CV] END criterion=gini, max_depth=10, max_features=sqrt, min_samples_leaf=1, min_samples_split=2, random_state=42, splitter=best; total time=   0.0s\n",
            "[CV] END criterion=gini, max_depth=10, max_features=sqrt, min_samples_leaf=1, min_samples_split=2, random_state=42, splitter=best; total time=   0.0s\n",
            "[CV] END criterion=gini, max_depth=10, max_features=sqrt, min_samples_leaf=1, min_samples_split=2, random_state=42, splitter=best; total time=   0.0s\n",
            "[CV] END criterion=gini, max_depth=10, max_features=sqrt, min_samples_leaf=1, min_samples_split=2, random_state=42, splitter=random; total time=   0.0s\n",
            "[CV] END criterion=gini, max_depth=10, max_features=sqrt, min_samples_leaf=1, min_samples_split=2, random_state=42, splitter=random; total time=   0.0s\n",
            "[CV] END criterion=gini, max_depth=10, max_features=sqrt, min_samples_leaf=1, min_samples_split=2, random_state=42, splitter=random; total time=   0.0s\n",
            "[CV] END criterion=gini, max_depth=10, max_features=sqrt, min_samples_leaf=1, min_samples_split=5, random_state=42, splitter=best; total time=   0.0s\n",
            "[CV] END criterion=gini, max_depth=10, max_features=sqrt, min_samples_leaf=1, min_samples_split=5, random_state=42, splitter=best; total time=   0.0s\n",
            "[CV] END criterion=gini, max_depth=10, max_features=sqrt, min_samples_leaf=1, min_samples_split=5, random_state=42, splitter=best; total time=   0.0s\n",
            "[CV] END criterion=gini, max_depth=10, max_features=sqrt, min_samples_leaf=1, min_samples_split=5, random_state=42, splitter=random; total time=   0.0s\n",
            "[CV] END criterion=gini, max_depth=10, max_features=sqrt, min_samples_leaf=1, min_samples_split=5, random_state=42, splitter=random; total time=   0.0s\n",
            "[CV] END criterion=gini, max_depth=10, max_features=sqrt, min_samples_leaf=1, min_samples_split=5, random_state=42, splitter=random; total time=   0.0s\n",
            "[CV] END criterion=gini, max_depth=10, max_features=sqrt, min_samples_leaf=1, min_samples_split=10, random_state=42, splitter=best; total time=   0.0s\n",
            "[CV] END criterion=gini, max_depth=10, max_features=sqrt, min_samples_leaf=1, min_samples_split=10, random_state=42, splitter=best; total time=   0.0s\n",
            "[CV] END criterion=gini, max_depth=10, max_features=sqrt, min_samples_leaf=1, min_samples_split=10, random_state=42, splitter=best; total time=   0.0s\n",
            "[CV] END criterion=gini, max_depth=10, max_features=sqrt, min_samples_leaf=1, min_samples_split=10, random_state=42, splitter=random; total time=   0.0s\n",
            "[CV] END criterion=gini, max_depth=10, max_features=sqrt, min_samples_leaf=1, min_samples_split=10, random_state=42, splitter=random; total time=   0.0s\n",
            "[CV] END criterion=gini, max_depth=10, max_features=sqrt, min_samples_leaf=1, min_samples_split=10, random_state=42, splitter=random; total time=   0.0s\n",
            "[CV] END criterion=gini, max_depth=10, max_features=sqrt, min_samples_leaf=2, min_samples_split=2, random_state=42, splitter=best; total time=   0.0s\n",
            "[CV] END criterion=gini, max_depth=10, max_features=sqrt, min_samples_leaf=2, min_samples_split=2, random_state=42, splitter=best; total time=   0.0s\n",
            "[CV] END criterion=gini, max_depth=10, max_features=sqrt, min_samples_leaf=2, min_samples_split=2, random_state=42, splitter=best; total time=   0.0s\n",
            "[CV] END criterion=gini, max_depth=10, max_features=sqrt, min_samples_leaf=2, min_samples_split=2, random_state=42, splitter=random; total time=   0.0s\n",
            "[CV] END criterion=gini, max_depth=10, max_features=sqrt, min_samples_leaf=2, min_samples_split=2, random_state=42, splitter=random; total time=   0.0s\n",
            "[CV] END criterion=gini, max_depth=10, max_features=sqrt, min_samples_leaf=2, min_samples_split=2, random_state=42, splitter=random; total time=   0.0s\n",
            "[CV] END criterion=gini, max_depth=10, max_features=sqrt, min_samples_leaf=2, min_samples_split=5, random_state=42, splitter=best; total time=   0.0s\n",
            "[CV] END criterion=gini, max_depth=10, max_features=sqrt, min_samples_leaf=2, min_samples_split=5, random_state=42, splitter=best; total time=   0.0s\n",
            "[CV] END criterion=gini, max_depth=10, max_features=sqrt, min_samples_leaf=2, min_samples_split=5, random_state=42, splitter=best; total time=   0.0s\n",
            "[CV] END criterion=gini, max_depth=10, max_features=sqrt, min_samples_leaf=2, min_samples_split=5, random_state=42, splitter=random; total time=   0.0s\n",
            "[CV] END criterion=gini, max_depth=10, max_features=sqrt, min_samples_leaf=2, min_samples_split=5, random_state=42, splitter=random; total time=   0.0s\n",
            "[CV] END criterion=gini, max_depth=10, max_features=sqrt, min_samples_leaf=2, min_samples_split=5, random_state=42, splitter=random; total time=   0.0s\n",
            "[CV] END criterion=gini, max_depth=10, max_features=sqrt, min_samples_leaf=2, min_samples_split=10, random_state=42, splitter=best; total time=   0.0s\n",
            "[CV] END criterion=gini, max_depth=10, max_features=sqrt, min_samples_leaf=2, min_samples_split=10, random_state=42, splitter=best; total time=   0.0s\n",
            "[CV] END criterion=gini, max_depth=10, max_features=sqrt, min_samples_leaf=2, min_samples_split=10, random_state=42, splitter=best; total time=   0.0s\n",
            "[CV] END criterion=gini, max_depth=10, max_features=sqrt, min_samples_leaf=2, min_samples_split=10, random_state=42, splitter=random; total time=   0.0s\n",
            "[CV] END criterion=gini, max_depth=10, max_features=sqrt, min_samples_leaf=2, min_samples_split=10, random_state=42, splitter=random; total time=   0.0s\n",
            "[CV] END criterion=gini, max_depth=10, max_features=sqrt, min_samples_leaf=2, min_samples_split=10, random_state=42, splitter=random; total time=   0.0s\n",
            "[CV] END criterion=gini, max_depth=10, max_features=sqrt, min_samples_leaf=3, min_samples_split=2, random_state=42, splitter=best; total time=   0.0s\n",
            "[CV] END criterion=gini, max_depth=10, max_features=sqrt, min_samples_leaf=3, min_samples_split=2, random_state=42, splitter=best; total time=   0.0s\n",
            "[CV] END criterion=gini, max_depth=10, max_features=sqrt, min_samples_leaf=3, min_samples_split=2, random_state=42, splitter=best; total time=   0.0s\n",
            "[CV] END criterion=gini, max_depth=10, max_features=sqrt, min_samples_leaf=3, min_samples_split=2, random_state=42, splitter=random; total time=   0.0s\n",
            "[CV] END criterion=gini, max_depth=10, max_features=sqrt, min_samples_leaf=3, min_samples_split=2, random_state=42, splitter=random; total time=   0.0s\n",
            "[CV] END criterion=gini, max_depth=10, max_features=sqrt, min_samples_leaf=3, min_samples_split=2, random_state=42, splitter=random; total time=   0.0s\n",
            "[CV] END criterion=gini, max_depth=10, max_features=sqrt, min_samples_leaf=3, min_samples_split=5, random_state=42, splitter=best; total time=   0.0s\n",
            "[CV] END criterion=gini, max_depth=10, max_features=sqrt, min_samples_leaf=3, min_samples_split=5, random_state=42, splitter=best; total time=   0.0s\n",
            "[CV] END criterion=gini, max_depth=10, max_features=sqrt, min_samples_leaf=3, min_samples_split=5, random_state=42, splitter=best; total time=   0.0s\n",
            "[CV] END criterion=gini, max_depth=10, max_features=sqrt, min_samples_leaf=3, min_samples_split=5, random_state=42, splitter=random; total time=   0.0s\n",
            "[CV] END criterion=gini, max_depth=10, max_features=sqrt, min_samples_leaf=3, min_samples_split=5, random_state=42, splitter=random; total time=   0.0s\n",
            "[CV] END criterion=gini, max_depth=10, max_features=sqrt, min_samples_leaf=3, min_samples_split=5, random_state=42, splitter=random; total time=   0.0s\n",
            "[CV] END criterion=gini, max_depth=10, max_features=sqrt, min_samples_leaf=3, min_samples_split=10, random_state=42, splitter=best; total time=   0.0s\n",
            "[CV] END criterion=gini, max_depth=10, max_features=sqrt, min_samples_leaf=3, min_samples_split=10, random_state=42, splitter=best; total time=   0.0s\n",
            "[CV] END criterion=gini, max_depth=10, max_features=sqrt, min_samples_leaf=3, min_samples_split=10, random_state=42, splitter=best; total time=   0.0s\n",
            "[CV] END criterion=gini, max_depth=10, max_features=sqrt, min_samples_leaf=3, min_samples_split=10, random_state=42, splitter=random; total time=   0.0s\n",
            "[CV] END criterion=gini, max_depth=10, max_features=sqrt, min_samples_leaf=3, min_samples_split=10, random_state=42, splitter=random; total time=   0.0s\n",
            "[CV] END criterion=gini, max_depth=10, max_features=sqrt, min_samples_leaf=3, min_samples_split=10, random_state=42, splitter=random; total time=   0.0s\n",
            "[CV] END criterion=gini, max_depth=10, max_features=log2, min_samples_leaf=1, min_samples_split=2, random_state=42, splitter=best; total time=   0.0s\n",
            "[CV] END criterion=gini, max_depth=10, max_features=log2, min_samples_leaf=1, min_samples_split=2, random_state=42, splitter=best; total time=   0.0s\n",
            "[CV] END criterion=gini, max_depth=10, max_features=log2, min_samples_leaf=1, min_samples_split=2, random_state=42, splitter=best; total time=   0.0s\n",
            "[CV] END criterion=gini, max_depth=10, max_features=log2, min_samples_leaf=1, min_samples_split=2, random_state=42, splitter=random; total time=   0.0s\n",
            "[CV] END criterion=gini, max_depth=10, max_features=log2, min_samples_leaf=1, min_samples_split=2, random_state=42, splitter=random; total time=   0.0s\n",
            "[CV] END criterion=gini, max_depth=10, max_features=log2, min_samples_leaf=1, min_samples_split=2, random_state=42, splitter=random; total time=   0.0s\n",
            "[CV] END criterion=gini, max_depth=10, max_features=log2, min_samples_leaf=1, min_samples_split=5, random_state=42, splitter=best; total time=   0.0s\n",
            "[CV] END criterion=gini, max_depth=10, max_features=log2, min_samples_leaf=1, min_samples_split=5, random_state=42, splitter=best; total time=   0.0s\n",
            "[CV] END criterion=gini, max_depth=10, max_features=log2, min_samples_leaf=1, min_samples_split=5, random_state=42, splitter=best; total time=   0.0s\n",
            "[CV] END criterion=gini, max_depth=10, max_features=log2, min_samples_leaf=1, min_samples_split=5, random_state=42, splitter=random; total time=   0.0s\n",
            "[CV] END criterion=gini, max_depth=10, max_features=log2, min_samples_leaf=1, min_samples_split=5, random_state=42, splitter=random; total time=   0.0s\n",
            "[CV] END criterion=gini, max_depth=10, max_features=log2, min_samples_leaf=1, min_samples_split=5, random_state=42, splitter=random; total time=   0.0s\n",
            "[CV] END criterion=gini, max_depth=10, max_features=log2, min_samples_leaf=1, min_samples_split=10, random_state=42, splitter=best; total time=   0.0s\n",
            "[CV] END criterion=gini, max_depth=10, max_features=log2, min_samples_leaf=1, min_samples_split=10, random_state=42, splitter=best; total time=   0.0s\n",
            "[CV] END criterion=gini, max_depth=10, max_features=log2, min_samples_leaf=1, min_samples_split=10, random_state=42, splitter=best; total time=   0.0s\n",
            "[CV] END criterion=gini, max_depth=10, max_features=log2, min_samples_leaf=1, min_samples_split=10, random_state=42, splitter=random; total time=   0.0s\n",
            "[CV] END criterion=gini, max_depth=10, max_features=log2, min_samples_leaf=1, min_samples_split=10, random_state=42, splitter=random; total time=   0.0s\n",
            "[CV] END criterion=gini, max_depth=10, max_features=log2, min_samples_leaf=1, min_samples_split=10, random_state=42, splitter=random; total time=   0.0s\n",
            "[CV] END criterion=gini, max_depth=10, max_features=log2, min_samples_leaf=2, min_samples_split=2, random_state=42, splitter=best; total time=   0.0s\n",
            "[CV] END criterion=gini, max_depth=10, max_features=log2, min_samples_leaf=2, min_samples_split=2, random_state=42, splitter=best; total time=   0.0s\n",
            "[CV] END criterion=gini, max_depth=10, max_features=log2, min_samples_leaf=2, min_samples_split=2, random_state=42, splitter=best; total time=   0.0s\n",
            "[CV] END criterion=gini, max_depth=10, max_features=log2, min_samples_leaf=2, min_samples_split=2, random_state=42, splitter=random; total time=   0.0s\n",
            "[CV] END criterion=gini, max_depth=10, max_features=log2, min_samples_leaf=2, min_samples_split=2, random_state=42, splitter=random; total time=   0.0s\n",
            "[CV] END criterion=gini, max_depth=10, max_features=log2, min_samples_leaf=2, min_samples_split=2, random_state=42, splitter=random; total time=   0.0s\n",
            "[CV] END criterion=gini, max_depth=10, max_features=log2, min_samples_leaf=2, min_samples_split=5, random_state=42, splitter=best; total time=   0.0s\n",
            "[CV] END criterion=gini, max_depth=10, max_features=log2, min_samples_leaf=2, min_samples_split=5, random_state=42, splitter=best; total time=   0.0s\n",
            "[CV] END criterion=gini, max_depth=10, max_features=log2, min_samples_leaf=2, min_samples_split=5, random_state=42, splitter=best; total time=   0.0s\n",
            "[CV] END criterion=gini, max_depth=10, max_features=log2, min_samples_leaf=2, min_samples_split=5, random_state=42, splitter=random; total time=   0.0s\n",
            "[CV] END criterion=gini, max_depth=10, max_features=log2, min_samples_leaf=2, min_samples_split=5, random_state=42, splitter=random; total time=   0.0s\n",
            "[CV] END criterion=gini, max_depth=10, max_features=log2, min_samples_leaf=2, min_samples_split=5, random_state=42, splitter=random; total time=   0.0s\n",
            "[CV] END criterion=gini, max_depth=10, max_features=log2, min_samples_leaf=2, min_samples_split=10, random_state=42, splitter=best; total time=   0.0s\n",
            "[CV] END criterion=gini, max_depth=10, max_features=log2, min_samples_leaf=2, min_samples_split=10, random_state=42, splitter=best; total time=   0.0s\n",
            "[CV] END criterion=gini, max_depth=10, max_features=log2, min_samples_leaf=2, min_samples_split=10, random_state=42, splitter=best; total time=   0.0s\n",
            "[CV] END criterion=gini, max_depth=10, max_features=log2, min_samples_leaf=2, min_samples_split=10, random_state=42, splitter=random; total time=   0.0s\n",
            "[CV] END criterion=gini, max_depth=10, max_features=log2, min_samples_leaf=2, min_samples_split=10, random_state=42, splitter=random; total time=   0.0s\n",
            "[CV] END criterion=gini, max_depth=10, max_features=log2, min_samples_leaf=2, min_samples_split=10, random_state=42, splitter=random; total time=   0.0s\n",
            "[CV] END criterion=gini, max_depth=10, max_features=log2, min_samples_leaf=3, min_samples_split=2, random_state=42, splitter=best; total time=   0.0s\n",
            "[CV] END criterion=gini, max_depth=10, max_features=log2, min_samples_leaf=3, min_samples_split=2, random_state=42, splitter=best; total time=   0.0s\n",
            "[CV] END criterion=gini, max_depth=10, max_features=log2, min_samples_leaf=3, min_samples_split=2, random_state=42, splitter=best; total time=   0.0s\n",
            "[CV] END criterion=gini, max_depth=10, max_features=log2, min_samples_leaf=3, min_samples_split=2, random_state=42, splitter=random; total time=   0.0s\n",
            "[CV] END criterion=gini, max_depth=10, max_features=log2, min_samples_leaf=3, min_samples_split=2, random_state=42, splitter=random; total time=   0.0s\n",
            "[CV] END criterion=gini, max_depth=10, max_features=log2, min_samples_leaf=3, min_samples_split=2, random_state=42, splitter=random; total time=   0.0s\n",
            "[CV] END criterion=gini, max_depth=10, max_features=log2, min_samples_leaf=3, min_samples_split=5, random_state=42, splitter=best; total time=   0.0s\n",
            "[CV] END criterion=gini, max_depth=10, max_features=log2, min_samples_leaf=3, min_samples_split=5, random_state=42, splitter=best; total time=   0.0s\n",
            "[CV] END criterion=gini, max_depth=10, max_features=log2, min_samples_leaf=3, min_samples_split=5, random_state=42, splitter=best; total time=   0.0s\n",
            "[CV] END criterion=gini, max_depth=10, max_features=log2, min_samples_leaf=3, min_samples_split=5, random_state=42, splitter=random; total time=   0.0s\n",
            "[CV] END criterion=gini, max_depth=10, max_features=log2, min_samples_leaf=3, min_samples_split=5, random_state=42, splitter=random; total time=   0.0s\n",
            "[CV] END criterion=gini, max_depth=10, max_features=log2, min_samples_leaf=3, min_samples_split=5, random_state=42, splitter=random; total time=   0.0s\n",
            "[CV] END criterion=gini, max_depth=10, max_features=log2, min_samples_leaf=3, min_samples_split=10, random_state=42, splitter=best; total time=   0.0s\n",
            "[CV] END criterion=gini, max_depth=10, max_features=log2, min_samples_leaf=3, min_samples_split=10, random_state=42, splitter=best; total time=   0.0s\n",
            "[CV] END criterion=gini, max_depth=10, max_features=log2, min_samples_leaf=3, min_samples_split=10, random_state=42, splitter=best; total time=   0.0s\n",
            "[CV] END criterion=gini, max_depth=10, max_features=log2, min_samples_leaf=3, min_samples_split=10, random_state=42, splitter=random; total time=   0.0s\n",
            "[CV] END criterion=gini, max_depth=10, max_features=log2, min_samples_leaf=3, min_samples_split=10, random_state=42, splitter=random; total time=   0.0s\n",
            "[CV] END criterion=gini, max_depth=10, max_features=log2, min_samples_leaf=3, min_samples_split=10, random_state=42, splitter=random; total time=   0.0s\n",
            "[CV] END criterion=gini, max_depth=20, max_features=None, min_samples_leaf=1, min_samples_split=2, random_state=42, splitter=best; total time=   0.0s\n",
            "[CV] END criterion=gini, max_depth=20, max_features=None, min_samples_leaf=1, min_samples_split=2, random_state=42, splitter=best; total time=   0.0s\n",
            "[CV] END criterion=gini, max_depth=20, max_features=None, min_samples_leaf=1, min_samples_split=2, random_state=42, splitter=best; total time=   0.0s\n",
            "[CV] END criterion=gini, max_depth=20, max_features=None, min_samples_leaf=1, min_samples_split=2, random_state=42, splitter=random; total time=   0.0s\n",
            "[CV] END criterion=gini, max_depth=20, max_features=None, min_samples_leaf=1, min_samples_split=2, random_state=42, splitter=random; total time=   0.0s\n",
            "[CV] END criterion=gini, max_depth=20, max_features=None, min_samples_leaf=1, min_samples_split=2, random_state=42, splitter=random; total time=   0.0s\n",
            "[CV] END criterion=gini, max_depth=20, max_features=None, min_samples_leaf=1, min_samples_split=5, random_state=42, splitter=best; total time=   0.0s\n",
            "[CV] END criterion=gini, max_depth=20, max_features=None, min_samples_leaf=1, min_samples_split=5, random_state=42, splitter=best; total time=   0.0s\n",
            "[CV] END criterion=gini, max_depth=20, max_features=None, min_samples_leaf=1, min_samples_split=5, random_state=42, splitter=best; total time=   0.0s\n",
            "[CV] END criterion=gini, max_depth=20, max_features=None, min_samples_leaf=1, min_samples_split=5, random_state=42, splitter=random; total time=   0.0s\n",
            "[CV] END criterion=gini, max_depth=20, max_features=None, min_samples_leaf=1, min_samples_split=5, random_state=42, splitter=random; total time=   0.0s\n",
            "[CV] END criterion=gini, max_depth=20, max_features=None, min_samples_leaf=1, min_samples_split=5, random_state=42, splitter=random; total time=   0.0s\n",
            "[CV] END criterion=gini, max_depth=20, max_features=None, min_samples_leaf=1, min_samples_split=10, random_state=42, splitter=best; total time=   0.0s\n",
            "[CV] END criterion=gini, max_depth=20, max_features=None, min_samples_leaf=1, min_samples_split=10, random_state=42, splitter=best; total time=   0.0s\n",
            "[CV] END criterion=gini, max_depth=20, max_features=None, min_samples_leaf=1, min_samples_split=10, random_state=42, splitter=best; total time=   0.0s\n",
            "[CV] END criterion=gini, max_depth=20, max_features=None, min_samples_leaf=1, min_samples_split=10, random_state=42, splitter=random; total time=   0.0s\n",
            "[CV] END criterion=gini, max_depth=20, max_features=None, min_samples_leaf=1, min_samples_split=10, random_state=42, splitter=random; total time=   0.0s\n",
            "[CV] END criterion=gini, max_depth=20, max_features=None, min_samples_leaf=1, min_samples_split=10, random_state=42, splitter=random; total time=   0.0s\n",
            "[CV] END criterion=gini, max_depth=20, max_features=None, min_samples_leaf=2, min_samples_split=2, random_state=42, splitter=best; total time=   0.0s\n",
            "[CV] END criterion=gini, max_depth=20, max_features=None, min_samples_leaf=2, min_samples_split=2, random_state=42, splitter=best; total time=   0.0s\n",
            "[CV] END criterion=gini, max_depth=20, max_features=None, min_samples_leaf=2, min_samples_split=2, random_state=42, splitter=best; total time=   0.0s\n",
            "[CV] END criterion=gini, max_depth=20, max_features=None, min_samples_leaf=2, min_samples_split=2, random_state=42, splitter=random; total time=   0.0s\n",
            "[CV] END criterion=gini, max_depth=20, max_features=None, min_samples_leaf=2, min_samples_split=2, random_state=42, splitter=random; total time=   0.0s\n",
            "[CV] END criterion=gini, max_depth=20, max_features=None, min_samples_leaf=2, min_samples_split=2, random_state=42, splitter=random; total time=   0.0s\n",
            "[CV] END criterion=gini, max_depth=20, max_features=None, min_samples_leaf=2, min_samples_split=5, random_state=42, splitter=best; total time=   0.0s\n",
            "[CV] END criterion=gini, max_depth=20, max_features=None, min_samples_leaf=2, min_samples_split=5, random_state=42, splitter=best; total time=   0.0s\n",
            "[CV] END criterion=gini, max_depth=20, max_features=None, min_samples_leaf=2, min_samples_split=5, random_state=42, splitter=best; total time=   0.0s\n",
            "[CV] END criterion=gini, max_depth=20, max_features=None, min_samples_leaf=2, min_samples_split=5, random_state=42, splitter=random; total time=   0.0s\n",
            "[CV] END criterion=gini, max_depth=20, max_features=None, min_samples_leaf=2, min_samples_split=5, random_state=42, splitter=random; total time=   0.0s\n",
            "[CV] END criterion=gini, max_depth=20, max_features=None, min_samples_leaf=2, min_samples_split=5, random_state=42, splitter=random; total time=   0.0s\n",
            "[CV] END criterion=gini, max_depth=20, max_features=None, min_samples_leaf=2, min_samples_split=10, random_state=42, splitter=best; total time=   0.0s\n",
            "[CV] END criterion=gini, max_depth=20, max_features=None, min_samples_leaf=2, min_samples_split=10, random_state=42, splitter=best; total time=   0.0s\n",
            "[CV] END criterion=gini, max_depth=20, max_features=None, min_samples_leaf=2, min_samples_split=10, random_state=42, splitter=best; total time=   0.0s\n",
            "[CV] END criterion=gini, max_depth=20, max_features=None, min_samples_leaf=2, min_samples_split=10, random_state=42, splitter=random; total time=   0.0s\n",
            "[CV] END criterion=gini, max_depth=20, max_features=None, min_samples_leaf=2, min_samples_split=10, random_state=42, splitter=random; total time=   0.0s\n",
            "[CV] END criterion=gini, max_depth=20, max_features=None, min_samples_leaf=2, min_samples_split=10, random_state=42, splitter=random; total time=   0.0s\n",
            "[CV] END criterion=gini, max_depth=20, max_features=None, min_samples_leaf=3, min_samples_split=2, random_state=42, splitter=best; total time=   0.0s\n",
            "[CV] END criterion=gini, max_depth=20, max_features=None, min_samples_leaf=3, min_samples_split=2, random_state=42, splitter=best; total time=   0.0s\n",
            "[CV] END criterion=gini, max_depth=20, max_features=None, min_samples_leaf=3, min_samples_split=2, random_state=42, splitter=best; total time=   0.0s\n",
            "[CV] END criterion=gini, max_depth=20, max_features=None, min_samples_leaf=3, min_samples_split=2, random_state=42, splitter=random; total time=   0.0s\n",
            "[CV] END criterion=gini, max_depth=20, max_features=None, min_samples_leaf=3, min_samples_split=2, random_state=42, splitter=random; total time=   0.0s\n",
            "[CV] END criterion=gini, max_depth=20, max_features=None, min_samples_leaf=3, min_samples_split=2, random_state=42, splitter=random; total time=   0.0s\n",
            "[CV] END criterion=gini, max_depth=20, max_features=None, min_samples_leaf=3, min_samples_split=5, random_state=42, splitter=best; total time=   0.0s\n",
            "[CV] END criterion=gini, max_depth=20, max_features=None, min_samples_leaf=3, min_samples_split=5, random_state=42, splitter=best; total time=   0.0s\n",
            "[CV] END criterion=gini, max_depth=20, max_features=None, min_samples_leaf=3, min_samples_split=5, random_state=42, splitter=best; total time=   0.0s\n",
            "[CV] END criterion=gini, max_depth=20, max_features=None, min_samples_leaf=3, min_samples_split=5, random_state=42, splitter=random; total time=   0.0s\n",
            "[CV] END criterion=gini, max_depth=20, max_features=None, min_samples_leaf=3, min_samples_split=5, random_state=42, splitter=random; total time=   0.0s\n",
            "[CV] END criterion=gini, max_depth=20, max_features=None, min_samples_leaf=3, min_samples_split=5, random_state=42, splitter=random; total time=   0.0s\n",
            "[CV] END criterion=gini, max_depth=20, max_features=None, min_samples_leaf=3, min_samples_split=10, random_state=42, splitter=best; total time=   0.0s\n",
            "[CV] END criterion=gini, max_depth=20, max_features=None, min_samples_leaf=3, min_samples_split=10, random_state=42, splitter=best; total time=   0.0s\n",
            "[CV] END criterion=gini, max_depth=20, max_features=None, min_samples_leaf=3, min_samples_split=10, random_state=42, splitter=best; total time=   0.0s\n",
            "[CV] END criterion=gini, max_depth=20, max_features=None, min_samples_leaf=3, min_samples_split=10, random_state=42, splitter=random; total time=   0.0s\n",
            "[CV] END criterion=gini, max_depth=20, max_features=None, min_samples_leaf=3, min_samples_split=10, random_state=42, splitter=random; total time=   0.0s\n",
            "[CV] END criterion=gini, max_depth=20, max_features=None, min_samples_leaf=3, min_samples_split=10, random_state=42, splitter=random; total time=   0.0s\n",
            "[CV] END criterion=gini, max_depth=20, max_features=sqrt, min_samples_leaf=1, min_samples_split=2, random_state=42, splitter=best; total time=   0.0s\n",
            "[CV] END criterion=gini, max_depth=20, max_features=sqrt, min_samples_leaf=1, min_samples_split=2, random_state=42, splitter=best; total time=   0.0s\n",
            "[CV] END criterion=gini, max_depth=20, max_features=sqrt, min_samples_leaf=1, min_samples_split=2, random_state=42, splitter=best; total time=   0.0s\n",
            "[CV] END criterion=gini, max_depth=20, max_features=sqrt, min_samples_leaf=1, min_samples_split=2, random_state=42, splitter=random; total time=   0.0s\n",
            "[CV] END criterion=gini, max_depth=20, max_features=sqrt, min_samples_leaf=1, min_samples_split=2, random_state=42, splitter=random; total time=   0.0s\n",
            "[CV] END criterion=gini, max_depth=20, max_features=sqrt, min_samples_leaf=1, min_samples_split=2, random_state=42, splitter=random; total time=   0.0s\n",
            "[CV] END criterion=gini, max_depth=20, max_features=sqrt, min_samples_leaf=1, min_samples_split=5, random_state=42, splitter=best; total time=   0.0s\n",
            "[CV] END criterion=gini, max_depth=20, max_features=sqrt, min_samples_leaf=1, min_samples_split=5, random_state=42, splitter=best; total time=   0.0s\n",
            "[CV] END criterion=gini, max_depth=20, max_features=sqrt, min_samples_leaf=1, min_samples_split=5, random_state=42, splitter=best; total time=   0.0s\n",
            "[CV] END criterion=gini, max_depth=20, max_features=sqrt, min_samples_leaf=1, min_samples_split=5, random_state=42, splitter=random; total time=   0.0s\n",
            "[CV] END criterion=gini, max_depth=20, max_features=sqrt, min_samples_leaf=1, min_samples_split=5, random_state=42, splitter=random; total time=   0.0s\n",
            "[CV] END criterion=gini, max_depth=20, max_features=sqrt, min_samples_leaf=1, min_samples_split=5, random_state=42, splitter=random; total time=   0.0s\n",
            "[CV] END criterion=gini, max_depth=20, max_features=sqrt, min_samples_leaf=1, min_samples_split=10, random_state=42, splitter=best; total time=   0.0s\n",
            "[CV] END criterion=gini, max_depth=20, max_features=sqrt, min_samples_leaf=1, min_samples_split=10, random_state=42, splitter=best; total time=   0.0s\n",
            "[CV] END criterion=gini, max_depth=20, max_features=sqrt, min_samples_leaf=1, min_samples_split=10, random_state=42, splitter=best; total time=   0.0s\n",
            "[CV] END criterion=gini, max_depth=20, max_features=sqrt, min_samples_leaf=1, min_samples_split=10, random_state=42, splitter=random; total time=   0.0s\n",
            "[CV] END criterion=gini, max_depth=20, max_features=sqrt, min_samples_leaf=1, min_samples_split=10, random_state=42, splitter=random; total time=   0.0s\n",
            "[CV] END criterion=gini, max_depth=20, max_features=sqrt, min_samples_leaf=1, min_samples_split=10, random_state=42, splitter=random; total time=   0.0s\n",
            "[CV] END criterion=gini, max_depth=20, max_features=sqrt, min_samples_leaf=2, min_samples_split=2, random_state=42, splitter=best; total time=   0.0s\n",
            "[CV] END criterion=gini, max_depth=20, max_features=sqrt, min_samples_leaf=2, min_samples_split=2, random_state=42, splitter=best; total time=   0.0s\n",
            "[CV] END criterion=gini, max_depth=20, max_features=sqrt, min_samples_leaf=2, min_samples_split=2, random_state=42, splitter=best; total time=   0.0s\n",
            "[CV] END criterion=gini, max_depth=20, max_features=sqrt, min_samples_leaf=2, min_samples_split=2, random_state=42, splitter=random; total time=   0.0s\n",
            "[CV] END criterion=gini, max_depth=20, max_features=sqrt, min_samples_leaf=2, min_samples_split=2, random_state=42, splitter=random; total time=   0.0s\n",
            "[CV] END criterion=gini, max_depth=20, max_features=sqrt, min_samples_leaf=2, min_samples_split=2, random_state=42, splitter=random; total time=   0.0s\n",
            "[CV] END criterion=gini, max_depth=20, max_features=sqrt, min_samples_leaf=2, min_samples_split=5, random_state=42, splitter=best; total time=   0.0s\n",
            "[CV] END criterion=gini, max_depth=20, max_features=sqrt, min_samples_leaf=2, min_samples_split=5, random_state=42, splitter=best; total time=   0.0s\n",
            "[CV] END criterion=gini, max_depth=20, max_features=sqrt, min_samples_leaf=2, min_samples_split=5, random_state=42, splitter=best; total time=   0.0s\n",
            "[CV] END criterion=gini, max_depth=20, max_features=sqrt, min_samples_leaf=2, min_samples_split=5, random_state=42, splitter=random; total time=   0.0s\n",
            "[CV] END criterion=gini, max_depth=20, max_features=sqrt, min_samples_leaf=2, min_samples_split=5, random_state=42, splitter=random; total time=   0.0s\n",
            "[CV] END criterion=gini, max_depth=20, max_features=sqrt, min_samples_leaf=2, min_samples_split=5, random_state=42, splitter=random; total time=   0.0s\n",
            "[CV] END criterion=gini, max_depth=20, max_features=sqrt, min_samples_leaf=2, min_samples_split=10, random_state=42, splitter=best; total time=   0.0s\n",
            "[CV] END criterion=gini, max_depth=20, max_features=sqrt, min_samples_leaf=2, min_samples_split=10, random_state=42, splitter=best; total time=   0.0s\n",
            "[CV] END criterion=gini, max_depth=20, max_features=sqrt, min_samples_leaf=2, min_samples_split=10, random_state=42, splitter=best; total time=   0.0s\n",
            "[CV] END criterion=gini, max_depth=20, max_features=sqrt, min_samples_leaf=2, min_samples_split=10, random_state=42, splitter=random; total time=   0.0s\n",
            "[CV] END criterion=gini, max_depth=20, max_features=sqrt, min_samples_leaf=2, min_samples_split=10, random_state=42, splitter=random; total time=   0.0s\n",
            "[CV] END criterion=gini, max_depth=20, max_features=sqrt, min_samples_leaf=2, min_samples_split=10, random_state=42, splitter=random; total time=   0.0s\n",
            "[CV] END criterion=gini, max_depth=20, max_features=sqrt, min_samples_leaf=3, min_samples_split=2, random_state=42, splitter=best; total time=   0.0s\n",
            "[CV] END criterion=gini, max_depth=20, max_features=sqrt, min_samples_leaf=3, min_samples_split=2, random_state=42, splitter=best; total time=   0.0s\n",
            "[CV] END criterion=gini, max_depth=20, max_features=sqrt, min_samples_leaf=3, min_samples_split=2, random_state=42, splitter=best; total time=   0.0s\n",
            "[CV] END criterion=gini, max_depth=20, max_features=sqrt, min_samples_leaf=3, min_samples_split=2, random_state=42, splitter=random; total time=   0.0s\n",
            "[CV] END criterion=gini, max_depth=20, max_features=sqrt, min_samples_leaf=3, min_samples_split=2, random_state=42, splitter=random; total time=   0.0s\n",
            "[CV] END criterion=gini, max_depth=20, max_features=sqrt, min_samples_leaf=3, min_samples_split=2, random_state=42, splitter=random; total time=   0.0s\n",
            "[CV] END criterion=gini, max_depth=20, max_features=sqrt, min_samples_leaf=3, min_samples_split=5, random_state=42, splitter=best; total time=   0.0s\n",
            "[CV] END criterion=gini, max_depth=20, max_features=sqrt, min_samples_leaf=3, min_samples_split=5, random_state=42, splitter=best; total time=   0.0s\n",
            "[CV] END criterion=gini, max_depth=20, max_features=sqrt, min_samples_leaf=3, min_samples_split=5, random_state=42, splitter=best; total time=   0.0s\n",
            "[CV] END criterion=gini, max_depth=20, max_features=sqrt, min_samples_leaf=3, min_samples_split=5, random_state=42, splitter=random; total time=   0.0s\n",
            "[CV] END criterion=gini, max_depth=20, max_features=sqrt, min_samples_leaf=3, min_samples_split=5, random_state=42, splitter=random; total time=   0.0s\n",
            "[CV] END criterion=gini, max_depth=20, max_features=sqrt, min_samples_leaf=3, min_samples_split=5, random_state=42, splitter=random; total time=   0.0s\n",
            "[CV] END criterion=gini, max_depth=20, max_features=sqrt, min_samples_leaf=3, min_samples_split=10, random_state=42, splitter=best; total time=   0.0s\n",
            "[CV] END criterion=gini, max_depth=20, max_features=sqrt, min_samples_leaf=3, min_samples_split=10, random_state=42, splitter=best; total time=   0.0s\n",
            "[CV] END criterion=gini, max_depth=20, max_features=sqrt, min_samples_leaf=3, min_samples_split=10, random_state=42, splitter=best; total time=   0.0s\n",
            "[CV] END criterion=gini, max_depth=20, max_features=sqrt, min_samples_leaf=3, min_samples_split=10, random_state=42, splitter=random; total time=   0.0s\n",
            "[CV] END criterion=gini, max_depth=20, max_features=sqrt, min_samples_leaf=3, min_samples_split=10, random_state=42, splitter=random; total time=   0.0s\n",
            "[CV] END criterion=gini, max_depth=20, max_features=sqrt, min_samples_leaf=3, min_samples_split=10, random_state=42, splitter=random; total time=   0.0s\n",
            "[CV] END criterion=gini, max_depth=20, max_features=log2, min_samples_leaf=1, min_samples_split=2, random_state=42, splitter=best; total time=   0.0s\n",
            "[CV] END criterion=gini, max_depth=20, max_features=log2, min_samples_leaf=1, min_samples_split=2, random_state=42, splitter=best; total time=   0.0s\n",
            "[CV] END criterion=gini, max_depth=20, max_features=log2, min_samples_leaf=1, min_samples_split=2, random_state=42, splitter=best; total time=   0.0s\n",
            "[CV] END criterion=gini, max_depth=20, max_features=log2, min_samples_leaf=1, min_samples_split=2, random_state=42, splitter=random; total time=   0.0s\n",
            "[CV] END criterion=gini, max_depth=20, max_features=log2, min_samples_leaf=1, min_samples_split=2, random_state=42, splitter=random; total time=   0.0s\n",
            "[CV] END criterion=gini, max_depth=20, max_features=log2, min_samples_leaf=1, min_samples_split=2, random_state=42, splitter=random; total time=   0.0s\n",
            "[CV] END criterion=gini, max_depth=20, max_features=log2, min_samples_leaf=1, min_samples_split=5, random_state=42, splitter=best; total time=   0.0s\n",
            "[CV] END criterion=gini, max_depth=20, max_features=log2, min_samples_leaf=1, min_samples_split=5, random_state=42, splitter=best; total time=   0.0s\n",
            "[CV] END criterion=gini, max_depth=20, max_features=log2, min_samples_leaf=1, min_samples_split=5, random_state=42, splitter=best; total time=   0.0s\n",
            "[CV] END criterion=gini, max_depth=20, max_features=log2, min_samples_leaf=1, min_samples_split=5, random_state=42, splitter=random; total time=   0.0s\n",
            "[CV] END criterion=gini, max_depth=20, max_features=log2, min_samples_leaf=1, min_samples_split=5, random_state=42, splitter=random; total time=   0.0s\n",
            "[CV] END criterion=gini, max_depth=20, max_features=log2, min_samples_leaf=1, min_samples_split=5, random_state=42, splitter=random; total time=   0.0s\n",
            "[CV] END criterion=gini, max_depth=20, max_features=log2, min_samples_leaf=1, min_samples_split=10, random_state=42, splitter=best; total time=   0.0s\n",
            "[CV] END criterion=gini, max_depth=20, max_features=log2, min_samples_leaf=1, min_samples_split=10, random_state=42, splitter=best; total time=   0.0s\n",
            "[CV] END criterion=gini, max_depth=20, max_features=log2, min_samples_leaf=1, min_samples_split=10, random_state=42, splitter=best; total time=   0.0s\n",
            "[CV] END criterion=gini, max_depth=20, max_features=log2, min_samples_leaf=1, min_samples_split=10, random_state=42, splitter=random; total time=   0.0s\n",
            "[CV] END criterion=gini, max_depth=20, max_features=log2, min_samples_leaf=1, min_samples_split=10, random_state=42, splitter=random; total time=   0.0s\n",
            "[CV] END criterion=gini, max_depth=20, max_features=log2, min_samples_leaf=1, min_samples_split=10, random_state=42, splitter=random; total time=   0.0s\n",
            "[CV] END criterion=gini, max_depth=20, max_features=log2, min_samples_leaf=2, min_samples_split=2, random_state=42, splitter=best; total time=   0.0s\n",
            "[CV] END criterion=gini, max_depth=20, max_features=log2, min_samples_leaf=2, min_samples_split=2, random_state=42, splitter=best; total time=   0.0s\n",
            "[CV] END criterion=gini, max_depth=20, max_features=log2, min_samples_leaf=2, min_samples_split=2, random_state=42, splitter=best; total time=   0.0s\n",
            "[CV] END criterion=gini, max_depth=20, max_features=log2, min_samples_leaf=2, min_samples_split=2, random_state=42, splitter=random; total time=   0.0s\n",
            "[CV] END criterion=gini, max_depth=20, max_features=log2, min_samples_leaf=2, min_samples_split=2, random_state=42, splitter=random; total time=   0.0s\n",
            "[CV] END criterion=gini, max_depth=20, max_features=log2, min_samples_leaf=2, min_samples_split=2, random_state=42, splitter=random; total time=   0.0s\n",
            "[CV] END criterion=gini, max_depth=20, max_features=log2, min_samples_leaf=2, min_samples_split=5, random_state=42, splitter=best; total time=   0.0s\n",
            "[CV] END criterion=gini, max_depth=20, max_features=log2, min_samples_leaf=2, min_samples_split=5, random_state=42, splitter=best; total time=   0.0s\n",
            "[CV] END criterion=gini, max_depth=20, max_features=log2, min_samples_leaf=2, min_samples_split=5, random_state=42, splitter=best; total time=   0.0s\n",
            "[CV] END criterion=gini, max_depth=20, max_features=log2, min_samples_leaf=2, min_samples_split=5, random_state=42, splitter=random; total time=   0.0s\n",
            "[CV] END criterion=gini, max_depth=20, max_features=log2, min_samples_leaf=2, min_samples_split=5, random_state=42, splitter=random; total time=   0.0s\n",
            "[CV] END criterion=gini, max_depth=20, max_features=log2, min_samples_leaf=2, min_samples_split=5, random_state=42, splitter=random; total time=   0.0s\n",
            "[CV] END criterion=gini, max_depth=20, max_features=log2, min_samples_leaf=2, min_samples_split=10, random_state=42, splitter=best; total time=   0.0s\n",
            "[CV] END criterion=gini, max_depth=20, max_features=log2, min_samples_leaf=2, min_samples_split=10, random_state=42, splitter=best; total time=   0.0s\n",
            "[CV] END criterion=gini, max_depth=20, max_features=log2, min_samples_leaf=2, min_samples_split=10, random_state=42, splitter=best; total time=   0.0s\n",
            "[CV] END criterion=gini, max_depth=20, max_features=log2, min_samples_leaf=2, min_samples_split=10, random_state=42, splitter=random; total time=   0.0s\n",
            "[CV] END criterion=gini, max_depth=20, max_features=log2, min_samples_leaf=2, min_samples_split=10, random_state=42, splitter=random; total time=   0.0s\n",
            "[CV] END criterion=gini, max_depth=20, max_features=log2, min_samples_leaf=2, min_samples_split=10, random_state=42, splitter=random; total time=   0.0s\n",
            "[CV] END criterion=gini, max_depth=20, max_features=log2, min_samples_leaf=3, min_samples_split=2, random_state=42, splitter=best; total time=   0.0s\n",
            "[CV] END criterion=gini, max_depth=20, max_features=log2, min_samples_leaf=3, min_samples_split=2, random_state=42, splitter=best; total time=   0.0s\n",
            "[CV] END criterion=gini, max_depth=20, max_features=log2, min_samples_leaf=3, min_samples_split=2, random_state=42, splitter=best; total time=   0.0s\n",
            "[CV] END criterion=gini, max_depth=20, max_features=log2, min_samples_leaf=3, min_samples_split=2, random_state=42, splitter=random; total time=   0.0s\n",
            "[CV] END criterion=gini, max_depth=20, max_features=log2, min_samples_leaf=3, min_samples_split=2, random_state=42, splitter=random; total time=   0.0s\n",
            "[CV] END criterion=gini, max_depth=20, max_features=log2, min_samples_leaf=3, min_samples_split=2, random_state=42, splitter=random; total time=   0.0s\n",
            "[CV] END criterion=gini, max_depth=20, max_features=log2, min_samples_leaf=3, min_samples_split=5, random_state=42, splitter=best; total time=   0.0s\n",
            "[CV] END criterion=gini, max_depth=20, max_features=log2, min_samples_leaf=3, min_samples_split=5, random_state=42, splitter=best; total time=   0.0s\n",
            "[CV] END criterion=gini, max_depth=20, max_features=log2, min_samples_leaf=3, min_samples_split=5, random_state=42, splitter=best; total time=   0.0s\n",
            "[CV] END criterion=gini, max_depth=20, max_features=log2, min_samples_leaf=3, min_samples_split=5, random_state=42, splitter=random; total time=   0.0s\n",
            "[CV] END criterion=gini, max_depth=20, max_features=log2, min_samples_leaf=3, min_samples_split=5, random_state=42, splitter=random; total time=   0.0s\n",
            "[CV] END criterion=gini, max_depth=20, max_features=log2, min_samples_leaf=3, min_samples_split=5, random_state=42, splitter=random; total time=   0.0s\n",
            "[CV] END criterion=gini, max_depth=20, max_features=log2, min_samples_leaf=3, min_samples_split=10, random_state=42, splitter=best; total time=   0.0s\n",
            "[CV] END criterion=gini, max_depth=20, max_features=log2, min_samples_leaf=3, min_samples_split=10, random_state=42, splitter=best; total time=   0.0s\n",
            "[CV] END criterion=gini, max_depth=20, max_features=log2, min_samples_leaf=3, min_samples_split=10, random_state=42, splitter=best; total time=   0.0s\n",
            "[CV] END criterion=gini, max_depth=20, max_features=log2, min_samples_leaf=3, min_samples_split=10, random_state=42, splitter=random; total time=   0.0s\n",
            "[CV] END criterion=gini, max_depth=20, max_features=log2, min_samples_leaf=3, min_samples_split=10, random_state=42, splitter=random; total time=   0.0s\n",
            "[CV] END criterion=gini, max_depth=20, max_features=log2, min_samples_leaf=3, min_samples_split=10, random_state=42, splitter=random; total time=   0.0s\n",
            "[CV] END criterion=entropy, max_depth=None, max_features=None, min_samples_leaf=1, min_samples_split=2, random_state=42, splitter=best; total time=   0.0s\n",
            "[CV] END criterion=entropy, max_depth=None, max_features=None, min_samples_leaf=1, min_samples_split=2, random_state=42, splitter=best; total time=   0.0s\n",
            "[CV] END criterion=entropy, max_depth=None, max_features=None, min_samples_leaf=1, min_samples_split=2, random_state=42, splitter=best; total time=   0.0s\n",
            "[CV] END criterion=entropy, max_depth=None, max_features=None, min_samples_leaf=1, min_samples_split=2, random_state=42, splitter=random; total time=   0.0s\n",
            "[CV] END criterion=entropy, max_depth=None, max_features=None, min_samples_leaf=1, min_samples_split=2, random_state=42, splitter=random; total time=   0.0s\n",
            "[CV] END criterion=entropy, max_depth=None, max_features=None, min_samples_leaf=1, min_samples_split=2, random_state=42, splitter=random; total time=   0.0s\n",
            "[CV] END criterion=entropy, max_depth=None, max_features=None, min_samples_leaf=1, min_samples_split=5, random_state=42, splitter=best; total time=   0.0s\n",
            "[CV] END criterion=entropy, max_depth=None, max_features=None, min_samples_leaf=1, min_samples_split=5, random_state=42, splitter=best; total time=   0.0s\n",
            "[CV] END criterion=entropy, max_depth=None, max_features=None, min_samples_leaf=1, min_samples_split=5, random_state=42, splitter=best; total time=   0.0s\n",
            "[CV] END criterion=entropy, max_depth=None, max_features=None, min_samples_leaf=1, min_samples_split=5, random_state=42, splitter=random; total time=   0.0s\n",
            "[CV] END criterion=entropy, max_depth=None, max_features=None, min_samples_leaf=1, min_samples_split=5, random_state=42, splitter=random; total time=   0.0s\n",
            "[CV] END criterion=entropy, max_depth=None, max_features=None, min_samples_leaf=1, min_samples_split=5, random_state=42, splitter=random; total time=   0.0s\n",
            "[CV] END criterion=entropy, max_depth=None, max_features=None, min_samples_leaf=1, min_samples_split=10, random_state=42, splitter=best; total time=   0.0s\n",
            "[CV] END criterion=entropy, max_depth=None, max_features=None, min_samples_leaf=1, min_samples_split=10, random_state=42, splitter=best; total time=   0.0s\n",
            "[CV] END criterion=entropy, max_depth=None, max_features=None, min_samples_leaf=1, min_samples_split=10, random_state=42, splitter=best; total time=   0.0s\n",
            "[CV] END criterion=entropy, max_depth=None, max_features=None, min_samples_leaf=1, min_samples_split=10, random_state=42, splitter=random; total time=   0.0s\n",
            "[CV] END criterion=entropy, max_depth=None, max_features=None, min_samples_leaf=1, min_samples_split=10, random_state=42, splitter=random; total time=   0.0s\n",
            "[CV] END criterion=entropy, max_depth=None, max_features=None, min_samples_leaf=1, min_samples_split=10, random_state=42, splitter=random; total time=   0.0s\n",
            "[CV] END criterion=entropy, max_depth=None, max_features=None, min_samples_leaf=2, min_samples_split=2, random_state=42, splitter=best; total time=   0.0s\n",
            "[CV] END criterion=entropy, max_depth=None, max_features=None, min_samples_leaf=2, min_samples_split=2, random_state=42, splitter=best; total time=   0.0s\n",
            "[CV] END criterion=entropy, max_depth=None, max_features=None, min_samples_leaf=2, min_samples_split=2, random_state=42, splitter=best; total time=   0.0s\n",
            "[CV] END criterion=entropy, max_depth=None, max_features=None, min_samples_leaf=2, min_samples_split=2, random_state=42, splitter=random; total time=   0.0s\n",
            "[CV] END criterion=entropy, max_depth=None, max_features=None, min_samples_leaf=2, min_samples_split=2, random_state=42, splitter=random; total time=   0.0s\n",
            "[CV] END criterion=entropy, max_depth=None, max_features=None, min_samples_leaf=2, min_samples_split=2, random_state=42, splitter=random; total time=   0.0s\n",
            "[CV] END criterion=entropy, max_depth=None, max_features=None, min_samples_leaf=2, min_samples_split=5, random_state=42, splitter=best; total time=   0.0s\n",
            "[CV] END criterion=entropy, max_depth=None, max_features=None, min_samples_leaf=2, min_samples_split=5, random_state=42, splitter=best; total time=   0.0s\n",
            "[CV] END criterion=entropy, max_depth=None, max_features=None, min_samples_leaf=2, min_samples_split=5, random_state=42, splitter=best; total time=   0.0s\n",
            "[CV] END criterion=entropy, max_depth=None, max_features=None, min_samples_leaf=2, min_samples_split=5, random_state=42, splitter=random; total time=   0.0s\n",
            "[CV] END criterion=entropy, max_depth=None, max_features=None, min_samples_leaf=2, min_samples_split=5, random_state=42, splitter=random; total time=   0.0s\n",
            "[CV] END criterion=entropy, max_depth=None, max_features=None, min_samples_leaf=2, min_samples_split=5, random_state=42, splitter=random; total time=   0.0s\n",
            "[CV] END criterion=entropy, max_depth=None, max_features=None, min_samples_leaf=2, min_samples_split=10, random_state=42, splitter=best; total time=   0.0s\n",
            "[CV] END criterion=entropy, max_depth=None, max_features=None, min_samples_leaf=2, min_samples_split=10, random_state=42, splitter=best; total time=   0.0s\n",
            "[CV] END criterion=entropy, max_depth=None, max_features=None, min_samples_leaf=2, min_samples_split=10, random_state=42, splitter=best; total time=   0.0s\n",
            "[CV] END criterion=entropy, max_depth=None, max_features=None, min_samples_leaf=2, min_samples_split=10, random_state=42, splitter=random; total time=   0.0s\n",
            "[CV] END criterion=entropy, max_depth=None, max_features=None, min_samples_leaf=2, min_samples_split=10, random_state=42, splitter=random; total time=   0.0s\n",
            "[CV] END criterion=entropy, max_depth=None, max_features=None, min_samples_leaf=2, min_samples_split=10, random_state=42, splitter=random; total time=   0.0s\n",
            "[CV] END criterion=entropy, max_depth=None, max_features=None, min_samples_leaf=3, min_samples_split=2, random_state=42, splitter=best; total time=   0.0s\n",
            "[CV] END criterion=entropy, max_depth=None, max_features=None, min_samples_leaf=3, min_samples_split=2, random_state=42, splitter=best; total time=   0.0s\n",
            "[CV] END criterion=entropy, max_depth=None, max_features=None, min_samples_leaf=3, min_samples_split=2, random_state=42, splitter=best; total time=   0.0s\n",
            "[CV] END criterion=entropy, max_depth=None, max_features=None, min_samples_leaf=3, min_samples_split=2, random_state=42, splitter=random; total time=   0.0s\n",
            "[CV] END criterion=entropy, max_depth=None, max_features=None, min_samples_leaf=3, min_samples_split=2, random_state=42, splitter=random; total time=   0.0s\n",
            "[CV] END criterion=entropy, max_depth=None, max_features=None, min_samples_leaf=3, min_samples_split=2, random_state=42, splitter=random; total time=   0.0s\n",
            "[CV] END criterion=entropy, max_depth=None, max_features=None, min_samples_leaf=3, min_samples_split=5, random_state=42, splitter=best; total time=   0.0s\n",
            "[CV] END criterion=entropy, max_depth=None, max_features=None, min_samples_leaf=3, min_samples_split=5, random_state=42, splitter=best; total time=   0.0s\n",
            "[CV] END criterion=entropy, max_depth=None, max_features=None, min_samples_leaf=3, min_samples_split=5, random_state=42, splitter=best; total time=   0.0s\n",
            "[CV] END criterion=entropy, max_depth=None, max_features=None, min_samples_leaf=3, min_samples_split=5, random_state=42, splitter=random; total time=   0.0s\n",
            "[CV] END criterion=entropy, max_depth=None, max_features=None, min_samples_leaf=3, min_samples_split=5, random_state=42, splitter=random; total time=   0.0s\n",
            "[CV] END criterion=entropy, max_depth=None, max_features=None, min_samples_leaf=3, min_samples_split=5, random_state=42, splitter=random; total time=   0.0s\n",
            "[CV] END criterion=entropy, max_depth=None, max_features=None, min_samples_leaf=3, min_samples_split=10, random_state=42, splitter=best; total time=   0.0s\n",
            "[CV] END criterion=entropy, max_depth=None, max_features=None, min_samples_leaf=3, min_samples_split=10, random_state=42, splitter=best; total time=   0.0s\n",
            "[CV] END criterion=entropy, max_depth=None, max_features=None, min_samples_leaf=3, min_samples_split=10, random_state=42, splitter=best; total time=   0.0s\n",
            "[CV] END criterion=entropy, max_depth=None, max_features=None, min_samples_leaf=3, min_samples_split=10, random_state=42, splitter=random; total time=   0.0s\n",
            "[CV] END criterion=entropy, max_depth=None, max_features=None, min_samples_leaf=3, min_samples_split=10, random_state=42, splitter=random; total time=   0.0s\n",
            "[CV] END criterion=entropy, max_depth=None, max_features=None, min_samples_leaf=3, min_samples_split=10, random_state=42, splitter=random; total time=   0.0s\n",
            "[CV] END criterion=entropy, max_depth=None, max_features=sqrt, min_samples_leaf=1, min_samples_split=2, random_state=42, splitter=best; total time=   0.0s\n",
            "[CV] END criterion=entropy, max_depth=None, max_features=sqrt, min_samples_leaf=1, min_samples_split=2, random_state=42, splitter=best; total time=   0.0s\n",
            "[CV] END criterion=entropy, max_depth=None, max_features=sqrt, min_samples_leaf=1, min_samples_split=2, random_state=42, splitter=best; total time=   0.0s\n",
            "[CV] END criterion=entropy, max_depth=None, max_features=sqrt, min_samples_leaf=1, min_samples_split=2, random_state=42, splitter=random; total time=   0.0s\n",
            "[CV] END criterion=entropy, max_depth=None, max_features=sqrt, min_samples_leaf=1, min_samples_split=2, random_state=42, splitter=random; total time=   0.0s\n",
            "[CV] END criterion=entropy, max_depth=None, max_features=sqrt, min_samples_leaf=1, min_samples_split=2, random_state=42, splitter=random; total time=   0.0s\n",
            "[CV] END criterion=entropy, max_depth=None, max_features=sqrt, min_samples_leaf=1, min_samples_split=5, random_state=42, splitter=best; total time=   0.0s\n",
            "[CV] END criterion=entropy, max_depth=None, max_features=sqrt, min_samples_leaf=1, min_samples_split=5, random_state=42, splitter=best; total time=   0.0s\n",
            "[CV] END criterion=entropy, max_depth=None, max_features=sqrt, min_samples_leaf=1, min_samples_split=5, random_state=42, splitter=best; total time=   0.0s\n",
            "[CV] END criterion=entropy, max_depth=None, max_features=sqrt, min_samples_leaf=1, min_samples_split=5, random_state=42, splitter=random; total time=   0.0s\n",
            "[CV] END criterion=entropy, max_depth=None, max_features=sqrt, min_samples_leaf=1, min_samples_split=5, random_state=42, splitter=random; total time=   0.0s\n",
            "[CV] END criterion=entropy, max_depth=None, max_features=sqrt, min_samples_leaf=1, min_samples_split=5, random_state=42, splitter=random; total time=   0.0s\n",
            "[CV] END criterion=entropy, max_depth=None, max_features=sqrt, min_samples_leaf=1, min_samples_split=10, random_state=42, splitter=best; total time=   0.0s\n",
            "[CV] END criterion=entropy, max_depth=None, max_features=sqrt, min_samples_leaf=1, min_samples_split=10, random_state=42, splitter=best; total time=   0.0s\n",
            "[CV] END criterion=entropy, max_depth=None, max_features=sqrt, min_samples_leaf=1, min_samples_split=10, random_state=42, splitter=best; total time=   0.0s\n",
            "[CV] END criterion=entropy, max_depth=None, max_features=sqrt, min_samples_leaf=1, min_samples_split=10, random_state=42, splitter=random; total time=   0.0s\n",
            "[CV] END criterion=entropy, max_depth=None, max_features=sqrt, min_samples_leaf=1, min_samples_split=10, random_state=42, splitter=random; total time=   0.0s\n",
            "[CV] END criterion=entropy, max_depth=None, max_features=sqrt, min_samples_leaf=1, min_samples_split=10, random_state=42, splitter=random; total time=   0.0s\n",
            "[CV] END criterion=entropy, max_depth=None, max_features=sqrt, min_samples_leaf=2, min_samples_split=2, random_state=42, splitter=best; total time=   0.0s\n",
            "[CV] END criterion=entropy, max_depth=None, max_features=sqrt, min_samples_leaf=2, min_samples_split=2, random_state=42, splitter=best; total time=   0.0s\n",
            "[CV] END criterion=entropy, max_depth=None, max_features=sqrt, min_samples_leaf=2, min_samples_split=2, random_state=42, splitter=best; total time=   0.0s\n",
            "[CV] END criterion=entropy, max_depth=None, max_features=sqrt, min_samples_leaf=2, min_samples_split=2, random_state=42, splitter=random; total time=   0.0s\n",
            "[CV] END criterion=entropy, max_depth=None, max_features=sqrt, min_samples_leaf=2, min_samples_split=2, random_state=42, splitter=random; total time=   0.0s\n",
            "[CV] END criterion=entropy, max_depth=None, max_features=sqrt, min_samples_leaf=2, min_samples_split=2, random_state=42, splitter=random; total time=   0.0s\n",
            "[CV] END criterion=entropy, max_depth=None, max_features=sqrt, min_samples_leaf=2, min_samples_split=5, random_state=42, splitter=best; total time=   0.0s\n",
            "[CV] END criterion=entropy, max_depth=None, max_features=sqrt, min_samples_leaf=2, min_samples_split=5, random_state=42, splitter=best; total time=   0.0s\n",
            "[CV] END criterion=entropy, max_depth=None, max_features=sqrt, min_samples_leaf=2, min_samples_split=5, random_state=42, splitter=best; total time=   0.0s\n",
            "[CV] END criterion=entropy, max_depth=None, max_features=sqrt, min_samples_leaf=2, min_samples_split=5, random_state=42, splitter=random; total time=   0.0s\n",
            "[CV] END criterion=entropy, max_depth=None, max_features=sqrt, min_samples_leaf=2, min_samples_split=5, random_state=42, splitter=random; total time=   0.0s\n",
            "[CV] END criterion=entropy, max_depth=None, max_features=sqrt, min_samples_leaf=2, min_samples_split=5, random_state=42, splitter=random; total time=   0.0s\n",
            "[CV] END criterion=entropy, max_depth=None, max_features=sqrt, min_samples_leaf=2, min_samples_split=10, random_state=42, splitter=best; total time=   0.0s\n",
            "[CV] END criterion=entropy, max_depth=None, max_features=sqrt, min_samples_leaf=2, min_samples_split=10, random_state=42, splitter=best; total time=   0.0s\n",
            "[CV] END criterion=entropy, max_depth=None, max_features=sqrt, min_samples_leaf=2, min_samples_split=10, random_state=42, splitter=best; total time=   0.0s\n",
            "[CV] END criterion=entropy, max_depth=None, max_features=sqrt, min_samples_leaf=2, min_samples_split=10, random_state=42, splitter=random; total time=   0.0s\n",
            "[CV] END criterion=entropy, max_depth=None, max_features=sqrt, min_samples_leaf=2, min_samples_split=10, random_state=42, splitter=random; total time=   0.0s\n",
            "[CV] END criterion=entropy, max_depth=None, max_features=sqrt, min_samples_leaf=2, min_samples_split=10, random_state=42, splitter=random; total time=   0.0s\n",
            "[CV] END criterion=entropy, max_depth=None, max_features=sqrt, min_samples_leaf=3, min_samples_split=2, random_state=42, splitter=best; total time=   0.0s\n",
            "[CV] END criterion=entropy, max_depth=None, max_features=sqrt, min_samples_leaf=3, min_samples_split=2, random_state=42, splitter=best; total time=   0.0s\n",
            "[CV] END criterion=entropy, max_depth=None, max_features=sqrt, min_samples_leaf=3, min_samples_split=2, random_state=42, splitter=best; total time=   0.0s\n",
            "[CV] END criterion=entropy, max_depth=None, max_features=sqrt, min_samples_leaf=3, min_samples_split=2, random_state=42, splitter=random; total time=   0.0s\n",
            "[CV] END criterion=entropy, max_depth=None, max_features=sqrt, min_samples_leaf=3, min_samples_split=2, random_state=42, splitter=random; total time=   0.0s\n",
            "[CV] END criterion=entropy, max_depth=None, max_features=sqrt, min_samples_leaf=3, min_samples_split=2, random_state=42, splitter=random; total time=   0.0s\n",
            "[CV] END criterion=entropy, max_depth=None, max_features=sqrt, min_samples_leaf=3, min_samples_split=5, random_state=42, splitter=best; total time=   0.0s\n",
            "[CV] END criterion=entropy, max_depth=None, max_features=sqrt, min_samples_leaf=3, min_samples_split=5, random_state=42, splitter=best; total time=   0.0s\n",
            "[CV] END criterion=entropy, max_depth=None, max_features=sqrt, min_samples_leaf=3, min_samples_split=5, random_state=42, splitter=best; total time=   0.0s\n",
            "[CV] END criterion=entropy, max_depth=None, max_features=sqrt, min_samples_leaf=3, min_samples_split=5, random_state=42, splitter=random; total time=   0.0s\n",
            "[CV] END criterion=entropy, max_depth=None, max_features=sqrt, min_samples_leaf=3, min_samples_split=5, random_state=42, splitter=random; total time=   0.0s\n",
            "[CV] END criterion=entropy, max_depth=None, max_features=sqrt, min_samples_leaf=3, min_samples_split=5, random_state=42, splitter=random; total time=   0.0s\n",
            "[CV] END criterion=entropy, max_depth=None, max_features=sqrt, min_samples_leaf=3, min_samples_split=10, random_state=42, splitter=best; total time=   0.0s\n",
            "[CV] END criterion=entropy, max_depth=None, max_features=sqrt, min_samples_leaf=3, min_samples_split=10, random_state=42, splitter=best; total time=   0.0s\n",
            "[CV] END criterion=entropy, max_depth=None, max_features=sqrt, min_samples_leaf=3, min_samples_split=10, random_state=42, splitter=best; total time=   0.0s\n",
            "[CV] END criterion=entropy, max_depth=None, max_features=sqrt, min_samples_leaf=3, min_samples_split=10, random_state=42, splitter=random; total time=   0.0s\n",
            "[CV] END criterion=entropy, max_depth=None, max_features=sqrt, min_samples_leaf=3, min_samples_split=10, random_state=42, splitter=random; total time=   0.0s\n",
            "[CV] END criterion=entropy, max_depth=None, max_features=sqrt, min_samples_leaf=3, min_samples_split=10, random_state=42, splitter=random; total time=   0.0s\n",
            "[CV] END criterion=entropy, max_depth=None, max_features=log2, min_samples_leaf=1, min_samples_split=2, random_state=42, splitter=best; total time=   0.0s\n",
            "[CV] END criterion=entropy, max_depth=None, max_features=log2, min_samples_leaf=1, min_samples_split=2, random_state=42, splitter=best; total time=   0.0s\n",
            "[CV] END criterion=entropy, max_depth=None, max_features=log2, min_samples_leaf=1, min_samples_split=2, random_state=42, splitter=best; total time=   0.0s\n",
            "[CV] END criterion=entropy, max_depth=None, max_features=log2, min_samples_leaf=1, min_samples_split=2, random_state=42, splitter=random; total time=   0.0s\n",
            "[CV] END criterion=entropy, max_depth=None, max_features=log2, min_samples_leaf=1, min_samples_split=2, random_state=42, splitter=random; total time=   0.0s\n",
            "[CV] END criterion=entropy, max_depth=None, max_features=log2, min_samples_leaf=1, min_samples_split=2, random_state=42, splitter=random; total time=   0.0s\n",
            "[CV] END criterion=entropy, max_depth=None, max_features=log2, min_samples_leaf=1, min_samples_split=5, random_state=42, splitter=best; total time=   0.0s\n",
            "[CV] END criterion=entropy, max_depth=None, max_features=log2, min_samples_leaf=1, min_samples_split=5, random_state=42, splitter=best; total time=   0.0s\n",
            "[CV] END criterion=entropy, max_depth=None, max_features=log2, min_samples_leaf=1, min_samples_split=5, random_state=42, splitter=best; total time=   0.0s\n",
            "[CV] END criterion=entropy, max_depth=None, max_features=log2, min_samples_leaf=1, min_samples_split=5, random_state=42, splitter=random; total time=   0.0s\n",
            "[CV] END criterion=entropy, max_depth=None, max_features=log2, min_samples_leaf=1, min_samples_split=5, random_state=42, splitter=random; total time=   0.0s\n",
            "[CV] END criterion=entropy, max_depth=None, max_features=log2, min_samples_leaf=1, min_samples_split=5, random_state=42, splitter=random; total time=   0.0s\n",
            "[CV] END criterion=entropy, max_depth=None, max_features=log2, min_samples_leaf=1, min_samples_split=10, random_state=42, splitter=best; total time=   0.0s\n",
            "[CV] END criterion=entropy, max_depth=None, max_features=log2, min_samples_leaf=1, min_samples_split=10, random_state=42, splitter=best; total time=   0.0s\n",
            "[CV] END criterion=entropy, max_depth=None, max_features=log2, min_samples_leaf=1, min_samples_split=10, random_state=42, splitter=best; total time=   0.0s\n",
            "[CV] END criterion=entropy, max_depth=None, max_features=log2, min_samples_leaf=1, min_samples_split=10, random_state=42, splitter=random; total time=   0.0s\n",
            "[CV] END criterion=entropy, max_depth=None, max_features=log2, min_samples_leaf=1, min_samples_split=10, random_state=42, splitter=random; total time=   0.3s\n",
            "[CV] END criterion=entropy, max_depth=None, max_features=log2, min_samples_leaf=1, min_samples_split=10, random_state=42, splitter=random; total time=   0.0s\n",
            "[CV] END criterion=entropy, max_depth=None, max_features=log2, min_samples_leaf=2, min_samples_split=2, random_state=42, splitter=best; total time=   0.0s\n",
            "[CV] END criterion=entropy, max_depth=None, max_features=log2, min_samples_leaf=2, min_samples_split=2, random_state=42, splitter=best; total time=   0.0s\n",
            "[CV] END criterion=entropy, max_depth=None, max_features=log2, min_samples_leaf=2, min_samples_split=2, random_state=42, splitter=best; total time=   0.0s\n",
            "[CV] END criterion=entropy, max_depth=None, max_features=log2, min_samples_leaf=2, min_samples_split=2, random_state=42, splitter=random; total time=   0.0s\n",
            "[CV] END criterion=entropy, max_depth=None, max_features=log2, min_samples_leaf=2, min_samples_split=2, random_state=42, splitter=random; total time=   0.0s\n",
            "[CV] END criterion=entropy, max_depth=None, max_features=log2, min_samples_leaf=2, min_samples_split=2, random_state=42, splitter=random; total time=   0.0s\n",
            "[CV] END criterion=entropy, max_depth=None, max_features=log2, min_samples_leaf=2, min_samples_split=5, random_state=42, splitter=best; total time=   0.0s\n",
            "[CV] END criterion=entropy, max_depth=None, max_features=log2, min_samples_leaf=2, min_samples_split=5, random_state=42, splitter=best; total time=   0.0s\n",
            "[CV] END criterion=entropy, max_depth=None, max_features=log2, min_samples_leaf=2, min_samples_split=5, random_state=42, splitter=best; total time=   0.0s\n",
            "[CV] END criterion=entropy, max_depth=None, max_features=log2, min_samples_leaf=2, min_samples_split=5, random_state=42, splitter=random; total time=   0.0s\n",
            "[CV] END criterion=entropy, max_depth=None, max_features=log2, min_samples_leaf=2, min_samples_split=5, random_state=42, splitter=random; total time=   0.0s\n",
            "[CV] END criterion=entropy, max_depth=None, max_features=log2, min_samples_leaf=2, min_samples_split=5, random_state=42, splitter=random; total time=   0.0s\n",
            "[CV] END criterion=entropy, max_depth=None, max_features=log2, min_samples_leaf=2, min_samples_split=10, random_state=42, splitter=best; total time=   0.0s\n",
            "[CV] END criterion=entropy, max_depth=None, max_features=log2, min_samples_leaf=2, min_samples_split=10, random_state=42, splitter=best; total time=   0.0s\n",
            "[CV] END criterion=entropy, max_depth=None, max_features=log2, min_samples_leaf=2, min_samples_split=10, random_state=42, splitter=best; total time=   0.0s\n",
            "[CV] END criterion=entropy, max_depth=None, max_features=log2, min_samples_leaf=2, min_samples_split=10, random_state=42, splitter=random; total time=   0.0s\n",
            "[CV] END criterion=entropy, max_depth=None, max_features=log2, min_samples_leaf=2, min_samples_split=10, random_state=42, splitter=random; total time=   0.0s\n",
            "[CV] END criterion=entropy, max_depth=None, max_features=log2, min_samples_leaf=2, min_samples_split=10, random_state=42, splitter=random; total time=   0.0s\n",
            "[CV] END criterion=entropy, max_depth=None, max_features=log2, min_samples_leaf=3, min_samples_split=2, random_state=42, splitter=best; total time=   0.0s\n",
            "[CV] END criterion=entropy, max_depth=None, max_features=log2, min_samples_leaf=3, min_samples_split=2, random_state=42, splitter=best; total time=   0.0s\n",
            "[CV] END criterion=entropy, max_depth=None, max_features=log2, min_samples_leaf=3, min_samples_split=2, random_state=42, splitter=best; total time=   0.0s\n",
            "[CV] END criterion=entropy, max_depth=None, max_features=log2, min_samples_leaf=3, min_samples_split=2, random_state=42, splitter=random; total time=   0.0s\n",
            "[CV] END criterion=entropy, max_depth=None, max_features=log2, min_samples_leaf=3, min_samples_split=2, random_state=42, splitter=random; total time=   0.0s\n",
            "[CV] END criterion=entropy, max_depth=None, max_features=log2, min_samples_leaf=3, min_samples_split=2, random_state=42, splitter=random; total time=   0.0s\n",
            "[CV] END criterion=entropy, max_depth=None, max_features=log2, min_samples_leaf=3, min_samples_split=5, random_state=42, splitter=best; total time=   0.0s\n",
            "[CV] END criterion=entropy, max_depth=None, max_features=log2, min_samples_leaf=3, min_samples_split=5, random_state=42, splitter=best; total time=   0.0s\n",
            "[CV] END criterion=entropy, max_depth=None, max_features=log2, min_samples_leaf=3, min_samples_split=5, random_state=42, splitter=best; total time=   0.0s\n",
            "[CV] END criterion=entropy, max_depth=None, max_features=log2, min_samples_leaf=3, min_samples_split=5, random_state=42, splitter=random; total time=   0.0s\n",
            "[CV] END criterion=entropy, max_depth=None, max_features=log2, min_samples_leaf=3, min_samples_split=5, random_state=42, splitter=random; total time=   0.0s\n",
            "[CV] END criterion=entropy, max_depth=None, max_features=log2, min_samples_leaf=3, min_samples_split=5, random_state=42, splitter=random; total time=   0.0s\n",
            "[CV] END criterion=entropy, max_depth=None, max_features=log2, min_samples_leaf=3, min_samples_split=10, random_state=42, splitter=best; total time=   0.0s\n",
            "[CV] END criterion=entropy, max_depth=None, max_features=log2, min_samples_leaf=3, min_samples_split=10, random_state=42, splitter=best; total time=   0.0s\n",
            "[CV] END criterion=entropy, max_depth=None, max_features=log2, min_samples_leaf=3, min_samples_split=10, random_state=42, splitter=best; total time=   0.0s\n",
            "[CV] END criterion=entropy, max_depth=None, max_features=log2, min_samples_leaf=3, min_samples_split=10, random_state=42, splitter=random; total time=   0.0s\n",
            "[CV] END criterion=entropy, max_depth=None, max_features=log2, min_samples_leaf=3, min_samples_split=10, random_state=42, splitter=random; total time=   0.0s\n",
            "[CV] END criterion=entropy, max_depth=None, max_features=log2, min_samples_leaf=3, min_samples_split=10, random_state=42, splitter=random; total time=   0.0s\n",
            "[CV] END criterion=entropy, max_depth=5, max_features=None, min_samples_leaf=1, min_samples_split=2, random_state=42, splitter=best; total time=   0.0s\n",
            "[CV] END criterion=entropy, max_depth=5, max_features=None, min_samples_leaf=1, min_samples_split=2, random_state=42, splitter=best; total time=   0.0s\n",
            "[CV] END criterion=entropy, max_depth=5, max_features=None, min_samples_leaf=1, min_samples_split=2, random_state=42, splitter=best; total time=   0.0s\n",
            "[CV] END criterion=entropy, max_depth=5, max_features=None, min_samples_leaf=1, min_samples_split=2, random_state=42, splitter=random; total time=   0.0s\n",
            "[CV] END criterion=entropy, max_depth=5, max_features=None, min_samples_leaf=1, min_samples_split=2, random_state=42, splitter=random; total time=   0.0s\n",
            "[CV] END criterion=entropy, max_depth=5, max_features=None, min_samples_leaf=1, min_samples_split=2, random_state=42, splitter=random; total time=   0.0s\n",
            "[CV] END criterion=entropy, max_depth=5, max_features=None, min_samples_leaf=1, min_samples_split=5, random_state=42, splitter=best; total time=   0.0s\n",
            "[CV] END criterion=entropy, max_depth=5, max_features=None, min_samples_leaf=1, min_samples_split=5, random_state=42, splitter=best; total time=   0.0s\n",
            "[CV] END criterion=entropy, max_depth=5, max_features=None, min_samples_leaf=1, min_samples_split=5, random_state=42, splitter=best; total time=   0.0s\n",
            "[CV] END criterion=entropy, max_depth=5, max_features=None, min_samples_leaf=1, min_samples_split=5, random_state=42, splitter=random; total time=   0.0s\n",
            "[CV] END criterion=entropy, max_depth=5, max_features=None, min_samples_leaf=1, min_samples_split=5, random_state=42, splitter=random; total time=   0.0s\n",
            "[CV] END criterion=entropy, max_depth=5, max_features=None, min_samples_leaf=1, min_samples_split=5, random_state=42, splitter=random; total time=   0.0s\n",
            "[CV] END criterion=entropy, max_depth=5, max_features=None, min_samples_leaf=1, min_samples_split=10, random_state=42, splitter=best; total time=   0.0s\n",
            "[CV] END criterion=entropy, max_depth=5, max_features=None, min_samples_leaf=1, min_samples_split=10, random_state=42, splitter=best; total time=   0.0s\n",
            "[CV] END criterion=entropy, max_depth=5, max_features=None, min_samples_leaf=1, min_samples_split=10, random_state=42, splitter=best; total time=   0.0s\n",
            "[CV] END criterion=entropy, max_depth=5, max_features=None, min_samples_leaf=1, min_samples_split=10, random_state=42, splitter=random; total time=   0.0s\n",
            "[CV] END criterion=entropy, max_depth=5, max_features=None, min_samples_leaf=1, min_samples_split=10, random_state=42, splitter=random; total time=   0.0s\n",
            "[CV] END criterion=entropy, max_depth=5, max_features=None, min_samples_leaf=1, min_samples_split=10, random_state=42, splitter=random; total time=   0.0s\n",
            "[CV] END criterion=entropy, max_depth=5, max_features=None, min_samples_leaf=2, min_samples_split=2, random_state=42, splitter=best; total time=   0.0s\n",
            "[CV] END criterion=entropy, max_depth=5, max_features=None, min_samples_leaf=2, min_samples_split=2, random_state=42, splitter=best; total time=   0.0s\n",
            "[CV] END criterion=entropy, max_depth=5, max_features=None, min_samples_leaf=2, min_samples_split=2, random_state=42, splitter=best; total time=   0.0s\n",
            "[CV] END criterion=entropy, max_depth=5, max_features=None, min_samples_leaf=2, min_samples_split=2, random_state=42, splitter=random; total time=   0.0s\n",
            "[CV] END criterion=entropy, max_depth=5, max_features=None, min_samples_leaf=2, min_samples_split=2, random_state=42, splitter=random; total time=   0.0s\n",
            "[CV] END criterion=entropy, max_depth=5, max_features=None, min_samples_leaf=2, min_samples_split=2, random_state=42, splitter=random; total time=   0.0s\n",
            "[CV] END criterion=entropy, max_depth=5, max_features=None, min_samples_leaf=2, min_samples_split=5, random_state=42, splitter=best; total time=   0.0s\n",
            "[CV] END criterion=entropy, max_depth=5, max_features=None, min_samples_leaf=2, min_samples_split=5, random_state=42, splitter=best; total time=   0.0s\n",
            "[CV] END criterion=entropy, max_depth=5, max_features=None, min_samples_leaf=2, min_samples_split=5, random_state=42, splitter=best; total time=   0.0s\n",
            "[CV] END criterion=entropy, max_depth=5, max_features=None, min_samples_leaf=2, min_samples_split=5, random_state=42, splitter=random; total time=   0.0s\n",
            "[CV] END criterion=entropy, max_depth=5, max_features=None, min_samples_leaf=2, min_samples_split=5, random_state=42, splitter=random; total time=   0.0s\n",
            "[CV] END criterion=entropy, max_depth=5, max_features=None, min_samples_leaf=2, min_samples_split=5, random_state=42, splitter=random; total time=   0.0s\n",
            "[CV] END criterion=entropy, max_depth=5, max_features=None, min_samples_leaf=2, min_samples_split=10, random_state=42, splitter=best; total time=   0.0s\n",
            "[CV] END criterion=entropy, max_depth=5, max_features=None, min_samples_leaf=2, min_samples_split=10, random_state=42, splitter=best; total time=   0.0s\n",
            "[CV] END criterion=entropy, max_depth=5, max_features=None, min_samples_leaf=2, min_samples_split=10, random_state=42, splitter=best; total time=   0.0s\n",
            "[CV] END criterion=entropy, max_depth=5, max_features=None, min_samples_leaf=2, min_samples_split=10, random_state=42, splitter=random; total time=   0.0s\n",
            "[CV] END criterion=entropy, max_depth=5, max_features=None, min_samples_leaf=2, min_samples_split=10, random_state=42, splitter=random; total time=   0.0s\n",
            "[CV] END criterion=entropy, max_depth=5, max_features=None, min_samples_leaf=2, min_samples_split=10, random_state=42, splitter=random; total time=   0.0s\n",
            "[CV] END criterion=entropy, max_depth=5, max_features=None, min_samples_leaf=3, min_samples_split=2, random_state=42, splitter=best; total time=   0.0s\n",
            "[CV] END criterion=entropy, max_depth=5, max_features=None, min_samples_leaf=3, min_samples_split=2, random_state=42, splitter=best; total time=   0.0s\n",
            "[CV] END criterion=entropy, max_depth=5, max_features=None, min_samples_leaf=3, min_samples_split=2, random_state=42, splitter=best; total time=   0.0s\n",
            "[CV] END criterion=entropy, max_depth=5, max_features=None, min_samples_leaf=3, min_samples_split=2, random_state=42, splitter=random; total time=   0.0s\n",
            "[CV] END criterion=entropy, max_depth=5, max_features=None, min_samples_leaf=3, min_samples_split=2, random_state=42, splitter=random; total time=   0.0s\n",
            "[CV] END criterion=entropy, max_depth=5, max_features=None, min_samples_leaf=3, min_samples_split=2, random_state=42, splitter=random; total time=   0.0s\n",
            "[CV] END criterion=entropy, max_depth=5, max_features=None, min_samples_leaf=3, min_samples_split=5, random_state=42, splitter=best; total time=   0.0s\n",
            "[CV] END criterion=entropy, max_depth=5, max_features=None, min_samples_leaf=3, min_samples_split=5, random_state=42, splitter=best; total time=   0.0s\n",
            "[CV] END criterion=entropy, max_depth=5, max_features=None, min_samples_leaf=3, min_samples_split=5, random_state=42, splitter=best; total time=   0.0s\n",
            "[CV] END criterion=entropy, max_depth=5, max_features=None, min_samples_leaf=3, min_samples_split=5, random_state=42, splitter=random; total time=   0.0s\n",
            "[CV] END criterion=entropy, max_depth=5, max_features=None, min_samples_leaf=3, min_samples_split=5, random_state=42, splitter=random; total time=   0.0s\n",
            "[CV] END criterion=entropy, max_depth=5, max_features=None, min_samples_leaf=3, min_samples_split=5, random_state=42, splitter=random; total time=   0.0s\n",
            "[CV] END criterion=entropy, max_depth=5, max_features=None, min_samples_leaf=3, min_samples_split=10, random_state=42, splitter=best; total time=   0.0s\n",
            "[CV] END criterion=entropy, max_depth=5, max_features=None, min_samples_leaf=3, min_samples_split=10, random_state=42, splitter=best; total time=   0.0s\n",
            "[CV] END criterion=entropy, max_depth=5, max_features=None, min_samples_leaf=3, min_samples_split=10, random_state=42, splitter=best; total time=   0.0s\n",
            "[CV] END criterion=entropy, max_depth=5, max_features=None, min_samples_leaf=3, min_samples_split=10, random_state=42, splitter=random; total time=   0.0s\n",
            "[CV] END criterion=entropy, max_depth=5, max_features=None, min_samples_leaf=3, min_samples_split=10, random_state=42, splitter=random; total time=   0.0s\n",
            "[CV] END criterion=entropy, max_depth=5, max_features=None, min_samples_leaf=3, min_samples_split=10, random_state=42, splitter=random; total time=   0.0s\n",
            "[CV] END criterion=entropy, max_depth=5, max_features=sqrt, min_samples_leaf=1, min_samples_split=2, random_state=42, splitter=best; total time=   0.0s\n",
            "[CV] END criterion=entropy, max_depth=5, max_features=sqrt, min_samples_leaf=1, min_samples_split=2, random_state=42, splitter=best; total time=   0.0s\n",
            "[CV] END criterion=entropy, max_depth=5, max_features=sqrt, min_samples_leaf=1, min_samples_split=2, random_state=42, splitter=best; total time=   0.0s\n",
            "[CV] END criterion=entropy, max_depth=5, max_features=sqrt, min_samples_leaf=1, min_samples_split=2, random_state=42, splitter=random; total time=   0.0s\n",
            "[CV] END criterion=entropy, max_depth=5, max_features=sqrt, min_samples_leaf=1, min_samples_split=2, random_state=42, splitter=random; total time=   0.0s\n",
            "[CV] END criterion=entropy, max_depth=5, max_features=sqrt, min_samples_leaf=1, min_samples_split=2, random_state=42, splitter=random; total time=   0.0s\n",
            "[CV] END criterion=entropy, max_depth=5, max_features=sqrt, min_samples_leaf=1, min_samples_split=5, random_state=42, splitter=best; total time=   0.0s\n",
            "[CV] END criterion=entropy, max_depth=5, max_features=sqrt, min_samples_leaf=1, min_samples_split=5, random_state=42, splitter=best; total time=   0.0s\n",
            "[CV] END criterion=entropy, max_depth=5, max_features=sqrt, min_samples_leaf=1, min_samples_split=5, random_state=42, splitter=best; total time=   0.0s\n",
            "[CV] END criterion=entropy, max_depth=5, max_features=sqrt, min_samples_leaf=1, min_samples_split=5, random_state=42, splitter=random; total time=   0.0s\n",
            "[CV] END criterion=entropy, max_depth=5, max_features=sqrt, min_samples_leaf=1, min_samples_split=5, random_state=42, splitter=random; total time=   0.0s\n",
            "[CV] END criterion=entropy, max_depth=5, max_features=sqrt, min_samples_leaf=1, min_samples_split=5, random_state=42, splitter=random; total time=   0.0s\n",
            "[CV] END criterion=entropy, max_depth=5, max_features=sqrt, min_samples_leaf=1, min_samples_split=10, random_state=42, splitter=best; total time=   0.0s\n",
            "[CV] END criterion=entropy, max_depth=5, max_features=sqrt, min_samples_leaf=1, min_samples_split=10, random_state=42, splitter=best; total time=   0.0s\n",
            "[CV] END criterion=entropy, max_depth=5, max_features=sqrt, min_samples_leaf=1, min_samples_split=10, random_state=42, splitter=best; total time=   0.0s\n",
            "[CV] END criterion=entropy, max_depth=5, max_features=sqrt, min_samples_leaf=1, min_samples_split=10, random_state=42, splitter=random; total time=   0.0s\n",
            "[CV] END criterion=entropy, max_depth=5, max_features=sqrt, min_samples_leaf=1, min_samples_split=10, random_state=42, splitter=random; total time=   0.0s\n",
            "[CV] END criterion=entropy, max_depth=5, max_features=sqrt, min_samples_leaf=1, min_samples_split=10, random_state=42, splitter=random; total time=   0.0s\n",
            "[CV] END criterion=entropy, max_depth=5, max_features=sqrt, min_samples_leaf=2, min_samples_split=2, random_state=42, splitter=best; total time=   0.0s\n",
            "[CV] END criterion=entropy, max_depth=5, max_features=sqrt, min_samples_leaf=2, min_samples_split=2, random_state=42, splitter=best; total time=   0.0s\n",
            "[CV] END criterion=entropy, max_depth=5, max_features=sqrt, min_samples_leaf=2, min_samples_split=2, random_state=42, splitter=best; total time=   0.0s\n",
            "[CV] END criterion=entropy, max_depth=5, max_features=sqrt, min_samples_leaf=2, min_samples_split=2, random_state=42, splitter=random; total time=   0.0s\n",
            "[CV] END criterion=entropy, max_depth=5, max_features=sqrt, min_samples_leaf=2, min_samples_split=2, random_state=42, splitter=random; total time=   0.0s\n",
            "[CV] END criterion=entropy, max_depth=5, max_features=sqrt, min_samples_leaf=2, min_samples_split=2, random_state=42, splitter=random; total time=   0.0s\n",
            "[CV] END criterion=entropy, max_depth=5, max_features=sqrt, min_samples_leaf=2, min_samples_split=5, random_state=42, splitter=best; total time=   0.0s\n",
            "[CV] END criterion=entropy, max_depth=5, max_features=sqrt, min_samples_leaf=2, min_samples_split=5, random_state=42, splitter=best; total time=   0.0s\n",
            "[CV] END criterion=entropy, max_depth=5, max_features=sqrt, min_samples_leaf=2, min_samples_split=5, random_state=42, splitter=best; total time=   0.0s\n",
            "[CV] END criterion=entropy, max_depth=5, max_features=sqrt, min_samples_leaf=2, min_samples_split=5, random_state=42, splitter=random; total time=   0.0s\n",
            "[CV] END criterion=entropy, max_depth=5, max_features=sqrt, min_samples_leaf=2, min_samples_split=5, random_state=42, splitter=random; total time=   0.0s\n",
            "[CV] END criterion=entropy, max_depth=5, max_features=sqrt, min_samples_leaf=2, min_samples_split=5, random_state=42, splitter=random; total time=   0.0s\n",
            "[CV] END criterion=entropy, max_depth=5, max_features=sqrt, min_samples_leaf=2, min_samples_split=10, random_state=42, splitter=best; total time=   0.0s\n",
            "[CV] END criterion=entropy, max_depth=5, max_features=sqrt, min_samples_leaf=2, min_samples_split=10, random_state=42, splitter=best; total time=   0.0s\n",
            "[CV] END criterion=entropy, max_depth=5, max_features=sqrt, min_samples_leaf=2, min_samples_split=10, random_state=42, splitter=best; total time=   0.0s\n",
            "[CV] END criterion=entropy, max_depth=5, max_features=sqrt, min_samples_leaf=2, min_samples_split=10, random_state=42, splitter=random; total time=   0.0s\n",
            "[CV] END criterion=entropy, max_depth=5, max_features=sqrt, min_samples_leaf=2, min_samples_split=10, random_state=42, splitter=random; total time=   0.0s\n",
            "[CV] END criterion=entropy, max_depth=5, max_features=sqrt, min_samples_leaf=2, min_samples_split=10, random_state=42, splitter=random; total time=   0.0s\n",
            "[CV] END criterion=entropy, max_depth=5, max_features=sqrt, min_samples_leaf=3, min_samples_split=2, random_state=42, splitter=best; total time=   0.0s\n",
            "[CV] END criterion=entropy, max_depth=5, max_features=sqrt, min_samples_leaf=3, min_samples_split=2, random_state=42, splitter=best; total time=   0.0s\n",
            "[CV] END criterion=entropy, max_depth=5, max_features=sqrt, min_samples_leaf=3, min_samples_split=2, random_state=42, splitter=best; total time=   0.0s\n",
            "[CV] END criterion=entropy, max_depth=5, max_features=sqrt, min_samples_leaf=3, min_samples_split=2, random_state=42, splitter=random; total time=   0.0s\n",
            "[CV] END criterion=entropy, max_depth=5, max_features=sqrt, min_samples_leaf=3, min_samples_split=2, random_state=42, splitter=random; total time=   0.0s\n",
            "[CV] END criterion=entropy, max_depth=5, max_features=sqrt, min_samples_leaf=3, min_samples_split=2, random_state=42, splitter=random; total time=   0.0s\n",
            "[CV] END criterion=entropy, max_depth=5, max_features=sqrt, min_samples_leaf=3, min_samples_split=5, random_state=42, splitter=best; total time=   0.0s\n",
            "[CV] END criterion=entropy, max_depth=5, max_features=sqrt, min_samples_leaf=3, min_samples_split=5, random_state=42, splitter=best; total time=   0.0s\n",
            "[CV] END criterion=entropy, max_depth=5, max_features=sqrt, min_samples_leaf=3, min_samples_split=5, random_state=42, splitter=best; total time=   0.0s\n",
            "[CV] END criterion=entropy, max_depth=5, max_features=sqrt, min_samples_leaf=3, min_samples_split=5, random_state=42, splitter=random; total time=   0.0s\n",
            "[CV] END criterion=entropy, max_depth=5, max_features=sqrt, min_samples_leaf=3, min_samples_split=5, random_state=42, splitter=random; total time=   0.0s\n",
            "[CV] END criterion=entropy, max_depth=5, max_features=sqrt, min_samples_leaf=3, min_samples_split=5, random_state=42, splitter=random; total time=   0.0s\n",
            "[CV] END criterion=entropy, max_depth=5, max_features=sqrt, min_samples_leaf=3, min_samples_split=10, random_state=42, splitter=best; total time=   0.0s\n",
            "[CV] END criterion=entropy, max_depth=5, max_features=sqrt, min_samples_leaf=3, min_samples_split=10, random_state=42, splitter=best; total time=   0.0s\n",
            "[CV] END criterion=entropy, max_depth=5, max_features=sqrt, min_samples_leaf=3, min_samples_split=10, random_state=42, splitter=best; total time=   0.0s\n",
            "[CV] END criterion=entropy, max_depth=5, max_features=sqrt, min_samples_leaf=3, min_samples_split=10, random_state=42, splitter=random; total time=   0.0s\n",
            "[CV] END criterion=entropy, max_depth=5, max_features=sqrt, min_samples_leaf=3, min_samples_split=10, random_state=42, splitter=random; total time=   0.0s\n",
            "[CV] END criterion=entropy, max_depth=5, max_features=sqrt, min_samples_leaf=3, min_samples_split=10, random_state=42, splitter=random; total time=   0.0s\n",
            "[CV] END criterion=entropy, max_depth=5, max_features=log2, min_samples_leaf=1, min_samples_split=2, random_state=42, splitter=best; total time=   0.0s\n",
            "[CV] END criterion=entropy, max_depth=5, max_features=log2, min_samples_leaf=1, min_samples_split=2, random_state=42, splitter=best; total time=   0.0s\n",
            "[CV] END criterion=entropy, max_depth=5, max_features=log2, min_samples_leaf=1, min_samples_split=2, random_state=42, splitter=best; total time=   0.0s\n",
            "[CV] END criterion=entropy, max_depth=5, max_features=log2, min_samples_leaf=1, min_samples_split=2, random_state=42, splitter=random; total time=   0.0s\n",
            "[CV] END criterion=entropy, max_depth=5, max_features=log2, min_samples_leaf=1, min_samples_split=2, random_state=42, splitter=random; total time=   0.0s\n",
            "[CV] END criterion=entropy, max_depth=5, max_features=log2, min_samples_leaf=1, min_samples_split=2, random_state=42, splitter=random; total time=   0.0s\n",
            "[CV] END criterion=entropy, max_depth=5, max_features=log2, min_samples_leaf=1, min_samples_split=5, random_state=42, splitter=best; total time=   0.0s\n",
            "[CV] END criterion=entropy, max_depth=5, max_features=log2, min_samples_leaf=1, min_samples_split=5, random_state=42, splitter=best; total time=   0.0s\n",
            "[CV] END criterion=entropy, max_depth=5, max_features=log2, min_samples_leaf=1, min_samples_split=5, random_state=42, splitter=best; total time=   0.0s\n",
            "[CV] END criterion=entropy, max_depth=5, max_features=log2, min_samples_leaf=1, min_samples_split=5, random_state=42, splitter=random; total time=   0.0s\n",
            "[CV] END criterion=entropy, max_depth=5, max_features=log2, min_samples_leaf=1, min_samples_split=5, random_state=42, splitter=random; total time=   0.0s\n",
            "[CV] END criterion=entropy, max_depth=5, max_features=log2, min_samples_leaf=1, min_samples_split=5, random_state=42, splitter=random; total time=   0.0s\n",
            "[CV] END criterion=entropy, max_depth=5, max_features=log2, min_samples_leaf=1, min_samples_split=10, random_state=42, splitter=best; total time=   0.0s\n",
            "[CV] END criterion=entropy, max_depth=5, max_features=log2, min_samples_leaf=1, min_samples_split=10, random_state=42, splitter=best; total time=   0.0s\n",
            "[CV] END criterion=entropy, max_depth=5, max_features=log2, min_samples_leaf=1, min_samples_split=10, random_state=42, splitter=best; total time=   0.0s\n",
            "[CV] END criterion=entropy, max_depth=5, max_features=log2, min_samples_leaf=1, min_samples_split=10, random_state=42, splitter=random; total time=   0.0s\n",
            "[CV] END criterion=entropy, max_depth=5, max_features=log2, min_samples_leaf=1, min_samples_split=10, random_state=42, splitter=random; total time=   0.0s\n",
            "[CV] END criterion=entropy, max_depth=5, max_features=log2, min_samples_leaf=1, min_samples_split=10, random_state=42, splitter=random; total time=   0.0s\n",
            "[CV] END criterion=entropy, max_depth=5, max_features=log2, min_samples_leaf=2, min_samples_split=2, random_state=42, splitter=best; total time=   0.0s\n",
            "[CV] END criterion=entropy, max_depth=5, max_features=log2, min_samples_leaf=2, min_samples_split=2, random_state=42, splitter=best; total time=   0.0s\n",
            "[CV] END criterion=entropy, max_depth=5, max_features=log2, min_samples_leaf=2, min_samples_split=2, random_state=42, splitter=best; total time=   0.0s\n",
            "[CV] END criterion=entropy, max_depth=5, max_features=log2, min_samples_leaf=2, min_samples_split=2, random_state=42, splitter=random; total time=   0.0s\n",
            "[CV] END criterion=entropy, max_depth=5, max_features=log2, min_samples_leaf=2, min_samples_split=2, random_state=42, splitter=random; total time=   0.0s\n",
            "[CV] END criterion=entropy, max_depth=5, max_features=log2, min_samples_leaf=2, min_samples_split=2, random_state=42, splitter=random; total time=   0.0s\n",
            "[CV] END criterion=entropy, max_depth=5, max_features=log2, min_samples_leaf=2, min_samples_split=5, random_state=42, splitter=best; total time=   0.0s\n",
            "[CV] END criterion=entropy, max_depth=5, max_features=log2, min_samples_leaf=2, min_samples_split=5, random_state=42, splitter=best; total time=   0.0s\n",
            "[CV] END criterion=entropy, max_depth=5, max_features=log2, min_samples_leaf=2, min_samples_split=5, random_state=42, splitter=best; total time=   0.0s\n",
            "[CV] END criterion=entropy, max_depth=5, max_features=log2, min_samples_leaf=2, min_samples_split=5, random_state=42, splitter=random; total time=   0.0s\n",
            "[CV] END criterion=entropy, max_depth=5, max_features=log2, min_samples_leaf=2, min_samples_split=5, random_state=42, splitter=random; total time=   0.0s\n",
            "[CV] END criterion=entropy, max_depth=5, max_features=log2, min_samples_leaf=2, min_samples_split=5, random_state=42, splitter=random; total time=   0.0s\n",
            "[CV] END criterion=entropy, max_depth=5, max_features=log2, min_samples_leaf=2, min_samples_split=10, random_state=42, splitter=best; total time=   0.0s\n",
            "[CV] END criterion=entropy, max_depth=5, max_features=log2, min_samples_leaf=2, min_samples_split=10, random_state=42, splitter=best; total time=   0.0s\n",
            "[CV] END criterion=entropy, max_depth=5, max_features=log2, min_samples_leaf=2, min_samples_split=10, random_state=42, splitter=best; total time=   0.0s\n",
            "[CV] END criterion=entropy, max_depth=5, max_features=log2, min_samples_leaf=2, min_samples_split=10, random_state=42, splitter=random; total time=   0.0s\n",
            "[CV] END criterion=entropy, max_depth=5, max_features=log2, min_samples_leaf=2, min_samples_split=10, random_state=42, splitter=random; total time=   0.0s\n",
            "[CV] END criterion=entropy, max_depth=5, max_features=log2, min_samples_leaf=2, min_samples_split=10, random_state=42, splitter=random; total time=   0.0s\n",
            "[CV] END criterion=entropy, max_depth=5, max_features=log2, min_samples_leaf=3, min_samples_split=2, random_state=42, splitter=best; total time=   0.0s\n",
            "[CV] END criterion=entropy, max_depth=5, max_features=log2, min_samples_leaf=3, min_samples_split=2, random_state=42, splitter=best; total time=   0.0s\n",
            "[CV] END criterion=entropy, max_depth=5, max_features=log2, min_samples_leaf=3, min_samples_split=2, random_state=42, splitter=best; total time=   0.0s\n",
            "[CV] END criterion=entropy, max_depth=5, max_features=log2, min_samples_leaf=3, min_samples_split=2, random_state=42, splitter=random; total time=   0.0s\n",
            "[CV] END criterion=entropy, max_depth=5, max_features=log2, min_samples_leaf=3, min_samples_split=2, random_state=42, splitter=random; total time=   0.0s\n",
            "[CV] END criterion=entropy, max_depth=5, max_features=log2, min_samples_leaf=3, min_samples_split=2, random_state=42, splitter=random; total time=   0.0s\n",
            "[CV] END criterion=entropy, max_depth=5, max_features=log2, min_samples_leaf=3, min_samples_split=5, random_state=42, splitter=best; total time=   0.0s\n",
            "[CV] END criterion=entropy, max_depth=5, max_features=log2, min_samples_leaf=3, min_samples_split=5, random_state=42, splitter=best; total time=   0.0s\n",
            "[CV] END criterion=entropy, max_depth=5, max_features=log2, min_samples_leaf=3, min_samples_split=5, random_state=42, splitter=best; total time=   0.0s\n",
            "[CV] END criterion=entropy, max_depth=5, max_features=log2, min_samples_leaf=3, min_samples_split=5, random_state=42, splitter=random; total time=   0.0s\n",
            "[CV] END criterion=entropy, max_depth=5, max_features=log2, min_samples_leaf=3, min_samples_split=5, random_state=42, splitter=random; total time=   0.0s\n",
            "[CV] END criterion=entropy, max_depth=5, max_features=log2, min_samples_leaf=3, min_samples_split=5, random_state=42, splitter=random; total time=   0.0s\n",
            "[CV] END criterion=entropy, max_depth=5, max_features=log2, min_samples_leaf=3, min_samples_split=10, random_state=42, splitter=best; total time=   0.0s\n",
            "[CV] END criterion=entropy, max_depth=5, max_features=log2, min_samples_leaf=3, min_samples_split=10, random_state=42, splitter=best; total time=   0.0s\n",
            "[CV] END criterion=entropy, max_depth=5, max_features=log2, min_samples_leaf=3, min_samples_split=10, random_state=42, splitter=best; total time=   0.0s\n",
            "[CV] END criterion=entropy, max_depth=5, max_features=log2, min_samples_leaf=3, min_samples_split=10, random_state=42, splitter=random; total time=   0.0s\n",
            "[CV] END criterion=entropy, max_depth=5, max_features=log2, min_samples_leaf=3, min_samples_split=10, random_state=42, splitter=random; total time=   0.0s\n",
            "[CV] END criterion=entropy, max_depth=5, max_features=log2, min_samples_leaf=3, min_samples_split=10, random_state=42, splitter=random; total time=   0.0s\n",
            "[CV] END criterion=entropy, max_depth=10, max_features=None, min_samples_leaf=1, min_samples_split=2, random_state=42, splitter=best; total time=   0.0s\n",
            "[CV] END criterion=entropy, max_depth=10, max_features=None, min_samples_leaf=1, min_samples_split=2, random_state=42, splitter=best; total time=   0.0s\n",
            "[CV] END criterion=entropy, max_depth=10, max_features=None, min_samples_leaf=1, min_samples_split=2, random_state=42, splitter=best; total time=   0.0s\n",
            "[CV] END criterion=entropy, max_depth=10, max_features=None, min_samples_leaf=1, min_samples_split=2, random_state=42, splitter=random; total time=   0.0s\n",
            "[CV] END criterion=entropy, max_depth=10, max_features=None, min_samples_leaf=1, min_samples_split=2, random_state=42, splitter=random; total time=   0.0s\n",
            "[CV] END criterion=entropy, max_depth=10, max_features=None, min_samples_leaf=1, min_samples_split=2, random_state=42, splitter=random; total time=   0.0s\n",
            "[CV] END criterion=entropy, max_depth=10, max_features=None, min_samples_leaf=1, min_samples_split=5, random_state=42, splitter=best; total time=   0.0s\n",
            "[CV] END criterion=entropy, max_depth=10, max_features=None, min_samples_leaf=1, min_samples_split=5, random_state=42, splitter=best; total time=   0.0s\n",
            "[CV] END criterion=entropy, max_depth=10, max_features=None, min_samples_leaf=1, min_samples_split=5, random_state=42, splitter=best; total time=   0.0s\n",
            "[CV] END criterion=entropy, max_depth=10, max_features=None, min_samples_leaf=1, min_samples_split=5, random_state=42, splitter=random; total time=   0.0s\n",
            "[CV] END criterion=entropy, max_depth=10, max_features=None, min_samples_leaf=1, min_samples_split=5, random_state=42, splitter=random; total time=   0.0s\n",
            "[CV] END criterion=entropy, max_depth=10, max_features=None, min_samples_leaf=1, min_samples_split=5, random_state=42, splitter=random; total time=   0.0s\n",
            "[CV] END criterion=entropy, max_depth=10, max_features=None, min_samples_leaf=1, min_samples_split=10, random_state=42, splitter=best; total time=   0.0s\n",
            "[CV] END criterion=entropy, max_depth=10, max_features=None, min_samples_leaf=1, min_samples_split=10, random_state=42, splitter=best; total time=   0.0s\n",
            "[CV] END criterion=entropy, max_depth=10, max_features=None, min_samples_leaf=1, min_samples_split=10, random_state=42, splitter=best; total time=   0.0s\n",
            "[CV] END criterion=entropy, max_depth=10, max_features=None, min_samples_leaf=1, min_samples_split=10, random_state=42, splitter=random; total time=   0.0s\n",
            "[CV] END criterion=entropy, max_depth=10, max_features=None, min_samples_leaf=1, min_samples_split=10, random_state=42, splitter=random; total time=   0.0s\n",
            "[CV] END criterion=entropy, max_depth=10, max_features=None, min_samples_leaf=1, min_samples_split=10, random_state=42, splitter=random; total time=   0.0s\n",
            "[CV] END criterion=entropy, max_depth=10, max_features=None, min_samples_leaf=2, min_samples_split=2, random_state=42, splitter=best; total time=   0.0s\n",
            "[CV] END criterion=entropy, max_depth=10, max_features=None, min_samples_leaf=2, min_samples_split=2, random_state=42, splitter=best; total time=   0.0s\n",
            "[CV] END criterion=entropy, max_depth=10, max_features=None, min_samples_leaf=2, min_samples_split=2, random_state=42, splitter=best; total time=   0.0s\n",
            "[CV] END criterion=entropy, max_depth=10, max_features=None, min_samples_leaf=2, min_samples_split=2, random_state=42, splitter=random; total time=   0.0s\n",
            "[CV] END criterion=entropy, max_depth=10, max_features=None, min_samples_leaf=2, min_samples_split=2, random_state=42, splitter=random; total time=   0.0s\n",
            "[CV] END criterion=entropy, max_depth=10, max_features=None, min_samples_leaf=2, min_samples_split=2, random_state=42, splitter=random; total time=   0.0s\n",
            "[CV] END criterion=entropy, max_depth=10, max_features=None, min_samples_leaf=2, min_samples_split=5, random_state=42, splitter=best; total time=   0.0s\n",
            "[CV] END criterion=entropy, max_depth=10, max_features=None, min_samples_leaf=2, min_samples_split=5, random_state=42, splitter=best; total time=   0.0s\n",
            "[CV] END criterion=entropy, max_depth=10, max_features=None, min_samples_leaf=2, min_samples_split=5, random_state=42, splitter=best; total time=   0.0s\n",
            "[CV] END criterion=entropy, max_depth=10, max_features=None, min_samples_leaf=2, min_samples_split=5, random_state=42, splitter=random; total time=   0.0s\n",
            "[CV] END criterion=entropy, max_depth=10, max_features=None, min_samples_leaf=2, min_samples_split=5, random_state=42, splitter=random; total time=   0.0s\n",
            "[CV] END criterion=entropy, max_depth=10, max_features=None, min_samples_leaf=2, min_samples_split=5, random_state=42, splitter=random; total time=   0.0s\n",
            "[CV] END criterion=entropy, max_depth=10, max_features=None, min_samples_leaf=2, min_samples_split=10, random_state=42, splitter=best; total time=   0.0s\n",
            "[CV] END criterion=entropy, max_depth=10, max_features=None, min_samples_leaf=2, min_samples_split=10, random_state=42, splitter=best; total time=   0.0s\n",
            "[CV] END criterion=entropy, max_depth=10, max_features=None, min_samples_leaf=2, min_samples_split=10, random_state=42, splitter=best; total time=   0.0s\n",
            "[CV] END criterion=entropy, max_depth=10, max_features=None, min_samples_leaf=2, min_samples_split=10, random_state=42, splitter=random; total time=   0.0s\n",
            "[CV] END criterion=entropy, max_depth=10, max_features=None, min_samples_leaf=2, min_samples_split=10, random_state=42, splitter=random; total time=   0.0s\n",
            "[CV] END criterion=entropy, max_depth=10, max_features=None, min_samples_leaf=2, min_samples_split=10, random_state=42, splitter=random; total time=   0.0s\n",
            "[CV] END criterion=entropy, max_depth=10, max_features=None, min_samples_leaf=3, min_samples_split=2, random_state=42, splitter=best; total time=   0.0s\n",
            "[CV] END criterion=entropy, max_depth=10, max_features=None, min_samples_leaf=3, min_samples_split=2, random_state=42, splitter=best; total time=   0.0s\n",
            "[CV] END criterion=entropy, max_depth=10, max_features=None, min_samples_leaf=3, min_samples_split=2, random_state=42, splitter=best; total time=   0.0s\n",
            "[CV] END criterion=entropy, max_depth=10, max_features=None, min_samples_leaf=3, min_samples_split=2, random_state=42, splitter=random; total time=   0.0s\n",
            "[CV] END criterion=entropy, max_depth=10, max_features=None, min_samples_leaf=3, min_samples_split=2, random_state=42, splitter=random; total time=   0.0s\n",
            "[CV] END criterion=entropy, max_depth=10, max_features=None, min_samples_leaf=3, min_samples_split=2, random_state=42, splitter=random; total time=   0.0s\n",
            "[CV] END criterion=entropy, max_depth=10, max_features=None, min_samples_leaf=3, min_samples_split=5, random_state=42, splitter=best; total time=   0.0s\n",
            "[CV] END criterion=entropy, max_depth=10, max_features=None, min_samples_leaf=3, min_samples_split=5, random_state=42, splitter=best; total time=   0.0s\n",
            "[CV] END criterion=entropy, max_depth=10, max_features=None, min_samples_leaf=3, min_samples_split=5, random_state=42, splitter=best; total time=   0.0s\n",
            "[CV] END criterion=entropy, max_depth=10, max_features=None, min_samples_leaf=3, min_samples_split=5, random_state=42, splitter=random; total time=   0.0s\n",
            "[CV] END criterion=entropy, max_depth=10, max_features=None, min_samples_leaf=3, min_samples_split=5, random_state=42, splitter=random; total time=   0.0s\n",
            "[CV] END criterion=entropy, max_depth=10, max_features=None, min_samples_leaf=3, min_samples_split=5, random_state=42, splitter=random; total time=   0.0s\n",
            "[CV] END criterion=entropy, max_depth=10, max_features=None, min_samples_leaf=3, min_samples_split=10, random_state=42, splitter=best; total time=   0.0s\n",
            "[CV] END criterion=entropy, max_depth=10, max_features=None, min_samples_leaf=3, min_samples_split=10, random_state=42, splitter=best; total time=   0.0s\n",
            "[CV] END criterion=entropy, max_depth=10, max_features=None, min_samples_leaf=3, min_samples_split=10, random_state=42, splitter=best; total time=   0.0s\n",
            "[CV] END criterion=entropy, max_depth=10, max_features=None, min_samples_leaf=3, min_samples_split=10, random_state=42, splitter=random; total time=   0.0s\n",
            "[CV] END criterion=entropy, max_depth=10, max_features=None, min_samples_leaf=3, min_samples_split=10, random_state=42, splitter=random; total time=   0.0s\n",
            "[CV] END criterion=entropy, max_depth=10, max_features=None, min_samples_leaf=3, min_samples_split=10, random_state=42, splitter=random; total time=   0.0s\n",
            "[CV] END criterion=entropy, max_depth=10, max_features=sqrt, min_samples_leaf=1, min_samples_split=2, random_state=42, splitter=best; total time=   0.0s\n",
            "[CV] END criterion=entropy, max_depth=10, max_features=sqrt, min_samples_leaf=1, min_samples_split=2, random_state=42, splitter=best; total time=   0.0s\n",
            "[CV] END criterion=entropy, max_depth=10, max_features=sqrt, min_samples_leaf=1, min_samples_split=2, random_state=42, splitter=best; total time=   0.0s\n",
            "[CV] END criterion=entropy, max_depth=10, max_features=sqrt, min_samples_leaf=1, min_samples_split=2, random_state=42, splitter=random; total time=   0.0s\n",
            "[CV] END criterion=entropy, max_depth=10, max_features=sqrt, min_samples_leaf=1, min_samples_split=2, random_state=42, splitter=random; total time=   0.0s\n",
            "[CV] END criterion=entropy, max_depth=10, max_features=sqrt, min_samples_leaf=1, min_samples_split=2, random_state=42, splitter=random; total time=   0.0s\n",
            "[CV] END criterion=entropy, max_depth=10, max_features=sqrt, min_samples_leaf=1, min_samples_split=5, random_state=42, splitter=best; total time=   0.0s\n",
            "[CV] END criterion=entropy, max_depth=10, max_features=sqrt, min_samples_leaf=1, min_samples_split=5, random_state=42, splitter=best; total time=   0.0s\n",
            "[CV] END criterion=entropy, max_depth=10, max_features=sqrt, min_samples_leaf=1, min_samples_split=5, random_state=42, splitter=best; total time=   0.0s\n",
            "[CV] END criterion=entropy, max_depth=10, max_features=sqrt, min_samples_leaf=1, min_samples_split=5, random_state=42, splitter=random; total time=   0.0s\n",
            "[CV] END criterion=entropy, max_depth=10, max_features=sqrt, min_samples_leaf=1, min_samples_split=5, random_state=42, splitter=random; total time=   0.0s\n",
            "[CV] END criterion=entropy, max_depth=10, max_features=sqrt, min_samples_leaf=1, min_samples_split=5, random_state=42, splitter=random; total time=   0.0s\n",
            "[CV] END criterion=entropy, max_depth=10, max_features=sqrt, min_samples_leaf=1, min_samples_split=10, random_state=42, splitter=best; total time=   0.0s\n",
            "[CV] END criterion=entropy, max_depth=10, max_features=sqrt, min_samples_leaf=1, min_samples_split=10, random_state=42, splitter=best; total time=   0.0s\n",
            "[CV] END criterion=entropy, max_depth=10, max_features=sqrt, min_samples_leaf=1, min_samples_split=10, random_state=42, splitter=best; total time=   0.0s\n",
            "[CV] END criterion=entropy, max_depth=10, max_features=sqrt, min_samples_leaf=1, min_samples_split=10, random_state=42, splitter=random; total time=   0.0s\n",
            "[CV] END criterion=entropy, max_depth=10, max_features=sqrt, min_samples_leaf=1, min_samples_split=10, random_state=42, splitter=random; total time=   0.0s\n",
            "[CV] END criterion=entropy, max_depth=10, max_features=sqrt, min_samples_leaf=1, min_samples_split=10, random_state=42, splitter=random; total time=   0.0s\n",
            "[CV] END criterion=entropy, max_depth=10, max_features=sqrt, min_samples_leaf=2, min_samples_split=2, random_state=42, splitter=best; total time=   0.0s\n",
            "[CV] END criterion=entropy, max_depth=10, max_features=sqrt, min_samples_leaf=2, min_samples_split=2, random_state=42, splitter=best; total time=   0.0s\n",
            "[CV] END criterion=entropy, max_depth=10, max_features=sqrt, min_samples_leaf=2, min_samples_split=2, random_state=42, splitter=best; total time=   0.0s\n",
            "[CV] END criterion=entropy, max_depth=10, max_features=sqrt, min_samples_leaf=2, min_samples_split=2, random_state=42, splitter=random; total time=   0.0s\n",
            "[CV] END criterion=entropy, max_depth=10, max_features=sqrt, min_samples_leaf=2, min_samples_split=2, random_state=42, splitter=random; total time=   0.0s\n",
            "[CV] END criterion=entropy, max_depth=10, max_features=sqrt, min_samples_leaf=2, min_samples_split=2, random_state=42, splitter=random; total time=   0.0s\n",
            "[CV] END criterion=entropy, max_depth=10, max_features=sqrt, min_samples_leaf=2, min_samples_split=5, random_state=42, splitter=best; total time=   0.0s\n",
            "[CV] END criterion=entropy, max_depth=10, max_features=sqrt, min_samples_leaf=2, min_samples_split=5, random_state=42, splitter=best; total time=   0.0s\n",
            "[CV] END criterion=entropy, max_depth=10, max_features=sqrt, min_samples_leaf=2, min_samples_split=5, random_state=42, splitter=best; total time=   0.0s\n",
            "[CV] END criterion=entropy, max_depth=10, max_features=sqrt, min_samples_leaf=2, min_samples_split=5, random_state=42, splitter=random; total time=   0.0s\n",
            "[CV] END criterion=entropy, max_depth=10, max_features=sqrt, min_samples_leaf=2, min_samples_split=5, random_state=42, splitter=random; total time=   0.0s\n",
            "[CV] END criterion=entropy, max_depth=10, max_features=sqrt, min_samples_leaf=2, min_samples_split=5, random_state=42, splitter=random; total time=   0.0s\n",
            "[CV] END criterion=entropy, max_depth=10, max_features=sqrt, min_samples_leaf=2, min_samples_split=10, random_state=42, splitter=best; total time=   0.0s\n",
            "[CV] END criterion=entropy, max_depth=10, max_features=sqrt, min_samples_leaf=2, min_samples_split=10, random_state=42, splitter=best; total time=   0.0s\n",
            "[CV] END criterion=entropy, max_depth=10, max_features=sqrt, min_samples_leaf=2, min_samples_split=10, random_state=42, splitter=best; total time=   0.0s\n",
            "[CV] END criterion=entropy, max_depth=10, max_features=sqrt, min_samples_leaf=2, min_samples_split=10, random_state=42, splitter=random; total time=   0.0s\n",
            "[CV] END criterion=entropy, max_depth=10, max_features=sqrt, min_samples_leaf=2, min_samples_split=10, random_state=42, splitter=random; total time=   0.0s\n",
            "[CV] END criterion=entropy, max_depth=10, max_features=sqrt, min_samples_leaf=2, min_samples_split=10, random_state=42, splitter=random; total time=   0.0s\n",
            "[CV] END criterion=entropy, max_depth=10, max_features=sqrt, min_samples_leaf=3, min_samples_split=2, random_state=42, splitter=best; total time=   0.0s\n",
            "[CV] END criterion=entropy, max_depth=10, max_features=sqrt, min_samples_leaf=3, min_samples_split=2, random_state=42, splitter=best; total time=   0.0s\n",
            "[CV] END criterion=entropy, max_depth=10, max_features=sqrt, min_samples_leaf=3, min_samples_split=2, random_state=42, splitter=best; total time=   0.0s\n",
            "[CV] END criterion=entropy, max_depth=10, max_features=sqrt, min_samples_leaf=3, min_samples_split=2, random_state=42, splitter=random; total time=   0.0s\n",
            "[CV] END criterion=entropy, max_depth=10, max_features=sqrt, min_samples_leaf=3, min_samples_split=2, random_state=42, splitter=random; total time=   0.0s\n",
            "[CV] END criterion=entropy, max_depth=10, max_features=sqrt, min_samples_leaf=3, min_samples_split=2, random_state=42, splitter=random; total time=   0.0s\n",
            "[CV] END criterion=entropy, max_depth=10, max_features=sqrt, min_samples_leaf=3, min_samples_split=5, random_state=42, splitter=best; total time=   0.0s\n",
            "[CV] END criterion=entropy, max_depth=10, max_features=sqrt, min_samples_leaf=3, min_samples_split=5, random_state=42, splitter=best; total time=   0.0s\n",
            "[CV] END criterion=entropy, max_depth=10, max_features=sqrt, min_samples_leaf=3, min_samples_split=5, random_state=42, splitter=best; total time=   0.0s\n",
            "[CV] END criterion=entropy, max_depth=10, max_features=sqrt, min_samples_leaf=3, min_samples_split=5, random_state=42, splitter=random; total time=   0.0s\n",
            "[CV] END criterion=entropy, max_depth=10, max_features=sqrt, min_samples_leaf=3, min_samples_split=5, random_state=42, splitter=random; total time=   0.0s\n",
            "[CV] END criterion=entropy, max_depth=10, max_features=sqrt, min_samples_leaf=3, min_samples_split=5, random_state=42, splitter=random; total time=   0.0s\n",
            "[CV] END criterion=entropy, max_depth=10, max_features=sqrt, min_samples_leaf=3, min_samples_split=10, random_state=42, splitter=best; total time=   0.0s\n",
            "[CV] END criterion=entropy, max_depth=10, max_features=sqrt, min_samples_leaf=3, min_samples_split=10, random_state=42, splitter=best; total time=   0.0s\n",
            "[CV] END criterion=entropy, max_depth=10, max_features=sqrt, min_samples_leaf=3, min_samples_split=10, random_state=42, splitter=best; total time=   0.0s\n",
            "[CV] END criterion=entropy, max_depth=10, max_features=sqrt, min_samples_leaf=3, min_samples_split=10, random_state=42, splitter=random; total time=   0.0s\n",
            "[CV] END criterion=entropy, max_depth=10, max_features=sqrt, min_samples_leaf=3, min_samples_split=10, random_state=42, splitter=random; total time=   0.0s\n",
            "[CV] END criterion=entropy, max_depth=10, max_features=sqrt, min_samples_leaf=3, min_samples_split=10, random_state=42, splitter=random; total time=   0.0s\n",
            "[CV] END criterion=entropy, max_depth=10, max_features=log2, min_samples_leaf=1, min_samples_split=2, random_state=42, splitter=best; total time=   0.0s\n",
            "[CV] END criterion=entropy, max_depth=10, max_features=log2, min_samples_leaf=1, min_samples_split=2, random_state=42, splitter=best; total time=   0.0s\n",
            "[CV] END criterion=entropy, max_depth=10, max_features=log2, min_samples_leaf=1, min_samples_split=2, random_state=42, splitter=best; total time=   0.0s\n",
            "[CV] END criterion=entropy, max_depth=10, max_features=log2, min_samples_leaf=1, min_samples_split=2, random_state=42, splitter=random; total time=   0.0s\n",
            "[CV] END criterion=entropy, max_depth=10, max_features=log2, min_samples_leaf=1, min_samples_split=2, random_state=42, splitter=random; total time=   0.0s\n",
            "[CV] END criterion=entropy, max_depth=10, max_features=log2, min_samples_leaf=1, min_samples_split=2, random_state=42, splitter=random; total time=   0.0s\n",
            "[CV] END criterion=entropy, max_depth=10, max_features=log2, min_samples_leaf=1, min_samples_split=5, random_state=42, splitter=best; total time=   0.0s\n",
            "[CV] END criterion=entropy, max_depth=10, max_features=log2, min_samples_leaf=1, min_samples_split=5, random_state=42, splitter=best; total time=   0.0s\n",
            "[CV] END criterion=entropy, max_depth=10, max_features=log2, min_samples_leaf=1, min_samples_split=5, random_state=42, splitter=best; total time=   0.0s\n",
            "[CV] END criterion=entropy, max_depth=10, max_features=log2, min_samples_leaf=1, min_samples_split=5, random_state=42, splitter=random; total time=   0.0s\n",
            "[CV] END criterion=entropy, max_depth=10, max_features=log2, min_samples_leaf=1, min_samples_split=5, random_state=42, splitter=random; total time=   0.0s\n",
            "[CV] END criterion=entropy, max_depth=10, max_features=log2, min_samples_leaf=1, min_samples_split=5, random_state=42, splitter=random; total time=   0.0s\n",
            "[CV] END criterion=entropy, max_depth=10, max_features=log2, min_samples_leaf=1, min_samples_split=10, random_state=42, splitter=best; total time=   0.0s\n",
            "[CV] END criterion=entropy, max_depth=10, max_features=log2, min_samples_leaf=1, min_samples_split=10, random_state=42, splitter=best; total time=   0.0s\n",
            "[CV] END criterion=entropy, max_depth=10, max_features=log2, min_samples_leaf=1, min_samples_split=10, random_state=42, splitter=best; total time=   0.0s\n",
            "[CV] END criterion=entropy, max_depth=10, max_features=log2, min_samples_leaf=1, min_samples_split=10, random_state=42, splitter=random; total time=   0.0s\n",
            "[CV] END criterion=entropy, max_depth=10, max_features=log2, min_samples_leaf=1, min_samples_split=10, random_state=42, splitter=random; total time=   0.0s\n",
            "[CV] END criterion=entropy, max_depth=10, max_features=log2, min_samples_leaf=1, min_samples_split=10, random_state=42, splitter=random; total time=   0.0s\n",
            "[CV] END criterion=entropy, max_depth=10, max_features=log2, min_samples_leaf=2, min_samples_split=2, random_state=42, splitter=best; total time=   0.0s\n",
            "[CV] END criterion=entropy, max_depth=10, max_features=log2, min_samples_leaf=2, min_samples_split=2, random_state=42, splitter=best; total time=   0.0s\n",
            "[CV] END criterion=entropy, max_depth=10, max_features=log2, min_samples_leaf=2, min_samples_split=2, random_state=42, splitter=best; total time=   0.0s\n",
            "[CV] END criterion=entropy, max_depth=10, max_features=log2, min_samples_leaf=2, min_samples_split=2, random_state=42, splitter=random; total time=   0.0s\n",
            "[CV] END criterion=entropy, max_depth=10, max_features=log2, min_samples_leaf=2, min_samples_split=2, random_state=42, splitter=random; total time=   0.0s\n",
            "[CV] END criterion=entropy, max_depth=10, max_features=log2, min_samples_leaf=2, min_samples_split=2, random_state=42, splitter=random; total time=   0.0s\n",
            "[CV] END criterion=entropy, max_depth=10, max_features=log2, min_samples_leaf=2, min_samples_split=5, random_state=42, splitter=best; total time=   0.0s\n",
            "[CV] END criterion=entropy, max_depth=10, max_features=log2, min_samples_leaf=2, min_samples_split=5, random_state=42, splitter=best; total time=   0.0s\n",
            "[CV] END criterion=entropy, max_depth=10, max_features=log2, min_samples_leaf=2, min_samples_split=5, random_state=42, splitter=best; total time=   0.0s\n",
            "[CV] END criterion=entropy, max_depth=10, max_features=log2, min_samples_leaf=2, min_samples_split=5, random_state=42, splitter=random; total time=   0.0s\n",
            "[CV] END criterion=entropy, max_depth=10, max_features=log2, min_samples_leaf=2, min_samples_split=5, random_state=42, splitter=random; total time=   0.0s\n",
            "[CV] END criterion=entropy, max_depth=10, max_features=log2, min_samples_leaf=2, min_samples_split=5, random_state=42, splitter=random; total time=   0.0s\n",
            "[CV] END criterion=entropy, max_depth=10, max_features=log2, min_samples_leaf=2, min_samples_split=10, random_state=42, splitter=best; total time=   0.0s\n",
            "[CV] END criterion=entropy, max_depth=10, max_features=log2, min_samples_leaf=2, min_samples_split=10, random_state=42, splitter=best; total time=   0.0s\n",
            "[CV] END criterion=entropy, max_depth=10, max_features=log2, min_samples_leaf=2, min_samples_split=10, random_state=42, splitter=best; total time=   0.0s\n",
            "[CV] END criterion=entropy, max_depth=10, max_features=log2, min_samples_leaf=2, min_samples_split=10, random_state=42, splitter=random; total time=   0.0s\n",
            "[CV] END criterion=entropy, max_depth=10, max_features=log2, min_samples_leaf=2, min_samples_split=10, random_state=42, splitter=random; total time=   0.0s\n",
            "[CV] END criterion=entropy, max_depth=10, max_features=log2, min_samples_leaf=2, min_samples_split=10, random_state=42, splitter=random; total time=   0.0s\n",
            "[CV] END criterion=entropy, max_depth=10, max_features=log2, min_samples_leaf=3, min_samples_split=2, random_state=42, splitter=best; total time=   0.0s\n",
            "[CV] END criterion=entropy, max_depth=10, max_features=log2, min_samples_leaf=3, min_samples_split=2, random_state=42, splitter=best; total time=   0.0s\n",
            "[CV] END criterion=entropy, max_depth=10, max_features=log2, min_samples_leaf=3, min_samples_split=2, random_state=42, splitter=best; total time=   0.0s\n",
            "[CV] END criterion=entropy, max_depth=10, max_features=log2, min_samples_leaf=3, min_samples_split=2, random_state=42, splitter=random; total time=   0.0s\n",
            "[CV] END criterion=entropy, max_depth=10, max_features=log2, min_samples_leaf=3, min_samples_split=2, random_state=42, splitter=random; total time=   0.0s\n",
            "[CV] END criterion=entropy, max_depth=10, max_features=log2, min_samples_leaf=3, min_samples_split=2, random_state=42, splitter=random; total time=   0.0s\n",
            "[CV] END criterion=entropy, max_depth=10, max_features=log2, min_samples_leaf=3, min_samples_split=5, random_state=42, splitter=best; total time=   0.0s\n",
            "[CV] END criterion=entropy, max_depth=10, max_features=log2, min_samples_leaf=3, min_samples_split=5, random_state=42, splitter=best; total time=   0.0s\n",
            "[CV] END criterion=entropy, max_depth=10, max_features=log2, min_samples_leaf=3, min_samples_split=5, random_state=42, splitter=best; total time=   0.0s\n",
            "[CV] END criterion=entropy, max_depth=10, max_features=log2, min_samples_leaf=3, min_samples_split=5, random_state=42, splitter=random; total time=   0.0s\n",
            "[CV] END criterion=entropy, max_depth=10, max_features=log2, min_samples_leaf=3, min_samples_split=5, random_state=42, splitter=random; total time=   0.0s\n",
            "[CV] END criterion=entropy, max_depth=10, max_features=log2, min_samples_leaf=3, min_samples_split=5, random_state=42, splitter=random; total time=   0.0s\n",
            "[CV] END criterion=entropy, max_depth=10, max_features=log2, min_samples_leaf=3, min_samples_split=10, random_state=42, splitter=best; total time=   0.0s\n",
            "[CV] END criterion=entropy, max_depth=10, max_features=log2, min_samples_leaf=3, min_samples_split=10, random_state=42, splitter=best; total time=   0.0s\n",
            "[CV] END criterion=entropy, max_depth=10, max_features=log2, min_samples_leaf=3, min_samples_split=10, random_state=42, splitter=best; total time=   0.0s\n",
            "[CV] END criterion=entropy, max_depth=10, max_features=log2, min_samples_leaf=3, min_samples_split=10, random_state=42, splitter=random; total time=   0.0s\n",
            "[CV] END criterion=entropy, max_depth=10, max_features=log2, min_samples_leaf=3, min_samples_split=10, random_state=42, splitter=random; total time=   0.0s\n",
            "[CV] END criterion=entropy, max_depth=10, max_features=log2, min_samples_leaf=3, min_samples_split=10, random_state=42, splitter=random; total time=   0.0s\n",
            "[CV] END criterion=entropy, max_depth=20, max_features=None, min_samples_leaf=1, min_samples_split=2, random_state=42, splitter=best; total time=   0.0s\n",
            "[CV] END criterion=entropy, max_depth=20, max_features=None, min_samples_leaf=1, min_samples_split=2, random_state=42, splitter=best; total time=   0.0s\n",
            "[CV] END criterion=entropy, max_depth=20, max_features=None, min_samples_leaf=1, min_samples_split=2, random_state=42, splitter=best; total time=   0.0s\n",
            "[CV] END criterion=entropy, max_depth=20, max_features=None, min_samples_leaf=1, min_samples_split=2, random_state=42, splitter=random; total time=   0.0s\n",
            "[CV] END criterion=entropy, max_depth=20, max_features=None, min_samples_leaf=1, min_samples_split=2, random_state=42, splitter=random; total time=   0.0s\n",
            "[CV] END criterion=entropy, max_depth=20, max_features=None, min_samples_leaf=1, min_samples_split=2, random_state=42, splitter=random; total time=   0.0s\n",
            "[CV] END criterion=entropy, max_depth=20, max_features=None, min_samples_leaf=1, min_samples_split=5, random_state=42, splitter=best; total time=   0.0s\n",
            "[CV] END criterion=entropy, max_depth=20, max_features=None, min_samples_leaf=1, min_samples_split=5, random_state=42, splitter=best; total time=   0.0s\n",
            "[CV] END criterion=entropy, max_depth=20, max_features=None, min_samples_leaf=1, min_samples_split=5, random_state=42, splitter=best; total time=   0.0s\n",
            "[CV] END criterion=entropy, max_depth=20, max_features=None, min_samples_leaf=1, min_samples_split=5, random_state=42, splitter=random; total time=   0.0s\n",
            "[CV] END criterion=entropy, max_depth=20, max_features=None, min_samples_leaf=1, min_samples_split=5, random_state=42, splitter=random; total time=   0.0s\n",
            "[CV] END criterion=entropy, max_depth=20, max_features=None, min_samples_leaf=1, min_samples_split=5, random_state=42, splitter=random; total time=   0.0s\n",
            "[CV] END criterion=entropy, max_depth=20, max_features=None, min_samples_leaf=1, min_samples_split=10, random_state=42, splitter=best; total time=   0.0s\n",
            "[CV] END criterion=entropy, max_depth=20, max_features=None, min_samples_leaf=1, min_samples_split=10, random_state=42, splitter=best; total time=   0.0s\n",
            "[CV] END criterion=entropy, max_depth=20, max_features=None, min_samples_leaf=1, min_samples_split=10, random_state=42, splitter=best; total time=   0.0s\n",
            "[CV] END criterion=entropy, max_depth=20, max_features=None, min_samples_leaf=1, min_samples_split=10, random_state=42, splitter=random; total time=   0.0s\n",
            "[CV] END criterion=entropy, max_depth=20, max_features=None, min_samples_leaf=1, min_samples_split=10, random_state=42, splitter=random; total time=   0.0s\n",
            "[CV] END criterion=entropy, max_depth=20, max_features=None, min_samples_leaf=1, min_samples_split=10, random_state=42, splitter=random; total time=   0.0s\n",
            "[CV] END criterion=entropy, max_depth=20, max_features=None, min_samples_leaf=2, min_samples_split=2, random_state=42, splitter=best; total time=   0.0s\n",
            "[CV] END criterion=entropy, max_depth=20, max_features=None, min_samples_leaf=2, min_samples_split=2, random_state=42, splitter=best; total time=   0.0s\n",
            "[CV] END criterion=entropy, max_depth=20, max_features=None, min_samples_leaf=2, min_samples_split=2, random_state=42, splitter=best; total time=   0.0s\n",
            "[CV] END criterion=entropy, max_depth=20, max_features=None, min_samples_leaf=2, min_samples_split=2, random_state=42, splitter=random; total time=   0.0s\n",
            "[CV] END criterion=entropy, max_depth=20, max_features=None, min_samples_leaf=2, min_samples_split=2, random_state=42, splitter=random; total time=   0.0s\n",
            "[CV] END criterion=entropy, max_depth=20, max_features=None, min_samples_leaf=2, min_samples_split=2, random_state=42, splitter=random; total time=   0.0s\n",
            "[CV] END criterion=entropy, max_depth=20, max_features=None, min_samples_leaf=2, min_samples_split=5, random_state=42, splitter=best; total time=   0.0s\n",
            "[CV] END criterion=entropy, max_depth=20, max_features=None, min_samples_leaf=2, min_samples_split=5, random_state=42, splitter=best; total time=   0.0s\n",
            "[CV] END criterion=entropy, max_depth=20, max_features=None, min_samples_leaf=2, min_samples_split=5, random_state=42, splitter=best; total time=   0.0s\n",
            "[CV] END criterion=entropy, max_depth=20, max_features=None, min_samples_leaf=2, min_samples_split=5, random_state=42, splitter=random; total time=   0.0s\n",
            "[CV] END criterion=entropy, max_depth=20, max_features=None, min_samples_leaf=2, min_samples_split=5, random_state=42, splitter=random; total time=   0.0s\n",
            "[CV] END criterion=entropy, max_depth=20, max_features=None, min_samples_leaf=2, min_samples_split=5, random_state=42, splitter=random; total time=   0.0s\n",
            "[CV] END criterion=entropy, max_depth=20, max_features=None, min_samples_leaf=2, min_samples_split=10, random_state=42, splitter=best; total time=   0.0s\n",
            "[CV] END criterion=entropy, max_depth=20, max_features=None, min_samples_leaf=2, min_samples_split=10, random_state=42, splitter=best; total time=   0.0s\n",
            "[CV] END criterion=entropy, max_depth=20, max_features=None, min_samples_leaf=2, min_samples_split=10, random_state=42, splitter=best; total time=   0.0s\n",
            "[CV] END criterion=entropy, max_depth=20, max_features=None, min_samples_leaf=2, min_samples_split=10, random_state=42, splitter=random; total time=   0.0s\n",
            "[CV] END criterion=entropy, max_depth=20, max_features=None, min_samples_leaf=2, min_samples_split=10, random_state=42, splitter=random; total time=   0.0s\n",
            "[CV] END criterion=entropy, max_depth=20, max_features=None, min_samples_leaf=2, min_samples_split=10, random_state=42, splitter=random; total time=   0.0s\n",
            "[CV] END criterion=entropy, max_depth=20, max_features=None, min_samples_leaf=3, min_samples_split=2, random_state=42, splitter=best; total time=   0.0s\n",
            "[CV] END criterion=entropy, max_depth=20, max_features=None, min_samples_leaf=3, min_samples_split=2, random_state=42, splitter=best; total time=   0.0s\n",
            "[CV] END criterion=entropy, max_depth=20, max_features=None, min_samples_leaf=3, min_samples_split=2, random_state=42, splitter=best; total time=   0.0s\n",
            "[CV] END criterion=entropy, max_depth=20, max_features=None, min_samples_leaf=3, min_samples_split=2, random_state=42, splitter=random; total time=   0.0s\n",
            "[CV] END criterion=entropy, max_depth=20, max_features=None, min_samples_leaf=3, min_samples_split=2, random_state=42, splitter=random; total time=   0.0s\n",
            "[CV] END criterion=entropy, max_depth=20, max_features=None, min_samples_leaf=3, min_samples_split=2, random_state=42, splitter=random; total time=   0.0s\n",
            "[CV] END criterion=entropy, max_depth=20, max_features=None, min_samples_leaf=3, min_samples_split=5, random_state=42, splitter=best; total time=   0.0s\n",
            "[CV] END criterion=entropy, max_depth=20, max_features=None, min_samples_leaf=3, min_samples_split=5, random_state=42, splitter=best; total time=   0.0s\n",
            "[CV] END criterion=entropy, max_depth=20, max_features=None, min_samples_leaf=3, min_samples_split=5, random_state=42, splitter=best; total time=   0.0s\n",
            "[CV] END criterion=entropy, max_depth=20, max_features=None, min_samples_leaf=3, min_samples_split=5, random_state=42, splitter=random; total time=   0.0s\n",
            "[CV] END criterion=entropy, max_depth=20, max_features=None, min_samples_leaf=3, min_samples_split=5, random_state=42, splitter=random; total time=   0.0s\n",
            "[CV] END criterion=entropy, max_depth=20, max_features=None, min_samples_leaf=3, min_samples_split=5, random_state=42, splitter=random; total time=   0.0s\n",
            "[CV] END criterion=entropy, max_depth=20, max_features=None, min_samples_leaf=3, min_samples_split=10, random_state=42, splitter=best; total time=   0.0s\n",
            "[CV] END criterion=entropy, max_depth=20, max_features=None, min_samples_leaf=3, min_samples_split=10, random_state=42, splitter=best; total time=   0.0s\n",
            "[CV] END criterion=entropy, max_depth=20, max_features=None, min_samples_leaf=3, min_samples_split=10, random_state=42, splitter=best; total time=   0.0s\n",
            "[CV] END criterion=entropy, max_depth=20, max_features=None, min_samples_leaf=3, min_samples_split=10, random_state=42, splitter=random; total time=   0.0s\n",
            "[CV] END criterion=entropy, max_depth=20, max_features=None, min_samples_leaf=3, min_samples_split=10, random_state=42, splitter=random; total time=   0.0s\n",
            "[CV] END criterion=entropy, max_depth=20, max_features=None, min_samples_leaf=3, min_samples_split=10, random_state=42, splitter=random; total time=   0.0s\n",
            "[CV] END criterion=entropy, max_depth=20, max_features=sqrt, min_samples_leaf=1, min_samples_split=2, random_state=42, splitter=best; total time=   0.0s\n",
            "[CV] END criterion=entropy, max_depth=20, max_features=sqrt, min_samples_leaf=1, min_samples_split=2, random_state=42, splitter=best; total time=   0.0s\n",
            "[CV] END criterion=entropy, max_depth=20, max_features=sqrt, min_samples_leaf=1, min_samples_split=2, random_state=42, splitter=best; total time=   0.0s\n",
            "[CV] END criterion=entropy, max_depth=20, max_features=sqrt, min_samples_leaf=1, min_samples_split=2, random_state=42, splitter=random; total time=   0.0s\n",
            "[CV] END criterion=entropy, max_depth=20, max_features=sqrt, min_samples_leaf=1, min_samples_split=2, random_state=42, splitter=random; total time=   0.0s\n",
            "[CV] END criterion=entropy, max_depth=20, max_features=sqrt, min_samples_leaf=1, min_samples_split=2, random_state=42, splitter=random; total time=   0.0s\n",
            "[CV] END criterion=entropy, max_depth=20, max_features=sqrt, min_samples_leaf=1, min_samples_split=5, random_state=42, splitter=best; total time=   0.0s\n",
            "[CV] END criterion=entropy, max_depth=20, max_features=sqrt, min_samples_leaf=1, min_samples_split=5, random_state=42, splitter=best; total time=   0.0s\n",
            "[CV] END criterion=entropy, max_depth=20, max_features=sqrt, min_samples_leaf=1, min_samples_split=5, random_state=42, splitter=best; total time=   0.0s\n",
            "[CV] END criterion=entropy, max_depth=20, max_features=sqrt, min_samples_leaf=1, min_samples_split=5, random_state=42, splitter=random; total time=   0.0s\n",
            "[CV] END criterion=entropy, max_depth=20, max_features=sqrt, min_samples_leaf=1, min_samples_split=5, random_state=42, splitter=random; total time=   0.0s\n",
            "[CV] END criterion=entropy, max_depth=20, max_features=sqrt, min_samples_leaf=1, min_samples_split=5, random_state=42, splitter=random; total time=   0.0s\n",
            "[CV] END criterion=entropy, max_depth=20, max_features=sqrt, min_samples_leaf=1, min_samples_split=10, random_state=42, splitter=best; total time=   0.0s\n",
            "[CV] END criterion=entropy, max_depth=20, max_features=sqrt, min_samples_leaf=1, min_samples_split=10, random_state=42, splitter=best; total time=   0.0s\n",
            "[CV] END criterion=entropy, max_depth=20, max_features=sqrt, min_samples_leaf=1, min_samples_split=10, random_state=42, splitter=best; total time=   0.0s\n",
            "[CV] END criterion=entropy, max_depth=20, max_features=sqrt, min_samples_leaf=1, min_samples_split=10, random_state=42, splitter=random; total time=   0.0s\n",
            "[CV] END criterion=entropy, max_depth=20, max_features=sqrt, min_samples_leaf=1, min_samples_split=10, random_state=42, splitter=random; total time=   0.0s\n",
            "[CV] END criterion=entropy, max_depth=20, max_features=sqrt, min_samples_leaf=1, min_samples_split=10, random_state=42, splitter=random; total time=   0.0s\n",
            "[CV] END criterion=entropy, max_depth=20, max_features=sqrt, min_samples_leaf=2, min_samples_split=2, random_state=42, splitter=best; total time=   0.0s\n",
            "[CV] END criterion=entropy, max_depth=20, max_features=sqrt, min_samples_leaf=2, min_samples_split=2, random_state=42, splitter=best; total time=   0.0s\n",
            "[CV] END criterion=entropy, max_depth=20, max_features=sqrt, min_samples_leaf=2, min_samples_split=2, random_state=42, splitter=best; total time=   0.0s\n",
            "[CV] END criterion=entropy, max_depth=20, max_features=sqrt, min_samples_leaf=2, min_samples_split=2, random_state=42, splitter=random; total time=   0.0s\n",
            "[CV] END criterion=entropy, max_depth=20, max_features=sqrt, min_samples_leaf=2, min_samples_split=2, random_state=42, splitter=random; total time=   0.0s\n",
            "[CV] END criterion=entropy, max_depth=20, max_features=sqrt, min_samples_leaf=2, min_samples_split=2, random_state=42, splitter=random; total time=   0.0s\n",
            "[CV] END criterion=entropy, max_depth=20, max_features=sqrt, min_samples_leaf=2, min_samples_split=5, random_state=42, splitter=best; total time=   0.0s\n",
            "[CV] END criterion=entropy, max_depth=20, max_features=sqrt, min_samples_leaf=2, min_samples_split=5, random_state=42, splitter=best; total time=   0.0s\n",
            "[CV] END criterion=entropy, max_depth=20, max_features=sqrt, min_samples_leaf=2, min_samples_split=5, random_state=42, splitter=best; total time=   0.0s\n",
            "[CV] END criterion=entropy, max_depth=20, max_features=sqrt, min_samples_leaf=2, min_samples_split=5, random_state=42, splitter=random; total time=   0.0s\n",
            "[CV] END criterion=entropy, max_depth=20, max_features=sqrt, min_samples_leaf=2, min_samples_split=5, random_state=42, splitter=random; total time=   0.0s\n",
            "[CV] END criterion=entropy, max_depth=20, max_features=sqrt, min_samples_leaf=2, min_samples_split=5, random_state=42, splitter=random; total time=   0.0s\n",
            "[CV] END criterion=entropy, max_depth=20, max_features=sqrt, min_samples_leaf=2, min_samples_split=10, random_state=42, splitter=best; total time=   0.0s\n",
            "[CV] END criterion=entropy, max_depth=20, max_features=sqrt, min_samples_leaf=2, min_samples_split=10, random_state=42, splitter=best; total time=   0.0s\n",
            "[CV] END criterion=entropy, max_depth=20, max_features=sqrt, min_samples_leaf=2, min_samples_split=10, random_state=42, splitter=best; total time=   0.0s\n",
            "[CV] END criterion=entropy, max_depth=20, max_features=sqrt, min_samples_leaf=2, min_samples_split=10, random_state=42, splitter=random; total time=   0.0s\n",
            "[CV] END criterion=entropy, max_depth=20, max_features=sqrt, min_samples_leaf=2, min_samples_split=10, random_state=42, splitter=random; total time=   0.0s\n",
            "[CV] END criterion=entropy, max_depth=20, max_features=sqrt, min_samples_leaf=2, min_samples_split=10, random_state=42, splitter=random; total time=   0.0s\n",
            "[CV] END criterion=entropy, max_depth=20, max_features=sqrt, min_samples_leaf=3, min_samples_split=2, random_state=42, splitter=best; total time=   0.0s\n",
            "[CV] END criterion=entropy, max_depth=20, max_features=sqrt, min_samples_leaf=3, min_samples_split=2, random_state=42, splitter=best; total time=   0.0s\n",
            "[CV] END criterion=entropy, max_depth=20, max_features=sqrt, min_samples_leaf=3, min_samples_split=2, random_state=42, splitter=best; total time=   0.0s\n",
            "[CV] END criterion=entropy, max_depth=20, max_features=sqrt, min_samples_leaf=3, min_samples_split=2, random_state=42, splitter=random; total time=   0.0s\n",
            "[CV] END criterion=entropy, max_depth=20, max_features=sqrt, min_samples_leaf=3, min_samples_split=2, random_state=42, splitter=random; total time=   0.0s\n",
            "[CV] END criterion=entropy, max_depth=20, max_features=sqrt, min_samples_leaf=3, min_samples_split=2, random_state=42, splitter=random; total time=   0.0s\n",
            "[CV] END criterion=entropy, max_depth=20, max_features=sqrt, min_samples_leaf=3, min_samples_split=5, random_state=42, splitter=best; total time=   0.0s\n",
            "[CV] END criterion=entropy, max_depth=20, max_features=sqrt, min_samples_leaf=3, min_samples_split=5, random_state=42, splitter=best; total time=   0.0s\n",
            "[CV] END criterion=entropy, max_depth=20, max_features=sqrt, min_samples_leaf=3, min_samples_split=5, random_state=42, splitter=best; total time=   0.0s\n",
            "[CV] END criterion=entropy, max_depth=20, max_features=sqrt, min_samples_leaf=3, min_samples_split=5, random_state=42, splitter=random; total time=   0.0s\n",
            "[CV] END criterion=entropy, max_depth=20, max_features=sqrt, min_samples_leaf=3, min_samples_split=5, random_state=42, splitter=random; total time=   0.0s\n",
            "[CV] END criterion=entropy, max_depth=20, max_features=sqrt, min_samples_leaf=3, min_samples_split=5, random_state=42, splitter=random; total time=   0.0s\n",
            "[CV] END criterion=entropy, max_depth=20, max_features=sqrt, min_samples_leaf=3, min_samples_split=10, random_state=42, splitter=best; total time=   0.0s\n",
            "[CV] END criterion=entropy, max_depth=20, max_features=sqrt, min_samples_leaf=3, min_samples_split=10, random_state=42, splitter=best; total time=   0.0s\n",
            "[CV] END criterion=entropy, max_depth=20, max_features=sqrt, min_samples_leaf=3, min_samples_split=10, random_state=42, splitter=best; total time=   0.0s\n",
            "[CV] END criterion=entropy, max_depth=20, max_features=sqrt, min_samples_leaf=3, min_samples_split=10, random_state=42, splitter=random; total time=   0.0s\n",
            "[CV] END criterion=entropy, max_depth=20, max_features=sqrt, min_samples_leaf=3, min_samples_split=10, random_state=42, splitter=random; total time=   0.0s\n",
            "[CV] END criterion=entropy, max_depth=20, max_features=sqrt, min_samples_leaf=3, min_samples_split=10, random_state=42, splitter=random; total time=   0.0s\n",
            "[CV] END criterion=entropy, max_depth=20, max_features=log2, min_samples_leaf=1, min_samples_split=2, random_state=42, splitter=best; total time=   0.0s\n",
            "[CV] END criterion=entropy, max_depth=20, max_features=log2, min_samples_leaf=1, min_samples_split=2, random_state=42, splitter=best; total time=   0.0s\n",
            "[CV] END criterion=entropy, max_depth=20, max_features=log2, min_samples_leaf=1, min_samples_split=2, random_state=42, splitter=best; total time=   0.0s\n",
            "[CV] END criterion=entropy, max_depth=20, max_features=log2, min_samples_leaf=1, min_samples_split=2, random_state=42, splitter=random; total time=   0.0s\n",
            "[CV] END criterion=entropy, max_depth=20, max_features=log2, min_samples_leaf=1, min_samples_split=2, random_state=42, splitter=random; total time=   0.0s\n",
            "[CV] END criterion=entropy, max_depth=20, max_features=log2, min_samples_leaf=1, min_samples_split=2, random_state=42, splitter=random; total time=   0.0s\n",
            "[CV] END criterion=entropy, max_depth=20, max_features=log2, min_samples_leaf=1, min_samples_split=5, random_state=42, splitter=best; total time=   0.0s\n",
            "[CV] END criterion=entropy, max_depth=20, max_features=log2, min_samples_leaf=1, min_samples_split=5, random_state=42, splitter=best; total time=   0.0s\n",
            "[CV] END criterion=entropy, max_depth=20, max_features=log2, min_samples_leaf=1, min_samples_split=5, random_state=42, splitter=best; total time=   0.0s\n",
            "[CV] END criterion=entropy, max_depth=20, max_features=log2, min_samples_leaf=1, min_samples_split=5, random_state=42, splitter=random; total time=   0.0s\n",
            "[CV] END criterion=entropy, max_depth=20, max_features=log2, min_samples_leaf=1, min_samples_split=5, random_state=42, splitter=random; total time=   0.0s\n",
            "[CV] END criterion=entropy, max_depth=20, max_features=log2, min_samples_leaf=1, min_samples_split=5, random_state=42, splitter=random; total time=   0.0s\n",
            "[CV] END criterion=entropy, max_depth=20, max_features=log2, min_samples_leaf=1, min_samples_split=10, random_state=42, splitter=best; total time=   0.0s\n",
            "[CV] END criterion=entropy, max_depth=20, max_features=log2, min_samples_leaf=1, min_samples_split=10, random_state=42, splitter=best; total time=   0.0s\n",
            "[CV] END criterion=entropy, max_depth=20, max_features=log2, min_samples_leaf=1, min_samples_split=10, random_state=42, splitter=best; total time=   0.0s\n",
            "[CV] END criterion=entropy, max_depth=20, max_features=log2, min_samples_leaf=1, min_samples_split=10, random_state=42, splitter=random; total time=   0.0s\n",
            "[CV] END criterion=entropy, max_depth=20, max_features=log2, min_samples_leaf=1, min_samples_split=10, random_state=42, splitter=random; total time=   0.0s\n",
            "[CV] END criterion=entropy, max_depth=20, max_features=log2, min_samples_leaf=1, min_samples_split=10, random_state=42, splitter=random; total time=   0.0s\n",
            "[CV] END criterion=entropy, max_depth=20, max_features=log2, min_samples_leaf=2, min_samples_split=2, random_state=42, splitter=best; total time=   0.0s\n",
            "[CV] END criterion=entropy, max_depth=20, max_features=log2, min_samples_leaf=2, min_samples_split=2, random_state=42, splitter=best; total time=   0.0s\n",
            "[CV] END criterion=entropy, max_depth=20, max_features=log2, min_samples_leaf=2, min_samples_split=2, random_state=42, splitter=best; total time=   0.0s\n",
            "[CV] END criterion=entropy, max_depth=20, max_features=log2, min_samples_leaf=2, min_samples_split=2, random_state=42, splitter=random; total time=   0.0s\n",
            "[CV] END criterion=entropy, max_depth=20, max_features=log2, min_samples_leaf=2, min_samples_split=2, random_state=42, splitter=random; total time=   0.0s\n",
            "[CV] END criterion=entropy, max_depth=20, max_features=log2, min_samples_leaf=2, min_samples_split=2, random_state=42, splitter=random; total time=   0.0s\n",
            "[CV] END criterion=entropy, max_depth=20, max_features=log2, min_samples_leaf=2, min_samples_split=5, random_state=42, splitter=best; total time=   0.0s\n",
            "[CV] END criterion=entropy, max_depth=20, max_features=log2, min_samples_leaf=2, min_samples_split=5, random_state=42, splitter=best; total time=   0.0s\n",
            "[CV] END criterion=entropy, max_depth=20, max_features=log2, min_samples_leaf=2, min_samples_split=5, random_state=42, splitter=best; total time=   0.0s\n",
            "[CV] END criterion=entropy, max_depth=20, max_features=log2, min_samples_leaf=2, min_samples_split=5, random_state=42, splitter=random; total time=   0.0s\n",
            "[CV] END criterion=entropy, max_depth=20, max_features=log2, min_samples_leaf=2, min_samples_split=5, random_state=42, splitter=random; total time=   0.0s\n",
            "[CV] END criterion=entropy, max_depth=20, max_features=log2, min_samples_leaf=2, min_samples_split=5, random_state=42, splitter=random; total time=   0.0s\n",
            "[CV] END criterion=entropy, max_depth=20, max_features=log2, min_samples_leaf=2, min_samples_split=10, random_state=42, splitter=best; total time=   0.0s\n",
            "[CV] END criterion=entropy, max_depth=20, max_features=log2, min_samples_leaf=2, min_samples_split=10, random_state=42, splitter=best; total time=   0.0s\n",
            "[CV] END criterion=entropy, max_depth=20, max_features=log2, min_samples_leaf=2, min_samples_split=10, random_state=42, splitter=best; total time=   0.0s\n",
            "[CV] END criterion=entropy, max_depth=20, max_features=log2, min_samples_leaf=2, min_samples_split=10, random_state=42, splitter=random; total time=   0.0s\n",
            "[CV] END criterion=entropy, max_depth=20, max_features=log2, min_samples_leaf=2, min_samples_split=10, random_state=42, splitter=random; total time=   0.0s\n",
            "[CV] END criterion=entropy, max_depth=20, max_features=log2, min_samples_leaf=2, min_samples_split=10, random_state=42, splitter=random; total time=   0.0s\n",
            "[CV] END criterion=entropy, max_depth=20, max_features=log2, min_samples_leaf=3, min_samples_split=2, random_state=42, splitter=best; total time=   0.0s\n",
            "[CV] END criterion=entropy, max_depth=20, max_features=log2, min_samples_leaf=3, min_samples_split=2, random_state=42, splitter=best; total time=   0.0s\n",
            "[CV] END criterion=entropy, max_depth=20, max_features=log2, min_samples_leaf=3, min_samples_split=2, random_state=42, splitter=best; total time=   0.0s\n",
            "[CV] END criterion=entropy, max_depth=20, max_features=log2, min_samples_leaf=3, min_samples_split=2, random_state=42, splitter=random; total time=   0.0s\n",
            "[CV] END criterion=entropy, max_depth=20, max_features=log2, min_samples_leaf=3, min_samples_split=2, random_state=42, splitter=random; total time=   0.0s\n",
            "[CV] END criterion=entropy, max_depth=20, max_features=log2, min_samples_leaf=3, min_samples_split=2, random_state=42, splitter=random; total time=   0.0s\n",
            "[CV] END criterion=entropy, max_depth=20, max_features=log2, min_samples_leaf=3, min_samples_split=5, random_state=42, splitter=best; total time=   0.0s\n",
            "[CV] END criterion=entropy, max_depth=20, max_features=log2, min_samples_leaf=3, min_samples_split=5, random_state=42, splitter=best; total time=   0.0s\n",
            "[CV] END criterion=entropy, max_depth=20, max_features=log2, min_samples_leaf=3, min_samples_split=5, random_state=42, splitter=best; total time=   0.0s\n",
            "[CV] END criterion=entropy, max_depth=20, max_features=log2, min_samples_leaf=3, min_samples_split=5, random_state=42, splitter=random; total time=   0.0s\n",
            "[CV] END criterion=entropy, max_depth=20, max_features=log2, min_samples_leaf=3, min_samples_split=5, random_state=42, splitter=random; total time=   0.0s\n",
            "[CV] END criterion=entropy, max_depth=20, max_features=log2, min_samples_leaf=3, min_samples_split=5, random_state=42, splitter=random; total time=   0.0s\n",
            "[CV] END criterion=entropy, max_depth=20, max_features=log2, min_samples_leaf=3, min_samples_split=10, random_state=42, splitter=best; total time=   0.0s\n",
            "[CV] END criterion=entropy, max_depth=20, max_features=log2, min_samples_leaf=3, min_samples_split=10, random_state=42, splitter=best; total time=   0.0s\n",
            "[CV] END criterion=entropy, max_depth=20, max_features=log2, min_samples_leaf=3, min_samples_split=10, random_state=42, splitter=best; total time=   0.0s\n",
            "[CV] END criterion=entropy, max_depth=20, max_features=log2, min_samples_leaf=3, min_samples_split=10, random_state=42, splitter=random; total time=   0.0s\n",
            "[CV] END criterion=entropy, max_depth=20, max_features=log2, min_samples_leaf=3, min_samples_split=10, random_state=42, splitter=random; total time=   0.0s\n",
            "[CV] END criterion=entropy, max_depth=20, max_features=log2, min_samples_leaf=3, min_samples_split=10, random_state=42, splitter=random; total time=   0.0s\n",
            "\n",
            "\n",
            "Model results after hyperparameter tuning\n",
            "Average Accuracy: 0.9151685393258427\n",
            "Average Precision: 0.9204527261826962\n",
            "Average Recall: 0.9151685393258427\n",
            "Average F1 Score: 0.9037150473486639\n"
          ]
        }
      ]
    },
    {
      "cell_type": "code",
      "source": [
        "X = df_knn_imputed.drop(columns=['diagnosis', 'stage', 'plasma_CA19_9'])  # Features\n",
        "y = df_knn_imputed['diagnosis']  # Target variable\n",
        "\n",
        "\n",
        "\n",
        "# Define the parameter grid for RF\n",
        "rf_param_grid = {\n",
        "    'n_estimators': [50, 100],           # Number of trees in the forest\n",
        "    'criterion': ['gini', 'entropy'],             # Splitting criterion\n",
        "    'max_depth': [None, 5, 10, 15],                # Maximum depth of the trees\n",
        "    'min_samples_split': [2, 5, 10, 20],           # Minimum number of samples required to split an internal node\n",
        "    'min_samples_leaf': [1, 2, 3, 5],              # Minimum number of samples required to be at a leaf node\n",
        "    'max_features': ['auto', 'sqrt', 'log2'],      # Number of features to consider when looking for the best split\n",
        "    'bootstrap': [True, False],                    # Whether to use bootstrapping\n",
        "    'random_state': [42]                           # Random seed for reproducibility\n",
        "}\n",
        "test_grid_search_and_fit(\n",
        "    classifier=RandomForestClassifier(),#KNN\n",
        "    param_grid=rf_param_grid,\n",
        "    X=X,\n",
        "    y=y\n",
        ")"
      ],
      "metadata": {
        "colab": {
          "base_uri": "https://localhost:8080/",
          "height": 1000
        },
        "id": "s8wnDBd8DSwB",
        "outputId": "3ec25aa8-4188-456a-881a-11ebfc6d51ea"
      },
      "execution_count": 73,
      "outputs": [
        {
          "output_type": "stream",
          "name": "stdout",
          "text": [
            "Model results with default hyperparameters\n",
            "Average Accuracy: 0.9603932584269662\n",
            "Average Precision: 0.9554454185029326\n",
            "Average Recall: 0.9603932584269662\n",
            "Average F1 Score: 0.9494626378803013\n",
            "Fitting 3 folds for each of 1536 candidates, totalling 4608 fits\n",
            "[CV] END bootstrap=True, criterion=gini, max_depth=None, max_features=auto, min_samples_leaf=1, min_samples_split=2, n_estimators=50, random_state=42; total time=   0.1s\n"
          ]
        },
        {
          "output_type": "stream",
          "name": "stderr",
          "text": [
            "/usr/local/lib/python3.10/dist-packages/sklearn/ensemble/_forest.py:424: FutureWarning: `max_features='auto'` has been deprecated in 1.1 and will be removed in 1.3. To keep the past behaviour, explicitly set `max_features='sqrt'` or remove this parameter as it is also the default value for RandomForestClassifiers and ExtraTreesClassifiers.\n",
            "  warn(\n",
            "/usr/local/lib/python3.10/dist-packages/sklearn/ensemble/_forest.py:424: FutureWarning: `max_features='auto'` has been deprecated in 1.1 and will be removed in 1.3. To keep the past behaviour, explicitly set `max_features='sqrt'` or remove this parameter as it is also the default value for RandomForestClassifiers and ExtraTreesClassifiers.\n",
            "  warn(\n"
          ]
        },
        {
          "output_type": "stream",
          "name": "stdout",
          "text": [
            "[CV] END bootstrap=True, criterion=gini, max_depth=None, max_features=auto, min_samples_leaf=1, min_samples_split=2, n_estimators=50, random_state=42; total time=   0.1s\n",
            "[CV] END bootstrap=True, criterion=gini, max_depth=None, max_features=auto, min_samples_leaf=1, min_samples_split=2, n_estimators=50, random_state=42; total time=   0.1s\n"
          ]
        },
        {
          "output_type": "stream",
          "name": "stderr",
          "text": [
            "/usr/local/lib/python3.10/dist-packages/sklearn/ensemble/_forest.py:424: FutureWarning: `max_features='auto'` has been deprecated in 1.1 and will be removed in 1.3. To keep the past behaviour, explicitly set `max_features='sqrt'` or remove this parameter as it is also the default value for RandomForestClassifiers and ExtraTreesClassifiers.\n",
            "  warn(\n",
            "/usr/local/lib/python3.10/dist-packages/sklearn/ensemble/_forest.py:424: FutureWarning: `max_features='auto'` has been deprecated in 1.1 and will be removed in 1.3. To keep the past behaviour, explicitly set `max_features='sqrt'` or remove this parameter as it is also the default value for RandomForestClassifiers and ExtraTreesClassifiers.\n",
            "  warn(\n"
          ]
        },
        {
          "output_type": "stream",
          "name": "stdout",
          "text": [
            "[CV] END bootstrap=True, criterion=gini, max_depth=None, max_features=auto, min_samples_leaf=1, min_samples_split=2, n_estimators=100, random_state=42; total time=   0.2s\n",
            "[CV] END bootstrap=True, criterion=gini, max_depth=None, max_features=auto, min_samples_leaf=1, min_samples_split=2, n_estimators=100, random_state=42; total time=   0.2s\n"
          ]
        },
        {
          "output_type": "stream",
          "name": "stderr",
          "text": [
            "/usr/local/lib/python3.10/dist-packages/sklearn/ensemble/_forest.py:424: FutureWarning: `max_features='auto'` has been deprecated in 1.1 and will be removed in 1.3. To keep the past behaviour, explicitly set `max_features='sqrt'` or remove this parameter as it is also the default value for RandomForestClassifiers and ExtraTreesClassifiers.\n",
            "  warn(\n",
            "/usr/local/lib/python3.10/dist-packages/sklearn/ensemble/_forest.py:424: FutureWarning: `max_features='auto'` has been deprecated in 1.1 and will be removed in 1.3. To keep the past behaviour, explicitly set `max_features='sqrt'` or remove this parameter as it is also the default value for RandomForestClassifiers and ExtraTreesClassifiers.\n",
            "  warn(\n"
          ]
        },
        {
          "output_type": "stream",
          "name": "stdout",
          "text": [
            "[CV] END bootstrap=True, criterion=gini, max_depth=None, max_features=auto, min_samples_leaf=1, min_samples_split=2, n_estimators=100, random_state=42; total time=   0.2s\n",
            "[CV] END bootstrap=True, criterion=gini, max_depth=None, max_features=auto, min_samples_leaf=1, min_samples_split=5, n_estimators=50, random_state=42; total time=   0.1s\n",
            "[CV] END bootstrap=True, criterion=gini, max_depth=None, max_features=auto, min_samples_leaf=1, min_samples_split=5, n_estimators=50, random_state=42; total time=   0.1s\n"
          ]
        },
        {
          "output_type": "stream",
          "name": "stderr",
          "text": [
            "/usr/local/lib/python3.10/dist-packages/sklearn/ensemble/_forest.py:424: FutureWarning: `max_features='auto'` has been deprecated in 1.1 and will be removed in 1.3. To keep the past behaviour, explicitly set `max_features='sqrt'` or remove this parameter as it is also the default value for RandomForestClassifiers and ExtraTreesClassifiers.\n",
            "  warn(\n",
            "/usr/local/lib/python3.10/dist-packages/sklearn/ensemble/_forest.py:424: FutureWarning: `max_features='auto'` has been deprecated in 1.1 and will be removed in 1.3. To keep the past behaviour, explicitly set `max_features='sqrt'` or remove this parameter as it is also the default value for RandomForestClassifiers and ExtraTreesClassifiers.\n",
            "  warn(\n",
            "/usr/local/lib/python3.10/dist-packages/sklearn/ensemble/_forest.py:424: FutureWarning: `max_features='auto'` has been deprecated in 1.1 and will be removed in 1.3. To keep the past behaviour, explicitly set `max_features='sqrt'` or remove this parameter as it is also the default value for RandomForestClassifiers and ExtraTreesClassifiers.\n",
            "  warn(\n"
          ]
        },
        {
          "output_type": "stream",
          "name": "stdout",
          "text": [
            "[CV] END bootstrap=True, criterion=gini, max_depth=None, max_features=auto, min_samples_leaf=1, min_samples_split=5, n_estimators=50, random_state=42; total time=   0.1s\n",
            "[CV] END bootstrap=True, criterion=gini, max_depth=None, max_features=auto, min_samples_leaf=1, min_samples_split=5, n_estimators=100, random_state=42; total time=   0.2s\n"
          ]
        },
        {
          "output_type": "stream",
          "name": "stderr",
          "text": [
            "/usr/local/lib/python3.10/dist-packages/sklearn/ensemble/_forest.py:424: FutureWarning: `max_features='auto'` has been deprecated in 1.1 and will be removed in 1.3. To keep the past behaviour, explicitly set `max_features='sqrt'` or remove this parameter as it is also the default value for RandomForestClassifiers and ExtraTreesClassifiers.\n",
            "  warn(\n",
            "/usr/local/lib/python3.10/dist-packages/sklearn/ensemble/_forest.py:424: FutureWarning: `max_features='auto'` has been deprecated in 1.1 and will be removed in 1.3. To keep the past behaviour, explicitly set `max_features='sqrt'` or remove this parameter as it is also the default value for RandomForestClassifiers and ExtraTreesClassifiers.\n",
            "  warn(\n",
            "/usr/local/lib/python3.10/dist-packages/sklearn/ensemble/_forest.py:424: FutureWarning: `max_features='auto'` has been deprecated in 1.1 and will be removed in 1.3. To keep the past behaviour, explicitly set `max_features='sqrt'` or remove this parameter as it is also the default value for RandomForestClassifiers and ExtraTreesClassifiers.\n",
            "  warn(\n"
          ]
        },
        {
          "output_type": "stream",
          "name": "stdout",
          "text": [
            "[CV] END bootstrap=True, criterion=gini, max_depth=None, max_features=auto, min_samples_leaf=1, min_samples_split=5, n_estimators=100, random_state=42; total time=   0.2s\n",
            "[CV] END bootstrap=True, criterion=gini, max_depth=None, max_features=auto, min_samples_leaf=1, min_samples_split=5, n_estimators=100, random_state=42; total time=   0.3s\n",
            "[CV] END bootstrap=True, criterion=gini, max_depth=None, max_features=auto, min_samples_leaf=1, min_samples_split=10, n_estimators=50, random_state=42; total time=   0.1s\n"
          ]
        },
        {
          "output_type": "stream",
          "name": "stderr",
          "text": [
            "/usr/local/lib/python3.10/dist-packages/sklearn/ensemble/_forest.py:424: FutureWarning: `max_features='auto'` has been deprecated in 1.1 and will be removed in 1.3. To keep the past behaviour, explicitly set `max_features='sqrt'` or remove this parameter as it is also the default value for RandomForestClassifiers and ExtraTreesClassifiers.\n",
            "  warn(\n",
            "/usr/local/lib/python3.10/dist-packages/sklearn/ensemble/_forest.py:424: FutureWarning: `max_features='auto'` has been deprecated in 1.1 and will be removed in 1.3. To keep the past behaviour, explicitly set `max_features='sqrt'` or remove this parameter as it is also the default value for RandomForestClassifiers and ExtraTreesClassifiers.\n",
            "  warn(\n"
          ]
        },
        {
          "output_type": "stream",
          "name": "stdout",
          "text": [
            "[CV] END bootstrap=True, criterion=gini, max_depth=None, max_features=auto, min_samples_leaf=1, min_samples_split=10, n_estimators=50, random_state=42; total time=   0.2s\n",
            "[CV] END bootstrap=True, criterion=gini, max_depth=None, max_features=auto, min_samples_leaf=1, min_samples_split=10, n_estimators=50, random_state=42; total time=   0.1s\n"
          ]
        },
        {
          "output_type": "stream",
          "name": "stderr",
          "text": [
            "/usr/local/lib/python3.10/dist-packages/sklearn/ensemble/_forest.py:424: FutureWarning: `max_features='auto'` has been deprecated in 1.1 and will be removed in 1.3. To keep the past behaviour, explicitly set `max_features='sqrt'` or remove this parameter as it is also the default value for RandomForestClassifiers and ExtraTreesClassifiers.\n",
            "  warn(\n",
            "/usr/local/lib/python3.10/dist-packages/sklearn/ensemble/_forest.py:424: FutureWarning: `max_features='auto'` has been deprecated in 1.1 and will be removed in 1.3. To keep the past behaviour, explicitly set `max_features='sqrt'` or remove this parameter as it is also the default value for RandomForestClassifiers and ExtraTreesClassifiers.\n",
            "  warn(\n"
          ]
        },
        {
          "output_type": "stream",
          "name": "stdout",
          "text": [
            "[CV] END bootstrap=True, criterion=gini, max_depth=None, max_features=auto, min_samples_leaf=1, min_samples_split=10, n_estimators=100, random_state=42; total time=   0.3s\n"
          ]
        },
        {
          "output_type": "stream",
          "name": "stderr",
          "text": [
            "/usr/local/lib/python3.10/dist-packages/sklearn/ensemble/_forest.py:424: FutureWarning: `max_features='auto'` has been deprecated in 1.1 and will be removed in 1.3. To keep the past behaviour, explicitly set `max_features='sqrt'` or remove this parameter as it is also the default value for RandomForestClassifiers and ExtraTreesClassifiers.\n",
            "  warn(\n"
          ]
        },
        {
          "output_type": "stream",
          "name": "stdout",
          "text": [
            "[CV] END bootstrap=True, criterion=gini, max_depth=None, max_features=auto, min_samples_leaf=1, min_samples_split=10, n_estimators=100, random_state=42; total time=   0.3s\n"
          ]
        },
        {
          "output_type": "stream",
          "name": "stderr",
          "text": [
            "/usr/local/lib/python3.10/dist-packages/sklearn/ensemble/_forest.py:424: FutureWarning: `max_features='auto'` has been deprecated in 1.1 and will be removed in 1.3. To keep the past behaviour, explicitly set `max_features='sqrt'` or remove this parameter as it is also the default value for RandomForestClassifiers and ExtraTreesClassifiers.\n",
            "  warn(\n"
          ]
        },
        {
          "output_type": "stream",
          "name": "stdout",
          "text": [
            "[CV] END bootstrap=True, criterion=gini, max_depth=None, max_features=auto, min_samples_leaf=1, min_samples_split=10, n_estimators=100, random_state=42; total time=   0.3s\n",
            "[CV] END bootstrap=True, criterion=gini, max_depth=None, max_features=auto, min_samples_leaf=1, min_samples_split=20, n_estimators=50, random_state=42; total time=   0.1s\n"
          ]
        },
        {
          "output_type": "stream",
          "name": "stderr",
          "text": [
            "/usr/local/lib/python3.10/dist-packages/sklearn/ensemble/_forest.py:424: FutureWarning: `max_features='auto'` has been deprecated in 1.1 and will be removed in 1.3. To keep the past behaviour, explicitly set `max_features='sqrt'` or remove this parameter as it is also the default value for RandomForestClassifiers and ExtraTreesClassifiers.\n",
            "  warn(\n",
            "/usr/local/lib/python3.10/dist-packages/sklearn/ensemble/_forest.py:424: FutureWarning: `max_features='auto'` has been deprecated in 1.1 and will be removed in 1.3. To keep the past behaviour, explicitly set `max_features='sqrt'` or remove this parameter as it is also the default value for RandomForestClassifiers and ExtraTreesClassifiers.\n",
            "  warn(\n"
          ]
        },
        {
          "output_type": "error",
          "ename": "KeyboardInterrupt",
          "evalue": "",
          "traceback": [
            "\u001b[0;31m---------------------------------------------------------------------------\u001b[0m",
            "\u001b[0;31mKeyboardInterrupt\u001b[0m                         Traceback (most recent call last)",
            "\u001b[0;32m<ipython-input-73-b468e5d466ab>\u001b[0m in \u001b[0;36m<cell line: 17>\u001b[0;34m()\u001b[0m\n\u001b[1;32m     15\u001b[0m     \u001b[0;34m'random_state'\u001b[0m\u001b[0;34m:\u001b[0m \u001b[0;34m[\u001b[0m\u001b[0;36m42\u001b[0m\u001b[0;34m]\u001b[0m                           \u001b[0;31m# Random seed for reproducibility\u001b[0m\u001b[0;34m\u001b[0m\u001b[0;34m\u001b[0m\u001b[0m\n\u001b[1;32m     16\u001b[0m }\n\u001b[0;32m---> 17\u001b[0;31m test_grid_search_and_fit(\n\u001b[0m\u001b[1;32m     18\u001b[0m     \u001b[0mclassifier\u001b[0m\u001b[0;34m=\u001b[0m\u001b[0mRandomForestClassifier\u001b[0m\u001b[0;34m(\u001b[0m\u001b[0;34m)\u001b[0m\u001b[0;34m,\u001b[0m\u001b[0;31m#KNN\u001b[0m\u001b[0;34m\u001b[0m\u001b[0;34m\u001b[0m\u001b[0m\n\u001b[1;32m     19\u001b[0m     \u001b[0mparam_grid\u001b[0m\u001b[0;34m=\u001b[0m\u001b[0mrf_param_grid\u001b[0m\u001b[0;34m,\u001b[0m\u001b[0;34m\u001b[0m\u001b[0;34m\u001b[0m\u001b[0m\n",
            "\u001b[0;32m<ipython-input-28-b98bcbc840d1>\u001b[0m in \u001b[0;36mtest_grid_search_and_fit\u001b[0;34m(classifier, param_grid, X, y)\u001b[0m\n\u001b[1;32m      1\u001b[0m \u001b[0;31m# Define and test grid_search_and_fit function\u001b[0m\u001b[0;34m\u001b[0m\u001b[0;34m\u001b[0m\u001b[0m\n\u001b[1;32m      2\u001b[0m \u001b[0;32mdef\u001b[0m \u001b[0mtest_grid_search_and_fit\u001b[0m\u001b[0;34m(\u001b[0m\u001b[0mclassifier\u001b[0m\u001b[0;34m,\u001b[0m \u001b[0mparam_grid\u001b[0m\u001b[0;34m,\u001b[0m \u001b[0mX\u001b[0m\u001b[0;34m,\u001b[0m \u001b[0my\u001b[0m\u001b[0;34m)\u001b[0m\u001b[0;34m:\u001b[0m\u001b[0;34m\u001b[0m\u001b[0;34m\u001b[0m\u001b[0m\n\u001b[0;32m----> 3\u001b[0;31m     \u001b[0mgrid_search_and_fit\u001b[0m\u001b[0;34m(\u001b[0m\u001b[0mclassifier\u001b[0m\u001b[0;34m,\u001b[0m \u001b[0mparam_grid\u001b[0m\u001b[0;34m,\u001b[0m \u001b[0mX\u001b[0m\u001b[0;34m,\u001b[0m \u001b[0my\u001b[0m\u001b[0;34m,\u001b[0m \u001b[0mverbosity\u001b[0m\u001b[0;34m=\u001b[0m\u001b[0;36m2\u001b[0m\u001b[0;34m)\u001b[0m\u001b[0;34m\u001b[0m\u001b[0;34m\u001b[0m\u001b[0m\n\u001b[0m",
            "\u001b[0;32m<ipython-input-72-256d2969602d>\u001b[0m in \u001b[0;36mgrid_search_and_fit\u001b[0;34m(classifier, param_grid, X, y, verbosity)\u001b[0m\n\u001b[1;32m     33\u001b[0m     \u001b[0;31m# Perform grid search\u001b[0m\u001b[0;34m\u001b[0m\u001b[0;34m\u001b[0m\u001b[0m\n\u001b[1;32m     34\u001b[0m     \u001b[0mgrid_search\u001b[0m \u001b[0;34m=\u001b[0m \u001b[0mGridSearchCV\u001b[0m\u001b[0;34m(\u001b[0m\u001b[0mclassifier\u001b[0m\u001b[0;34m,\u001b[0m \u001b[0mparam_grid\u001b[0m\u001b[0;34m,\u001b[0m \u001b[0mcv\u001b[0m\u001b[0;34m=\u001b[0m\u001b[0;36m3\u001b[0m\u001b[0;34m,\u001b[0m \u001b[0mverbose\u001b[0m\u001b[0;34m=\u001b[0m\u001b[0mverbosity\u001b[0m\u001b[0;34m,\u001b[0m \u001b[0mscoring\u001b[0m\u001b[0;34m=\u001b[0m\u001b[0;34m\"f1_weighted\"\u001b[0m\u001b[0;34m)\u001b[0m\u001b[0;34m\u001b[0m\u001b[0;34m\u001b[0m\u001b[0m\n\u001b[0;32m---> 35\u001b[0;31m     \u001b[0mgrid_search\u001b[0m\u001b[0;34m.\u001b[0m\u001b[0mfit\u001b[0m\u001b[0;34m(\u001b[0m\u001b[0mX_train\u001b[0m\u001b[0;34m,\u001b[0m \u001b[0my_train\u001b[0m\u001b[0;34m)\u001b[0m\u001b[0;34m\u001b[0m\u001b[0;34m\u001b[0m\u001b[0m\n\u001b[0m\u001b[1;32m     36\u001b[0m \u001b[0;34m\u001b[0m\u001b[0m\n\u001b[1;32m     37\u001b[0m     \u001b[0;31m# Get the best parameters\u001b[0m\u001b[0;34m\u001b[0m\u001b[0;34m\u001b[0m\u001b[0m\n",
            "\u001b[0;32m/usr/local/lib/python3.10/dist-packages/sklearn/model_selection/_search.py\u001b[0m in \u001b[0;36mfit\u001b[0;34m(self, X, y, groups, **fit_params)\u001b[0m\n\u001b[1;32m    872\u001b[0m                 \u001b[0;32mreturn\u001b[0m \u001b[0mresults\u001b[0m\u001b[0;34m\u001b[0m\u001b[0;34m\u001b[0m\u001b[0m\n\u001b[1;32m    873\u001b[0m \u001b[0;34m\u001b[0m\u001b[0m\n\u001b[0;32m--> 874\u001b[0;31m             \u001b[0mself\u001b[0m\u001b[0;34m.\u001b[0m\u001b[0m_run_search\u001b[0m\u001b[0;34m(\u001b[0m\u001b[0mevaluate_candidates\u001b[0m\u001b[0;34m)\u001b[0m\u001b[0;34m\u001b[0m\u001b[0;34m\u001b[0m\u001b[0m\n\u001b[0m\u001b[1;32m    875\u001b[0m \u001b[0;34m\u001b[0m\u001b[0m\n\u001b[1;32m    876\u001b[0m             \u001b[0;31m# multimetric is determined here because in the case of a callable\u001b[0m\u001b[0;34m\u001b[0m\u001b[0;34m\u001b[0m\u001b[0m\n",
            "\u001b[0;32m/usr/local/lib/python3.10/dist-packages/sklearn/model_selection/_search.py\u001b[0m in \u001b[0;36m_run_search\u001b[0;34m(self, evaluate_candidates)\u001b[0m\n\u001b[1;32m   1386\u001b[0m     \u001b[0;32mdef\u001b[0m \u001b[0m_run_search\u001b[0m\u001b[0;34m(\u001b[0m\u001b[0mself\u001b[0m\u001b[0;34m,\u001b[0m \u001b[0mevaluate_candidates\u001b[0m\u001b[0;34m)\u001b[0m\u001b[0;34m:\u001b[0m\u001b[0;34m\u001b[0m\u001b[0;34m\u001b[0m\u001b[0m\n\u001b[1;32m   1387\u001b[0m         \u001b[0;34m\"\"\"Search all candidates in param_grid\"\"\"\u001b[0m\u001b[0;34m\u001b[0m\u001b[0;34m\u001b[0m\u001b[0m\n\u001b[0;32m-> 1388\u001b[0;31m         \u001b[0mevaluate_candidates\u001b[0m\u001b[0;34m(\u001b[0m\u001b[0mParameterGrid\u001b[0m\u001b[0;34m(\u001b[0m\u001b[0mself\u001b[0m\u001b[0;34m.\u001b[0m\u001b[0mparam_grid\u001b[0m\u001b[0;34m)\u001b[0m\u001b[0;34m)\u001b[0m\u001b[0;34m\u001b[0m\u001b[0;34m\u001b[0m\u001b[0m\n\u001b[0m\u001b[1;32m   1389\u001b[0m \u001b[0;34m\u001b[0m\u001b[0m\n\u001b[1;32m   1390\u001b[0m \u001b[0;34m\u001b[0m\u001b[0m\n",
            "\u001b[0;32m/usr/local/lib/python3.10/dist-packages/sklearn/model_selection/_search.py\u001b[0m in \u001b[0;36mevaluate_candidates\u001b[0;34m(candidate_params, cv, more_results)\u001b[0m\n\u001b[1;32m    819\u001b[0m                     )\n\u001b[1;32m    820\u001b[0m \u001b[0;34m\u001b[0m\u001b[0m\n\u001b[0;32m--> 821\u001b[0;31m                 out = parallel(\n\u001b[0m\u001b[1;32m    822\u001b[0m                     delayed(_fit_and_score)(\n\u001b[1;32m    823\u001b[0m                         \u001b[0mclone\u001b[0m\u001b[0;34m(\u001b[0m\u001b[0mbase_estimator\u001b[0m\u001b[0;34m)\u001b[0m\u001b[0;34m,\u001b[0m\u001b[0;34m\u001b[0m\u001b[0;34m\u001b[0m\u001b[0m\n",
            "\u001b[0;32m/usr/local/lib/python3.10/dist-packages/sklearn/utils/parallel.py\u001b[0m in \u001b[0;36m__call__\u001b[0;34m(self, iterable)\u001b[0m\n\u001b[1;32m     61\u001b[0m             \u001b[0;32mfor\u001b[0m \u001b[0mdelayed_func\u001b[0m\u001b[0;34m,\u001b[0m \u001b[0margs\u001b[0m\u001b[0;34m,\u001b[0m \u001b[0mkwargs\u001b[0m \u001b[0;32min\u001b[0m \u001b[0miterable\u001b[0m\u001b[0;34m\u001b[0m\u001b[0;34m\u001b[0m\u001b[0m\n\u001b[1;32m     62\u001b[0m         )\n\u001b[0;32m---> 63\u001b[0;31m         \u001b[0;32mreturn\u001b[0m \u001b[0msuper\u001b[0m\u001b[0;34m(\u001b[0m\u001b[0;34m)\u001b[0m\u001b[0;34m.\u001b[0m\u001b[0m__call__\u001b[0m\u001b[0;34m(\u001b[0m\u001b[0miterable_with_config\u001b[0m\u001b[0;34m)\u001b[0m\u001b[0;34m\u001b[0m\u001b[0;34m\u001b[0m\u001b[0m\n\u001b[0m\u001b[1;32m     64\u001b[0m \u001b[0;34m\u001b[0m\u001b[0m\n\u001b[1;32m     65\u001b[0m \u001b[0;34m\u001b[0m\u001b[0m\n",
            "\u001b[0;32m/usr/local/lib/python3.10/dist-packages/joblib/parallel.py\u001b[0m in \u001b[0;36m__call__\u001b[0;34m(self, iterable)\u001b[0m\n\u001b[1;32m   1861\u001b[0m             \u001b[0moutput\u001b[0m \u001b[0;34m=\u001b[0m \u001b[0mself\u001b[0m\u001b[0;34m.\u001b[0m\u001b[0m_get_sequential_output\u001b[0m\u001b[0;34m(\u001b[0m\u001b[0miterable\u001b[0m\u001b[0;34m)\u001b[0m\u001b[0;34m\u001b[0m\u001b[0;34m\u001b[0m\u001b[0m\n\u001b[1;32m   1862\u001b[0m             \u001b[0mnext\u001b[0m\u001b[0;34m(\u001b[0m\u001b[0moutput\u001b[0m\u001b[0;34m)\u001b[0m\u001b[0;34m\u001b[0m\u001b[0;34m\u001b[0m\u001b[0m\n\u001b[0;32m-> 1863\u001b[0;31m             \u001b[0;32mreturn\u001b[0m \u001b[0moutput\u001b[0m \u001b[0;32mif\u001b[0m \u001b[0mself\u001b[0m\u001b[0;34m.\u001b[0m\u001b[0mreturn_generator\u001b[0m \u001b[0;32melse\u001b[0m \u001b[0mlist\u001b[0m\u001b[0;34m(\u001b[0m\u001b[0moutput\u001b[0m\u001b[0;34m)\u001b[0m\u001b[0;34m\u001b[0m\u001b[0;34m\u001b[0m\u001b[0m\n\u001b[0m\u001b[1;32m   1864\u001b[0m \u001b[0;34m\u001b[0m\u001b[0m\n\u001b[1;32m   1865\u001b[0m         \u001b[0;31m# Let's create an ID that uniquely identifies the current call. If the\u001b[0m\u001b[0;34m\u001b[0m\u001b[0;34m\u001b[0m\u001b[0m\n",
            "\u001b[0;32m/usr/local/lib/python3.10/dist-packages/joblib/parallel.py\u001b[0m in \u001b[0;36m_get_sequential_output\u001b[0;34m(self, iterable)\u001b[0m\n\u001b[1;32m   1790\u001b[0m                 \u001b[0mself\u001b[0m\u001b[0;34m.\u001b[0m\u001b[0mn_dispatched_batches\u001b[0m \u001b[0;34m+=\u001b[0m \u001b[0;36m1\u001b[0m\u001b[0;34m\u001b[0m\u001b[0;34m\u001b[0m\u001b[0m\n\u001b[1;32m   1791\u001b[0m                 \u001b[0mself\u001b[0m\u001b[0;34m.\u001b[0m\u001b[0mn_dispatched_tasks\u001b[0m \u001b[0;34m+=\u001b[0m \u001b[0;36m1\u001b[0m\u001b[0;34m\u001b[0m\u001b[0;34m\u001b[0m\u001b[0m\n\u001b[0;32m-> 1792\u001b[0;31m                 \u001b[0mres\u001b[0m \u001b[0;34m=\u001b[0m \u001b[0mfunc\u001b[0m\u001b[0;34m(\u001b[0m\u001b[0;34m*\u001b[0m\u001b[0margs\u001b[0m\u001b[0;34m,\u001b[0m \u001b[0;34m**\u001b[0m\u001b[0mkwargs\u001b[0m\u001b[0;34m)\u001b[0m\u001b[0;34m\u001b[0m\u001b[0;34m\u001b[0m\u001b[0m\n\u001b[0m\u001b[1;32m   1793\u001b[0m                 \u001b[0mself\u001b[0m\u001b[0;34m.\u001b[0m\u001b[0mn_completed_tasks\u001b[0m \u001b[0;34m+=\u001b[0m \u001b[0;36m1\u001b[0m\u001b[0;34m\u001b[0m\u001b[0;34m\u001b[0m\u001b[0m\n\u001b[1;32m   1794\u001b[0m                 \u001b[0mself\u001b[0m\u001b[0;34m.\u001b[0m\u001b[0mprint_progress\u001b[0m\u001b[0;34m(\u001b[0m\u001b[0;34m)\u001b[0m\u001b[0;34m\u001b[0m\u001b[0;34m\u001b[0m\u001b[0m\n",
            "\u001b[0;32m/usr/local/lib/python3.10/dist-packages/sklearn/utils/parallel.py\u001b[0m in \u001b[0;36m__call__\u001b[0;34m(self, *args, **kwargs)\u001b[0m\n\u001b[1;32m    121\u001b[0m             \u001b[0mconfig\u001b[0m \u001b[0;34m=\u001b[0m \u001b[0;34m{\u001b[0m\u001b[0;34m}\u001b[0m\u001b[0;34m\u001b[0m\u001b[0;34m\u001b[0m\u001b[0m\n\u001b[1;32m    122\u001b[0m         \u001b[0;32mwith\u001b[0m \u001b[0mconfig_context\u001b[0m\u001b[0;34m(\u001b[0m\u001b[0;34m**\u001b[0m\u001b[0mconfig\u001b[0m\u001b[0;34m)\u001b[0m\u001b[0;34m:\u001b[0m\u001b[0;34m\u001b[0m\u001b[0;34m\u001b[0m\u001b[0m\n\u001b[0;32m--> 123\u001b[0;31m             \u001b[0;32mreturn\u001b[0m \u001b[0mself\u001b[0m\u001b[0;34m.\u001b[0m\u001b[0mfunction\u001b[0m\u001b[0;34m(\u001b[0m\u001b[0;34m*\u001b[0m\u001b[0margs\u001b[0m\u001b[0;34m,\u001b[0m \u001b[0;34m**\u001b[0m\u001b[0mkwargs\u001b[0m\u001b[0;34m)\u001b[0m\u001b[0;34m\u001b[0m\u001b[0;34m\u001b[0m\u001b[0m\n\u001b[0m",
            "\u001b[0;32m/usr/local/lib/python3.10/dist-packages/sklearn/model_selection/_validation.py\u001b[0m in \u001b[0;36m_fit_and_score\u001b[0;34m(estimator, X, y, scorer, train, test, verbose, parameters, fit_params, return_train_score, return_parameters, return_n_test_samples, return_times, return_estimator, split_progress, candidate_progress, error_score)\u001b[0m\n\u001b[1;32m    684\u001b[0m             \u001b[0mestimator\u001b[0m\u001b[0;34m.\u001b[0m\u001b[0mfit\u001b[0m\u001b[0;34m(\u001b[0m\u001b[0mX_train\u001b[0m\u001b[0;34m,\u001b[0m \u001b[0;34m**\u001b[0m\u001b[0mfit_params\u001b[0m\u001b[0;34m)\u001b[0m\u001b[0;34m\u001b[0m\u001b[0;34m\u001b[0m\u001b[0m\n\u001b[1;32m    685\u001b[0m         \u001b[0;32melse\u001b[0m\u001b[0;34m:\u001b[0m\u001b[0;34m\u001b[0m\u001b[0;34m\u001b[0m\u001b[0m\n\u001b[0;32m--> 686\u001b[0;31m             \u001b[0mestimator\u001b[0m\u001b[0;34m.\u001b[0m\u001b[0mfit\u001b[0m\u001b[0;34m(\u001b[0m\u001b[0mX_train\u001b[0m\u001b[0;34m,\u001b[0m \u001b[0my_train\u001b[0m\u001b[0;34m,\u001b[0m \u001b[0;34m**\u001b[0m\u001b[0mfit_params\u001b[0m\u001b[0;34m)\u001b[0m\u001b[0;34m\u001b[0m\u001b[0;34m\u001b[0m\u001b[0m\n\u001b[0m\u001b[1;32m    687\u001b[0m \u001b[0;34m\u001b[0m\u001b[0m\n\u001b[1;32m    688\u001b[0m     \u001b[0;32mexcept\u001b[0m \u001b[0mException\u001b[0m\u001b[0;34m:\u001b[0m\u001b[0;34m\u001b[0m\u001b[0;34m\u001b[0m\u001b[0m\n",
            "\u001b[0;32m/usr/local/lib/python3.10/dist-packages/sklearn/ensemble/_forest.py\u001b[0m in \u001b[0;36mfit\u001b[0;34m(self, X, y, sample_weight)\u001b[0m\n\u001b[1;32m    471\u001b[0m             \u001b[0;31m# parallel_backend contexts set at a higher level,\u001b[0m\u001b[0;34m\u001b[0m\u001b[0;34m\u001b[0m\u001b[0m\n\u001b[1;32m    472\u001b[0m             \u001b[0;31m# since correctness does not rely on using threads.\u001b[0m\u001b[0;34m\u001b[0m\u001b[0;34m\u001b[0m\u001b[0m\n\u001b[0;32m--> 473\u001b[0;31m             trees = Parallel(\n\u001b[0m\u001b[1;32m    474\u001b[0m                 \u001b[0mn_jobs\u001b[0m\u001b[0;34m=\u001b[0m\u001b[0mself\u001b[0m\u001b[0;34m.\u001b[0m\u001b[0mn_jobs\u001b[0m\u001b[0;34m,\u001b[0m\u001b[0;34m\u001b[0m\u001b[0;34m\u001b[0m\u001b[0m\n\u001b[1;32m    475\u001b[0m                 \u001b[0mverbose\u001b[0m\u001b[0;34m=\u001b[0m\u001b[0mself\u001b[0m\u001b[0;34m.\u001b[0m\u001b[0mverbose\u001b[0m\u001b[0;34m,\u001b[0m\u001b[0;34m\u001b[0m\u001b[0;34m\u001b[0m\u001b[0m\n",
            "\u001b[0;32m/usr/local/lib/python3.10/dist-packages/sklearn/utils/parallel.py\u001b[0m in \u001b[0;36m__call__\u001b[0;34m(self, iterable)\u001b[0m\n\u001b[1;32m     61\u001b[0m             \u001b[0;32mfor\u001b[0m \u001b[0mdelayed_func\u001b[0m\u001b[0;34m,\u001b[0m \u001b[0margs\u001b[0m\u001b[0;34m,\u001b[0m \u001b[0mkwargs\u001b[0m \u001b[0;32min\u001b[0m \u001b[0miterable\u001b[0m\u001b[0;34m\u001b[0m\u001b[0;34m\u001b[0m\u001b[0m\n\u001b[1;32m     62\u001b[0m         )\n\u001b[0;32m---> 63\u001b[0;31m         \u001b[0;32mreturn\u001b[0m \u001b[0msuper\u001b[0m\u001b[0;34m(\u001b[0m\u001b[0;34m)\u001b[0m\u001b[0;34m.\u001b[0m\u001b[0m__call__\u001b[0m\u001b[0;34m(\u001b[0m\u001b[0miterable_with_config\u001b[0m\u001b[0;34m)\u001b[0m\u001b[0;34m\u001b[0m\u001b[0;34m\u001b[0m\u001b[0m\n\u001b[0m\u001b[1;32m     64\u001b[0m \u001b[0;34m\u001b[0m\u001b[0m\n\u001b[1;32m     65\u001b[0m \u001b[0;34m\u001b[0m\u001b[0m\n",
            "\u001b[0;32m/usr/local/lib/python3.10/dist-packages/joblib/parallel.py\u001b[0m in \u001b[0;36m__call__\u001b[0;34m(self, iterable)\u001b[0m\n\u001b[1;32m   1861\u001b[0m             \u001b[0moutput\u001b[0m \u001b[0;34m=\u001b[0m \u001b[0mself\u001b[0m\u001b[0;34m.\u001b[0m\u001b[0m_get_sequential_output\u001b[0m\u001b[0;34m(\u001b[0m\u001b[0miterable\u001b[0m\u001b[0;34m)\u001b[0m\u001b[0;34m\u001b[0m\u001b[0;34m\u001b[0m\u001b[0m\n\u001b[1;32m   1862\u001b[0m             \u001b[0mnext\u001b[0m\u001b[0;34m(\u001b[0m\u001b[0moutput\u001b[0m\u001b[0;34m)\u001b[0m\u001b[0;34m\u001b[0m\u001b[0;34m\u001b[0m\u001b[0m\n\u001b[0;32m-> 1863\u001b[0;31m             \u001b[0;32mreturn\u001b[0m \u001b[0moutput\u001b[0m \u001b[0;32mif\u001b[0m \u001b[0mself\u001b[0m\u001b[0;34m.\u001b[0m\u001b[0mreturn_generator\u001b[0m \u001b[0;32melse\u001b[0m \u001b[0mlist\u001b[0m\u001b[0;34m(\u001b[0m\u001b[0moutput\u001b[0m\u001b[0;34m)\u001b[0m\u001b[0;34m\u001b[0m\u001b[0;34m\u001b[0m\u001b[0m\n\u001b[0m\u001b[1;32m   1864\u001b[0m \u001b[0;34m\u001b[0m\u001b[0m\n\u001b[1;32m   1865\u001b[0m         \u001b[0;31m# Let's create an ID that uniquely identifies the current call. If the\u001b[0m\u001b[0;34m\u001b[0m\u001b[0;34m\u001b[0m\u001b[0m\n",
            "\u001b[0;32m/usr/local/lib/python3.10/dist-packages/joblib/parallel.py\u001b[0m in \u001b[0;36m_get_sequential_output\u001b[0;34m(self, iterable)\u001b[0m\n\u001b[1;32m   1790\u001b[0m                 \u001b[0mself\u001b[0m\u001b[0;34m.\u001b[0m\u001b[0mn_dispatched_batches\u001b[0m \u001b[0;34m+=\u001b[0m \u001b[0;36m1\u001b[0m\u001b[0;34m\u001b[0m\u001b[0;34m\u001b[0m\u001b[0m\n\u001b[1;32m   1791\u001b[0m                 \u001b[0mself\u001b[0m\u001b[0;34m.\u001b[0m\u001b[0mn_dispatched_tasks\u001b[0m \u001b[0;34m+=\u001b[0m \u001b[0;36m1\u001b[0m\u001b[0;34m\u001b[0m\u001b[0;34m\u001b[0m\u001b[0m\n\u001b[0;32m-> 1792\u001b[0;31m                 \u001b[0mres\u001b[0m \u001b[0;34m=\u001b[0m \u001b[0mfunc\u001b[0m\u001b[0;34m(\u001b[0m\u001b[0;34m*\u001b[0m\u001b[0margs\u001b[0m\u001b[0;34m,\u001b[0m \u001b[0;34m**\u001b[0m\u001b[0mkwargs\u001b[0m\u001b[0;34m)\u001b[0m\u001b[0;34m\u001b[0m\u001b[0;34m\u001b[0m\u001b[0m\n\u001b[0m\u001b[1;32m   1793\u001b[0m                 \u001b[0mself\u001b[0m\u001b[0;34m.\u001b[0m\u001b[0mn_completed_tasks\u001b[0m \u001b[0;34m+=\u001b[0m \u001b[0;36m1\u001b[0m\u001b[0;34m\u001b[0m\u001b[0;34m\u001b[0m\u001b[0m\n\u001b[1;32m   1794\u001b[0m                 \u001b[0mself\u001b[0m\u001b[0;34m.\u001b[0m\u001b[0mprint_progress\u001b[0m\u001b[0;34m(\u001b[0m\u001b[0;34m)\u001b[0m\u001b[0;34m\u001b[0m\u001b[0;34m\u001b[0m\u001b[0m\n",
            "\u001b[0;32m/usr/local/lib/python3.10/dist-packages/sklearn/utils/parallel.py\u001b[0m in \u001b[0;36m__call__\u001b[0;34m(self, *args, **kwargs)\u001b[0m\n\u001b[1;32m    121\u001b[0m             \u001b[0mconfig\u001b[0m \u001b[0;34m=\u001b[0m \u001b[0;34m{\u001b[0m\u001b[0;34m}\u001b[0m\u001b[0;34m\u001b[0m\u001b[0;34m\u001b[0m\u001b[0m\n\u001b[1;32m    122\u001b[0m         \u001b[0;32mwith\u001b[0m \u001b[0mconfig_context\u001b[0m\u001b[0;34m(\u001b[0m\u001b[0;34m**\u001b[0m\u001b[0mconfig\u001b[0m\u001b[0;34m)\u001b[0m\u001b[0;34m:\u001b[0m\u001b[0;34m\u001b[0m\u001b[0;34m\u001b[0m\u001b[0m\n\u001b[0;32m--> 123\u001b[0;31m             \u001b[0;32mreturn\u001b[0m \u001b[0mself\u001b[0m\u001b[0;34m.\u001b[0m\u001b[0mfunction\u001b[0m\u001b[0;34m(\u001b[0m\u001b[0;34m*\u001b[0m\u001b[0margs\u001b[0m\u001b[0;34m,\u001b[0m \u001b[0;34m**\u001b[0m\u001b[0mkwargs\u001b[0m\u001b[0;34m)\u001b[0m\u001b[0;34m\u001b[0m\u001b[0;34m\u001b[0m\u001b[0m\n\u001b[0m",
            "\u001b[0;32m/usr/local/lib/python3.10/dist-packages/sklearn/ensemble/_forest.py\u001b[0m in \u001b[0;36m_parallel_build_trees\u001b[0;34m(tree, bootstrap, X, y, sample_weight, tree_idx, n_trees, verbose, class_weight, n_samples_bootstrap)\u001b[0m\n\u001b[1;32m    182\u001b[0m             \u001b[0mcurr_sample_weight\u001b[0m \u001b[0;34m*=\u001b[0m \u001b[0mcompute_sample_weight\u001b[0m\u001b[0;34m(\u001b[0m\u001b[0;34m\"balanced\"\u001b[0m\u001b[0;34m,\u001b[0m \u001b[0my\u001b[0m\u001b[0;34m,\u001b[0m \u001b[0mindices\u001b[0m\u001b[0;34m=\u001b[0m\u001b[0mindices\u001b[0m\u001b[0;34m)\u001b[0m\u001b[0;34m\u001b[0m\u001b[0;34m\u001b[0m\u001b[0m\n\u001b[1;32m    183\u001b[0m \u001b[0;34m\u001b[0m\u001b[0m\n\u001b[0;32m--> 184\u001b[0;31m         \u001b[0mtree\u001b[0m\u001b[0;34m.\u001b[0m\u001b[0mfit\u001b[0m\u001b[0;34m(\u001b[0m\u001b[0mX\u001b[0m\u001b[0;34m,\u001b[0m \u001b[0my\u001b[0m\u001b[0;34m,\u001b[0m \u001b[0msample_weight\u001b[0m\u001b[0;34m=\u001b[0m\u001b[0mcurr_sample_weight\u001b[0m\u001b[0;34m,\u001b[0m \u001b[0mcheck_input\u001b[0m\u001b[0;34m=\u001b[0m\u001b[0;32mFalse\u001b[0m\u001b[0;34m)\u001b[0m\u001b[0;34m\u001b[0m\u001b[0;34m\u001b[0m\u001b[0m\n\u001b[0m\u001b[1;32m    185\u001b[0m     \u001b[0;32melse\u001b[0m\u001b[0;34m:\u001b[0m\u001b[0;34m\u001b[0m\u001b[0;34m\u001b[0m\u001b[0m\n\u001b[1;32m    186\u001b[0m         \u001b[0mtree\u001b[0m\u001b[0;34m.\u001b[0m\u001b[0mfit\u001b[0m\u001b[0;34m(\u001b[0m\u001b[0mX\u001b[0m\u001b[0;34m,\u001b[0m \u001b[0my\u001b[0m\u001b[0;34m,\u001b[0m \u001b[0msample_weight\u001b[0m\u001b[0;34m=\u001b[0m\u001b[0msample_weight\u001b[0m\u001b[0;34m,\u001b[0m \u001b[0mcheck_input\u001b[0m\u001b[0;34m=\u001b[0m\u001b[0;32mFalse\u001b[0m\u001b[0;34m)\u001b[0m\u001b[0;34m\u001b[0m\u001b[0;34m\u001b[0m\u001b[0m\n",
            "\u001b[0;32m/usr/local/lib/python3.10/dist-packages/sklearn/tree/_classes.py\u001b[0m in \u001b[0;36mfit\u001b[0;34m(self, X, y, sample_weight, check_input)\u001b[0m\n\u001b[1;32m    887\u001b[0m         \"\"\"\n\u001b[1;32m    888\u001b[0m \u001b[0;34m\u001b[0m\u001b[0m\n\u001b[0;32m--> 889\u001b[0;31m         super().fit(\n\u001b[0m\u001b[1;32m    890\u001b[0m             \u001b[0mX\u001b[0m\u001b[0;34m,\u001b[0m\u001b[0;34m\u001b[0m\u001b[0;34m\u001b[0m\u001b[0m\n\u001b[1;32m    891\u001b[0m             \u001b[0my\u001b[0m\u001b[0;34m,\u001b[0m\u001b[0;34m\u001b[0m\u001b[0;34m\u001b[0m\u001b[0m\n",
            "\u001b[0;32m/usr/local/lib/python3.10/dist-packages/sklearn/tree/_classes.py\u001b[0m in \u001b[0;36mfit\u001b[0;34m(self, X, y, sample_weight, check_input)\u001b[0m\n\u001b[1;32m    222\u001b[0m \u001b[0;34m\u001b[0m\u001b[0m\n\u001b[1;32m    223\u001b[0m         \u001b[0;32mif\u001b[0m \u001b[0mis_classification\u001b[0m\u001b[0;34m:\u001b[0m\u001b[0;34m\u001b[0m\u001b[0;34m\u001b[0m\u001b[0m\n\u001b[0;32m--> 224\u001b[0;31m             \u001b[0mcheck_classification_targets\u001b[0m\u001b[0;34m(\u001b[0m\u001b[0my\u001b[0m\u001b[0;34m)\u001b[0m\u001b[0;34m\u001b[0m\u001b[0;34m\u001b[0m\u001b[0m\n\u001b[0m\u001b[1;32m    225\u001b[0m             \u001b[0my\u001b[0m \u001b[0;34m=\u001b[0m \u001b[0mnp\u001b[0m\u001b[0;34m.\u001b[0m\u001b[0mcopy\u001b[0m\u001b[0;34m(\u001b[0m\u001b[0my\u001b[0m\u001b[0;34m)\u001b[0m\u001b[0;34m\u001b[0m\u001b[0;34m\u001b[0m\u001b[0m\n\u001b[1;32m    226\u001b[0m \u001b[0;34m\u001b[0m\u001b[0m\n",
            "\u001b[0;32m/usr/local/lib/python3.10/dist-packages/sklearn/utils/multiclass.py\u001b[0m in \u001b[0;36mcheck_classification_targets\u001b[0;34m(y)\u001b[0m\n\u001b[1;32m    208\u001b[0m         \u001b[0mTarget\u001b[0m \u001b[0mvalues\u001b[0m\u001b[0;34m.\u001b[0m\u001b[0;34m\u001b[0m\u001b[0;34m\u001b[0m\u001b[0m\n\u001b[1;32m    209\u001b[0m     \"\"\"\n\u001b[0;32m--> 210\u001b[0;31m     \u001b[0my_type\u001b[0m \u001b[0;34m=\u001b[0m \u001b[0mtype_of_target\u001b[0m\u001b[0;34m(\u001b[0m\u001b[0my\u001b[0m\u001b[0;34m,\u001b[0m \u001b[0minput_name\u001b[0m\u001b[0;34m=\u001b[0m\u001b[0;34m\"y\"\u001b[0m\u001b[0;34m)\u001b[0m\u001b[0;34m\u001b[0m\u001b[0;34m\u001b[0m\u001b[0m\n\u001b[0m\u001b[1;32m    211\u001b[0m     if y_type not in [\n\u001b[1;32m    212\u001b[0m         \u001b[0;34m\"binary\"\u001b[0m\u001b[0;34m,\u001b[0m\u001b[0;34m\u001b[0m\u001b[0;34m\u001b[0m\u001b[0m\n",
            "\u001b[0;32m/usr/local/lib/python3.10/dist-packages/sklearn/utils/multiclass.py\u001b[0m in \u001b[0;36mtype_of_target\u001b[0;34m(y, input_name)\u001b[0m\n\u001b[1;32m    378\u001b[0m         \u001b[0;31m# [.1, .2, 3] or [[.1, .2, 3]] or [[1., .2]] and not [1., 2., 3.]\u001b[0m\u001b[0;34m\u001b[0m\u001b[0;34m\u001b[0m\u001b[0m\n\u001b[1;32m    379\u001b[0m         \u001b[0mdata\u001b[0m \u001b[0;34m=\u001b[0m \u001b[0my\u001b[0m\u001b[0;34m.\u001b[0m\u001b[0mdata\u001b[0m \u001b[0;32mif\u001b[0m \u001b[0missparse\u001b[0m\u001b[0;34m(\u001b[0m\u001b[0my\u001b[0m\u001b[0;34m)\u001b[0m \u001b[0;32melse\u001b[0m \u001b[0my\u001b[0m\u001b[0;34m\u001b[0m\u001b[0;34m\u001b[0m\u001b[0m\n\u001b[0;32m--> 380\u001b[0;31m         \u001b[0;32mif\u001b[0m \u001b[0mxp\u001b[0m\u001b[0;34m.\u001b[0m\u001b[0many\u001b[0m\u001b[0;34m(\u001b[0m\u001b[0mdata\u001b[0m \u001b[0;34m!=\u001b[0m \u001b[0mdata\u001b[0m\u001b[0;34m.\u001b[0m\u001b[0mastype\u001b[0m\u001b[0;34m(\u001b[0m\u001b[0mint\u001b[0m\u001b[0;34m)\u001b[0m\u001b[0;34m)\u001b[0m\u001b[0;34m:\u001b[0m\u001b[0;34m\u001b[0m\u001b[0;34m\u001b[0m\u001b[0m\n\u001b[0m\u001b[1;32m    381\u001b[0m             \u001b[0m_assert_all_finite\u001b[0m\u001b[0;34m(\u001b[0m\u001b[0mdata\u001b[0m\u001b[0;34m,\u001b[0m \u001b[0minput_name\u001b[0m\u001b[0;34m=\u001b[0m\u001b[0minput_name\u001b[0m\u001b[0;34m)\u001b[0m\u001b[0;34m\u001b[0m\u001b[0;34m\u001b[0m\u001b[0m\n\u001b[1;32m    382\u001b[0m             \u001b[0;32mreturn\u001b[0m \u001b[0;34m\"continuous\"\u001b[0m \u001b[0;34m+\u001b[0m \u001b[0msuffix\u001b[0m\u001b[0;34m\u001b[0m\u001b[0;34m\u001b[0m\u001b[0m\n",
            "\u001b[0;32m/usr/local/lib/python3.10/dist-packages/numpy/core/overrides.py\u001b[0m in \u001b[0;36many\u001b[0;34m(*args, **kwargs)\u001b[0m\n",
            "\u001b[0;31mKeyboardInterrupt\u001b[0m: "
          ]
        }
      ]
    }
  ]
}